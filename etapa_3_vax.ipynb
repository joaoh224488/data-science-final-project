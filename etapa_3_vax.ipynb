{
 "cells": [
  {
   "cell_type": "markdown",
   "metadata": {},
   "source": [
    "# Visualização dos dados de vacinação"
   ]
  },
  {
   "cell_type": "markdown",
   "metadata": {},
   "source": [
    "## Tratamento dos Dados"
   ]
  },
  {
   "cell_type": "code",
<<<<<<< HEAD
   "execution_count": 261,
=======
   "execution_count": 2,
>>>>>>> b91ef1a6e2f04508d5f64b4ee47ea0bfc6500d00
   "metadata": {},
   "outputs": [],
   "source": [
    "import pandas as pd\n",
    "import seaborn as sns\n",
    "import plotly.graph_objects as go\n",
    "import plotly.express as px\n",
    "import fix_vaxs\n",
    "from matplotlib import pyplot as plt\n",
    "custom_params = {\"axes.spines.right\": False, \"axes.spines.top\": False}\n",
    "sns.set_theme(style = \"ticks\", rc = custom_params)\n",
    "\n",
    "import plotly.io as pio\n",
    "pio.renderers.default = \"vscode\""
   ]
  },
  {
   "cell_type": "code",
<<<<<<< HEAD
   "execution_count": 262,
=======
   "execution_count": 3,
>>>>>>> b91ef1a6e2f04508d5f64b4ee47ea0bfc6500d00
   "metadata": {},
   "outputs": [],
   "source": [
    "vax_df = pd.read_csv(\"datasets/dados_vacinacao.csv\")\n",
    "casos_df = pd.read_csv('datasets/dados_pb.csv')"
   ]
  },
  {
   "cell_type": "markdown",
   "metadata": {},
   "source": [
    "Renomearemos as categorias de vacina e a descrição do tipo de dose para facilitar a leitura e remoção de duplicidade de códigos para o mesmo fabricante e mesmo tipo de dose. "
   ]
  },
  {
   "cell_type": "code",
<<<<<<< HEAD
   "execution_count": 263,
=======
   "execution_count": 4,
>>>>>>> b91ef1a6e2f04508d5f64b4ee47ea0bfc6500d00
   "metadata": {},
   "outputs": [],
   "source": [
    "fix_vaxs.rename_vax(vax_df)\n",
    "fix_vaxs.rename_doses(vax_df)\n",
    "fix_vaxs.update_vax_code(vax_df)"
   ]
  },
  {
   "cell_type": "code",
<<<<<<< HEAD
   "execution_count": 264,
=======
   "execution_count": 5,
>>>>>>> b91ef1a6e2f04508d5f64b4ee47ea0bfc6500d00
   "metadata": {},
   "outputs": [
    {
     "data": {
      "text/html": [
       "<div>\n",
       "<style scoped>\n",
       "    .dataframe tbody tr th:only-of-type {\n",
       "        vertical-align: middle;\n",
       "    }\n",
       "\n",
       "    .dataframe tbody tr th {\n",
       "        vertical-align: top;\n",
       "    }\n",
       "\n",
       "    .dataframe thead th {\n",
       "        text-align: right;\n",
       "    }\n",
       "</style>\n",
       "<table border=\"1\" class=\"dataframe\">\n",
       "  <thead>\n",
       "    <tr style=\"text-align: right;\">\n",
       "      <th></th>\n",
       "      <th>paciente_idade</th>\n",
       "      <th>paciente_dataNascimento</th>\n",
       "      <th>paciente_enumSexoBiologico</th>\n",
       "      <th>paciente_racaCor_codigo</th>\n",
       "      <th>paciente_racaCor_valor</th>\n",
       "      <th>paciente_endereco_nmMunicipio</th>\n",
       "      <th>paciente_endereco_cep</th>\n",
       "      <th>estabelecimento_municipio_nome</th>\n",
       "      <th>vacina_grupoAtendimento_codigo</th>\n",
       "      <th>vacina_grupoAtendimento_nome</th>\n",
       "      <th>vacina_categoria_codigo</th>\n",
       "      <th>vacina_categoria_nome</th>\n",
       "      <th>vacina_dataAplicacao</th>\n",
       "      <th>vacina_descricao_dose</th>\n",
       "      <th>vacina_codigo</th>\n",
       "      <th>vacina_nome</th>\n",
       "      <th>paciente_id</th>\n",
       "    </tr>\n",
       "  </thead>\n",
       "  <tbody>\n",
       "    <tr>\n",
       "      <th>0</th>\n",
       "      <td>44</td>\n",
       "      <td>1977-04-18</td>\n",
       "      <td>M</td>\n",
       "      <td>1</td>\n",
       "      <td>BRANCA</td>\n",
       "      <td>ARAPIRACA</td>\n",
       "      <td>57510</td>\n",
       "      <td>PATOS</td>\n",
       "      <td>912</td>\n",
       "      <td>Médico</td>\n",
       "      <td>9</td>\n",
       "      <td>Trabalhadores de Saúde</td>\n",
       "      <td>2021-11-11</td>\n",
       "      <td>Reforço</td>\n",
       "      <td>87</td>\n",
       "      <td>PFIZER</td>\n",
       "      <td>f9495cb04daf5adb495d22c9c88b31883f191fb762ab27...</td>\n",
       "    </tr>\n",
       "    <tr>\n",
       "      <th>1</th>\n",
       "      <td>5</td>\n",
       "      <td>2016-11-18</td>\n",
       "      <td>M</td>\n",
       "      <td>1</td>\n",
       "      <td>BRANCA</td>\n",
       "      <td>PARELHAS</td>\n",
       "      <td>None</td>\n",
       "      <td>CAMPINA GRANDE</td>\n",
       "      <td>207</td>\n",
       "      <td>Pessoas de 5 a 11 anos</td>\n",
       "      <td>0</td>\n",
       "      <td>NaN</td>\n",
       "      <td>2022-02-07</td>\n",
       "      <td>1ª Dose</td>\n",
       "      <td>99</td>\n",
       "      <td>PFIZER PEDIÁTRICA</td>\n",
       "      <td>52288faace8c986872faca7101868ae8a23fefd435cd51...</td>\n",
       "    </tr>\n",
       "    <tr>\n",
       "      <th>2</th>\n",
       "      <td>39</td>\n",
       "      <td>1982-01-23</td>\n",
       "      <td>F</td>\n",
       "      <td>99</td>\n",
       "      <td>SEM INFORMACAO</td>\n",
       "      <td>CAMPINA GRANDE</td>\n",
       "      <td>58410</td>\n",
       "      <td>CAMPINA GRANDE</td>\n",
       "      <td>201</td>\n",
       "      <td>Pessoas de 18 a 64 anos</td>\n",
       "      <td>2</td>\n",
       "      <td>Faixa Etária</td>\n",
       "      <td>2021-07-16</td>\n",
       "      <td>1ª Dose</td>\n",
       "      <td>85</td>\n",
       "      <td>ASTRAZENECA</td>\n",
       "      <td>0ffaed327aac7fe8abf0b35471b0b1fa60f9fc48ff7d9c...</td>\n",
       "    </tr>\n",
       "    <tr>\n",
       "      <th>3</th>\n",
       "      <td>33</td>\n",
       "      <td>1988-07-20</td>\n",
       "      <td>M</td>\n",
       "      <td>2</td>\n",
       "      <td>PRETA</td>\n",
       "      <td>BAYEUX</td>\n",
       "      <td>58110</td>\n",
       "      <td>BAYEUX</td>\n",
       "      <td>201</td>\n",
       "      <td>Pessoas de 18 a 64 anos</td>\n",
       "      <td>2</td>\n",
       "      <td>Faixa Etária</td>\n",
       "      <td>2021-07-23</td>\n",
       "      <td>1ª Dose</td>\n",
       "      <td>85</td>\n",
       "      <td>ASTRAZENECA</td>\n",
       "      <td>fe78cee14dce3436024728b1d760439861021207a32712...</td>\n",
       "    </tr>\n",
       "    <tr>\n",
       "      <th>4</th>\n",
       "      <td>27</td>\n",
       "      <td>1994-03-22</td>\n",
       "      <td>M</td>\n",
       "      <td>3</td>\n",
       "      <td>PARDA</td>\n",
       "      <td>JOAO PESSOA</td>\n",
       "      <td>58058</td>\n",
       "      <td>JOAO PESSOA</td>\n",
       "      <td>201</td>\n",
       "      <td>Pessoas de 18 a 64 anos</td>\n",
       "      <td>2</td>\n",
       "      <td>Faixa Etária</td>\n",
       "      <td>2021-12-07</td>\n",
       "      <td>2ª Dose</td>\n",
       "      <td>87</td>\n",
       "      <td>PFIZER</td>\n",
       "      <td>470944c18359d6a1fea2a53194d29bfdb7ce1d21b47979...</td>\n",
       "    </tr>\n",
       "  </tbody>\n",
       "</table>\n",
       "</div>"
      ],
      "text/plain": [
       "   paciente_idade paciente_dataNascimento paciente_enumSexoBiologico  \\\n",
       "0              44              1977-04-18                          M   \n",
       "1               5              2016-11-18                          M   \n",
       "2              39              1982-01-23                          F   \n",
       "3              33              1988-07-20                          M   \n",
       "4              27              1994-03-22                          M   \n",
       "\n",
       "   paciente_racaCor_codigo paciente_racaCor_valor  \\\n",
       "0                        1                 BRANCA   \n",
       "1                        1                 BRANCA   \n",
       "2                       99         SEM INFORMACAO   \n",
       "3                        2                  PRETA   \n",
       "4                        3                  PARDA   \n",
       "\n",
       "  paciente_endereco_nmMunicipio paciente_endereco_cep  \\\n",
       "0                     ARAPIRACA                 57510   \n",
       "1                      PARELHAS                  None   \n",
       "2                CAMPINA GRANDE                 58410   \n",
       "3                        BAYEUX                 58110   \n",
       "4                   JOAO PESSOA                 58058   \n",
       "\n",
       "  estabelecimento_municipio_nome  vacina_grupoAtendimento_codigo  \\\n",
       "0                          PATOS                             912   \n",
       "1                 CAMPINA GRANDE                             207   \n",
       "2                 CAMPINA GRANDE                             201   \n",
       "3                         BAYEUX                             201   \n",
       "4                    JOAO PESSOA                             201   \n",
       "\n",
       "  vacina_grupoAtendimento_nome  vacina_categoria_codigo  \\\n",
       "0                       Médico                        9   \n",
       "1       Pessoas de 5 a 11 anos                        0   \n",
       "2      Pessoas de 18 a 64 anos                        2   \n",
       "3      Pessoas de 18 a 64 anos                        2   \n",
       "4      Pessoas de 18 a 64 anos                        2   \n",
       "\n",
       "    vacina_categoria_nome vacina_dataAplicacao vacina_descricao_dose  \\\n",
       "0  Trabalhadores de Saúde           2021-11-11               Reforço   \n",
       "1                     NaN           2022-02-07               1ª Dose   \n",
       "2            Faixa Etária           2021-07-16               1ª Dose   \n",
       "3            Faixa Etária           2021-07-23               1ª Dose   \n",
       "4            Faixa Etária           2021-12-07               2ª Dose   \n",
       "\n",
       "   vacina_codigo        vacina_nome  \\\n",
       "0             87             PFIZER   \n",
       "1             99  PFIZER PEDIÁTRICA   \n",
       "2             85        ASTRAZENECA   \n",
       "3             85        ASTRAZENECA   \n",
       "4             87             PFIZER   \n",
       "\n",
       "                                         paciente_id  \n",
       "0  f9495cb04daf5adb495d22c9c88b31883f191fb762ab27...  \n",
       "1  52288faace8c986872faca7101868ae8a23fefd435cd51...  \n",
       "2  0ffaed327aac7fe8abf0b35471b0b1fa60f9fc48ff7d9c...  \n",
       "3  fe78cee14dce3436024728b1d760439861021207a32712...  \n",
       "4  470944c18359d6a1fea2a53194d29bfdb7ce1d21b47979...  "
      ]
     },
<<<<<<< HEAD
     "execution_count": 264,
=======
     "execution_count": 5,
>>>>>>> b91ef1a6e2f04508d5f64b4ee47ea0bfc6500d00
     "metadata": {},
     "output_type": "execute_result"
    }
   ],
   "source": [
    "vax_df.head(5)"
   ]
  },
  {
   "cell_type": "markdown",
   "metadata": {},
   "source": [
    "## Visualização dos dados:"
   ]
  },
  {
   "cell_type": "markdown",
   "metadata": {},
   "source": [
    "### Vacinação por tipo de dose"
   ]
  },
  {
   "cell_type": "code",
<<<<<<< HEAD
   "execution_count": 265,
=======
   "execution_count": 6,
>>>>>>> b91ef1a6e2f04508d5f64b4ee47ea0bfc6500d00
   "metadata": {},
   "outputs": [
    {
     "data": {
      "image/png": "iVBORw0KGgoAAAANSUhEUgAABMAAAAGZCAYAAABv800OAAAAOXRFWHRTb2Z0d2FyZQBNYXRwbG90bGliIHZlcnNpb24zLjUuMSwgaHR0cHM6Ly9tYXRwbG90bGliLm9yZy/YYfK9AAAACXBIWXMAAAsTAAALEwEAmpwYAADYUElEQVR4nOzdd1QU19vA8S8gHXvvGmRRFBER7B17Q4zGir0j9pLYuyJi7yJ2jS32CvZeYyEgamxYsYE0afP+wWFeN4AuRKO/5PmcwznZO8/ceWZmd3P28d47eoqiKAghhBBCCCGEEEII8S+l/60TEEIIIYQQQgghhBDia5ICmBBCCCGEEEIIIYT4V5MCmBBCCCGEEEIIIYT4V5MCmBBCCCGEEEIIIYT4V5MCmBBCCCGEEEIIIYT4V5MCmBBCCCGEEEIIIYT4V5MCmBBCiP8Jf/zxB2PGjKFRo0aUK1eOqlWr0r59ezZv3kx0dPS3Tu+Tbty4wenTp9XXISEhWFtb069fv8/uGxgYiLW1NaNGjfrieVWoUIE6dep88X5T8zXP42vo1KkT1tbWhIeHA+m7Z/+Ut2/f0qlTJxwcHBg8eDBXrlxh0qRJNGvW7FunloKfnx/W1tYsWLDgW6eSYatXr8ba2podO3Z861S+GGtra1q0aPGt0/iu/ZPfk0IIIb4uKYAJIYT4riUmJjJ37lxcXV3Zs2cPlpaWdOzYkTp16hAaGsr48eNxcXHh3r173zrVVB0/fpyffvqJu3fvqm1ZsmTB3d2dJk2afMPMRHp8j/ds9erVBAYG0rJlS27dukX79u3ZsGEDrq6u3zo18T/C3d2dtm3bfus0hBBCiH9Epm+dgBBCCPEp8+fPZ8mSJdjb2zN37lzy5cunbktISGDdunXMnDmT9u3bs2/fPnLlyvUNs03pzZs3JCYmarVlyZKFAQMGfKOMREZ8j/esQYMGODs7Y2try+jRo7l16xaGhoaULFnyW6cm/kd8b+9pIYQQ4muSEWBCCCG+W0FBQSxfvpzChQuzcuVKreIXgIGBAV26dMHDw4N3794xefLkb5SpEP88GxsbbG1tAdDT08PW1laKX0IIIYQQaZACmBBCiO/Wli1bSEhIoE+fPlhYWKQZ1717d3LmzMmRI0d49eoV8Ok1mxYsWIC1tTV+fn5a7ceOHaNHjx5UqlSJ0qVLU6lSJfr160dgYKBWXKdOnahTpw7Pnz9n6NChVKxYETs7Ozp06MCFCxfUuFGjRvHzzz8DMH36dKytrQkJCUkzt6CgIPr27YuTkxOOjo78/PPPvHv3LtVzfvLkCePHj1dHANnb2+Pq6sqmTZtSxL5584aJEydSvXp17Ozs6NKlC7dv307zeh44cIC2bdtib29P+fLl6dy5M+fPn08z/q/Scx6xsbEsW7aMxo0bY2trS+XKlRk6dCiPHz/W+XjpuW81atTgyZMn9OnTB3t7e6pUqcLw4cN5+vTpJ4+R1j178+YN06ZNo06dOpQtW5YGDRowZ84cIiMjteKCg4MZPnw4NWvWpEyZMpQvX562bdty6NChFMeKiopi7ty5NGjQgLJly1K3bl0mT57MmzdvtOLev3+Pp6cnzs7OlClThipVqjB06FDu37+fok9FUdi0aRMtW7akbNmyODo60qdPH/74448UsadPn6Zz585UrlyZsmXL0qxZM5YtW0ZsbOwnr1Gyy5cv07lzZxwcHKhSpQozZswgJiYm1diIiAi8vLzUc6hevTrjx4/n9evXOh0L4NKlS/Tu3ZuKFSvi4OBA27ZtU3y2AXbu3EmnTp1wdHSkTJkyVKtWLc33mp+fHz/99BPlypWjZs2aLFmyJMVIzmRXrlzB3d2datWqUaZMGRwdHenatetnPzOvX7+mdOnS/PTTT6lu7969OzY2Nrx8+RKAuLg41qxZQ5s2bXBwcKBMmTLUrl2bcePGpXhv6Hpd/roGWPJ347179/D29qZWrVqUKVOGJk2apPndMnPmTBo1aoSdnR12dnY0adKEpUuXEh8f/8nzh/R/Jl++fMm4cePUz1HNmjUZN26ceo2SjRo1Cmtra27cuKF+t7Rt2xZFUdLMJT3fk4mJiWzcuBEXFxfKli2Lg4MDXbt25cyZMylib968Se/evalWrRq2trY0aNAALy8vIiIiUsSeO3eOrl274uDgQLly5fjpp584ePDg5y6jEEIIHckUSCGEEN8tf39/AGrXrv3JOCMjI2rWrMmOHTs4duwYrVu3Tvex1q9fz+TJkylSpAhNmzbF0NCQmzdv4u/vz/nz5zl48CB58uRR4yMjI2nfvj2mpqa4uLjw6tUr9u/fT/fu3fntt9+wsrLC2dmZ8PBw/P39qVatGuXKlSNLlizqwuofCwwMpEOHDsTGxtKgQQOyZMmCv78/p06dShEbEhLCjz/+SHR0NPXq1SN//vy8ePGCQ4cOMWHCBBISEujYsaOaZ8eOHbl37x6VK1dGo9Fw8eJFOnXqRExMDFmyZNHqe968eSxevJiCBQvSsmVL9PT0OHjwIF27dmXGjBmfXTA7PecRFxdHz549OX/+PGXLlqVjx468fv2aAwcOcPr0adatW4dGo/mi9y0mJgY3NzcyZcpE27ZtuXfvHrt37+bChQts3bqVvHnzfvJ4HwsNDeWnn37iyZMnVKxYkQYNGvDHH3+wdOlSrl+/zsqVK8mUKRM3btygU6dOGBkZUb9+fXLkyMHDhw/x9/fHw8ODpUuXqu/x6Oho2rVrR1BQELa2ttSqVYuHDx+yfv16Ll26xKZNmzA3N+ft27e0a9eO+/fvU65cOerWrcvjx4/Zv38/x48fZ9WqVdjZ2am5jhw5kl27dmFlZUXbtm2Jjo5WC53Lli2jcuXKQFLxqk+fPmTPnp3GjRtjbGzM2bNn8fb25uHDh0ybNu2T1+TkyZP069cPIyMjGjRogIGBAb/99ht79+5NEfv+/Xvat29PcHAwlStXpn79+oSEhLBlyxZOnTrF5s2bte5danbt2sXPP/+MiYkJdevWJXv27Bw6dIj+/fszbdo0WrVqBcDMmTNZtWoVJUuWVN/Xly5dYu/evVy5coWDBw9iYmICwNatWxkzZgw5c+akefPmREdHs3TpUjJnzpzi+H5+fnh4eJAjRw6cnZ0xNzfnzp07nDx5kosXL7Jt2zZKlSqVau45c+akSpUqnDp1iqdPn1KgQAF125s3bzh//jyVKlVSr8HQoUM5dOgQDg4OtGnThtjYWE6fPs2vv/5KQEAA27dvT/d1SUtyAap+/fpkypSJ3bt3M2HCBAwMDGjTpo16/9q0acOzZ8+oU6cOzs7OvHnzhiNHjjBnzhzCwsIYOXLkJ48Dun8mHz16RLt27Xj16hVVqlShUaNG3L59m19//ZWjR4+yadMmChcurNV33759sbW1pWrVqpiZmaGnp5dqDun5nkxMTGTw4MEcPHiQwoUL06pVK6KiovD396d79+6MHTuWDh06AHD//n26du2Kvr4+DRs2JEuWLFy7do0VK1Zw8+ZN1qxZo/a7detWxo4dS44cOWjcuDFmZmb4+/szcOBABg8eTJ8+fT57LYUQQnyGIoQQQnyHPnz4oFhbWysVKlTQKX7ZsmWKRqNRvL29FUVRlMePHysajUbp27dvitj58+crGo1GOXLkiHqs8uXLK/Xr11ciIyO1YsePH69oNBpl8+bNalvHjh3VvmNjY9X2JUuWKBqNRpk1a5batn37dkWj0Si+vr5qW2q5dejQQSlVqpRy9uxZte3169dK48aNFY1Go4wcOVJtHzt2rKLRaJQzZ85o5Xr9+nVFo9EoP/30k9o2b948RaPRKAsWLFDb4uLilCFDhigajUapXbu21v7W1tZKx44dlaioKLX9zZs3Sr169RQ7Ozvl9evXKa7nx9JzHitWrFA0Go3i6emp1ceNGzeU0qVLK61atfrksTJ631q1aqVER0er7T4+PilyS44NCwtTFCX1ezZ8+PAU91ZR/v/+HDp0SFEURenWrZtiY2Oj3L17Vytu3759ikajUYYMGaK2zZ07V9FoNMq0adOUxMREtT35Pbtu3TpFURTl559/VjQajTJnzhytPo8fP65YW1sr9evXV+Lj4xVFUZT9+/erx4mLi1NjHz16pDg5OSnVq1dXPnz4oCiKogwYMEDRaDTKo0eP1LjY2FilRYsWSqlSpZT3798raYmPj1fq1KmjlCtXTrl9+7ba/vDhQ6VKlSqKRqNR5s+fr7ZPmDBB0Wg0yvr167X68fPzUzQajeLh4ZHmsRRFUd69e6c4ODgolStXVv7880+1/fXr10q1atUUJycnJTY2Vnn+/LlSsmRJpUOHDuo1SdazZ09Fo9Eop06dUhRFUcLCwhQHBwelRo0ayrNnz9S4GzduKGXLllU0Go2yfft2tb1BgwaKk5OTEhoaqtXv8uXLFY1Go8yePfuT57B7925Fo9EoK1eu1GrfuHGjotFolB07diiKoijXrl1TNBqNMnToUK24uLg4pWnTpopGo1Gvga7XRVEURaPRKM2bN1djkt9ntWvX1vqsX7lyRdFoNErr1q3VtuTv3C1btmjl9PTpU6VMmTJK1apVP3nuipK+z6Sbm1uqx9uwYYOi0WgUNzc3tW3kyJGKRqNR3N3dP5uDoqTve/K3335TNBqN0q1bN63vnUePHilVq1ZVbGxs1M/PjBkzFI1Go5w7d07reL169VI0Go0SHBysKIqiPHv2TClTpozSqFEj5c2bN2pcdHS08tNPPyklS5bU+kwJIYTIGJkCKYQQ4rv07t07FEXBzMxMp/hs2bIB8Pbt23QfKyEhgcmTJzN16tQUx3NycgJIdUpWt27dMDQ0VF/XrFkTSJqemB4vXrzg0qVLVK9eXR2JA5AjRw769++fIr558+ZMmzaNKlWqaLWXLVsWExMTrVz37dtHlixZ6N27t9qWKVMmRo4cmWI0xLZt21AUhREjRmBqaqq2Z8+enZ49e6qjhr7UeWzbto0sWbIwePBgrXZbW1saNmzIzZs3uXPnTprHy+h9GzJkiDraB6Bz584ULFiQQ4cO6TzNLzY2liNHjlCsWDG6dOmita1379706dOH3LlzA9ClSxdmzZqFpaWlVlzFihVT5Lhv3z4sLCwYMmSI1v3p0qULPXv25IcffiA2NpZ9+/ZRsGBBPDw8tPqsWbMm9evX58GDB1y+fBlIus4Ao0ePJlOm/x/8X7hwYdq2bcuLFy84e/YsgDrN7+bNm2qcoaEhK1as4MKFC5+cinz9+nVCQkJo2bKl1si9IkWK0LlzZ63Y+Ph4du7ciZWVlTpaJlndunUpX748R44cSXWaWLITJ07w/v173NzcKF68uNqeI0cOfv75Z3r06EFUVBRGRkZ4enoyevRoDAwMtPpwdHQE/v8efNznx2sO2tra4uLiorVvYmIiQ4cOxdPTM8XDN1K7t6lxdnbGzMyM/fv3a7Xv378fExMT6tWrB0C+fPmYMWMGAwcO1IrLlCkTDg4OaZ7Dp67Lp7Rq1YocOXKor8uXL0+WLFm0vtuqVavGxIkTU1yX/PnzU7hw4VSnZablc5/JZ8+ecf78eSpUqJBihG/79u2xtbXl/PnzhISEaG2rX7++TsdPz/fkb7/9BsCECRO0vncKFy5M37591fc2pP55gqQp8efOncPKygqA3bt3Exsbi4eHB9mzZ1fjTExM8PDwIDExUT2uEEKIjJMpkEIIIb5L2bJlQ09PL8VaSmlJjjM3N0/3sUxNTWncuDGQNGXl3r17PHr0iDt37nDu3DmAVNf/KVasmNbr5OKArkWUZEFBQQCUKVMmxTZ7e/sUbRUqVKBChQq8e/eOwMBAHj16xP379/n999/58OEDCQkJQNLUogcPHuDk5KRVqAPIkycPhQoV0jqvgIAAAA4fPszx48e14p8/fw6QYl2tjJ5HZGQk9+/fJ3fu3CxZsiRFfPJaboGBgeqPxL/KyH3T09OjQoUKWm0GBgaULl2aw4cP8+jRI0qUKJHmOSZ79OgRUVFRlCtXLsW2ggULahX1qlevDiRNmQwKClLv15UrVwDU+xUdHc3Dhw9xdHTE2NhYq8/MmTMzbNgwAG7fvk1MTAzly5dHXz/lv2U6ODhw6NAhgoKCqFixIgEBARgbG7Nhw4YUscnrhQUGBlKrVi1at26Nn58fgwcPZt68eVSvXp0aNWpQqVIljIyMPnlNPnX/y5cvn+K4UVFRJCQksGDBghTxye/j27dvqwWetI6X2j1Ifl8ka9asGYmJiQQHB3Pv3j0eP37M7du3UxT+Pvce3rx5s/paX19fLVA9efKEO3fu8OjRI+7evauuBZjWumHJTE1NqVevHrt27eLx48cULlyYly9fcvnyZRo2bKh+p+TLl4+WLVsSHx9PQEAA9+/f59GjRwQGBqZ5Drpcl7R8XDhLZmFhoVWQtLGxwcbGhsjISK5fv87Dhw958OABN2/e5OHDh+r7+nN0+Uw+evQIIEVcsvLly3Pz5k2CgoIoVKiQ2v7xf6clvd+TQUFB5M2bN8V0S0B9rybfg5YtW7Jp0ya8vLxYv349NWrUoEaNGuqUzGS3bt0CktYA+2vRP7lYmdynEEKIjJMCmBBCiO+SkZERefLk4cWLF4SGhqqjadJy7949IGm0SUZcunSJ6dOnq0UgY2NjSpYsSenSpXn27Fmqiyf/tSCQPFIgtdhPSV4TLLXiXdasWVO0hYWFMX36dPbu3UtcXBx6enoULFiQSpUqaS1qHhYWlma/yX1/PGLu/fv3ACxfvjzNXJP7/LvnkfxDOjQ0lIULF2boeJD++5Y9e/ZUCznJI3iSr8HnJOf1qRFRyZ4+fcqUKVM4evQoiqKgr69PsWLFcHBw0Lpfydfvc30mX7vU1qQC1DWjkheef//+PfHx8Tpd55o1a7J27Vp8fHw4e/Ys69atY926dWTLlg13d3c6deqUZh/puf/JsX/++WeG77+u1wuSirqzZ8/mwYMHAJiZmVGmTBlKlizJ2bNn1ffJp84heZTpx27fvs2UKVO4ePEikDRaztLSkjJlyvDgwQOdvguaN2/Orl272L9/P7179+bAgQMkJibSrFkzrbjNmzezaNEidcH3LFmyYGdnh6WlJdevX09xDrpcl7Sk9hnR09PTOp8PHz7g7e3Nr7/+SnR0NAB58+bF0dGR7NmzExoaqtOxdPlMpvc9n+zjUWVpSe/3ZERERIoRf2nlUbJkSbZs2cLSpUs5ceIEW7ZsYcuWLZiZmeHm5sagQYPQ09NTv3c+LrCmlacQQoiMkwKYEEKI75azszMbNmzg6NGjKZ6U9uHDB3WUTHx8vLrIetWqVYH/L0alNgIj+cdasidPntCjRw9MTEyYPHkyDg4OFCtWDAMDA/bv35/qE+W+pOQFllMrvqQ2VWn48OGcOHGCtm3b0qJFCzQajfpjd8+ePWpcctEhraLOX/s2MzPDwMCA69evpxgJ8aXPI3n0Q4UKFVIdmaSLjNy3Dx8+pNpXctHg4+lHn5L8YzmtEYpRUVGYmZmhKAq9e/fm7t279O7dG2dnZ6ysrDAxMeHVq1ds3bpV3Sf5mnyuz+Rjv3jx4pPnklywSd7nr6P60uLk5ISTkxNRUVFcvnyZ48eP89tvvzFlyhSKFCmiTvX9q/Tc/+RzaNGiBZ6enjrl9Veful6xsbHo6+uTKVMmrl+/zsCBA8mXLx/e3t7Y2tpSuHBh9PT0WL58uTqCKr3nEBERQbdu3Xj//j0jR46kSpUq/PDDDxgZGXH9+vVUF/5PTeXKlcmdOzcHDhxQC2DZsmVTRw5C0pNZx48fj7W1NePHj6d06dLkz58fgPHjx3P9+vV0X5e/a8aMGWzcuJEGDRrQoUMHrK2t1fdco0aNdC6A6fKZTJ5Oqet7Pj3S+z1pbm6eZh7JRaqP8yhZsiRz584lNjaWa9eucfLkSXbs2MHSpUvJmzcv7du3V++Zn59fqiPLhBBCfBmyBpgQQojvVps2bciUKRPLli3TmnoTHx9PnTp1GDRoEE+ePGH9+vU8f/6c2rVrqyPAkgs4fy12ATx+/FjrtZ+fHzExMXh4eNCmTRssLS3VtYKSR5ald1RXsrSeOvYxGxsb9PT0uHr1aoptyVNjkoWHh3PixAnKlCnDxIkTKV++vFr8CgkJ4cOHD2quJiYmWFpa8scff6QYGREeHq5OK0pmbW1NQkJCqtMcf//9d7y8vNR1pf7ueWTOnJkCBQpw9+7dFLkB7Ny5kwULFqRY0+djGblvkZGR6raPXb9+nezZs+v847N48eIYGhpy48aNFNtevHiBvb09Y8eO5fbt2wQHB1OvXj0GDx6Mra2tOirlrzlmzpyZ/PnzExgYmGIa7YcPH6hcubK6DpixsTE3b95MdbrtpUuXANSpnNbW1jx//jzVgsTx48eZM2eOOr1qzZo1zJ07F0gqpNSoUYNx48Yxfvx4AHXaZmqSpw3qcv+LFy+OkZERAQEBqX62Vq9ezeLFiz+5pl/yOmOp3QMfHx/s7Oy4ePEi+/btIzExkfHjx9OkSROKFCmifi7//PNP4P/vQenSpdM8h7+u43T+/HlevXpFhw4d6NatGyVLllRHMqXne8PAwIAmTZoQGBjI1atX+f3332nYsKFWETq5mDZ79mycnZ3V4ldq56Drdfm79u7dS86cOZk3bx4VK1ZUiz4xMTE8ffpUK6dP0eUzmfwkzdTuCyS95/X09HSavvxX6f2eLFmyJO/fvyc4ODhFX8nfj8l57Ny5k8mTJ6MoCkZGRlSsWJHhw4er036TP0/W1tZAyvcYwIMHD5g5cyZHjx5N97kJIYTQJgUwIYQQ362SJUvSq1cvdaRP8jpUsbGxtG3bljNnztCsWTNmzZpFtmzZ+OWXX9R9c+bMSdasWblx44bWQtR//PFHipEwySPJktedShYUFMTatWuBpKJbRiSPtIiLi0szJnfu3FSvXp3z589z6NAhtT0iIiLF9DBDQ0P09fUJDw/XKn7ExMQwefLkFMdq2bIlUVFReHl5qT9GFUVh9uzZKc6pZcuWAEybNk2r4BgREcGECRNYsWLFJ9f1Sc95JB/v3bt3eHl5aY3Uu3v3LpMmTcLX1/eTIzoyet+8vLy0rt2qVat4/PgxLVu2TLFI+qeO3aBBA+7du8eWLVu0ti1duhRIGtmTXBD564Lg7969U0c+fZxj06ZNef/+PYsWLdKKX716NTExMVSpUgUjIyOaNGnCy5cvmT9/vlbcyZMnOXDgAEWLFlXX3WrZsiWKojB58mSt83758iXjx49n+fLl6ois06dPs3TpUn7//XetfpMXPy9QoECa18TW1pYSJUqwZ88erULFy5cvWbVqlVassbExjRs35u7du/j6+mptu3DhAp6enmzfvj3VKcDJkheQX7t2rdbi7O/evePXX3/F3NyccuXKpfk+OXfunFpYSr4HNWvWJEeOHKxbt05dHw2SClrJDxP4+Bwg5UL3T58+Vd/vun5vNG/eHICJEyeiKIr6+q/H+us57Ny5Uy1mJR9L1+vydxkbG/Phwwd19BUkrWc3depUtZD0qe+9j33uM1mgQAEqVqzIrVu32Lhxo9a+W7du5erVq1SsWFHrwQXpkZ7vSVdXVwCmTp2qNTrs8ePHLFq0CENDQ5o0aQIk/cPB+vXrUzw8JLmwn/x5at68OQYGBsydO1erUB0fH8/kyZNZtWoV7969y9C5CSGE+H8yBVIIIcR3LfkJWEuXLqVBgwbUqFGDYsWKERkZSdasWdXRXAUKFNAabWBgYECrVq1YtWoVrVu3pkGDBrx584aDBw9StmxZrZFMtWvXZvbs2Sxbtow///yTIkWK8PDhQ44dO6auOZPRHx958+YFYNOmTYSFhaW5htK4ceNo27YtgwYNwtnZmbx583Ls2LEUi5wnL5p96NAhWrduTdWqVYmKiuLYsWO8evWKrFmz8v79exITE9HX16dz584cPXqUdevWcevWLezs7Pj9998JDg4mZ86cWn1XqlSJTp06sW7dOpo0aULNmjUxMjLCz8+PZ8+e0bZtW/XpdmnR9TwAevXqxenTp1m3bh1XrlzBycmJ8PBwDh48SHR0NF5eXp9cxyij9+3SpUu0atWKypUrc+/ePU6fPo2VlVWqT6r8lBEjRnDlyhXGjh3L4cOHsbKy4ubNm1y6dAlnZ2caN25MYmIiZcuW5dKlS7Rv357y5cvz9u1b/Pz8iI2NxdTUVGuUU58+fThx4gRLly7l0qVL2NnZcffuXU6ePEm5cuXo2LEjkDQN9urVq6xYsYJLly5hb2/P48ePOXr0KObm5syaNUsd5eTq6srRo0c5dOgQt2/fpnr16sTHx3PgwAHevXvH0KFD1ZFvAwYM4MKFC7i5udGwYUPy5s3L3bt3OXbsGJaWlikKMx/T09Nj2rRpdOnShc6dO9OgQQMsLCw4cuRIqk9zHTlyJNeuXWPmzJn4+/tTtmxZXrx4weHDh8mUKRPTpk1L9X2TLFu2bIwbN46ff/6Zli1bUrduXczNzTl48KC6tpyRkRGNGzfG19eXiRMncunSJXLnzs3t27c5ffo02bNn5/Xr1+r7xNzcnMmTJzNw4ED1ewPg4MGD5MiRQ6vY4+DgQMGCBdm1axdv376lZMmSPHv2DH9/f4yNjdHT09P5e6N06dJYWloSFBREwYIFUzw0oHnz5uzbtw93d3eaNGmChYUFN2/e5OLFi+TMmVPrHHS9Ln9Xs2bNWLVqFa1atcLZ2Zn4+HhOnz7N/fv3yZEjB2/evOHdu3fqulifostnctKkSXTo0IGJEydy5MgRrK2tCQ4O5syZM+TJk0f9B4CMSM/3ZIsWLdTPU/PmzalRowZRUVH4+/sTERHBmDFj1JHIPXr04MCBAwwbNoyDBw9StGhRnjx5wuHDh8mdO7f6eS5WrBjDhw9nxowZNG3alDp16pA1a1ZOnjzJvXv3qF279ic/e0IIIXQjI8CEEEJ81/T09Bg8eDDbt2+ncePGBAcHs2bNGg4ePEiuXLn4+eefmTZtGk+fPqVp06Z4eXmp+w4ZMkT9AbVu3ToCAgIYO3YsXbt21TpG3rx58fX1pVKlSpw/f56NGzdy//59OnXqpK7Hc+rUqQxNg3R0dKRDhw6EhYWxYcOGVKf6ABQuXJhff/2Vxo0bc+nSJbZv346NjU2qT0icNm0anTt35v3796xfv55Tp05ha2vLpk2bcHFxISYmRn0KnZGREatWraJXr168ePGCTZs2AUkjLFJ7sMCYMWPw9PQkf/787N69m99++41cuXIxbdo0dRrcp6TnPExMTFi7di0DBgzgw4cPbNy4kRMnTlC+fHnWrl1L06ZNP3msjN63lStXkidPHn799Vfu3LmDm5sbGzduTPei4Xnz5mXr1q389NNP3L59m7Vr1/L06VP69u3LnDlzgKQnBS5evBhXV1dCQkJYt24dly9fpkaNGmzfvp2qVavy4MEDdZqVhYUFGzdupFu3bly5coVVq1YRFBREp06d8PHxUafF5ciRgy1bttCtWzdCQ0NZv349N2/exMXFhR07dmBnZ6fmqaenx/z58xk9ejSmpqZs3bqVAwcOUKJECRYtWkSvXr3U2LJly7J+/XqqVq3K+fPn8fX15fbt27i5ubFhw4ZUC1kfs7OzY9OmTVStWpXjx4+zb98+atWqxbRp01LEfnwOL168UK9NnTp12LJly2eLrZA0cmfVqlWUKlWKQ4cOsWXLFgoVKsTy5cvVJzSWKlWK5cuXU7p0afz8/NiyZQuvXr3Cw8ODXbt2oa+vz4kTJ9Q+nZ2dWb16NTY2Nuzfv59jx47Rpk0brSd7QtIUUV9fX+rXr09AQADr16/njz/+oHnz5uzevZuSJUty+fJlnZ9km1zgaNasWYqp07Vq1WLOnDkUKVKEPXv28Ntvv/HhwwfGjRvHypUrAbTOQZfr8ncNHjyYAQMGoK+vz8aNG/Hz86NgwYL4+PjQp0+fFDl9ii6fyWLFirF9+3batGnD3bt3Wb9+PQ8ePKBTp07s3Lkzww9AgfR9T+rp6TF37lzGjBmDubk527Zt49ixY5QrVw5fX186dOigxhYqVIhNmzbRuHFjbt26ha+vL5cuXaJ58+Zs2bJF/QcSgK5du7J8+XJKlizJ4cOH+fXXX8mUKROjRo1i/vz5X2TdNiGE+K/TUzK6qIkQQgjxHXnz5g2+vr5kzZqVHj16fOt0xHeoU6dOXLx4kUuXLqmLnX/PunfvzvPnzxk/fjxOTk7fOh0hvrj/tc+kEEKI/20yAkwIIcS/Qo4cORg6dKgUv8S/xqRJkyhXrhxdu3bVWstJCCGEEEKkn4ylFUIIIYT4zqxdu5YXL15w8eJFFEXR6WmiQgghhBAibVIAE0IIIYT4zmzevJnHjx9ToEABZs6c+cmnLwohhBBCiM+TNcCEEEIIIYQQQgghxL+arAH2D4uPjyckJIT4+PhvnYoQQgghhBBCCCHEf4IUwP5hz58/p27dujx//vxbpyKEEEIIIYQQQgjxnyAFMCGEEEIIIYQQQgjxryYFMCGEEEIIIYQQQgjxryYFMCGEEEIIIYQQQgjxryYFMCGEEEIIIYQQQgjxr5bpWycghBBCCCGEEEL8myQmJhISEkJkZOS3TkWIfx1zc3MKFSqEvn76xnRJAUwIIYQQQgghhPiCXr16hZ6eHtbW1un+kS6ESFtiYiJPnjzh1atX5MmTJ137yidRCCGEEEIIIYT4gt69e0fevHml+CXEF6avr0/evHkJCwtL977pHgF29+5dfvvtN4KCgggLC2Pbtm0cP36cd+/e0bx5c/mACyGEEEIIIYT4T0tISMDQ0PBbpyHEv5KhoSHx8fHp3i9dBbDly5czb948EhISANDT0wPgwoULrF69msOHDzNv3jz5oAshhBBCCCGE+E9L/r0shPiyMvrZ0nm41qFDh/D29qZs2bL4+vrStWtXdVvbtm2pUqUKx44dY+PGjRlKRAghhBBCCCGEEF/WggULsLa2xs/P71unopPAwECsra0ZNWrUt07lszp16oS1tTXh4eHfOpUvavXq1VhbW7Njx45vncoXpXMBzNfXlyJFirBmzRoqV66Mubm5uq1o0aIsX76cH374gd9+++2rJCqEEEIIIYQQQoj0cXJywt3dneLFi3/rVP51WrZsibu7O8bGxt86FaEDnadA3r59m7Zt22JkZJTqdgMDA2rUqMGvv/76xZITQgghhBBCCCFExlWsWJGKFSt+6zT+lVxdXb91CiIddB4BZmBgQGRk5CdjwsLCMDAw+NtJCSGEEEIIIYQQQgjxpehcALO1teXo0aNpzm199eoV/v7+lClT5oslJ4QQQgghhBBC/K+bMmUK1tbWnDp1KsW233//HWtrayZMmABAcHAww4cPp2bNmpQpU4by5cvTtm1bDh06lGLf6Oho5s+fT8OGDbGzs6NOnTpMnDiRN2/eqDGprQGWvMbW1atX6dSpE/b29jg6OjJo0CBCQkJSHOfYsWP06NGDSpUqUbp0aSpVqkS/fv0IDAz8W9clKCiIvn374uTkhKOjIz///DPv3r1LNTY2NpZly5bRuHFjbG1tqVy5MkOHDuXx48cpYvfu3Uvbtm1xdHTE3t6eVq1asXHjRhRF0YpLSEjA19eX5s2bU65cOWrWrMnw4cO1+ky+fufOnaN169aUKVOGBg0aEBkZmeYaYNu3b6d169bY29tTtWpV+vbtS1BQkFZMZGQkixYtokWLFtjb22Nra0v9+vXx9PQkKioqxTnt37+ftm3bUq5cOezt7Wnbti379u3T9VKnyc/Pj59++kk9/yVLlpCYmJhq7P379xk2bBhVqlShTJkyODs74+npyfv377Xi4uPjWbhwIc2aNaNcuXI4OTnRvXt3zp07l6LPiIgIvLy8cHZ2pkyZMlSvXp3x48fz+vXrv31uf6VzAaxXr168fv2aDh06cPjwYV69egXAkydPOHjwIB06dCA8PFxrcfz0iI2NpVGjRloL3SmKwpIlS6hVqxZ2dnZ07dqVe/fupdhv2rRpVK1aFXt7ezw8PHjx4oVWTFhYGKNGjaJixYo4OjoyevRoIiIitGKePXtG//79cXBwoEqVKnh6ehIbG6sVExwcTOfOnbG3t6dWrVosX748xQdICCGEEEIIIYT4WPPmzQE4cOBAim3JRYzmzZtz48YNWrduzfHjx6lWrRpdu3alWrVq3Lx5Ew8PD44dO6buFx0dTbt27Vi0aBEWFha0bdsWa2trNm7cSOfOnVP85v2rgIAA3Nzc0NfXp127dlhbW3PgwAG6dOmi9Vt4/fr19OnTh4cPH9K0aVPc3NwoUaIE/v7+dOjQgZcvX2bomgQGBtK+fXtOnTpF9erVadq0KWfOnGH48OEpYuPi4ujZsyfe3t6Ym5vTsWNHqlevzuHDh/nxxx8JDg7Wup5Dhw7l7du3tGzZkp9++onw8HAmTpzI4sWL1bjExER69+7NjBkzSEhI4Mcff6RChQrs37+f9u3bp6grDBs2DBMTEzp16kTFihW11kX/2Lhx4/jll194/fo1LVq0oFatWpw9e5Z27dqpRbD4+Hi6du3KggULyJ07N+3bt6dVq1bExMTg4+OT4gEAM2fOZPDgwYSEhNC0aVOaNGlCSEgIQ4YMYdasWRm6/gBbt26lf//+PH78mObNm+Pk5MTSpUtZtWpVitjr16/j6urKvn37KFeuHB06dCBnzpz4+PjQpk0brcLl5MmTWbBgAdmyZaNDhw40bNiQ69ev0717dy5cuKDGvX//nnbt2rFixQoKFSqEm5sb9vb2bNmyhdatW2f4vZUmJR22bNmi2NraKiVLllRKliypWFtbq/9tY2Oj+Pr6pqc7LbNnz1Y0Go0ycuRItW3BggWKra2tsmbNGsXPz09p1aqVUq1aNSU8PFyNGTVqlOLk5KRs375dOXDggFKvXj2lefPmSnx8vBrTqVMnpXbt2sr+/fuVHTt2KJUqVVJ69eqlbv/w4YPSsGFDxcXFRfHz81PWrVun2NnZKRMnTlRjXr16pVSpUkXp3Lmzcvz4cWXRokVKqVKllJUrV6brPB8/fqxoNBrl8ePHGblM/1MS4j586xS0fG/5CCGEEEIIIf6d/vjjjxRt9evXVxwdHZXY2Fi1LSEhQalWrZpSp04dRVEUpVu3boqNjY1y9+5drX337dunaDQaZciQIWrb3LlzFY1Go0ydOlVJTExU25cuXapoNBpl1apViqIoyvz58xWNRqMcOXJEjdFoNIpGo1FWrFihtiUmJirdunVTNBqNcuLECUVRkn4rly9fXqlfv74SGRmpldP48eMVjUajbN68Od3XR1EUpUOHDkqpUqWUs2fPqm2vX79WGjdunKI2sGLFCkWj0Sienp5afdy4cUMpXbq00qpVK7WtZcuWSrly5ZT379+rbe/fv1eqVq2qVKpUSb1WW7duVTQajeLh4aF8+PD/vxX37NmjaDQaZfLkyYqi/P/1c3V1VRISErSO37FjR0Wj0ShhYWGKoijK2bNnFY1Go7Rv317r+FeuXFGsra2V3r17K4qiKHv37lU0Go3i7e2t1d/79++VKlWqKKVKlVKioqIURVGUS5cuKRqNRnFxcVFev36tda2aNm2qaDQa5eLFi5+93n8VFhamODg4KDVq1FCePXumdU3Lli2raDQaZfv27YqiKEp8fLxSv359xcbGRn1vJJs1a5ai0WiUn3/+WT2HkiVLKh06dNCKu3HjhqLRaJQBAwaobRMmTFA0Go2yfv16rVg/Pz/13qQltc/Y5+i8CD5A69atqVGjBrt27SIgIID3799jZmaGtbU1zZs3p2jRohkqwv3xxx+sW7eO7Nmzq20RERH4+Pjg7u6Om5sbABUqVKB27dps27aNrl278ujRI3bu3Mns2bNp3LgxACVLlqRhw4b4+/tTv359zp8/z4ULF9iyZQt2dnYA5MuXjy5duhAQEEDp0qXZs2cPjx49wt/fn3z58gFgbGzMhAkT6NevH7ly5WLDhg3Ex8ezZMkSTE1NqVmzJrGxsSxfvhw3NzcMDQ0zdO7/ZvqZjAj26vKt01Bphq3+1ikIIYQQQggh/qOaNWvGggULOHPmDLVq1QLg8uXLvHz5kj59+gDQpUsXWrVqhaWlpda+yYvYfzwtbN++fVhYWDB06FD09PTU9o4dOxIeHk6JEiU+mY+JiYn6WxtAT0+P6tWrc/r0aZ48eQIkTRGcPHkyefLkwczMTGt/JycnNm3alKGpai9evODSpUvUqlWLypUrq+05cuSgf//+DB48WCt+27ZtZMmSJUW7ra0tDRs2ZM+ePdy5cwcrKysURSEmJoY7d+5gb28PgIWFhdpH8rVKHnn3yy+/aD3sr0mTJty5cwdra2utY9WrVw99/U9Pokvuc+jQoVhYWKjt5cuXZ8iQIWTNmhUAGxsbpkyZQt26dbX2t7CwwMbGhpMnTxIWFoapqSk7duwAYMSIEeTIkUPrWg0dOpTevXuzfft2HB0dP5nbX504cYL379/Tt29ftQ4CSdfUxcWFzZs3q23Xrl3jwYMHtGjRgho1amj14+Hhwe7du9mzZw8TJkwgMTERRVF49uwZoaGh5M6dW+3Xz89PPVZ8fDw7d+7EysqKDh06aPVZt25dypcvz5EjR4iIiNC6ln9HugpgAHnz5qVXr15f5OCQdNK//PIL3bt358iRI2r79evXiYqK0npDZM2aFScnJ06dOkXXrl05f/48gPrlAVCsWDGsrKw4deoU9evX59y5c+TMmVMtfkHSl4eFhQWnTp2idOnSnD17FhsbG62b7uzszJgxYzh37hzNmjXj7NmzVK5cGVNTU62YJUuWcPPmTcqXL//FrokQQgghhBBCiH+XFi1asGDBAvbv36/+hv14+iNA9erVAQgNDSUoKIhHjx5x//59rly5AiQVpCBp+uPDhw9xdHTE2NhY6zjm5uapTiP8qwIFCmgVfgAyZ84MoE6BNDU1VQeb3L9/n3v37vHo0SPu3LmjrueU1npRn5I8FTC1NcSTi1bJIiMjuX//Prlz52bJkiUp4pOXZwoMDMTKyoqffvqJ8ePHq1NCa9SoQc2aNXFwcNAqYAUFBVGgQAHy5s2r1Z+enl6KQhtAoUKFdDovAwMDbG1tU2z7uI5SvHhxihcvzocPH7h+/Tr379/n0aNHBAQEcPHiReD/73VQUBD6+vo4ODik6DO57a/ri+nic/fg4wJY8lpvqRXZjIyM1OLWn3/+ScmSJWncuDH79u2jdu3a2NvbU6NGDWrXrq1VlL1//z5RUVEkJCSwYMGCFP1++PCBhIQEbt++neq5Z0S6C2D37t3TqkZv3ryZy5cvU7BgQTp27KhW93S1YsUK4uLi6NWrl1YB7MGDBwAULlxYK75QoUIcPXoUSLpguXLlSlGJLlSokLr//fv3KVKkiNZ2fX19ChYsqMY8ePCAYsWKacVkz54dCwsLrZi/Pjo2ObcHDx5IAUwIIYQQQgghRJoKFy6Mvb09/v7+xMbGoq+vz+HDhyldurT6G/vp06dMmTKFo0ePoigK+vr6FCtWDAcHB/744w+1r+RF1//OyJi/Fr8AdXSU8tFa15cuXWL69OkEBAQASbOlSpYsSenSpXn27FmG1sVOzj+1dbSSR0klS17LLDQ0lIULF6bZZ1hYGABt27YlZ86crF27litXrnD79m1WrFhB3rx5GTVqlFrQCw8PJ1euXDrnbGJi8tmY8PBwjI2NPztDLDExkWXLluHr66vmnTNnTuzt7SlYsCD37t1Tr2tERATGxsap3q/MmTNjampKdHS0zufxca6Q+j3Ili2b1uvke5DW+y1PnjwAah4zZ86kTJky7Nixg4sXL3Lx4kW8vLwoU6YMU6ZMoVSpUurx//zzT53u65egcwEsIiICd3d3Lly4wLlz58iWLRtz5szRWgj+t99+Y8uWLVojqT7l3r17LF26lNWrV6e4mRERERgZGaVoNzc3Vy9+ZGRkqjfL3Nyc58+ffzYmuZ+IiIgMxSS/TmtxwfDw8BRPg0jOSwghhBBCCCHEf0uzZs2YNGkSJ0+exMTEhDdv3qgjgxRFoXfv3ty9e5fevXvj7OyMlZUVJiYmvHr1iq1bt6r9JA8CiYyMTPU4UVFRKQaKZMSTJ0/o0aMHJiYmTJ48GQcHB4oVK4aBgQH79+/XerJkemTJkgUgxdMDgRRPQEw+jwoVKrBhwwad+q9Xrx716tUjPDycCxcucPToUfbs2cPQoUMpUaIEGo0GMzOzL379zMzM+PDhA/Hx8WTKpF1uiY6OVmeUrVq1irlz5+Lk5ETPnj0pVaqUOpioR48eWg//Mzc3Jzo6mvDwcPW6Jfvw4QMxMTFay0npKj33ILn28dcHAyRLrnskF84MDQ3p1q0b3bp14+nTp5w5c4aDBw9y+vRpevfujb+/v9pnixYt8PT0THf+GaHzUyCXLVvG+fPnqVmzJpB089auXUuOHDlYv349M2bM4M2bNyxatEin/hITExk9ejQ//vhjiiGOkPTh/3ge88c+rkr/nZiPhz/qEpOWtGLWrFlD3bp1tf7+OrdVCCGEEEIIIcR/Q+PGjTE0NOTo0aMcPHgQfX19mjRpAsDt27cJDg6mXr16DB48GFtbW3XUUXJBJHnwSebMmcmfPz+BgYFaT2yEpOmLVatWpVu3bn87Xz8/P2JiYvDw8KBNmzZYWlpiYGCQak7pYWNjg56eHlevXk2x7datW1qvM2fOTIECBbh79y4xMTEp4nfu3MmCBQsICQkhNjaWJUuWsHr1aiCpyFOvXj2mT59O3759SUxM5Nq1awBoNBqePn1KaGhoij5dXFxo0KBBus9Lo9GQkJCgNVovWb9+/ahQoQLR0dHs3bsXAwMDlixZQo0aNdTil6Io/Pnnn+p/Q9I654A6DfZjV65cQVGUz673lprSpUsDpHoPbt68qfW6VKlSacYmJiZy5coVzMzMKFiwII8fP8bb21t9YmmBAgVo3bo1Pj4+VKpUiRcvXhASEkLx4sUxMjIiICAg1ffQ6tWrWbx4MW/fvk33uaVF5wLY4cOHcXR0ZOnSpWTLlo0zZ84QHR2Nq6srFSpUUN8gJ0+e1Km/devW8ezZMwYOHEh8fDzx8fFA0k2Oj48nc+bMxMbGEhcXp7VfZGSkOi/ZwsIi1YqtrjHJw/cyGpP8Oq1hgJ07d8bf31/rT9eKtRBCCCGEEEKIf5fs2bNTrVo1Tp48ybFjx6hUqZI6fSx59tObN2+09nn37p06Qib5dzMkrRv2/v37FINQ1q5dS1RUlNbi8hmVvL5Y8jpbyYKCgli7dm2KnHSVO3duqlevzvnz5zl06JDaHhERkep0uJYtW/Lu3Tu8vLy01hy7e/cukyZNwtfXl2zZsmFkZMTevXuZN28ejx8/1uojeWH/AgUKAEnXT1EUvLy81PW2AA4cOMDDhw8zdP2S13KbM2eOVrHu2rVrXLx4EXt7e0xNTTE2NiYhISHFvV60aJGaZ/J1dXV1BcDb21sr/s2bN+r7okWLFunOtWbNmuTIkYN169Zx//59tf3evXts27ZNK9bBwYGiRYty+PBhTpw4obVt/vz5PHv2jEaNGmFkZISJiQkrVqxg3rx5WsXZ2NhYQkNDMTIyInfu3BgbG9O4cWPu3r2Lr6+vVp8XLlzA09OT7du3p5gS+3foPAXy2bNnWhXQkydPoqenp/UEgIIFC2qt4/Upfn5+PH/+PMUiakFBQezcuZNJkyahKIpaGUz28etixYrx6tUrYmJitObjhoSEqIukFStWLEWVMjExkSdPntCsWTM1JiQkRCvm7du3REREaB3rrzHJH6gffvgh1XPMkiVLiiGKQgghhBBCCCH+u5o3b66Ojhk6dKjaXqxYMcqWLculS5do37495cuX5+3bt/j5+REbG4upqanWaJjevXtz/Phxli5dyqVLl7Czs+PPP//k+PHjlC1bls6dO//tXGvXrs3s2bNZtmwZf/75J0WKFOHhw4ccO3ZMHXTy7t27DPU9btw42rZty6BBg3B2diZv3rwcO3Ys1RlWvXr14vTp06xbt44rV67g5OREeHg4Bw8eJDo6Gi8vL3VgypAhQ+jfvz8tW7akYcOGZM2alVu3bnH+/HmcnJyoWrUqAD/++COHDx9m586d3L59m4oVK/LixQsOHz5MoUKFUl0I/3OqVatGq1at2L59Oy1atKB69epERkayb98+zM3NGTduHJD0Hvj9999p164djRo1wtDQkAsXLhAQEEDOnDl5/fq1el0dHR3p2rUrvr6+NG/enNq1awNw7NgxQkND6dmzZ7qfAAlJ0xonT57MwIEDad26tVrvOXjwIDly5NBazklfX58ZM2bQvXt3+vTpQ+3atSlSpAjXrl3j999/x9LSkhEjRgBJxc3OnTvj6+tL06ZNqVmzJvr6+pw6dYp79+7Rr18/9V6NHDmSa9euMXPmTPz9/Slbtqx6DzJlysS0adN0mpWnK517ypo1q9biYydPnsTU1FRr+uKDBw90XgR/4sSJbNu2TeuvWLFi1K5dm23bttGkSROMjY215hSHhYVx8eJFtRJbuXJlEhIS1EXxk3O4c+eOVkxoaCg3btxQYy5cuEBERIQaU6lSJW7duqW1Ppefnx+GhobqG6lSpUqcPXtWay6sn58f2bJlU4ckCiGEEEIIIYQQn1K3bl0sLCwwNjamfv36aru+vj6LFy/G1dWVkJAQ1q1bx+XLl6lRowbbt2+natWqPHjwgEePHgFJBYyNGzfSvXt3nj9/ztq1awkICKBjx46sWrUq1UXT0ytv3rz4+vpSqVIlzp8/z8aNG7l//z6dOnXiwIEDZMuWjVOnTmVoGmThwoX59ddfady4MZcuXWL79u3Y2Nik+qRHExMT1q5dy4ABA/jw4QMbN27kxIkTlC9fnrVr19K0aVM1tm7duvj4+FCmTBmOHTvG2rVref78Of3792f58uVqQSV5CuKgQYOIiYlhw4YNnD9/nmbNmrFx48YMjzyaOnUq48ePx8TEhF9//ZUjR45Qo0YNNm3apD5Ir3379owdO5Zs2bKxdetW9uzZg7m5Od7e3kyaNAlAa6TVqFGjmDVrFgULFmTPnj0cOHCA4sWLs2DBAoYNG5ahPAGcnZ1ZvXo1NjY27N+/n2PHjtGmTZtUi3/ly5dn27ZtNG7cmGvXrrFhwwbevXtH37592bp1q9bC+cOHD2fChAlYWFioa8Wbm5szY8YMBg4cqMblyJGDLVu20K1bN168eKG+5+vUqcOWLVtSPIjw79JTdHyn9u7dm99//52FCxdy48YNZs2aRePGjfH29gaSqoRDhw6lSZMmGV7ArEWLFpQqVYoZM2YA4Onpydq1axk8eDDFihVj6dKlvHjxgn379qnV5oEDB3L69GlGjhxJlixZ8Pb2xtTUlB07dmBgYICiKPz00088f/6cESNGEB8fz8yZMylbtizLli0DktYza9KkCWZmZgwcOJCXL18ya9YsXF1d1Qrty5cvady4MSVLlqR79+4EBQWxYMEChg4dSvfu3XU+x5CQEOrWrYu/v79Oj1H9Xxfs1eVbp6DSDFv9rVMQQgghhBBC/AcEBgaq6yYJIb68jHzGdJ4COWDAALp27YqbmxuKomBsbEzv3r0BmDJlCuvXryd79uz069cvfVl/wpAhQ9DX12fVqlVERUVhb2/PjBkz1OIXwPTp05k+fbo6F7hKlSqMHj1aXZhPT0+PJUuWMHnyZMaOHYuRkRF169bll19+UfswNTXF19eXSZMmMWzYMDJnzky7du0YMmSIGpMnTx58fX2ZOnUqHh4e5MqVi0GDBqWr+CWEEEIIIYQQQggh/nk6jwCDpOmFv/76K4qi4OLiok7927lzJ9evX6dHjx4ULFjwqyX7byAjwL4dGQEmhBBCCCGE+Cf810aABQYGai1f9DktW7b8T/we/if5+fkRGBioc/yAAQO+YjZf31cdAQZJi/KNHDkyRbuLiwsuLi7pOrAQQgghhBBCCCH+9wUGBqb69Ma0ODk5SQHsC/Pz8+O3337TOf5/vQCWEekqgEHSCKbkpyRER0eTLVs2NBoNjRo1Uhd0E0IIIYQQQgghxH+Dq6srrq6u3zqN/7QZM2ao66mL1KWrALZp0yamTp1KfHx8im0LFixg9OjRtG3b9oslJ4QQQgghhBBCCCHE36VzAezs2bNMmjSJXLly0adPHxwcHMiTJw/h4eFcunSJRYsWMXnyZCwtLXF0dPyaOQshhBBCCCGEEEIIoTOdC2ArV64kc+bMbNq0SWuubo4cOShWrBiVKlWiVatW+Pj4SAFMCCGEEEIIIYQQQnw39HUNvHHjBnXr1k1zobrChQtTt25dfv/99y+VmxBCCCGEEEIIIYQQf5vOBbC4uDjMzMw+GWNmZkZMTMzfTkoIIYQQQgghhBBCiC9F5wLYDz/8wKlTp9IscEVHR3Py5EmKFy/+xZITQgghhBBCCCGESFanTh2sra3VvzJlylC3bl1mzpxJRETEt04PgISEBOrVq0f//v1RFEXn/S5cuIC1tTXPnz//itn9d+lcAGvdujWPHj3Cw8ODJ0+eaG27e/cu/fr1IyQkhB9//PGLJymEEEIIIYQQQggB0LNnT06fPs3p06fZv38/Q4cOZd++ffTo0YPY2NhvnR4HDhxAX1+fmTNnoqenp/N+9vb2nD59mjx58nzF7P67dF4Ev127dly4cIFDhw7h7OxM3rx5yZw5My9evOD9+/coikL9+vXp0KHD18xXCCGEEEIIIYQQ/2FmZmbkzp1bfV2kSBGKFi1Kq1at2L59O+3atfuG2YGzszP169fHyMgoXfsZGRlpnZf4snQeAaanp8fcuXOZMWMGTk5OREdHc//+ffT09HBycmLGjBnMnz//a+YqhBBCCCGEEEKIbyw2LuG767d06dI4ODiwf/9+tS04OJiePXvi6OiIk5MTI0aM4M2bN+r2HTt20KhRI8qUKUPt2rWZP38+iYmJ6nY/Pz+aN2+Ora0tDRs2xMfHR2v7X1lbW7Nr1y5MTEzU4ldyG8CoUaP45ZdfmDJlChUrVsTe3p6hQ4eqUzf/OgUyLi6OOXPmULNmTcqVK0fbtm21Hjy4adMmmjZtiq2tLfb29nTr1o2HDx9m+Br+2+k8AgySimAuLi64uLh8pXSEEEIIIYQQQgjxPTMyNKD9uONfvN+Nk2r9rf01Go1aAAsJCaFdu3bUrl2bDRs2EB4ezqRJk+jWrRvbt2/nzp07jBs3Dm9vb8qUKUNAQADDhg2jSJEiuLi4cOLECYYNG8aYMWNwcnLizp07TJo0iejoaNzd3TOc4+7du2ndujWbN2/m0aNHDBo0CEtLS/r165cidsqUKfj7+zNhwgSsrKxYvXo1PXr04PDhw1y8eJHp06czY8YM7OzsePLkCWPHjmXmzJksXrw4w/n9m6WrACaEEEIIIYQQQgjxPcqSJYs6mmrjxo1kyZKF6dOnY2hoCMCcOXNo3Lgxp06dIi4uDj09PQoUKKD++fr6ki9fPgCWLl1Ku3bt1HXOixQpQmRkJGPHjqVfv37o6+s8oU5LtmzZGDNmDAYGBhQvXpwqVapojepKFhERwfbt25k0aRLOzs4AjB49GhMTE969e0eOHDmYNm0ajRs3BqBgwYI0adKE3bt3Zyiv/4I0C2B169bNUId6enr4+fllOCEhhBBCCCGEEEKI9IqMjCRz5swA3LlzB1tbW7X4BWBpaUn27NkJDg7Gzc0NOzs7WrVqRdGiRalWrRoNGzakQIECAAQGBnLz5k02b96s7p+YmEhMTAxPnjyhcOHCGcqxSJEiGBgYqK+T11b/q/v37xMXF0fZsmXVtkyZMjFy5EgAfvjhB4KDg1m4cCF//vkn9+/fJzg4mLx582Yor/+CNAtgYWFhKZ5WEBMTo1ZJCxUqRNasWYmKiuLRo0fEx8eTM2dOWbBNCCGEEEIIIYQQ/7iAgABsbGwAMDExSTUmMTERQ0NDTExMWL9+PTdv3uTkyZOcOnWKDRs2MGDAANzd3TE0NKRHjx40a9YsRR+6Fpni4+NTtKW2ML6iKCnaPi7cpWbnzp2MGTOG5s2bU6FCBTp27MjJkydlBNgnpFkAu3z5stbr4OBgOnXqRPXq1Rk5cqRWoev9+/d4eXmxd+9eJk6c+PWyFUIIIYQQQgghhPiLoKAgrl27xvTp04Gk0V67du0iLi5OLSbdvXuXsLAwLC0tOXPmDL///jv9+/fH1taW/v37M2HCBPbv34+7uzslSpTgwYMHFC1aVD3GkSNH2LdvH56enqnmYGhoqE7BBP7WgvRFihQhU6ZM3Lp1ixIlSgBJxbtGjRrh4eGBj48Pbdu2ZcyYMeo+69evT7WYJpLoPGl1xowZFCxYEE9PzxSjvDJnzszEiROxsrJixowZXzxJIYQQQgghhBBCCICoqChCQ0MJDQ3l8ePH7Nu3j759++Lo6Ejz5s0B6NixI+/fv+fnn3/mzp07XL58mWHDhlGyZEkqV66MoaEhixYtYu3atTx+/Jhr165x4cIF7OzsAOjbty/79u1j+fLlPHjwgOPHjzNu3DitJzz+Vbly5diyZQtBQUEEBAQwfvz4NGM/x8zMjPbt2zNnzhxOnDjBgwcPmDRpEmFhYVSsWJF8+fJx5coVgoKCePDgAQsXLmT//v3ExsZm7KL+B+i8CP7Vq1dp27btJxd6K1eunNb8WCGEEEIIIYQQQvy7xMYl/O0nNqbVr5GhwWfjVqxYwYoVKwAwNzenYMGCtGnThi5duqjra+XKlYtVq1Yxa9YsWrVqhampKXXq1GH48OEYGhri5OTEtGnTWLlyJV5eXlhYWODs7MyIESMAqFGjBp6enixfvpz58+eTI0cOXFxcGDx4cJp5TZgwgQkTJtC6dWvy5MnDwIEDU13fS1fDhw/HwMCAX375hcjISGxtbfHx8SFXrlyMHTuWMWPG0LZtW0xNTSlbtiyTJk1i3LhxPH36VF3LTPw/PUXH8XE1atTAysoKHx+fNGPatm3Ly5cvOXr06BdL8N8mJCSEunXr4u/vT6FChb51Ol9dsFeXb52CSjNs9bdOQQghhBBCCPEfEBgYSKlSpb51GkL8a2XkM6bzFMi6dety9uxZFi9eTEJCgta22NhYpk2bxvXr11NdIE4IIYQQQgghhBBCiG9F5ymQHh4eXLhwgQULFrBmzRqsra0xNzcnIiKCP/74g8jISMqXL0+/fv2+Zr5CCCGEEEIIoSUxPhb9TBlbZ+dL+55yEUII8f90LoBlz56dbdu2sXLlSvbt28fFixfVbZaWlrRs2ZLOnTt/9lGdQgghhBBCCPEl6Wcy+m6W3pBlN4QQ4vukcwEMkp5C4OHhgYeHBx8+fCAsLIysWbNibGz8tfITQgghhPif8L2N+vje8hFCCCGE+JbSVQD7mLGxMXny5PmSuQjxVcUlxGFo8H2MUPyechFCCPFlfE8jUEBGoQghhBBCfCzDBTAh/tcYGhgy4viQb50GAJ61vL91CkIIIYQQQgghxH+Gzk+B/FpiY2OZM2cOtWvXply5cri5uREQEKBuv3XrFtbW1in+Zs6cqdXHtGnTqFq1Kvb29nh4ePDixQut44SFhTFq1CgqVqyIo6Mjo0ePJiIiQivm2bNn9O/fHwcHB6pUqYKnpyexsbFaMcHBwXTu3Bl7e3tq1arF8uXLURTlK1wZIYQQQgghhBBCCPElfPMRYNOnT2fXrl0MGzaMokWLsnbtWtzc3Ni9ezcFCxYkKCgIMzMzfH19tfb7ePrl+PHjOXr0KCNHjsTMzAxvb2969erFjh07MDAwAGDAgAGEhIQwYcIEYmJi8PT05NWrVyxbtgxIKqJ169YNExMTPD09efbsGV5eXsTExDBu3DgAXr9+TdeuXbGysmLu3LkEBAQwd+5cDAwM6N69+z90xYQQQgghhBBCCDFu3DgSEhKYOnWq2rZjxw6WLl1KbGwsNjY2zJ07FyOjlGtidurUSevhfoaGhuTIkYMaNWowaNAgcuXK9Y+cg/jnfNMC2Pv379m6dStDhw6lffv2ADg4OFCxYkV27dpFv379uH37NlZWVpQrVy7VPh49esTOnTuZPXs2jRs3BqBkyZI0bNgQf39/6tevz/nz57lw4QJbtmzBzs4OgHz58tGlSxcCAgIoXbo0e/bs4dGjR/j7+5MvXz4gaZ2zCRMm0K9fP3LlysWGDRuIj49nyZIlmJqaUrNmTWJjY1m+fDlubm7yBEwhhBBCCCGEEOIrUxSF+fPn8+uvv/Ljjz9qte/atQtfX1/y589PmzZtOHPmDLVr1061n6ZNmzJq1CgAPnz4wN27d/H09KRDhw5s2bKFrFmz/iPnI/4ZOk+BbNeuHfPmzfuiBzc1NWXLli24urqqbZkyZUJPT0+denj79m2sra3T7OP8+fMA1KpVS20rVqwYVlZWnDp1CoBz586RM2dOtfgFULFiRSwsLNSYs2fPYmNjoxa/AJydnYmPj+fcuXNqTOXKlTE1NdWKeffuHTdv3szoZRBCCCGEEEIIIYQOHj9+jJubG5s2baJAgQJa2/T09Bg9ejRbt27F3d2d+/fv8/bt2zT7MjExIXfu3OTOnZtChQpRq1YtfHx8ePnyJStWrPjapyL+YToXwAICAoiKivqiB8+UKRM2NjZkzZqVxMREHj9+zC+//IKenh7NmzcHktbcevbsGS1atKBMmTLUq1eP3377Te3j/v375MqVCzMzM62+CxUqxIMHD9SYIkWKaG3X19enYMGCasyDBw9SxGTPnh0LCwutmKJFi2rFFC5cWN0mhBBCCCGEEEL82yXGx34+6Cv1e/XqVfLnz8+ePXsoVKiQ1rbQ0FDatGlDVFQUrq6u2NjYpDuH/PnzU69ePfbv36+2PX36lMGDB1OpUiXs7e3p168fjx8/VrcfP34cFxcXypYtS7Vq1Zg8eTIfPnxQt1++fJm2bdtStmxZ6taty+zZs7W2i3+GzlMgCxUqpHWDv7TFixezYMECADw8PPjhhx948eIFb9++5eHDhwwZMoSsWbOyd+9eRo0ahZ6eHi4uLkRGRmJubp6iP3Nzc54/fw7wyZjkhfAjIiIyFJP8+q8L6gOEh4cTHh6u1ZackxBCCCGEEEII8b9IP5MRwV5dvni/mmGrPxvTokULWrRokeq2ly9fYmxszNChQ3n58iXBwcEkJiamPw+Nhl27dqm/89u1a4elpSU+Pj4oisLMmTPp2LEje/fuJS4uDnd3d8aMGUP16tV59OgRQ4YMIXv27Li7uxMYGEj37t3x8PBg5syZPH36lKlTp/Lq1SumT5+e7txExulcAJs5cyZ9+/Zl4MCB1K9fn0KFCmFsbJxqbMmSJdOdiLOzM05OTly4cIHFixcTFxdHnz598PHxQaPRqIveV6lShZcvX7Jw4UJcXFxQFAU9Pb1U+0xuVxQFff3UB7t93J5WP2nt+7mYNWvWsHDhws/uK4QQQgghhBBCiL/HxsaGatWqUbt2bTQaDZUqVeLp06fp7id57a/IyEj8/PwIDw/H29ubbNmyATBv3jzq1KnD7t27sbe3Jy4ujnz58lGwYEEKFizIypUr1VlqPj4+1KxZU31wXtGiRZk4cSLt27dn8ODBWg/4E1+XzgWw1q1bo6enx6FDhzh8+PAnYwMDA9OdSHLRzMnJicjISHx8fOjfvz/VqlVLEVu9enVOnTpFZGQkFhYWREZGpoiJjIwkc+bMAFhYWBAaGppqTPHixdWYtPqxsLBIMyb5dXLMxzp37kzLli212p4/f06HDh1SXgAhhBBCCCGEEEJkmJ6eHrNnz/7b/SSP/LKwsODOnTsUL15cLX4B5MiRA0tLS4KDg2nfvj2NGjWid+/e5MuXj6pVq+Ls7KwuvB8YGMjDhw+xt7dX91cUBYB79+5JAewfpHMBzMXFJc0RUhkVGhrKyZMnadCggVYBqVSpUsTGxvL7779z584dfvzxR63Hln748AETExPMzMwoVqwYr169IiYmBhMTEzUmJCQEBwcHIGlR/KtXr2odOzExkSdPntCsWTM1JiQkRCvm7du3REREqEWy1GKSp4X+8MMPKc4vS5YsZMmSJd3XRQghhBBCCCGEEN9GQEAAxYoVw9zcXKvO8LHExEQMDQ3R09Nj7ty5uLu7c+LECU6fPo27uzstWrRg+vTpGBoa4uLiQs+ePVP0kTt37q99KuIjOhfAZsyY8cUPHh4ezi+//AJAq1at1PYzZ86QM2dO4uPjmThxIrlz56ZevXpAUqX08OHDVKhQAT09PSpXrkxCQgJHjx6lcePGQNKC9Hfu3MHd3R2AypUrs2zZMm7cuEHZsmUBuHDhAhEREVSuXBmASpUqMXHiRJ4/f64+CdLPzw9DQ0McHR3VmF9//ZWoqCh1OKOfnx/ZsmXL0LRPIYQQQgghhBBCfD9evnyJv7+/OmXR0tKSX3/9lXfv3qmjwN68ecP9+/dp06YNN2/eZO/evfz888+UKFGC7t27s2LFChYuXMj06dMpUaIE9+7d03qg3rVr11ixYgUTJ05M8UA/8fXoXAD72NOnTwkKCiImJoZs2bJhaWlJ3rx5092PpaUlDRo0YObMmcTFxVG4cGEOHz7Mrl27mDZtGk5OTjg4ODB+/HjCwsLInTs3W7Zs4fbt22zatAmAIkWK0LBhQ8aOHUtERARZsmTB29sba2trnJ2dgaTClZ2dHe7u7owYMYL4+HhmzpxJrVq1KFOmDABNmzZlyZIl9OjRg4EDB/Ly5UtmzZpFmzZt1Kps+/btWb9+Pb169aJ79+4EBQWxfPlyhg4dqjVCTQghhBBCCCGEEN+3mJgYdbmkDx8+EBwczNy5c8mXLx9du3YFoHnz5ixdupQhQ4YwdOhQAGbNmkWWLFlo0qQJb968YcOGDRgbG/Pjjz8SGRnJsWPH1ME3PXv2xNXVlenTp9OmTRtev37NmDFjyJs3r4wA+4elqwAWEhLC2LFjOX/+vFa7np6eOoKqcOHC6Upg5syZLFy4kOXLl/Py5UtKlCjBvHnzaNiwIZD0dEhvb2/mz5/Pu3fvsLGxwdfXVy1cAUyfPp3p06fj5eVFYmIiVapUYfTo0RgYGKj5LVmyhMmTJzN27FiMjIyoW7euOvoMwNTUFF9fXyZNmsSwYcPInDkz7dq1Y8iQIWpMnjx58PX1ZerUqXh4eJArVy4GDRqkVoaFEEIIIYQQQgjxv2Hv3r3s3bsXSKoJ5MuXD2dnZ7p164a5uTkAxsbG+Pj4MGPGDDp27IiBgQGVK1dmw4YN6rJHixYtYv78+axduxZDQ0OqV6/Ozz//DIC1tTXLli1j3rx5bNy4kcyZM1O7dm1GjBjxzc77v0pPSV597TNCQ0NxdXUlNDQUW1tbypcvT548eQgPD+fixYtcu3aNfPnysWPHDnLkyPG18/6fFRISQt26dfH396dQoULfOp2v7ms8GjejNMNWM+L4kM8H/gNmVJ2JvqHht05DlRgX913lI4QQ/6u+t//vCfFf8r18/uSzJyBp4fNSpUp96zS+msT4WPQzfflZUF+rX/Hvk5HPmM4jwBYuXEhoaCgTJkygbdu2KbZv3bqVsWPHsmzZMrXSKYRInb6hIecHDvzWaagqzZv3rVMQQgjxhcUlxGFo8P3848b3lo8QQoiM+1pFKil+ia9J5wLYiRMnqFq1aqrFL4DWrVtz8OBB/P39pQAmhBBCCPGNGRoYfjcjnwE8a3l/6xSEEEII8R+mr2vgq1ev0Gg0n4zRaDS8fPnybyclhBBCCCGEEEIIIcSXonMBLFeuXAQHB38y5vbt22TPnv1vJyWEEEIIIYQQQgghxJeicwGsRo0anD17lu3bt6e6fdOmTZw7d46aNWt+seSEEEIIIYQQQgghhPi7dF4DbMCAAfj7+zNmzBh27txJhQoVyJw5My9evODq1avcunWLnDlz0r9//6+ZrxBCCCGEEEIIIYQQ6aJzASx37txs3ryZMWPGcOHCBS5duqS1vWLFikyaNIm8efN+8SSFEEIIIYQQQgghhMgonQtgAIULF2bNmjU8f/6cwMBAIiIiMDc3p1SpUuTPn/9r5SiEEEIIIYQQQgghRIalqwCWLGfOnBQpUoSIiAiyZ89Ovnz5vnReQgghhBBCCCGEEFpevXrFrFmzOHPmDDExMdjZ2TFy5Eg0Gg0Ay5YtY8uWLcTHx1OjRg0mT56caj916tThyZMn6mtDQ0Py5s1L/fr16d+/PxYWFv/I+Yh/TroKYC9fvmTOnDkcPnyYqKgotT179uy0bNmSfv36YW5u/sWTFEIIIYQQQgghxH9bYmIi7u7uKIrC4sWLMTMzY8GCBXTp0oV9+/ZhaGjIqVOn2LVrF4aGhtSrV4/g4GC1OPZXPXv2pHPnzgBER0dz69YtZsyYwbVr11i7di1GRkb/5OmJr0znAtizZ89o164dz58/p2DBglStWpVcuXIRHh7O9evX8fHx4dSpU2zcuFEqpUIIIYQQQgghhPiigoKCuHbtGvv378fS0hKAWbNm4eTkxIkTJ3BxcWHo0KEsWbKE4OBg3r17x9u3b9Psz8zMjNy5c6uvixQpQtGiRWnVqhXbt2+nXbt2X/2cxD9HX9fAOXPm8Pz5c0aOHMmRI0eYP38+48aNw8vLiyNHjjBixAiCg4NZuHDh18xXCCGEEEIIIYQQ31BcQtw36Td//vwsW7aM4sWLq216enoAhIWF8ccff9ClSxcMDQ3p2LFjhtYqL126NA4ODuzfv19tCw4OpmfPnjg6OuLk5MSIESN48+aNun3Hjh00atSIMmXKULt2bebPn09iYqK63c/Pj+bNm2Nra0vDhg3x8fHR2i7+GTqPADtz5gy1atWia9euqW7v1q0bZ86c4eDBg4waNeqLJSiEEEIIIYQQQojvh6GBISOOD/ni/XrW8v7k9uzZs1OrVi2ttnXr1hETE0O1atW4d+8eRYsWZcCAAQQGBvLkyZMMFZo0Go1aAAsJCaFdu3bUrl2bDRs2EB4ezqRJk+jWrRvbt2/nzp07jBs3Dm9vb8qUKUNAQADDhg2jSJEiuLi4cOLECYYNG8aYMWNwcnLizp07TJo0iejoaNzd3dOdm8g4nQtg0dHR6hDDtJQoUYKrV6/+7aSEEEIIIYQQQgghPsXf3x9vb2+6du2KpaUlBQsWZOPGjdSqVYsyZcpQoUIFnj59mu5+s2TJQkREBAAbN24kS5YsTJ8+HUNDQyBphlzjxo05deoUcXFx6OnpUaBAAfXP19dXfVjg0qVLadeuHT/++COQNM0yMjKSsWPH0q9fP/T1dZ6YJ/4mnQtgTk5O+Pv7M3DgwFQXgouLi+PcuXM4ODh80QSFEEIIIYQQQgghPrZjxw7Gjh1L48aNGT58OAAmJiasXr36b/cdGRlJ5syZAbhz5w62trZq8QvA0tKS7NmzExwcjJubG3Z2drRq1YqiRYtSrVo1GjZsSIECBQAIDAzk5s2bbN68Wd0/MTGRmJgYnjx5QuHChf92vkI3OhfAxo0bh5ubG506dWLw4MFUqFCBTJmSdr9//z5eXl48f/6cKVOmqJXSZLIovhBCCCGEEEIIIb6EJUuWMHfuXDp27MiYMWPUdcC+lICAAGxsbICkolpqEhMTMTQ0xMTEhPXr13Pz5k1OnjzJqVOn2LBhAwMGDMDd3R1DQ0N69OhBs2bNUvSRN2/eL5q3+DSdC2Dt27cnOjqakJAQunbtip6eHtmzZ+fDhw9ERkYCoCgKP/30k9Z+enp6/PHHH182ayGEEEIIIYQQQvznrFixgrlz5+Lh4UH//v2/eP/JT5qcPn06kDTaa9euXcTFxamjwO7evUtYWBiWlpacOXOG33//nf79+2Nra0v//v2ZMGEC+/fvx93dnRIlSvDgwQOKFi2qHuPIkSPs27cPT0/PL56/SJvOBTAZlieEEEIIIYQQQohvJSgoiDlz5tCqVSvatGlDaGious3c3BwzM7N09RcVFaX2ERMTw40bN/Dy8sLR0ZHmzZsD0LFjR9avX8/PP/9M7969CQsLY8qUKZQsWZLKlStz7do1Fi1aRObMmalduzavXr3iwoULlCtXDoC+ffvSu3dvNBoN9evX58GDB4wbN46aNWumuryU+Hp0LoCtW7fua+YhhBBCCCGEEEKI/wFxCXGffWJjRvs1NDBMc/v+/ftJSEhg+/btbN++XWvbwIED6devX7qOt2LFClasWAEkFdAKFixImzZt6NKlCwYGBgDkypWLVatWMWvWLFq1aoWpqSl16tRh+PDhGBoa4uTkxLRp01i5ciVeXl5YWFjg7OzMiBEjAKhRowaenp4sX76c+fPnkyNHDlxcXBg8eHC6chV/n84FMCGEEEIIIYQQn/a5H/D/tO8tH/Hv8LXeU5/rd8iQIQwZMuSLHOvo0aM6x5YtW/aTg4JcXFxwcXFJc3uzZs1SXQNM/LOkACaEEEIIIYQQX4ihgSEjjn+ZH+hfwtcYpSOEEP+L9L91AkIIIYQQQgghhBBCfE1SABNCCCGEEEIIIYQQ/2pSABNCCCGEEEIIIYQQ/2pSABNCCCGEEEIIIYQQ/2rpXgQ/MjISc3Nz9fWpU6e4fPkyhQoVolmzZpiYmHzRBIUQQgghhBBCCCGE+Dt0HgEWFxfH6NGjqVixIhEREQCsX7+eXr16sWzZMsaNG0fr1q0JCwtLVwKxsbHMmTOH2rVrU65cOdzc3AgICFC3K4rCkiVLqFWrFnZ2dnTt2pV79+6l6GPatGlUrVoVe3t7PDw8ePHihVZMWFgYo0aNomLFijg6OjJ69Gj1PJI9e/aM/v374+DgQJUqVfD09CQ2NlYrJjg4mM6dO2Nvb0+tWrVYvnw5iqKk65yFEEIIIYQQQgghxD9H5wKYr68v27dvx8rKig8fPhAXF8eCBQswMzNj5syZuLu7c/fuXZYuXZquBKZPn866devo2bMnixYtwtTUFDc3N548eQLAokWLWLJkCd26dcPb25v379/TpUsX3r9/r/Yxfvx4du3axdChQ5k+fTpBQUH06tWLhIQENWbAgAFcvHiRCRMm8Msvv3D06FGGDh2qbo+NjaVbt248ffoUT09P+vXrx8aNG5kxY4Ya8/r1a7p27Yqenh5z586lTZs2zJ07l1WrVqXrnIUQQgghhBBCCJExderUwdraWuvPzs6ORo0asXr1ap37CQsLo2vXrtja2vLjjz9+vYTFd0HnKZB79uzBxsaGrVu3YmBgwKlTpwgLC6Njx460aNECgICAAI4cOcLIkSN16vP9+/ds3bqVoUOH0r59ewAcHByoWLEiu3btws3NDR8fH9zd3XFzcwOgQoUK1K5dm23bttG1a1cePXrEzp07mT17No0bNwagZMmSNGzYEH9/f+rXr8/58+e5cOECW7Zswc7ODoB8+fLRpUsXAgICKF26NHv27OHRo0f4+/uTL18+AIyNjZkwYQL9+vUjV65cbNiwgfj4eJYsWYKpqSk1a9YkNjaW5cuX4+bmhqGhoa6XUwghhBBCCCGEEBnUs2dPOnfurL5+9+4dmzdvZvr06eTJk0etD3zK3r17uXTpEhs3biRv3rxfM13xHdB5BNijR4+oUqUKBgYGAJw8eRI9PT1q1aqlxpQoUYKXL1/qfHBTU1O2bNmCq6ur2pYpUyb09PSIjY3l+vXrREVFUbduXXV71qxZcXJy4tSpUwCcP38eQCuPYsWKYWVlpcacO3eOnDlzqsUvgIoVK2JhYaHGnD17FhsbG7X4BeDs7Ex8fDznzp1TYypXroypqalWzLt377h586bO5y2EEEIIIYQQQoiMMzMzI3fu3OqflZUVY8eOpUiRIuzfv1+nPsLDw8mdOzdly5aVAth/gM4FMHNzc2JiYtTXJ0+exMjIiAoVKqhtL168IEeOHDofPFOmTNjY2JA1a1YSExN5/Pgxv/zyC3p6ejRv3pwHDx4AULhwYa39ChUqpG67f/8+uXLlwszM7JMxRYoU0dqur69PwYIF1ZgHDx6kiMmePTsWFhZaMUWLFtWKSc4tOeZj4eHhhISEaP09f/5cl0sjhBBCCCGEEEJ8lxLj4r7bfg0NDdWBO8+ePcPDw4Py5ctTpUoVBg8erK4XPmrUKObOncvTp0+xtrZmx44dAPj7++Pq6oqdnR21atViwYIFxMfHA3DhwgVsbW1ZvHgxTk5OdOrUCUiqB/Tp04fy5ctTqVIlfv75Z3XN8fj4eFasWEH9+vWxtbWlWbNmOhfoxJel8xRIKysrjhw5Qrdu3fj99995+PAhtWrVUp/6eOPGDQ4ePEi1atUylMjixYtZsGABAB4eHvzwww8cOXIEIyMjjIyMtGLNzc3VN9Nfn0r5cUxyselTMcn9REREZCgm+fVfF9QHWLNmDQsXLvz0iQshhBBCCCGEEP9D9A0NOT9w4Bfvt9K8eRneNzo6mg0bNnDv3j2GDh1KVFQUnTp1wt7ens2bN5OQkMCiRYvo3Lkzu3fvZvTo0eTKlYs9e/awbds2MmfOzOHDhxk0aBCDBw+mXr16/PHHH0yYMIF3794xduxYIGn98AsXLrB161ZiYmIIDw+nY8eO2NjYsGHDBuLi4vjll18YM2YMc+fOZcaMGezdu5cJEyZgbW3NoUOHGDJkCAYGBjRo0OBLXTqhA50LYD179qRv377qdER9fX169OgBwLx581i2bBlGRkb07ds3Q4k4Ozvj5OTEhQsXWLx4MXFxcZiYmKCnp5dqfHK7oig6xejrpz7Y7eP2tPpJa9/PxXTu3JmWLVtqtT1//pwOHTp8tj8hhBBCCCGEEEKkbvHixaxYsQJI+s3/4cMHrK2t8fb2pm7dumzdupXo6GhmzJihjgjz9vamYsWKHD58mKZNm2JmZoaBgQG5c+cGYPny5TRq1IiePXsCScsrvXv3jqlTpzJo0CD12D169FBnh23evJmoqChmz55N5syZAZg6dSonT54kIiKCTZs2MW7cOBo2bAhAnz59CAoKYvny5VIA+4fpXACrVq0avr6+rF27FkVRaN26tTr9MXv27FSrVo0BAwZQpkyZDCVSsmRJAJycnIiMjMTHx4dhw4YRGxtLXFyc1gLzkZGR6hvLwsKCyMjIFP39NSY0NDTVmOLFi3+2HwsLizRjkl8nx3wsS5YsZMmS5fMnL4QQQgghhBBCCJ116NCB9u3bk5CQgL+/P4sXL8bV1ZUmTZoA8Mcff/DmzRutZZsgaaTYvXv3Uu3zzp07uLi4aLU5OjoSHx/Pn3/+qbZ9vExTcHAwP/zwg1p/ALCzs8POzo4bN24QHx+Pvb19ij6PHj2aofMWGadzAQySnsD41zcPgJubm/qUxvQIDQ3l5MmTNGjQQKuAVKpUKWJjY8maNSuKohASEqIWqgCt18WKFePVq1fExMSo0zGTYxwcHNSYq1evah07MTGRJ0+e0KxZMzUmJCREK+bt27dERERoHeuvMY8fPwbghx9+SPf5CyGEEEIIIYQQIv2yZs2qjsL64Ycf0NfXZ+rUqeTIkYOmTZtiaGhIiRIlUl2W6ONi1cc+rikkS0hIAJLWME8t7uP2vzI2Nk61PSEh4ZP7ia9D50Xwk8XHx3PixAmWLVvGzJkzAbh9+3aKwpAuwsPD+eWXXzh06JBW+5kzZ8iZMyfOzs4YGxvj5+enbgsLC+PixYtUrlwZgMqVK5OQkKBVPX3w4AF37tzRigkNDeXGjRtqzIULF4iIiFBjKlWqxK1bt7QWqffz88PQ0BBHR0c15uzZs0RFRWnFZMuWTR3BJoQQQgghhBBCiH9W165dcXBwYOLEiYSGhmJlZUVISAjZsmWjaNGiFC1alJw5czJ9+nSCg4NT7cPS0jLF4JkrV65gaGiY4qF5H+9z//59rdlip0+fpkaNGhQsWBBDQ8NU+yxRosTfPGORXukqOV64cIGRI0fy4sULde2tkSNHcuDAAVasWMGQIUPo3r27zv1ZWlrSoEEDZs6cSVxcHIULF+bw4cPs2rWLadOmYWFhQceOHZk3bx76+voUK1aMpUuXYmFhQevWrQEoUqQIDRs2ZOzYsURERJAlSxa8vb2xtrbG2dkZSCpc2dnZ4e7uzogRI4iPj2fmzJnUqlVLnbLZtGlTlixZQo8ePRg4cCAvX75k1qxZtGnTRp0P3L59e9avX0+vXr3o3r27Om936NChKRbqF0IIIYQQQgghxD9DX1+fyZMn4+LiwpQpU5g5cyZLlixh0KBBDBkyBGNjY2bPns2NGzewsrJKtY++ffvSq1cvSpUqRb169QgMDGT+/Pm0bt06zVFjzZo1Y9GiRfz888+4u7sTFRXFjBkzcHR0xMLCgq5duzJ37lx14Mzhw4c5fPgw3t7eX/NyiFToXAALDAykV69emJiY0Lt3b/7880+OHDkCQLly5ciVKxdeXl4UL16cOnXq6JzAzJkzWbhwIcuXL+fly5eUKFGCefPmqQvEDRkyBH19fVatWkVUVBT29vbMmDFD6803ffp0pk+fjpeXF4mJiVSpUoXRo0erC93p6emxZMkSJk+ezNixYzEyMqJu3br88ssvah+mpqb4+voyadIkhg0bRubMmWnXrh1DhgxRY/LkyYOvry9Tp07Fw8ODXLlyMWjQoHQV/YQQQgghhBBCCPHlWVpa0rt3bxYsWECLFi3w9fVlxowZdO7cGT09PcqVK8eaNWvImTNnqvtXr16dmTNnsmzZMubNm0eePHlwc3Ojd+/eaR7TzMwMHx8fZsyYQbNmzTAxMcHFxYURI0YA4OHhgb6+PtOmTePt27dYWlri7e1No0aNvso1EGnTUxRF0SWwb9++XLlyhd9++42CBQuycOFCFi1aRGBgIAAvX76kefPmWFlZsW7duq+a9P+ykJAQ6tati7+/P4UKFfrW6Xx1wV5dvnUKKs2w1Yw4PuTzgf8Az1reX+WxwRn1dx43LIQQ4v/J//fS5llL/qVbfF3fy+dPPnsCkgaQlCpV6lun8dUkxsWh/9GD6r73fv8J4eHhNG7cmHbt2tG/f/9vnc6/XkY+YzqvAXblyhUaNmxIwYIFU92eJ08eGjVqxJ07d9KVgBBCCCGEEEIIIf53fK0i1f9q8QsgLi6OKVOmMH/+fPVheeL7ovMUyA8fPmBmZvbJGAMDAz58+PC3kxJCCCGEEEIIIYT4X9GsWTNiYmJo3779f2K21/8inQtglpaWnDlzhsTERPT1Uw4ci4uL4/Tp0xQvXvyLJiiEEEIIIYQQQgjxPTt79uy3TkF8hs5TIFu3bs2dO3cYNWoUb9++1dr2+vVrhg0bxsOHD3F1df3iSQohhBBCCCGEEEIIkVE6jwBr164d165dY/fu3ezZswdjY2MA6tSpw/Pnz0lMTMTZ2ZkOHTp8tWSFEEIIIYQQQgghhEgvnQtgAJ6entSuXZtt27bxxx9/EB8fT0REBA4ODrRs2VJGfwkhhBBCCCGEEEKI7066CmAAjRo1olGjRl8jFyGEEEIIIYQQQgghvrh0F8AUReHy5csEBQURHR1N9uzZsbKyoly5cl8hPSGEEEIIIYQQQggh/p50FcBu3LjBiBEjePjwIYqiqO16enoULVqUWbNmYWtr+8WTFEIIIYQQQgghhHj16hWzZs3izJkzxMTEYGdnx8iRI9FoNAAcOHCAmTNnEh8fj4eHB23atEm1H2tr6xRtZmZmFClShB49etCsWTOdc3ry5AkDBw4kKCiIunXrMm/evIydnPiq0iyAtWjRAldXVzp37gzAgwcP6NatG5GRkdSvXx8HBwfy5MlDeHg4Fy9e5ODBg/To0YNt27ZRuHDhf+wEhBBCCCGEEEII8e+XmJiIu7s7iqKwePFizMzMWLBgAV26dGHfvn0kJCQwYcIE1q9fj7GxMa1bt8bR0ZHixYun2t+4ceOoX7+++jo0NJRly5YxfPhwChUqhL29vU55bdiwgWfPnrFr1y6yZcv2JU5VfAVpFsAcHByYMWMGlSpVwtramoULFxIdHc2yZcuoUaOGVmybNm1o3rw5ffr0YdmyZUyZMuWrJy6EEEIIIYQQQoj/jqCgIK5du8b+/fuxtLQEYNasWTg5OXHixAkyZ86MRqPBysoKACcnJ65cuZJmAczCwoLcuXOrr3Pnzs2sWbM4fvw4Bw8e1LkAFh4eTvHixdWcxPdJP60NTZs2RVEU4uPjATh37hy1a9dOUfxKVqNGDerUqcPp06e/TqZCCCGEEEIIIYT45uLjEr5Jv/nz52fZsmVaBS09PT0AwsLCUBRFa7mmj/9bV/r6+mTKlAkDAwO1LTg4mO7du2NnZ0eNGjUYN24c4eHhAHTq1ImtW7dy6dIlrK2tuXDhAgDbtm2jadOmlC1blnr16rF+/Xq1vx07dtCgQQMmTJiAg4MDI0aMAJKWnerUqRPlypWjWrVqzJw5k7i4OACio6Px8vKiTp062Nra0rp1a86dO5fu8/svS3ME2Pr16ylatCilS5cGkt5Mn5vaWLhwYU6ePPllMxRCCCGEEEIIIcR3I5OhAYtGbPvi/fb3/PGT27Nnz06tWrW02tatW0dMTAzVqlXDwsKCoKAgbt++jZmZGZcuXWLo0KE6H//9+/fMnz+f6OhomjRpAsCLFy/o1KkTrq6ujB49mvDwcDw9PXF3d2ft2rUsWLCAyZMn8+TJExYsWEDWrFnx9fVl7ty5jBkzBkdHR86fP8+0adOIjY2lW7duQNIyU7a2tuzcuZPY2FgeP36Mm5sbjRo1Yvz48bx69Yrhw4ejr6/P8OHDGTx4MHfu3GHixIkUKFCATZs20aNHDzZu3IidnV36LvR/VJoFsJMnT9KyZUv1df78+bl27donO7t27Rp58uT5ctkJIYQQQgghhBBCpMLf3x9vb2+6du2qTj8cP348vXr1IiEhgUGDBqU5/RFgzJgxTJgwAUhaXyw+Ph5bW1tWrlypDgbauHEjhQoVYuTIkep+c+bMoUaNGly7dg17e3tMTEwwNDQkd+7cKIrCypUr6dy5M61btwagWLFiPH78mJUrV9K1a1e1n379+qkDjWbPnk3OnDmZMmUKBgYGlChRgilTpvDw4UPu3r3LsWPH8PHxoVq1amruN27cwMfHh/nz53+5i/ovluYUyFKlSrFr1y4CAgIAqFevHtevX2fBggUpYuPi4vD29ub69etaC8gJIYQQQgghhBBCfGk7duzAw8ODRo0aMXz4cLW9WbNmnDhxgtOnT9OuXbtP9jF48GB27tzJ1q1bad++Pebm5nTu3JkqVaqoMYGBgQQGBmJvb6/+NWzYEIB79+6l6PPNmze8evUqxfphjo6OvH79mtevXwNJUzcLFSqkbg8ODqZMmTJaUy9r1qyJm5sbwcHBACn6dHBw4M6dO588R/H/0hwBtmDBAnx9fdWL369fP44ePcrixYvZuXMnDg4OZM6cmRcvXnDz5k1evHhB8eLF6du37z+WvBBCCCGEEEIIIf5blixZwty5c+nYsSNjxoxR1wFLr5w5c1K0aFEARo4cyYcPHxg2bBi5c+emQoUKABgaGlK1alXGjBmTYv8cOXKkaDM2Nk71WAkJSeubZcqUVIbR19fHyMhI3Z7cnhoTE5NU2xMTEz+5n9CW5giwbNmyMXjwYEqWLAkkPR1h8+bNtGzZktevX7N79242bNiAn58f7969w9XVlY0bN5I5c+Z/LHkhhBBCCCGEEEL8d6xYsYK5c+fi4eHB2LFjM1z8Ss2IESMoWLAgo0aNIjo6GoASJUpw7949ChQoQNGiRSlatCj6+vpMmzaNZ8+epejDwsKCfPnycfXqVa32K1eukDt3brJmzZrqsS0tLQkMDCQxMVFt27p1Ky1atKBEiRIAKfq8evWquk18XpoFsNRky5aNadOmcenSJXbv3s3GjRvZtWsXly5dYtq0aWTPnv1r5SmEEEIIIYQQQoj/sKCgIObMmUOrVq1o06YNoaGh6l9UVNTf7t/ExISJEyfy+PFjdfmnjh07Eh4ezqhRo7h9+zY3b95kyJAhPHjwgGLFiqXaT9++fVm7di1bt27l4cOHbNmyhfXr19OlS5c0C3YdOnQgNDSUyZMnc+/ePc6ePcv8+fOpWbMmRYoUoUmTJkyYMIHTp09z7949pk+fTkBAAG5ubn/7vP8r0jVWLjo6mh07dvDDDz9QuXJltb13795UqVKFjh07as1XFUIIIYQQQgghxL9LfFzCZ5/YmNF+MxmmXVPYv38/CQkJbN++ne3bt2ttGzhwIP369fvbOVSuXBlXV1fWrFlD06ZNsbGxwdfXFy8vL9q0aYOJiQkVK1Zk3rx5WlMYP9a2bVtiYmJYtmwZEydOpHDhwowaNYr27dunedy8efOyYsUKPD09ady4MXnz5sXV1ZUBAwYAMHnyZGbNmsXw4cOJioqiVKlS+Pj4pFgXTKRN5wLY27dv6dq1K7dv36Znz55qASw6Oprz589z8uRJDh48yMqVKzE3N/9qCQshhBBCCCGEEOLb+VSR6mv2O2TIEIYMGfJFjnX79u00t02fPp3p06err21tbVmzZk2a8VOnTk3R1qVLF7p06ZJqvKurK66urinaK1SowLRp0+jevTt9+vTRWsTf3NycCRMmqE+tFOmn8xTIRYsWERQURP/+/enVq5fabmpqyqVLlxg0aBDXrl1TH7/57Nkznj9//uUzFkIIIYQQQgghhPiXURSFLFmy0LdvXyZPnkx8fPy3TulfRecRYMePH6d27dq4u7un2GZkZETv3r25fPkyBw8epF69emqlM3n4nhBCCCGEEEIIIYRI3du3b2nQoAGGhoYMGDBAnvD4hek8Aiw0NDTNBd6SlShRghcvXjBx4kRcXFwoUKCAunCcEEIIIYQQQgghhEhdjhw5uHbtGhcvXqRv377fOp1/HZ0LYPnz5+fKlSufjLlx4waQtHhbv379qF+/Pk+fPv17GQohhBBCCCGEEEII8TfoXABr2LAhN2/eZObMmcTGxmpti4+PZ968eVy9epVu3bqxcuVKChQoQN68eSlUqNAXT1oIIYQQQgghhPieKYryrVMQ4l8po58tnSeU9u7dm2PHjuHr68u2bdsoWbIkFhYWREZGEhQURHh4OFZWVlqPHe3UqROdOnX6ZL8JCQmsXbuWLVu28OzZMwoUKED79u3p0KEDenp63Lp1i1atWqXYr1u3bowcORKA2NhYvLy82LdvH1FRUVSvXp3Ro0eTN29eNT4sLIzp06dz7NgxEhMTqV+/Pj///DMWFhZqzLNnz5gyZQrnz5/H2NgYFxcXBg0apPVo0+DgYKZOncqNGzfImjUr7du3p2fPnujp6el6KYUQQgghhBBC/IuZmJjw+vVrcubMKb8VhfiCFEXh9evXmJiYpHtfnQtgpqam/Prrryxbtoz9+/dz6dIldVv+/Pn56aef6NOnD+bm5ulKYPHixSxfvpx+/fpRrlw5Ll++zLRp04iOjqZnz54EBQVhZmaGr6+v1n558uRR/3v8+PEcPXqUkSNHYmZmhre3N7169WLHjh0YGCQ9RnXAgAGEhIQwYcIEYmJi8PT05NWrVyxbtgxIKqJ169YNExMTPD09efbsGV5eXsTExDBu3DgAXr9+TdeuXbGysmLu3LkEBAQwd+5cDAwM6N69e7rOWwghhBBCCCHEv1OhQoUICQkhNDT0W6cixL+OiYlJhmYbpuuRAiYmJgwcOJCBAwcSExNDWFgY5ubmWqOo0iMhIQFfX1+6d++uLvBWuXJl3rx5w6pVq+jZsye3b9/GysqKcuXKpdrHo0eP2LlzJ7Nnz1afNlmyZEkaNmyIv78/9evX5/z581y4cIEtW7ZgZ2cHQL58+ejSpQsBAQGULl2aPXv28OjRI/z9/cmXLx8AxsbGTJgwgX79+pErVy42bNhAfHw8S5YswdTUlJo1axIbG8vy5ctxc3PD0NAwQ9dBCCGEEEIIIcS/h6GhIcWLF//WaQghPqLzGmB/ZWJiQt68eVMUvx4/fqxzHxEREbi4uFC/fn2t9uLFi/PmzRuioqK4ffs21tbWafZx/vx5AGrVqqW2FStWDCsrK06dOgXAuXPnyJkzp1r8AqhYsSIWFhZqzNmzZ7GxsVGLXwDOzs7Ex8dz7tw5NaZy5cqYmppqxbx7946bN2/qfN5CCCGEEEIIIYQQ4p+TrhFgJ06cYM+ePbx584aEhAR14TFFUYiPj+fdu3c8ePCAwMBAnfrLmjWrOr3wY8eOHSNfvnyYmZkRHByMkZERLVq04N69e+TPn59+/frRsmVLAO7fv0+uXLkwMzPT6qNQoUI8ePBAjSlSpIjWdn19fQoWLKjGPHjwgGLFimnFZM+eHQsLC62YihUrasUULlxY3Va+fHmtbeHh4YSHh2u1PX/+/NMXRQghhBBCCCGEEEJ8UToXwA4fPszAgQM/udq+qakpdevW/VsJbd26lbNnzzJmzBhevHjB27dvefjwIUOGDCFr1qzs3buXUaNGoaenh4uLC5GRkamuO2Zubq4Wmz4VExERASSNRstITPLr5JiPrVmzhoULF6bzCgghhBBCCCGEEEKIL0nnApivry8GBgZ4eXnh6OhIz549KVOmDAMHDuTu3bt4enpy//59hg0bluFkdu/ezfjx42nQoAEdO3bkw4cP+Pj4oNFo1EXvq1SpwsuXL1m4cCEuLi4oipLmUzWS2xVFQV8/9dmeH7en1U9a+34upnPnzupItWTPnz+nQ4cOn+1PCCGEEEIIIYQQQnwZOq8BFhwcjLOzMw0bNiRnzpyUL1+eK1eukDNnTipWrIiPjw9GRkYsXbo0Q4n4+voyYsQIatWqhZeXF3p6epiYmFCtWjWtJz4CVK9encePHxMZGYmFhQWRkZEp+ouMjCRz5swAn4xJXsMsozHJr1N7EECWLFkoVKiQ1t/Ha4wJIYQQQgghhBBCiK9P5wLYhw8fKFq0qPr6hx9+4MGDB8TGxgKQLVs2nJ2d+f3339OdhLe3NzNmzKBFixbMnz8fIyMjIGntro0bN6rH+DgXExMTzMzMKFasGK9evSImJkYrJiQkRH3qRrFixVIszp+YmMiTJ0+0YkJCQrRi3r59S0RExCdjkvv94Ycf0n3eQgghhBBCCCGEEOLr07kAlitXLt68eaO+LlKkCImJidy5c0dty549Oy9evEhXAmvWrGHZsmW4ubkxY8YMMmX6/1mZL168YOLEiZw4cUJtUxSFw4cPU6FCBfT09KhcuTIJCQkcPXpUjXnw4AF37tyhcuXKAFSuXJnQ0FBu3Lihxly4cIGIiAg1plKlSty6dUtrkXo/Pz8MDQ1xdHRUY86ePUtUVJRWTLZs2ShZsmS6zlsIIYQQQgghhBBC/DN0XgPM0dGRw4cP061bN4oXL64WfPz9/SldujQAV69eJWvWrDof/OXLl3h5eaHRaGjSpAnXr1/X2l6+fHkcHBwYP348YWFh5M6dmy1btnD79m02bdoEJBXiGjZsyNixY4mIiCBLlix4e3tjbW2Ns7MzkFS4srOzw93dnREjRhAfH8/MmTOpVasWZcqUAaBp06YsWbKEHj16MHDgQF6+fMmsWbNo06YNuXPnBqB9+/asX7+eXr160b17d4KCgli+fDlDhw5VR60JIYQQQgghhBBCiO+LzgWwXr16cfjwYZo1a4aXlxcNGzakdu3aLFu2jD///JPXr19z9erVFIu+f8rp06eJjY0lODiYn376KcX2c+fOsXjxYry9vZk/fz7v3r3DxsYGX19ftXAFMH36dKZPn46XlxeJiYlUqVKF0aNHY2BgACQtbr9kyRImT57M2LFjMTIyom7duvzyyy9qH6ampvj6+jJp0iSGDRtG5syZadeuHUOGDFFj8uTJg6+vL1OnTsXDw4NcuXIxaNAgunfvrvM5CyGEEEIIIYQQQoh/ls4FMCsrK9atW8f8+fPVxeXHjh3L48ePOXjwIABly5Zl6NChOh/c1dUVV1fXz8ZNmjTpk9vNzMyYPHkykydPTjMmZ86czJ0795P9FC1aFB8fn0/G2Nrasnnz5k/GCCGEEEIIIYQQQojvh84FMEgqcK1cuVJ9nT9/fvbs2UNQUBDGxsYUK1YMPT29L56k+L/27jw+prv///9zEklkJQSpNS0q9jUlloqKLbXlutDa12prL0rtLbVWUxpqaUPVUsWlYl8SahdtXVWllvrQ2HeyIdv8/vDLfI1kYhIT1PW432653Zzzfp33vM44J2fmlfd5HwAAAAAAAGSX1ZPgSw+enBgREZFurq5ly5bp5MmTFL8AAAAAAADw3LG6AJaQkKCePXuqf//+2rFjh2n93bt3tWLFCg0aNEgDBgxQUlJSjiQKAAAAAAAAZIfVBbB58+Zp//79atu2rdq1a2da7+zsrJ07d+rtt9/W1q1bNXfu3BxJFAAAAAAAAMgOqwtgmzdvlr+/v8aPH6/ChQubtRUqVEjjxo1TjRo1tGbNGlvnCAAAAAAAAGSb1QWwy5cvq2zZspnGVKpUSVeuXHnipAAAAAAAAABbsboA5uXlpWPHjmUac+rUKeXPn/+JkwIAAAAAAABsxeoCWMOGDRUVFaXFixdn2L5y5Urt2bNHDRo0sFlyAAAAAAAAwJPKZW3g+++/r4iICE2aNElLly5V1apV5erqqvj4eB05ckSnT5+Wt7e3+vfvn5P5AgAAAAAAAFlidQHM09NTK1as0LRp07Rt2zb9+OOPpjYHBwcFBQVp+PDh3AIJAAAAAACA54rVBTDpwTxg06ZNU2Jios6dO6c7d+7IxcVFr7zyihwdHXMqRwAAAAAAACDbslQAS+Po6KiSJUvaOhcAAAAAAADA5iwWwPr166egoCAFBQWZlq1hMBgUGhpqm+wAAAAAAACAJ2SxABYRESFfX1+zZWsYDIYnzwoAAAAAAACwEYsFsMjISHl4eJgtAwAAAAAAAP80FgtgRYoUyXQZAAAAAAAA+CewWACLi4vLdqdubm7Z3hYAAAAAAACwJYsFsBo1amRrPi+DwaBjx449UVIAAAAAAACArVgsgPn5+T3NPAAAAAAAAIAcYbEAtnjx4qeZBwAAAAAAAJAjLBbAMpOUlKTo6GjFxcXJ09NTxYoVy9btkgAAAAAAAEBOy1IB7OrVq/riiy+0detWJSQkmNZ7enoqODhYffr0kaurq82TBAAAAAAAALLL6gLYpUuX1L59e12+fFlFihRRnTp15OXlpZiYGB0+fFhhYWHavXu3li1bxlMgAQAAAAAA8NywugD2xRdf6PLlyxo+fLi6du0qOzs7s/YFCxZo2rRpmjVrlj766CObJwoAAAAAAABkh93jQx7Yu3evAgIC1L1793TFL0nq0aOH6tSpo82bN9s0QQAAAAAAAOBJWF0Au3v3rkqWLJlpTKlSpXTnzp0sJZCSkqKFCxeqWbNmqlKlioKCgrRkyRIZjUZJktFo1Jw5cxQQEKDKlSure/fuOn36tFkfiYmJmjRpkurUqaOqVatqwIABunLlilnMnTt39NFHH6lmzZry8/PTqFGjFBcXZxZz6dIl9e3bV9WrV1ft2rU1bdo0JSYmmsWcPHlSXbt2VdWqVRUQEKD58+ebcgUAAAAAAMDzx+oC2GuvvabIyMh0BaE0SUlJ2r9/v6pXr56lBL766iuFhISoZcuWmjNnjpo1a6ZJkybpm2++kSTNnj1bc+bMUY8ePRQSEqLY2Fh169ZNsbGxpj7GjRun8PBwDRkyRJMnT9bx48fVu3dvpaSkmGL69++vgwcP6uOPP9bIkSO1fft2DRkyxNSemJioHj166OLFi5o2bZr69OmjZcuWacqUKaaYGzduqHv37jIYDJoxY4batWunGTNmaMGCBVnaZwAAAAAAADw9Vs8BNnbsWHXp0kWdO3fWBx98oBo1aihXrgebnzlzRtOnT9fly5f16aefphtZZWlS/LTRXz179tT7778vSfL399fNmze1YMECtW/fXmFhYerXr5+6dOkiSapRo4YaNGigVatWqXv37oqOjtaaNWv0+eefKygoSJLk6+urpk2bKjIyUo0bN9aBAwcUFRWlFStWqHLlypIkb29vdevWTUePHlX58uW1bt06RUdHKzIyUt7e3pIkJycnffzxx+rTp4+8vLy0dOlSJScna86cOXJ2dlb9+vWVmJio+fPnq0uXLnJwcMjKew8AAAAAAICnwOoRYB06dFBsbKwOHz6s7t27q1KlSqpTp45q1KihoKAgbd++XTExMXrrrbfk5+dn+nnttdcs9hkXF6fWrVurcePGZutffvll3bx5UwcOHFBCQoIaNmxoasuTJ49ee+017d69W5J04MABSVJAQIApxsfHR6VLlzbF7N+/X/nz5zcVvySpZs2acnNzM8Xs27dP5cqVMxW/JCkwMFDJycnav3+/Kcbf31/Ozs5mMbdv39aRI0esfSsBAAAAAADwFFk9AqxYsWI2f/E8efJo7Nix6dbv2LFD3t7epnm8Hn3tokWLavv27ZIejD7z8vKSi4tLupizZ8+aYooXL27WbmdnpyJFiphizp49Kx8fH7MYT09Pubm5mcXUrFnTLCYtt7Nnz6patWrW7TgAAAAAAACeGqsLYIsXL87JPExWrlypffv2afTo0YqLi5Ojo6McHR3NYlxdXU23WcbHx8vV1TVdP66urrp8+fJjY9L6iYuLy1ZM2vKjt31KUkxMjGJiYszWpeUEAAAAAACAp8PqAtjTsHbtWo0bN05NmjRRp06dNG/ePBkMhgxj09YbjUarYuzsMr7b8+H1lvqxtO3jYhYtWqRZs2Y9dlsAAAAAAADknCwVwK5fv64dO3boxo0bSklJkdFoNLUlJSXp9u3b2rNnjyIjI7OcyMKFCzV16lS98cYbmj59ugwGg9zd3ZWYmKikpCSzCebj4+Pl7u4u6cEE+/Hx8en6ezTm2rVrGca8/PLLj+0nbRL/jGLSljOa6L9r164KDg42W3f58mV17NjR8hsBAAAAAAAAm7K6AHb8+HF16tRJ8fHxZqOu0opgBoNBRqNRefPmzXISISEhmjdvnlq3bq2JEyeani5ZokQJGY1GnT9/3lSokmS27OPjo+vXr+vevXvKnTu3WUz16tVNMYcOHTJ7zdTUVF24cEEtWrQwxZw/f94s5tatW4qLizN7rUdjzp07J0l65ZVX0u2Xh4eHPDw8svx+AAAAAAAAwHasfgpkaGio4uLi9Pbbb+uLL76Qt7e3AgMDFRISor59+8rd3V1eXl7atm1blhJYtGiR5s2bpy5dumjKlCmm4pckVa1aVU5OToqIiDCtu3Pnjg4ePCh/f39Jkr+/v1JSUkyT4ksPJqQ/deqUWcy1a9f0+++/m2KioqIUFxdniqlVq5b++OMPszm6IiIi5ODgID8/P1PMvn37lJCQYBaTN29e+fr6Zmm/AQAAAAAA8HRYPQLs0KFD8vPz07hx4yRJu3bt0pkzZxQUFCRJatSokdq1a6f58+dryJAhVvV59epVTZ8+Xa+++qrefPNNHT582Ky9QoUK6tSpk2bOnCk7Ozv5+Pho7ty5cnNzU9u2bSVJxYsXV9OmTTVmzBjFxcXJw8NDISEhKlOmjAIDAyU9KFxVrlxZ/fr107Bhw5ScnKypU6cqICBAFSpUkCQ1b95cc+bMUa9evTRw4EBdvXpVn332mdq1a6cCBQpIkjp06KAlS5aod+/e6tmzp44fP27a30cn6gcAAAAAAMDzweoCWGxsrCpVqmRafvXVV7Vp0ybT7ZC+vr4KCAjQrl27rC6A7dmzR4mJiTp58qTeeuutdO379+/X4MGDZWdnpwULFighIUFVq1bVlClTTPN7SdLkyZM1efJkTZ8+Xampqapdu7ZGjRole3t7SQ9uz5wzZ44mTJigMWPGyNHRUQ0bNtTIkSNNfTg7O2vhwoUaP368hg4dKnd3d7Vv316DBw82xRQsWFALFy7UxIkTNWDAAHl5eWnQoEHq2bOntW8jAAAAAAAAnjKrC2BpE9KnKVasmO7fv68zZ86Y5r/y8fHR/v37rX7xf/3rX/rXv/712LihQ4dq6NChFttdXFw0YcIETZgwwWJM/vz5NWPGjExfp0SJEgoLC8s0pmLFilq+fHmmMQAAAAAAAHh+WD0HWPny5bVr1y7dv39fklSqVCkZjUazyeWjo6NNo64AAAAAAACA54HVBbCOHTvq77//VnBwsH799Vf5+PioXLlymj59ur7//nuFhoYqIiJC5cuXz8l8AQAAAAAAgCyxugDWoEEDjR49WlevXtW1a9ckSSNGjNC9e/c0fvx4zZ49Wy4uLlbP/wUAAAAAAAA8DVbPASZJnTp1Urt27ZSamipJ8vPz08aNGxURESEnJycFBASoUKFCOZIoAAAAAAAAkB1ZKoBJkqOjo9ly4cKF1aVLF5slBAAAAAAAANiS1bdAAgAAAAAAAP9EFMAAAAAAAADwQqMABgAAAAAAgBcaBTAAAAAAAAC80CiAAQAAAAAA4IWW5adAStLp06f1559/6s6dO+rYsaMuXryoPHnyyNXV1db5AQAAAAAAAE8kSyPA/vrrL7Vr107NmzfXhx9+qIkTJ0qSVq9erfr162vjxo05kiQAAAAAAACQXVYXwM6dO6eOHTvq2LFjat68uWrVqiWj0ShJKlq0qFJTUzV06FD98ssvOZYsAAAAAAAAkFVWF8Bmzpype/fu6YcfftBnn32m6tWrm9pat26tFStWKHfu3Jo/f36OJAoAAAAAAABkh9UFsH379qlZs2YqX758hu2lSpVS06ZNdezYMZslBwAAAAAAADwpqwtgcXFxypcvX6YxHh4eio2NfeKkAAAAAAAAAFuxugBWrFgx/frrrxbbjUajDh48qGLFitkkMQAAAAAAAMAWrC6AtWzZUocPH1ZISIhSU1PN2hITEzV58mT9+eefCgoKsnmSAAAAAAAAQHblsjawR48e2rdvn+bPn68ffvhBjo6OkqTOnTvr1KlTun37tipXrqxevXrlWLIAAAAAAABAVlk9AszBwUFhYWEaOnSoPD09de3aNRmNRv38889ycXFR37599d1335kKYwAAAAAAAMDzwOoRYJKUK1cu9erVS7169VJCQoJiY2Pl6uoqNze3nMoPAAAAAAAAeCJZKoA9zMXFRS4uLrbMBQAAAAAAALA5iwWwESNGZKtDg8GgSZMmZTshAAAAAAAAwJYsFsB+/PHHdOsMBoMkyWg0ZthmNBopgAEAAAAAAOC5YrEAtmbNGrPl27dva+jQocqbN6/69OmjatWqKU+ePEpISNCRI0c0a9YsxcbG6quvvsrpnAEAAAAAAACrWXwKpK+vr9nP2rVrlStXLi1evFhBQUHy9vaWs7Oz8ufPr4CAAH377bdKSUnRl19+me1kIiMjVbVqVbN1f/zxh8qUKZPuZ+rUqaaYxMRETZo0SXXq1FHVqlU1YMAAXblyxayfO3fu6KOPPlLNmjXl5+enUaNGKS4uzizm0qVL6tu3r6pXr67atWtr2rRpSkxMNIs5efKkunbtqqpVqyogIEDz58/PcEQcAAAAAAAAng9WT4IfERGhFi1ayNPTM8N2Nzc3NWjQQKtXr85WIocOHdKHH36Ybv3x48fl4uKihQsXmq0vWLCg6d/jxo3T9u3bNXz4cLm4uCgkJES9e/fW6tWrZW9vL0nq37+/zp8/r48//lj37t3TtGnTdP36dc2bN0/SgyJajx49lDt3bk2bNk2XLl3S9OnTde/ePY0dO1aSdOPGDXXv3l2lS5fWjBkzdPToUc2YMUP29vbq2bNntvYbAAAAAAAAOcvqApjBYFBMTEymMVeuXJGTk1OWEkhMTNSiRYs0c+ZMubi4KCkpyaz9xIkTKl26tKpUqZLh9tHR0VqzZo0+//xzBQUFSXoweq1p06aKjIxU48aNdeDAAUVFRWnFihWqXLmyJMnb21vdunXT0aNHVb58ea1bt07R0dGKjIyUt7e3JMnJyUkff/yx+vTpIy8vLy1dulTJycmaM2eOnJ2dVb9+fSUmJmr+/Pnq0qWLHBwcsrTvAAAAAAAAyHkWb4F8VLVq1bR582YdPHgww/atW7cqIiJCderUyVICu3bt0vz58zVs2DB16tQpXfuJEydUpkwZi9sfOHBAkhQQEGBa5+Pjo9KlS2v37t2SpP379yt//vym4pck1axZU25ubqaYffv2qVy5cqbilyQFBgYqOTlZ+/fvN8X4+/vL2dnZLOb27ds6cuRIlvYbAAAAAAAAT4fVI8AGDRqkqKgo9ejRQ/Xq1VP58uXl5uam2NhYHTp0SAcOHFD+/Pn1wQcfZCmBihUrKjIyUh4eHgoNDU3XfvLkSTk6OqpVq1Y6ffq0XnrpJfXp00fBwcGSpDNnzsjLy0suLi5m2xUtWlRnz541xRQvXtys3c7OTkWKFDHFnD17Vj4+PmYxnp6ecnNzM4upWbOmWUyxYsVMbdWqVcvSvgMAAAAAACDnWV0AK1OmjJYuXaqJEydqx44d2rFjh6nNYDCoXr16GjNmjAoXLpylBAoVKmSx7cqVK7p165b+/vtvDR48WHny5NH69ev10UcfyWAwqHXr1oqPj5erq2u6bV1dXXX58mVJyjQmbSL8uLi4bMWkLT86ob4kxcTEpLttNC0nAAAAAAAAPB1WF8AkqWzZslqyZImuXLmiEydOKCYmRh4eHipXrpy8vLxsnlyePHkUFhamV1991TTpfe3atXX16lXNmjVLrVu3ltFolMFgyHD7tPVGo1F2dhnf7fnwekv9WNr2cTGLFi3SrFmzHrstAAAAAAAAck6WCmBpChUqlOnILVvJnTu36tatm259vXr1tHv3bsXHx8vNzU3x8fHpYuLj4+Xu7i7pwRMqr127lmHMyy+/bIqx1I+bm5vFmLTltJiHde3a1XSrZprLly+rY8eOGe4vAAAAAAAAbM/qSfCfhTNnzmjZsmVKTEw0W3///n3lzp1bLi4u8vHx0fXr13Xv3j2zmPPnz5uKWz4+Pjp37pxZe2pqqi5cuGAWc/78ebOYW7duKS4uLtOYtH5feeWVdPl7eHioaNGiZj8PT7IPAAAAAACAnPdcF8CuXLmiTz75RDt37jStMxqN2rp1q2rUqCGDwSB/f3+lpKRo+/btppizZ8/q1KlT8vf3lyT5+/vr2rVr+v33300xUVFRiouLM8XUqlVLf/zxh9kcXREREXJwcJCfn58pZt++fUpISDCLyZs3r3x9fXPmTQAAAAAAAMATydYtkE+Ln5+fqlevrnHjxunOnTsqUKCAVqxYoRMnTuj777+XJBUvXlxNmzbVmDFjFBcXJw8PD4WEhKhMmTIKDAyU9KBwVblyZfXr10/Dhg1TcnKypk6dqoCAAFWoUEGS1Lx5c82ZM0e9evXSwIEDdfXqVX322Wdq166dChQoIEnq0KGDlixZot69e6tnz546fvy45s+fryFDhsjR0fHZvEkAAAAAAADI1HNdALO3t9dXX32lkJAQffnll7p9+7bKlSunhQsXmgpXkjR58mRNnjxZ06dPV2pqqmrXrq1Ro0bJ3t5e0oPJ7efMmaMJEyZozJgxcnR0VMOGDTVy5EhTH87Ozlq4cKHGjx+voUOHyt3dXe3bt9fgwYNNMQULFtTChQs1ceJEDRgwQF5eXho0aJB69uz59N4UAAAAAAAAZMlzVQDr37+/+vfvb7Yub968Gj9+fKbbubi4aMKECZowYYLFmPz582vGjBmZ9lOiRAmFhYVlGlOxYkUtX7480xgAAAAAAAA8P7JcALt165Y2bdqk48eP686dO5o5c6Z+/fVXpaammubKAgAAAAAAAJ4XWSqArVu3TmPHjtW9e/dkNBplMBgkST/99JO++eYbtW/fXmPHjs2RRAEAAAAAAIDssPopkFFRURo+fLgKFiyo8ePHq02bNqa2wMBAlSlTRt9//73WrFmTE3kCAAAAAAAA2WJ1AWzOnDnKly+fVqxYobZt28rb29vUVrlyZS1ZskTe3t5atmxZjiQKAAAAAAAAZIfVBbAjR46oadOmypMnT4btbm5uCgwM1JkzZ2yWHAAAAAAAAPCkrC6ApaamPjYmMTFRycnJT5QQAAAAAAAAYEtWF8DKlCmjn376SYmJiRm2x8XFaefOnfL19bVZcgAAAAAAAMCTsroA1rVrV50/f169e/fW0aNHTYWw1NRUHTlyRL1799aVK1fUoUOHHEsWAAAAAAAAyKpc1gY2a9ZMJ0+e1Ny5c82eAFmpUiWlpKTIaDSqc+fOatGiRY4kCgAAAAAAAGSH1QUwSRo4cKAaNGigVatW6dixY4qNjZWLi4vKlCmj4OBg1axZM6fyBAAAAAAAALIlSwUw6cGIr0qVKuVELgAAAAAAAIDNWT0HGAAAAAAAAPBPZHEEWMOGDbPVocFgUERERLYTAgAAAAAAAGzJYgHszp07MhgMZuvu3bunpKQkGQwGFS1aVHny5FFCQoKio6OVnJys/Pnzq0CBAjmeNAAAAAAAAGAtiwWwX375xWz55MmT6ty5s+rVq6fhw4ebFbpiY2M1ffp0rV+/Xp988knOZQsAAAAAAABkkdVzgE2ZMkVFihTRtGnT0o3ycnd31yeffKLSpUtrypQpNk8SAAAA/2ypSUnPOgUzz1s+AAAgZ1n9FMhDhw7p7bfflp2d5ZpZlSpVtHz5cpskBgAAgBeHnYODDgwc+KzTMKk1c+azTgEAADxFVo8A8/Dw0KlTpzKN+e2335QvX74nTgoAAAAAAACwFasLYA0bNtS+ffv01VdfKSUlxawtMTFRkyZN0uHDh9WiRQubJwkAAAAAAABkl9W3QA4YMEBRUVEKDQ3VokWLVKZMGbm6uiouLk7Hjh1TfHy8qlWrpj59+uRkvgAAAAAAAECWWF0A8/T01KpVq/TNN99ow4YNOnjwoKmtZMmSCg4OVteuXeXg4JAjiQIAAAAAAADZYXUBTJJcXFw0YMAADRgwQPfv39edO3eUJ08eOTk55VR+AAAAAAAAwBOxeg6wRzk5OalgwYLpil8HDhx44qQAAAAAAAAAW8nSCLClS5dq/fr1unnzplJSUmQ0GiVJRqNRycnJio2N1b179/Tnn3/mSLIAAAAAAABAVlldAFu+fLkmTJggScqdO7fu378vR0dHSdL9+/clSXny5FG7du1yIE0AAAAAAAAge6y+BXLFihVydnbWypUr9dtvv6lKlSpq2bKlDh8+rIiICNWvX1/x8fFq0aJFtpOJjIxU1apVzdYZjUbNmTNHAQEBqly5srp3767Tp0+bxSQmJmrSpEmqU6eOqlatqgEDBujKlStmMXfu3NFHH32kmjVrys/PT6NGjVJcXJxZzKVLl9S3b19Vr15dtWvX1rRp05SYmGgWc/LkSXXt2lVVq1ZVQECA5s+fbxoJBwAAAAAAgOeP1QWwM2fOqEmTJqpYsaIkqUqVKqb5vooWLaovv/xSXl5emj9/frYSOXTokD788MN062fPnq05c+aoR48eCgkJUWxsrLp166bY2FhTzLhx4xQeHq4hQ4Zo8uTJOn78uHr37q2UlBRTTP/+/XXw4EF9/PHHGjlypLZv364hQ4aY2hMTE9WjRw9dvHhR06ZNU58+fbRs2TJNmTLFFHPjxg11795dBoNBM2bMULt27TRjxgwtWLAgW/sMAAAAAACAnGf1LZApKSkqVKiQafnll1/WhQsXlJCQIBcXFzk5OalBgwbas2dPlhJITEzUokWLNHPmTLm4uCgpKcnUFhcXp7CwMPXr109dunSRJNWoUUMNGjTQqlWr1L17d0VHR2vNmjX6/PPPFRQUJEny9fVV06ZNFRkZqcaNG+vAgQOKiorSihUrVLlyZUmSt7e3unXrpqNHj6p8+fJat26doqOjFRkZKW9vb0kPJvr/+OOP1adPH3l5eWnp0qVKTk7WnDlz5OzsrPr16ysxMVHz589Xly5d5ODgkKV9BwAAAAAAQM6zegRYoUKFdOnSJdNy8eLFZTQadfLkSdM6FxcXXbt2LUsJ7Nq1S/Pnz9ewYcPUqVMns7bDhw8rISFBDRs2NK3LkyePXnvtNe3evVvS/3vqZEBAgCnGx8dHpUuXNsXs379f+fPnNxW/JKlmzZpyc3Mzxezbt0/lypUzFb8kKTAwUMnJydq/f78pxt/fX87OzmYxt2/f1pEjR7K03wAAAAAAAHg6rC6A1a5dW9u2bTMVnMqWLSt7e3utXbtWkpSUlKS9e/cqf/78WUqgYsWKioyMVJcuXWQwGMzazp49K0kqVqyY2fqiRYua2s6cOSMvLy+5uLhkGlO8eHGzdjs7OxUpUsQUc/bs2XQxnp6ecnNzM4spUaKEWUxabmkxAAAAAAAAeL5YfQvku+++qy1btqh79+6aNGmSgoOD1bx5c33//fc6cuSIYmJiFB0dra5du2YpgYdvq3xUXFycHB0dTU+bTOPq6mqawD4+Pl6urq7ptnV1ddXly5cfG5PWT1xcXLZi0pYfnVBfkmJiYhQTE2O2Li0nAAAAAAAAPB1WF8AKFy6s//znP5o/f75pFNTIkSN18+ZN7dq1S3Z2dmrcuLH69+9vs+SMRmO6UWFp0tZbG2Nnl/Fgt4fXW+rH0raPi1m0aJFmzZr12G0BAAAAAACQc6wugElSkSJF9Mknn5iWPTw8NH/+fMXGxsrBwUG5c+e2aXLu7u5KTExUUlKS2QTz8fHxcnd3lyS5ubkpPj4+3baPxmQ0N1l8fLxefvnlx/bj5uZmMSZtOS3mYV27dlVwcLDZusuXL6tjx46WdxoAAAAAAAA2laUCmCVphSZbK1GihIxGo86fP28qVEkyW/bx8dH169d17949swLc+fPnVb16dVPMoUOHzPpOTU3VhQsX1KJFC1PM+fPnzWJu3bqluLg4s9d6NObcuXOSpFdeeSVd/h4eHvLw8MjWvgMAAAAAAMA2LBbARowYka0ODQaDJk2alO2EHla1alU5OTkpIiJC77zzjiTpzp07OnjwoPr16ydJ8vf3V0pKirZv366goCBJDyakP3XqlFnMvHnz9Pvvv6tSpUqSpKioKMXFxcnf31+SVKtWLX3yySe6fPmy6UmQERERcnBwkJ+fnynmhx9+UEJCgmnS/YiICOXNm1e+vr422WcAAAAAAADYlsUC2I8//phu3cNzamXUljYfl60KYK6ururUqZNmzpwpOzs7+fj4aO7cuXJzc1Pbtm0lScWLF1fTpk01ZswYxcXFycPDQyEhISpTpowCAwMlPShcVa5cWf369dOwYcOUnJysqVOnKiAgQBUqVJAkNW/eXHPmzFGvXr00cOBAXb16VZ999pnatWunAgUKSJI6dOigJUuWqHfv3urZs6eOHz+u+fPna8iQIekm6gcAAAAAAMDzwWIBbM2aNWbLt2/f1tChQ5U3b1716dNH1apVU548eZSQkKAjR45o1qxZio2N1VdffWXTBAcPHiw7OzstWLBACQkJqlq1qqZMmWJ22+XkyZM1efJkTZ8+Xampqapdu7ZGjRole3t7SQ+Kc3PmzNGECRM0ZswYOTo6qmHDhho5cqSpD2dnZy1cuFDjx4/X0KFD5e7urvbt22vw4MGmmIIFC2rhwoWaOHGiBgwYIC8vLw0aNEg9e/a06T4DAAAAAADAdiwWwB69pW/kyJHKlSuXFi9eLE9PT9N6Z2dnBQQEqEaNGmrdurW+/PJLzZw5M1vJ9O/fP91TJHPlyqWhQ4dq6NChFrdzcXHRhAkTNGHCBIsx+fPn14wZMzJ9/RIlSigsLCzTmIoVK2r58uWZxgAAAAAAAOD5YWdtYEREhBo2bGhW/HqYm5ubGjRooD179tgsOQAAAAAAAOBJWV0AMxgMiomJyTTmypUrcnJyeuKkAAAAAAAAAFuxugBWrVo1bd68WQcPHsywfevWrYqIiFCdOnVslhwAAAAAAADwpCzOAfaoQYMGKSoqSj169FC9evVUvnx5ubm5KTY2VocOHdKBAweUP39+ffDBBzmZLwAAAAAAAJAlVhfAypQpo6VLl2rixInasWOHduzYYWozGAyqV6+exowZo8KFC+dIogAAAAAAAEB2WF0Ak6SyZctqyZIlunLlik6cOKGYmBh5eHioXLly8vLyyqkcAQAAAAAAgGzLUgEsTaFChVSoUCFb5wIAAAAAAPCPl5qUJDsHh2edhsnzls+zYLEA1q9fPwUFBSkoKMi0bA2DwaDQ0FDbZAcAAAAAAPAPY+fgoAMDBz7rNExqzZz5rFN45iwWwCIiIuTr62u2bA2DwfDkWQEAAAAAAAA2YrEAFhkZKQ8PD7NlAAAAAAAA4J/GYgGsSJEiZssGg0EeHh5yc3Oz2Nm1a9f0119/pdsWAAAAAAAAeFbsrA1s2LChFi1alGnMd999p759+z5xUgAAAAAAAICtWBwBtnfvXp0+fdq0bDQa9dtvv+m7777LMD4pKUkbN26Uvb297bMEAAAAAAAAssliAczDw0NTpkyR0WiU0WiUwWDQnj17tHv37kw77NSpk82TBAAAAAAAALLLYgGsYsWKmjNnjm7evCmj0aiRI0cqMDBQDRs2TBdrMBiUK1cuFSpUSH5+fjmaMAAAAAAAAJAVFgtgklS/fn3Tv3/++WeLBTAAAAAAAADgeZVpAexhkydPzsk8AAAAAAAAgBxhdQFMkk6fPq3w8HBduHBBiYmJMhqN6WIMBoNCQ0NtliAAAAAAAADwJKwugB08eFC9evVSUlJShoWvNAaDwSaJAQAAAAAAALZgdQHsyy+/VHJysgYNGqT69evLzc2NYhcAAAAAAACee1YXwP744w8FBQXp3Xffzcl8AAAAAAAAAJuyszbQyclJBQoUyMlcAAAAAAAAAJuzugBWt25d7dmzRykpKTmZDwAAAAAAAGBTVhfAhg0bpoSEBA0aNEi//vqrbt68qbi4uAx/AAAAAAAAgOeF1XOAdejQQQkJCdq2bZsiIiIsxhkMBh07dswmyQEAAAAAAABPyuoCWOHChXMyj0zdunVLtWrVSre+SZMm+vLLL2U0GjV37lz98MMPunXrlqpVq6bRo0erZMmSptjExERNnz5dGzZsUEJCgurVq6dRo0apUKFCppg7d+5o8uTJ2rFjh1JTU9W4cWONGDFCbm5upphLly7p008/1YEDB+Tk5KTWrVtr0KBBcnR0zNk3AQAAAAAAANlidQFs8eLFOZlHpo4fPy5JWrBggVxdXU3r8+bNK0maPXu25s+fr6FDh6pIkSKaM2eOunXrpo0bN8rd3V2SNG7cOG3fvl3Dhw+Xi4uLQkJC1Lt3b61evVr29vaSpP79++v8+fP6+OOPde/ePU2bNk3Xr1/XvHnzJD0oovXo0UO5c+fWtGnTdOnSJU2fPl337t3T2LFjn+I7AgAAAAAAAGtZXQB7lk6cOCEvLy/VqVMnXVtcXJzCwsLUr18/denSRZJUo0YNNWjQQKtWrVL37t0VHR2tNWvW6PPPP1dQUJAkydfXV02bNlVkZKQaN26sAwcOKCoqSitWrFDlypUlSd7e3urWrZuOHj2q8uXLa926dYqOjlZkZKS8vb0lPXg65scff6w+ffrIy8vrKb0jAAAAAAAAsFaWCmDXr1/Xjh07dOPGDaWkpMhoNJrakpKSdPv2be3Zs0eRkZE2TfLEiRMqU6ZMhm2HDx9WQkKCGjZsaFqXJ08evfbaa9q9e7e6d++uAwcOSJICAgJMMT4+PipdurR2796txo0ba//+/cqfP7+p+CVJNWvWlJubm3bv3q3y5ctr3759KleunKn4JUmBgYEaPXq09u/frxYtWth0vwEAAAAAAPDkrC6AHT9+XJ06dVJ8fLyMRqMMBoMkmYpgBoNBRqPRdFuiLZ04cUJOTk56++23dfToUXl6eqpLly7q2bOnzp49K0kqVqyY2TZFixbV9u3bJUlnzpyRl5eXXFxc0sWkbX/mzBkVL17crN3Ozk5FihQxxZw9e1Y+Pj5mMZ6ennJzczPFAAAAAAAA4PlidQEsNDRUcXFxat++vV577TVNmzZNFSpUULNmzXT69GktXrxYjo6O2rRpk00TTElJ0enTp+Xs7Kzhw4ercOHC+umnn/T555/r3r17cnBwkKOjY7pJ6F1dXRUXFydJio+PN5s77OGYy5cvPzYmrZ+4uLjHxjwsJiZGMTExZuvSXg8AAAAAAABPh9UFsEOHDsnPz0/jxo2TJO3atUtnzpwxzanVqFEjtWvXTvPnz9eQIUNsmuTcuXNVuHBhlShRQtKDWxMTEhL0zTff6L333jONRnvUw6PUrImxs7PLMObh9Zb6yWjbRYsWadasWRb2CgAAAAAAAE9DxhWfDMTGxqpSpUqm5VdffVXHjx833QLp6+urgIAA7dq1y6YJ2tvby9/f31T8SlOvXj3dvXtXzs7OSkxMVFJSkll7fHy86QmQbm5uio+PT9e3tTFubm5Wxzysa9euioyMNPtZunSplXsOAAAAAAAAW7C6AObu7q7ExETTcrFixXT//n2dOXPGtM7Hx0cXL160aYJXrlzRDz/8oJs3b5qtv3//vqQHE94bjUadP3/erP38+fN6+eWXTXldv35d9+7dyzTm3LlzZu2pqam6cOGCWcyjr3Pr1i3FxcWZYh7m4eGhokWLmv08PIE+AAAAAAAAcp7VBbDy5ctr165dpsJTqVKlZDQadejQIVNMdHS07O3tbZpgYmKixo4dq7Vr15qt37Jli3x8fNSoUSM5OTkpIiLC1Hbnzh0dPHhQ/v7+kiR/f3+lpKSYJsWXHkxof+rUKbOYa9eu6ffffzfFREVFKS4uzhRTq1Yt/fHHH2bzeEVERMjBwUF+fn423W8AAAAAAADYhtVzgHXs2FHvv/++goODNWHCBFWvXl3lypXT9OnTlZSUpOvXrysiIkI1a9a0aYLFihVT8+bNNXPmTBkMBpUsWVKbN2/W1q1bNXv2bLm6uqpTp06aOXOm7Ozs5OPjo7lz58rNzU1t27aVJBUvXlxNmzbVmDFjFBcXJw8PD4WEhKhMmTIKDAyU9KC4VblyZfXr10/Dhg1TcnKypk6dqoCAAFWoUEGS1Lx5c82ZM0e9evXSwIEDdfXqVX322Wdq166dChQoYNP9BgAAAAAAgG1YXQBr0KCBRo8erRkzZujatWuSpBEjRuidd97R+PHjZTQa5eHhYfMJ8CVp4sSJ+uqrr7Ro0SJdu3ZNJUuWVGhoqBo2bChJGjx4sOzs7LRgwQIlJCSoatWqmjJliml+L0maPHmyJk+erOnTpys1NVW1a9fWqFGjTCPWDAaD5syZowkTJmjMmDFydHRUw4YNNXLkSFMfzs7OWrhwocaPH6+hQ4fK3d1d7du31+DBg22+zwCQXanJibLL5fj4wKfkecsHAAAAwP8eqwtgktSpUye1a9dOqampkiQ/Pz9t3LhRERERcnJyUkBAgAoVKmTzJHPnzq3BgwdbLDTlypVLQ4cO1dChQy324eLiogkTJmjChAkWY/Lnz68ZM2ZkmkuJEiUUFhZmVd4A8CzY5XLUyendnnUaJq8O/fZZpwAAAADgf1yWCmCS5Oho/lf8woULq0uXLjZLCAAAAAAAALAlqwtgkZGRVneadmsiAAAAAAAA8KxZXQDr27evDAaDVbF//vlnthMCAAAAAAAAbOmJC2B3795VdHS0du7cqcqVK6tr1642TRAAAAAAAAB4ElYXwPr3759p+7Fjx9ShQwfFxsY+cVIAAAAAAACArdjZqqNy5cqpadOmWrBgga26BAAAAAAAAJ6YzQpgkuTp6am///7bll0CAAAAAAAAT8RmBbCbN29qy5YtKlCggK26BAAAAAAAAJ6Y1XOA9evXL8P1qampunv3rn7//XclJCSob9++NksOAAAAAAAAeFJWF8AiIiIybc+TJ4+6deum999//4mTAgAAAAAAAGzF6gJYZGRkhusNBoMcHByUP39+2dnZdEoxAAAAAAAA4IlZXQArUqRITuYBAAAAAAAA5AirC2A3b97Ujh07dO7cOd26dUtubm4qXry4ateurWLFipniQkJClDdvXvXo0SNHEgYAAAAAAACy4rEFsJs3b2rChAnatm2bUlJSZDQaTW0Gg0GS1KBBA40cOVKpqan69ttv1b1795zLGAAAAAAAAMiCTAtg//d//6eOHTvq1q1byp8/v+rXr6+XX35ZefPmVXx8vE6fPq3du3dr+/btOnTokAoXLixXV1d169btKaUPAAAAAAAAZM5iAezevXt6//33defOHQ0aNEg9e/aUg4NDuriUlBQtXrxY06dP159//qlJkybJ09MzR5MGAPxzJKUkycE+/fXjWXne8gEAAACQ8ywWwMLDw/X3339r5MiR6tKli8UO7O3t1bhxY4WGhiohIUGxsbE5kigA4J/Jwd5Bw34a/KzTMJkWEPKsUwAAAADwlNlZali7dq1KlCihzp07P7aT6dOny97eXkWLFtXmzZttmiAAAAAAAADwJCwWwP7++2/VrFnTNNG9JYmJiTp48KC6dOmi119/XdHR0TZPEgAAAAAAAMguiwWw+Ph45c2b97EdODo6aufOnerZs6dcXV0VFxdny/wAAAAAAICkxKSUZ52CmectHyAzFucAe+mll3T27FmrOrG3t5ezs7POnj0rb29vW+UGAAAAAAD+f44O9uow9qdnnYbJsvEBzzoFwGoWR4BVq1ZNu3fv1tWrV63q6MqVK9q1a5eqV69us+QAAAAAAACAJ2WxANaxY0fdu3dPH3zwgRISEjLtJD4+XoMGDdL9+/fVsWNHmycJAAAAAAAAZJfFAljZsmX17rvv6tdff1VwcLB+/PFH3bx50yzmxo0bWrlypVq2bKnffvtN7733nsqVK5fjSQOwreTn7N795y0fAAAAAMA/m8U5wCRp4MCBkqSvv/5aI0eOlCR5eHjIxcVF8fHxio2NlfRgDrD3339fAwYMyOF0AeSEXA72mj1s1bNOw6TvtDbPOgUAAAAAwAvE4ggwSTIYDBo0aJBWr16t9u3bq1ChQoqJidGlS5cUGxurggULqkOHDlq1atX/VPFrxYoVaty4sSpVqqS33npL//3vf591SgAAAAAA/M9KSkl61ingOZfpCLA0ZcqU0dixYzV27FglJSXp9u3byps3rxwcHHI6v+fOjz/+qHHjxqlv376qWLGiFi9erJ49eyo8PFzFihV71ukBAAAAAPBUpCYnyi6X47NOQ5LkYO+gYT8NftZpmEwLCHnWKeARVhXAHubg4KACBQrkRC7PPaPRqNDQULVr1079+vWTJNWuXVtNmzbVokWLNHr06GecIQAAAAAAT4ddLkednN7tWachSXp16LfPOgU85zK9BRLm/v77b124cEFvvPGGaZ2Dg4MCAgK0e/fuZ5gZAAAAAAAALKEAlgVnz56VJJUoUcJsfbFixRQdHa2UFJ5cBwAA8E/wPD1x+HnKBQCAF1WWb4H8XxYXFydJcnV1NVvv6uqq1NRU3b17V25ubqb1MTExiomJMYu9cOGCJOny5cs5nO3z4UrsvWedgonL+fNKuJ7wrNOQJJ0/f17XEp6PXKQH+cQk3HrWaZicP3/+Wafwj8e5ZxnHF3IS555lz9u17/KVS1o8ZdOzTkOS1PmjZs86hRfC83L+PY/nHl4s9+OvP+sUTM6fP8+5Z8Hzdt37X/pd4O3trVy50pe7DEaj0fgM8vlHWrdunYYOHaq9e/fKy8vLtH7lypUaPXq0Dh06ZFYcCw0N1axZs55FqgAAAAAAAP9zIiMjVbRo0XTrGQGWBe7u7pKk+Ph4swJYfHy87O3t040M69q1q4KDg83WJSYm6ty5c/Lx8ZG9vX3OJw2bunz5sjp27KilS5fK29v7WacD/M/g3AOeDc494Nng3AOeDc69F4Ol/zsKYFmQNvfXuXPnzOYBSytoPcrDw0MeHh7p1r/yyis5liOeDm9v7wwrygByFuce8Gxw7gHPBuce8Gxw7r2YmAQ/C3x8fPTSSy8pIiLCtC4pKUk//fST/P39n2FmAAAAAAAAsIQRYFlgMBj0zjvvaMKECcqTJ4+qVaumJUuW6NatW+rWrduzTg8AAAAAAAAZoACWRR07dtT9+/f13Xff6dtvv1XZsmUVFhamYsWKPevUAAAAAAAAkAEKYNnQo0cP9ejR41mngWfAw8ND/fr1y3BuNwA552mce3fv3tXFixfl6empfPny5djrAP8kXPeAZ4NzD3g2OPdebAaj0Wh81kkAAPCsTZkyRatWrdKqVasyfLAJAAAAgH8uRoABAP7n3b59WytWrFBISAjFLwAAAOAFxAgwAAAAAAAAvNAYAYZ/vM6dO+vgwYNm63Lnzq0SJUqoXbt26tSpkySpTJkyFvsICgrSF198ofPnz6thw4aaOXOmmjZtqqioKHXp0iXT1z9x4sRj4xwdHXXkyBFJ0kcffaQff/zRrN3Ozk7u7u4qV66cBg0apCpVqmT6mvhns/aYlV6c4zaj7R0dHVW0aFG9+eabev/992Vvby9JeuONN3ThwgWLfYWEhOjNN9/MMH8nJycVLlxYjRo10rvvvis3NzdT2+rVqzVixAjt378/3RxfERER6tu3r15//XV9/fXXZm2hoaGaNWuWxXwkKTg4WFOmTMnw/9be3l4eHh6qWrWqhg4dqpIlS5raypQpo2HDhqlnz56mdUajUWvWrNGqVat06tQppaamqmTJkurYsaNatmyZ4etnlj+entatW+vPP//UypUrValSJbO2xMREffvtt1q7dq2io6Pl6OiosmXLqlOnTmrSpImk/3eMZua1117T4sWLs31OHj9+XK1atVKpUqW0YcOGdO0ZHcMP69evn/r37//YuCFDhqh3796m30/+/v769ttv08VNnDhRkZGR2r59u6THn29169ZVWFiYaZnzBY8TERGh77//XseOHdO9e/dUokQJtWnTRm+99ZYcHBxMcXfv3tWiRYu0YcMGRUdHy9nZWWXKlFGHDh1M52ia7Jx/We1/zZo1Wrx4sfz8/MzaYmJi5Ofnp8mTJ+tf//qXWdvNmzf1+uuvy9XVVbt375ajo6Mkafbs2fryyy+1bds2FS9ePN17lJKSonr16qlBgwaaOHFipn09Kjo6WgsXLtSuXbt07do1FShQQLVr19b777+vwoULZ7gNkF2dO3eWi4uL5s2bZ7Y+s+tvVq9DkvT3339r9uzZ2rdvn27fvq18+fKpdu3a6tu3r9nD77L6mfXf//63Jk2alC6uT58+io2N1eLFi619K5BNFMDwQqhWrZqGDx9uWk5ISNDq1as1YcIESTIVFDp37qzmzZun297T0zPDfsuXL68ffvgh3fro6GiNGDFCFStWNFs/efJkvfLKK+ni7ezszJaLFSum6dOnm5aTk5N15swZzZkzRz179tSmTZtUsGBBS7uLF4C1x6z04hy3j25/79497dixQ6GhoYqPjzd7P5o0aWLxYSMlSpTIMH+j0aiEhAQdPnxYX3/9tfbu3aslS5bIxcXFYk5pwsPDVbp0ae3Zs0eXL1+Wt7e3qa1t27aqV6+eaXn69OmKj4/XuHHjTOseLqg9+n+bmJio48ePa/bs2erZs6e2bNkiJyenDPNITk5W//79tWfPHr399tvq1auX7O3ttWvXLg0fPlxHjhzRqFGjspQ/no6TJ0/q+PHjKlWqVIYfwIcPH679+/frvffeU5kyZXT37l1t27ZNAwYM0Lhx49ShQwcFBASYnbuLFi3Szz//bFYQeriom51zcs2aNSpdurROnTqlQ4cOqVq1ambt48aNU1xcXLr9mzlzpvbv32/2pf7RY/1hL730ktny/v37tXr16nRf2DOSO3duLVq0KMM2d3d30785X/A4n3zyiZYvX67WrVurffv2cnFx0cGDBzVt2jRFRUVpxowZsre3140bN9S9e3ddunRJXbt2VfXq1XX37l1t3bpVAwcOVHBwsCZNmiSDwWDqOyvnX3b6NxqNGjNmjNauXWux+PSoDRs26KWXXtKVK1e0ZcsWtWjRQpLUqlUrhYaGauPGjXrvvffSbbd3717duHFDwcHBj+3rYfv27VP//v1VrFgxvf/++ypatKguXLigb775Rm3atNGSJUsy/HwB2NLjrr9prL0OXb58WW+99ZZKlSqlkSNHysvLSxcvXlRYWJjatm2r1atXmxV3s/KZ9T//+Y9atmypWrVqZXEvYSsUwPBC8PDwSPeXtlq1aumPP/7QkiVLTMWEl156KUujq9zc3NLF379/X2PHjpWbm5tCQkLM2kqXLp2uuJCR3Llzp+u3Ro0aKlKkiLp3765t27apY8eOVueJfx5rj1npxTluM9q+Vq1aOnnypJYvX67Bgweb/hrv5eVl9T4/mn+dOnVUpUoV9ejRQ19//bUGDhyY6fZ37tzRjh07NH36dI0bN06rVq1Sv379TO3e3t5mX5A9PDxkMBgs5pfR/+1rr70mZ2dnjR49WgcOHFD9+vUz3Hbu3LnasWOHvv76a7Oi2+uvv66CBQvq888/V5MmTVSjRg2r88fT8eOPP8rX11etW7fWl19+qREjRpiKr+fPn9fGjRv1xRdfKCgoyLTNG2+8ofj4eIWGhqpDhw7Kly+fWTF1w4YNcnR0tHisZfWcTElJ0fr16/XOO+/oP//5j1auXJmuAFaqVKl0r7N+/Xrt27dPPXr0MDsuMzrWLXF3d9fUqVNVv3595c+fP9NYOzs7q/rlfEFm1qxZo2XLlmn8+PF66623TOtr166tV199VR988IHWrVun1q1ba8SIEbpy5YpWrVpl9oX1jTfeUI0aNTRq1CiVK1dOnTt3NrVl5fzLTv+urq6mUSgffPCB1fvcoEEDnTt3TitXrjQVrYoWLSo/Pz+LBbB169apRIkSZueKpb7S3Lx5U0OGDFG5cuUUFhZmVqR744031KpVK33yyScWi9mArWR2/X2YtdehVatWKTU1VWFhYWZ/sKxXr54CAwO1ZMkSDRs2zLQ+K59Z3d3dNXbsWK1bt87iH0ORs+weHwL8M9nZ2cnX11cXL160ab+TJk3SiRMnNHnyZJsP7XZ1dbVpf/hnyaljVnq+j9ty5copISFBd+7csVFGD77gVK9eXStXrnxs7IYNG2QwGFS3bl01bdpUq1evVk5Mj/m49ykpKUmLFy9WgwYNzL7Mp+nSpYs6duyYbmTe08oflqUVlurVq6dmzZrp7t272rhxo6n95s2bkqTU1NR02/bq1Uu9evVSUlKSzfKxdKzt2bNH165dU7169dS8eXNt3rw5w9FeD/v77781duxYValSRYMHD852Tn369FFiYqLp9qonxfmCxwkLC1OZMmXMil9pgoKC1KNHD3l6eur48ePauXOn3nvvvXSjNSSpTZs2eu211zR//vwMz+FHPXr+Zbf/woULq3379goLC9PJkycf+7qnT5/WH3/8oXr16qlFixY6ePCgoqOjTe2tW7fWiRMndPr0abPt7t69q4iICLVq1crqvqQHBbKbN29qxIgR6UaoeXp6avjw4fL391dycvJjcwey63HX34dZex26ceOGpPTX7Pz582vUqFF67bXXsp3vBx98oHPnzj12ag3kHApgeKH9/fffKlq0qGk5NTVVycnJZj8pKSlW97d161YtX75c3bp10xtvvJGuPaP+k5OTM/zA9HD73bt3deTIEU2YMEFubm5q2LBh9nYY/3iPHrPSi3/c/v3333JxcTH7a5zRaMwwp6zst7+/v65du6bz589nGhceHq4GDRrIzc1NrVq10oULF7R3795s7UtGucfHxysqKkpffPGFChcubPYX9of98ccfun37tsXRYblz59bYsWPTjdixdf7Iun379unq1atq0aKFChUqJH9/f61atcrU7uvrq0KFCmncuHGaOnWqDh48qPv370uSKlWqpJ49e5rNRZQVWTknw8PDVb58eb3yyitq2bKl7t27l+E8YGkSExP1wQcfKFeuXAoJCUmXo6XzNKMvvIULF9bAgQO1YcMG/fTTT1nar4d/0opVnC/IzNWrV3Xy5EmLx4f04Lbk+vXra8+ePZIejBy0pHHjxrp69aqOHTtmtt6a8+9J+h88eLDy58+v0aNHP7b4tmbNGnl5eal27dp644035OrqavZ7qEmTJnJ2dtamTZvMtouMjNTdu3fNbn98XF/Sg9smCxQooHLlymWYz5tvvqn33ntPuXJxwxFyzuOuvw+z9jr0+uuv686dO3rrrbe0dOlS/d///Z+prU2bNgoICDCLz8pn1kqVKqljx45asGCBjh8/nq19xpPhNxJeCGm/eNL+fe3aNdOEpw9PKDx9+nSz+RqkB7dPrV+//rGvceHCBY0ePVqVKlXS0KFDM4xp165dhuvfeecds21OnTql8uXLm8U4ODioatWqWrRoEfOR/A+w9piVXqzj9uEvxjdu3NDmzZsVERGhzp07m819smzZMi1btizd9l5eXlZ/WU27lezGjRvpioppzp49q99++01fffWVpAdzGpUoUUIrV65U3bp1rXqdR+3cuTPd+5Q7d275+/trxIgRFkfnXL58WZKyNEIvJ/JH1q1Zs0blypXTq6++KunBfDvDhg3TX3/9pVKlSsnR0VHz58/X0KFDtWDBAi1YsECOjo6qUaOG2rZta3ZbZFZk5ZyMi4tTZGSkhgwZIunBrb01a9bUypUrMxwhI0mff/65jh49qtmzZ6tIkSLp2jM61tP8/vvv6W7v6Ny5s9atW6dPPvlEfn5+Fs+FhIQEi/1+/fXXev311zlfkKmsHB9pE1hndIynSbuGXLx4URUqVJBk/fmX3f6lB1MajB07Vn369NGSJUssPrgmNTVV69atU/PmzWVvby97e3s1bdpUP/74owYOHCh7e3u5ubmpUaNG2rhxo9ltv+vWrVPNmjVN75U1fUkP3mMmucez9rjr76OsuQ41aNBAI0eO1IwZMzR+/HhJUoECBVS/fn316NHD7GFGUtY/s37wwQeKiIjQqFGjtGLFCtM5haeDAhheCJa+cHbr1s1sLqUuXbqkeypU7ty5H9t/cnKyhgwZIqPRmOFfwdNMnTo13S9FSekmIS5evLhpHqYLFy5o2rRpKlKkiGbNmqU8efI8Nh/881l7zEovznFr6ctCy5Yt081v0qxZM7MnIz4cb0tr1qwxPaExJiZG0oO/xH/77be6efNmuqdFWqN69eqmIuapU6c0depU+fv7a9q0aZlOZJz2ASgrt2PlRP7ImrTCUu/evU3/B7Vq1ZKzs7NWrlxpOhZ8fX21bt06/fe//9XOnTt14MABRUVFad++fYqMjNTnn3+e5dfOyjm5adMmJSUl6fXXXzfl2ahRI40fP14nTpxI98TZnTt3atGiRerSpYsCAwMzfP2Hj/VHZXSs29vb69NPP1WbNm30xRdfaPTo0Rlumzt3bi1ZsiTDtpdfftnUl8T5goylHR/W3LKYdgxl9iU0ozZrz7/s9p+mYcOGatKkib744gsFBgaaPQgjTVRUlC5duqQ33njDdGwHBgZq1apV+umnn0yj0Vq3bq21a9fq+PHj8vX11a1bt7R37159+umnWe7Lzs7OqvcXyCnWXn8fZu11qGvXrvr3v/+tXbt2affu3YqKitKqVasUHh6u0NBQNWjQwBSb1c+srq6u+vjjj/Xuu+/qu+++U/fu3bOz+8gmCmB4ITz8IdxgMMjFxUXFihVL94vH29vbqsm+HxUaGqr//ve/Cg0NNXv07aNKlixpVf9OTk6muIoVK6p06dIKDg5Wv379tGjRonRzluDFY+0xK704x+3DXxYMBoOcnZ1VtGjRDCcBzZcvX7b2+WFXrlyRJBUqVCjDdqPRqLVr1yomJkb+/v7p2sPDw7P1ocTd3d3sfXrppZfUvXt3OTo6atq0aRa3S/tLemZzwF25csW0PzmVP7Jmy5Ytunv3rmbOnKmZM2eatYWHh2vIkCGmYpDBYFC1atVMt+XduHFDEyZM0Pr169W2bdssPxUqK+dkeHi4UlJS1KRJk3T9rFy50uxLwNWrV/XRRx+pfPny+vDDDy2+/sPHurXKli2rbt26acGCBRk+VU568MX6cf1yviAzaU8hvXTpksWYq1evysvLyzQy69KlSypevHiGsWmjuB4eVWnt+Zfd/h82evRoBQUF6eOPP043Ilx6UNyVlOEIsZUrV5qKVv7+/ipUqJA2bdokX19fbdq0SQ4ODmrcuHGW+ypSpIiOHDmSYb7Sg+KE0Wg0e3IrYEtZuf4+zJrrkPRgBGZQUJBplPYvv/yiIUOGaPz48WYFsOx8Zg0ICFCzZs305ZdfqlGjRlnaFk+Gb9l4IaR9CK9YsaIqVKigV155xWYjRfbv36/58+erU6dOZh8QbKlkyZJ6//33dfDgQS1dujRHXgPPl5w8ZqXn87hN+7KQts8lS5bM0SfgREVFqUiRIha/UPz888+6cOGCxo4dq++++87sp0KFChbnkMgqf39/tWnTRuHh4dq+fbvFuHLlysnT01O7d+/OsD0xMVEtWrTQyJEjn2r+yNyaNWtUsWLFdP8HY8eO1a1btxQREaEpU6Zk+Nj1/Pnza8KECZKUbmLq7LB0Tp4/f16//PKL+vTpky7PBg0aaN26dUpMTJT0YMTM0KFDlZiYqBkzZmQ6ajG7+vfvr6JFi2r06NHZniCb8wWZyZcvn8qVK2eafysj3bt3V/fu3U1fZLdt22YxNiIiQgUKFDC7PfFRls4/W/RfsGBBffjhh9q5c2e66Q8SEhK0detWtWvXLt2x3bZtW+3atUtXr16V9KC43KpVK9Mk4evXr1fTpk1NT8zLSl+1a9fW9evX9eeff2aY8/Lly1WrVi2dO3fO4n4Dmfn999/TFXxTUlJMnx2tuf5aYuk6lJKSogYNGigsLCzdNjVq1FCPHj108eJF3b1794n3b/To0XJwcNC4ceOeuC9YjwIYkImbN2/qww8/lK+vr4YPH56jr9WzZ08VLVpUoaGhunXrVo6+Fl5sHLcPil///e9/1bZtW4sxa9asUf78+fX222+rZs2aZj//+te/9Ndff+nQoUM2yWfw4MFyd3fXlClTTIWGR9nZ2alTp07avn279u3bl679m2++0Z07d0x/rXya+SNjFy9e1M8//6xWrVql+z94++23VaBAAa1atUolSpTQ0aNHM/wyfvbsWUkyzV/ypDI6J8PDw5UrVy517do1wzxv376tLVu2SJLmzp2rqKgoffrpp5mOHH0SuXPn1ieffKKTJ09q7dq12eqD8wWP07VrV/35558ZPg04PDxcf/31l1q0aKFSpUqpcePGmjt3boaF6HXr1mnPnj3q1avXY0c6Z3T+2ar/du3aqUaNGulul966dasSEhLUqVOndMd2165dlZKSotWrV5viW7durejoaO3du1eHDh0ym/w+K321atVKefPm1dSpU9Nd165fv65FixapSpUqOfZ7BC++kydP6uuvvzY9lVF6MHKzYMGCVl9/LbF0HbK3t1eBAgW0YsUKxcfHp9su7WFVzs7OT7x/Xl5e+vDDD7Vnzx5FRUU9cX+wDrdAApkYM2aMbt26pREjRqR7Mk+ah59+c+rUKYtPqStVqlSG8zakcXR01JAhQ/TBBx8oNDRUY8eOfbLk8T/rRThur1+/rt9++y3Dtvz585t9oH44//j4eP32229asGCBKlWqZPGWpnv37mnLli2mSX4f1axZM02aNEkrV65M9xS57MiXL5/effddTZ8+XYsXL85wrgjpwYMHDhw4oHfffVedOnVS7dq1lZiYqG3btmnNmjXq0aOH/P39n3r+yFh4eLgMBkOGtxXa29urWbNmWrJkiSZMmKDKlSurb9++6tChg/z9/ZU7d24dPXpU33zzjRo2bCg/Pz+b5JTRObl27VrVqlVLefPmTRdft25deXp6auXKlXr55Zc1a9Ys1a1bVy+99FKG52C+fPlMt3HFxMRYPE/d3d0znFswTe3atRUcHKwff/wx3XxlqampFvs1GAyqXLmyJM4XZK5Vq1b66aefNHbsWP3+++9q2LChDAaD9uzZo++//17NmjXTv//9b0nSJ598onfeeUdvvfWWunXrpho1auj+/fuKjIzUqlWr1Lp1a3Xt2vWxr2npmmiL/g0Gg8aPH6/WrVubrQ8PD9crr7ySbh4/6cEDc3x9ffWf//xH7777rgwGg2nag/Hjx6to0aJmv3uy0leePHk0ceJEDRo0SG+//bY6deqkwoUL6/Tp0/rmm2+UkpKiKVOmPPY9AyypW7eunJycNH78eL399tvau3evzp07pyZNmlh9/U27vTgjlq5DI0aMULdu3dSmTRt17txZpUqVUkJCgiIiIvSf//wn3e2WWfnM+qg2bdpo7dq1Onjw4GPeDdgKBTAgE3/++aeSk5M1ePBgizGRkZGmf1uaDFiSli5dqho1amT6ekFBQfruu+/0ww8/qEOHDhk+vQR4nBfhuN2yZYtpRMqj2rRpo4kTJ5qWH87fyclJxYoVU7du3dSzZ0+LDwuIiIhQXFycmjZtmmF7vnz5VKdOHW3evFmjRo3KtAhora5du+r777/XnDlzFBwcnOGE205OTgoLC9PixYu1fv16rVixQnZ2dipZsqRCQkLUrFmzZ5Y/0gsPD1e1atXSPTAiTYsWLfTdd99p1apVWrRokcLCwrRt2zYtX75cKSkpKlGihLp166Zu3brZNK+Hz8k333xTZ8+e1TvvvJNhbK5cudSsWTN9//33+vPPP5WSkqI9e/ZYvHUsODjY9KX20KFDFp8g6e/vr2+//TbTPIcPH66dO3emW3/v3j2L/drb25sK+5wvyIzBYFBISIhWrFih1atXa+vWrUpKSpKPj49Gjx6tNm3amJ4+nC9fPi1dulTLli3T2rVrFRYWJkdHR5UtW1YhISEWj52MZHRNtFX/JUuW1Hvvvacvv/xS0oN57g4cOKD33nvP4jYtWrTQZ599pgMHDpjmvwsODtb48ePVv39/03uQnb4CAwO1bNkyhYWFaebMmbp586YKFSqkevXqqW/fvhbn4ASs4e3trdDQUH3++ed699139dJLL2nSpEny8/PTmDFjrL7+phW6M5LRdahq1apatWqV5s2bp3nz5unGjRtydnZWpUqV9O2336pmzZpm8Vn5zPoog8GgCRMmpHvYFXKOwZiVx+cAAAAAAAAA/zDMAQYAAAAAAIAXGgUwAAAAAAAAvNAogAEAAAAAAOCFRgEMAAAAAAAALzQKYAAAAAAAAHihUQADAAAAAADAC40CGAAAwHOmZ8+eKlOmjCIiIjKNS0lJUe3atVW1alXFx8fbNIePPvpIZcqU0Z9//mnTfgEAAJ4FCmAAAADPmdatW0uSNm3alGnc3r17dePGDTVp0kSurq42zSEwMFD9+vWTl5eXTfsFAAB4FnI96wQAAABgrlGjRnJzc9P27dt19+5dOTs7Zxi3bt06SVJwcLDNcwgMDFRgYKDN+wUAAHgWGAEGAADwnMmdO7eaNGmihIQE/fTTTxnG3L17VxERESpSpIhee+21p5sgAADAPwwFMAAAgOdQ2qiujRs3Zti+fft2JSQkqHXr1jIYDPr111/Vr18/1a1bVxUqVJCfn5+6d++uAwcOpNv25s2bmjRpkt544w1VqlRJTZo00RdffGE2j9ijc4CdP39eZcqUUWhoqCIjI9WmTRtVqlRJ/v7+Gj16tG7evJnuddasWaPOnTvLz89PFSpUUN26dTVkyBCdO3fOLO769esaOXKkGjVqpIoVK6pu3br68MMP9ffff2f7/QMAAHgYt0ACAAA8h2rUqKGiRYtq586diouLk5ubm1n7unXrZDAYFBwcrIiICA0YMED58uVTYGCgXF1dderUKe3atUsHDx7UqlWrVLZsWUnStWvX9NZbb+nChQuqWbOmmjRpomPHjmnu3Lk6fPiwvvnmG+XKZfkj4o4dO/TVV18pICBANWvW1N69e7Vy5Ur99ddfWr58uSlu6tSpWrBggXx9fRUcHCyDwaCff/5Z69ev16+//qrNmzcrd+7cun//vt555x2dPHlSjRo1UtOmTRUdHa0NGzZoz5492rRpk/LmzZsj7zEAAPjfQQEMAADgOWQwGNSqVSvNnj1b27dvV8uWLU1tt27d0p49e1SjRg0VK1ZM77zzjtzd3bVmzRqzSeu//vprTZ8+XZs2bTIVwD777DNduHBBI0aMULdu3UyxY8eO1Q8//KDt27ercePGFvM6evSoZsyYoWbNmkmSBg0apODgYP33v//V6dOnVbJkSV25ckXffvut/Pz8tGjRItnb25u27927t3bu3KlffvlFdevW1b59+3Ts2DH17dtXAwYMMMWFhYVp2rRp2rBhgzp27PjE7ycAAPjfRgEMAADgOdW6dWvNnj1bGzduNCuAbdq0SUlJSQoODlZqaqqGDBkiR0fHdE9srFmzpiTpxo0bkqTExERt27ZNPj4+ZsUvSXr33Xfl6empAgUKZJpTsWLFTMUvSXJwcJC/v79OnTqlCxcuqGTJknJ0dNS0adNUqlQps+KXJPn5+Wnnzp2mnFJTUyVJJ06c0P379+Xk5CRJ6tChg4KCguTt7W3t2wUAAGARBTAAAIDnVPHixVW9enXt2bNHMTEx8vDwkCStX79ezs7OatKkiezs7NSoUSNJ0oULF3Tq1ClFR0frr7/+UlRUlKT/V2SKjo5WQkKCqlSpku61ihQpog8++OCxOfn4+KRb5+7uLulBgU2SPD091aJFC6WmpurkyZM6ffq0zp07pxMnTmjfvn1mOdWuXVvFihVTRESEateurdq1a+v1119XQECAXnrppSy8WwAAAJZRAAMAAHiOtW7dWr/++qu2bt2qNm3a6MKFCzp06JBatmxpmhfsxIkT+vTTT3Xw4EFJD0ZllSxZUhUqVNDZs2dlNBolSXfu3JGkdPOJZYWjo2O6dQaDId26rVu36vPPP9fZs2clSS4uLqpQoYJ8fX21b98+U07Ozs5asWKF5syZo02bNmnr1q3aunWrqbA3fvx45gADAABPjKdAAgAAPMeaNWsmJycnbdq0SZK0YcMGGY1G01Mi4+Li1KNHDx0+fFjDhw9XeHi4Dh06pPDwcHXp0sWsL1dXV0kye9rjwxISEmyS8+HDhzVw4EAlJiYqJCRE27Zt06FDh7R48WL5+/uni8+XL59GjRql3bt3Kzw8XEOHDlXJkiW1ZcsWffzxxzbJCQAA/G+jAAYAAPAcc3d3V2BgoKKiohQTE6PNmzerSJEiqlWrliTpwIEDun79ujp27KgePXrI19fXNErr9OnTkmQabfXyyy/LwcFBv//+e7rXuXLliqpWraoxY8Y8cc4bNmxQamqqxo0bpzfffFPFixc3jRL7v//7P7Ocfv75Z3366aeKjo6WwWCQr6+v3nnnHa1cuVIuLi765ZdfnjgfAAAACmAAAADPuVatWikpKUnLly/X0aNH1bJlS1NBKW3S+LRJ5dNcvHhRs2bNkiQlJyebYps0aaLTp09rxYoVZvFz586VpAxHaGVVWk7Xr183W79//36tX7/eLKdr165p8eLFWrBggVns9evXdf/+fRUpUuSJ8wEAAGAOMAAAgOdc3bp1VaBAAX311VeSpH/961+mturVq6tIkSIKDw/XrVu35Ovrq0uXLikyMlJOTk4yGAy6ffu2KX7YsGH69ddfNWbMGG3dulWlS5fWkSNH9PPPPyswMFBBQUFPnG9QUJAWLlyoTz75RD///LMKFCigEydOaM+ePfL09NSNGzdMOQUGBqpq1ar6/vvvdfLkSVWpUkVxcXHasmWLJGnAgAFPnA8AAAAjwAAAAJ5z9vb2atGihe7evavq1aurePHipjYXFxctXLhQjRs31tGjR7VkyRIdO3ZMLVu21Nq1a+Xr66tffvnFNO9XoUKFtHLlSr311ls6ceKEvvvuO128eFHvv/++vvjiC5vkW7ZsWc2fP1/ly5dXRESEVqxYoevXr2vAgAEKDw+XnZ2ddu7cKenBpPrz5s3TO++8o5s3b2rp0qXavHmzKleurMWLF6tOnTo2yQkAAPxvMxjTJmAAAAAAAAAAXkCMAAMAAAAAAMALjQIYAAAAAAAAXmgUwAAAAAAAAPBCowAGAAAAAACAFxoFMAAAAAAAALzQKIABAAAAAADghUYBDAAAAAAAAC80CmAAAAAAAAB4oVEAAwAAAAAAwAuNAhgAAAAAAABeaP8f9eolShSQnBYAAAAASUVORK5CYII=",
      "text/plain": [
<<<<<<< HEAD
       "<Figure size 1440x432 with 1 Axes>"
      ]
     },
=======
       "<matplotlib.legend.Legend at 0x7f001da83880>"
      ]
     },
     "execution_count": 6,
>>>>>>> b91ef1a6e2f04508d5f64b4ee47ea0bfc6500d00
     "metadata": {},
     "output_type": "display_data"
    }
   ],
   "source": [
    "ax = sns.countplot(\n",
    "    data = vax_df, x = 'vacina_nome',\n",
    "    hue = 'vacina_descricao_dose',\n",
    "    hue_order = ['Dose única', '1ª Dose', '2ª Dose', 'Reforço', '2º Reforço'], palette = 'muted'\n",
    "    )\n",
    "    \n",
    "plt.setp(ax.get_legend().get_title(), fontsize = '20')\n",
    "plt.setp(ax.get_legend().get_texts(), fontsize = '15')\n",
    "\n",
    "ax.set_xlabel('Vacinas', fontsize = 20)\n",
    "ax.set_ylabel('Quantidade de aplicações por dose', fontsize=20)\n",
    "ax.set_title('Quantidade de aplicações de cada vacina por dose', fontsize=20)\n",
    "ax.figure.set_size_inches(20, 6)\n",
    "ax.tick_params(labelsize = 16)"
   ]
  },
  {
   "cell_type": "markdown",
   "metadata": {},
   "source": [
    "Verificamos pelo gráfico que a vacina mais aplicada na Paraíba durante o período analisado foi a Pfizer, para a primeira dose, segunda e terceira doses. Tal observação contrasta com o cenário nacional, tendo em vista que a vacina mais utilizada no país durante a campanha de COVID-19 foi a Astrazeneca, segundo dados do Ministério da Saúde, [consulte essa referência](https://www.gov.br/saude/pt-br/assuntos/noticias/2022/janeiro/saiba-a-quantidade-de-doses-de-vacinas-covid-19-aplicadas-ate-o-momento-no-brasil-por-fabricante#:~:text=E%20tem%20mais%20not%C3%ADcia%20boa,milh%C3%B5es%20foram%20produzidas%20pela%20Janssen).\n",
    "\n",
    "Constata-se que a Jansen foi a fabricante que mais aplicou doses únicas."
   ]
  },
  {
   "cell_type": "markdown",
   "metadata": {},
   "source": [
    "### Vacinação por etnia"
   ]
  },
  {
   "cell_type": "code",
<<<<<<< HEAD
   "execution_count": 266,
=======
   "execution_count": 7,
>>>>>>> b91ef1a6e2f04508d5f64b4ee47ea0bfc6500d00
   "metadata": {},
   "outputs": [
    {
     "data": {
      "text/plain": [
       "PARDA             1040425\n",
       "BRANCA             664898\n",
       "AMARELA            593652\n",
       "SEM INFORMACAO     391266\n",
       "PRETA              105218\n",
       "INDIGENA            11331\n",
       "Name: paciente_racaCor_valor, dtype: int64"
      ]
     },
<<<<<<< HEAD
     "execution_count": 266,
=======
     "execution_count": 7,
>>>>>>> b91ef1a6e2f04508d5f64b4ee47ea0bfc6500d00
     "metadata": {},
     "output_type": "execute_result"
    }
   ],
   "source": [
    "vax_df['paciente_racaCor_valor'].value_counts()"
   ]
  },
  {
   "cell_type": "code",
<<<<<<< HEAD
   "execution_count": 267,
=======
   "execution_count": 8,
>>>>>>> b91ef1a6e2f04508d5f64b4ee47ea0bfc6500d00
   "metadata": {},
   "outputs": [
    {
     "data": {
      "application/vnd.plotly.v1+json": {
       "config": {
        "plotlyServerURL": "https://plot.ly"
       },
       "data": [
        {
         "hole": 0.3,
         "labels": [
          "Amarela",
          "Branca",
          "Parda",
          "Preta",
          "Sem informação",
          "Indígena"
         ],
         "type": "pie",
         "values": [
          593652,
          664898,
          1040425,
          105218,
          391266,
          11331
         ]
        }
       ],
       "layout": {
        "template": {
         "data": {
          "bar": [
           {
            "error_x": {
             "color": "#2a3f5f"
            },
            "error_y": {
             "color": "#2a3f5f"
            },
            "marker": {
             "line": {
              "color": "#E5ECF6",
              "width": 0.5
             },
             "pattern": {
              "fillmode": "overlay",
              "size": 10,
              "solidity": 0.2
             }
            },
            "type": "bar"
           }
          ],
          "barpolar": [
           {
            "marker": {
             "line": {
              "color": "#E5ECF6",
              "width": 0.5
             },
             "pattern": {
              "fillmode": "overlay",
              "size": 10,
              "solidity": 0.2
             }
            },
            "type": "barpolar"
           }
          ],
          "carpet": [
           {
            "aaxis": {
             "endlinecolor": "#2a3f5f",
             "gridcolor": "white",
             "linecolor": "white",
             "minorgridcolor": "white",
             "startlinecolor": "#2a3f5f"
            },
            "baxis": {
             "endlinecolor": "#2a3f5f",
             "gridcolor": "white",
             "linecolor": "white",
             "minorgridcolor": "white",
             "startlinecolor": "#2a3f5f"
            },
            "type": "carpet"
           }
          ],
          "choropleth": [
           {
            "colorbar": {
             "outlinewidth": 0,
             "ticks": ""
            },
            "type": "choropleth"
           }
          ],
          "contour": [
           {
            "colorbar": {
             "outlinewidth": 0,
             "ticks": ""
            },
            "colorscale": [
             [
              0,
              "#0d0887"
             ],
             [
              0.1111111111111111,
              "#46039f"
             ],
             [
              0.2222222222222222,
              "#7201a8"
             ],
             [
              0.3333333333333333,
              "#9c179e"
             ],
             [
              0.4444444444444444,
              "#bd3786"
             ],
             [
              0.5555555555555556,
              "#d8576b"
             ],
             [
              0.6666666666666666,
              "#ed7953"
             ],
             [
              0.7777777777777778,
              "#fb9f3a"
             ],
             [
              0.8888888888888888,
              "#fdca26"
             ],
             [
              1,
              "#f0f921"
             ]
            ],
            "type": "contour"
           }
          ],
          "contourcarpet": [
           {
            "colorbar": {
             "outlinewidth": 0,
             "ticks": ""
            },
            "type": "contourcarpet"
           }
          ],
          "heatmap": [
           {
            "colorbar": {
             "outlinewidth": 0,
             "ticks": ""
            },
            "colorscale": [
             [
              0,
              "#0d0887"
             ],
             [
              0.1111111111111111,
              "#46039f"
             ],
             [
              0.2222222222222222,
              "#7201a8"
             ],
             [
              0.3333333333333333,
              "#9c179e"
             ],
             [
              0.4444444444444444,
              "#bd3786"
             ],
             [
              0.5555555555555556,
              "#d8576b"
             ],
             [
              0.6666666666666666,
              "#ed7953"
             ],
             [
              0.7777777777777778,
              "#fb9f3a"
             ],
             [
              0.8888888888888888,
              "#fdca26"
             ],
             [
              1,
              "#f0f921"
             ]
            ],
            "type": "heatmap"
           }
          ],
          "heatmapgl": [
           {
            "colorbar": {
             "outlinewidth": 0,
             "ticks": ""
            },
            "colorscale": [
             [
              0,
              "#0d0887"
             ],
             [
              0.1111111111111111,
              "#46039f"
             ],
             [
              0.2222222222222222,
              "#7201a8"
             ],
             [
              0.3333333333333333,
              "#9c179e"
             ],
             [
              0.4444444444444444,
              "#bd3786"
             ],
             [
              0.5555555555555556,
              "#d8576b"
             ],
             [
              0.6666666666666666,
              "#ed7953"
             ],
             [
              0.7777777777777778,
              "#fb9f3a"
             ],
             [
              0.8888888888888888,
              "#fdca26"
             ],
             [
              1,
              "#f0f921"
             ]
            ],
            "type": "heatmapgl"
           }
          ],
          "histogram": [
           {
            "marker": {
             "pattern": {
              "fillmode": "overlay",
              "size": 10,
              "solidity": 0.2
             }
            },
            "type": "histogram"
           }
          ],
          "histogram2d": [
           {
            "colorbar": {
             "outlinewidth": 0,
             "ticks": ""
            },
            "colorscale": [
             [
              0,
              "#0d0887"
             ],
             [
              0.1111111111111111,
              "#46039f"
             ],
             [
              0.2222222222222222,
              "#7201a8"
             ],
             [
              0.3333333333333333,
              "#9c179e"
             ],
             [
              0.4444444444444444,
              "#bd3786"
             ],
             [
              0.5555555555555556,
              "#d8576b"
             ],
             [
              0.6666666666666666,
              "#ed7953"
             ],
             [
              0.7777777777777778,
              "#fb9f3a"
             ],
             [
              0.8888888888888888,
              "#fdca26"
             ],
             [
              1,
              "#f0f921"
             ]
            ],
            "type": "histogram2d"
           }
          ],
          "histogram2dcontour": [
           {
            "colorbar": {
             "outlinewidth": 0,
             "ticks": ""
            },
            "colorscale": [
             [
              0,
              "#0d0887"
             ],
             [
              0.1111111111111111,
              "#46039f"
             ],
             [
              0.2222222222222222,
              "#7201a8"
             ],
             [
              0.3333333333333333,
              "#9c179e"
             ],
             [
              0.4444444444444444,
              "#bd3786"
             ],
             [
              0.5555555555555556,
              "#d8576b"
             ],
             [
              0.6666666666666666,
              "#ed7953"
             ],
             [
              0.7777777777777778,
              "#fb9f3a"
             ],
             [
              0.8888888888888888,
              "#fdca26"
             ],
             [
              1,
              "#f0f921"
             ]
            ],
            "type": "histogram2dcontour"
           }
          ],
          "mesh3d": [
           {
            "colorbar": {
             "outlinewidth": 0,
             "ticks": ""
            },
            "type": "mesh3d"
           }
          ],
          "parcoords": [
           {
            "line": {
             "colorbar": {
              "outlinewidth": 0,
              "ticks": ""
             }
            },
            "type": "parcoords"
           }
          ],
          "pie": [
           {
            "automargin": true,
            "type": "pie"
           }
          ],
          "scatter": [
           {
            "fillpattern": {
             "fillmode": "overlay",
             "size": 10,
             "solidity": 0.2
            },
            "type": "scatter"
           }
          ],
          "scatter3d": [
           {
            "line": {
             "colorbar": {
              "outlinewidth": 0,
              "ticks": ""
             }
            },
            "marker": {
             "colorbar": {
              "outlinewidth": 0,
              "ticks": ""
             }
            },
            "type": "scatter3d"
           }
          ],
          "scattercarpet": [
           {
            "marker": {
             "colorbar": {
              "outlinewidth": 0,
              "ticks": ""
             }
            },
            "type": "scattercarpet"
           }
          ],
          "scattergeo": [
           {
            "marker": {
             "colorbar": {
              "outlinewidth": 0,
              "ticks": ""
             }
            },
            "type": "scattergeo"
           }
          ],
          "scattergl": [
           {
            "marker": {
             "colorbar": {
              "outlinewidth": 0,
              "ticks": ""
             }
            },
            "type": "scattergl"
           }
          ],
          "scattermapbox": [
           {
            "marker": {
             "colorbar": {
              "outlinewidth": 0,
              "ticks": ""
             }
            },
            "type": "scattermapbox"
           }
          ],
          "scatterpolar": [
           {
            "marker": {
             "colorbar": {
              "outlinewidth": 0,
              "ticks": ""
             }
            },
            "type": "scatterpolar"
           }
          ],
          "scatterpolargl": [
           {
            "marker": {
             "colorbar": {
              "outlinewidth": 0,
              "ticks": ""
             }
            },
            "type": "scatterpolargl"
           }
          ],
          "scatterternary": [
           {
            "marker": {
             "colorbar": {
              "outlinewidth": 0,
              "ticks": ""
             }
            },
            "type": "scatterternary"
           }
          ],
          "surface": [
           {
            "colorbar": {
             "outlinewidth": 0,
             "ticks": ""
            },
            "colorscale": [
             [
              0,
              "#0d0887"
             ],
             [
              0.1111111111111111,
              "#46039f"
             ],
             [
              0.2222222222222222,
              "#7201a8"
             ],
             [
              0.3333333333333333,
              "#9c179e"
             ],
             [
              0.4444444444444444,
              "#bd3786"
             ],
             [
              0.5555555555555556,
              "#d8576b"
             ],
             [
              0.6666666666666666,
              "#ed7953"
             ],
             [
              0.7777777777777778,
              "#fb9f3a"
             ],
             [
              0.8888888888888888,
              "#fdca26"
             ],
             [
              1,
              "#f0f921"
             ]
            ],
            "type": "surface"
           }
          ],
          "table": [
           {
            "cells": {
             "fill": {
              "color": "#EBF0F8"
             },
             "line": {
              "color": "white"
             }
            },
            "header": {
             "fill": {
              "color": "#C8D4E3"
             },
             "line": {
              "color": "white"
             }
            },
            "type": "table"
           }
          ]
         },
         "layout": {
          "annotationdefaults": {
           "arrowcolor": "#2a3f5f",
           "arrowhead": 0,
           "arrowwidth": 1
          },
          "autotypenumbers": "strict",
          "coloraxis": {
           "colorbar": {
            "outlinewidth": 0,
            "ticks": ""
           }
          },
          "colorscale": {
           "diverging": [
            [
             0,
             "#8e0152"
            ],
            [
             0.1,
             "#c51b7d"
            ],
            [
             0.2,
             "#de77ae"
            ],
            [
             0.3,
             "#f1b6da"
            ],
            [
             0.4,
             "#fde0ef"
            ],
            [
             0.5,
             "#f7f7f7"
            ],
            [
             0.6,
             "#e6f5d0"
            ],
            [
             0.7,
             "#b8e186"
            ],
            [
             0.8,
             "#7fbc41"
            ],
            [
             0.9,
             "#4d9221"
            ],
            [
             1,
             "#276419"
            ]
           ],
           "sequential": [
            [
             0,
             "#0d0887"
            ],
            [
             0.1111111111111111,
             "#46039f"
            ],
            [
             0.2222222222222222,
             "#7201a8"
            ],
            [
             0.3333333333333333,
             "#9c179e"
            ],
            [
             0.4444444444444444,
             "#bd3786"
            ],
            [
             0.5555555555555556,
             "#d8576b"
            ],
            [
             0.6666666666666666,
             "#ed7953"
            ],
            [
             0.7777777777777778,
             "#fb9f3a"
            ],
            [
             0.8888888888888888,
             "#fdca26"
            ],
            [
             1,
             "#f0f921"
            ]
           ],
           "sequentialminus": [
            [
             0,
             "#0d0887"
            ],
            [
             0.1111111111111111,
             "#46039f"
            ],
            [
             0.2222222222222222,
             "#7201a8"
            ],
            [
             0.3333333333333333,
             "#9c179e"
            ],
            [
             0.4444444444444444,
             "#bd3786"
            ],
            [
             0.5555555555555556,
             "#d8576b"
            ],
            [
             0.6666666666666666,
             "#ed7953"
            ],
            [
             0.7777777777777778,
             "#fb9f3a"
            ],
            [
             0.8888888888888888,
             "#fdca26"
            ],
            [
             1,
             "#f0f921"
            ]
           ]
          },
          "colorway": [
           "#636efa",
           "#EF553B",
           "#00cc96",
           "#ab63fa",
           "#FFA15A",
           "#19d3f3",
           "#FF6692",
           "#B6E880",
           "#FF97FF",
           "#FECB52"
          ],
          "font": {
           "color": "#2a3f5f"
          },
          "geo": {
           "bgcolor": "white",
           "lakecolor": "white",
           "landcolor": "#E5ECF6",
           "showlakes": true,
           "showland": true,
           "subunitcolor": "white"
          },
          "hoverlabel": {
           "align": "left"
          },
          "hovermode": "closest",
          "mapbox": {
           "style": "light"
          },
          "paper_bgcolor": "white",
          "plot_bgcolor": "#E5ECF6",
          "polar": {
           "angularaxis": {
            "gridcolor": "white",
            "linecolor": "white",
            "ticks": ""
           },
           "bgcolor": "#E5ECF6",
           "radialaxis": {
            "gridcolor": "white",
            "linecolor": "white",
            "ticks": ""
           }
          },
          "scene": {
           "xaxis": {
            "backgroundcolor": "#E5ECF6",
            "gridcolor": "white",
            "gridwidth": 2,
            "linecolor": "white",
            "showbackground": true,
            "ticks": "",
            "zerolinecolor": "white"
           },
           "yaxis": {
            "backgroundcolor": "#E5ECF6",
            "gridcolor": "white",
            "gridwidth": 2,
            "linecolor": "white",
            "showbackground": true,
            "ticks": "",
            "zerolinecolor": "white"
           },
           "zaxis": {
            "backgroundcolor": "#E5ECF6",
            "gridcolor": "white",
            "gridwidth": 2,
            "linecolor": "white",
            "showbackground": true,
            "ticks": "",
            "zerolinecolor": "white"
           }
          },
          "shapedefaults": {
           "line": {
            "color": "#2a3f5f"
           }
          },
          "ternary": {
           "aaxis": {
            "gridcolor": "white",
            "linecolor": "white",
            "ticks": ""
           },
           "baxis": {
            "gridcolor": "white",
            "linecolor": "white",
            "ticks": ""
           },
           "bgcolor": "#E5ECF6",
           "caxis": {
            "gridcolor": "white",
            "linecolor": "white",
            "ticks": ""
           }
          },
          "title": {
           "x": 0.05
          },
          "xaxis": {
           "automargin": true,
           "gridcolor": "white",
           "linecolor": "white",
           "ticks": "",
           "title": {
            "standoff": 15
           },
           "zerolinecolor": "white",
           "zerolinewidth": 2
          },
          "yaxis": {
           "automargin": true,
           "gridcolor": "white",
           "linecolor": "white",
           "ticks": "",
           "title": {
            "standoff": 15
           },
           "zerolinecolor": "white",
           "zerolinewidth": 2
          }
         }
        },
        "title": {
         "text": "Vacinação por etnia na Paraíba"
        }
       }
      }
     },
     "metadata": {},
     "output_type": "display_data"
    }
   ],
   "source": [
    "ethinicities_vax_list = ['Amarela', 'Branca', 'Parda', 'Preta', 'Sem informação', 'Indígena']\n",
    "ethinicities_vax_value_counts_list = [593652, 664898, 1040425, 105218, 391266, 11331]\n",
    "\n",
    "fig = go.Figure(data=[go.Pie(labels = ethinicities_vax_list, values = ethinicities_vax_value_counts_list, hole=.3)])\n",
    "fig.update_layout(title = 'Vacinação por etnia na Paraíba')\n",
    "fig.show()"
   ]
  },
  {
   "cell_type": "markdown",
   "metadata": {},
   "source": [
    "O primeiro gráfico acima mostra a porcentagem de doses da vacina contra a COVID-19 aplicadas para cada grupo étnico. Ele lida com o número absoluto de vacinações, isto é, cada dose, independente da classificação (1ª dose, dose de reforço, etc) ou do fabricante, contará na frequência de vacinação. Desse modo, percebemos que, de acordo com os dados, a maioria dos vacinados na Paraíba se autodeclaram pardos, seguidos dos autodeclarados brancos, e amarelos."
   ]
  },
  {
   "cell_type": "code",
<<<<<<< HEAD
   "execution_count": 268,
=======
   "execution_count": 9,
>>>>>>> b91ef1a6e2f04508d5f64b4ee47ea0bfc6500d00
   "metadata": {},
   "outputs": [
    {
     "data": {
      "application/vnd.plotly.v1+json": {
       "config": {
        "plotlyServerURL": "https://plot.ly"
       },
       "data": [
        {
         "hole": 0.3,
         "labels": [
          "Indígena ou Amarela",
          "Branca",
          "Parda",
          "Preta"
         ],
         "type": "pie",
         "values": [
          1.8,
          39.8,
          52.7,
          5.7
         ]
        }
       ],
       "layout": {
        "template": {
         "data": {
          "bar": [
           {
            "error_x": {
             "color": "#2a3f5f"
            },
            "error_y": {
             "color": "#2a3f5f"
            },
            "marker": {
             "line": {
              "color": "#E5ECF6",
              "width": 0.5
             },
             "pattern": {
              "fillmode": "overlay",
              "size": 10,
              "solidity": 0.2
             }
            },
            "type": "bar"
           }
          ],
          "barpolar": [
           {
            "marker": {
             "line": {
              "color": "#E5ECF6",
              "width": 0.5
             },
             "pattern": {
              "fillmode": "overlay",
              "size": 10,
              "solidity": 0.2
             }
            },
            "type": "barpolar"
           }
          ],
          "carpet": [
           {
            "aaxis": {
             "endlinecolor": "#2a3f5f",
             "gridcolor": "white",
             "linecolor": "white",
             "minorgridcolor": "white",
             "startlinecolor": "#2a3f5f"
            },
            "baxis": {
             "endlinecolor": "#2a3f5f",
             "gridcolor": "white",
             "linecolor": "white",
             "minorgridcolor": "white",
             "startlinecolor": "#2a3f5f"
            },
            "type": "carpet"
           }
          ],
          "choropleth": [
           {
            "colorbar": {
             "outlinewidth": 0,
             "ticks": ""
            },
            "type": "choropleth"
           }
          ],
          "contour": [
           {
            "colorbar": {
             "outlinewidth": 0,
             "ticks": ""
            },
            "colorscale": [
             [
              0,
              "#0d0887"
             ],
             [
              0.1111111111111111,
              "#46039f"
             ],
             [
              0.2222222222222222,
              "#7201a8"
             ],
             [
              0.3333333333333333,
              "#9c179e"
             ],
             [
              0.4444444444444444,
              "#bd3786"
             ],
             [
              0.5555555555555556,
              "#d8576b"
             ],
             [
              0.6666666666666666,
              "#ed7953"
             ],
             [
              0.7777777777777778,
              "#fb9f3a"
             ],
             [
              0.8888888888888888,
              "#fdca26"
             ],
             [
              1,
              "#f0f921"
             ]
            ],
            "type": "contour"
           }
          ],
          "contourcarpet": [
           {
            "colorbar": {
             "outlinewidth": 0,
             "ticks": ""
            },
            "type": "contourcarpet"
           }
          ],
          "heatmap": [
           {
            "colorbar": {
             "outlinewidth": 0,
             "ticks": ""
            },
            "colorscale": [
             [
              0,
              "#0d0887"
             ],
             [
              0.1111111111111111,
              "#46039f"
             ],
             [
              0.2222222222222222,
              "#7201a8"
             ],
             [
              0.3333333333333333,
              "#9c179e"
             ],
             [
              0.4444444444444444,
              "#bd3786"
             ],
             [
              0.5555555555555556,
              "#d8576b"
             ],
             [
              0.6666666666666666,
              "#ed7953"
             ],
             [
              0.7777777777777778,
              "#fb9f3a"
             ],
             [
              0.8888888888888888,
              "#fdca26"
             ],
             [
              1,
              "#f0f921"
             ]
            ],
            "type": "heatmap"
           }
          ],
          "heatmapgl": [
           {
            "colorbar": {
             "outlinewidth": 0,
             "ticks": ""
            },
            "colorscale": [
             [
              0,
              "#0d0887"
             ],
             [
              0.1111111111111111,
              "#46039f"
             ],
             [
              0.2222222222222222,
              "#7201a8"
             ],
             [
              0.3333333333333333,
              "#9c179e"
             ],
             [
              0.4444444444444444,
              "#bd3786"
             ],
             [
              0.5555555555555556,
              "#d8576b"
             ],
             [
              0.6666666666666666,
              "#ed7953"
             ],
             [
              0.7777777777777778,
              "#fb9f3a"
             ],
             [
              0.8888888888888888,
              "#fdca26"
             ],
             [
              1,
              "#f0f921"
             ]
            ],
            "type": "heatmapgl"
           }
          ],
          "histogram": [
           {
            "marker": {
             "pattern": {
              "fillmode": "overlay",
              "size": 10,
              "solidity": 0.2
             }
            },
            "type": "histogram"
           }
          ],
          "histogram2d": [
           {
            "colorbar": {
             "outlinewidth": 0,
             "ticks": ""
            },
            "colorscale": [
             [
              0,
              "#0d0887"
             ],
             [
              0.1111111111111111,
              "#46039f"
             ],
             [
              0.2222222222222222,
              "#7201a8"
             ],
             [
              0.3333333333333333,
              "#9c179e"
             ],
             [
              0.4444444444444444,
              "#bd3786"
             ],
             [
              0.5555555555555556,
              "#d8576b"
             ],
             [
              0.6666666666666666,
              "#ed7953"
             ],
             [
              0.7777777777777778,
              "#fb9f3a"
             ],
             [
              0.8888888888888888,
              "#fdca26"
             ],
             [
              1,
              "#f0f921"
             ]
            ],
            "type": "histogram2d"
           }
          ],
          "histogram2dcontour": [
           {
            "colorbar": {
             "outlinewidth": 0,
             "ticks": ""
            },
            "colorscale": [
             [
              0,
              "#0d0887"
             ],
             [
              0.1111111111111111,
              "#46039f"
             ],
             [
              0.2222222222222222,
              "#7201a8"
             ],
             [
              0.3333333333333333,
              "#9c179e"
             ],
             [
              0.4444444444444444,
              "#bd3786"
             ],
             [
              0.5555555555555556,
              "#d8576b"
             ],
             [
              0.6666666666666666,
              "#ed7953"
             ],
             [
              0.7777777777777778,
              "#fb9f3a"
             ],
             [
              0.8888888888888888,
              "#fdca26"
             ],
             [
              1,
              "#f0f921"
             ]
            ],
            "type": "histogram2dcontour"
           }
          ],
          "mesh3d": [
           {
            "colorbar": {
             "outlinewidth": 0,
             "ticks": ""
            },
            "type": "mesh3d"
           }
          ],
          "parcoords": [
           {
            "line": {
             "colorbar": {
              "outlinewidth": 0,
              "ticks": ""
             }
            },
            "type": "parcoords"
           }
          ],
          "pie": [
           {
            "automargin": true,
            "type": "pie"
           }
          ],
          "scatter": [
           {
            "fillpattern": {
             "fillmode": "overlay",
             "size": 10,
             "solidity": 0.2
            },
            "type": "scatter"
           }
          ],
          "scatter3d": [
           {
            "line": {
             "colorbar": {
              "outlinewidth": 0,
              "ticks": ""
             }
            },
            "marker": {
             "colorbar": {
              "outlinewidth": 0,
              "ticks": ""
             }
            },
            "type": "scatter3d"
           }
          ],
          "scattercarpet": [
           {
            "marker": {
             "colorbar": {
              "outlinewidth": 0,
              "ticks": ""
             }
            },
            "type": "scattercarpet"
           }
          ],
          "scattergeo": [
           {
            "marker": {
             "colorbar": {
              "outlinewidth": 0,
              "ticks": ""
             }
            },
            "type": "scattergeo"
           }
          ],
          "scattergl": [
           {
            "marker": {
             "colorbar": {
              "outlinewidth": 0,
              "ticks": ""
             }
            },
            "type": "scattergl"
           }
          ],
          "scattermapbox": [
           {
            "marker": {
             "colorbar": {
              "outlinewidth": 0,
              "ticks": ""
             }
            },
            "type": "scattermapbox"
           }
          ],
          "scatterpolar": [
           {
            "marker": {
             "colorbar": {
              "outlinewidth": 0,
              "ticks": ""
             }
            },
            "type": "scatterpolar"
           }
          ],
          "scatterpolargl": [
           {
            "marker": {
             "colorbar": {
              "outlinewidth": 0,
              "ticks": ""
             }
            },
            "type": "scatterpolargl"
           }
          ],
          "scatterternary": [
           {
            "marker": {
             "colorbar": {
              "outlinewidth": 0,
              "ticks": ""
             }
            },
            "type": "scatterternary"
           }
          ],
          "surface": [
           {
            "colorbar": {
             "outlinewidth": 0,
             "ticks": ""
            },
            "colorscale": [
             [
              0,
              "#0d0887"
             ],
             [
              0.1111111111111111,
              "#46039f"
             ],
             [
              0.2222222222222222,
              "#7201a8"
             ],
             [
              0.3333333333333333,
              "#9c179e"
             ],
             [
              0.4444444444444444,
              "#bd3786"
             ],
             [
              0.5555555555555556,
              "#d8576b"
             ],
             [
              0.6666666666666666,
              "#ed7953"
             ],
             [
              0.7777777777777778,
              "#fb9f3a"
             ],
             [
              0.8888888888888888,
              "#fdca26"
             ],
             [
              1,
              "#f0f921"
             ]
            ],
            "type": "surface"
           }
          ],
          "table": [
           {
            "cells": {
             "fill": {
              "color": "#EBF0F8"
             },
             "line": {
              "color": "white"
             }
            },
            "header": {
             "fill": {
              "color": "#C8D4E3"
             },
             "line": {
              "color": "white"
             }
            },
            "type": "table"
           }
          ]
         },
         "layout": {
          "annotationdefaults": {
           "arrowcolor": "#2a3f5f",
           "arrowhead": 0,
           "arrowwidth": 1
          },
          "autotypenumbers": "strict",
          "coloraxis": {
           "colorbar": {
            "outlinewidth": 0,
            "ticks": ""
           }
          },
          "colorscale": {
           "diverging": [
            [
             0,
             "#8e0152"
            ],
            [
             0.1,
             "#c51b7d"
            ],
            [
             0.2,
             "#de77ae"
            ],
            [
             0.3,
             "#f1b6da"
            ],
            [
             0.4,
             "#fde0ef"
            ],
            [
             0.5,
             "#f7f7f7"
            ],
            [
             0.6,
             "#e6f5d0"
            ],
            [
             0.7,
             "#b8e186"
            ],
            [
             0.8,
             "#7fbc41"
            ],
            [
             0.9,
             "#4d9221"
            ],
            [
             1,
             "#276419"
            ]
           ],
           "sequential": [
            [
             0,
             "#0d0887"
            ],
            [
             0.1111111111111111,
             "#46039f"
            ],
            [
             0.2222222222222222,
             "#7201a8"
            ],
            [
             0.3333333333333333,
             "#9c179e"
            ],
            [
             0.4444444444444444,
             "#bd3786"
            ],
            [
             0.5555555555555556,
             "#d8576b"
            ],
            [
             0.6666666666666666,
             "#ed7953"
            ],
            [
             0.7777777777777778,
             "#fb9f3a"
            ],
            [
             0.8888888888888888,
             "#fdca26"
            ],
            [
             1,
             "#f0f921"
            ]
           ],
           "sequentialminus": [
            [
             0,
             "#0d0887"
            ],
            [
             0.1111111111111111,
             "#46039f"
            ],
            [
             0.2222222222222222,
             "#7201a8"
            ],
            [
             0.3333333333333333,
             "#9c179e"
            ],
            [
             0.4444444444444444,
             "#bd3786"
            ],
            [
             0.5555555555555556,
             "#d8576b"
            ],
            [
             0.6666666666666666,
             "#ed7953"
            ],
            [
             0.7777777777777778,
             "#fb9f3a"
            ],
            [
             0.8888888888888888,
             "#fdca26"
            ],
            [
             1,
             "#f0f921"
            ]
           ]
          },
          "colorway": [
           "#636efa",
           "#EF553B",
           "#00cc96",
           "#ab63fa",
           "#FFA15A",
           "#19d3f3",
           "#FF6692",
           "#B6E880",
           "#FF97FF",
           "#FECB52"
          ],
          "font": {
           "color": "#2a3f5f"
          },
          "geo": {
           "bgcolor": "white",
           "lakecolor": "white",
           "landcolor": "#E5ECF6",
           "showlakes": true,
           "showland": true,
           "subunitcolor": "white"
          },
          "hoverlabel": {
           "align": "left"
          },
          "hovermode": "closest",
          "mapbox": {
           "style": "light"
          },
          "paper_bgcolor": "white",
          "plot_bgcolor": "#E5ECF6",
          "polar": {
           "angularaxis": {
            "gridcolor": "white",
            "linecolor": "white",
            "ticks": ""
           },
           "bgcolor": "#E5ECF6",
           "radialaxis": {
            "gridcolor": "white",
            "linecolor": "white",
            "ticks": ""
           }
          },
          "scene": {
           "xaxis": {
            "backgroundcolor": "#E5ECF6",
            "gridcolor": "white",
            "gridwidth": 2,
            "linecolor": "white",
            "showbackground": true,
            "ticks": "",
            "zerolinecolor": "white"
           },
           "yaxis": {
            "backgroundcolor": "#E5ECF6",
            "gridcolor": "white",
            "gridwidth": 2,
            "linecolor": "white",
            "showbackground": true,
            "ticks": "",
            "zerolinecolor": "white"
           },
           "zaxis": {
            "backgroundcolor": "#E5ECF6",
            "gridcolor": "white",
            "gridwidth": 2,
            "linecolor": "white",
            "showbackground": true,
            "ticks": "",
            "zerolinecolor": "white"
           }
          },
          "shapedefaults": {
           "line": {
            "color": "#2a3f5f"
           }
          },
          "ternary": {
           "aaxis": {
            "gridcolor": "white",
            "linecolor": "white",
            "ticks": ""
           },
           "baxis": {
            "gridcolor": "white",
            "linecolor": "white",
            "ticks": ""
           },
           "bgcolor": "#E5ECF6",
           "caxis": {
            "gridcolor": "white",
            "linecolor": "white",
            "ticks": ""
           }
          },
          "title": {
           "x": 0.05
          },
          "xaxis": {
           "automargin": true,
           "gridcolor": "white",
           "linecolor": "white",
           "ticks": "",
           "title": {
            "standoff": 15
           },
           "zerolinecolor": "white",
           "zerolinewidth": 2
          },
          "yaxis": {
           "automargin": true,
           "gridcolor": "white",
           "linecolor": "white",
           "ticks": "",
           "title": {
            "standoff": 15
           },
           "zerolinecolor": "white",
           "zerolinewidth": 2
          }
         }
        },
        "title": {
         "text": "Distribuição populacional da Paraíba por etnia"
        }
       }
      }
     },
     "metadata": {},
     "output_type": "display_data"
    }
   ],
   "source": [
    "ethinicities_pop_list = ['Indígena ou Amarela', 'Branca', 'Parda', 'Preta']\n",
    "ethinicities_pop_percentages_list = [1.8, 39.8, 52.7, 5.7]\n",
    "\n",
    "fig = go.Figure(data=[go.Pie(labels = ethinicities_pop_list,\n",
    "                            values=ethinicities_pop_percentages_list, hole=.3)])\n",
    "fig.update_layout(title = \"Distribuição populacional da Paraíba por etnia\")\n",
    "fig.show()"
   ]
  },
  {
   "cell_type": "markdown",
   "metadata": {},
   "source": [
    "O gráfico acima representa a distribição populacional da Paraíba entre os diferentes grupo étnicos, de acordo com dados de 2010 do IBGE. \n",
    "\n",
    "Comparando ambos os gráficos, observamos uma anomalia nos dados: a população amarela (asiática) recebeu cerca de um quinto das doses da vacina aplicadas no Estado, porém menos de 2% da população paraibana é amarela."
   ]
  },
  {
   "cell_type": "markdown",
   "metadata": {},
   "source": [
    "### Vacinação por faixa etária\n",
    "\n",
    "aqui entra a piramide etária de Henrique"
   ]
  },
  {
   "cell_type": "code",
<<<<<<< HEAD
   "execution_count": 269,
=======
   "execution_count": 10,
>>>>>>> b91ef1a6e2f04508d5f64b4ee47ea0bfc6500d00
   "metadata": {},
   "outputs": [],
   "source": [
    "# sns.violinplot(data = vax_df, y = \"paciente_idade\", hue = \"paciente_enumSexoBiologico\", palette = \"Set2\", split=True, orient='v')"
   ]
  },
  {
   "cell_type": "code",
<<<<<<< HEAD
   "execution_count": 270,
=======
   "execution_count": 11,
>>>>>>> b91ef1a6e2f04508d5f64b4ee47ea0bfc6500d00
   "metadata": {},
   "outputs": [],
   "source": [
    "# sns.histplot(data = vax_df, y = \"paciente_idade\", palette = \"bright\", stat = \"count\", hue = \"paciente_enumSexoBiologico\", binwidth = 4, binrange = (0, 115))"
   ]
  },
  {
   "cell_type": "markdown",
   "metadata": {},
   "source": [
    "### Vacinação por sexo"
   ]
  },
  {
   "cell_type": "code",
<<<<<<< HEAD
   "execution_count": 271,
=======
   "execution_count": 12,
>>>>>>> b91ef1a6e2f04508d5f64b4ee47ea0bfc6500d00
   "metadata": {},
   "outputs": [
    {
     "data": {
      "text/plain": [
       "F    1506616\n",
       "M    1300158\n",
       "Name: paciente_enumSexoBiologico, dtype: int64"
      ]
     },
<<<<<<< HEAD
     "execution_count": 271,
=======
     "execution_count": 12,
>>>>>>> b91ef1a6e2f04508d5f64b4ee47ea0bfc6500d00
     "metadata": {},
     "output_type": "execute_result"
    }
   ],
   "source": [
    "vax_df[vax_df.paciente_enumSexoBiologico != 'I']['paciente_enumSexoBiologico'].value_counts()"
   ]
  },
  {
   "cell_type": "code",
<<<<<<< HEAD
   "execution_count": 272,
=======
   "execution_count": 13,
>>>>>>> b91ef1a6e2f04508d5f64b4ee47ea0bfc6500d00
   "metadata": {},
   "outputs": [
    {
     "data": {
      "application/vnd.plotly.v1+json": {
       "config": {
        "plotlyServerURL": "https://plot.ly"
       },
       "data": [
        {
         "hole": 0.3,
         "labels": [
          "M",
          "F"
         ],
         "type": "pie",
         "values": [
          1824379,
          1942149
         ]
        }
       ],
       "layout": {
        "template": {
         "data": {
          "bar": [
           {
            "error_x": {
             "color": "#2a3f5f"
            },
            "error_y": {
             "color": "#2a3f5f"
            },
            "marker": {
             "line": {
              "color": "#E5ECF6",
              "width": 0.5
             },
             "pattern": {
              "fillmode": "overlay",
              "size": 10,
              "solidity": 0.2
             }
            },
            "type": "bar"
           }
          ],
          "barpolar": [
           {
            "marker": {
             "line": {
              "color": "#E5ECF6",
              "width": 0.5
             },
             "pattern": {
              "fillmode": "overlay",
              "size": 10,
              "solidity": 0.2
             }
            },
            "type": "barpolar"
           }
          ],
          "carpet": [
           {
            "aaxis": {
             "endlinecolor": "#2a3f5f",
             "gridcolor": "white",
             "linecolor": "white",
             "minorgridcolor": "white",
             "startlinecolor": "#2a3f5f"
            },
            "baxis": {
             "endlinecolor": "#2a3f5f",
             "gridcolor": "white",
             "linecolor": "white",
             "minorgridcolor": "white",
             "startlinecolor": "#2a3f5f"
            },
            "type": "carpet"
           }
          ],
          "choropleth": [
           {
            "colorbar": {
             "outlinewidth": 0,
             "ticks": ""
            },
            "type": "choropleth"
           }
          ],
          "contour": [
           {
            "colorbar": {
             "outlinewidth": 0,
             "ticks": ""
            },
            "colorscale": [
             [
              0,
              "#0d0887"
             ],
             [
              0.1111111111111111,
              "#46039f"
             ],
             [
              0.2222222222222222,
              "#7201a8"
             ],
             [
              0.3333333333333333,
              "#9c179e"
             ],
             [
              0.4444444444444444,
              "#bd3786"
             ],
             [
              0.5555555555555556,
              "#d8576b"
             ],
             [
              0.6666666666666666,
              "#ed7953"
             ],
             [
              0.7777777777777778,
              "#fb9f3a"
             ],
             [
              0.8888888888888888,
              "#fdca26"
             ],
             [
              1,
              "#f0f921"
             ]
            ],
            "type": "contour"
           }
          ],
          "contourcarpet": [
           {
            "colorbar": {
             "outlinewidth": 0,
             "ticks": ""
            },
            "type": "contourcarpet"
           }
          ],
          "heatmap": [
           {
            "colorbar": {
             "outlinewidth": 0,
             "ticks": ""
            },
            "colorscale": [
             [
              0,
              "#0d0887"
             ],
             [
              0.1111111111111111,
              "#46039f"
             ],
             [
              0.2222222222222222,
              "#7201a8"
             ],
             [
              0.3333333333333333,
              "#9c179e"
             ],
             [
              0.4444444444444444,
              "#bd3786"
             ],
             [
              0.5555555555555556,
              "#d8576b"
             ],
             [
              0.6666666666666666,
              "#ed7953"
             ],
             [
              0.7777777777777778,
              "#fb9f3a"
             ],
             [
              0.8888888888888888,
              "#fdca26"
             ],
             [
              1,
              "#f0f921"
             ]
            ],
            "type": "heatmap"
           }
          ],
          "heatmapgl": [
           {
            "colorbar": {
             "outlinewidth": 0,
             "ticks": ""
            },
            "colorscale": [
             [
              0,
              "#0d0887"
             ],
             [
              0.1111111111111111,
              "#46039f"
             ],
             [
              0.2222222222222222,
              "#7201a8"
             ],
             [
              0.3333333333333333,
              "#9c179e"
             ],
             [
              0.4444444444444444,
              "#bd3786"
             ],
             [
              0.5555555555555556,
              "#d8576b"
             ],
             [
              0.6666666666666666,
              "#ed7953"
             ],
             [
              0.7777777777777778,
              "#fb9f3a"
             ],
             [
              0.8888888888888888,
              "#fdca26"
             ],
             [
              1,
              "#f0f921"
             ]
            ],
            "type": "heatmapgl"
           }
          ],
          "histogram": [
           {
            "marker": {
             "pattern": {
              "fillmode": "overlay",
              "size": 10,
              "solidity": 0.2
             }
            },
            "type": "histogram"
           }
          ],
          "histogram2d": [
           {
            "colorbar": {
             "outlinewidth": 0,
             "ticks": ""
            },
            "colorscale": [
             [
              0,
              "#0d0887"
             ],
             [
              0.1111111111111111,
              "#46039f"
             ],
             [
              0.2222222222222222,
              "#7201a8"
             ],
             [
              0.3333333333333333,
              "#9c179e"
             ],
             [
              0.4444444444444444,
              "#bd3786"
             ],
             [
              0.5555555555555556,
              "#d8576b"
             ],
             [
              0.6666666666666666,
              "#ed7953"
             ],
             [
              0.7777777777777778,
              "#fb9f3a"
             ],
             [
              0.8888888888888888,
              "#fdca26"
             ],
             [
              1,
              "#f0f921"
             ]
            ],
            "type": "histogram2d"
           }
          ],
          "histogram2dcontour": [
           {
            "colorbar": {
             "outlinewidth": 0,
             "ticks": ""
            },
            "colorscale": [
             [
              0,
              "#0d0887"
             ],
             [
              0.1111111111111111,
              "#46039f"
             ],
             [
              0.2222222222222222,
              "#7201a8"
             ],
             [
              0.3333333333333333,
              "#9c179e"
             ],
             [
              0.4444444444444444,
              "#bd3786"
             ],
             [
              0.5555555555555556,
              "#d8576b"
             ],
             [
              0.6666666666666666,
              "#ed7953"
             ],
             [
              0.7777777777777778,
              "#fb9f3a"
             ],
             [
              0.8888888888888888,
              "#fdca26"
             ],
             [
              1,
              "#f0f921"
             ]
            ],
            "type": "histogram2dcontour"
           }
          ],
          "mesh3d": [
           {
            "colorbar": {
             "outlinewidth": 0,
             "ticks": ""
            },
            "type": "mesh3d"
           }
          ],
          "parcoords": [
           {
            "line": {
             "colorbar": {
              "outlinewidth": 0,
              "ticks": ""
             }
            },
            "type": "parcoords"
           }
          ],
          "pie": [
           {
            "automargin": true,
            "type": "pie"
           }
          ],
          "scatter": [
           {
            "fillpattern": {
             "fillmode": "overlay",
             "size": 10,
             "solidity": 0.2
            },
            "type": "scatter"
           }
          ],
          "scatter3d": [
           {
            "line": {
             "colorbar": {
              "outlinewidth": 0,
              "ticks": ""
             }
            },
            "marker": {
             "colorbar": {
              "outlinewidth": 0,
              "ticks": ""
             }
            },
            "type": "scatter3d"
           }
          ],
          "scattercarpet": [
           {
            "marker": {
             "colorbar": {
              "outlinewidth": 0,
              "ticks": ""
             }
            },
            "type": "scattercarpet"
           }
          ],
          "scattergeo": [
           {
            "marker": {
             "colorbar": {
              "outlinewidth": 0,
              "ticks": ""
             }
            },
            "type": "scattergeo"
           }
          ],
          "scattergl": [
           {
            "marker": {
             "colorbar": {
              "outlinewidth": 0,
              "ticks": ""
             }
            },
            "type": "scattergl"
           }
          ],
          "scattermapbox": [
           {
            "marker": {
             "colorbar": {
              "outlinewidth": 0,
              "ticks": ""
             }
            },
            "type": "scattermapbox"
           }
          ],
          "scatterpolar": [
           {
            "marker": {
             "colorbar": {
              "outlinewidth": 0,
              "ticks": ""
             }
            },
            "type": "scatterpolar"
           }
          ],
          "scatterpolargl": [
           {
            "marker": {
             "colorbar": {
              "outlinewidth": 0,
              "ticks": ""
             }
            },
            "type": "scatterpolargl"
           }
          ],
          "scatterternary": [
           {
            "marker": {
             "colorbar": {
              "outlinewidth": 0,
              "ticks": ""
             }
            },
            "type": "scatterternary"
           }
          ],
          "surface": [
           {
            "colorbar": {
             "outlinewidth": 0,
             "ticks": ""
            },
            "colorscale": [
             [
              0,
              "#0d0887"
             ],
             [
              0.1111111111111111,
              "#46039f"
             ],
             [
              0.2222222222222222,
              "#7201a8"
             ],
             [
              0.3333333333333333,
              "#9c179e"
             ],
             [
              0.4444444444444444,
              "#bd3786"
             ],
             [
              0.5555555555555556,
              "#d8576b"
             ],
             [
              0.6666666666666666,
              "#ed7953"
             ],
             [
              0.7777777777777778,
              "#fb9f3a"
             ],
             [
              0.8888888888888888,
              "#fdca26"
             ],
             [
              1,
              "#f0f921"
             ]
            ],
            "type": "surface"
           }
          ],
          "table": [
           {
            "cells": {
             "fill": {
              "color": "#EBF0F8"
             },
             "line": {
              "color": "white"
             }
            },
            "header": {
             "fill": {
              "color": "#C8D4E3"
             },
             "line": {
              "color": "white"
             }
            },
            "type": "table"
           }
          ]
         },
         "layout": {
          "annotationdefaults": {
           "arrowcolor": "#2a3f5f",
           "arrowhead": 0,
           "arrowwidth": 1
          },
          "autotypenumbers": "strict",
          "coloraxis": {
           "colorbar": {
            "outlinewidth": 0,
            "ticks": ""
           }
          },
          "colorscale": {
           "diverging": [
            [
             0,
             "#8e0152"
            ],
            [
             0.1,
             "#c51b7d"
            ],
            [
             0.2,
             "#de77ae"
            ],
            [
             0.3,
             "#f1b6da"
            ],
            [
             0.4,
             "#fde0ef"
            ],
            [
             0.5,
             "#f7f7f7"
            ],
            [
             0.6,
             "#e6f5d0"
            ],
            [
             0.7,
             "#b8e186"
            ],
            [
             0.8,
             "#7fbc41"
            ],
            [
             0.9,
             "#4d9221"
            ],
            [
             1,
             "#276419"
            ]
           ],
           "sequential": [
            [
             0,
             "#0d0887"
            ],
            [
             0.1111111111111111,
             "#46039f"
            ],
            [
             0.2222222222222222,
             "#7201a8"
            ],
            [
             0.3333333333333333,
             "#9c179e"
            ],
            [
             0.4444444444444444,
             "#bd3786"
            ],
            [
             0.5555555555555556,
             "#d8576b"
            ],
            [
             0.6666666666666666,
             "#ed7953"
            ],
            [
             0.7777777777777778,
             "#fb9f3a"
            ],
            [
             0.8888888888888888,
             "#fdca26"
            ],
            [
             1,
             "#f0f921"
            ]
           ],
           "sequentialminus": [
            [
             0,
             "#0d0887"
            ],
            [
             0.1111111111111111,
             "#46039f"
            ],
            [
             0.2222222222222222,
             "#7201a8"
            ],
            [
             0.3333333333333333,
             "#9c179e"
            ],
            [
             0.4444444444444444,
             "#bd3786"
            ],
            [
             0.5555555555555556,
             "#d8576b"
            ],
            [
             0.6666666666666666,
             "#ed7953"
            ],
            [
             0.7777777777777778,
             "#fb9f3a"
            ],
            [
             0.8888888888888888,
             "#fdca26"
            ],
            [
             1,
             "#f0f921"
            ]
           ]
          },
          "colorway": [
           "#636efa",
           "#EF553B",
           "#00cc96",
           "#ab63fa",
           "#FFA15A",
           "#19d3f3",
           "#FF6692",
           "#B6E880",
           "#FF97FF",
           "#FECB52"
          ],
          "font": {
           "color": "#2a3f5f"
          },
          "geo": {
           "bgcolor": "white",
           "lakecolor": "white",
           "landcolor": "#E5ECF6",
           "showlakes": true,
           "showland": true,
           "subunitcolor": "white"
          },
          "hoverlabel": {
           "align": "left"
          },
          "hovermode": "closest",
          "mapbox": {
           "style": "light"
          },
          "paper_bgcolor": "white",
          "plot_bgcolor": "#E5ECF6",
          "polar": {
           "angularaxis": {
            "gridcolor": "white",
            "linecolor": "white",
            "ticks": ""
           },
           "bgcolor": "#E5ECF6",
           "radialaxis": {
            "gridcolor": "white",
            "linecolor": "white",
            "ticks": ""
           }
          },
          "scene": {
           "xaxis": {
            "backgroundcolor": "#E5ECF6",
            "gridcolor": "white",
            "gridwidth": 2,
            "linecolor": "white",
            "showbackground": true,
            "ticks": "",
            "zerolinecolor": "white"
           },
           "yaxis": {
            "backgroundcolor": "#E5ECF6",
            "gridcolor": "white",
            "gridwidth": 2,
            "linecolor": "white",
            "showbackground": true,
            "ticks": "",
            "zerolinecolor": "white"
           },
           "zaxis": {
            "backgroundcolor": "#E5ECF6",
            "gridcolor": "white",
            "gridwidth": 2,
            "linecolor": "white",
            "showbackground": true,
            "ticks": "",
            "zerolinecolor": "white"
           }
          },
          "shapedefaults": {
           "line": {
            "color": "#2a3f5f"
           }
          },
          "ternary": {
           "aaxis": {
            "gridcolor": "white",
            "linecolor": "white",
            "ticks": ""
           },
           "baxis": {
            "gridcolor": "white",
            "linecolor": "white",
            "ticks": ""
           },
           "bgcolor": "#E5ECF6",
           "caxis": {
            "gridcolor": "white",
            "linecolor": "white",
            "ticks": ""
           }
          },
          "title": {
           "x": 0.05
          },
          "xaxis": {
           "automargin": true,
           "gridcolor": "white",
           "linecolor": "white",
           "ticks": "",
           "title": {
            "standoff": 15
           },
           "zerolinecolor": "white",
           "zerolinewidth": 2
          },
          "yaxis": {
           "automargin": true,
           "gridcolor": "white",
           "linecolor": "white",
           "ticks": "",
           "title": {
            "standoff": 15
           },
           "zerolinecolor": "white",
           "zerolinewidth": 2
          }
         }
        },
        "title": {
         "text": "Distribuição populacional da Paraíba por sexo"
        }
       }
      }
     },
     "metadata": {},
     "output_type": "display_data"
    }
   ],
   "source": [
    "sex_list = [\"M\", \"F\"]\n",
    "sex_pop_list = [1824379, 1942149]\n",
    "sex_vax_list = [1300158, 1506616]\n",
    "sex_colors = ['#84d74d', '#4d7aff']\n",
    "\n",
    "fig = go.Figure(data=[go.Pie(labels = sex_list, values = sex_pop_list, hole=.3)])\n",
    "fig.update_layout(title = \"Distribuição populacional da Paraíba por sexo\")\n",
    "fig.show()"
   ]
  },
  {
   "cell_type": "markdown",
   "metadata": {},
   "source": [
    "O gráfico acima mostra a distribuição populacional da Paraíba por sexo, com dados do censo 2010 do IBGE."
   ]
  },
  {
   "cell_type": "code",
<<<<<<< HEAD
   "execution_count": 273,
=======
   "execution_count": 14,
>>>>>>> b91ef1a6e2f04508d5f64b4ee47ea0bfc6500d00
   "metadata": {},
   "outputs": [
    {
     "data": {
      "application/vnd.plotly.v1+json": {
       "config": {
        "plotlyServerURL": "https://plot.ly"
       },
       "data": [
        {
         "hole": 0.3,
         "labels": [
          "M",
          "F"
         ],
         "type": "pie",
         "values": [
          1300158,
          1506616
         ]
        }
       ],
       "layout": {
        "template": {
         "data": {
          "bar": [
           {
            "error_x": {
             "color": "#2a3f5f"
            },
            "error_y": {
             "color": "#2a3f5f"
            },
            "marker": {
             "line": {
              "color": "#E5ECF6",
              "width": 0.5
             },
             "pattern": {
              "fillmode": "overlay",
              "size": 10,
              "solidity": 0.2
             }
            },
            "type": "bar"
           }
          ],
          "barpolar": [
           {
            "marker": {
             "line": {
              "color": "#E5ECF6",
              "width": 0.5
             },
             "pattern": {
              "fillmode": "overlay",
              "size": 10,
              "solidity": 0.2
             }
            },
            "type": "barpolar"
           }
          ],
          "carpet": [
           {
            "aaxis": {
             "endlinecolor": "#2a3f5f",
             "gridcolor": "white",
             "linecolor": "white",
             "minorgridcolor": "white",
             "startlinecolor": "#2a3f5f"
            },
            "baxis": {
             "endlinecolor": "#2a3f5f",
             "gridcolor": "white",
             "linecolor": "white",
             "minorgridcolor": "white",
             "startlinecolor": "#2a3f5f"
            },
            "type": "carpet"
           }
          ],
          "choropleth": [
           {
            "colorbar": {
             "outlinewidth": 0,
             "ticks": ""
            },
            "type": "choropleth"
           }
          ],
          "contour": [
           {
            "colorbar": {
             "outlinewidth": 0,
             "ticks": ""
            },
            "colorscale": [
             [
              0,
              "#0d0887"
             ],
             [
              0.1111111111111111,
              "#46039f"
             ],
             [
              0.2222222222222222,
              "#7201a8"
             ],
             [
              0.3333333333333333,
              "#9c179e"
             ],
             [
              0.4444444444444444,
              "#bd3786"
             ],
             [
              0.5555555555555556,
              "#d8576b"
             ],
             [
              0.6666666666666666,
              "#ed7953"
             ],
             [
              0.7777777777777778,
              "#fb9f3a"
             ],
             [
              0.8888888888888888,
              "#fdca26"
             ],
             [
              1,
              "#f0f921"
             ]
            ],
            "type": "contour"
           }
          ],
          "contourcarpet": [
           {
            "colorbar": {
             "outlinewidth": 0,
             "ticks": ""
            },
            "type": "contourcarpet"
           }
          ],
          "heatmap": [
           {
            "colorbar": {
             "outlinewidth": 0,
             "ticks": ""
            },
            "colorscale": [
             [
              0,
              "#0d0887"
             ],
             [
              0.1111111111111111,
              "#46039f"
             ],
             [
              0.2222222222222222,
              "#7201a8"
             ],
             [
              0.3333333333333333,
              "#9c179e"
             ],
             [
              0.4444444444444444,
              "#bd3786"
             ],
             [
              0.5555555555555556,
              "#d8576b"
             ],
             [
              0.6666666666666666,
              "#ed7953"
             ],
             [
              0.7777777777777778,
              "#fb9f3a"
             ],
             [
              0.8888888888888888,
              "#fdca26"
             ],
             [
              1,
              "#f0f921"
             ]
            ],
            "type": "heatmap"
           }
          ],
          "heatmapgl": [
           {
            "colorbar": {
             "outlinewidth": 0,
             "ticks": ""
            },
            "colorscale": [
             [
              0,
              "#0d0887"
             ],
             [
              0.1111111111111111,
              "#46039f"
             ],
             [
              0.2222222222222222,
              "#7201a8"
             ],
             [
              0.3333333333333333,
              "#9c179e"
             ],
             [
              0.4444444444444444,
              "#bd3786"
             ],
             [
              0.5555555555555556,
              "#d8576b"
             ],
             [
              0.6666666666666666,
              "#ed7953"
             ],
             [
              0.7777777777777778,
              "#fb9f3a"
             ],
             [
              0.8888888888888888,
              "#fdca26"
             ],
             [
              1,
              "#f0f921"
             ]
            ],
            "type": "heatmapgl"
           }
          ],
          "histogram": [
           {
            "marker": {
             "pattern": {
              "fillmode": "overlay",
              "size": 10,
              "solidity": 0.2
             }
            },
            "type": "histogram"
           }
          ],
          "histogram2d": [
           {
            "colorbar": {
             "outlinewidth": 0,
             "ticks": ""
            },
            "colorscale": [
             [
              0,
              "#0d0887"
             ],
             [
              0.1111111111111111,
              "#46039f"
             ],
             [
              0.2222222222222222,
              "#7201a8"
             ],
             [
              0.3333333333333333,
              "#9c179e"
             ],
             [
              0.4444444444444444,
              "#bd3786"
             ],
             [
              0.5555555555555556,
              "#d8576b"
             ],
             [
              0.6666666666666666,
              "#ed7953"
             ],
             [
              0.7777777777777778,
              "#fb9f3a"
             ],
             [
              0.8888888888888888,
              "#fdca26"
             ],
             [
              1,
              "#f0f921"
             ]
            ],
            "type": "histogram2d"
           }
          ],
          "histogram2dcontour": [
           {
            "colorbar": {
             "outlinewidth": 0,
             "ticks": ""
            },
            "colorscale": [
             [
              0,
              "#0d0887"
             ],
             [
              0.1111111111111111,
              "#46039f"
             ],
             [
              0.2222222222222222,
              "#7201a8"
             ],
             [
              0.3333333333333333,
              "#9c179e"
             ],
             [
              0.4444444444444444,
              "#bd3786"
             ],
             [
              0.5555555555555556,
              "#d8576b"
             ],
             [
              0.6666666666666666,
              "#ed7953"
             ],
             [
              0.7777777777777778,
              "#fb9f3a"
             ],
             [
              0.8888888888888888,
              "#fdca26"
             ],
             [
              1,
              "#f0f921"
             ]
            ],
            "type": "histogram2dcontour"
           }
          ],
          "mesh3d": [
           {
            "colorbar": {
             "outlinewidth": 0,
             "ticks": ""
            },
            "type": "mesh3d"
           }
          ],
          "parcoords": [
           {
            "line": {
             "colorbar": {
              "outlinewidth": 0,
              "ticks": ""
             }
            },
            "type": "parcoords"
           }
          ],
          "pie": [
           {
            "automargin": true,
            "type": "pie"
           }
          ],
          "scatter": [
           {
            "fillpattern": {
             "fillmode": "overlay",
             "size": 10,
             "solidity": 0.2
            },
            "type": "scatter"
           }
          ],
          "scatter3d": [
           {
            "line": {
             "colorbar": {
              "outlinewidth": 0,
              "ticks": ""
             }
            },
            "marker": {
             "colorbar": {
              "outlinewidth": 0,
              "ticks": ""
             }
            },
            "type": "scatter3d"
           }
          ],
          "scattercarpet": [
           {
            "marker": {
             "colorbar": {
              "outlinewidth": 0,
              "ticks": ""
             }
            },
            "type": "scattercarpet"
           }
          ],
          "scattergeo": [
           {
            "marker": {
             "colorbar": {
              "outlinewidth": 0,
              "ticks": ""
             }
            },
            "type": "scattergeo"
           }
          ],
          "scattergl": [
           {
            "marker": {
             "colorbar": {
              "outlinewidth": 0,
              "ticks": ""
             }
            },
            "type": "scattergl"
           }
          ],
          "scattermapbox": [
           {
            "marker": {
             "colorbar": {
              "outlinewidth": 0,
              "ticks": ""
             }
            },
            "type": "scattermapbox"
           }
          ],
          "scatterpolar": [
           {
            "marker": {
             "colorbar": {
              "outlinewidth": 0,
              "ticks": ""
             }
            },
            "type": "scatterpolar"
           }
          ],
          "scatterpolargl": [
           {
            "marker": {
             "colorbar": {
              "outlinewidth": 0,
              "ticks": ""
             }
            },
            "type": "scatterpolargl"
           }
          ],
          "scatterternary": [
           {
            "marker": {
             "colorbar": {
              "outlinewidth": 0,
              "ticks": ""
             }
            },
            "type": "scatterternary"
           }
          ],
          "surface": [
           {
            "colorbar": {
             "outlinewidth": 0,
             "ticks": ""
            },
            "colorscale": [
             [
              0,
              "#0d0887"
             ],
             [
              0.1111111111111111,
              "#46039f"
             ],
             [
              0.2222222222222222,
              "#7201a8"
             ],
             [
              0.3333333333333333,
              "#9c179e"
             ],
             [
              0.4444444444444444,
              "#bd3786"
             ],
             [
              0.5555555555555556,
              "#d8576b"
             ],
             [
              0.6666666666666666,
              "#ed7953"
             ],
             [
              0.7777777777777778,
              "#fb9f3a"
             ],
             [
              0.8888888888888888,
              "#fdca26"
             ],
             [
              1,
              "#f0f921"
             ]
            ],
            "type": "surface"
           }
          ],
          "table": [
           {
            "cells": {
             "fill": {
              "color": "#EBF0F8"
             },
             "line": {
              "color": "white"
             }
            },
            "header": {
             "fill": {
              "color": "#C8D4E3"
             },
             "line": {
              "color": "white"
             }
            },
            "type": "table"
           }
          ]
         },
         "layout": {
          "annotationdefaults": {
           "arrowcolor": "#2a3f5f",
           "arrowhead": 0,
           "arrowwidth": 1
          },
          "autotypenumbers": "strict",
          "coloraxis": {
           "colorbar": {
            "outlinewidth": 0,
            "ticks": ""
           }
          },
          "colorscale": {
           "diverging": [
            [
             0,
             "#8e0152"
            ],
            [
             0.1,
             "#c51b7d"
            ],
            [
             0.2,
             "#de77ae"
            ],
            [
             0.3,
             "#f1b6da"
            ],
            [
             0.4,
             "#fde0ef"
            ],
            [
             0.5,
             "#f7f7f7"
            ],
            [
             0.6,
             "#e6f5d0"
            ],
            [
             0.7,
             "#b8e186"
            ],
            [
             0.8,
             "#7fbc41"
            ],
            [
             0.9,
             "#4d9221"
            ],
            [
             1,
             "#276419"
            ]
           ],
           "sequential": [
            [
             0,
             "#0d0887"
            ],
            [
             0.1111111111111111,
             "#46039f"
            ],
            [
             0.2222222222222222,
             "#7201a8"
            ],
            [
             0.3333333333333333,
             "#9c179e"
            ],
            [
             0.4444444444444444,
             "#bd3786"
            ],
            [
             0.5555555555555556,
             "#d8576b"
            ],
            [
             0.6666666666666666,
             "#ed7953"
            ],
            [
             0.7777777777777778,
             "#fb9f3a"
            ],
            [
             0.8888888888888888,
             "#fdca26"
            ],
            [
             1,
             "#f0f921"
            ]
           ],
           "sequentialminus": [
            [
             0,
             "#0d0887"
            ],
            [
             0.1111111111111111,
             "#46039f"
            ],
            [
             0.2222222222222222,
             "#7201a8"
            ],
            [
             0.3333333333333333,
             "#9c179e"
            ],
            [
             0.4444444444444444,
             "#bd3786"
            ],
            [
             0.5555555555555556,
             "#d8576b"
            ],
            [
             0.6666666666666666,
             "#ed7953"
            ],
            [
             0.7777777777777778,
             "#fb9f3a"
            ],
            [
             0.8888888888888888,
             "#fdca26"
            ],
            [
             1,
             "#f0f921"
            ]
           ]
          },
          "colorway": [
           "#636efa",
           "#EF553B",
           "#00cc96",
           "#ab63fa",
           "#FFA15A",
           "#19d3f3",
           "#FF6692",
           "#B6E880",
           "#FF97FF",
           "#FECB52"
          ],
          "font": {
           "color": "#2a3f5f"
          },
          "geo": {
           "bgcolor": "white",
           "lakecolor": "white",
           "landcolor": "#E5ECF6",
           "showlakes": true,
           "showland": true,
           "subunitcolor": "white"
          },
          "hoverlabel": {
           "align": "left"
          },
          "hovermode": "closest",
          "mapbox": {
           "style": "light"
          },
          "paper_bgcolor": "white",
          "plot_bgcolor": "#E5ECF6",
          "polar": {
           "angularaxis": {
            "gridcolor": "white",
            "linecolor": "white",
            "ticks": ""
           },
           "bgcolor": "#E5ECF6",
           "radialaxis": {
            "gridcolor": "white",
            "linecolor": "white",
            "ticks": ""
           }
          },
          "scene": {
           "xaxis": {
            "backgroundcolor": "#E5ECF6",
            "gridcolor": "white",
            "gridwidth": 2,
            "linecolor": "white",
            "showbackground": true,
            "ticks": "",
            "zerolinecolor": "white"
           },
           "yaxis": {
            "backgroundcolor": "#E5ECF6",
            "gridcolor": "white",
            "gridwidth": 2,
            "linecolor": "white",
            "showbackground": true,
            "ticks": "",
            "zerolinecolor": "white"
           },
           "zaxis": {
            "backgroundcolor": "#E5ECF6",
            "gridcolor": "white",
            "gridwidth": 2,
            "linecolor": "white",
            "showbackground": true,
            "ticks": "",
            "zerolinecolor": "white"
           }
          },
          "shapedefaults": {
           "line": {
            "color": "#2a3f5f"
           }
          },
          "ternary": {
           "aaxis": {
            "gridcolor": "white",
            "linecolor": "white",
            "ticks": ""
           },
           "baxis": {
            "gridcolor": "white",
            "linecolor": "white",
            "ticks": ""
           },
           "bgcolor": "#E5ECF6",
           "caxis": {
            "gridcolor": "white",
            "linecolor": "white",
            "ticks": ""
           }
          },
          "title": {
           "x": 0.05
          },
          "xaxis": {
           "automargin": true,
           "gridcolor": "white",
           "linecolor": "white",
           "ticks": "",
           "title": {
            "standoff": 15
           },
           "zerolinecolor": "white",
           "zerolinewidth": 2
          },
          "yaxis": {
           "automargin": true,
           "gridcolor": "white",
           "linecolor": "white",
           "ticks": "",
           "title": {
            "standoff": 15
           },
           "zerolinecolor": "white",
           "zerolinewidth": 2
          }
         }
        },
        "title": {
         "text": "Vacinação na Paraíba por sexo"
        }
       }
      }
     },
     "metadata": {},
     "output_type": "display_data"
    }
   ],
   "source": [
    "fig = go.Figure(data=[go.Pie(labels = sex_list, values = sex_vax_list, hole=.3)])\n",
    "fig.update_layout(title = \"Vacinação na Paraíba por sexo\")\n",
    "fig.show()"
   ]
  },
  {
   "cell_type": "markdown",
   "metadata": {},
   "source": [
    "O gráfico acima mostra a quantidade de vacinas aplicadas para cada sexo na Paraíba.\n",
    "\n",
    "Observamos que, dentro de uma margem de erro plausível, homens e mulheres vacinaram-se dentro das proporsões esperadas. \n",
    "\n",
    "Devemos levar em conta, para as análises de vacinação por etnia, idade e sexo, que os dados demográficos mais atuais que temos são do censo 2010 do IBGE, e que a configuração demográfica paraibana pode ter mudado bastante nesses 12 anos que passaram."
   ]
  },
  {
   "cell_type": "markdown",
   "metadata": {},
   "source": [
    "### Verificação das categorias com maior e menor adesão à vacina"
   ]
  },
  {
   "cell_type": "code",
   "execution_count": 274,
   "metadata": {},
   "outputs": [],
   "source": [
    "vax_df = vax_df.dropna()"
   ]
  },
  {
   "cell_type": "markdown",
   "metadata": {},
   "source": [
    "### Criação de dataset com a contagem de doses distribuídas por categoria"
   ]
  },
  {
   "cell_type": "code",
   "execution_count": 275,
   "metadata": {},
   "outputs": [
    {
     "data": {
      "text/html": [
       "<div>\n",
       "<style scoped>\n",
       "    .dataframe tbody tr th:only-of-type {\n",
       "        vertical-align: middle;\n",
       "    }\n",
       "\n",
       "    .dataframe tbody tr th {\n",
       "        vertical-align: top;\n",
       "    }\n",
       "\n",
       "    .dataframe thead th {\n",
       "        text-align: right;\n",
       "    }\n",
       "</style>\n",
       "<table border=\"1\" class=\"dataframe\">\n",
       "  <thead>\n",
       "    <tr style=\"text-align: right;\">\n",
       "      <th></th>\n",
       "      <th>cods_categoria</th>\n",
       "      <th>categoria</th>\n",
       "      <th>n_doses</th>\n",
       "    </tr>\n",
       "  </thead>\n",
       "  <tbody>\n",
       "    <tr>\n",
       "      <th>0</th>\n",
       "      <td>2</td>\n",
       "      <td>Faixa Etária</td>\n",
       "      <td>1946463</td>\n",
       "    </tr>\n",
       "    <tr>\n",
       "      <th>1</th>\n",
       "      <td>1</td>\n",
       "      <td>Comorbidades</td>\n",
       "      <td>256317</td>\n",
       "    </tr>\n",
       "    <tr>\n",
       "      <th>2</th>\n",
       "      <td>9</td>\n",
       "      <td>Trabalhadores de Saúde</td>\n",
       "      <td>121408</td>\n",
       "    </tr>\n",
       "    <tr>\n",
       "      <th>3</th>\n",
       "      <td>8</td>\n",
       "      <td>Trabalhadores da Educação</td>\n",
       "      <td>73554</td>\n",
       "    </tr>\n",
       "    <tr>\n",
       "      <th>4</th>\n",
       "      <td>21</td>\n",
       "      <td>Gestantes</td>\n",
       "      <td>17367</td>\n",
       "    </tr>\n",
       "    <tr>\n",
       "      <th>5</th>\n",
       "      <td>11</td>\n",
       "      <td>Pessoas com Deficiência</td>\n",
       "      <td>14608</td>\n",
       "    </tr>\n",
       "    <tr>\n",
       "      <th>6</th>\n",
       "      <td>3</td>\n",
       "      <td>Pessoas de 60 anos ou mais institucionalizadas</td>\n",
       "      <td>9229</td>\n",
       "    </tr>\n",
       "    <tr>\n",
       "      <th>7</th>\n",
       "      <td>5</td>\n",
       "      <td>Forças de Segurança e Salvamento</td>\n",
       "      <td>8253</td>\n",
       "    </tr>\n",
       "    <tr>\n",
       "      <th>8</th>\n",
       "      <td>7</td>\n",
       "      <td>Povos Indígenas</td>\n",
       "      <td>8109</td>\n",
       "    </tr>\n",
       "    <tr>\n",
       "      <th>9</th>\n",
       "      <td>6</td>\n",
       "      <td>Povos e Comunidades Tradicionais</td>\n",
       "      <td>7382</td>\n",
       "    </tr>\n",
       "    <tr>\n",
       "      <th>10</th>\n",
       "      <td>10</td>\n",
       "      <td>Trabalhadores de Transporte</td>\n",
       "      <td>5705</td>\n",
       "    </tr>\n",
       "    <tr>\n",
       "      <th>11</th>\n",
       "      <td>15</td>\n",
       "      <td>População Privada de Liberdade</td>\n",
       "      <td>5409</td>\n",
       "    </tr>\n",
       "    <tr>\n",
       "      <th>12</th>\n",
       "      <td>94</td>\n",
       "      <td>Trabalhadores de Limpeza Urbana</td>\n",
       "      <td>4223</td>\n",
       "    </tr>\n",
       "    <tr>\n",
       "      <th>13</th>\n",
       "      <td>16</td>\n",
       "      <td>Trabalhadores Industriais</td>\n",
       "      <td>2804</td>\n",
       "    </tr>\n",
       "    <tr>\n",
       "      <th>14</th>\n",
       "      <td>25</td>\n",
       "      <td>Puérperas</td>\n",
       "      <td>2699</td>\n",
       "    </tr>\n",
       "    <tr>\n",
       "      <th>15</th>\n",
       "      <td>114</td>\n",
       "      <td>Outros</td>\n",
       "      <td>1266</td>\n",
       "    </tr>\n",
       "    <tr>\n",
       "      <th>16</th>\n",
       "      <td>14</td>\n",
       "      <td>Funcionário do Sistema de Privação de Liberdade</td>\n",
       "      <td>647</td>\n",
       "    </tr>\n",
       "    <tr>\n",
       "      <th>17</th>\n",
       "      <td>12</td>\n",
       "      <td>Pessoas em Situação de Rua</td>\n",
       "      <td>622</td>\n",
       "    </tr>\n",
       "    <tr>\n",
       "      <th>18</th>\n",
       "      <td>13</td>\n",
       "      <td>Trabalhadores Portuários</td>\n",
       "      <td>507</td>\n",
       "    </tr>\n",
       "    <tr>\n",
       "      <th>19</th>\n",
       "      <td>4</td>\n",
       "      <td>Forças Armadas (membros ativos)</td>\n",
       "      <td>410</td>\n",
       "    </tr>\n",
       "  </tbody>\n",
       "</table>\n",
       "</div>"
      ],
      "text/plain": [
       "    cods_categoria                                        categoria  n_doses\n",
       "0                2                                     Faixa Etária  1946463\n",
       "1                1                                     Comorbidades   256317\n",
       "2                9                           Trabalhadores de Saúde   121408\n",
       "3                8                        Trabalhadores da Educação    73554\n",
       "4               21                                        Gestantes    17367\n",
       "5               11                          Pessoas com Deficiência    14608\n",
       "6                3   Pessoas de 60 anos ou mais institucionalizadas     9229\n",
       "7                5                 Forças de Segurança e Salvamento     8253\n",
       "8                7                                  Povos Indígenas     8109\n",
       "9                6                 Povos e Comunidades Tradicionais     7382\n",
       "10              10                      Trabalhadores de Transporte     5705\n",
       "11              15                   População Privada de Liberdade     5409\n",
       "12              94                  Trabalhadores de Limpeza Urbana     4223\n",
       "13              16                        Trabalhadores Industriais     2804\n",
       "14              25                                        Puérperas     2699\n",
       "15             114                                           Outros     1266\n",
       "16              14  Funcionário do Sistema de Privação de Liberdade      647\n",
       "17              12                       Pessoas em Situação de Rua      622\n",
       "18              13                         Trabalhadores Portuários      507\n",
       "19               4                  Forças Armadas (membros ativos)      410"
      ]
     },
     "execution_count": 275,
     "metadata": {},
     "output_type": "execute_result"
    }
   ],
   "source": [
    "ranking_categoria = pd.DataFrame(vax_df.vacina_categoria_nome.value_counts(sort=False).reset_index().values, columns = ['categoria', 'n_doses'])\n",
    "ranking_categoria['cods_categoria'] = vax_df.vacina_categoria_codigo.unique()\n",
    "ranking_categoria = ranking_categoria.iloc[:,[2,0,1]].sort_values(by = 'n_doses', ascending = False).reset_index(drop = True)\n",
    "ranking_categoria"
   ]
  },
  {
   "cell_type": "markdown",
   "metadata": {},
   "source": [
    "### 20 categorias são disponibilizadas pelo dataset da plataforma Open Data SUS, como é possível ver na tabela acima"
   ]
  },
  {
   "cell_type": "markdown",
   "metadata": {},
   "source": [
    "#### Criação do ranking das primeiras 5 categorias com maior adesão"
   ]
  },
  {
   "cell_type": "code",
   "execution_count": 276,
   "metadata": {},
   "outputs": [
    {
     "data": {
      "text/html": [
       "<div>\n",
       "<style scoped>\n",
       "    .dataframe tbody tr th:only-of-type {\n",
       "        vertical-align: middle;\n",
       "    }\n",
       "\n",
       "    .dataframe tbody tr th {\n",
       "        vertical-align: top;\n",
       "    }\n",
       "\n",
       "    .dataframe thead th {\n",
       "        text-align: right;\n",
       "    }\n",
       "</style>\n",
       "<table border=\"1\" class=\"dataframe\">\n",
       "  <thead>\n",
       "    <tr style=\"text-align: right;\">\n",
       "      <th></th>\n",
       "      <th>cods_categoria</th>\n",
       "      <th>categoria</th>\n",
       "      <th>n_doses</th>\n",
       "    </tr>\n",
       "  </thead>\n",
       "  <tbody>\n",
       "    <tr>\n",
       "      <th>0</th>\n",
       "      <td>2</td>\n",
       "      <td>Faixa Etária</td>\n",
       "      <td>1946463</td>\n",
       "    </tr>\n",
       "    <tr>\n",
       "      <th>1</th>\n",
       "      <td>1</td>\n",
       "      <td>Comorbidades</td>\n",
       "      <td>256317</td>\n",
       "    </tr>\n",
       "    <tr>\n",
       "      <th>2</th>\n",
       "      <td>9</td>\n",
       "      <td>Trabalhadores de Saúde</td>\n",
       "      <td>121408</td>\n",
       "    </tr>\n",
       "    <tr>\n",
       "      <th>3</th>\n",
       "      <td>8</td>\n",
       "      <td>Trabalhadores da Educação</td>\n",
       "      <td>73554</td>\n",
       "    </tr>\n",
       "    <tr>\n",
       "      <th>4</th>\n",
       "      <td>21</td>\n",
       "      <td>Gestantes</td>\n",
       "      <td>17367</td>\n",
       "    </tr>\n",
       "  </tbody>\n",
       "</table>\n",
       "</div>"
      ],
      "text/plain": [
       "   cods_categoria                  categoria  n_doses\n",
       "0               2               Faixa Etária  1946463\n",
       "1               1               Comorbidades   256317\n",
       "2               9     Trabalhadores de Saúde   121408\n",
       "3               8  Trabalhadores da Educação    73554\n",
       "4              21                  Gestantes    17367"
      ]
     },
     "execution_count": 276,
     "metadata": {},
     "output_type": "execute_result"
    }
   ],
   "source": [
    "first5 = ranking_categoria[:5]\n",
    "first5"
   ]
  },
  {
   "cell_type": "markdown",
   "metadata": {},
   "source": [
    "#### Plotagem do gráfico "
   ]
  },
  {
   "cell_type": "code",
   "execution_count": 277,
   "metadata": {},
   "outputs": [
    {
     "data": {
      "image/png": "iVBORw0KGgoAAAANSUhEUgAABKoAAAGeCAYAAAC0M+kPAAAAOXRFWHRTb2Z0d2FyZQBNYXRwbG90bGliIHZlcnNpb24zLjUuMSwgaHR0cHM6Ly9tYXRwbG90bGliLm9yZy/YYfK9AAAACXBIWXMAAAsTAAALEwEAmpwYAADHLklEQVR4nOzddXRUR/vA8W/cnUAgQkggwd0LFClS3IoUL64txVpooZRSpLQUL1AkuBX3EqwUd08gJMSFuOv9/ZFflizZQIK/9Pmc856TnTsz97mzd7fvPszM1VIURUEIIYQQQgghhBBCiHdM+10HIIQQQgghhBBCCCEESKJKCCGEEEIIIYQQQrwnJFElhBBCCCGEEEIIId4LkqgSQgghhBBCCCGEEO8FSVQJIYQQQgghhBBCiPeCJKqEEEK81zIzM991CEIIIYQQQoi3RBJVQgghNIqIiODPP/+kf//+NGjQgIoVK1KtWjVatGjBuHHjOHnyJIqivLHzp6en8+effzJr1qw3do731aJFi3B3d8fd3Z3U1NR3HY74H3LhwgXVvXP69Ol3Hc5bt3PnTtX1BwYGvutwVO7fv0+PHj2oVq0a7du3548//iAwMBBfX18qVqxI586d32l8y5YtU43b119//U5jeRe++eYb3N3d+eijj951KEIIIQDddx2AEEKI90tqaiqLFi3Cw8ODtLQ0tWPp6ek8fvyYx48fs3//fqpVq8a8efNwcHB47XH07duXq1ev0qlTp9fetxBCvC1paWmMGDGCoKAgALy8vPDy8mL+/PmqOvXq1XtX4QEwbNgwbt++zbFjxzh8+DBff/31G/leF0IIIQpCZlQJIYRQiY+Pp2/fvqxcuZK0tDTKlSvHjBkzOHjwIBcvXuTo0aP88ccfNGjQAIBr167RrVs3/P39X3ssYWFhr73P/xUWFhY4OTnh5OSElpbWuw5H/A8xNDRU3TvGxsbvOhwB+Pr6EhcXR5MmTTh58iQeHh706tULV1dXihcvTo8ePRg1atQ7jVFLS4s5c+ZQqlQpMjMzWbNmzTuN522zsbHByclJknNCCPGe0FLe5LoNIYQQ/zMURWHQoEGcOXMGyJ7R9O2336KtrfnfNLZv3853330HQPny5fnrr7/yrfsymjZtSlBQEJ06dWL27NmvrV8hxIdr586dfPvttwB4enpK4qGQfHx86Nq1K4qicOLECaysrN51SEIIIf6DZEaVEEIIAHbv3q1KUnXp0oUpU6Y8N/H02Wef8dlnnwFw9+5dDhw48FbiFEII8Wa4urpy7do1rl+/LkkqIYQQ74zsUSWEEAKAlStXAmBsbFzgzXRHjhzJzp07cXJyIjo6WmOdf//9l3379nHt2jWePHlCamoqZmZmlC5dmmbNmtG9e3eMjIxU9b/55ht27dqler1r1y7V62dnSGRkZLBr1y7279+Pl5cXCQkJWFpaUr16dbp37/7cjXEVReHkyZNs2LCBBw8eEBMTg729Pa1bt2bQoEGsX7+eX3/9ldq1a7N+/fo87RMTE9m2bRtHjx7l4cOHJCcnY2NjQ9WqVenevTv169fXeF53d3cge7yTkpJYsGABAQEBWFpa0rRpU3788UcWLVrE4sWLAbh58yYGBgZqfSQlJbFjxw5OnTqFt7c3MTEx6OjoYG1tTZUqVejWrVu+e96EhYWxbt06/vnnH/z9/cnKysLa2prKlSvToUMHmjVrlu+YvUhoaCjbtm3j+PHjBAYGkpaWhr29PY0aNeKLL76gWLFiGtv5+Piwfv16zp07R2hoKNra2jg4ONCgQQP69++vsV3OzJlixYpx+vRprly5wurVq7l27RqJiYnY2dnRunVrhg4diqGhIVlZWWzevJmdO3fy6NEjAMqWLcsXX3xB8+bNC3WdFy5coG/fvgDcuXOHR48esXLlSs6fP09MTAy2trY0a9aMESNGqH7s79+/n82bN+Pl5UV6ejqurq707NlTlezVpLCfnWdjW7lyJY0aNcrT740bN9i0aROXLl0iIiICAwMDnJycaNq0KX369MHCwiJPm5x7skqVKqxcuZIZM2Zw/PhxFEWhZMmS/PDDD1StWrVA4/cq9y9AUFAQa9as4d9//yU4OBgzMzMaNmzIiBEjCnT+R48e4eHhwfnz5wkNDUVHRwcnJyeaNWtG3759NV4/QGxsLBs3buT48eP4+PiQnp6OpaUlFStWpFWrVrRr1w4dHR2NbUNCQtiyZQvnz5/H39+f+Ph4DAwMsLOzo06dOvTp04dSpUrlG/PLfEYKysfHh23btnHx4kWCg4NJSEjAxMQEe3t76tevT9++fQvV//Tp09m0aRNGRkacPXs23yWoPj4+tG7dGoA5c+bQsWNH1bFXvUeSkpLYs2cP+/fvx8/Pj9jYWGxsbKhVqxb9+vWjUqVKavVz/rtTpEgR/v33X1V5zvdMTvm9e/dYvXo1Fy5cICoqCktLS2rWrMmAAQOoUqVKvvG87jEWQogPnSz9E0IIgZeXF+3btwegffv2/PLLLwVum5CQgKmpaZ7y5ORkvv76a44fP/7c9u7u7mzatEnVx7OJqtxyJ6rCwsIYNmwYd+/ezbfvzp078+OPP6Knp6dWnpmZyeTJk9m9e7fGdi4uLjRo0IB169ZpTFTduXOH0aNHqzZH1qR9+/bMnDkTfX39PNcL0LNnT7Zs2aL25MRBgwYxYcKE5yaqbt26xfDhw4mIiMj33ACjR4/Os+/N7du3+eKLL4iNjc23XevWrfn1118LvYzz77//ZtKkSSQmJmo8bm5uzrJly6hZs6Za+YoVK1iwYAEZGRka2xkZGTFr1iw+/fRTtfLciarBgwfz888/k5WVlad9zZo1+fPPPxkxYgRnz57VeI5p06bx+eefF+QyAfVk0Pz585k0aVKeBw8AODs789dff/Hjjz+yZ88ejX3lvOe5vexn59nYnk1UKYrCzJkzNSZec1hZWbFw4UJq166tVp5zT5YvXx59fX2uX7+uOmZgYMA///yTb4Int1e5fwFOnz7Nl19+SVJSUp5jJiYmtGvXji1btgCal/6tW7eOOXPm5Hu/WVtbs2TJEqpXr65WHhgYSJ8+fQgODs435tq1a7NixYo8ycO//vqLadOmkZ6enm9bAwMDlixZQsOGDfMce9nPSEEsWbKExYsXa/zs5LCwsGDt2rWUL1++QH3euHGDbt26AfDrr7/Stm1bjfXmz5/PH3/8gbGxMf/++68qofWq98jDhw8ZNWoUvr6+Gttpa2vzzTff0K9fP1VZQRJV48eP5/vvv9f4PmppafHTTz/RtWvXPMfexBgLIcQHTxFCCPGft2nTJsXNzU1xc3NTtm3b9lr6nD59uqrPadOmKbdu3VIiIyMVf39/5dixY0qXLl1UxxctWqRql5qaqiQkJCiNGzdW3NzclHHjxikJCQlKQkKCkpWVpSiKoiQlJSmtW7dW3NzclCpVqihLly5VfHx8lOjoaOXmzZvK5MmTVX3/8MMPeWKbO3eu6vjIkSOVGzduKFFRUcq1a9eUIUOGKG5uboq7u7vi5uam9O7dW62tv7+/UqdOHbVzP3r0SImKilIuXbqkap8T+7Nyjrm5uSktW7ZULl68qERERCiHDh1S/P39FUVRlIULF6rqpKSkqNrGx8crH330keLm5qbUq1dP2bp1q+Lr66tERUUp9+/fV1auXKnUrFlTcXNzU8qWLavqT1EUJSsrS2nVqpXi5uamNG/eXDl8+LASGBioREZGKpcvX1YGDBigOufu3bsL9V7fuHFDKVu2rOLm5qY0btxY2bVrlxIaGqqEhIQo27ZtU2rXrq24ubkpdevWVaKiolTt1q9frzpn27ZtlaNHjyoRERFKaGiosnPnTqVRo0aqazl9+rTaOf/66y/Fzc1NqVChglK2bFmlbdu2yvHjx5WIiAjl5s2bSvfu3dXGuWzZssq8efOUR48eKZGRkcr+/fuVWrVqKW5ubkrNmjWV5OTkAl/v+fPnVX1XqlRJ+fjjj5X9+/crYWFhipeXlzJ8+HC1c7u5uSlTpkxR7t+/r0RFRSknT55U3d/lypVTQkJC1Pp/2c/Os7GdOnVK7djs2bNVx3r27KmcOXNGiYyMVAICApR169apxqNy5crKvXv31Nrmvifd3NyU3377TQkNDVW8vb2VPXv2FGjcXuX+VRRFefTokVKhQgXFzc1NadiwobJ3717lyZMnSkBAgPLHH38olSpVUosxICBArX3OPePm5qZ8/vnnyqlTp5TIyEglNDRU2bVrl9KkSRPFzc1NqV69uvL48WO1tl988YUq7p07dyr+/v5KVFSUcuvWLWXs2LGqfpcsWaLW7saNG6rvkk6dOimenp5KYGCg8uTJE+XGjRvKtGnTVJ+dZs2a5RmzV/mMvMihQ4dUfffr1085e/asEhoaqoSFhSmXLl1Su64+ffoUqu+c+37o0KH51mnWrJni5uamTJw4UVX2qvdIfHy80qBBA7XvZ19fX+XJkyfKyZMnlbZt26q+3y9cuKBqN2nSJMXNzU2pX7++Wn+5v2fKly+vtGjRQjlw4IASHh6uhISEKGvWrFHdd1WrVlWio6Pf2hgLIcSHTBJVQggh1H7AXr58+ZX7i4uLU/2gnDx5ssY68fHxSr169RQ3Nzele/fueY7n/GicNGlSnmM5P5orVKigXLlyRWP/ixYtUl3T3bt3VeX+/v6q2CZMmJCnXVZWlvLll1+q2j6bqMo5VqFCBeXSpUsa23/77bf5Jgtyyt3d3RUvLy+NseeXqNqwYYOqXNO5FUVRDhw4oKqzZcsWVbm3t/dz26ampiotWrRQ3NzclMGDB2vsOz+dOnVS3NzclAYNGijh4eF5jl+6dEl17mXLlimKoiiRkZFK1apVFTc3N6Vz585KYmJinnahoaFKw4YNFTc3N+Xjjz9W0tLSVMdyJx0++ugjJTY2Vq1tQECAKgHg5uamrFy5Mk//GzdufOF4apI7GVS5cuU8CZGEhASlevXqz02Wnjx5UnV8165dqvJX/ezkl6jy9vZWjcfQoUOV9PT0PP16e3ur3pPPPvtM7Vjue3LMmDEvHCNNXuX+VRRFGTZsmOLm5qbUqFEjT4JCURTl+PHj+Saq4uPjVe/J0KFDlYyMjDztIyIiVEmS4cOHq7XNSTblfq9yZGVlKb1791bc3NyU1q1bqx0bM2aMKkn7bBIjx9SpU1UxP3r0SFX+qp+RF8lJeLZu3VpJTU3VWGfgwIGqpFBhkrlLly5VfU/GxMTkOX7t2jXVNZ89e1ZV/qr3yKxZs1Txnjt3Lk/byMhI1Xs8YMAAVfmLElU546vpPfTw8FDVeTZp+ybHWAghPmSymboQQgji4+NVf7+ODXTj4+Pp378/n376KV988YXGOqampqplDlFRUQXuW1EU1dKe1q1b51mik2Po0KHY2toCsHXrVlX53r17SU9PR19fn8mTJ+dpp6WlxdSpU/Ms2QOIiYnhyJEjQPZm8s8uY8tp/91336mWQW3atEljfKVLl8bNze15l5pH8eLF6dWrFz179tR4bkBtyVbucc29NO3Jkyd52unr6/PLL7+wceNGZsyYUeCYfHx8uHPnDpC9Z1nOmOdWs2ZNmjZtSs2aNVXjum/fPtXyrWnTpmncx6ZYsWJMnDgRyN7jJ7+lcD169MDc3FytzMHBgeLFiwPZy6p69+6dp121atVUf4eGhr7wWjVp3bp1nuVlJiYmakt4Bg4c+Nxzh4WFqf5+U5+d7du3k5WVha6uLtOnT0dXN+82pWXKlGHYsGFA9vKt27dva+zrZZaYwavdv/Hx8Zw+fRqAPn364OjomKdtkyZNNC6dA9izZw8JCQkATJ48WeNeUkWKFGHo0KEAHD9+XLX0LCMjQ7VENzIyMk+7nO8MDw8PVqxYoXasevXqdO3alZEjR2Jpaakxtjp16mi85tf5GXlWVlYWjRs3pmPHjowcOVLj9x08fT+ysrKeu2T4WR06dEBLS4v09HSOHj2a5/j+/fuB7Hsi9/W/yj2iKIqq308//ZS6devmaWttbU2vXr2oUKECxYoVU1t6/SI9e/bU+B7m3tcvMDBQ9febHmMhhPiQyWbqQggh1PYjet4+KgVVokQJxo8fn+/x9PR07t69q9qAPb+9VzTx8fFRJVrKly+f755IABUrVuTEiRNcuXJFVfbPP/8A2cmT/H44WltbU7t2bdVTEHNcvnxZtc9Iy5Yt8z2vsbExTZo0Yffu3Vy6dAlFUdDS0lKrU7Zs2fwvMh9NmzaladOm+R6Pjo7m0qVLqteZmZmqv0uXLo2lpSUxMTFMmDCBCxcu0KxZM2rVqqXaA6ty5cqFjuncuXOqv5s0aZJvvWXLlqm9vnDhApB9rzzvvC1atEBPT4/09HQuXbqkcdzz28TY2tqaoKAgXFxcMDQ0zHM8995OmvaYKojnnRuy9+Z6NpH1vHO/qc9OznhXq1btuZs2t27dmt9++w2AS5cuUbFixTx1ypUrV6BzPutV7t9Lly6prlXTBvE5PvnkE9VnPLeLFy8C2Yl4GxubfL83cjbZVhSFa9eu0aJFCywtLSlTpgwPHjxg3rx5eHl50aJFC+rWrat6H8uUKUOZMmXy9Jd7HyRNAgMDuXfvnsZrfp2fkWdpa2tr3N8ph6Io+Pr6qu3zVJjv6RIlSlCrVi0uXrzIvn371B4akJmZyaFDhwBo166d2n9/XuUeefDggSq52Lhx43z7GD58OMOHDy/wteTI7z3InZxPSUlR/f2mx1gIIT5kkqgSQgih+lEN5Pv0vpfl5+fHpUuXePToEQEBATx+/BhfX9+XToj5+/ur/p41axazZs16YZuQkBDV3zn/4u3s7PzcNi4uLnkSVbn7KV269HPbu7q6AtmbzcfHx+eZ8fMqM9cyMjK4fPkyd+7c4fHjxwQEBODr66sWH6A2W8DAwIDp06czbtw40tLS2LRpE5s2bcLQ0JCaNWvSsGFDPvnkE41JlefJmYlkZGRUqKdW5bTLGaf86Ovr4+joyKNHj/LdyDq/scz5AWxmZqbx+LPJw5fxsucuyGb1r/OzU9DxdnR0xMDAgNTU1EKPd0G9zP2b+1jJkiXz7dvFxUVjeUBAAJD9/ZbfLMxn5b7+6dOnM2jQINXT5Pbs2YOenh5VqlRRfXae952QkJDA+fPn8fLyIiAgAH9/f3x8fIiJiVGrl/uaX+dn5HmioqI4d+4cDx8+xN/fn4CAAB4+fJgnmVeY2UcAHTt25OLFi1y6dInw8HCKFi0KZCe3c/6xIfeT/nJ7mXsk96zIF32/v4zc/53MLfdMqfw2TH9TYyyEEB8qSVQJIYRQ+yEUEBCgcclEfjIzMzUuowkODub777/Pk+yB7B/vDRo0ICgoCG9v70LFmrN852Xb5Pww1DTDJjdNy2xy95PfI9c1HU9KSsqTqMr9JL/COHLkCDNnzlRbLpbDycmJevXqqS11zK1Vq1Y4OzuzcuVKjh8/TlJSEikpKZw5c4YzZ84we/ZsmjZtyvTp0zUu4dOkoOP5rJyxfNE4AqqnqGl60lvu4+/Cmzj3m/jsFHa8U1NT8x3vl7134eXv39zLk593r+WXGHzV740aNWqwd+9eVqxYwdGjR4mJiSE9PZ3Lly9z+fJl5s+fT61atZgxYwalSpVStcvKymLp0qX8+eefJCcnq/Wvo6NDhQoVcHBwUC0p1nT+1/EZ0SQ1NZU5c+awbdu2PMlPPT09qlevjomJicYZagXRsmVLZsyYQXJyMgcPHqR///5A9pJGyJ7xqikJ97L3SO6k35v4XGpaLvsib3qMhRDiQyWJKiGEENSqVUv199mzZ9WWabzIiBEjCAsLo06dOkyYMAFdXV3i4uLo3bs3QUFBaGlp0ahRI2rWrEnp0qVxdXXFyckJLS0txowZU+hEVe4fICtXrnzuMiBNDA0NSU9Pf+EPumd/VELe5NPzfkDm/pfy1/Wj6e+//+bLL79EURQsLS1p0aIFFSpUwMXFhTJlymBlZUViYmK+iSrIXnL466+/kpaWxuXLlzl37hxnz57lzp07KIqCp6cnwcHB7Ny5s0CzfnKuLfeSl4LIGbuC/LDOGct3mZB6W97UZ8fY2Ji4uLgCjXdOndc93q9y/+bs+QbZn838Pnv5LeHMSW5VqVKFbdu2vVT8jo6OzJgxgx9++IHr169z7tw5zp07x/Xr18nIyODSpUv069ePQ4cOYWJiAmTP+ly3bh2QPcunWbNmuLm54erqSpkyZTA0NOTEiRMaE1Vv+jPy9ddfc+zYMSB7GXWjRo1Usbm4uKCvr8+GDRteOoliamrKJ598wr59+zhw4AD9+/cnNTWVv//+G8jex+pZr3KP5L4nNH1/vwtveoyFEOJDJYkqIYQQ2NnZUa1aNa5du8bp06eJiorKd5lDbhEREZw9e5a0tDS0tbVV/+K8adMmgoKCAJg/f36+my+/zDLDnA2yAdU58qNpbygnJyfVcpLn8fPzy1Nmb2+v+vvhw4cUKVIk3/YPHz4Esn+s5f6R/SrmzZuHoijY29uzY8cOje9RQcdUX1+f+vXrU79+fcaNG0dISAjfffcdZ86c4d69e1y4cIF69eq9sJ8SJUoA2T8MIyIi8p2J9c8//3Djxg1KlixJu3btsLe35969e/j4+Dy3/9TUVNVyzdzj/6F6U58de3t74uLiXjje/v7+qmTP6x7vV7l/c+4zgEePHmFjY6OxXs4SP03tvby8XvidURA6OjrUqFGDGjVqMGrUKKKiopgzZw67d+8mLCyMQ4cO0bVrV0JCQtiwYQOQvffS4sWLNc4+ze+a3+Rn5OrVq6oESq9evZg6darGeq+6FLxjx47s27ePmzdvEhISws2bN0lMTERPT4+2bdvmqf8q90ju/zYEBATku6dUQEAA27dvx8HBQbUH2ZvwtsZYCCE+RPLUvwJISEigbdu2ak/y0OTRo0f06dOH9u3bM3DgQHlyhxDif8qAAQOA7O+8nM2UX2TBggWqH7Wff/65qvzatWtA9l42+f3QTkhI4NatW0D++3poUq5cOdXynpwfAZpkZGTQokULGjVqpHoqFqBa1nj16lXi4uLyjS33hr05qlevrpplpGkGRI7k5GROnToFQNWqVZ9/QQUUFRWlSp61bNky30Ri7s3Nc4/rtm3b6NixI02bNtU43sWLF2fcuHGq15qW3WiSe7+f580K2LhxI4sWLWL58uUAqid6BQcHc/PmzXzbHTt2TLXBcO4n5X2o3tRnJ2e8r1279tz39vDhw6q/X+d4v+r9W7t2bdVsoed97nOeDPisnFmjT548UY2xJtu3b6datWq0bdtW9RAGT09PunbtSu3atTV+Z1hbW6s9QTRnr6QbN26orqF79+4ak1SQ/zW/yc9I7jHo2bNnvvVyx/Yy+yfVr19ftTfV8ePHOXjwIAANGjTIcw+86j3i7u6umlX1vO+iv//+m+XLlzN16tRC/bensN7WGAshxIdIElUvcOPGDXr27KnxX9ZzUxSF4cOHM3jwYPbu3Uu5cuXyPKJYCCHeZy1atFDNoNm+fTuzZ89+7v+JX758Odu3bwegQoUKdOrUSXUs5wdZbGys6ilMuWVkZDBt2jTV8gxNm0Pr6elpPKajo0OXLl0AOHPmjOpx5M/6888/8ff3JywsTG2T465du6KtrU1qairz5s3T2HbevHkal9tYW1vTvHlzIHuMLl++rLH97NmzVf9YUZhllM+Te3+U/GZYBAQEMH/+fNXr3GNnYmLCvXv3CAoKynfM7t69q/rbycmpQHFVqVJF9bSzJUuWaPxHmqtXr6oSCG3atAGyl/3kLMeaPn26xvGOjIxUvUc2NjbPfRrYh+J1fHY06datm1p7TU8X8/X1VSUS3dzc8n2i4ct41fvXyMhIlbjbvHmz2pPycly/fp0DBw5o7Ltjx46qvbVmzJih8al/ERERLFmyhKSkJCIiIlRP5rSxseHWrVvExsayceNGjf3n/uzkbPae+5pzZlg+68SJE2qfx9zX/CY/I7mTZvnFtnHjRrUnpr7MkzG1tbVp164dkJ0Ezfke0LSJ+qveI7q6uqp+9+/frzG5FxMTg4eHBwD16tUr0Mzhl/W2xlgIIT5Ekqh6gW3btjFt2jTVvwYB7N69m06dOtGhQwcmT55Mamoqd+7cwdjYWLVXyrBhw+jVq9e7ClsIIQpNS0uLX3/9VbUR8Jo1a2jXrh0bN27k3r17REdHExQUxMGDB+nVq5dq1pWdnR0LFixQ+z/lDRs2BLL/tXvo0KGcO3eOyMhIVfuePXuq/TjT9KMxZzlGzlPPoqOjVT+uhw8frlriMmHCBGbNmsX9+/eJiYnh3r17TJ8+XfVjxtnZmd69e6v6dXFxoU+fPgBs3bqVsWPHcuvWLWJiYrhz5w7jxo1j8+bN+Y7TxIkTsbCwID09nUGDBvHHH3/w+PFjYmJiuHr1KiNHjmTLli0AtG7dmlatWhXiXcifubm5KnFw6tQpfvrpJx4+fEh0dDTe3t4sW7aMzp07ExkZqWqTe1ybN2+u+gH9/fffs2jRIry8vIiOjubRo0esXr2amTNnAtmJx4I+GS2nP21tbQIDA+nevTtHjx4lMjKSgIAANm3axPDhw8nMzKREiRKqsbe2tlbN4Lp9+zbdu3fn2LFjREZGEh4ezp49e/jss88IDg5GS0uLWbNm/Sf2qHodnx1N3NzcVJtZnzhxgn79+vHvv/8SFRVFcHAwGzdupGfPniQkJKCvr8/cuXNfy1MRc7zq/QvZn3VLS0tSU1Pp168fW7ZsITw8nLCwMDZu3MjAgQPznZFiY2PD2LFjAbhz5w7dunXj0KFDREREEBoaqvpey3mq3Pjx41X7TFWtWlU1I2vhwoXMnDmTO3fuEBUVxePHj9m+fbvqXi5WrBgtWrQAsjdgz7lnFy9ezMaNGwkICCAyMpKrV68ybdo0RowYofYPArmv+U1+Rho0aKB6f2fMmMGePXsICQkhIiKCc+fOMXbsWH788Ue1NgW9156Vkzy6ePEiSUlJWFhYaEyovY57ZNSoUdja2pKens4XX3zBunXrCAoKIjw8HE9PT3r37k1oaCh6enpqM0jfhLc5xkII8aGRPapeIOf/tOd48OAB27ZtY8uWLRgYGPDrr7+yatUqnJ2dKVKkCJMmTeLu3bu4ubnx/fffv6OohRDi5djY2LB582a+++47jh07xsOHD/P8H+nc6tWrx6xZs9T2BoHsWUuHDh3iwoUL3LlzR/UDObfixYvTqFEjtm7dSnJyMmFhYRQrVkx1vH79+ly/fp2wsDDVTIqNGzdSs2ZNLC0tWb16NcOHD+fRo0esXbuWtWvX5jlHqVKlWLlyZZ6NlydMmEBgYCCenp4cPHhQtRwlR/ny5dHX1+f69et5nvTk4ODAqlWrGDlyJGFhYcyfP1/tX/hzdO7cOd89SV7WtGnT6NOnD4mJiaxfv57169fnqdO8eXOCg4Pz7MOlr6/PwoULGThwIE+ePGHx4sUsXrw4T3tnZ2eN5c9Tp04dfvnlF7799lt8fX0ZPXp0njr29vasXLkSU1NTVVnfvn1JTExk4cKFeHt7M3LkyDztTExM+Omnn/j4448LFdP/qtfx2cnPhAkTSEtLY9OmTVy+fJkvvvgiTx1bW1vmzZtHuXLlXsflqHmV+xeyEzdr165l8ODBREREMG3aNKZNm6Y6rq+vz9ixY/OdKTlgwAASExNZsmQJDx8+5KuvvspTR1tbm1GjRuWZCfnLL7/Qv39//Pz8WLdunWqD9NyKFCnC8uXLVTO3rKysmDx5MlOnTiU5OVnjd6mOjg7Dhw/nzz//JD09Pc81v6nPSOnSpRk6dCh//PEHkZGRasujcxgaGtK/f3/++OMPAB4/fpzvvk/P4+bmRvny5VWzzlq1aoW+vr7Guq96j9jY2PDnn38ydOhQQkNDmTlzZp7/L29oaMicOXOoWLFioa+lMN7mGAshxIdGElWFdOHCBR4/fqyaQp+enk758uVxcHDg4sWLbNiwgUqVKvH7778ze/ZsZs+e/Y4jFkKIwrGysmLJkiXcuHGDffv2ce3aNQICAkhMTERfX5+iRYtSrVo1OnTokO9m23p6eqxatYr169ezf/9+fH19SUtLw8zMDBcXF5o1a0a3bt2IiYlh27ZtKIrCkSNH6Nu3r6qP4cOHk5aWxoEDB3jy5Anm5uZqe+s4OzuzZ88e/vrrL44cOYKXlxdxcXEYGxtTpkwZWrZsSY8ePVQ/Gp+Nb+nSpezZs4cdO3bg5eVFcnIyjo6OtGvXji+++ILhw4cDaGxfqVIlDh06xKZNm/D09MTHx4eUlBTs7OyoUqUK3bp1o3bt2q/6VuRRoUIF9uzZw/Llyzl79izh4eFoa2tTpEgRKlSoQJcuXWjcuDGLFi3izp07XLp0icjISNXG02XLlmX//v2sX7+eU6dO4efnR0pKCubm5ri6utK8eXN69uyZ74/I52nbti1Vq1Zl7dq1nDlzRjUzpWTJkrRo0YJ+/fqp9hbLbfjw4XzyySesX7+e8+fPExYWhr6+Pg4ODjRt2pRu3boVKAnzoXgdn5386OrqMm3aNNq1a8fmzZu5cuUKERERmJiY4OTkRKtWrejcufMb21z6Ve9fyN6jbu/evWzYsIG///6bgIAAjIyMqFmzJiNHjnzhUshRo0bRokULNmzYwIULFwgLCyMzM5OiRYtSu3ZtevXqpTGBUbx4cXbv3s2mTZs4duwYPj4+JCYmYmpqipOTE02bNqV379557vFu3bpRsmRJ1q5dy/Xr14mNjcXAwIASJUpQo0YNPv/8c8qWLcuVK1e4ePEiR44cYdiwYWp9vKnPyNixY6lYsSKbNm3izp07JCQkYGRkhIODA/Xq1aNXr144Ojqyb98+goKCOHLkiGoZX2F17NhRlajStOwvx+u4R8qWLcuBAwfYtGkTR48exdfXl9TUVIoWLUqDBg0YOHCganbpm/Y2x1gIIT4kWors2lcgTZs2Zd26dXh6ehIQEMB3330HZE/RzczM5M6dO8yaNYu9e/cC2WvRx4wZk+df6YUQQvxv6NatGzdu3KBLly78/PPP7zocIYQQQggh/hNkj6pCqlOnDn///TeRkZEoisIPP/yAh4cH1apVIyoqivv37wPZTzapUKHCO45WCCHEs/bs2cOUKVM0LinJkZycrNrM18XF5W2FJoQQQgghxH+eLP0rpLJlyzJq1Cj69etHVlYW5cqVY8iQIRgYGLBkyRK+++47kpOTsbOzY+7cue86XCGEEM/IzMxkx44dQPY/Pri5ueWps2bNGhISEoDsDXGFEEIIIYQQb4cs/RNCCPGfEh0dTfPmzYmPj8fe3p4xY8ZQo0YNTExMCAwMZNeuXWzevBlFUejcuTOzZs161yELIYQQQgjxnyGJKiGEEP85x48fZ+zYsaSkpORbp3nz5syZM0f1iHohhBBCCCHEmyeJqnxkZGQQGhqKnZ1dnkeTCyGE+N8XFBTEunXrOHv2LAEBAWRlZWFra0u5cuXo1KkTzZo1e9chCiGEEEII8Z8jiap8BAYG0qxZMzw9PXFwcHjX4QghhBBCCCGEEEJ88N75U/8yMzNZs2YNn376KVWrVqV169Zs2LCB5+XPvL296devH9WqVaNx48asWLEiT/3Lly/z2WefUaVKFVq0aKHaOFcIIYQQQgghhBBCvJ/e+Zq2pUuXsmLFCkaMGEHVqlW5fPkyP//8M8nJyQwePDhP/cjISAYMGECZMmX4/fffuXPnDr///js6OjoMHDgQAB8fHwYNGkSTJk0YPXo0Z86cYcqUKZiamtKqVau3fYlCCCGEEEIIIYQQogDeaaIqZzbVwIEDGT58OAD16tUjKiqK1atXa0xUbdy4kYyMDJYtW4aRkREff/wxaWlprFixgr59+6Knp8eKFSuwt7fnt99+Q0tLi0aNGhEdHc2SJUskUSWEEEIIIYQQQgjxnnqnS/8SEhLo2LEjLVq0UCsvVaoUUVFRJCUl5Wlz9uxZ6tWrh5GRkarsk08+ISYmhlu3bqnqNG7cGC0tLbU63t7ehIWFvaGrEUIIIYQQQgghhBCv4p0mqiwsLJg6dSrly5dXKz9x4gR2dnYYGxvnaePn50fJkiXVyhwdHVXHkpKSCA8Pf24dIYQQQgghhBBCCPH+eed7VD1r+/btnD17lu+++07j8YSEBExMTNTKcl4nJCSQkJCgVqapzrPi4uKIi4tTKwsNDX25CxBCCCGEEEIIIYQQL+W9SlTt3buXadOm0bJlS3r37l3o9tra2qqn/+Ve9vdsnWd5eHiwePHiQp9PCCGEEEIIIYQQQrw+702ias2aNcyZM4emTZsyb968fBNNpqamJCYmqpXlvDY1NcXU1FSt7Nk6ZmZmefrs168fnTp1UisLDQ2lV69eL3cxQgghhBBCCPEfExcXR3h4OOnp6e86FCHEO6Knp0fRokUxNzd/6T7ei0TVb7/9xvLly+nYsSMzZ85EVzf/sJydnQkMDFQrCwgIAMDFxQUTExNsbW1VZc/WKVWqVJ4+zc3NX2kQhRBCCCGEEOK/LC4ujrCwMOzt7TEyMsp34oEQ4sOlKArJyckEBQUBvHSe5Z1upg7Zy+6WL19O3759mT179nOTVAB169bl7Nmzak8EPHbsGJaWlpQtWxaAevXqceLECTIzM9XquLm5YWNj82YuRAghhBBCCCH+o8LDw7G3t8fY2FiSVEL8R2lpaWFsbIy9vT3h4eEv3c87nVEVHh7OvHnzcHNzo02bNty4cUPteMWKFQkODiYqKoqqVasC8Pnnn7NhwwaGDBnCwIEDuX//PitWrGDcuHHo6+sDMHDgQLp27cqXX37JZ599xtmzZ9m7dy8LFix425cohBBCCCGEEB+89PR0jIyM3nUYQoj3gJGR0SstAX6niaozZ86QlpaGt7c33bt3z3P83LlzLF26lF27duHl5QVA0aJFWbNmDTNnzmTMmDEUKVKEr776ioEDB6ralS1blmXLljFv3jxGjRpFiRIlmDVrFq1atXpr1yaEEEIIIYQQ/yUyk0oIAa/+XaCl5DwmT6gJDAykWbNmeHp64uDg8K7DEUIIIYQQQoj31r179yhXrty7DkMI8Z54le+Ed75HlRBCCCGEEEKI/4Y7d+4wdepUWrVqRZUqVahevTo9evRg48aNZGRkvFLfmZmZbNiwQW0/4/fdokWLcHd359ixY2/lfDVr1qRp06av3M/jx4+pVq0aN2/eLHRbHx8fqlSpwv379185jrfB3d2dDh06vNMYOnTogLu7+yv3ExMTw0cffcSRI0cK3TYqKopatWpx6tSpV47jRSRRJYQQQgghhBDijcrKymLBggV06dKFXbt24erqyueff07r1q0JDQ3lxx9/ZMCAAaSkpLz0OcaNG8eMGTNeOeH1NtWuXZtRo0ZpfDr9+0pRFL777juaNWtG5cqVC93e1dWVTp06MWXKFLUHoL2vRo0aRY8ePd51GK/FrFmzcHJyomXLloVua21tzZAhQ/jhhx9ITEx8A9E99U73qPqvSk3LwkBfcoTif5/cy0IIIYQQoiD++OMPli5dStWqVVm4cCHFihVTHUtLS2Py5Mns27ePb775ht9///2lzhEZGfmaon176tSpQ506dd51GIWye/durly5wqFDh166jxEjRvDJJ5+wefNmevfu/Rqje/1Gjx79rkN4LS5evMju3bvx8PB46T769OmDh4cHixcvZtKkSa8xOnWSqHoHDPS1ce3o967DEOKV+ex2ftchCCGEEEKI95yvry9Lly7F2tqalStXYm5urnZcX1+fWbNmcfXqVQ4fPoyPjw+urq7vKFrxPIqisHLlSho1akTJkiVfup+iRYvSokULVq1aRY8ePdDVldTEm7Z8+XLc3NyoW7fuS/dhaGhIly5dWLduHcOGDcPCwuI1RviUTIUQQgghhBBCCPHG7N69m/T0dHr16pUnSZVDT0+P77//np9//hkrKytVeXp6Oh4eHnTr1o0aNWpQsWJFmjRpwtSpU4mKilLVc3d35+LFiwDUqlWLPn36qI6lpaWxfPlyWrduTaVKlahXrx7jxo0jICAgTxyJiYn88ssvNG3alMqVK9O5c2eOHz/OlClT8uwRlJWVxaZNm+jYsSOVK1emRo0aDBgwgH///Vet3oULF3B3d2fTpk18/fXXVK5cmQYNGnDlypV896javXs3ffr0oVatWlSsWJEGDRrkG7MmUVFRTJ8+nYYNG1KlShX69++Pl5eXxroFvQ6A06dP4+PjQ/v27TWec86cOXz66adUqVKFKlWq0KZNG/744w+NyzHbtWtHcHAwhw8fzvc6IiMjqVChAt27d9d4fODAgZQvX57w8HCg4PdLjkuXLjF06FDq1KlDjRo16NGjR5734tk9qnLeMx8fH3777TcaN25MxYoVadOmDZs3b36lcUlJSeG3335T3X/dunXj0qVL+Y7PwYMH6dGjB1WrVqVatWr06NGDAwcO5Kn34MEDzpw5Q7t27fIcS0xMZMmSJXTo0IFq1apRqVIlWrRowdy5czXu99a+fXuSkpLYsmVLvnG9KklbCiGEEEIIIYR4Y/755x8AGjZs+Nx6TZo0yVM2btw4jhw5Qo0aNejWrRtpaWmcOXOGrVu3cufOHf766y8gex+hXbt2ERQUxODBg3FxcQGyExeDBw/m/PnzVK5cmd69exMZGcmhQ4c4c+YM69evx83NDchOaA0YMIAbN25QrVo1WrZsyZ07dxgxYgQlSpRQiysrK4uxY8dy+PBhHB0d6dKlC0lJSXh6ejJw4EC+//57evXqpdZmyZIlGBsb07t3bx4+fEiFChU4e/ZsnmueM2cOq1evpmzZsnTq1AktLS0uXbrE/v37uXLlCocPH8bQ0DDfcUxMTKR37974+PhQr1493NzcuHjxIn369CElJUUtWVjY69i/fz/a2trUr19f7Zzx8fF069aNkJAQmjZtyieffEJUVBR///038+fPJzY2Ns9SsTp16qCvr8/+/ftp27atxmuxsbGhfv36/PPPPwQHB6u9D1FRUZw/f566detStGhRoOD3C8CePXv49ttvMTQ0pFmzZlhZWXHkyBFGjhzJzz//TJcuXfIdY4AJEyYQHBxMixYt0NXVZe/evfzwww/o6OjQrVu3Qo9LVlYWgwcP5uLFi1SuXJnmzZtz69YtvvjiC4yMjPKcP+c+sbW1VY3fyZMn+frrr7l79y4TJkxQ1c1JXj37GczIyGDAgAHcvHmTBg0a0KBBAxITEzl+/DirVq0iMDCQhQsXqrVxdXWlePHi7N+/n6FDhz53jF6WJKqEEEIIIYQQQrwxoaGhADg7Oxeq3fXr1zly5Ajt2rVj3rx5qvKMjAw6derE7du38fX1pVSpUowePZqLFy8SFBTEkCFDVMkYDw8Pzp8/z6BBg9R+uPfp04eePXsyefJkduzYAcCGDRu4ceMGvXv35rvvvkNLSwt4mhDIbe/evRw+fJgGDRqwaNEijI2NAQgICKBnz578/PPPNGrUCEdHR1WbxMREdu/eja2tbb7XHBYWxtq1a6lVqxYeHh7o6Oiojg0ZMoRTp05x+fJlGjRokG8fq1atwsfHh9GjRzNq1CjVmE2aNIn9+/e/0nVcvHgRBwcHLC0t1frZvHkzAQEB/PTTT3z22Weq8lGjRtGiRQv27duXJ1FlaGhI6dKluXLlCllZWWhra17w1b59e06fPs2hQ4cYOHCgqvzIkSNkZGSoZgkV5n6JjY1lxowZWFpasnHjRtVm9sOGDaNDhw7MnTuX9u3bo6enl+84x8TEcPDgQaytrQFo27YtPXv2ZMeOHapEVWHGZdeuXVy8eJEuXbrw008/qcZj7ty5rFq1Su3cly9fZvXq1ZQvX55Vq1apYoiKiqJfv378+eefNG7cmFq1aqneN319fVVSNvcY3rhxg2HDhjF27FhV+fjx42nZsiXHjh0jOTk5T6KsYsWKHDt2jOjoaLUZkK+LLP0TQgghhBBCCPHGxMXFAWBiYlKodnZ2dsyePZsvv/xSrVxXV5caNWoAL95AfceOHZibm6v9CAeoVKkSrVq14tatWzx48ADIThQYGxvz1VdfqZJUkJ1UeHYvnl27dgHwww8/qJI7AI6OjgwfPpyMjAx2796t1qZ69erPTVJB9n5dc+fOZcqUKWpJKkCVdHjRNR84cABzc3O12S66urpMmjRJ7boKex1RUVGEhoZq3D+sQYMGTJ8+nY4dO6qVFy9eHEdHR43L7gBKly5NXFwc/v7++V7PJ598grGxMQcPHlQrP3jwIIaGhjRv3hwo3P1y6tQp4uPj6du3r9oTF62trfn2228ZNGiQxmVvuXXp0kWVIILs99fc3JygoCBVWWHG5cCBA2hpaTFu3Di1pN1XX32FmZmZWvudO3cCMHHiRLUYrK2tGTduHIDa7LG7d+/i7Oyc554qX748P/30E/369VMrNzU1pXz58mRmZhIbG5vn2kuXLo2iKNy9e1fz4LwimVElhBBCCCGEEOKNsbS0JCIigri4OLUf1S9iZ2dHp06dyMjI4M6dO/j6+uLv78+9e/dUS+aysrLybZ+YmIivry+2trYsW7Ysz/EnT54AcO/ePZycnPD29qZChQp5kgImJiZqe2AB3L9/n2LFiqnNmMqRkxS5f/++WrmDg8MLr9nKyop27dqRlZWFt7c3Pj4+BAQE4OXlVaBrTklJwc/Pj9q1a+eZDVS0aFEcHBzU2hfmOnKSPJpm0JQvX57y5cuTmJjIjRs3ePz4MX5+fty6dYvHjx+TmZmZ7/VCdhIsvxl3RkZGNG/enD179hAQEICjoyPh4eFcvnyZVq1aYWpqChTufsm5pqpVq+Y5X+vWrTXG8azcCa4cpqamJCQkvNS43L9/nxIlSmBjY6PWp76+PhUqVOD8+fNqdbW1tVXvUW7Pvm9JSUkkJydrfN9KlSpFqVKlSE1N5caNG6oxu3Pnjup+1/Te5X7f3gRJVAkhhBBCCCGEeGMcHR2JiIjg8ePHz01UxcfHk5ycrNpvCGDLli0sWbJEtVm2ubk5VapUwdXVlRs3bqAoSr795SQMIiIiWLx4cb71YmNjiYmJAch3xlPumHL6LlKkyHPrpqSkqJUbGBjkG0NuR48e5ddff8XPzw8AY2NjKlasSNmyZTl79uxzrzln9kt+s9csLCyIjo5+qeuIj48H0LhfUmpqKr/99htbt24lOTkZgGLFilGrVi2srKyIiIjQeI6cvnJm3eWnffv27Nmzh4MHDzJ06FAOHTpEVlZWns3BC3q/5JwvJ8n1MvT19fOUaWlpqb0/hRmXuLi4PEmqHM/O6EtISMDAwEBjDGZmZhgZGanO97z3LSsri+XLl7NmzRrVvWNjY0O1atWwt7fHx8dH4/2WM/vuRe/by5JElRBCCCGEEEKIN6Zhw4ZcvXqVf//9l2rVquVbb+vWrfzyyy8MHz6cr776ikOHDjFt2jTc3d2ZNm0aFSpUoHjx4gBMmzaNGzduPPe8OT+ma9asycaNG59bNyeplXs2TG6JiYlqr01MTAgLC9NYN+cH/7P7OBXEjRs3+PLLL7Gzs+O3336jUqVKODo6oqWlxYoVKzRuvp5bTkIjJznxrGeXsxXmOp7X9+zZs9m0aRMtW7akV69euLu7q9p9+umn+Saqcvp6URKvXr162NracujQIVWiytLSUm1z8MLcLzn3xrPvK2Rvqq+trY2u7qunSwozLubm5oV635KTk4mLi8vzJM3U1FRSUlJUs55yzqep79WrV/P7779Tu3ZtBg8eTLly5VTJ2kGDBuHj46MxnpwEVUGTr4Ule1QJIYQQQgghhHhj2rVrh56eHhs2bMj3h3hycjLbt28H4KOPPgJQbfz966+/8sknn6iSDgCPHj0CeO7sIjMzM0qUKMHDhw/zzG4C2L17N4sWLSIwMBBTU1OcnZ25f/8+aWlpavUyMzO5ffu2WlnZsmWJj4/H29s7T7+XL18GsvfxKawDBw6QlZXFtGnTaNOmDU5OTqp9pQpyzYaGhri6unL37t0816xpL6jCXEfODKvcM7Jy7N+/HxsbGxYsWECdOnVUyZGUlBSCg4PzjTunr9zvrSY6Ojq0adOGe/fucfXqVa5fv06rVq3UljcW5n7J2VT85s2bec61atUqqlSporbU82UVZlwqVKhASEiIqjxHZmYm9+7dUysrW7YsAFeuXMlzzitXrqAoiup9MzAwwNzcPN/3TUdHh2XLltGoUSNVkkpRlOfebwV9316WJKqEEEIIIYQQQrwxjo6O9O/fn+joaAYNGqRalpUjPj6e8ePH4+fnR5MmTVSbhufM1sjZSyrH7t27VUmEjIwMVXlO0iI9PV1V1qlTJ2JiYpg3b57a3kwPHz7kxx9/ZM2aNarkQefOnUlISGDRokVq51u+fHmeGUGdO3cGYObMmWqzXQICAliyZAl6enq0adOmgCP0VH7XfO7cOVUiJvc1a9KpUyeSkpKYN2+eKsmgKAq//vprnraFuQ4zMzOKFy/Ow4cPNcadmpqqthQsMzOTmTNnqhJmud+XHA8ePMDExETjHlnPat++PQDTp09HURTV69wxQMHul5wN2tetW6e2+XlMTAxbt27FxMRE4/5VhVWYcenUqROQPQsr91itWrUqzzXlvG+//fab2j5RUVFRzJ07F4AOHTqoysuUKUNAQACpqal54svMzMyz19SSJUtU46Lpfst5AEFOwux1k6V/QgghhBBCCCHeqLFjxxIZGcnOnTtp1qwZjRs3xsnJibCwMP7991+ioqKoXr266kc2ZCcmDhw4wKhRo2jTpg2mpqbcunWLixcvYmNjQ2RkpGpvKcje+wdg8uTJfPTRR/Tt25chQ4Zw5swZ1q9fz5UrV6hduzZxcXEcPnyY5ORk5s2bp9qnqH///hw+fJgVK1Zw5coVKleuzN27d7l8+TLm5uZqywI7dOjA8ePHOXLkCO3bt6dRo0YkJSXh6elJQkIC3333HU5OToUep9atW7NmzRqmT5/OpUuXsLW1xcvLizNnzmBlZZXnmjXp168fx48fZ/369dy+fZsqVapw/fp1vL298+yBVNjraNSoEVu3biU4OJgSJUqoytu1a8fq1avp0qULn3zyCRkZGZw5cwZfX1+sra2JiooiJiZGba+v2NhYHj58SJMmTfI8jU6TChUq4Orqyv3797G3t6d69epqxwtzv1haWjJ16lS+/fZbOnXqRLNmzTAxMeHw4cOqPc007f9UWIUZl9atW3PkyBEOHz6Mr68v9erV4+HDh5w/fx57e3u1hFqtWrUYMGAAa9asoX379jRp0gSAEydOEBERweDBg1UJX4DGjRtz5coVbt68qVbevn17rl+/Ts+ePfn000/R09PjwoUL3LlzR+NnDLKTnteuXcPd3T3fPbVelcyoEkIIIYQQQgjxRuno6DBr1ixWrVrFxx9/zP3791m/fj3Hjx/H2dmZ6dOns2HDBrX9dho3bsz8+fNxcnJi37597Nq1i9TUVKZOncqff/4JwKlTp1T1hw0bRpUqVfj3339Ve1IZGhqybt06Ro8eTWpqKps2beLUqVNUr16ddevW0bZtW1V7AwMD1q5dy+eff46/vz8bNmwgISGBFStW4OzsjKGhoaqulpYWv//+O9999x0mJibs2LGDEydOULVqVdasWUOvXr1eapzKlSvHihUrqFChAseOHWPbtm08efKEMWPGsGfPHrS1tdWuWRN9fX1Wr17NkCFDCAsLY/PmzUD2fkTPbhZf2Oto1qwZAP/++69a+dixYxk9ejTa2tps2rSJY8eOYW9vz6pVqxg2bBhAnrhzNoZ/dkP058mZRdWuXTvVksgchb1fOnXqxOrVqylXrhxHjhxh27ZtODg4sGLFCpo3b17gmJ6nsOPy22+/MX78eNLS0ti8ebMqaaZp5tI333zDL7/8gr29Pfv27ePQoUOUKlWKRYsWMX78eLW6Oe/bmTNn1Mo///xzvv/+eywtLdm+fTv79u3DxMSE3377jR9//DFPfAC3bt0iNjZW7bPzumkpz1vg+h8WGBhIs2bN8PT0LNBjRAvLtaPfa+9TiLfNZ7fzuw5BCCGEEEK8B+7du0e5cuXedRivJDAwEGtra9VG27k1adIEIyMjDh48+A4ie38oikKbNm0wNzdny5Ytr9TX4MGD8fHx4ejRo69l43LxfAMHDsTHx4fjx4+jrf3yc5Z++OEH9u7dy4kTJ/I8jTC3V/lOkBlVQgghhBBCCCH+82bMmEGNGjUICAhQKz948CDBwcHUqVPnHUX2/tDS0mLo0KFcu3ZN415VBRUcHMyZM2cYPHiwJKnekuHDhxMSEsI///zz0n0kJSVx4MABPv/88+cmqV6V3BFCCCGEEEIIIf7zunfvzqlTp+jatSstWrTA0tISHx8fTp48iZ2dHaNGjXrXIb4X2rVrx+bNm1m4cCELFy58qT4WLVqEm5sbXbt2fc3RifzUrFmT1q1bs2jRIho1apRn6WRBrF69GkNDQ4YMGfIGInxKZlQJIYQQQgghhPjPa9q0KWvXrqVKlSqcOHGCtWvXcv/+fXr27MnOnTvf2MbR/2u0tbWZNWsWp06d4saNG4Vu//DhQ/bv38+sWbNUT2oUb8f3339PcHAwhw4dKnTbqKgoVq9ezY8//qi2l9ybIDOqhBBCCCGEEEIIoG7dutStW/ddh/HeK1Wq1EslqQBKly7NrVu3XnNEoiCsra05e/bsS7e9evXqa45IM5lRJYQQQgghhBBCCCHeC5KoEkIIIYQQQgghhBDvBUlUCSGEEEIIIYQQQoj3giSqhBBCCCGEEEIIIcR7QRJVQgghhBBCCCGEEOK9IIkqIYQQQgghhBBCCPFe0H3XAQghhBBCCCGEEP8res715oJXgsZjP3zuQN9mRV/Yx4RVfoREp7NhfJnXHR7n78fz+S8P8j3+7Wf2DG5VjIxMBQ/PcAa2KJanzpGrMYxc+og1Y0vTsIJ5vn0FPkml0aQ7bP3GjVplTF9L/EK8V4kqT09Pxo8fz7Vr1/Kt07RpU4KCgjQeGz16NKNGjQKgXbt2eHt7qx23tLTkwoULry9gIYQQQgghhBCvLDUtCwP9t7/g52XP276OFVO6O+QpNzXUKVD773s6oihKoc9bGPumlqWopV6e8pwY91+KZubWII2JqqUHQvm6U4nnJqkAilvrc+G3SliavFepBfE/7r25m65evcqECRNeWG/x4sWkpaWpla1Zs4bTp0/TunVrANLS0nj06BHjxo2jdu3aqnq6uu/N5QohhBBCCCGE+H8G+tq4dvR76+f12e38Uu0M9bWxtcibBCooc+OCJbRehbWZ7vNjfE6ibP240pgbv/j3s4621iuNgxCavPPMTVpaGh4eHixYsABjY2PS09OfW798+fJqr2/dusWxY8f48ccfcXFxAcDHx4eMjAyaNWuGq6vrG4tdCCGEEEIIIYR4VuCTVGZtC+K8VzzxyZkUs9SnT1NbhrTKnr2Ue+nf1A3+7Dkfzd8/laeopR5R8Rm0mnqXT2taMb2XIzEJGfy8LYhTt2OJTsjA2lSPDnWtmNTVHm1trZeK7/z9eL7+8zEALgOvMndASbo2sGHjyQjWe0bgF56Kno4W1VxN+LG3I87FDFXL/MZ1LsHav8OxNNVh+ShXPplyV7X0703EKv573vlm6qdPn2bFihVMnDiR3r17F7r9zJkzqVSpEp07d1aVeXl5YWhoiLOz82uMVAghhBBCCCGEeLFBC31Izchi4wQ3js4oT+f61szeHsRd/6Q8db/5zB5rM12mbvQHYPK6x1ib6jK5mz0A41b58TAkmZVjXPGcWYGRbe3482g4x67HvnR81Uub8EMvRwAu/FaJtrWtOHg5mp+2BDKqnR2eM8vz55euBEWmMWub+tY7+y5EsWWSG/MHl0JfVz359CZiFf8973xGVaVKlfD09MTc3JxFixYVqu2xY8e4du0aW7ZsQUvr6QfEy8sLCwsLxo4dy5kzZ9DS0qJVq1Z8++23mJrKBm9CCCGEEEIIIV7ezrOR7L8YrVbWtrYVs/uXJCUti64f2dC2thV2VvoAjG5XnCX7Q/EKTKa8k7FaO2MDHeYNLEn32d5MWOXHyZtx7PrOHQO97HklH1c0p25ZM9zsjQDo09SW5YfC8ApKpkV1y3xj/GTKXbQ0TGK6OL8SxgY6mBtl95+zdM/GTJc5A0rStrY1APZFDGhb24o956PU2vdtaotrcUMge+ZYbi8bqxC5vfNEVbFieTduKygPDw9q1KhBtWrV1Mq9vLx48uQJ7u7u9O3bl3v37rFw4UICAwPx8PDI009cXBxxcXFqZaGhoS8dlxBCCCGEEEKID1eLapaM71xCrczk/zcpN9TXpk9TWw5ciuaGbxJ+YSncDUgmS4HMLM391ShtyhfNi/Ln0XDGdy5BOcenyaxeTWz5+1oMW/+JxDc0Ba/AZEKi08nMev5m7Gu/Lo2ted6f/Eb5bB5fx90Mr8BkFuwJwSc0JftcQckUs9RXq+doa5DvOV82ViFye+eJqpf16NEjLl68yIIFC/IcGz9+PGlpaVStWhWAmjVrYmNjw9ixY7l8+TI1a9ZUq+/h4cHixYvfRthCCCGEEEIIIf7HmRrp4FzMUOOxxJRMus/2JiNL4dMaVtR1L0JVFxMaTrydb3+KonDHPxkdbfj3bjzDWxdDS0uLrCyFL35/yKPQVDrUtaJTPWuquJjQe96DF8boYKNPcWv9F9bLsetsJN+s9adjPWtqu5nSr5ktp27Fseuc+owqw3wSXa8SqxC5/c8mqjw9PTE2NqZJkyZ5jj274TpAw4YNAbh//36eRFW/fv3o1KmTWlloaCi9evV6jRELIYQQQgghhPjQnb4dx92AZK4uqIylafZP7kehKWQpkN+8Ig/PCG76JrJ+XBkGLvDBwzOC/p8U5Y5/Mv/ciWfv1LJULJk9yyo+OZPwmPTnPbSvYJ5ZF7j8cBifNy7CtM8d1eIq6HneaKziP+V/NlH1zz//0KhRIwwM1KcdZmRksHfvXsqWLauWsEpJSQHAysoqT1/m5uaYm5u/2YCFEEIIIYQQQnzwSvz/LKY9F6L4pIoFfuGpzNyavSF5WkbetX+PQlOY+1cQk7raU7esGWM7FmfuX0E0qmhOUQtddHXgwKVoLE10CI9J59ddwaRlKKRlPD/7ExWfga5O3k2qDPS0MDfWxdQwe2bUTb9EXO0MKW6tz+UHCdwLSMJQX5u956M5cCkaG7OCpQ1eJVYhcvufTFQpisLt27cZPXp0nmO6urosWrSIsmXLsmzZMlX50aNH0dPTUy0HFEIIIYQQQgghXrcqLiZ8+5k9yw+FMWdHEPY2+nzWoAinbsVy0zeJXo2f1s3MUhi/yo8KTsb0aWILwIDmRdl3MZrxq/zY/q07cweU5Pc9Iaz5Oxw7Kz1a17KimKU+N33zPkEwt3Y/3tdY3qSyOau+LE1ddzPquJvy2c/eTOhSgh8+d2Syx2O6/uyNsYE2lUsZM7OPE1PW+xMUmfbC6y5mpf/SsQqRm5aivD+T8BYtWsTq1au5du2aqszf35+oqCi1BFNgYCDNmjVj+fLlNG7cOE8/W7duZerUqfTp04emTZty69YtlixZQq9evZg0aVKBYsk5h6enJw4ODq96aXm4dvR77X0K8bb57HZ+1yEIIYQQQoj3wL179yhXrtxLt09Ny8Ign72P3qR3dV4hPnSv8p3w3s+oWrp0Kbt27cLLy0tVFhWVvZmbmZmZxjbdu3dHT0+PNWvWsG3bNooUKcKIESMYMmTIW4lZCCGEEEIIIUTBvatkkSSphHj/vFczqt4nMqNKiBeTGVVCCCGEEAJefUaVEOLD8irfCZI+FkIIIYQQQgghhBDvBUlUCSGEEEIIIYQQQoj3giSqhBBCCCGEEEIIIcR7QRJVQgghhBBCCCGEEOK9IIkqIYQQQgghhBBCCPFekESVEEIIIYQQQgghhHgvSKJKCCGEEEIIIYQQQrwXJFElhBBCCCGEEEIIId4LkqgSQgghhBBCCPFOZaWn/s+dNy0jixWHw2j7wz0qjrhOrbE3GbzQh5t+ia8xwtfDZeBVdp+LzPf4hFV+9J73IN/ju89F4jLw6ivF0HveAyas8nulPsR/g+67DkAIIYQQQgghxH+btp4BflNLvfXzOv/o+1LtklOz+PwXb6ITMviqYwmqljImMSWLtcfC6T7bm9VflaZeWbPXHO2b831PRxRFeddhCAFIokoIIYQQQgghhCiUX3cF4xuWypEfy1HMSl9V/stAZ57EZ/DDxgAO/1gOLS2tdxhlwZkb67zrEIRQkUSVEEIIIYQQQghRQGkZWez4N5JuDWzUklQ5fuzlSEJKJlpaWgRFpjFnexBn78WTmp5F/XJmTOnhgJOtAQANJ96mT1Nbzt2L57xXPEUt9Jja04H0TIU5O4KJiE2nlpspvw50xtos++e7V2Ays3cEcc0nES2gaRULpnR3UB13GXiV0e3s2H4me6nfnu/LAuAdnEKnn+5zLyAZ1+KGfPOZPQ0rmAPZS/9CotPZML4MAGfvxTN7eyAPglMo72hM48rmatcY+CSVWduCOO8VT3xyJsUs9enT1JYhrYoBkJWlsGBvCFtOPyEpJYvujYqQlaU+Y8srMJmftwVy6UEClia6NKlswaSuJTA3zr6O4zdi+W1XMD6hKZgb6/BpDSu+7WaPgZ7sYPShK/Q77OPjo/Z6y5YtjB8/nvnz5xMREfHaAhNCCCGEEEIIId43ARFpxCVlUtXVRONxR1sDyjkaE5+cSbdZXsQkZrD269JsmuhGfHImPed4E5eUqaq/cG8I7epYcfjH8pR1MGLsSj9WHA5jwVBnVo5x5bpPIisOhwHZCaLPZnthaaLD1kluLB/tyr2AZPr++oDMXImgLaef8OcYV5aNcMHWQg+AtcfC+byxLQd+KEfNMqYMWeRDSFRanvj9wlL44veH1CxtyoEfyvF54yL8cTBMrc6ghT6kZmSxcYIbR2eUp3N9a2ZvD+KufxIASw6EsvZYBNM+d2TXd+7EJmZw3itB1T40Oo2ec70p62DE/mnlWDLchQfByQxf8giAqPgMRix9xOeNi3Dsp/LMH1yKA5eiWX5IPQ7xYSrwjKqEhARGjRrFhQsXOHfuHJaWlsyfP58VK1ao1rLu2rWLbdu2YWdn98YCFkIIIYQQQggh3pXYxAzgxcvldp+LIjYpk4VDS2Fpmv3Te/FwFxpOvM3u81H0bWoLwCdVLehc3waA7o2K8Pf1WCZ0saeyc3YirEEFM7yDkgHYcCICcyNd5g5wRk83e1nhwqHOtPj+HqduxdG0igUAXT6yobyTsVo8/ZoV5bMG2eeZ1tOB07fj2HTyCeM6l1Crt+V0JMWt9fmuhwPa2lq42BnyIDiZFYfDAUhJy6LrRza0rW2F3f/PKBvdrjhL9ofiFZhMOUcj1h+PYFDLorSuaQXAzH5O/HsvXnWOjSee4GhrwLfdHFRlC4eWov7421x9mICBnjZpGQp2VvrYFzHAvogBa8aWxthAZlP9FxQ4UbV8+XLOnz9P48aNAUhOTmbdunVYW1uzYMECAgMD+e6771iyZAkzZsx4U/EKIYQQQgghhBDvjNX/L7GLTcx8bj3voGRc7AxVSSoAazNdSpcwVCWeAEoWNVD9nZOIyVkaCGCop010Qva5vIJSqFzKWJWkAihdwghrU128g5JViSqnIk/b56hR+ukMMG1tLSo4GanFkTvuCk5GaGs/PUdVl6dtDfW16dPUlgOXornhm4RfWAp3A5LJUiAzC6ISMngSl0HFkk8TZfq62lTIlTi745/EXf8kKo64nuf8D0NS+KyBDW1qWTJooQ/FrfRoUMGcFtUsVNcnPmwFTlQdPXqUWrVq8ccffwBw7NgxkpOT6d27NzVr1qRmzZr8888/nD59+o0FK4QQQgghhBBCvEslbQ2wMdflmk8ibWpZ5Tl+/n48q46Gq/aMelZWloKeztMkUO6/c2jnswe7YT77M2VmKejm6sdQX1Of6mVZCujr5a2npQXPPgBQT/fpeRNTMuk+25uMLIVPa1hR170IVV1MaDjxdnZ7svvM28fTc+nratGggjnTejrwLGszPbS0tFg0zIUx7ZM5eTOO03fiGLbkER3rWfPLF84ax0B8OAo8by4kJIRq1aqpXp8+fRotLS0aNWqkKrO3tyc6Ovr1RiiEEEIIIYQQQrwntLW16FLfhu1nIgmLVt/jSVEU/jgUhk9oCtVLm/AoNIWYhAzV8aj4DB6FplK6hOFLnbtMCUNu+iaRnvE0C/QgOJnYpEzKvKDPnP2jANIzFG76JlGmhFGeeuUdjbnpl0RG5tNz3PJLVP19+nYcdwOS2TLRjS87FOfTmlYkp2WRpYBC9qwxOys9rvo83ZMqK0tRO3+ZEkb4hKRgb2OAczFDnIsZoqOtxYwtgYREpXHTL5GftgRSpoQRg1sVY/24MozvXIIDlyTf8F9Q4ESVhYUFsbGxqtenT5/GyMhILXnl5+eHra3t641QCCGEEEIIIYR4j4xuZ4djEX26zfZm74Uo/CNSufowgRFLfbngFc+cASXpWNcaGzNdxiz35fbjJG4/TmLMcl8sTHRoVzvvTKyC6NPUlvjkTCau8cM7KJlLDxIYu8KPco5G1C9n/ty2Kw6HsfdCFA+Dk5ns8ZiElEx6N8n7+71n4yLEJmYwZZ0/PiEpHLgUjcexpw9OK2GdvS/VngtRBD1J5d+7cYxa5gtkPxERYFDLYqw9FsGus5E8Ck3hh00BBEU+Ter1bWZLbGImE1b7cT8wmZt+iYxZ7otfWCql7AwwM9Jhw4kIfvkriMfhqdz1T8LzRixVS2newF58WAq89K98+fIcPnyYtm3bcvPmTUJDQ2ndujW6utldHD58GE9PT9q0afPGghVCCCGEEEIIId41E0MdtkxyY/mhMBbuDSE4Kg0zIx2quZjw12R31Ubma78uzcytgfSY442Othb1y5mxdZIb5sYF/imuxtZCj3XjSjN7exAdZtzH2ECbZlUs+eYze7WldZqMalec5YfC8AlJoYKTMR5fl9a4PLGEtT7rx5fhpy2BtJ1+j1LFDBnWuhhzdgQDUMXFhG8/s2f5oTDm7AjC3kafzxoU4dStWG76JtGrMXzRvChZWQrzdgUTnZDBpzWsaF7NUu061o8vzZztwXSeeR9DPW3qlTVj8XAH9HW1KVXMkD9GuTB/dwhrj0Wgp6tFo4rmfN8j71JB8eHRUpRnV45qdvv2bQYMGEBCQgKKomBgYMC2bdtwd3fnp59+YsOGDVhZWbF582acnZ3fcNhvXmBgIM2aNcPT0xMHh9f/YXDt6Pfa+xTibfPZ7fyuQxBCCCGEEO+Be/fuUa5cuZdun5WeirZe3g3A37R3dV4hPnSv8p1Q4DRuxYoV2b59O1u3bkVRFDp27Ii7u7vqWM+ePRk0aBD29vYvFYgQQgghhBBCiP+md5UskiSVEO+fQs03dHZ2ZtKkSXnKO3bsSMeOHV9XTEIIIYQQQgghhBDiP6jQC2NTU1OJiYkhKyuLnFWDiqKQkZFBTEwMp06dYsyYMa89UCGEEEIIIYQQQgjxYStwoio5OZlvvvkGT09PMjMzn1tXElVCCCGEEEIIIYQQorC0C1px8eLFHDlyBEtLSxo2bIiBgQEuLi40aNCAEiVKoCgKNjY2LFmy5E3GK4QQQgghhBBCCCE+UAWeUXXs2DHs7Ow4ePAgxsbGDBs2DD09PRYtWgRkJ7KWLFlCamrqGwtWCCGEEEIIIYQQQny4CjyjKiQkhKZNm2JsbAxAhQoVuHbtmur4qFGjKFeuHJs3b379UQohhBBCCCGEEEKID16BE1W6urqYmJioXjs5OREZGUlkZKSqrE6dOvj5+b10MJ6enlSrVu2F9YYNG4a7u3ue/yUmJqrqXL58mc8++4wqVarQokULduzY8dJxCSGEEEIIIYQQQog3r8BL/5ycnPDy8lK9LlWqFIqicP/+fT766CMA0tPTiY+Pf6lArl69yoQJEwpU9/79+/Tt25c2bdqolRsZGQHg4+PDoEGDaNKkCaNHj+bMmTNMmTIFU1NTWrVq9VLxCSGEEEIIIYQQQog3q8CJqubNm7NkyRIWLlxI3759KVu2LBYWFqxcuZJq1aoRGRnJ4cOHcXBwKFQAaWlpeHh4sGDBAoyNjUlPT39u/bi4OEJCQmjYsCFVq1bVWGfFihXY29vz22+/oaWlRaNGjYiOjmbJkiWSqBJCCCGEEEII8VImrPLjr7NR+R63t9Hnn7kVC91v4JNUGk26w9Zv3KhVxvSlYvt9TzB7zkdzYlaF19KfJt+sfczj8FQ2T3R7bX2+CWUGX2VWv5J0bWDz0n3sPBvJuuMRPAhKQVsLyjoa0a+ZLW1rW79UfxNW+XHRO4G9U8tiYZJ/KmbxvhC2/hP5UvfRh6LAiaoBAwZw6tQpli1bhr29PV26dKF///4sWLCA2rVrk5mZiaIoDB8+vFABnD59mhUrVjBx4kRiYmJYs2bNc+vnzOpyd3fPt87Zs2dp3749WlpaqrJPPvmEvXv3EhYWRrFixQoVoxBCCCGEEEKINyc1Mw0DHf33/rzf93RkYld7AIKj0uj0kxcrRrtQpVT2NjnaBd5cR7zPNp96wqxtgUzt6UjNMiakZyocvRrDlyv8SE1X6PJR4RJgQZFpHLkWw+YJbs9NUolsBR4hY2NjNm/ezJEjRyhfvjyA6sl/Bw4cwMDAgHbt2tGrV69CBVCpUiU8PT0xNzdXPUHweby8vNDX1+f333/n+PHjpKSk8PHHH/P9999ja2tLUlIS4eHhlCxZUq2do6MjAH5+fpKoEkIIIYQQQoj3iIGOPtX2t3zr573W9kih6psb6wA6AKSmZwFgYaKLrYXe6w5NvEObT0XQvVERtRlZZUoY4RuWytpj4YVOVBW10OP8r5UwNtB53aF+kAqVytPR0aF169aq11paWgwaNIhBgwa9dACFTRp5eXmRlpaGiYkJixcvJiAggN9//51+/fqxe/duEhISANQ2fs/9Oud4bnFxccTFxamVhYaGFiouIYQQQgghhBBix5lIlh0MpX45M/ZciKJ5VUt+HeTMxpMRrPeMwC88FT0dLaq5mvBjb0ecixmq2l70TmCKhz/+EalUcjZmak9HKjkbAxCTkMHP24I4dTuW6IQMrE316FDXikld7dHW1tIYy5UHCczYHIB3UAqOtvp885kDzapYFLi/dccj+PNIGE/i0mlZ3ZIsRb3/oMg05mwP4uy9eFLTs6hfzowpPRxwsjUAoOHE23xawxLPG7HEJmay9uvSlClhyLydwey9EEVyahblnYyZ1NWeaq7Zv9kjYtP5foM/F+4nkJahUM3VhMnd7CnvZKzxGmMSMpi2KYATN2Mx0tdmYhf7PHWOXo3h9z0hPApNwaGIPt0bFmFgi6L5jpu2thZXHiYQl5T5/8nJbN92syc5NUv1+l5AEnP/Cubqw0RS0rJwKKLPyLZ2dK6fncjqOdebkkUNmN2/JHq6OnnKAA5ciub3PcEEPkmjrrsZpewM1GKJTcxg5tYgjl2PQVGgqqsJ3/dwwMXOkA/V/9ycs/79+9OmTRvq1q0LQK1atXB1daVbt24cPHiQevXqAagt+8tNW8NcTA8PDxYvXvzmghZCCCGEEEII8Z/hG5ZK5VLG7J9WjvQMhYOXo/lpSyC/fFGSai4mBEamMdnDn1nbglg+2lXVbvXRMGb1K4lzMQN+3xPCFwsecmp2BYwNdBi3yo/ohAxWjnHFykSXk7fi+GFTADVKm9KiuqXGONYdj2B2/5I42urzy1/BfLXcl4vzK2NkoP3C/nadjeTnrYH88Lkjtd1N2X4mkuWHwqjjnr3nVXxyJt1meeFa3JC1X5dGUWDWtkB6zvHm0I/lVQmejSefsPorVwz0tCnvaMSXK3zxj0hj0TAXipjrsu9CND3nenNwejlc7AyZuiGAjEyF7d+6oa2txdwdQYxY+oiTszXv2TRymS+R8ems/ao0OjpaTN0QQObTXBInbsYydqUf0z53oI67GQ+Ck5m2IYCk1Cy+7FBcY59DWhZj9HJf6o27Rf1yZtR2M+Wj8mbZyTKz7DpJqZn0/e0hzapYsOs7dxQF/jwSxmQPfxpWMC/QLLuLXvGMWe7L+M4laFndkhM3Y5m9PQg7q+zlqFlZCl/87oOZsQ5rvy6Nkb42Hp4RdJvlzd8zy2Nl+j+X0imQfK+qWbNmL9WhlpYWx44de+mAXsTV1RVXV1e1sipVqmBubo6XlxfNmzcHIDExUa1OzmszM7M8ffbr149OnTqplYWGhhZ6GaMQQgghhBBCCAEwul1x1cyiJ3HpzBlQUrURt30RA9rWtmLPefWN2b/uVEKVdJo7oCT1x99i34VoujcqwscVzalb1gw3++yn3fdpasvyQ2F4BSXnm6ga0644jSqaAzCyjR2Hr8TgE5pCxZLGL+xv3fEIOtS1psfHRQCY1NWec/fjVX3vPhdFbFImC4eWwvL/EyaLh7vQcOJtdp+Pom9TWwCaVbWgjnv273C/sBQOXIrh8I/lVOf9skNxLj9MYNXRcGb2deJxeCplHYxwtDXAQE+bn/o68TA4hawsJc8MqIfByZy7H8+WSW5UL52dQJs3sCQtv7+nqrP0QCi9mxShW8Ps6yhZ1ICElCwmezxmdDs7jbOqWteyopiVHmv+DuefO/F43ogFoIKTEb8OcsbN3oik1CwGNi9Kv2ZFMTLInhAzoo0dW/+JxDcstUCJqvUnIqjrbsbw1nYAuNgZcs0nkRu+SQCcvR/PTb9Eri6sgplRduLvpz5OnL0Xz+ZTTxjRxu6F5/hflG+iKjY2Ns+spJSUFNLT09HS0sLBwQELCwuSkpLw9/cnIyMDGxsbbG1t32jABw4coGjRotSqVUtVpigKaWlpWFlZYWJigq2tLQEBAWrtcl6XKlUqT5/m5uaYm5u/0biFEEIIIYQQQvw3aGmBQ5Gnm7TXcTfDKzCZBXtC8AlNwTc0Ba+gZIpZqm/kXt316RY2pkY6uBQ3xCsoGYBeTWz5+1pMdiIkNAWvwGRCotPJfHY9Xi65l5FZmGQnOlLSsgrUn3dQimoJW45qLibcD0z+/+PJuNgZqpJUANZmupQuYYj3/8cM4GT79Brv+meXd57ppdZvWkYWaenZ5x3Vzo7xq/w4fDWaOm5mfFzJnA51rTUmlLyDUgCoVPLpssAyJYwwNXy6kuqufzK3/JLYePKJqixLUUhJUwiMTFMlE59Vo7QpNUqbkpmlcNsvCc8bsXh4RjDg94ecmFWBIuZ69Gpiy85zkdz1T8YvLEV1fVnPeU+ejb9JZfVcRFUXE1Wi6q5/MplZUG/cLbU6qelZ+ISkFOgc/4vyTVRdvnxZ7bW3tzd9+vShYcOGTJo0SS0hFR8fz7x589i/fz/Tp09/c9ECmzdvJiEhgZ07d6qW8Z06dYqUlBRq1qwJQL169Thx4gRffvklOjrZH8Zjx47h5uaGjc3LP55SCCGEEEIIIYR4EW0t0Nd9mizZdTaSb9b607GeNbXdTOnXzJZTt+LYdU59RpXOM8mYrKzsfrKXgD3kUWgqHepa0ameNVVcTOg978Hz49CQ3FGgQP1paWXXzU1P52l/hvqaH3GYlaWo19N7Wk9PN7t8x2R3DPXUY9P//3qta1rRoLwZJ27GceZuHIv3hbL0QCgHfiiXd5aSVs41qUeac56cv4d8UowOda3yxGpnlXfWU3BUGssOhDKmfXFsLfTQ0daiiosJVVxMqFXGlH7zH3I/MJliFnp0+dkbOys9mlaxoGllc4pa6tNhxn2N45IjI/NprFqA8swg6+eOXUcLSxMddk5xz9OPieGHuzF7gR+eOXv2bOzt7Zk7d26eWVNmZmZMnz6dMmXKMHv27NcaoL+/P9evX1e9Hjp0KPfv32fChAn8+++/bNy4kYkTJ9KyZUuqV68OwMCBA/H19eXLL7/k1KlTzJo1i7179zJy5MjXGpsQQgghhBBCCPEiyw+H8XnjIswZUJLeTWypUdoUv/DUPEmKu/5Jqr9jEjJ4FJqCm70hd/yT+edOPMtGujC+sz3t6lhjZapLeEx6nj4KoiD9lXM04upD9YeR3Xr8NL7SJQx5FJpCTEKGqiwqPoNHoamULqF5o+8y/1/+JC4d52KGqv+t/jucY9diyMhU+HlrIIFP0uhQ15pfvnDm8IxyPInL4KJ33gejlXPMXj545eHTrX8Cn6QSnZCpdk6/8BS183kFpfDrrmCNY2eop822fyLzLMuE7Kc+ammBjZke+y5Gk5iSydZv3BjRxo5mVS2J/v+xyOlWT0eLhOSnsWRlKfhHpD6N38mIqz7q2xbd8ns6xmXsDYlJzG6fE7ujrQG/7QrROB4figInqq5evUrt2rU1bkaeo2rVqty7dy/f4y9j6dKldO/eXfW6YcOGLFu2jMePHzNy5EiWLVtGly5dmDt3rqpO2bJlWbZsGQEBAYwaNYqTJ08ya9YsWrVq9VpjE0IIIYQQQgghXqS4tT6XHyRwLyAJ37AUFuwJ4cClaNIystTqzdoexMlbsdwPTGbsSj9sLfRoW9uKoha66OpkPyEu8EkqVx8mMGyxD2kZCmkZhc9UFaS/wS2LceBSNGv+DudRaAqL94Vw+cHT5EjHutbYmOkyZrkvtx8ncftxEmOW+2JhokO72nlnL0F2sqVtLSumePhz8lYsj8NTmbcziE0nn+Ba3BBdHS3u+CcxZZ0/1x8lEhCRypZTT9DT0aKCk1Ge/koVM6R5VQumbgjgglc8d/2TGPfnY3JPJBvV1o59F6JZdjAU37AUjt+I5bt1/hjqaWOglze/YW2my5BWxZi3M5jf9wRzPzB7Wd+RqzFMXPOYzvWtsbfRp7i1PgkpmRy+EkPQk1SOXY9hyjp/ANLSs9/Xaq4mnL4dx+nbcfiGpTB1YwBxSU8TVwOaF+WGbyLzdgbxKDSFTScj2HcxWnX8o3JmVHMxYfQfvlz0TuBRaArfrvXn2I0Y3OzlqX+Ym5vz4MHzpxVev34da2vrlw5m9OjRjB49Wq1s9uzZeWZpNWnShCZNmjy3r4YNG9KwYcOXjkUIIYQQQgghhHgdfvjckckej+n6szfGBtpULmXMzD5OTFnvT1Bkmqre6HbFmb4pkJCoNGq7mbLmK1f0dbUpZqXP3AEl+X1PCGv+DsfOSi97w29LfW76Jj3nzJoVpL8W1S355YuSLNwXypwdQXxU3ozujYqo9kYy0NNm7delmbk1kB5zvNHR1qJ+OTO2TnLD3Dj/VMOs/k7M/SuYiasfE5+cSenihiwb6cJH5bP3avp9SClmbA5k0AIfElIycbM3YvloF5yLaU7MzB/izE9bAhm6+BE62jD0UzsCnjydtfRxJQt+HeTMH4dCWbAnBGszXTrVs2Zc5xL5xjiucwlKFjVg6z9PWP13OGnpCk62BnT5yJovmhcDoHVNS248KsoPmwJISsmiZFEDRrezY9nBMG76JfFxJQsGtSyGf0QqI5c+Ql9Pi88aFKFd7ac5k8rOJqwc7crcv4L580g4lZyNGdSyKHvOZyertLS0+GOUC7O2BTF0UXYisbyTEWvHlqFMibyJuw+FlqIUbKLg9OnT2bJlC6NHj2bo0KGqvZ8A0tLSmDdvHuvXr2fIkCGMHTv2jQX8tgQGBtKsWTM8PT1xcHB47f27dvR77X0K8bb57HZ+1yEIIYQQQoj3wL179yhXrtxLt0/NTMNAR//FFV+zd3VeIT50r/KdUOAZVWPGjOHChQssWrQIDw8P3N3dMTExISEhgbt375KYmEj16tUZMWLESwUihBBCCCGEEOK/6V0liyRJJcT7p8CJKisrK3bs2MGff/7JgQMHuHjxouqYq6srnTp1ol+/fujp5d01XwghhBBCCCGEEEKIFylwogrA2NiYMWPGMGbMGFJTU4mNjcXCwgIDA4M3FZ8QQgghhBBCCCGE+I8o8FP/nmVgYEDRokXzJKnOnz//ykEJIYQQQgghhBBCiP+eQs2o2rhxI/v37ycqKorMzExy9mFXFIWMjAzi4+NJSUnh3r17byRYIYQQQgghhBBCCPHhKnCiasuWLcyYMQMAQ0NDUlNT0dfP3nguNTX70Y8WFhZ069btDYQphBBCCCGEEEIIIT50BV76t23bNoyMjNi+fTvXr1+natWqtG/fnhs3bnDs2DE+/vhjEhMTadeu3ZuMVwghhBBCCCGEEEJ8oAqcqPL19aVly5ZUqlQJgKpVq6r2o3JwcGDhwoUUKVKEFStWvJlIhRBCCCGEEEIIIcQHrcCJqszMTIoVK6Z6XapUKYKCgkhKSgKyN1dv0qSJ7E8lhBBCCCGEEEIIIV5KgRNVxYoVIyQkRPXayckJRVHw9vZWlRkbGxMREfF6IxRCCCGEEEIIIYQQ/wkF3ky9fv367N27l/Pnz1O3bl3KlSuHjo4Oe/fupWrVqqSnp/Pvv/9iY2PzJuMVQgghhBBCCPGByUpJRdvQ4L0/74RVfvx1Nirf4/Y2+vwzt2Kh4wh8kkqjSXfY+o0btcqYFro9wO97gtlzPpoTsyq8lv40+WbtYx6Hp7J5ottr6/NNKDP4KrP6laRrg5fLT7gMvJrvsSaVzVn1ZWmNx3afi+TrPx/zaFX1lzrv6/YgOJn+vz3E3cGIOQNKMmzxI6Z+7kCVUibvOrTnKnCiaujQoRw5coQBAwbw888/06lTJ9q2bcvmzZu5desWcXFx+Pv7069fvzcZrxBCCCGEEEKID4y2oQGXnd5+8qOmv/eLK+XyfU9HJna1ByA4Ko1OP3mxYrSL6oe/doHXLIn33Q+9HPm0hmWecgM9rbcfzEvadPIJ3RoWwdpMl0+m3MWhiD4VnIzfdVgvVOBEVYkSJdixYwcrV66kZMmSAEyePJmoqChOnz6NtrY2LVq0YPTo0W8sWCGEEEIIIYQQ4l0xN9YBdABITc8CwMJEF1sLvXcYlXgTzI20/+ff1y/bF8fIQBsDPW0+a2CDvq4W2trvf6KtwIkqyH663/Tp01Wvzc3NWbFiBfHx8ejp6WFoaPjaAxRCCCGEEEIIIf5X7DgTybKDodQvZ8aeC1E0r2rJr4Oc2XgygvWeEfiFp6Kno0U1VxN+7O2Ic7Gnv6MveicwxcMf/4hUKjkbM7WnI5Wcs2fAxCRk8PO2IE7djiU6IQNrUz061LViUlf7fJMPVx4kMGNzAN5BKTja6vPNZw40q2JR4P7WHY/gzyNhPIlLp2V1S7IU9f6DItOYsz2Is/fiSU3Pon45M6b0cMDJNns5ZcOJt/m0hiWeN2KJTcxk7delKVPCkHk7g9l7IYrk1CzKOxkzqas91VyzZ6VFxKbz/QZ/LtxPIC1DoZqrCZO72VM+n5lAMQkZTNsUwImbsRjpazOxi73a8awshaUHQvnrbBTBkWkY6mtTv5wZP/V1xMbs1RJRZ+/FM3t7IA+CUyjvaEzjyuZqxxtOvE33hjaMalc837KTt2JZsCcEr6BkbMz06NPUliGtsh9kdy8gibl/BXP1YSIpaVk4FNFnZFs7OtfPXtKoKAqr/w5nw4knhMWkUaqYIV93KqF6j8/dj+ePQ2F4ByWjpQUVnIz5rsfTpX/RCRnM2xnM8RuxxCZlUM3FlMnd7KlQ8t3OuirUxMSkpCTWrl3Lv//+q1b+1VdfsWnTJjIyMl5rcEIIIYQQQgghxP8a37BUElIy2T+tHCPa2HHwcjQ/bQlkVDs7PGeW588vXQmKTGPWtiC1dquPhjG+cwn2Ti2LrYUeXyx4SFJqJgDjVvnxMCSZlWNc8ZxZgZFt7fjzaDjHrsfmG8e64xGM72zPoR/LUaaEEV8t9yU5NatA/e06G8nPWwMZ0dqO/dPKYWelz74L0aq+45Mz6TbLi5jEDNZ+XZpNE92IT86k5xxv4pIyVfU2nnzCz/2c+PNLV8o7GjF+lR8XvRNYNMyF3d+XpV5ZM3rO9eZRaAoAUzcEkJGpsP1bN/ZNK4upoTYjlj7K9xpHLvPFKzCZtV+VZsVoV9YdjyAz6+nxVUfDWXssgh8+d+D4z+VZMNSZyw8TWLI/tIDvpmZ+YSl88ftDapY25cAP5fi8cRH+OBhWqD6uPkxg0AIfGlYwZ/+0cnzXw4GFe0PYcuoJSamZ9P3tIcUs9dj1nTsHp5ejtpspkz38iYhNB2D5oTDm7w5hZBs7Dk0vT9vaVoxY8oh7AUnc8E1k9B++dPnIhr9/Ks/miW4oCkz28AcgM0uh768PuOmbyKJhpdg5pSzWZjr0nOtN4JPUVxqbV1XgRFVUVBQ9evRgzpw5nD9/XlWenJzM1atX+eWXX+jduzcJCQlvJFAhhBBCCCGEEOJ/xeh2xXGyNcC1uCE2ZrrMGVCStrWtsS9iQB13M9rWtsIrKFmtzdedStCiuiVu9kbMHVCS1LQsVXLo44rmzO5fksrOJjjaGtCnqS3FrfTz9JHbmHbFaVTRnFLFDBnZxo7E1Cx8/j8h9KL+1h2PoENda3p8XAQXO0MmdbWncqmnM212n4siNimThUNLUbGkMZWcjVk83IWYxEx2n3+64XyzqhbUcTejqosJ/hGpHLgUwy9flKS2mykudoZ82aE4tdxMWXU0HIDH4amYG+niaGuAi50hP/V1Ynb/kmQ9O50LeBiczLn78fzY24nqpU2pUsqEeQNLqtVxsTPgl4El+biSBfZFDGhcyYKPK5rjFZjy3Pfvm7X+VBxxPc//Tt3KTuRtOR1JcWt9vuvhgIudIV0+sqFP0yLP7fNZaz0jqOVmytedSuBiZ0jL6pb82NsRIwNtklKzGNi8KNN6OuJiZ4hrcUNGtLEjLUPBNywVRVFYeyyCgS2K0rWBDSWLGjC8tR0j29qRlJqFno4WP/Z2pG9TWxyKGFCllAndGxXBKzD7/T19O447/sksGFqKmmVMKetgxK+DnDEz1mH98YhCXcfrVuClf4sXL8bb25uvv/6a3r17q8qNjIy4ePEiHh4ezJs3jwULFjBlypQ3EqwQQgghhBBCCPG+09IChyL6qtd13M3wCkxmwZ4QfEJT8A1NwSsomWKW+mrtqrs+fRqbqZEOLsUNVYmjXk1s+ftaDFv/icxuH5hMSHQ6mRoSODlK2T19oqGFSfbeWilpWQXqzzsoRbXELEc1FxPu/3+iwzsoGRc7QyxNn6YVrM10KV3CEO9cyTMn26fXeNc/u7zzTC+1ftMyskhLzz7vqHZ2jF/lx+Gr0dRxM+PjSuZ0qGutcXmjd1B2sqlSrqVqZUoYYWr4dE5Os6qWXH2YwLydQTwKTeVRSAoPQ1Ko5fb8pyGO71yCT6pa5CnPec+8g5Kp4GSkFldVl8I9Tc87MDnPcsHcY96riS07z0Vy1z8Zv7AU1fhlZSlEJ2QSHpue55xj2j9dZmhurMPSA6E8DE7BLzy7fc7t4h2UjJWpDi52T5ee6utqU7WUiWpc35UCJ6pOnTpFs2bNGDJkSJ5jenp6DBo0iEuXLnHkyBFJVAkhhBBCCCGE+M/S1sr+0Z9j19lIvlnrT8d61tR2M6VfM1tO3Ypj17kotXY6zyRjsrKy+8nKUvji94c8Ck2lQ10rOtWzpoqLCb3nPXh+HBqSOwoUqD8trey6uenpPO3PUF/zAq2sLEW9nt7Tenq62eU7Jrtj+MzT8/T/v17rmlY0KG/GiZtxnLkbx+J9oSw9EMqBH8rl3dxcK+ea1CPNOQ/A4n0h/HEojK4f2fBxJXNGtLFj7bFwgiLTNMafo4i5rtr+Yc/S0gLlmQHS033xorXciUVdnfw3Ng+LTqPLz97YWenRtIoFTSubU9RSnw4z7r+wLWTvn/XF7w9pXs2CGqVN+ayhDb6hKXy3PgDI//3LVJQX9v2mFThRFRkZiZOT03PruLi45Nm/SgghhBBCCCGE+C9bfjiMzxsXYdrnjqoyD8+IPImOu/5JuNkbAdmbhD8KTaH/J7bc8U/mnzvx7J1alor/P3soPjmT8Jj0PH0UREH6K+doxNWHCfRtaqtqd+txkurv0iUM2XzqCTEJGapZVVHxGTwKTaXHx5qXwJUpkZ34eRKXToPyT2cSTd3gT+nihnze2Ja5O4LoWM+aDnWz//ckLp3aY29x0TuBNrWs1Por55g9VlceJtKwQnZ/gU9SiU54ukfW8kNhfNWhOINaFlOV+YWlvnIypryjMbvPR5GR+TSxc8svUa2Onq4WCSlPY4lPzuRJXLrqtWsJQ275Jam1+XVnMN5BydRyMyUxJZOt31RQJTBP344DshOI5sY6FLXQ45ZfEk0qP5351esXbz4qb85VnwQaVjBn0TAX1bF/7vx/e0WhdHFDohMyeRSaoppVlZaRxS3fJNrXtX6lsXlVBd6jqnjx4ly5cuW5dW7evImdnd0rByWEEEIIIYQQQnwoilvrc/lBAvcCkvANS2HBnhAOXIomLSNLrd6s7UGcvBXL/cBkxq70w9ZCj7a1rShqoYuuDhy4FE3gk1SuPkxg2GIf0jIU0jIKn6kqSH+DWxbjwKVo1vwdzqPQFBbvC+Hyg6d7Unesa42NmS5jlvty+3EStx8nMWa5LxYmOrSrbaXxvM7FDGlby4opHv6cvBXL4/BU5u0MYtPJJ7gWN0RXR4s7/klMWefP9UeJBESksuXUE/R0tKjgZJSnv1LFDGle1YKpGwK44BXPXf8kxv35mNwTyYpb6/PPnTh8QlLwDkpm2sYArvok5hn7Z8UlZxERm57nfzmJpp6NixCbmMGUdf74hKRw4FI0HsfU93aq7mrCvgvRXH2YgHdQMhNW+6nNmhvcshgXvBJYvC8Ev7AUDl2OZs2xcJpVtaC4tT4JKZkcvhJD0JNUjl2PYcq67I3Q09KzYx/yaTFWHQ1n34UoHoensuRAKFceJtKksjnFrfS5G5DENZ/scfTwDGfN39n7gKVlKNQvZ0Z1VxO+WuHL5QcJeAUmM2H1Y+KSMumZT6LxbSnwjKpPP/2UZcuWMWfOHMaOHYu+/tN1phkZGSxZsoSrV68ycODANxKoEEIIIYQQQgjxv+iHzx2Z7PGYrj97Y2ygTeVSxszs48SU9f5qS9BGtyvO9E2BhESlUdvNlDVfuaKvq00xK33mDijJ73tCWPN3OHZWerSuZUUxS31u+iY958yaFaS/FtUt+eWLkizcF8qcHUF8VN6M7o2K4BOSvX+RgZ42a78uzcytgfSY442Othb1y5mxdZIb5sb5pxpm9Xdi7l/BTFz9mPjkTEoXN2TZSBc++v8ZVr8PKcWMzYEMWuBDQkombvZGLB/tku8yvPlDnPlpSyBDFz9CRxuGfmpHQK6n1s0bVJJpGwJoO/0eFsa61HY3ZWKXEiw9EEpyahZGBprn7/ywMYAfNgbkKTc20Ob20qqUsNZn/fgy/LQlkLbT71GqmCHDWhdjzo5gVd3xnUswZZ0/vX99gLmRLoNaFiUh+WmCrGJJY5aNdGH+7hAW7w/FzkqP8Z1L0K1hERRF4cajovywKYCklCxKFjVgdDs7lh0M46ZfEh9XsqB/M1tS0rL4coWfqr+Vo10p52jM2I4lCI9Jp9/8B+hoaVHO0Yh5A50Z/YcvN3yTqO1myrKRLszcGsjABT5kZinUKG3C1m/ccLI1ePay3yotRSnYRMGUlBR69OjB/fv3MTMzo2zZspiampKYmMj9+/eJi4vD3d2dTZs2YWJSuA3E3keBgYE0a9YMT09PHBwcXnv/rh39XnufQrxtPrud33UIQgghhBDiPXDv3j3KlSv30u2zUlLRNnz7P47f1XmFeJ0W7QvB80Yss/o5Uc7R+MUN3oJX+U4o8NI/Q0NDtmzZwvDhw7G2tubSpUucOHGCixcvYmJiwtChQ9m8efMHkaQSQgghhBBCCPH2vKtkkSSpxP+65NQsunxkg4WxDquOhr/rcF6LAi/9g+xk1ZdffsmXX35JSkoKsbGxmJiYYGr6/Mc6CiGEEEIIIYQQQojXa9uZJ8zaFoSTrQFfdyrxrsN5LQqVqMrN0NAQQ8P8H9UohBBCCCGEEEIIId6cfs2K0q9Z0XcdxmuVb6KqU6dO9OjRg+7du6teF4SWlhY7d+58PdEJIYQQQgghhBBCiP+MfBNV9+7dIyIiQu11QWhpab24Uj48PT0ZP348165de269q1evMn/+fO7du4ehoSH169dn4sSJFCny9BGK7dq1w9vbW62dpaUlFy5ceOn4hBBCCCGEEEIIIcSbk2+i6v79+899/bpdvXqVCRMmvLCej48P/fv3p379+vz666/ExcWxYMECBg4cyI4dO9DT0yMtLY1Hjx4xbtw4ateurWqrq/vSKx2FEEIIIYQQQgghxBv2zjM3aWlpeHh4sGDBAoyNjUlPT39u/Q0bNmBra8uiRYvQ09MDoGTJknz22WecPXuWjz/+GB8fHzIyMmjWrBmurq5v4zKEEEIIIYQQQgghxCsq8IyqwihbtmyB654+fZoVK1YwceJEYmJiWLNmzXPrly5dmtKlS6uSVAAuLi4ABAYGAuDl5YWhoSHOzs6FD14IIYQQQgghhBBCvBP5Jqo6duz40vtNFXQ/K4BKlSrh6emJubk5ixYtemH9Xr165Sk7fvw48DRh5eXlhYWFBWPHjuXMmTNoaWnRqlUrvv32W0xNTQscmxBCCCGEEEIIIYR4e95IoqowihUr9krtQ0JCmDt3LhUrVqRu3bpAdqLqyZMnuLu707dvX+7du8fChQsJDAzEw8MjTx9xcXHExcWplYWGhr5SXEIIIYQQQgghPlxZWQqbTz9h579R+ISmkJqeRcmiBrSrY82gFkUx0NN+5XNkZCp4eIYzsMWr/W7OLSYhg6PXYujWsMiLKwvxDuSbqJo9e/bbjOOlhISE0L9/f7Kyspg/f74qsTZ+/HjS0tKoWrUqADVr1sTGxoaxY8dy+fJlatasqdaPh4cHixcvftvhCyGEEEIIIYQAMtKy0NV/9cTO2zpvRqbCoIU+3HmcxOh2dnxU3hwDPS2uPEzkt13BnLsXz/pxpV958sf+S9HM3Br0WhNVc3YE4ReeKokq8d56qc3Uw8PDuX//PgkJCVhZWVGhQgXMzc1fd2zP5e3tzeDBg8nIyGD16tU4OTmpjpUvXz5P/YYNGwLZe289m6jq168fnTp1UisLDQ3VuMxQCCGEEEIIIcTrpauvzS/NLr/1807wrPniShqsPBLG+fvx7Pm+LO4ORqpyhyIGVHUxofl3dzhxM46mVSxeLUBFebX2mrp87T0K8XoVKlHl5eXFzJkzuXTpklq5jo4On3zyCd988w12dnavNUBNbty4waBBgzAzM8PDw0Nt0/SMjAz27t1L2bJl1RJWKSkpAFhZWeXpz9zc/K0n2oQQQgghhBBC/O9RFIUNxyPoVM9aLUmVo2RRA47OKE/JogYAXPROYO6OIO74J1HUQo82ta34sn1x1dLAHWciWX44lICINIqY69HlI2u+bF+ci94JfP3nYwBcBl5l7oCSdG1gw8aTEaz3jMAvPBU9HS2quZrwY29HnIsZEvgklUaT7rBkeCmWHgjlQXAK9jb6TOpqT4vqlvy+J5ht/0Sq+jw9pwIORQzYcuoJK4+EERyVRsmiBgxuWYwuH9kAkJmlMGd7EPsuRhOdkEEpOwNGty1O61p5f1sL8ToUOFH18OFD+vTpQ1xcHDVq1KBy5coUKVKEuLg4rl27xuHDh7lx4wZbt26laNGibyzggIAABg8eTJEiRVi7dm2ePa50dXVZtGgRZcuWZdmyZaryo0ePoqenp1oOKIQQQgghhBBCFFbAkzRCotOpV84s3zrOxQwBuOufRP/5DxjboQTzBpYkOCqdHzcFEBGbzi9fOHMvIInv1vvz+xBnKjmbcPtxEmNX+lKyqAFta1vxQy9HftgYwIXfKmFmpMPBy9H8tCWQX74oSTUXEwIj05js4c+sbUEsH+2qOv/s7UH82NuRkkUN+HVXMONX+3G+QiUGtyyGX1gqgU/SWDbSBWszXTaciGDBnhCm93akgpMx13wSmLYxEIAuH9mw4UQER6/FsHSEC7YWuuw6F8WXK3yp5GyMo63Bmx1s8Z9U4ETV/PnzSUxMZNGiRTRv3jzP8cOHD/P111+zcOFCfvrpp9cWoL+/P1FRUaoE088//0xCQgJTp04lJCSEkJAQVd0SJUpQtGhRhg0bxtSpU/npp59o2rQpt27dYsmSJfTp0wd7e/vXFpsQQgghhBBCiP+WJ7HpAFiZqv+cbj3tHv4RqarXHepak5SaSZNKFgxulT3BwrmYIT/1daLbbG8mdLbHPyINAHsbA+xt9LG30Wf9uDLYWemjr6uNuVH2rCtbCz0AbMx0mTOgJG1rW2e3K5Kd0NpzPkotlsGtivFxpexlhyPa2HHgUgwPglOoUsoEQ31t9HS1VH0uPRDK6PbFaV0ze4ZUyaIGBEWmsfRAKF0+suFxWCqG+to4FNHH1kKPUW3tqFLKBAuTl9pJSIgXKvCddfnyZVq0aKExSQXQqlUrDhw4wMmTJ19XbAAsXbqUXbt24eXlRXp6OqdPnyYzM5Nx48blqTtx4kQGDhxI9+7d0dPTY82aNWzbto0iRYowYsQIhgwZ8lpjE0IIIYQQQgjx32L5/wmq2MQMtfKVY1xJz8gCYMLqx6SlZ3HXPxm/sFQqjriuqpez7dTDkBQ+rmhOVRcTOsy4T8miBjSqaE7rmpbY2+hrPHcddzO8ApNZsCcEn9AUfENT8ApKppilev1SxZ7OdDIz0gEgPSPv7lSR8emERqcza1sgc3cEqcozMhUysxTSMrLo3dSWI1djqDfuFpWcjWlU0ZwOda0xN9Yp4IgJUTgFTlRlZWW9cP8pOzs7kpOTXzqY0aNHM3r0aLWy2bNnq55AqKenx507dwrUV+fOnencufNLxyKEEEIIIYQQQjyrZFEDipjrculBompmE6CWXMrZf0pPR4vO9a0Z+mnep/YVtdTDUF+bLZPcuOmXyKlbcZy+Hcf64xF82b44X3YonqfNrrORfLPWn471rKntZkq/ZracuhXHrnPqM6r09fI+yVDTJup6Ov/X3p3HVVXt/x9/HwEHJudZFEUBzXkotTQGNc0cMKck0cKhzMwGta5mOVt5TcUhyTJMq2uWQ121BGdNvY6ZA5YToIITgszT+f3hj/P1BOpRwUPwej4ePuqsvfban33g+Oi8W2vtW/0+HOCiJzwccxy3LWZQnSoltXVmQ+0+Ea8dx27qp32xWrQ+WktH19WTDdjrGXnP4udwenl5af369YqLi8v1eEJCgrZu3Wp6uh4AAAAAAIWNTTGDAnwqatXOa/rrYs6JGmkZWbp+89Zsq3rVS+qvSylyrVzS9Of6zQzNWHlBiSlZ2nEsXkE/XVJjVwe93q2qvn/PQ/5eFfTf/8XeGsxgMBt78cYYDfCqoI9eqqUXvSuqRV1Hnbucel8PB7x9RGd7G1Upa6eoq2lmNe46cVOf/3JZxYoZ9PXmK9p4IFZPNyqtCf1rKHRqA9WpXFIbD9y4z3cOsIzFQdV7772n8uXLq1evXvrhhx8UERGh1NRUxcXFaefOnQoMDFRcXJx69eqlkydPmv0BAAAAAKCweOXZKnqygZP6zDilJb/E6NSFZEVcSdXaPdfVY8pJnb6Uopb1HDW8SxUdOZuoqd9F6fSlFO0Nv6m3vziv+ORMVSxtp+K2Bs1bd0lfhV5W5JVUHfwrQXvCb6pJHXtJkmPJW1/Zfz+XqMSUTFUtV1z7/0zQicgknY1J0dy1l/Tf/8Uq7f8vObSEQ0kbRcemK/JKqjIyjXrtuSr6YlOMvt12Vecv37qHaf+JUsXStxZgxSZkaNI3UQo7EqcLV1O16XCcIq+mqWkdh7x/YwHdx9K/tm3bymAwyGg0asKECTmOG/9/hDt8+PAcx06cOPEQJQIAAAAAUHDY2hi0eGQdrfntulbtuqZF66OVmJKlauWLq/1jzlo4oo5q//8n/30xqq5mr7mo5VuuyMneRr5NSuu9Prce8vWEh5M+eqmWgjfE6KNVF+RYykadmpUxHW/t4aQnPBzVZ/opjXm+mj4c4KJ/hZxX7+mnZF+imBrXtte0gTU1/usIXbiWZlHtvZ8qr02HbqjjhOP6z7vu8veqqLR0o4I3xmjSN5GqXMZOI5+rqlefvbVccUTXKkpOy9LE5RG6Fp+hquWKa3SPqnr+yfL58M4CksFotGyS4LvvvivD36YdWmrGjBkPdJ41RUVFydfXV2FhYapRo0aej+/W81yejwk8aqfXuFq7BAAAABQAJ06cUP369R/4/Iy0LNkWt3jBT56x1nWBwu5h/k6weEZV9obmAAAAAADkJWuFRYRUQMGT55/Kh3nqHwAAAAAAAIoui2dUSdLJkye1YcMGXb9+XZmZmbp91WB6erpu3LihAwcO6NChQ3leKAAAAAAAAAo3i4OqvXv3KjAw0BRQZW+sni17/ypPT8+8rxIAAAAAAACFnsVL/xYvXqzMzEy9/fbbWrlypWrVqqVu3bpp5cqVmj59uqpWraqyZcvq888/z896AQAAAAAAUEhZHFT98ccfevrppzVkyBA1btxYTzzxhP766y81btxYvXr10vLly5WSkqKFCxfmZ70AAAAAgALIwgfKAyjkHvbvAouDqqSkJNWrV8/0um7duvrrr7+UkZEhSapWrZp8fX21b9++hyoIAAAAAPDPYmdnx4O1AEi69ZA9Ozu7Bz7f4qCqTJkySkxMNL2uWbOmMjIydObMGVNb1apVdfHixQcuBgAAAADwz1OpUiVduHBBSUlJzKwCiiij0aikpCRduHBBlSpVeuBxLN5MvWnTpgoNDdXIkSNVrlw51atXT0ajUbt375a7u7ukW08FtLe3f+BiAAAAAAD/PM7OzpKkixcvKj093crVALAWOzs7Va5c2fR3woOwOKh66aWXFBAQoK5du+qjjz5S+/bt1apVK82ZM0dXr17V1atXtWPHDnXs2PGBiwEAAAAA/DM5Ozs/1JdTAJDuY+lfixYtNHfuXJUpU0ZpaWmSpAkTJsjBwUFLlizRmjVrVK1aNY0ZMybfigUAAAAAAEDhZfGMKknq0KGDOnToYFpz7OHhoV9//VV79uxRiRIl1KJFC5UqVSpfCgUAAAAAAEDhdl9BVTaDwWD6dwcHB/n6+uZZQQAAAAAAACiaLF76BwAAAAAAAOQngioAAAAAAAAUCARVAAAAAAAAKBAIqgAAAAAAAFAgEFQBAAAAAACgQLjvp/4lJibKwcHB9HrHjh3av3+/atSooW7duqlkyZJ5WiAAAAAAAACKBouDqvT0dH344Ydau3at9uzZI0dHRy1fvlzTpk2T0WiUwWDQsmXLtHz5cpUuXTo/awYAAAAAAEAhZPHSv6VLl+qHH35QvXr1lJqaqvT0dAUFBcne3l4fffSRRo4cqb/++kufffZZftYLAAAAAACAQsriGVU//fSTGjRooO+//142NjbasWOH4uLi9OKLL6pHjx6SpGPHjmnTpk0aN25cvhUMAAAAAACAwsniGVURERFq27atbGxsJEnbt2+XwWCQl5eXqU/dunV1+fLlPC8SAAAAAAAAhZ/FQZWDg4NSUlJMr7dv367ixYurZcuWpraYmBiVK1fugYsJCwtTs2bN7tnv1KlTGjRokJo1ayYvLy8FBwfLaDSa9dm/f7/69OmjJk2aqFOnTlq1atUD1wUAAAAAAID8Z3FQVa9ePW3atEkXL17U+vXrdf78ebVp08b0lL/ff/9dGzdu1GOPPfZAhRw8eFBjxoy5Z79r167ppZdeksFg0Jw5c9S3b1/NmTNHX375panP6dOnNWTIENWoUUNBQUHy8vLS+PHjtXHjxgeqDQAAAAAAAPnP4j2qhg4dqldffVW+vr6SpGLFimnIkCGSpLlz52rx4sUqXry4Xn311fsqIC0tTSEhIZo7d67s7e2Vnp5+1/4rVqxQRkaGFi1apFKlSunpp59WWlqagoODFRAQIDs7OwUHB6t69eqaPXu2DAaD2rdvr9jYWC1YsECdO3e+r/oAAAAAAADwaFg8o+qpp57S0qVL1bFjR3Xo0EGfffaZadlf2bJl9dRTT+nrr79Ww4YN76uA7du3Kzg4WGPHjtWLL754z/67d+9WmzZtVKpUKVNbhw4ddOPGDR09etTUx8vLSwaDwazPqVOnFBMTc1/1AQAAAAAA4NGweEaVJLVs2dJsT6psAQEBCggIeKACGjVqpLCwMDk7OysoKOie/c+dO6cnnnjCrM3FxcV0zNPTU5cvX1atWrXu2Kdy5coPVCsAAAAAAADyz30FVZKUkZGhXbt26eTJk7px44bGjRun8PBwOTg4qEaNGvddwP2GRgkJCXJwcDBry36dkJCghIQEs7bc+vxdfHy84uPjzdqio6Pvqy4AAAAAAAA8nPsKqvbu3atx48YpJiZGRqNRBoNB48aN04YNG/T555/rrbfeUmBgYH7Vek/FihUzPf3v9mV/f+/zdyEhIZo/f36+1gYAAAAAAIC7szioOnHihIYNG6aSJUtq+PDhOnPmjDZt2iRJatq0qSpUqKBZs2apdu3a8vHxybeCHR0dlZiYaNaW/drR0VGOjo5mbX/v4+TklGPMQYMGyc/Pz6wtOjpa/v7+eVY3AAAAAAAA7s7izdTnzZunEiVK6Mcff9To0aPl7u5uOubl5aXvv/9epUuX1tKlS/Ol0Gyurq6Kiooya4uMjJQk1alTRw4ODqpYsaKp7e99ateunWNMZ2dn1ahRw+xPlSpV8ukOAAAAAAAAkBuLg6oDBw6oc+fOql69eq7HK1WqpC5duujPP//Ms+Jy07p1a+3evVtJSUmmttDQUJUpU0aenp6SpDZt2mjLli3KzMw06+Pu7q7y5cvna30AAAAAAAB4MBYHVampqbK3t79rHxsbG6Wmpj50UbeLiIjQ4cOHTa8HDBig9PR0DRs2TFu2bNGiRYsUHBysYcOGqXjx4pKkwMBAnT17Vm+88Ya2bdumGTNmaN26dXrttdfytDYAAAAAAADkHYuDKjc3N+3atUtZWVm5Hk9PT9fOnTtzXVr3MBYuXKh+/fqZXleqVElLly5VRkaGRo0apZUrV2r06NFmm7h7enpq0aJFioyM1MiRI7V161bNmDFDnTt3ztPaAAAAAAAAkHcMxuzH5N3Dt99+q0mTJql79+567733tGLFCi1YsEAnTpzQtWvXNHnyZP36668aP368XnzxxfyuO99FRUXJ19dXYWFhqlGjRp6P79bzXJ6PCTxqp9e4WrsEAAAAAEAhYvFT/1544QUdOnRI69at008//aQSJUpIknx8fBQdHa2srCx16NCBJ+UBAAAAAADggVgcVEnSxx9/LG9vb61atUrHjx9XRkaGEhIS1KJFC/n5+alXr175VScAAAAAAAAKufsKqiSpS5cu6tKlS37UAgAAAAAAgCLsvoOqv/vrr7906NAhVatWTU8++WRe1AQAAAAAAIAi6L6CqoULF+qbb75RaGioSpYsqQ0bNuidd94xPQnw8ccfV3BwsGn/KgAAAAAAAMBSxSzt+O2332revHkyGAyKi4uT0WjUzJkzZWNjo9dff11+fn7au3evPv/88/ysFwAAAAAAAIWUxTOqfvjhB9WqVUs//vijHBwctH//fsXExKhXr14aMWKEJOnixYv673//q5EjR+ZbwQAAAAAAACicLJ5Rdfr0afn4+MjBwUGStG3bNhkMBvn4+Jj6NGzYUBcvXsz7KgEAAAAAAFDoWRxU2dnZyWg0ml5v375dNjY2at26taktLi5OTk5OeVshAAAAAAAAigSLgyo3Nzdt3bpVycnJOnz4sMLDw9WiRQs5OjpKkiIjI7Vx40a5u7vnW7EAAAAAAAAovCwOqvz9/XXu3Dk9+eST8vf3l8Fg0MCBAyVJX331lXr27KnExEQNHTo034oFAAAAAABA4WXxZurPPfecDAaDvvjiC0lSv3791KFDB0lSSkqKqlatqrfeektt2rTJn0oBAAAAAABQqBmMt2889YDS09NlZ2eXF/UUGFFRUfL19VVYWJhq1KiR5+O79TyX52MCj9rpNa7WLgEAAAAAUIhYPKMqm9Fo1P79+3Xy5EklJyerbNmyqlu3rpo1a5Yf9QEAAAAAAKCIuK+g6vfff9fYsWN1/vx5STI9BdBgMKhWrVr65JNP1KhRo7yvEgAAAAAAAIWexUHVuXPn9PLLLysxMVGdOnVSixYtVKlSJcXHx2vfvn3auHGjhgwZolWrVsnFxSU/awYAAAAAAEAhZHFQNX/+fCUnJ2vx4sVq37692bG+ffuqe/fueuWVV7R48WJNnTo1zwsFAAAAAABA4VbM0o6//fabvL29c4RU2dq3by8fHx/t3Lkzz4oDAAAAAABA0WFxUBUXF3fPJX0uLi66fv36QxcFAAAAAACAosfioKpq1ao6dOjQXfscOnRIlSpVeuiiAAAAAAAAUPRYHFR17NhRR44cUVBQUI5j6enpmj17to4cOaJOnTrlaYEAAAAAAAAoGizeTH3EiBHavHmzFi5cqDVr1qhFixZycnJSTEyMjh49qpiYGNWuXVuvvvpqftYLAAAAAACAQsrioMrR0VHfffedPv74Y61fv17r1q0zHStRooR69eqlMWPGyMnJKV8KBQAAAAAAQOFmcVAlSWXKlNH06dM1adIknT17VgkJCXJwcFDt2rVVvHjx/KoRAAAAAAAARcB9BVXZ7Ozs5O7unte1AAAAAAAAoAi7Y1D13nvvPdCABoNB06dPf+CCAAAAAAAAUDTdMahavXp1jjaDwSBJMhqNuR4zGo0EVQAAAAAAAHggdwyq1qxZY/b6xo0beuedd1SmTBmNGDFCzZs3V+nSpZWUlKSjR49q/vz5unnzphYuXHjfRaxcuVJLlixRdHS06tevr3fffVfNmjXLta+Pj48uXLiQ67HXX39dI0eOlCR169ZNp06dMjtepkwZ7d27977rAwAAAAAAQP67Y1Dl6elp9vpf//qXbG1t9fXXX6ts2bKm9lKlSsnLy0stW7ZUz549NW/ePM2dO9fiAlavXq0PPvhAr732mho1aqSvv/5agYGBWrt2rVxcXHL0nz9/vtLS0szali5dqu3bt+vZZ5+VJKWlpenMmTN6++239fjjj//fzdo+0JZcAAAAAAAAeAQsTm5CQ0PVrVs3s5Dqdo6OjvL29taPP/5o8cWNRqOCgoLUt29f00yotm3bqnPnzgoJCdGECRNynNOgQQOz10ePHlVoaKgmT56sOnXqSJJOnz6tjIwM+fr6ys3NzeJ6AAAAAAAAYD3FLO1oMBgUHx9/1z4xMTEqUaKExRc/f/68Lly4IB8fH1ObnZ2dvLy8tGPHDovGmDZtmho1aqRevXqZ2sLDw1WyZEm5urpaXAsAAAAAAACsy+Kgqnnz5tq4caP27duX6/Fff/1VoaGhevLJJy2++Llz5yRJtWrVMmt3cXFRRESEMjMz73p+aGioDh06pHHjxpk2epduBVWlS5fWm2++qebNm6tFixYaP368EhISLK4NAAAAAAAAj5bFS/9Gjx6tvXv36uWXX1a7du302GOPydHRUTdv3tTBgwe1Z88elS9fXm+++abFF88OjhwcHMzaHRwclJWVpeTkZDk6Ot7x/JCQELVo0SLHxuvh4eG6evWqPDw8FBAQoBMnTmjevHmKiopSSEhIjnHi4+NzzBaLjo62+D4AAAAAAADw8CwOqjw8PLRixQpNmzZNW7Zs0ZYtW0zHDAaD2rVrp/fff1/VqlWz+OJGo9F0fm7u1C5JZ86c0b59+3LduP2dd95RWlqamjZtKklq2bKlKUTbv3+/WrZsadY/JCRE8+fPt7huAAAAAAAA5L37egxe/fr1tXz5csXExCg8PFzx8fFydnZWgwYNVKFChfu+uJOTkyQpMTHR7PzExETZ2NjkmGl1u7CwMNnb28vb2zvHsb9vuC5J7dq1kySdPHkyR1A1aNAg+fn5mbVFR0fL39/f8psBAAAAAADAQ7mvoCpb5cqVVbly5Ye+ePbeVJGRkWb7VEVGRt5zI/QdO3aoffv2OTZvz8jI0Lp16+Tp6WkWWKWkpEhSrk8tdHZ2lrOz84PeBgAAAAAAAPKAxZup5wdXV1dVrVpVoaGhprb09HRt3bpVbdq0ueN5RqNRf/zxh2lp3+1sbW0VFBSkoKAgs/Zff/1VdnZ2uZ4DAAAAAAAA63ugGVV5xWAwaOjQoZoyZYpKly6t5s2ba/ny5YqNjdXgwYMlSREREbp+/bpZwHThwgUlJiaqdu3auY77yiuvaOLEiZo6dap8fHx09OhRLViwQAMHDlT16tUfwZ0BAAAAAADgflk1qJIkf39/paamatmyZfrqq69Uv359ffHFF3JxcZEkLVy4UKtXr1Z4eLjpnOvXr0v6vz2u/q5fv36ys7PT0qVLtXLlSlWoUEEjRozQsGHD8v+GAAAAAAAA8EAMxuxH78FMVFSUfH19FRYWpho1auT5+G49z+X5mMCjdnqNq7VLAAAAAAAUIlbdowoAAAAAAADIdt9L/2JjY7VhwwadPHlScXFxmjt3rg4cOKCsrCy1atUqP2oEAAAAAABAEXBfQdVPP/2kiRMnKiUlRUajUQaDQZK0detWLVmyRC+88IImTpyYL4UCAAAAAACgcLN46d/evXs1btw4VapUSZMnT1bv3r1Nxzp06CAPDw99++23WrNmTX7UCQAAAAAAgELO4qBq0aJFKleunFauXKk+ffqoSpUqpmNNmjTR8uXLVaVKFX3zzTf5UigAAAAAAAAKN4uDqqNHj6pz584qXbp0rscdHR3VoUMHnT17Ns+KAwAAAAAAQNFhcVCVlZV1zz5paWnKyMh4qIIAAAAAAABQNFkcVHl4eGjr1q1KS0vL9XhCQoK2bdsmT0/PPCsOAAAAAAAARYfFQdWgQYMUFRWlYcOG6dixY6bAKisrS0ePHtWwYcMUExOjAQMG5FuxAAAAAAAAKLxsLe3YpUsXnTp1Sp999pnZE/8aN26szMxMGY1GDRw4UN26dcuXQgEAAAAAAFC4WRxUSdIbb7whb29vrVq1SsePH9fNmzdlb28vDw8P+fn56YknnsivOgEAAAAAAFDI3VdQJd2aQdW4ceP8qAUAAAAAAABFmMV7VAEAAAAAAAD56Y4zqnx9fR9oQIPBoNDQ0AcuCAAAAAAAAEXTHYOquLg4GQwGs7aUlBSlp6fLYDCoRo0aKl26tJKSkhQREaGMjAyVL19eFStWzPeiAQAAAAAAUPjcMajav3+/2etTp05p4MCBateuncaNG2cWSN28eVOzZs3Szz//rEmTJuVftQAAAAAAACi0LN6jaubMmapevbo+/vjjHLOmnJycNGnSJNWrV08zZ87M8yIBAAAAAABQ+FkcVB08eFCPP/64ihW78ylNmzbViRMn8qQwAAAAAAAAFC0WB1XOzs76888/79rn8OHDKleu3EMXBQAAAAAAgKLH4qDK19dXu3fv1sKFC5WZmWl2LC0tTdOnT9eRI0fUrVu3PC8SAAAAAAAAhd8dN1P/u1GjRmnv3r0KCgpSSEiIPDw85ODgoISEBB0/flyJiYlq3ry5RowYkZ/1AgAAAAAAoJCyOKgqW7asVq1apSVLlui///2v9u3bZzrm5uYmPz8/DRo0SHZ2dvlSKAAAAAAAAAo3i4MqSbK3t9eoUaM0atQopaamKi4uTqVLl1aJEiXyqz4AAAAAAAAUEfcVVN2uRIkSqlSpUl7WAgAAAAAAgCLM4s3UAQAAAAAAgPxEUAUAAAAAAIACgaAKAAAAAAAABUKBCKpWrlypTp06qXHjxurXr58OHTp01/6vvPKKPDw8cvxJTEw09dm/f7/69OmjJk2aqFOnTlq1alV+3wYAAAAAAAAewj03U09OTlZkZKSMRqNq1qypUqVK5WkBq1ev1gcffKDXXntNjRo10tdff63AwECtXbtWLi4uuZ5z8uRJBQQEqGvXrmbt2bWdPn1aQ4YMkbe3t15//XXt3LlT48ePl6Ojozp37pyn9QMAAAAAACBv3DGoSk1N1UcffaTvv/9eGRkZkiQbGxv17dtX48aNU4kSJR764kajUUFBQerbt69GjhwpSWrbtq06d+6skJAQTZgwIcc58fHxunTpktq1a6emTZvmOm5wcLCqV6+u2bNny2AwqH379oqNjdWCBQsIqgAAAAAAAAqoOwZVkydP1i+//KK3335bjRo1ktFo1LFjx7Rw4UKlpaVp6tSpD33x8+fP68KFC/Lx8TG12dnZycvLSzt27Mj1nPDwcEmSh4fHHcfdvXu3unfvLoPBYGrr0KGD1q1bp5iYGFWuXPmhawcAAAAAAEDeumNQtXHjRr399tsaMGCAqa1ly5YqVaqUPvroozwJqs6dOydJqlWrllm7i4uLIiIilJmZKRsbG7Nj4eHhKl68uObMmaPNmzcrJSVFTz/9tN5//31VrFhRSUlJunz5cq5jZl+ToAoAAAAAAKDguWNQZWtrq+Tk5BztiYmJsrOzy5OLJyQkSJIcHBzM2h0cHJSVlaXk5GQ5OjqaHQsPD1daWpocHBw0f/58RUZGas6cORo0aJDWrFlz1zFvv+bt4uPjFR8fb9YWHR39cDcHAAAAAACA+3LHoOr555/XvHnzdPnyZdWvX1+SdOzYMX3//fd64YUX8uTiRqNRksyW6N0ut/bBgwera9euat26tSSpVatWcnNzU9++fbV+/Xq1adPmrmMWK5bzQYchISGaP3/+A90DAAAAAAAA8sYdg6p33nlHZcuW1bJlyxQSEiJJKleunIYPH65hw4blycWdnJwk3ZqlVaFCBVN7YmKibGxscsyKkiQ3Nze5ubmZtTVp0kTOzs4KDw9Xx44dTWPcLvt19jVvN2jQIPn5+Zm1RUdHy9/f/wHuCgAAAAAAAA/ijkFVsWLFNHToUA0dOlSJiYnKysrKNeR5GNn7SEVGRprtKRUZGSlXV9dcz/nvf/+rSpUqqVWrVqY2o9GotLQ0lS1bVg4ODqpYsaIiIyPNzst+Xbt27RxjOjs7y9nZ+WFvBwAAAAAAAA8h5zq4XDg4OOR5SCVJrq6uqlq1qkJDQ01t6enp2rp1q2kJ3999++23mjZtmrKyskxt27ZtU0pKilq2bClJatOmjbZs2aLMzExTn9DQULm7u6t8+fJ5fh8AAAAAAAB4eHecURUQEPBAAxoMBtNSQUv6Dh06VFOmTFHp0qXVvHlzLV++XLGxsRo8eLAkKSIiQtevX1fTpk0lScOHD9fQoUM1ZswY9erVS+fOndPcuXP1zDPPqHnz5pKkwMBA9e7dW2+88Yb69Omj3bt3a926dZo7d+4D3RMAAAAAAADyn8GYvaP533h6et7fQAaDjEajDAaDTpw4cV/nfvnll1q2bJliY2NVv359jRs3Ts2aNZMkvfvuu1q9erXCw8NN/bds2aIFCxbor7/+kqOjo7p166Y33nhDJUuWNPXZsWOHZs2apTNnzqhatWoaPny4evXqZXFNUVFR8vX1VVhYmGrUqHFf92MJt57n8nxM4FE7vcbV2iUAAAAAAAqROwZVN2/etGiAs2fP6sMPP9Tx48dlZ2enYcOG6fXXX8/TIq2BoAq4N4IqAAAAAEBeuuPSv3vtSZWZmaklS5Zo0aJFSklJUbNmzTR16tQcT+QDAAAAAAAALHHHoOpufv/9d73//vs6deqUHBwcNHHiRA0YMCCvawMAAAAAAEARcl9BVXJysmbPnq1vvvlGmZmZ8vX11cSJE1W5cuX8qg8AAAAAAABFhMVB1bZt2zRp0iRdvHhRFStW1Pvvv69OnTrlZ20AAAAAAAAoQu4ZVF2/fl1Tp07Vhg0bJEl9+/bVmDFj7rmHFQAAAAAAAHA/7hpU/fDDD/r4448VFxen2rVra8qUKWrZsuWjqg0AAAAAAABFyB2DqkGDBmnfvn2SpAYNGmjo0KGKi4tTWFjYPQf19fXNuwoBAAAAAABQJNwxqNq7d6/p348fP6633nrrnoMZjUYZDAadOHEib6oDAAAAAABAkXHHoGrkyJGPsg4AAAAAAAAUcQRVAAAAAAAAKBCKWbsAAAAAAAAAQCKoAgAAAAAAQAFBUAUAAAAAAIACgaAKAAAAAAAABQJBFQAAAAAAAAoEgioAAAAAAAAUCARVAAAAAAAAKBAIqgAAAAAAAFAgEFQBAAAAAACgQCCoAgAAAAAAQIFAUAUAAAAAAIACgaAKAAAAAAAABQJBFQAAAAAAAAoEgioAAAAAAAAUCARVAAAAAAAAKBAIqgAAAAAAAFAgEFQBAAAAAACgQLC1dgGStHLlSi1ZskTR0dGqX7++3n33XTVr1uyO/Q8ePKhPP/1UJ06cUMmSJdW2bVuNHTtWFSpUMPXp1q2bTp06ZXZemTJltHfv3ny7DwAAAAAAADw4qwdVq1ev1gcffKDXXntNjRo10tdff63AwECtXbtWLi4uOfqfPn1agwcPVtu2bfXvf/9b8fHxmjt3rgIDA7Vq1SrZ2dkpLS1NZ86c0dtvv63HH3/cdK6trdVvFwAAAAAAAHdg1eTGaDQqKChIffv21ciRIyVJbdu2VefOnRUSEqIJEybkOGf58uWqWLGigoKCZGdnJ0mqVauW+vTpo927d+vpp5/W6dOnlZGRIV9fX7m5uT3SewIAAAAAAMCDsWpQdf78eV24cEE+Pj6mNjs7O3l5eWnHjh25nlO3bl3VrVvXFFJJUp06dSRJUVFRkqTw8HCVLFlSrq6u+Vc8AAAAAAAA8pRVg6pz585JujUj6nYuLi6KiIhQZmambGxszI75+/vnGGfz5s2S/i+wCg8PV+nSpfXmm29q586dMhgM6ty5s9577z05OjrmOD8+Pl7x8fFmbdHR0Q98XwAKpqz0VBWzK2HtMoCHxu8yAAAACiurBlUJCQmSJAcHB7N2BwcHZWVlKTk5Oddg6XaXLl3Sxx9/rIYNG6p169aSbgVVV69elYeHhwICAnTixAnNmzdPUVFRCgkJyTFGSEiI5s+fn0d3BaCgKmZXQucm1rZ2GcBDc5181tolAAAAAPnC6ntUSZLBYMj1+J3as126dEmDBw9WVlaWPv30U1P/d955R2lpaWratKkkqWXLlipfvrzefPNN7d+/Xy1btjQbZ9CgQfLz8zNri46OznX2FgAAAAAAAPKHVYMqJycnSVJiYqIqVKhgak9MTJSNjU2OmVa3O3XqlIYOHaqMjAx9+eWXqlmzpulYgwYNcvRv166dJOnkyZM5gipnZ2c5Ozs/1L0AAAAAAADg4RSz5sWz96aKjIw0a4+MjLzrRuhHjhyRv7+/bGxstGLFCnl6epqOZWRk6Mcff9Tx48fNzklJSZEklS1bNo+qBwAAAAAAQF6yalDl6uqqqlWrKjQ01NSWnp6urVu3qk2bNrmeExkZqaFDh6pChQr69ttvcwRatra2CgoKUlBQkFn7r7/+Kjs7O9NyQAAAAAAAABQsVl36ZzAYNHToUE2ZMkWlS5dW8+bNtXz5csXGxmrw4MGSpIiICF2/ft0UME2fPl0JCQmaOHGiLl26pEuXLpnGq1atmipVqqRXXnlFEydO1NSpU+Xj46OjR49qwYIFGjhwoKpXr26FOwUAAAAAAMC9WDWokiR/f3+lpqZq2bJl+uqrr1S/fn198cUXcnFxkSQtXLhQq1evVnh4uNLT07V9+3ZlZmbq7bffzjHW2LFjFRgYqH79+snOzk5Lly7VypUrVaFCBY0YMULDhg171LcHAAAAAAAACxmM2Y/eg5moqCj5+voqLCxMNWrUyPPx3Xqey/MxgUft9BpXa5dw385NrG3tEoCH5jr5rLVLAAAAAPKFVfeoAgAAAAAAALIRVAEAAAAAAKBAIKgCAAAAAABAgUBQBQAAAAAAgAKBoAoAAAAAAAAFAkEVAAAAAAAACgSCKgAAAAAAABQIBFUAAAAAAAAoEAiqAAAAAAAAUCAQVAEAAAAAAKBAIKgCAAAAAABAgUBQBQAAAAAAgAKBoAoAAAAAAAAFAkEVAADId6mZadYuAXho/B4DAJD/bK1dAAAAKPxK2BRXs5+fsXYZwEM59Nwv1i4BAIBCjxlVAAAAAAAAKBAIqgAAAAAAAFAgEFQBAAAAAACgQCCoAgAAAAAAQIFAUAUAAAAAAIACgaAKAAAAAAAABQJBFQAAAFBIZaWkWrsE4KHxewwULbbWLgAAAABA/ihWsoT213S3dhnAQ2kZccraJQB4hJhRBQAAAAAAgAKBoAoAAAAAAAAFAkEVAAAAAAAACoQCEVStXLlSnTp1UuPGjdWvXz8dOnTorv1PnTqlQYMGqVmzZvLy8lJwcLCMRqNZn/3796tPnz5q0qSJOnXqpFWrVuXnLQAAAAAAAOAhWT2oWr16tT744AN1795dQUFBcnJyUmBgoCIjI3Ptf+3aNb300ksyGAyaM2eO+vbtqzlz5ujLL7809Tl9+rSGDBmiGjVqKCgoSF5eXho/frw2btz4qG4LAAAAAAAA98mqT/0zGo0KCgpS3759NXLkSElS27Zt1blzZ4WEhGjChAk5zlmxYoUyMjK0aNEilSpVSk8//bTS0tIUHBysgIAA2dnZKTg4WNWrV9fs2bNlMBjUvn17xcbGasGCBercufOjvk0AAAAAAABYwKozqs6fP68LFy7Ix8fH1GZnZycvLy/t2LEj13N2796tNm3aqFSpUqa2Dh066MaNGzp69Kipj5eXlwwGg1mfU6dOKSYmJp/uBgAAAAAAAA/DqkHVuXPnJEm1atUya3dxcVFERIQyMzNzPSe3/tnHkpKSdPny5bv2AQAAAAAgv2SkZVm7BCBPWON32apL/xISEiRJDg4OZu0ODg7KyspScnKyHB0dc5yTW//sY3cb8/Zr3i4+Pl7x8fFmbRcuXJAkRUdH39c9WSwtn8YFHqGoKKv+FfJAohOtXQHw8GyjoqxdwgPJup5u7RKAhxL1D/3sXTHcuw9QkP1TP3vB/ketXQLw0IataJRvY1epUkW2tjm/U1p9jypJZkv0bnen9jspVqzYPccsViznJLKQkBDNnz8/1/7+/v73VYOl/nlf74GcfH2tXcGDKG7tAoCH9/M/8sMH/OP5TvuHfvZKklThH+6f+R+dQKHwn3z8+IWFhalGjRo52q2alzg5OUmSEhMTVaFCBVN7YmKibGxscsyKkiRHR0clJppPich+7ejoaJqBdac+2de83aBBg+Tn52fWlpaWpsjISLm6usrGxuZ+bw1WFB0dLX9/f61YsUJVqlSxdjlAkcLnD7AOPnuAdfDZA6yDz17hcKefnVWDqux9pCIjI832lMoOiHLj6uqaY+pnZGSkJKlOnTpycHBQxYoVTW1/71O7du0cYzo7O8vZ2TlHe506dSy/GRQ4VapUyTWdBZD/+PwB1sFnD7AOPnuAdfDZK5ysupm6q6urqlatqtDQUFNbenq6tm7dqjZt2uR6TuvWrbV7924lJSWZ2kJDQ1WmTBl5enpKktq0aaMtW7aYbcYeGhoqd3d3lS9fPp/uBgAAAAAAAA/DqkGVwWDQ0KFD9d133+nTTz/Vtm3bNGLECMXGxmrw4MGSpIiICB0+fNh0zoABA5Senq5hw4Zpy5YtWrRokYKDgzVs2DAVL35r75nAwECdPXtWb7zxhrZt26YZM2Zo3bp1eu2116xwlwAAAAAAALCEVYMq6dZm5WPHjtXatWs1atQo3bx5U1988YVcXFwkSQsXLlS/fv1M/StVqqSlS5cqIyNDo0aN0sqVKzV69GgFBgaa+nh6emrRokWKjIzUyJEjtXXrVs2YMUOdO3d+5PcHAAAAAAAAyxiM2Y/JAwqJ+Ph4hYSEaNCgQbnuPQYg//D5A6yDzx5gHXz2AOvgs1e4EVQBAAAAAACgQLD60j8AAAAAAABAIqgCAAAAAABAAUFQhUIlMzNTS5cuVZcuXdS0aVM9++yzWr58uVjhCjw6YWFhatasmbXLAIqExMRETZ48WW3btlWzZs0UGBiokydPWrssoNDLzMzU559/ro4dO6pZs2bq06ePfvvtN2uXBRQ69/P9LiQkRM8995wVqkReI6hCobJw4ULNnj1b3bt316JFi9SlSxdNnz5dS5YssXZpQJFw8OBBjRkzxtplAEXGqFGjtHr1agUGBiooKEgVKlTQgAEDdObMGWuXBhRqX3zxhT799FM9//zzWrBggWrWrKmhQ4fq+PHj1i4NKFQs/X63adMmffLJJ1aqEnmNzdRRaGRmZqpVq1YKCAjQ6NGjTe2TJk3Sxo0b+b9cQD5KS0tTSEiI5s6dK3t7e6Wnp+vQoUPWLgso1P744w89//zzmjRpkvr3729q79+/vypXrqy5c+dasTqgcOvSpYsaNWqkjz/+WNKt/w719fWVj4+PJk6caOXqgMLBku93CQkJWrBggZYuXSpnZ2dVqlRJP//8s/WKRp5gRhUKjYSEBPXs2VOdOnUya69du7auX7+upKQkK1UGFH7bt29XcHCwxo4dqxdffNHa5QBFwrlz5yRJTz31lFl7s2bNtHPnTitUBBQdaWlpcnR0NL22sbGRk5OT4uLirFgVULhY8v1u1apV+umnnzRr1iz5+PhYqVLkNYIqFBqlS5fWxIkT1aBBA7P2LVu2qEqVKrK3t7dSZUDh16hRI4WFhSkgIEAGg8Ha5QBFQpUqVSRJly5dMmu/cOGCEhISdOPGDStUBRQN/v7+Wrt2rX777TfdvHlTISEh+vPPP/Xss89auzSg0LDk+52vr69CQ0PZm6qQsbV2AUB++v7777V7925NmDDB2qUAhVrlypWtXQJQ5DRu3Fiurq6aNGmSZsyYoVq1amn9+vXatm2bJCk5OVllypSxbpFAIfXCCy9oz549Gjx4sKlt9OjR8vX1tV5RQBHw9+93Li4uVq4I+YEZVSi01q1bpw8++EDPPPMMS5EAAIVO8eLFNX/+fBUrVky9e/dWq1attGbNGg0ZMkSSVLJkSStXCBRORqNRgYGBOnLkiD744AMtW7ZMr7zyihYsWKAVK1ZYuzyg0OL7XdHBjCoUSkuXLtVHH30kHx8fzZo1i6VIAIBCqV69elq3bp0uXbqkjIwMubi4mMIrJycna5cHFEoHDhzQgQMHNGfOHHXp0kWS9MQTTygzM1OffPKJevbsKQcHBytXCRQufL8rWphRhUJn9uzZmjlzpnr06KF58+apePHi1i4JAIA8l5ycrDVr1igmJkZVq1Y1LX8IDw9XvXr1ZGvL/48E8kN0dLQkqWnTpmbtLVq0UHJysi5cuGCFqoDCi+93RQ9BFQqVkJAQLV68WAEBAZo5cyb/kQ4AKLRsbW314Ycfav369aa2yMhIbdu2Td7e3lasDCjcXF1dJUkHDx40az9y5IhsbW1NDzoA8PD4flc08VNGoXH58mXNmjVL7u7u6tq1q44cOWJ2vGHDhvzFBgAoNOzs7NS7d2999tlnKleunBwdHTVr1iyVK1fObINnAHmrYcOG8vLy0qRJk3Tjxg25ublp3759WrJkiQICAuTs7GztEoFCge93RRc/VRQaO3fuVFpamk6dOqV+/frlOP7bb7+pXLlyVqgMAID88c4778hgMOiTTz5RamqqWrdurbFjx6ps2bLWLg0o1ObOnas5c+bos88+U1xcnGrVqqXx48erf//+1i4NKDT4fld0GYxGo9HaRQAAAAAAAADsUQUAAAAAAIACgaAKAAAAAAAABQJBFQAAAAAAAAoEgioAAAAAAAAUCARVAAAAAAAAKBAIqgAAAAAAAFAgEFQBAIBH6tixY5o4caI6d+6sJk2aqHnz5urfv79WrFihjIyMu56bkZEhb29v1a9fX7t27bL4mtOmTZOHh4f27t1ravPx8VHLli0f+D7yy4kTJ+Th4aF3333X2qVYZOfOnfr999+tXYbF9u7dKw8PD02bNs3apQAAgFwQVAEAgEciKytLc+fO1fPPP6/Vq1fLzc1NAwYM0LPPPqvo6GhNnjxZL730klJSUu44xvr163Xx4kWNGDFCTz755EPVExAQoGHDhj3UGEXdN998o8DAQF2+fNnapVisevXqGjlypNq1a2ftUgAAQC5srV0AAAAoGj777DMtXLhQTZs21bx581S5cmXTsbS0NP3rX//STz/9pHfffVdz5szJdYytW7fqmWee0WuvvfbQ9QwePPihxyjqrl27Zu0S7luNGjX0+uuvW7sMAABwBwRVAAAg3509e1YLFy5UuXLl9Pnnn8vZ2dnsePHixTVjxgwdPHhQGzdu1OnTp+Xm5pZjnNmzZz+qkgEAAGAFBFUAACDfrVmzRunp6fL3988RUmWzs7PT+++/r9jYWJUtW9bs2Pr167Vs2TKdPHlSBoNBHh4eGjhwoLp27ZpjnFWrVmnZsmU6f/68KleurJdffjnX6/n4+Cg+Pl779+83tSUmJmrhwoXasGGDrl69qrp162rkyJEKCwvTqlWrFB4ebuqblZWl7777TitXrtSZM2dkZ2enxo0ba8iQIRYvSzx58qTmzp2rAwcOyGg0qkOHDurevXuufS9cuKDg4GDt2rVLMTExsrW1Ve3atdWnTx+98MILFl9v8eLF2rdvn5KSkuTq6ip/f389//zzMhgMpn5btmzRihUr9Mcff+jmzZtycnJS8+bN9frrr6t+/fqSpIEDB2rfvn2SZJrhdvv7s2HDBoWEhCg8PFwGg0GNGjXSq6++qtatW+eo67vvvtOKFSsUERGhChUqqH///qpYsaLGjRunZcuW6YknnjD13bVrl5YsWaIjR44oIyNDbm5u6t27t1544QUVK/Z/u1p4eHjIz89Prq6uWrJkiSRp5MiRql+/vgICAhQQEKDx48eb+h84cEBLly7V4cOHdePGDZUqVUoNGzbU8OHDc60ZAADkD4IqAACQ73bs2CFJ99wXyNvbO0fbRx99pC+//FIVK1bUc889J+nWEsC33npLx48f15gxY0x958yZo0WLFql69erq3bu3rly5osmTJ6tcuXL3rDEtLU0vvfSSjhw5ombNmumZZ57RsWPHNGLECFWrVs2sb1ZWlt58801t3LhRLi4uev7555WUlKSwsDAFBgbq/fffl7+//12vd+LECfn7+ystLU3PPPOMnJ2dFRYWZnqvbhcVFaXevXsrOTlZHTt2VNWqVRUTE6NffvlFH374oTIzM/Xiiy/e9Xq//fabXnnlFWVmZsrX11fVqlXT1q1bNX78eF28eFGjRo2SJC1fvlxTpkxRzZo19dxzz8nOzk5Hjx5VWFiY9uzZo40bN6pSpUry8/OTJO3bt0/PPvus6tSpY7rW3LlztXDhQlWvXl1+fn4yGAzauHGjXnrpJc2cOVM9evQw9Z0+fbpCQkJUs2ZN9enTR7GxsZozZ46qVq2a4x6+/vprTZ06VU5OTurYsaPs7e21Y8cOTZ48Wfv379fs2bPNArcdO3Zo06ZN8vPz09WrV9WkSROlpaXlGDc0NFSjRo1SuXLl1KFDBzk4OOjPP//U9u3btW/fPq1atcoU0AEAgHxmBAAAyGdt2rQxuru7G2/cuHFf5/3vf/8zuru7G3v27Gm8du2aqf3atWvG5557zuju7m7ct2+f0Wg0Gs+ePWts0KCBsUePHsa4uDhT382bNxs9PDyM7u7uxj179pjavb29jS1atDC9/uKLL4zu7u7GyZMnG7OyskztM2fONLq7uxvd3d1NbatXrza6u7sbX375ZWNiYqKpPSIiwvjkk08aGzRoYIyIiLjrvfn7+xvr169v3L17t9l9Pfvss0Z3d3fjuHHjTO3vv/++0d3d3bhr1y6zMY4cOWJ0d3c39uvX767XysjIMHp7exsbNWpkPHjwoKk9JSXF2K1bN2ODBg2MV69eNaamphqbN29u7NSpk9l9GY1G4wcffGB0d3c3fvfdd6a2efPmGd3d3Y2bNm0yq8nDw8P44osvGpOSkkzt169fN3bs2NHYpEkT08/y999/N3p4eBj79u1rTEhIMPXdsmWL6T3P/plFREQYGzRoYPTy8jJ7bxMTE40BAQFGd3d34+rVq03t2eeHhYWZ3ceePXuM7u7uxqlTp5rannnmGePjjz9uvHLlilnf4OBgo7u7u/Hf//73Xd9fAACQd3jqHwAAyHfx8fGSJAcHh/s678cff5QkjR071mxWVLly5fT2229Lkn744QdJ0saNG5WRkaFXXnnFbHmht7e3nnrqqXtea/Xq1bK3t9fo0aPNZuWMHDlSpUuXztFXkj788EPZ29ub2l1cXPTqq68qIyNDa9asueO1YmJi9L///U/t2rVTmzZtzO4rt43iu3fvrunTp6tt27Zm7Y0bN1bJkiXvuan54cOHdeHCBfXo0UPNmjUztZcoUULvvvuuRo4cqdTUVGVmZmrKlCmaNm2a2X1J0uOPPy7p3huor1q1SkajUWPHjlWpUqVM7WXLltXQoUOVnJysDRs2SJLWrl0ro9Go0aNHm/1ueHl55Vg+uW7dOmVkZOi1116Ti4uLqd3e3l4TJkyQ9H+/C9lKliypp59++q71ZmVl6e2339bHH3+sChUqmB3LXnL4T9w0HgCAfyqW/gEAgHxXpkwZXblyRfHx8RYtw8t28uRJFStWTC1atMhxLLvt5MmTZv9s2LBhjr7NmjXLdUldttTUVJ06dUqPPfaYnJyczI45ODjIw8PDtB9T9rUqV65sFpjcqa473dfdav27li1bqmXLlrpx44ZOnDihiIgInT17VocPHzYFTHeTfb2mTZvmONa2bVuzAOzZZ5+VdGsD/NOnTysiIkJ//vmnfvvtN0m3gp27OXbsmCTp119/1datW82ORUdHS7q17FGSjh49KulW4PZ3zZs3165du3LcQ6tWrXL0rVevnpydnXO851WqVJGNjc1d6y1WrJg6duwo6dY+YH/++aciIiL0119/ae/evZLufc8AACDvEFQBAIB85+LioitXruj8+fN3Dapu3ryp5ORkVapUSZKUkJCgEiVKqHjx4jn6Ojk5qVSpUkpOTpZ091lbZcqUuWt9N27ckCRVrFgx1+PZ9WRLSEjIMfvm731TUlLueL271fr32VuSFBcXpxkzZujnn39Wenq6DAaDqlevrtatW+v48eN3vM7fr+fo6HjPvv/73/80Y8YMU+BUokQJeXp66rHHHtOlS5dkNBrvev7NmzclScHBwXfsExcXJ0mKjY2Vvb19ru9Dbu+5pBxB4u39z58/b9ZWsmTJu9aaLTw8XFOnTjWFkXZ2dnJzc1PDhg117ty5e94zAADIOwRVAAAg37Vr104HDx7Url27cp0xlO0///mPPvnkE7366qum5WDJycmKj4/P8bTA1NRUpaSkmJ4QmH08ISEhx1MDExMT71pfdlCSHYb83d/Pd3BwUExMTK59s0OYu4Vj2bVmhzq3S0pKytE2ZswYbdu2Tf3791ePHj3k7u5uCp1++umnO14nW/Yyvtzeh/T0dBmNRhUvXlwXLlzQkCFDVLJkSU2ZMkUtWrSQq6urbGxstH79eoWGhlp0LRsbGx05ckR2dnZ37evo6KioqCilp6fn6Pv3n0X2zygmJibXsDMuLu6egWRuEhIS9PLLL+vmzZsaN26c2rZtqzp16qh48eI6cuSIfv755/seEwAAPDj2qAIAAPmuW7dusrOz0/Lly3MNZyQpOTlZ33//vSSZ9ify9PSUJB04cCBH/wMHDshoNKpu3bqSpMcee+yOff/444+71ufo6ChXV1edPHkyx1PhMjMzc5zv6empmzdv6tSpUznG2r9/vySZ6spNgwYNZDAYdPDgwXvWGh8fr23btqlhw4aaNGmSmjdvbgqpoqKilJqaes8ZP+7u7pKk33//PcexDRs2qEmTJlqzZo1CQ0OVkpKiUaNGqW/fvnJzczMtnTt9+rQkmV3r9r28snl4eCgzM9O0vO92hw8f1qxZs0zv0WOPPabMzEzT7K3bHTlyxOz13X4Xzp8/rytXrqhevXq5vwF3sWfPHl29elX+/v56+eWX5enpaZrBl9s9AwCA/EVQBQAA8p2Li4sGDx6s2NhYDRkyRJcvXzY7fvPmTb3zzjs6d+6cvL29TfsQ9erVS5I0e/ZsXb9+3dT/+vXr+vjjjyVJPXr0kHRrb6USJUpo0aJFunLliqnv/v37tXnz5nvW2KtXLyUkJCgoKMisffHixWbj3V7XtGnTzGZARUZGasGCBbKzs1PXrl3veK2KFSuqXbt22rNnj3755RdTe0JCgubPn2/W187OTsWKFVN8fLxZiJaSkqIpU6ZIujUr6m5atWqlqlWrau3atWYBUlpamr766ivZ2NioTZs2KlGihCTp6tWrZuefPHlSy5YtkyRlZGSY2m1tbU3jZPPz85MkTZ8+3WxWVEJCgj788EN9/vnnpj21st/HTz/91LSEU7oVHv199laPHj1ka2urzz77TJGRkab2pKQkTZ482dTnfmXf8983TL948aLpZ3H7PQMAgPzF0j8AAPBIvPnmm7p27Zp+/PFH+fr6ysvLSzVr1lRMTIx27dql69evq3nz5qYASroVsLz00ktaunSpunfvLm9vb0nSli1bdOXKFQ0dOtQUalWvXl3jxo3T5MmT5efnpw4dOighIUEbN25U1apVFRERcdf6Bg8erI0bNyo4OFgHDhxQ48aNdfz4ce3fv1/Ozs5moUuPHj20efNm/fLLL+revbvat2+vpKQkhYWFKSEhQRMmTFDNmjXver2JEyeqf//+Gj16tDp06KDKlStry5YtKlbM/P8jlipVSh07dtQvv/yiPn366Mknn1RSUpK2bNmiq1evqnTp0rp586aysrJynJvN1tZW06dP1/Dhw9W/f3917NhR5cuX19atW3Xu3Dm99957qly5sry9vfXvf/9bixcv1pkzZ1SzZk2dP39eW7ZsMe0Nlb2flyRVrlxZkrRo0SKdOHFCI0eOVOvWrTVw4EB9/fXX6tq1q55++mkVL15coaGhunTpkvr37296ml6zZs3Uv39/fffdd+rZs6fatWuna9eu6ddff5WTk5NiY2NNM7pcXFw0btw4TZs2zfTztbe31/bt2xUZGamuXbuqZ8+ed33Pc9OiRQtVr15da9euVWxsrDw9PXXp0iWFhYWpRIkSMhgMZvcMAADyl8HIXGYAAPAI7dy5U999953Cw8MVExMjW1tbeXh4qEePHurTp0+uT2lbt26dVqxYofDwcNna2qp+/foaOHCgOnXqlKNvaGioFi9erFOnTqls2bIaMGCAihcvrhkzZmjZsmWmkMTHx0fx8fGmZWjSrX2O5syZo02bNunGjRtyd3fXW2+9pblz5+qvv/7SoUOHTH2zsrK0YsUKrVq1SmfPnlWpUqXUuHFjBQYGqnXr1ha9F1FRUfr000+1a9cupaam6qmnntIbb7yhrl27ys/PTzNnzpR0azbSvHnzFBoaqqtXr6pixYqqX7++hg0bpp9//lkhISH66quv1KZNm7te748//tD8+fN14MABJScnq27duho8eLBZwPPHH39o9uzZOnbsmDIyMlStWjW1a9dOw4cPV6dOnWRvb6/NmzfLYDAoNTVV48aN09atW2VjY6Pvv/9ederUkSStXbtW3377rU6ePCkbGxvVrl1bL7zwgvz8/MwCtczMTH311VdauXKlLly4oMqVK2vgwIG6cuWKlixZoh9++MHs6Yjbt2/XF198oaNHj8poNMrNzU39+vVT7969zZYienh4yNPTU2vXrjV7D/bu3auAgAAFBARo/Pjxkm4tHZw1a5bpfalatapatWql1157TcOGDdPZs2e1e/fuXDd9BwAAeYugCgAAQLdCo3Llypk2Hr+dt7e3SpUqpfXr11uhssLrypUrsrOzy3UT9HHjxmnNmjXavXu3ypcv/+iLAwAAVsEeVQAAAJLpKXe3738kSevXr9fFixdNM7GQd9atW6cnnnhCq1evNmuPiIjQpk2bVLduXUIqAACKGGZUAQAASNq8ebNGjBih0qVLq1OnTipTpoxOnz6trVu3qmLFivrxxx8JTfJYdHS0unXrpuTkZPn6+qpmzZq6evWqfv31V6Wlpenzzz+3eBklAAAoHAiqAAAA/r89e/boyy+/1PHjxxUXF6eKFSvK29tbI0aMIKTKJ+fPn9fixYu1Z88eXblyRc7OzmrRooWGDx+uxx57zNrlAQCAR4ygCgAAAAAAAAUCe1QBAAAAAACgQCCoAgAAAAAAQIFAUAUAAAAAAIACgaAKAAAAAAAABQJBFQAAAAAAAAoEgioAAAAAAAAUCP8PQvdSqa9xuCkAAAAASUVORK5CYII=",
      "text/plain": [
       "<Figure size 1440x432 with 1 Axes>"
      ]
     },
     "metadata": {},
     "output_type": "display_data"
    }
   ],
   "source": [
    "ax = sns.barplot(\n",
    "    data = first5, x = 'cods_categoria', y = 'n_doses', dodge = False,\n",
    "    order = first5.sort_values('n_doses', ascending = False).cods_categoria, hue = 'categoria', \n",
    "    hue_order=['Faixa Etária', 'Comorbidades', 'Trabalhadores de Saúde', 'Trabalhadores da Educação', 'Gestantes'],\n",
    "    palette='bright'\n",
    "    )\n",
    "\n",
    "ax.legend(\n",
    "    loc='upper right', title='Categoria do(a) vacinado(a)',\n",
    "    title_fontsize = 20, fontsize = 15, labelcolor = '#2162cd',\n",
    "    )\n",
    "    \n",
    "ax.set_title('Categorias com maior adesão à vacina', fontsize = 28)\n",
    "ax.set_xlabel('Código da categoria', fontsize = 20)\n",
    "ax.set_ylabel('Nº de doses aplicadas', fontsize = 20)\n",
    "ax.tick_params(labelsize = 16)\n",
    "ax.figure.set_size_inches(20, 6)"
   ]
  },
  {
   "cell_type": "markdown",
   "metadata": {},
   "source": [
    "É possível observar a discrepância entre a categoria `Faixa Etária` e as demais, isso ocorre devido ao fato de que a maioria da população paraibana tomou determinadas doses assim que a aplicação para sua idade foi liberada."
   ]
  },
  {
   "cell_type": "markdown",
   "metadata": {},
   "source": [
    "#### Plotagem do gráfico sem a categoria `Faixa Etária`"
   ]
  },
  {
   "cell_type": "code",
   "execution_count": 278,
   "metadata": {},
   "outputs": [
    {
     "data": {
      "image/png": "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",
      "text/plain": [
       "<Figure size 1440x432 with 1 Axes>"
      ]
     },
     "metadata": {},
     "output_type": "display_data"
    }
   ],
   "source": [
    "ax = sns.barplot(\n",
    "    data = ranking_categoria[1:6], x = 'cods_categoria', y = 'n_doses', dodge = False,\n",
    "    order = ranking_categoria[1:6].sort_values('n_doses', ascending = False).cods_categoria, hue = 'categoria', \n",
    "    hue_order=['Comorbidades', 'Trabalhadores de Saúde', 'Trabalhadores da Educação', 'Gestantes', 'Pessoas com Deficiência'],\n",
    "    palette='bright'\n",
    "    )\n",
    "\n",
    "ax.legend(\n",
    "    loc='upper right', title='Categoria do(a) vacinado(a)',\n",
    "    title_fontsize = 20, fontsize = 15, labelcolor = '#2162cd',\n",
    "    )\n",
    "    \n",
    "ax.set_title('Categorias com maior adesão à vacina', fontsize = 28)\n",
    "ax.set_xlabel('Código da categoria', fontsize = 20)\n",
    "ax.set_ylabel('Nº de doses aplicadas', fontsize = 20)\n",
    "ax.tick_params(labelsize = 16)\n",
    "ax.figure.set_size_inches(20, 6)\n",
    "\n",
    "\n"
   ]
  },
  {
   "cell_type": "markdown",
   "metadata": {},
   "source": [
    "Diferentemente do gráfico anterior, quando desconsidera-se a categoria `Faixa Etária`, tem-se uma distribuição um pouco mais igualitária. Sendo a categoria `Comorbidades` que ocupa a 1ª colocação com aproximadamente 250 mil doses aplicadas e `Pessoas com Deficiência` na 5ª colocação com volta de 25 mil doses."
   ]
  },
  {
   "cell_type": "markdown",
   "metadata": {},
   "source": [
    "#### Criação do ranking das primeiras 5 categorias com maior adesão"
   ]
  },
  {
   "cell_type": "code",
   "execution_count": 279,
   "metadata": {},
   "outputs": [
    {
     "data": {
      "text/html": [
       "<div>\n",
       "<style scoped>\n",
       "    .dataframe tbody tr th:only-of-type {\n",
       "        vertical-align: middle;\n",
       "    }\n",
       "\n",
       "    .dataframe tbody tr th {\n",
       "        vertical-align: top;\n",
       "    }\n",
       "\n",
       "    .dataframe thead th {\n",
       "        text-align: right;\n",
       "    }\n",
       "</style>\n",
       "<table border=\"1\" class=\"dataframe\">\n",
       "  <thead>\n",
       "    <tr style=\"text-align: right;\">\n",
       "      <th></th>\n",
       "      <th>cods_categoria</th>\n",
       "      <th>categoria</th>\n",
       "      <th>n_doses</th>\n",
       "    </tr>\n",
       "  </thead>\n",
       "  <tbody>\n",
       "    <tr>\n",
       "      <th>15</th>\n",
       "      <td>114</td>\n",
       "      <td>Outros</td>\n",
       "      <td>1266</td>\n",
       "    </tr>\n",
       "    <tr>\n",
       "      <th>16</th>\n",
       "      <td>14</td>\n",
       "      <td>Funcionário do Sistema de Privação de Liberdade</td>\n",
       "      <td>647</td>\n",
       "    </tr>\n",
       "    <tr>\n",
       "      <th>17</th>\n",
       "      <td>12</td>\n",
       "      <td>Pessoas em Situação de Rua</td>\n",
       "      <td>622</td>\n",
       "    </tr>\n",
       "    <tr>\n",
       "      <th>18</th>\n",
       "      <td>13</td>\n",
       "      <td>Trabalhadores Portuários</td>\n",
       "      <td>507</td>\n",
       "    </tr>\n",
       "    <tr>\n",
       "      <th>19</th>\n",
       "      <td>4</td>\n",
       "      <td>Forças Armadas (membros ativos)</td>\n",
       "      <td>410</td>\n",
       "    </tr>\n",
       "  </tbody>\n",
       "</table>\n",
       "</div>"
      ],
      "text/plain": [
       "    cods_categoria                                        categoria n_doses\n",
       "15             114                                           Outros    1266\n",
       "16              14  Funcionário do Sistema de Privação de Liberdade     647\n",
       "17              12                       Pessoas em Situação de Rua     622\n",
       "18              13                         Trabalhadores Portuários     507\n",
       "19               4                  Forças Armadas (membros ativos)     410"
      ]
     },
     "execution_count": 279,
     "metadata": {},
     "output_type": "execute_result"
    }
   ],
   "source": [
    "last5 = ranking_categoria[-5:]\n",
    "last5"
   ]
  },
  {
   "cell_type": "markdown",
   "metadata": {},
   "source": [
    "#### Plotagem do gráfico "
   ]
  },
  {
   "cell_type": "code",
   "execution_count": 280,
   "metadata": {},
   "outputs": [
    {
     "data": {
      "image/png": "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",
      "text/plain": [
       "<Figure size 1440x432 with 1 Axes>"
      ]
     },
     "metadata": {},
     "output_type": "display_data"
    }
   ],
   "source": [
    "ax = sns.barplot(\n",
    "    data = last5, x = 'cods_categoria', y = 'n_doses', dodge = False,\n",
    "    order = last5.sort_values('n_doses', ascending = False).cods_categoria, hue = 'categoria',\n",
    "    hue_order = ['Outros', 'Funcionário do Sistema de Privação de Liberdade', 'Pessoas em Situação de Rua',\n",
    "    'Trabalhadores Portuários', 'Forças Armadas (membros ativos)'],\n",
    "    palette = 'colorblind'\n",
    "    )\n",
    "\n",
    "ax.legend(\n",
    "    loc='upper right', title='Categoria do(a) vacinado(a)',\n",
    "    title_fontsize=20, fontsize=15, labelcolor='#2162cd',\n",
    "    )  \n",
    "\n",
    "ax.set_title('Categorias com menor adesão à vacina', fontsize = 28)\n",
    "ax.set_xlabel('Código da categoria', fontsize = 20)\n",
    "ax.set_ylabel('Nº de doses aplicadas', fontsize = 20)\n",
    "ax.tick_params(labelsize = 16)\n",
    "ax.figure.set_size_inches(20, 6)\n"
   ]
  },
  {
   "cell_type": "markdown",
   "metadata": {},
   "source": [
    "No final do ranking de categoria dos vacinados, encontra-se respectivamente uma pequena parte da população carcerária do estado, que estima-se ter 10 mil presos em 2021 segundo o [levantamento realizado pelo G1](https://g1.globo.com/pb/paraiba/noticia/2021/05/17/populacao-carceraria-reduz-mas-paraiba-ainda-registra-442percent-de-superlotacao-nos-presidios.ghtml), moradores de rua, trabalhadores portuários e ao final da lista os membros ativos das forças armadas que pouco passa de 400 doses aplicadas para esta última categoria."
   ]
  }
 ],
 "metadata": {
  "interpreter": {
   "hash": "916dbcbb3f70747c44a77c7bcd40155683ae19c65e1c03b4aa3499c5328201f1"
  },
  "kernelspec": {
   "display_name": "Python 3.8.10 64-bit",
   "language": "python",
   "name": "python3"
  },
  "language_info": {
   "codemirror_mode": {
    "name": "ipython",
    "version": 3
   },
   "file_extension": ".py",
   "mimetype": "text/x-python",
   "name": "python",
   "nbconvert_exporter": "python",
   "pygments_lexer": "ipython3",
   "version": "3.8.10"
  },
  "orig_nbformat": 4
 },
 "nbformat": 4,
 "nbformat_minor": 2
}
