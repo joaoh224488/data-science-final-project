{
 "cells": [
  {
   "cell_type": "code",
   "execution_count": 34,
   "metadata": {},
   "outputs": [
    {
     "data": {
      "text/html": [
       "<div>\n",
       "<style scoped>\n",
       "    .dataframe tbody tr th:only-of-type {\n",
       "        vertical-align: middle;\n",
       "    }\n",
       "\n",
       "    .dataframe tbody tr th {\n",
       "        vertical-align: top;\n",
       "    }\n",
       "\n",
       "    .dataframe thead th {\n",
       "        text-align: right;\n",
       "    }\n",
       "</style>\n",
       "<table border=\"1\" class=\"dataframe\">\n",
       "  <thead>\n",
       "    <tr style=\"text-align: right;\">\n",
       "      <th></th>\n",
       "      <th>paciente_idade</th>\n",
       "      <th>paciente_dataNascimento</th>\n",
       "      <th>paciente_enumSexoBiologico</th>\n",
       "      <th>paciente_racaCor_codigo</th>\n",
       "      <th>paciente_racaCor_valor</th>\n",
       "      <th>paciente_endereco_nmMunicipio</th>\n",
       "      <th>paciente_endereco_cep</th>\n",
       "      <th>estabelecimento_municipio_nome</th>\n",
       "      <th>vacina_grupoAtendimento_codigo</th>\n",
       "      <th>vacina_grupoAtendimento_nome</th>\n",
       "      <th>vacina_categoria_codigo</th>\n",
       "      <th>vacina_categoria_nome</th>\n",
       "      <th>vacina_dataAplicacao</th>\n",
       "      <th>vacina_descricao_dose</th>\n",
       "      <th>vacina_codigo</th>\n",
       "      <th>vacina_nome</th>\n",
       "      <th>paciente_id</th>\n",
       "    </tr>\n",
       "  </thead>\n",
       "  <tbody>\n",
       "    <tr>\n",
       "      <th>0</th>\n",
       "      <td>44</td>\n",
       "      <td>1977-04-18</td>\n",
       "      <td>M</td>\n",
       "      <td>1</td>\n",
       "      <td>BRANCA</td>\n",
       "      <td>ARAPIRACA</td>\n",
       "      <td>57510</td>\n",
       "      <td>PATOS</td>\n",
       "      <td>912</td>\n",
       "      <td>Médico</td>\n",
       "      <td>9</td>\n",
       "      <td>Trabalhadores de Saúde</td>\n",
       "      <td>2021-11-11</td>\n",
       "      <td>Reforço</td>\n",
       "      <td>87</td>\n",
       "      <td>COVID-19 PFIZER - COMIRNATY</td>\n",
       "      <td>f9495cb04daf5adb495d22c9c88b31883f191fb762ab27...</td>\n",
       "    </tr>\n",
       "    <tr>\n",
       "      <th>1</th>\n",
       "      <td>5</td>\n",
       "      <td>2016-11-18</td>\n",
       "      <td>M</td>\n",
       "      <td>1</td>\n",
       "      <td>BRANCA</td>\n",
       "      <td>PARELHAS</td>\n",
       "      <td>None</td>\n",
       "      <td>CAMPINA GRANDE</td>\n",
       "      <td>207</td>\n",
       "      <td>Pessoas de 5 a 11 anos</td>\n",
       "      <td>0</td>\n",
       "      <td>NaN</td>\n",
       "      <td>2022-02-07</td>\n",
       "      <td>1ª Dose</td>\n",
       "      <td>99</td>\n",
       "      <td>COVID-19 PEDIÁTRICA - PFIZER COMIRNATY</td>\n",
       "      <td>52288faace8c986872faca7101868ae8a23fefd435cd51...</td>\n",
       "    </tr>\n",
       "    <tr>\n",
       "      <th>2</th>\n",
       "      <td>39</td>\n",
       "      <td>1982-01-23</td>\n",
       "      <td>F</td>\n",
       "      <td>99</td>\n",
       "      <td>SEM INFORMACAO</td>\n",
       "      <td>CAMPINA GRANDE</td>\n",
       "      <td>58410</td>\n",
       "      <td>CAMPINA GRANDE</td>\n",
       "      <td>201</td>\n",
       "      <td>Pessoas de 18 a 64 anos</td>\n",
       "      <td>2</td>\n",
       "      <td>Faixa Etária</td>\n",
       "      <td>2021-07-16</td>\n",
       "      <td>1ª Dose</td>\n",
       "      <td>85</td>\n",
       "      <td>COVID-19 ASTRAZENECA/FIOCRUZ - COVISHIELD</td>\n",
       "      <td>0ffaed327aac7fe8abf0b35471b0b1fa60f9fc48ff7d9c...</td>\n",
       "    </tr>\n",
       "    <tr>\n",
       "      <th>3</th>\n",
       "      <td>33</td>\n",
       "      <td>1988-07-20</td>\n",
       "      <td>M</td>\n",
       "      <td>2</td>\n",
       "      <td>PRETA</td>\n",
       "      <td>BAYEUX</td>\n",
       "      <td>58110</td>\n",
       "      <td>BAYEUX</td>\n",
       "      <td>201</td>\n",
       "      <td>Pessoas de 18 a 64 anos</td>\n",
       "      <td>2</td>\n",
       "      <td>Faixa Etária</td>\n",
       "      <td>2021-07-23</td>\n",
       "      <td>1ª Dose</td>\n",
       "      <td>85</td>\n",
       "      <td>COVID-19 ASTRAZENECA/FIOCRUZ - COVISHIELD</td>\n",
       "      <td>fe78cee14dce3436024728b1d760439861021207a32712...</td>\n",
       "    </tr>\n",
       "    <tr>\n",
       "      <th>4</th>\n",
       "      <td>27</td>\n",
       "      <td>1994-03-22</td>\n",
       "      <td>M</td>\n",
       "      <td>3</td>\n",
       "      <td>PARDA</td>\n",
       "      <td>JOAO PESSOA</td>\n",
       "      <td>58058</td>\n",
       "      <td>JOAO PESSOA</td>\n",
       "      <td>201</td>\n",
       "      <td>Pessoas de 18 a 64 anos</td>\n",
       "      <td>2</td>\n",
       "      <td>Faixa Etária</td>\n",
       "      <td>2021-12-07</td>\n",
       "      <td>2ª Dose</td>\n",
       "      <td>87</td>\n",
       "      <td>COVID-19 PFIZER - COMIRNATY</td>\n",
       "      <td>470944c18359d6a1fea2a53194d29bfdb7ce1d21b47979...</td>\n",
       "    </tr>\n",
       "  </tbody>\n",
       "</table>\n",
       "</div>"
      ],
      "text/plain": [
       "   paciente_idade paciente_dataNascimento paciente_enumSexoBiologico  \\\n",
       "0              44              1977-04-18                          M   \n",
       "1               5              2016-11-18                          M   \n",
       "2              39              1982-01-23                          F   \n",
       "3              33              1988-07-20                          M   \n",
       "4              27              1994-03-22                          M   \n",
       "\n",
       "   paciente_racaCor_codigo paciente_racaCor_valor  \\\n",
       "0                        1                 BRANCA   \n",
       "1                        1                 BRANCA   \n",
       "2                       99         SEM INFORMACAO   \n",
       "3                        2                  PRETA   \n",
       "4                        3                  PARDA   \n",
       "\n",
       "  paciente_endereco_nmMunicipio paciente_endereco_cep  \\\n",
       "0                     ARAPIRACA                 57510   \n",
       "1                      PARELHAS                  None   \n",
       "2                CAMPINA GRANDE                 58410   \n",
       "3                        BAYEUX                 58110   \n",
       "4                   JOAO PESSOA                 58058   \n",
       "\n",
       "  estabelecimento_municipio_nome  vacina_grupoAtendimento_codigo  \\\n",
       "0                          PATOS                             912   \n",
       "1                 CAMPINA GRANDE                             207   \n",
       "2                 CAMPINA GRANDE                             201   \n",
       "3                         BAYEUX                             201   \n",
       "4                    JOAO PESSOA                             201   \n",
       "\n",
       "  vacina_grupoAtendimento_nome  vacina_categoria_codigo  \\\n",
       "0                       Médico                        9   \n",
       "1       Pessoas de 5 a 11 anos                        0   \n",
       "2      Pessoas de 18 a 64 anos                        2   \n",
       "3      Pessoas de 18 a 64 anos                        2   \n",
       "4      Pessoas de 18 a 64 anos                        2   \n",
       "\n",
       "    vacina_categoria_nome vacina_dataAplicacao vacina_descricao_dose  \\\n",
       "0  Trabalhadores de Saúde           2021-11-11               Reforço   \n",
       "1                     NaN           2022-02-07               1ª Dose   \n",
       "2            Faixa Etária           2021-07-16               1ª Dose   \n",
       "3            Faixa Etária           2021-07-23               1ª Dose   \n",
       "4            Faixa Etária           2021-12-07               2ª Dose   \n",
       "\n",
       "   vacina_codigo                                vacina_nome  \\\n",
       "0             87                COVID-19 PFIZER - COMIRNATY   \n",
       "1             99     COVID-19 PEDIÁTRICA - PFIZER COMIRNATY   \n",
       "2             85  COVID-19 ASTRAZENECA/FIOCRUZ - COVISHIELD   \n",
       "3             85  COVID-19 ASTRAZENECA/FIOCRUZ - COVISHIELD   \n",
       "4             87                COVID-19 PFIZER - COMIRNATY   \n",
       "\n",
       "                                         paciente_id  \n",
       "0  f9495cb04daf5adb495d22c9c88b31883f191fb762ab27...  \n",
       "1  52288faace8c986872faca7101868ae8a23fefd435cd51...  \n",
       "2  0ffaed327aac7fe8abf0b35471b0b1fa60f9fc48ff7d9c...  \n",
       "3  fe78cee14dce3436024728b1d760439861021207a32712...  \n",
       "4  470944c18359d6a1fea2a53194d29bfdb7ce1d21b47979...  "
      ]
     },
     "execution_count": 34,
     "metadata": {},
     "output_type": "execute_result"
    }
   ],
   "source": [
    "import pandas as pd\n",
    "import seaborn as sns\n",
    "from matplotlib import pyplot as plt\n",
    "\n",
    "vax_df = pd.read_csv(\"datasets/dados_vacinacao.csv\")\n",
    "vax_df.head(5)"
   ]
  },
  {
   "cell_type": "code",
   "execution_count": 45,
   "metadata": {},
   "outputs": [
    {
     "data": {
      "text/html": [
       "<div>\n",
       "<style scoped>\n",
       "    .dataframe tbody tr th:only-of-type {\n",
       "        vertical-align: middle;\n",
       "    }\n",
       "\n",
       "    .dataframe tbody tr th {\n",
       "        vertical-align: top;\n",
       "    }\n",
       "\n",
       "    .dataframe thead th {\n",
       "        text-align: right;\n",
       "    }\n",
       "</style>\n",
       "<table border=\"1\" class=\"dataframe\">\n",
       "  <thead>\n",
       "    <tr style=\"text-align: right;\">\n",
       "      <th></th>\n",
       "      <th>date</th>\n",
       "      <th>state</th>\n",
       "      <th>city</th>\n",
       "      <th>place_type</th>\n",
       "      <th>confirmed</th>\n",
       "      <th>deaths</th>\n",
       "      <th>is_last</th>\n",
       "      <th>estimated_population</th>\n",
       "      <th>city_ibge_code</th>\n",
       "      <th>confirmed_per_100k_inhabitants</th>\n",
       "      <th>death_rate</th>\n",
       "    </tr>\n",
       "  </thead>\n",
       "  <tbody>\n",
       "    <tr>\n",
       "      <th>0</th>\n",
       "      <td>2021-08-22</td>\n",
       "      <td>PB</td>\n",
       "      <td>Água Branca</td>\n",
       "      <td>city</td>\n",
       "      <td>1128</td>\n",
       "      <td>14</td>\n",
       "      <td>True</td>\n",
       "      <td>10306</td>\n",
       "      <td>2500106</td>\n",
       "      <td>10945.08054</td>\n",
       "      <td>0.0124</td>\n",
       "    </tr>\n",
       "    <tr>\n",
       "      <th>1</th>\n",
       "      <td>2021-08-22</td>\n",
       "      <td>PB</td>\n",
       "      <td>Aguiar</td>\n",
       "      <td>city</td>\n",
       "      <td>528</td>\n",
       "      <td>5</td>\n",
       "      <td>True</td>\n",
       "      <td>5630</td>\n",
       "      <td>2500205</td>\n",
       "      <td>9378.33037</td>\n",
       "      <td>0.0095</td>\n",
       "    </tr>\n",
       "    <tr>\n",
       "      <th>2</th>\n",
       "      <td>2021-08-22</td>\n",
       "      <td>PB</td>\n",
       "      <td>Alagoa Grande</td>\n",
       "      <td>city</td>\n",
       "      <td>4117</td>\n",
       "      <td>72</td>\n",
       "      <td>True</td>\n",
       "      <td>28439</td>\n",
       "      <td>2500304</td>\n",
       "      <td>14476.59904</td>\n",
       "      <td>0.0175</td>\n",
       "    </tr>\n",
       "    <tr>\n",
       "      <th>3</th>\n",
       "      <td>2021-08-22</td>\n",
       "      <td>PB</td>\n",
       "      <td>Alagoa Nova</td>\n",
       "      <td>city</td>\n",
       "      <td>1511</td>\n",
       "      <td>25</td>\n",
       "      <td>True</td>\n",
       "      <td>20921</td>\n",
       "      <td>2500403</td>\n",
       "      <td>7222.40811</td>\n",
       "      <td>0.0165</td>\n",
       "    </tr>\n",
       "    <tr>\n",
       "      <th>4</th>\n",
       "      <td>2021-08-22</td>\n",
       "      <td>PB</td>\n",
       "      <td>Alagoinha</td>\n",
       "      <td>city</td>\n",
       "      <td>2072</td>\n",
       "      <td>25</td>\n",
       "      <td>True</td>\n",
       "      <td>14560</td>\n",
       "      <td>2500502</td>\n",
       "      <td>14230.76923</td>\n",
       "      <td>0.0121</td>\n",
       "    </tr>\n",
       "    <tr>\n",
       "      <th>...</th>\n",
       "      <td>...</td>\n",
       "      <td>...</td>\n",
       "      <td>...</td>\n",
       "      <td>...</td>\n",
       "      <td>...</td>\n",
       "      <td>...</td>\n",
       "      <td>...</td>\n",
       "      <td>...</td>\n",
       "      <td>...</td>\n",
       "      <td>...</td>\n",
       "      <td>...</td>\n",
       "    </tr>\n",
       "    <tr>\n",
       "      <th>218</th>\n",
       "      <td>2021-08-22</td>\n",
       "      <td>PB</td>\n",
       "      <td>Umbuzeiro</td>\n",
       "      <td>city</td>\n",
       "      <td>545</td>\n",
       "      <td>14</td>\n",
       "      <td>True</td>\n",
       "      <td>9911</td>\n",
       "      <td>2517001</td>\n",
       "      <td>5498.94057</td>\n",
       "      <td>0.0257</td>\n",
       "    </tr>\n",
       "    <tr>\n",
       "      <th>219</th>\n",
       "      <td>2021-08-22</td>\n",
       "      <td>PB</td>\n",
       "      <td>Várzea</td>\n",
       "      <td>city</td>\n",
       "      <td>132</td>\n",
       "      <td>1</td>\n",
       "      <td>True</td>\n",
       "      <td>2841</td>\n",
       "      <td>2517100</td>\n",
       "      <td>4646.25132</td>\n",
       "      <td>0.0076</td>\n",
       "    </tr>\n",
       "    <tr>\n",
       "      <th>220</th>\n",
       "      <td>2021-08-22</td>\n",
       "      <td>PB</td>\n",
       "      <td>Vieirópolis</td>\n",
       "      <td>city</td>\n",
       "      <td>288</td>\n",
       "      <td>5</td>\n",
       "      <td>True</td>\n",
       "      <td>5372</td>\n",
       "      <td>2517209</td>\n",
       "      <td>5361.13179</td>\n",
       "      <td>0.0174</td>\n",
       "    </tr>\n",
       "    <tr>\n",
       "      <th>221</th>\n",
       "      <td>2021-08-22</td>\n",
       "      <td>PB</td>\n",
       "      <td>Vista Serrana</td>\n",
       "      <td>city</td>\n",
       "      <td>190</td>\n",
       "      <td>6</td>\n",
       "      <td>True</td>\n",
       "      <td>3824</td>\n",
       "      <td>2505501</td>\n",
       "      <td>4968.61925</td>\n",
       "      <td>0.0316</td>\n",
       "    </tr>\n",
       "    <tr>\n",
       "      <th>222</th>\n",
       "      <td>2021-08-22</td>\n",
       "      <td>PB</td>\n",
       "      <td>Zabelê</td>\n",
       "      <td>city</td>\n",
       "      <td>147</td>\n",
       "      <td>1</td>\n",
       "      <td>True</td>\n",
       "      <td>2255</td>\n",
       "      <td>2517407</td>\n",
       "      <td>6518.84701</td>\n",
       "      <td>0.0068</td>\n",
       "    </tr>\n",
       "  </tbody>\n",
       "</table>\n",
       "<p>223 rows × 11 columns</p>\n",
       "</div>"
      ],
      "text/plain": [
       "           date state           city place_type  confirmed  deaths  is_last  \\\n",
       "0    2021-08-22    PB    Água Branca       city       1128      14     True   \n",
       "1    2021-08-22    PB         Aguiar       city        528       5     True   \n",
       "2    2021-08-22    PB  Alagoa Grande       city       4117      72     True   \n",
       "3    2021-08-22    PB    Alagoa Nova       city       1511      25     True   \n",
       "4    2021-08-22    PB      Alagoinha       city       2072      25     True   \n",
       "..          ...   ...            ...        ...        ...     ...      ...   \n",
       "218  2021-08-22    PB      Umbuzeiro       city        545      14     True   \n",
       "219  2021-08-22    PB         Várzea       city        132       1     True   \n",
       "220  2021-08-22    PB    Vieirópolis       city        288       5     True   \n",
       "221  2021-08-22    PB  Vista Serrana       city        190       6     True   \n",
       "222  2021-08-22    PB         Zabelê       city        147       1     True   \n",
       "\n",
       "     estimated_population  city_ibge_code  confirmed_per_100k_inhabitants  \\\n",
       "0                   10306         2500106                     10945.08054   \n",
       "1                    5630         2500205                      9378.33037   \n",
       "2                   28439         2500304                     14476.59904   \n",
       "3                   20921         2500403                      7222.40811   \n",
       "4                   14560         2500502                     14230.76923   \n",
       "..                    ...             ...                             ...   \n",
       "218                  9911         2517001                      5498.94057   \n",
       "219                  2841         2517100                      4646.25132   \n",
       "220                  5372         2517209                      5361.13179   \n",
       "221                  3824         2505501                      4968.61925   \n",
       "222                  2255         2517407                      6518.84701   \n",
       "\n",
       "     death_rate  \n",
       "0        0.0124  \n",
       "1        0.0095  \n",
       "2        0.0175  \n",
       "3        0.0165  \n",
       "4        0.0121  \n",
       "..          ...  \n",
       "218      0.0257  \n",
       "219      0.0076  \n",
       "220      0.0174  \n",
       "221      0.0316  \n",
       "222      0.0068  \n",
       "\n",
       "[223 rows x 11 columns]"
      ]
     },
     "execution_count": 45,
     "metadata": {},
     "output_type": "execute_result"
    }
   ],
   "source": [
    "casos_df = pd.read_csv('datasets/dados_casos.csv')\n",
    "casos_df"
   ]
  },
  {
   "cell_type": "code",
   "execution_count": 35,
   "metadata": {},
   "outputs": [
    {
     "data": {
      "text/plain": [
       "vacina_codigo\n",
       "87    1121621\n",
       "85     783300\n",
       "86     679322\n",
       "88     113683\n",
       "99      64465\n",
       "89      42221\n",
       "98       2180\n",
       "dtype: int64"
      ]
     },
     "execution_count": 35,
     "metadata": {},
     "output_type": "execute_result"
    }
   ],
   "source": [
    "vax_df.value_counts('vacina_codigo')"
   ]
  },
  {
   "cell_type": "markdown",
   "metadata": {},
   "source": [
    "como tem dois códigos diferentes para catalogar astrazenica (85 e 89), iremos eliminar um do dicionario e adicionar as ocorrencias do outro ao primeiro"
   ]
  },
  {
   "cell_type": "code",
   "execution_count": 36,
   "metadata": {},
   "outputs": [],
   "source": [
    "vax_codigos_dict = {85: 'Astrazenica',\n",
    "                    86: 'Coronavac',\n",
    "                    87: 'Pfizer',\n",
    "                    88: 'Jansen',\n",
    "                    99: 'Pfizer pediátrica'}\n",
    "\n",
    "codigos = pd.Series(vax_codigos_dict)"
   ]
  },
  {
   "cell_type": "code",
   "execution_count": 37,
   "metadata": {},
   "outputs": [],
   "source": [
    "vax_aplicacoes_dict = {87: 421567,\n",
    "                       85: 308547,\n",
    "                       86: 254651,\n",
    "                       88: 41159,\n",
    "                       99: 21899}\n",
    "\n",
    "aplicacoes = pd.Series(vax_aplicacoes_dict)"
   ]
  },
  {
   "cell_type": "code",
   "execution_count": 38,
   "metadata": {},
   "outputs": [
    {
     "data": {
      "text/html": [
       "<div>\n",
       "<style scoped>\n",
       "    .dataframe tbody tr th:only-of-type {\n",
       "        vertical-align: middle;\n",
       "    }\n",
       "\n",
       "    .dataframe tbody tr th {\n",
       "        vertical-align: top;\n",
       "    }\n",
       "\n",
       "    .dataframe thead th {\n",
       "        text-align: right;\n",
       "    }\n",
       "</style>\n",
       "<table border=\"1\" class=\"dataframe\">\n",
       "  <thead>\n",
       "    <tr style=\"text-align: right;\">\n",
       "      <th></th>\n",
       "      <th>vacina</th>\n",
       "      <th>quantidade de doses aplicadas</th>\n",
       "    </tr>\n",
       "  </thead>\n",
       "  <tbody>\n",
       "    <tr>\n",
       "      <th>85</th>\n",
       "      <td>Astrazenica</td>\n",
       "      <td>308547</td>\n",
       "    </tr>\n",
       "    <tr>\n",
       "      <th>86</th>\n",
       "      <td>Coronavac</td>\n",
       "      <td>254651</td>\n",
       "    </tr>\n",
       "    <tr>\n",
       "      <th>87</th>\n",
       "      <td>Pfizer</td>\n",
       "      <td>421567</td>\n",
       "    </tr>\n",
       "    <tr>\n",
       "      <th>88</th>\n",
       "      <td>Jansen</td>\n",
       "      <td>41159</td>\n",
       "    </tr>\n",
       "    <tr>\n",
       "      <th>99</th>\n",
       "      <td>Pfizer pediátrica</td>\n",
       "      <td>21899</td>\n",
       "    </tr>\n",
       "  </tbody>\n",
       "</table>\n",
       "</div>"
      ],
      "text/plain": [
       "               vacina  quantidade de doses aplicadas\n",
       "85        Astrazenica                         308547\n",
       "86          Coronavac                         254651\n",
       "87             Pfizer                         421567\n",
       "88             Jansen                          41159\n",
       "99  Pfizer pediátrica                          21899"
      ]
     },
     "execution_count": 38,
     "metadata": {},
     "output_type": "execute_result"
    }
   ],
   "source": [
    "vax_aplicadas = pd.DataFrame({\"vacina\":codigos, \"quantidade de doses aplicadas\": aplicacoes})\n",
    "vax_aplicadas"
   ]
  },
  {
   "cell_type": "markdown",
   "metadata": {},
   "source": [
    "Vemos pelo gráfico que a vacina mais aplicada na paraíba foi a Pfizer, sgeuida pela"
   ]
  },
  {
   "cell_type": "code",
   "execution_count": 39,
   "metadata": {},
   "outputs": [
    {
     "data": {
      "text/plain": [
       "<AxesSubplot:xlabel='vacina', ylabel='quantidade de doses aplicadas'>"
      ]
     },
     "execution_count": 39,
     "metadata": {},
     "output_type": "execute_result"
    },
    {
     "data": {
      "image/png": "[encoded data removed]",
      "text/plain": [
       "<Figure size 640x480 with 1 Axes>"
      ]
     },
     "metadata": {},
     "output_type": "display_data"
    }
   ],
   "source": [
    "sns.barplot(data=vax_aplicadas, x='vacina', y='quantidade de doses aplicadas')"
   ]
  },
  {
   "cell_type": "code",
   "execution_count": 40,
   "metadata": {},
   "outputs": [
    {
     "data": {
      "text/plain": [
       "paciente_enumSexoBiologico\n",
       "F    1506616\n",
       "M    1300158\n",
       "I         16\n",
       "dtype: int64"
      ]
     },
     "execution_count": 40,
     "metadata": {},
     "output_type": "execute_result"
    }
   ],
   "source": [
    "vax_df.value_counts('paciente_enumSexoBiologico')"
   ]
  },
  {
   "cell_type": "code",
   "execution_count": 41,
   "metadata": {},
   "outputs": [
    {
     "data": {
      "text/plain": [
       "paciente_racaCor_valor\n",
       "PARDA             1040425\n",
       "BRANCA             664898\n",
       "AMARELA            593652\n",
       "SEM INFORMACAO     391266\n",
       "PRETA              105218\n",
       "INDIGENA            11331\n",
       "dtype: int64"
      ]
     },
     "execution_count": 41,
     "metadata": {},
     "output_type": "execute_result"
    }
   ],
   "source": [
    "et_count = vax_df.value_counts('paciente_racaCor_valor')\n",
    "et_count"
   ]
  },
  {
   "cell_type": "code",
   "execution_count": 42,
   "metadata": {},
   "outputs": [
    {
     "data": {
      "text/plain": [
       "Text(0, 0.5, 'Etnia')"
      ]
     },
     "execution_count": 42,
     "metadata": {},
     "output_type": "execute_result"
    },
    {
     "data": {
      "image/png": "[encoded data removed]",
      "text/plain": [
       "<Figure size 640x480 with 1 Axes>"
      ]
     },
     "metadata": {},
     "output_type": "display_data"
    }
   ],
   "source": [
    "fig = sns.histplot(data= vax_df, y= 'paciente_racaCor_valor')\n",
    "fig.set_xlabel('Nº de vacinados em milhoẽs de habitantes')\n",
    "fig.set_ylabel('Etnia')"
   ]
  },
  {
   "cell_type": "markdown",
   "metadata": {},
   "source": [
    "A partir da leitura do gráfico, percebemos que os municípios com a menor quantidade de casos confirmados a cada 100 mil habitantes possuem a maior mortalidade. Tendo em mente que o cálculo da mortaliadade é feito dividindo o número de mortos pelo número de casos confirmados, os municípios que testaram menos possuirão uma mortalidade acentuada em consequência de uma provável subnotificação de casos. Aumentando a mortalidade, que é inversamente proporcional ao número de casos confirmados."
   ]
  },
  {
   "cell_type": "code",
   "execution_count": 56,
   "metadata": {},
   "outputs": [
    {
     "data": {
      "text/plain": [
       "Text(0, 0.5, 'Mortalidade por quantidade de casos')"
      ]
     },
     "execution_count": 56,
     "metadata": {},
     "output_type": "execute_result"
    },
    {
     "data": {
      "image/png": "[encoded data removed]",
      "text/plain": [
       "<Figure size 640x480 with 1 Axes>"
      ]
     },
     "metadata": {},
     "output_type": "display_data"
    }
   ],
   "source": [
    "lin_drt = sns.lineplot(data = casos_df, x = 'confirmed_per_100k_inhabitants', y = 'death_rate', color= 'black')\n",
    "lin_drt.set_xlabel('Casos a cada 100 mil habitantes')\n",
    "lin_drt.set_ylabel('Mortalidade por quantidade de casos')"
   ]
  }
 ],
 "metadata": {
  "interpreter": {
   "hash": "916dbcbb3f70747c44a77c7bcd40155683ae19c65e1c03b4aa3499c5328201f1"
  },
  "kernelspec": {
   "display_name": "Python 3.8.10 64-bit",
   "language": "python",
   "name": "python3"
  },
  "language_info": {
   "codemirror_mode": {
    "name": "ipython",
    "version": 3
   },
   "file_extension": ".py",
   "mimetype": "text/x-python",
   "name": "python",
   "nbconvert_exporter": "python",
   "pygments_lexer": "ipython3",
   "version": "3.8.10"
  },
  "orig_nbformat": 4
 },
 "nbformat": 4,
 "nbformat_minor": 2
}
