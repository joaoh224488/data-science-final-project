{
 "cells": [
  {
   "cell_type": "code",
   "execution_count": 16,
   "metadata": {},
   "outputs": [
    {
     "data": {
      "text/html": [
       "<div>\n",
       "<style scoped>\n",
       "    .dataframe tbody tr th:only-of-type {\n",
       "        vertical-align: middle;\n",
       "    }\n",
       "\n",
       "    .dataframe tbody tr th {\n",
       "        vertical-align: top;\n",
       "    }\n",
       "\n",
       "    .dataframe thead th {\n",
       "        text-align: right;\n",
       "    }\n",
       "</style>\n",
       "<table border=\"1\" class=\"dataframe\">\n",
       "  <thead>\n",
       "    <tr style=\"text-align: right;\">\n",
       "      <th></th>\n",
       "      <th>paciente_idade</th>\n",
       "      <th>paciente_dataNascimento</th>\n",
       "      <th>paciente_enumSexoBiologico</th>\n",
       "      <th>paciente_racaCor_codigo</th>\n",
       "      <th>paciente_racaCor_valor</th>\n",
       "      <th>paciente_endereco_nmMunicipio</th>\n",
       "      <th>paciente_endereco_cep</th>\n",
       "      <th>estabelecimento_municipio_nome</th>\n",
       "      <th>vacina_categoria_codigo</th>\n",
       "      <th>vacina_categoria_nome</th>\n",
       "      <th>vacina_dataAplicacao</th>\n",
       "      <th>vacina_descricao_dose</th>\n",
       "      <th>vacina_codigo</th>\n",
       "      <th>paciente_id</th>\n",
       "    </tr>\n",
       "  </thead>\n",
       "  <tbody>\n",
       "    <tr>\n",
       "      <th>0</th>\n",
       "      <td>75.0</td>\n",
       "      <td>1945-08-21</td>\n",
       "      <td>F</td>\n",
       "      <td>99.0</td>\n",
       "      <td>SEM INFORMACAO</td>\n",
       "      <td>CAMPINA GRANDE</td>\n",
       "      <td>58400</td>\n",
       "      <td>CAMPINA GRANDE</td>\n",
       "      <td>2.0</td>\n",
       "      <td>Faixa Etária</td>\n",
       "      <td>2021-03-23</td>\n",
       "      <td>1ª Dose</td>\n",
       "      <td>86</td>\n",
       "      <td>ab6e7a0a8a6d54873f827405061d6762b8a838f5aef5d2...</td>\n",
       "    </tr>\n",
       "    <tr>\n",
       "      <th>1</th>\n",
       "      <td>54.0</td>\n",
       "      <td>1967-04-29</td>\n",
       "      <td>M</td>\n",
       "      <td>99.0</td>\n",
       "      <td>SEM INFORMACAO</td>\n",
       "      <td>CAMPINA GRANDE</td>\n",
       "      <td>58441</td>\n",
       "      <td>CAMPINA GRANDE</td>\n",
       "      <td>2.0</td>\n",
       "      <td>Faixa Etária</td>\n",
       "      <td>2021-07-23</td>\n",
       "      <td>2ª Dose</td>\n",
       "      <td>86</td>\n",
       "      <td>2df15799ec1d98adf957644142cf1b33da5eed86b29192...</td>\n",
       "    </tr>\n",
       "    <tr>\n",
       "      <th>2</th>\n",
       "      <td>38.0</td>\n",
       "      <td>1983-07-18</td>\n",
       "      <td>F</td>\n",
       "      <td>3.0</td>\n",
       "      <td>PARDA</td>\n",
       "      <td>JOAO PESSOA</td>\n",
       "      <td>58058</td>\n",
       "      <td>JOAO PESSOA</td>\n",
       "      <td>2.0</td>\n",
       "      <td>Faixa Etária</td>\n",
       "      <td>2022-03-07</td>\n",
       "      <td>Reforço</td>\n",
       "      <td>88</td>\n",
       "      <td>39c6a9cd8006a46fa554ca4253d4286a8f338582ac0c47...</td>\n",
       "    </tr>\n",
       "    <tr>\n",
       "      <th>3</th>\n",
       "      <td>27.0</td>\n",
       "      <td>1994-05-20</td>\n",
       "      <td>M</td>\n",
       "      <td>1.0</td>\n",
       "      <td>BRANCA</td>\n",
       "      <td>SANTA RITA</td>\n",
       "      <td>58300</td>\n",
       "      <td>SANTA RITA</td>\n",
       "      <td>2.0</td>\n",
       "      <td>Faixa Etária</td>\n",
       "      <td>2021-08-12</td>\n",
       "      <td>1ª Dose</td>\n",
       "      <td>87</td>\n",
       "      <td>f69f0b6a6b8d69512e8d3075a298301a16a86b7bb116ee...</td>\n",
       "    </tr>\n",
       "    <tr>\n",
       "      <th>4</th>\n",
       "      <td>102.0</td>\n",
       "      <td>1919-02-03</td>\n",
       "      <td>F</td>\n",
       "      <td>4.0</td>\n",
       "      <td>AMARELA</td>\n",
       "      <td>PRINCESA ISABEL</td>\n",
       "      <td>58755</td>\n",
       "      <td>PRINCESA ISABEL</td>\n",
       "      <td>2.0</td>\n",
       "      <td>Faixa Etária</td>\n",
       "      <td>2021-09-20</td>\n",
       "      <td>Reforço</td>\n",
       "      <td>87</td>\n",
       "      <td>35594e7cf93a021341142184af01b806ef1f36e4ddca71...</td>\n",
       "    </tr>\n",
       "  </tbody>\n",
       "</table>\n",
       "</div>"
      ],
      "text/plain": [
       "   paciente_idade paciente_dataNascimento paciente_enumSexoBiologico  \\\n",
       "0            75.0              1945-08-21                          F   \n",
       "1            54.0              1967-04-29                          M   \n",
       "2            38.0              1983-07-18                          F   \n",
       "3            27.0              1994-05-20                          M   \n",
       "4           102.0              1919-02-03                          F   \n",
       "\n",
       "   paciente_racaCor_codigo paciente_racaCor_valor  \\\n",
       "0                     99.0         SEM INFORMACAO   \n",
       "1                     99.0         SEM INFORMACAO   \n",
       "2                      3.0                  PARDA   \n",
       "3                      1.0                 BRANCA   \n",
       "4                      4.0                AMARELA   \n",
       "\n",
       "  paciente_endereco_nmMunicipio paciente_endereco_cep  \\\n",
       "0                CAMPINA GRANDE                 58400   \n",
       "1                CAMPINA GRANDE                 58441   \n",
       "2                   JOAO PESSOA                 58058   \n",
       "3                    SANTA RITA                 58300   \n",
       "4               PRINCESA ISABEL                 58755   \n",
       "\n",
       "  estabelecimento_municipio_nome  vacina_categoria_codigo  \\\n",
       "0                 CAMPINA GRANDE                      2.0   \n",
       "1                 CAMPINA GRANDE                      2.0   \n",
       "2                    JOAO PESSOA                      2.0   \n",
       "3                     SANTA RITA                      2.0   \n",
       "4                PRINCESA ISABEL                      2.0   \n",
       "\n",
       "  vacina_categoria_nome vacina_dataAplicacao vacina_descricao_dose  \\\n",
       "0          Faixa Etária           2021-03-23               1ª Dose   \n",
       "1          Faixa Etária           2021-07-23               2ª Dose   \n",
       "2          Faixa Etária           2022-03-07               Reforço   \n",
       "3          Faixa Etária           2021-08-12               1ª Dose   \n",
       "4          Faixa Etária           2021-09-20               Reforço   \n",
       "\n",
       "   vacina_codigo                                        paciente_id  \n",
       "0             86  ab6e7a0a8a6d54873f827405061d6762b8a838f5aef5d2...  \n",
       "1             86  2df15799ec1d98adf957644142cf1b33da5eed86b29192...  \n",
       "2             88  39c6a9cd8006a46fa554ca4253d4286a8f338582ac0c47...  \n",
       "3             87  f69f0b6a6b8d69512e8d3075a298301a16a86b7bb116ee...  \n",
       "4             87  35594e7cf93a021341142184af01b806ef1f36e4ddca71...  "
      ]
     },
     "execution_count": 16,
     "metadata": {},
     "output_type": "execute_result"
    }
   ],
   "source": [
    "import pandas as pd\n",
    "import seaborn as sns\n",
    "from matplotlib import pyplot as plt\n",
    "\n",
    "vax_df = pd.read_csv(\"datasets/dados_vacinacao.csv\")\n",
    "vax_df.head(5)"
   ]
  },
  {
   "cell_type": "code",
   "execution_count": 2,
   "metadata": {},
   "outputs": [
    {
     "data": {
      "text/plain": [
       "vacina_codigo\n",
       "87    1111977\n",
       "85     770495\n",
       "86     672553\n",
       "88     109222\n",
       "99      60422\n",
       "89      42201\n",
       "98       2104\n",
       "dtype: int64"
      ]
     },
     "execution_count": 2,
     "metadata": {},
     "output_type": "execute_result"
    }
   ],
   "source": [
    "vax_df.value_counts('vacina_codigo')"
   ]
  },
  {
   "cell_type": "markdown",
   "metadata": {},
   "source": [
    "como tem dois códigos diferentes para catalogar astrazenica (85 e 89), iremos eliminar um do dicionario e adicionar as ocorrencias do outro ao primeiro"
   ]
  },
  {
   "cell_type": "code",
   "execution_count": 3,
   "metadata": {},
   "outputs": [],
   "source": [
    "vax_codigos_dict = {85: 'Astrazenica',\n",
    "                    86: 'Coronavac',\n",
    "                    87: 'Pfizer',\n",
    "                    88: 'Jansen',\n",
    "                    99: 'Pfizer pediátrica'}\n",
    "\n",
    "codigos = pd.Series(vax_codigos_dict)"
   ]
  },
  {
   "cell_type": "code",
   "execution_count": 4,
   "metadata": {},
   "outputs": [],
   "source": [
    "vax_aplicacoes_dict = {87: 421567,\n",
    "                       85: 308547,\n",
    "                       86: 254651,\n",
    "                       88: 41159,\n",
    "                       99: 21899}\n",
    "\n",
    "aplicacoes = pd.Series(vax_aplicacoes_dict)"
   ]
  },
  {
   "cell_type": "code",
   "execution_count": 5,
   "metadata": {},
   "outputs": [
    {
     "data": {
      "text/html": [
       "<div>\n",
       "<style scoped>\n",
       "    .dataframe tbody tr th:only-of-type {\n",
       "        vertical-align: middle;\n",
       "    }\n",
       "\n",
       "    .dataframe tbody tr th {\n",
       "        vertical-align: top;\n",
       "    }\n",
       "\n",
       "    .dataframe thead th {\n",
       "        text-align: right;\n",
       "    }\n",
       "</style>\n",
       "<table border=\"1\" class=\"dataframe\">\n",
       "  <thead>\n",
       "    <tr style=\"text-align: right;\">\n",
       "      <th></th>\n",
       "      <th>vacina</th>\n",
       "      <th>quantidade de doses aplicadas</th>\n",
       "    </tr>\n",
       "  </thead>\n",
       "  <tbody>\n",
       "    <tr>\n",
       "      <th>85</th>\n",
       "      <td>Astrazenica</td>\n",
       "      <td>308547</td>\n",
       "    </tr>\n",
       "    <tr>\n",
       "      <th>86</th>\n",
       "      <td>Coronavac</td>\n",
       "      <td>254651</td>\n",
       "    </tr>\n",
       "    <tr>\n",
       "      <th>87</th>\n",
       "      <td>Pfizer</td>\n",
       "      <td>421567</td>\n",
       "    </tr>\n",
       "    <tr>\n",
       "      <th>88</th>\n",
       "      <td>Jansen</td>\n",
       "      <td>41159</td>\n",
       "    </tr>\n",
       "    <tr>\n",
       "      <th>99</th>\n",
       "      <td>Pfizer pediátrica</td>\n",
       "      <td>21899</td>\n",
       "    </tr>\n",
       "  </tbody>\n",
       "</table>\n",
       "</div>"
      ],
      "text/plain": [
       "               vacina  quantidade de doses aplicadas\n",
       "85        Astrazenica                         308547\n",
       "86          Coronavac                         254651\n",
       "87             Pfizer                         421567\n",
       "88             Jansen                          41159\n",
       "99  Pfizer pediátrica                          21899"
      ]
     },
     "execution_count": 5,
     "metadata": {},
     "output_type": "execute_result"
    }
   ],
   "source": [
    "vax_aplicadas = pd.DataFrame({\"vacina\":codigos, \"quantidade de doses aplicadas\": aplicacoes})\n",
    "vax_aplicadas"
   ]
  },
  {
   "cell_type": "code",
   "execution_count": 6,
   "metadata": {},
   "outputs": [
    {
     "data": {
      "text/plain": [
       "<AxesSubplot:xlabel='vacina', ylabel='quantidade de doses aplicadas'>"
      ]
     },
     "execution_count": 6,
     "metadata": {},
     "output_type": "execute_result"
    },
    {
     "data": {
      "image/png": "[encoded data removed]",
      "text/plain": [
       "<Figure size 432x288 with 1 Axes>"
      ]
     },
     "metadata": {
      "needs_background": "light"
     },
     "output_type": "display_data"
    }
   ],
   "source": [
    "sns.barplot(data=vax_aplicadas, x='vacina', y='quantidade de doses aplicadas')"
   ]
  },
  {
   "cell_type": "code",
   "execution_count": 7,
   "metadata": {},
   "outputs": [
    {
     "data": {
      "text/plain": [
       "paciente_enumSexoBiologico\n",
       "F    1486850\n",
       "M    1282109\n",
       "I         13\n",
       "dtype: int64"
      ]
     },
     "execution_count": 7,
     "metadata": {},
     "output_type": "execute_result"
    }
   ],
   "source": [
    "vax_df.value_counts('paciente_enumSexoBiologico')"
   ]
  },
  {
   "cell_type": "code",
   "execution_count": 12,
   "metadata": {},
   "outputs": [
    {
     "data": {
      "text/plain": [
       "paciente_racaCor_valor\n",
       "PARDA             1024186\n",
       "BRANCA             655883\n",
       "AMARELA            586599\n",
       "SEM INFORMACAO     387295\n",
       "PRETA              103884\n",
       "INDIGENA            11125\n",
       "dtype: int64"
      ]
     },
     "execution_count": 12,
     "metadata": {},
     "output_type": "execute_result"
    }
   ],
   "source": [
    "et_count = vax_df.value_counts('paciente_racaCor_valor')\n",
    "et_count"
   ]
  },
  {
   "cell_type": "code",
   "execution_count": 38,
   "metadata": {},
   "outputs": [
    {
     "data": {
      "text/plain": [
       "<seaborn.axisgrid.FacetGrid at 0x7f757052f1c0>"
      ]
     },
     "execution_count": 38,
     "metadata": {},
     "output_type": "execute_result"
    },
    {
     "data": {
      "image/png": "[encoded data removed]",
      "text/plain": [
       "<Figure size 360x360 with 1 Axes>"
      ]
     },
     "metadata": {
      "needs_background": "light"
     },
     "output_type": "display_data"
    }
   ],
   "source": [
    "fig = sns.displot(data= vax_df, y= 'paciente_racaCor_valor')\n",
    "fig.set_axis_labels(x_var= 'Nº de vacinados por milhão', y_var= 'Etnia')\n",
    "fig.set_titles('Número de vacinados por Etnia')"
   ]
  },
  {
   "cell_type": "code",
   "execution_count": 33,
   "metadata": {},
   "outputs": [
    {
     "data": {
      "text/plain": [
       "array(['Faixa Etária', 'Comorbidades', 'Trabalhadores de Saúde',\n",
       "       'Povos Indígenas', nan, 'Trabalhadores da Educação',\n",
       "       'População Privada de Liberdade', 'Gestantes',\n",
       "       'Pessoas de 60 anos ou mais institucionalizadas',\n",
       "       'Pessoas com Deficiência', 'Povos e Comunidades Tradicionais',\n",
       "       'Trabalhadores de Transporte', 'Forças de Segurança e Salvamento',\n",
       "       'Trabalhadores Industriais', 'Pessoas em Situação de Rua',\n",
       "       'Puérperas', 'Trabalhadores de Limpeza Urbana', 'Outros',\n",
       "       'Forças Armadas (membros ativos)',\n",
       "       'Funcionário do Sistema de Privação de Liberdade',\n",
       "       'Trabalhadores Portuários'], dtype=object)"
      ]
     },
     "execution_count": 33,
     "metadata": {},
     "output_type": "execute_result"
    }
   ],
   "source": [
    "vax_df.vacina_categoria_nome.unique()"
   ]
  }
 ],
 "metadata": {
  "interpreter": {
   "hash": "916dbcbb3f70747c44a77c7bcd40155683ae19c65e1c03b4aa3499c5328201f1"
  },
  "kernelspec": {
   "display_name": "Python 3.8.10 64-bit",
   "language": "python",
   "name": "python3"
  },
  "language_info": {
   "codemirror_mode": {
    "name": "ipython",
    "version": 3
   },
   "file_extension": ".py",
   "mimetype": "text/x-python",
   "name": "python",
   "nbconvert_exporter": "python",
   "pygments_lexer": "ipython3",
   "version": "3.9.7"
  },
  "orig_nbformat": 4
 },
 "nbformat": 4,
 "nbformat_minor": 2
}
