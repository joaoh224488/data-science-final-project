{
 "cells": [
  {
   "cell_type": "markdown",
   "metadata": {},
   "source": [
    "## Tratamento dos Dados"
   ]
  },
  {
   "cell_type": "code",
   "execution_count": 110,
   "metadata": {},
   "outputs": [
    {
     "data": {
      "text/html": [
       "<div>\n",
       "<style scoped>\n",
       "    .dataframe tbody tr th:only-of-type {\n",
       "        vertical-align: middle;\n",
       "    }\n",
       "\n",
       "    .dataframe tbody tr th {\n",
       "        vertical-align: top;\n",
       "    }\n",
       "\n",
       "    .dataframe thead th {\n",
       "        text-align: right;\n",
       "    }\n",
       "</style>\n",
       "<table border=\"1\" class=\"dataframe\">\n",
       "  <thead>\n",
       "    <tr style=\"text-align: right;\">\n",
       "      <th></th>\n",
       "      <th>paciente_idade</th>\n",
       "      <th>paciente_dataNascimento</th>\n",
       "      <th>paciente_enumSexoBiologico</th>\n",
       "      <th>paciente_racaCor_codigo</th>\n",
       "      <th>paciente_racaCor_valor</th>\n",
       "      <th>paciente_endereco_nmMunicipio</th>\n",
       "      <th>paciente_endereco_cep</th>\n",
       "      <th>estabelecimento_municipio_nome</th>\n",
       "      <th>vacina_grupoAtendimento_codigo</th>\n",
       "      <th>vacina_grupoAtendimento_nome</th>\n",
       "      <th>vacina_categoria_codigo</th>\n",
       "      <th>vacina_categoria_nome</th>\n",
       "      <th>vacina_dataAplicacao</th>\n",
       "      <th>vacina_descricao_dose</th>\n",
       "      <th>vacina_codigo</th>\n",
       "      <th>vacina_nome</th>\n",
       "      <th>paciente_id</th>\n",
       "    </tr>\n",
       "  </thead>\n",
       "  <tbody>\n",
       "    <tr>\n",
       "      <th>0</th>\n",
       "      <td>44</td>\n",
       "      <td>1977-04-18</td>\n",
       "      <td>M</td>\n",
       "      <td>1</td>\n",
       "      <td>BRANCA</td>\n",
       "      <td>ARAPIRACA</td>\n",
       "      <td>57510</td>\n",
       "      <td>PATOS</td>\n",
       "      <td>912</td>\n",
       "      <td>Médico</td>\n",
       "      <td>9</td>\n",
       "      <td>Trabalhadores de Saúde</td>\n",
       "      <td>2021-11-11</td>\n",
       "      <td>Reforço</td>\n",
       "      <td>87</td>\n",
       "      <td>COVID-19 PFIZER - COMIRNATY</td>\n",
       "      <td>f9495cb04daf5adb495d22c9c88b31883f191fb762ab27...</td>\n",
       "    </tr>\n",
       "    <tr>\n",
       "      <th>1</th>\n",
       "      <td>5</td>\n",
       "      <td>2016-11-18</td>\n",
       "      <td>M</td>\n",
       "      <td>1</td>\n",
       "      <td>BRANCA</td>\n",
       "      <td>PARELHAS</td>\n",
       "      <td>None</td>\n",
       "      <td>CAMPINA GRANDE</td>\n",
       "      <td>207</td>\n",
       "      <td>Pessoas de 5 a 11 anos</td>\n",
       "      <td>0</td>\n",
       "      <td>NaN</td>\n",
       "      <td>2022-02-07</td>\n",
       "      <td>1ª Dose</td>\n",
       "      <td>99</td>\n",
       "      <td>COVID-19 PEDIÁTRICA - PFIZER COMIRNATY</td>\n",
       "      <td>52288faace8c986872faca7101868ae8a23fefd435cd51...</td>\n",
       "    </tr>\n",
       "    <tr>\n",
       "      <th>2</th>\n",
       "      <td>39</td>\n",
       "      <td>1982-01-23</td>\n",
       "      <td>F</td>\n",
       "      <td>99</td>\n",
       "      <td>SEM INFORMACAO</td>\n",
       "      <td>CAMPINA GRANDE</td>\n",
       "      <td>58410</td>\n",
       "      <td>CAMPINA GRANDE</td>\n",
       "      <td>201</td>\n",
       "      <td>Pessoas de 18 a 64 anos</td>\n",
       "      <td>2</td>\n",
       "      <td>Faixa Etária</td>\n",
       "      <td>2021-07-16</td>\n",
       "      <td>1ª Dose</td>\n",
       "      <td>85</td>\n",
       "      <td>COVID-19 ASTRAZENECA/FIOCRUZ - COVISHIELD</td>\n",
       "      <td>0ffaed327aac7fe8abf0b35471b0b1fa60f9fc48ff7d9c...</td>\n",
       "    </tr>\n",
       "    <tr>\n",
       "      <th>3</th>\n",
       "      <td>33</td>\n",
       "      <td>1988-07-20</td>\n",
       "      <td>M</td>\n",
       "      <td>2</td>\n",
       "      <td>PRETA</td>\n",
       "      <td>BAYEUX</td>\n",
       "      <td>58110</td>\n",
       "      <td>BAYEUX</td>\n",
       "      <td>201</td>\n",
       "      <td>Pessoas de 18 a 64 anos</td>\n",
       "      <td>2</td>\n",
       "      <td>Faixa Etária</td>\n",
       "      <td>2021-07-23</td>\n",
       "      <td>1ª Dose</td>\n",
       "      <td>85</td>\n",
       "      <td>COVID-19 ASTRAZENECA/FIOCRUZ - COVISHIELD</td>\n",
       "      <td>fe78cee14dce3436024728b1d760439861021207a32712...</td>\n",
       "    </tr>\n",
       "    <tr>\n",
       "      <th>4</th>\n",
       "      <td>27</td>\n",
       "      <td>1994-03-22</td>\n",
       "      <td>M</td>\n",
       "      <td>3</td>\n",
       "      <td>PARDA</td>\n",
       "      <td>JOAO PESSOA</td>\n",
       "      <td>58058</td>\n",
       "      <td>JOAO PESSOA</td>\n",
       "      <td>201</td>\n",
       "      <td>Pessoas de 18 a 64 anos</td>\n",
       "      <td>2</td>\n",
       "      <td>Faixa Etária</td>\n",
       "      <td>2021-12-07</td>\n",
       "      <td>2ª Dose</td>\n",
       "      <td>87</td>\n",
       "      <td>COVID-19 PFIZER - COMIRNATY</td>\n",
       "      <td>470944c18359d6a1fea2a53194d29bfdb7ce1d21b47979...</td>\n",
       "    </tr>\n",
       "  </tbody>\n",
       "</table>\n",
       "</div>"
      ],
      "text/plain": [
       "   paciente_idade paciente_dataNascimento paciente_enumSexoBiologico  \\\n",
       "0              44              1977-04-18                          M   \n",
       "1               5              2016-11-18                          M   \n",
       "2              39              1982-01-23                          F   \n",
       "3              33              1988-07-20                          M   \n",
       "4              27              1994-03-22                          M   \n",
       "\n",
       "   paciente_racaCor_codigo paciente_racaCor_valor  \\\n",
       "0                        1                 BRANCA   \n",
       "1                        1                 BRANCA   \n",
       "2                       99         SEM INFORMACAO   \n",
       "3                        2                  PRETA   \n",
       "4                        3                  PARDA   \n",
       "\n",
       "  paciente_endereco_nmMunicipio paciente_endereco_cep  \\\n",
       "0                     ARAPIRACA                 57510   \n",
       "1                      PARELHAS                  None   \n",
       "2                CAMPINA GRANDE                 58410   \n",
       "3                        BAYEUX                 58110   \n",
       "4                   JOAO PESSOA                 58058   \n",
       "\n",
       "  estabelecimento_municipio_nome  vacina_grupoAtendimento_codigo  \\\n",
       "0                          PATOS                             912   \n",
       "1                 CAMPINA GRANDE                             207   \n",
       "2                 CAMPINA GRANDE                             201   \n",
       "3                         BAYEUX                             201   \n",
       "4                    JOAO PESSOA                             201   \n",
       "\n",
       "  vacina_grupoAtendimento_nome  vacina_categoria_codigo  \\\n",
       "0                       Médico                        9   \n",
       "1       Pessoas de 5 a 11 anos                        0   \n",
       "2      Pessoas de 18 a 64 anos                        2   \n",
       "3      Pessoas de 18 a 64 anos                        2   \n",
       "4      Pessoas de 18 a 64 anos                        2   \n",
       "\n",
       "    vacina_categoria_nome vacina_dataAplicacao vacina_descricao_dose  \\\n",
       "0  Trabalhadores de Saúde           2021-11-11               Reforço   \n",
       "1                     NaN           2022-02-07               1ª Dose   \n",
       "2            Faixa Etária           2021-07-16               1ª Dose   \n",
       "3            Faixa Etária           2021-07-23               1ª Dose   \n",
       "4            Faixa Etária           2021-12-07               2ª Dose   \n",
       "\n",
       "   vacina_codigo                                vacina_nome  \\\n",
       "0             87                COVID-19 PFIZER - COMIRNATY   \n",
       "1             99     COVID-19 PEDIÁTRICA - PFIZER COMIRNATY   \n",
       "2             85  COVID-19 ASTRAZENECA/FIOCRUZ - COVISHIELD   \n",
       "3             85  COVID-19 ASTRAZENECA/FIOCRUZ - COVISHIELD   \n",
       "4             87                COVID-19 PFIZER - COMIRNATY   \n",
       "\n",
       "                                         paciente_id  \n",
       "0  f9495cb04daf5adb495d22c9c88b31883f191fb762ab27...  \n",
       "1  52288faace8c986872faca7101868ae8a23fefd435cd51...  \n",
       "2  0ffaed327aac7fe8abf0b35471b0b1fa60f9fc48ff7d9c...  \n",
       "3  fe78cee14dce3436024728b1d760439861021207a32712...  \n",
       "4  470944c18359d6a1fea2a53194d29bfdb7ce1d21b47979...  "
      ]
     },
     "execution_count": 110,
     "metadata": {},
     "output_type": "execute_result"
    }
   ],
   "source": [
    "import pandas as pd\n",
    "import seaborn as sns\n",
    "from matplotlib import pyplot as plt\n",
    "import re\n",
    "\n",
    "vax_df = pd.read_csv(\"datasets/dados_vacinacao.csv\")\n",
    "vax_df.head(5)"
   ]
  },
  {
   "cell_type": "code",
   "execution_count": 3,
   "metadata": {},
   "outputs": [
    {
     "data": {
      "text/html": [
       "<div>\n",
       "<style scoped>\n",
       "    .dataframe tbody tr th:only-of-type {\n",
       "        vertical-align: middle;\n",
       "    }\n",
       "\n",
       "    .dataframe tbody tr th {\n",
       "        vertical-align: top;\n",
       "    }\n",
       "\n",
       "    .dataframe thead th {\n",
       "        text-align: right;\n",
       "    }\n",
       "</style>\n",
       "<table border=\"1\" class=\"dataframe\">\n",
       "  <thead>\n",
       "    <tr style=\"text-align: right;\">\n",
       "      <th></th>\n",
       "      <th>date</th>\n",
       "      <th>state</th>\n",
       "      <th>city</th>\n",
       "      <th>place_type</th>\n",
       "      <th>confirmed</th>\n",
       "      <th>deaths</th>\n",
       "      <th>is_last</th>\n",
       "      <th>estimated_population</th>\n",
       "      <th>city_ibge_code</th>\n",
       "      <th>confirmed_per_100k_inhabitants</th>\n",
       "      <th>death_rate</th>\n",
       "    </tr>\n",
       "  </thead>\n",
       "  <tbody>\n",
       "    <tr>\n",
       "      <th>0</th>\n",
       "      <td>2021-08-22</td>\n",
       "      <td>PB</td>\n",
       "      <td>Água Branca</td>\n",
       "      <td>city</td>\n",
       "      <td>1128</td>\n",
       "      <td>14</td>\n",
       "      <td>True</td>\n",
       "      <td>10306</td>\n",
       "      <td>2500106</td>\n",
       "      <td>10945.08054</td>\n",
       "      <td>0.0124</td>\n",
       "    </tr>\n",
       "    <tr>\n",
       "      <th>1</th>\n",
       "      <td>2021-08-22</td>\n",
       "      <td>PB</td>\n",
       "      <td>Aguiar</td>\n",
       "      <td>city</td>\n",
       "      <td>528</td>\n",
       "      <td>5</td>\n",
       "      <td>True</td>\n",
       "      <td>5630</td>\n",
       "      <td>2500205</td>\n",
       "      <td>9378.33037</td>\n",
       "      <td>0.0095</td>\n",
       "    </tr>\n",
       "  </tbody>\n",
       "</table>\n",
       "</div>"
      ],
      "text/plain": [
       "         date state         city place_type  confirmed  deaths  is_last  \\\n",
       "0  2021-08-22    PB  Água Branca       city       1128      14     True   \n",
       "1  2021-08-22    PB       Aguiar       city        528       5     True   \n",
       "\n",
       "   estimated_population  city_ibge_code  confirmed_per_100k_inhabitants  \\\n",
       "0                 10306         2500106                     10945.08054   \n",
       "1                  5630         2500205                      9378.33037   \n",
       "\n",
       "   death_rate  \n",
       "0      0.0124  \n",
       "1      0.0095  "
      ]
     },
     "execution_count": 3,
     "metadata": {},
     "output_type": "execute_result"
    }
   ],
   "source": [
    "casos_df = pd.read_csv('datasets/dados_casos.csv')\n",
    "casos_df.head(2)"
   ]
  },
  {
   "cell_type": "code",
   "execution_count": 111,
   "metadata": {},
   "outputs": [],
   "source": [
    "vax_df.loc[(vax_df.vacina_nome == 'COVID-19 ASTRAZENECA - ChAdOx1-S') | (vax_df.vacina_nome == 'COVID-19 ASTRAZENECA/FIOCRUZ - COVISHIELD'), 'vacina_nome'] = 'ASTRAZENECA'\n",
    "vax_df.loc[(vax_df.vacina_nome == 'COVID-19 SINOVAC/BUTANTAN - CORONAVAC') | (vax_df.vacina_nome == 'COVID-19 SINOVAC - CORONAVAC'), 'vacina_nome'] = 'CORONAVAC'\n",
    "vax_df.loc[vax_df.vacina_nome == 'COVID-19 JANSSEN - Ad26.COV2.S', 'vacina_nome'] = 'JANSEN'\n",
    "vax_df.loc[vax_df.vacina_nome == 'COVID-19 PFIZER - COMIRNATY', 'vacina_nome'] = 'PFIZER'\n",
    "vax_df.loc[vax_df.vacina_nome == 'COVID-19 PEDIÁTRICA - PFIZER COMIRNATY', 'vacina_nome'] = 'PFIZER PEDIÁTRICA'\n",
    "\n",
    "\n",
    "vax_df.loc[vax_df.vacina_codigo == 89, 'vacina_codigo'] = 85\n",
    "vax_df.loc[vax_df.vacina_codigo == 98, 'vacina_codigo'] = 86"
   ]
  },
  {
   "cell_type": "code",
   "execution_count": 5,
   "metadata": {},
   "outputs": [
    {
     "data": {
      "text/html": [
       "<div>\n",
       "<style scoped>\n",
       "    .dataframe tbody tr th:only-of-type {\n",
       "        vertical-align: middle;\n",
       "    }\n",
       "\n",
       "    .dataframe tbody tr th {\n",
       "        vertical-align: top;\n",
       "    }\n",
       "\n",
       "    .dataframe thead th {\n",
       "        text-align: right;\n",
       "    }\n",
       "</style>\n",
       "<table border=\"1\" class=\"dataframe\">\n",
       "  <thead>\n",
       "    <tr style=\"text-align: right;\">\n",
       "      <th></th>\n",
       "      <th>paciente_idade</th>\n",
       "      <th>paciente_dataNascimento</th>\n",
       "      <th>paciente_enumSexoBiologico</th>\n",
       "      <th>paciente_racaCor_codigo</th>\n",
       "      <th>paciente_racaCor_valor</th>\n",
       "      <th>paciente_endereco_nmMunicipio</th>\n",
       "      <th>paciente_endereco_cep</th>\n",
       "      <th>estabelecimento_municipio_nome</th>\n",
       "      <th>vacina_grupoAtendimento_codigo</th>\n",
       "      <th>vacina_grupoAtendimento_nome</th>\n",
       "      <th>vacina_categoria_codigo</th>\n",
       "      <th>vacina_categoria_nome</th>\n",
       "      <th>vacina_dataAplicacao</th>\n",
       "      <th>vacina_descricao_dose</th>\n",
       "      <th>vacina_codigo</th>\n",
       "      <th>vacina_nome</th>\n",
       "      <th>paciente_id</th>\n",
       "    </tr>\n",
       "  </thead>\n",
       "  <tbody>\n",
       "    <tr>\n",
       "      <th>0</th>\n",
       "      <td>44</td>\n",
       "      <td>1977-04-18</td>\n",
       "      <td>M</td>\n",
       "      <td>1</td>\n",
       "      <td>BRANCA</td>\n",
       "      <td>ARAPIRACA</td>\n",
       "      <td>57510</td>\n",
       "      <td>PATOS</td>\n",
       "      <td>912</td>\n",
       "      <td>Médico</td>\n",
       "      <td>9</td>\n",
       "      <td>Trabalhadores de Saúde</td>\n",
       "      <td>2021-11-11</td>\n",
       "      <td>Reforço</td>\n",
       "      <td>87</td>\n",
       "      <td>PFIZER</td>\n",
       "      <td>f9495cb04daf5adb495d22c9c88b31883f191fb762ab27...</td>\n",
       "    </tr>\n",
       "    <tr>\n",
       "      <th>1</th>\n",
       "      <td>5</td>\n",
       "      <td>2016-11-18</td>\n",
       "      <td>M</td>\n",
       "      <td>1</td>\n",
       "      <td>BRANCA</td>\n",
       "      <td>PARELHAS</td>\n",
       "      <td>None</td>\n",
       "      <td>CAMPINA GRANDE</td>\n",
       "      <td>207</td>\n",
       "      <td>Pessoas de 5 a 11 anos</td>\n",
       "      <td>0</td>\n",
       "      <td>NaN</td>\n",
       "      <td>2022-02-07</td>\n",
       "      <td>1ª Dose</td>\n",
       "      <td>99</td>\n",
       "      <td>PFIZER PEDIÁTRICA</td>\n",
       "      <td>52288faace8c986872faca7101868ae8a23fefd435cd51...</td>\n",
       "    </tr>\n",
       "    <tr>\n",
       "      <th>2</th>\n",
       "      <td>39</td>\n",
       "      <td>1982-01-23</td>\n",
       "      <td>F</td>\n",
       "      <td>99</td>\n",
       "      <td>SEM INFORMACAO</td>\n",
       "      <td>CAMPINA GRANDE</td>\n",
       "      <td>58410</td>\n",
       "      <td>CAMPINA GRANDE</td>\n",
       "      <td>201</td>\n",
       "      <td>Pessoas de 18 a 64 anos</td>\n",
       "      <td>2</td>\n",
       "      <td>Faixa Etária</td>\n",
       "      <td>2021-07-16</td>\n",
       "      <td>1ª Dose</td>\n",
       "      <td>85</td>\n",
       "      <td>ASTRAZENECA</td>\n",
       "      <td>0ffaed327aac7fe8abf0b35471b0b1fa60f9fc48ff7d9c...</td>\n",
       "    </tr>\n",
       "    <tr>\n",
       "      <th>3</th>\n",
       "      <td>33</td>\n",
       "      <td>1988-07-20</td>\n",
       "      <td>M</td>\n",
       "      <td>2</td>\n",
       "      <td>PRETA</td>\n",
       "      <td>BAYEUX</td>\n",
       "      <td>58110</td>\n",
       "      <td>BAYEUX</td>\n",
       "      <td>201</td>\n",
       "      <td>Pessoas de 18 a 64 anos</td>\n",
       "      <td>2</td>\n",
       "      <td>Faixa Etária</td>\n",
       "      <td>2021-07-23</td>\n",
       "      <td>1ª Dose</td>\n",
       "      <td>85</td>\n",
       "      <td>ASTRAZENECA</td>\n",
       "      <td>fe78cee14dce3436024728b1d760439861021207a32712...</td>\n",
       "    </tr>\n",
       "    <tr>\n",
       "      <th>4</th>\n",
       "      <td>27</td>\n",
       "      <td>1994-03-22</td>\n",
       "      <td>M</td>\n",
       "      <td>3</td>\n",
       "      <td>PARDA</td>\n",
       "      <td>JOAO PESSOA</td>\n",
       "      <td>58058</td>\n",
       "      <td>JOAO PESSOA</td>\n",
       "      <td>201</td>\n",
       "      <td>Pessoas de 18 a 64 anos</td>\n",
       "      <td>2</td>\n",
       "      <td>Faixa Etária</td>\n",
       "      <td>2021-12-07</td>\n",
       "      <td>2ª Dose</td>\n",
       "      <td>87</td>\n",
       "      <td>PFIZER</td>\n",
       "      <td>470944c18359d6a1fea2a53194d29bfdb7ce1d21b47979...</td>\n",
       "    </tr>\n",
       "  </tbody>\n",
       "</table>\n",
       "</div>"
      ],
      "text/plain": [
       "   paciente_idade paciente_dataNascimento paciente_enumSexoBiologico  \\\n",
       "0              44              1977-04-18                          M   \n",
       "1               5              2016-11-18                          M   \n",
       "2              39              1982-01-23                          F   \n",
       "3              33              1988-07-20                          M   \n",
       "4              27              1994-03-22                          M   \n",
       "\n",
       "   paciente_racaCor_codigo paciente_racaCor_valor  \\\n",
       "0                        1                 BRANCA   \n",
       "1                        1                 BRANCA   \n",
       "2                       99         SEM INFORMACAO   \n",
       "3                        2                  PRETA   \n",
       "4                        3                  PARDA   \n",
       "\n",
       "  paciente_endereco_nmMunicipio paciente_endereco_cep  \\\n",
       "0                     ARAPIRACA                 57510   \n",
       "1                      PARELHAS                  None   \n",
       "2                CAMPINA GRANDE                 58410   \n",
       "3                        BAYEUX                 58110   \n",
       "4                   JOAO PESSOA                 58058   \n",
       "\n",
       "  estabelecimento_municipio_nome  vacina_grupoAtendimento_codigo  \\\n",
       "0                          PATOS                             912   \n",
       "1                 CAMPINA GRANDE                             207   \n",
       "2                 CAMPINA GRANDE                             201   \n",
       "3                         BAYEUX                             201   \n",
       "4                    JOAO PESSOA                             201   \n",
       "\n",
       "  vacina_grupoAtendimento_nome  vacina_categoria_codigo  \\\n",
       "0                       Médico                        9   \n",
       "1       Pessoas de 5 a 11 anos                        0   \n",
       "2      Pessoas de 18 a 64 anos                        2   \n",
       "3      Pessoas de 18 a 64 anos                        2   \n",
       "4      Pessoas de 18 a 64 anos                        2   \n",
       "\n",
       "    vacina_categoria_nome vacina_dataAplicacao vacina_descricao_dose  \\\n",
       "0  Trabalhadores de Saúde           2021-11-11               Reforço   \n",
       "1                     NaN           2022-02-07               1ª Dose   \n",
       "2            Faixa Etária           2021-07-16               1ª Dose   \n",
       "3            Faixa Etária           2021-07-23               1ª Dose   \n",
       "4            Faixa Etária           2021-12-07               2ª Dose   \n",
       "\n",
       "   vacina_codigo        vacina_nome  \\\n",
       "0             87             PFIZER   \n",
       "1             99  PFIZER PEDIÁTRICA   \n",
       "2             85        ASTRAZENECA   \n",
       "3             85        ASTRAZENECA   \n",
       "4             87             PFIZER   \n",
       "\n",
       "                                         paciente_id  \n",
       "0  f9495cb04daf5adb495d22c9c88b31883f191fb762ab27...  \n",
       "1  52288faace8c986872faca7101868ae8a23fefd435cd51...  \n",
       "2  0ffaed327aac7fe8abf0b35471b0b1fa60f9fc48ff7d9c...  \n",
       "3  fe78cee14dce3436024728b1d760439861021207a32712...  \n",
       "4  470944c18359d6a1fea2a53194d29bfdb7ce1d21b47979...  "
      ]
     },
     "execution_count": 5,
     "metadata": {},
     "output_type": "execute_result"
    }
   ],
   "source": [
    "vax_df.head(5)"
   ]
  },
  {
   "cell_type": "markdown",
   "metadata": {},
   "source": [
    "## Visualização dos dados:"
   ]
  },
  {
   "cell_type": "markdown",
   "metadata": {},
   "source": [
    "### Vacinação por tipo de dose"
   ]
  },
  {
   "cell_type": "code",
   "execution_count": 108,
   "metadata": {},
   "outputs": [
    {
     "data": {
      "text/plain": [
       "<matplotlib.legend.Legend at 0x7f509cb022e0>"
      ]
     },
     "execution_count": 108,
     "metadata": {},
     "output_type": "execute_result"
    },
    {
     "data": {
      "image/png": "[encoded data removed]",
      "text/plain": [
       "<Figure size 720x288 with 1 Axes>"
      ]
     },
     "metadata": {
      "needs_background": "light"
     },
     "output_type": "display_data"
    }
   ],
   "source": [
    "bar = sns.countplot(data= vax_df,x= 'vacina_nome', hue= 'vacina_descricao_dose', palette= 'Paired')\n",
    "bar.set_xlabel('Vacinas')\n",
    "bar.set_ylabel('Quantidade de aplicações por dose')\n",
    "bar.set_title('Quantidade de aplicações de cada vacina por dose')\n",
    "plt.legend(loc = 'upper right') # Apesar de parecer, a legenda não está cortando o gráfico"
   ]
  },
  {
   "cell_type": "markdown",
   "metadata": {},
   "source": [
    "Verificamos pelo gráfico que a vacina mais aplicada na Paraíba durante o período analisado foi a Pfizer, seguida pela Astrazeneca, CoronaVac e Jansen. Tal observação contrasta com o cenário nacional tendo em vista que a vacina mais utilizada no País durante a campanha de COVID-19 foi a Astrazeneca, segundo dados do Ministério da Saúde encontrados no endereço:\n",
    "\n",
    "https://www.gov.br/saude/pt-br/assuntos/noticias/2022/janeiro/saiba-a-quantidade-de-doses-de-vacinas-covid-19-aplicadas-ate-o-momento-no-brasil-por-fabricante#:~:text=E%20tem%20mais%20not%C3%ADcia%20boa,milh%C3%B5es%20foram%20produzidas%20pela%20Janssen."
   ]
  },
  {
   "cell_type": "markdown",
   "metadata": {},
   "source": [
    "Também, é possível perceber a partir do gráfico que a vacina da Pfizer foi a mais usada também nas doses de reforço, mais do que dobrando a quantidade de vacinas da Astrazeneca que foram usadas com o mesmo propósito, por exemplo."
   ]
  },
  {
   "cell_type": "markdown",
   "metadata": {},
   "source": [
    "### Vacinação por etnia"
   ]
  },
  {
   "cell_type": "code",
   "execution_count": 94,
   "metadata": {},
   "outputs": [
    {
     "data": {
      "text/plain": [
       "Text(0.5, 1.0, 'Vacinação por etnia')"
      ]
     },
     "execution_count": 94,
     "metadata": {},
     "output_type": "execute_result"
    },
    {
     "data": {
      "image/png": "[encoded data removed]",
      "text/plain": [
       "<Figure size 720x288 with 1 Axes>"
      ]
     },
     "metadata": {
      "needs_background": "light"
     },
     "output_type": "display_data"
    }
   ],
   "source": [
    "fig = sns.histplot(data= vax_df, y= 'paciente_racaCor_valor', color= 'g')\n",
    "fig.set_xlabel('Nº de vacinações em milhoẽs de ocorrências')\n",
    "fig.set_ylabel('Etnia')\n",
    "fig.set_title('Vacinação por etnia')"
   ]
  },
  {
   "cell_type": "markdown",
   "metadata": {},
   "source": [
    "O Histograma acima lida com o número absoluto de vacinações, isto é, cada dose, independente da classificação(1ª dose, Dose de reforço, etc) contará como um adicional na frequência de vacinação por etnia. Desse modo, percebemos que a maioria dos vacinados na Paraíba se autodeclaram pardos, seguidos dos autodeclarados brancos, e amarelos. "
   ]
  },
  {
   "cell_type": "markdown",
   "metadata": {},
   "source": [
    "### Mortalidade por Quantidade de Casos"
   ]
  },
  {
   "cell_type": "code",
   "execution_count": 82,
   "metadata": {},
   "outputs": [
    {
     "data": {
      "text/plain": [
       "Text(0.5, 1.0, 'Mortalidade por quantidade de casos')"
      ]
     },
     "execution_count": 82,
     "metadata": {},
     "output_type": "execute_result"
    },
    {
     "data": {
      "image/png": "[encoded data removed]",
      "text/plain": [
       "<Figure size 720x288 with 1 Axes>"
      ]
     },
     "metadata": {
      "needs_background": "light"
     },
     "output_type": "display_data"
    }
   ],
   "source": [
    "lin_drt = sns.lineplot(data = casos_df, x = 'confirmed_per_100k_inhabitants', y = 'death_rate', color= 'black')\n",
    "lin_drt.set_xlabel('Casos a cada 100 mil habitantes')\n",
    "lin_drt.set_ylabel('Mortalidade por quantidade de casos')\n",
    "lin_drt.set_title('Mortalidade por quantidade de casos')"
   ]
  },
  {
   "cell_type": "markdown",
   "metadata": {},
   "source": [
    "A partir da leitura do gráfico, percebemos que os municípios com a menor quantidade de casos confirmados a cada 100 mil habitantes possuem a maior mortalidade. Tendo em mente que o cálculo da mortaliadade é feito dividindo o número de mortos pelo número de casos confirmados, os municípios que testaram menos possuirão uma mortalidade acentuada em consequência de uma provável subnotificação de casos. Aumentando a mortalidade, que é inversamente proporcional ao número de casos confirmados."
   ]
  }
 ],
 "metadata": {
  "interpreter": {
   "hash": "916dbcbb3f70747c44a77c7bcd40155683ae19c65e1c03b4aa3499c5328201f1"
  },
  "kernelspec": {
   "display_name": "Python 3.8.10 64-bit",
   "language": "python",
   "name": "python3"
  },
  "language_info": {
   "codemirror_mode": {
    "name": "ipython",
    "version": 3
   },
   "file_extension": ".py",
   "mimetype": "text/x-python",
   "name": "python",
   "nbconvert_exporter": "python",
   "pygments_lexer": "ipython3",
   "version": "3.9.7"
  },
  "orig_nbformat": 4
 },
 "nbformat": 4,
 "nbformat_minor": 2
}
