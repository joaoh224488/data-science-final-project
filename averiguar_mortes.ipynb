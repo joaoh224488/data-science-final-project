{
 "cells": [
  {
   "cell_type": "code",
   "execution_count": 1,
   "metadata": {},
   "outputs": [],
   "source": [
    "import pandas as pd"
   ]
  },
  {
   "cell_type": "code",
   "execution_count": 2,
   "metadata": {},
   "outputs": [],
   "source": [
    "casos_df = pd.read_csv(\"datasets/dados_casos.csv\")"
   ]
  },
  {
   "cell_type": "code",
   "execution_count": 11,
   "metadata": {},
   "outputs": [
    {
     "data": {
      "text/html": [
       "<div>\n",
       "<style scoped>\n",
       "    .dataframe tbody tr th:only-of-type {\n",
       "        vertical-align: middle;\n",
       "    }\n",
       "\n",
       "    .dataframe tbody tr th {\n",
       "        vertical-align: top;\n",
       "    }\n",
       "\n",
       "    .dataframe thead th {\n",
       "        text-align: right;\n",
       "    }\n",
       "</style>\n",
       "<table border=\"1\" class=\"dataframe\">\n",
       "  <thead>\n",
       "    <tr style=\"text-align: right;\">\n",
       "      <th></th>\n",
       "      <th>city</th>\n",
       "      <th>deaths</th>\n",
       "      <th>confirmed</th>\n",
       "      <th>death_rate</th>\n",
       "    </tr>\n",
       "  </thead>\n",
       "  <tbody>\n",
       "    <tr>\n",
       "      <th>50</th>\n",
       "      <td>Capim</td>\n",
       "      <td>10</td>\n",
       "      <td>236</td>\n",
       "      <td>0.0424</td>\n",
       "    </tr>\n",
       "    <tr>\n",
       "      <th>188</th>\n",
       "      <td>São José do Bonfim</td>\n",
       "      <td>6</td>\n",
       "      <td>138</td>\n",
       "      <td>0.0435</td>\n",
       "    </tr>\n",
       "    <tr>\n",
       "      <th>191</th>\n",
       "      <td>São José dos Cordeiros</td>\n",
       "      <td>6</td>\n",
       "      <td>134</td>\n",
       "      <td>0.0448</td>\n",
       "    </tr>\n",
       "    <tr>\n",
       "      <th>173</th>\n",
       "      <td>Santa Teresinha</td>\n",
       "      <td>13</td>\n",
       "      <td>271</td>\n",
       "      <td>0.0480</td>\n",
       "    </tr>\n",
       "    <tr>\n",
       "      <th>60</th>\n",
       "      <td>Congo</td>\n",
       "      <td>13</td>\n",
       "      <td>270</td>\n",
       "      <td>0.0481</td>\n",
       "    </tr>\n",
       "    <tr>\n",
       "      <th>66</th>\n",
       "      <td>Cuité de Mamanguape</td>\n",
       "      <td>16</td>\n",
       "      <td>328</td>\n",
       "      <td>0.0488</td>\n",
       "    </tr>\n",
       "    <tr>\n",
       "      <th>168</th>\n",
       "      <td>Santa Inês</td>\n",
       "      <td>7</td>\n",
       "      <td>131</td>\n",
       "      <td>0.0534</td>\n",
       "    </tr>\n",
       "    <tr>\n",
       "      <th>41</th>\n",
       "      <td>Cacimba de Areia</td>\n",
       "      <td>4</td>\n",
       "      <td>60</td>\n",
       "      <td>0.0667</td>\n",
       "    </tr>\n",
       "  </tbody>\n",
       "</table>\n",
       "</div>"
      ],
      "text/plain": [
       "                       city  deaths  confirmed  death_rate\n",
       "50                    Capim      10        236      0.0424\n",
       "188      São José do Bonfim       6        138      0.0435\n",
       "191  São José dos Cordeiros       6        134      0.0448\n",
       "173         Santa Teresinha      13        271      0.0480\n",
       "60                    Congo      13        270      0.0481\n",
       "66      Cuité de Mamanguape      16        328      0.0488\n",
       "168              Santa Inês       7        131      0.0534\n",
       "41         Cacimba de Areia       4         60      0.0667"
      ]
     },
     "execution_count": 11,
     "metadata": {},
     "output_type": "execute_result"
    }
   ],
   "source": [
    "casos_df[casos_df['death_rate']>0.04].sort_values(by='death_rate')[['city', 'deaths', 'confirmed', 'death_rate']]"
   ]
  },
  {
   "cell_type": "markdown",
   "metadata": {},
   "source": [
    "https://paraiba.pb.gov.br/diretas/saude/coronavirus\n",
    "\n",
    "Cacimba de Areia:\n",
    "https://g1.globo.com/pb/paraiba/noticia/2020/05/06/barreira-sanitaria-e-instalada-na-entrada-da-cidade-de-cacimba-de-areia-pb.ghtml\n",
    "\n",
    "Santa Inês:\n",
    "https://www.santaines.pb.gov.br/noticias\n",
    "https://portalcorreio.com.br/santa-ines-segue-como-unica-cidade-em-bandeira-laranja-na-paraiba/\n",
    "https://www.santaines.pb.gov.br/documentos/Decreto_018_2022_COVID_08042022.pdf\n",
    "\n",
    "\n",
    "a ler:\n",
    "http://portalcacimbadeareia.com.br/\n",
    "https://www.cidade-brasil.com.br/municipio-cacimba-de-areia.html\n",
    "http://cacimbadeareia.pb.gov.br/noticias/p2_articleid/576\n"
   ]
  },
  {
   "cell_type": "markdown",
   "metadata": {},
   "source": [
    "Santa Ines ficou entre os mais vacinados, o que pode ter tirado eles das mortalidades"
   ]
  }
 ],
 "metadata": {
  "interpreter": {
   "hash": "916dbcbb3f70747c44a77c7bcd40155683ae19c65e1c03b4aa3499c5328201f1"
  },
  "kernelspec": {
   "display_name": "Python 3.8.10 64-bit",
   "language": "python",
   "name": "python3"
  },
  "language_info": {
   "codemirror_mode": {
    "name": "ipython",
    "version": 3
   },
   "file_extension": ".py",
   "mimetype": "text/x-python",
   "name": "python",
   "nbconvert_exporter": "python",
   "pygments_lexer": "ipython3",
   "version": "3.8.10"
  },
  "orig_nbformat": 4
 },
 "nbformat": 4,
 "nbformat_minor": 2
}
