{
 "cells": [
  {
   "cell_type": "markdown",
   "metadata": {},
   "source": [
    "## Explorando as variáveis do dataset de casos\n",
    " \n",
    "Verificando medidas de centralidade e dispersão das variáveis\n",
    "disponíveis"
   ]
  },
  {
   "cell_type": "code",
   "execution_count": 19,
   "metadata": {},
   "outputs": [],
   "source": [
    "import pandas as pd\n",
    "import seaborn as sns"
   ]
  },
  {
   "cell_type": "markdown",
   "metadata": {},
   "source": [
    "O dataset que usaremos tem informações sobre a covid-19 em todos os municípios da Paraíba, atualizado por último no dia 22/08/21."
   ]
  },
  {
   "cell_type": "code",
   "execution_count": 41,
   "metadata": {},
   "outputs": [],
   "source": [
    "casos_df = pd.read_csv(\"datasets/dados_casos.csv\")"
   ]
  },
  {
   "cell_type": "code",
   "execution_count": 42,
   "metadata": {},
   "outputs": [
    {
     "data": {
      "text/html": [
       "<div>\n",
       "<style scoped>\n",
       "    .dataframe tbody tr th:only-of-type {\n",
       "        vertical-align: middle;\n",
       "    }\n",
       "\n",
       "    .dataframe tbody tr th {\n",
       "        vertical-align: top;\n",
       "    }\n",
       "\n",
       "    .dataframe thead th {\n",
       "        text-align: right;\n",
       "    }\n",
       "</style>\n",
       "<table border=\"1\" class=\"dataframe\">\n",
       "  <thead>\n",
       "    <tr style=\"text-align: right;\">\n",
       "      <th></th>\n",
       "      <th>date</th>\n",
       "      <th>state</th>\n",
       "      <th>city</th>\n",
       "      <th>place_type</th>\n",
       "      <th>confirmed</th>\n",
       "      <th>deaths</th>\n",
       "      <th>is_last</th>\n",
       "      <th>estimated_population</th>\n",
       "      <th>city_ibge_code</th>\n",
       "      <th>confirmed_per_100k_inhabitants</th>\n",
       "      <th>death_rate</th>\n",
       "    </tr>\n",
       "  </thead>\n",
       "  <tbody>\n",
       "    <tr>\n",
       "      <th>0</th>\n",
       "      <td>2021-08-22</td>\n",
       "      <td>PB</td>\n",
       "      <td>Água Branca</td>\n",
       "      <td>city</td>\n",
       "      <td>1128</td>\n",
       "      <td>14</td>\n",
       "      <td>True</td>\n",
       "      <td>10306</td>\n",
       "      <td>2500106</td>\n",
       "      <td>10945.08054</td>\n",
       "      <td>0.0124</td>\n",
       "    </tr>\n",
       "    <tr>\n",
       "      <th>1</th>\n",
       "      <td>2021-08-22</td>\n",
       "      <td>PB</td>\n",
       "      <td>Aguiar</td>\n",
       "      <td>city</td>\n",
       "      <td>528</td>\n",
       "      <td>5</td>\n",
       "      <td>True</td>\n",
       "      <td>5630</td>\n",
       "      <td>2500205</td>\n",
       "      <td>9378.33037</td>\n",
       "      <td>0.0095</td>\n",
       "    </tr>\n",
       "    <tr>\n",
       "      <th>2</th>\n",
       "      <td>2021-08-22</td>\n",
       "      <td>PB</td>\n",
       "      <td>Alagoa Grande</td>\n",
       "      <td>city</td>\n",
       "      <td>4117</td>\n",
       "      <td>72</td>\n",
       "      <td>True</td>\n",
       "      <td>28439</td>\n",
       "      <td>2500304</td>\n",
       "      <td>14476.59904</td>\n",
       "      <td>0.0175</td>\n",
       "    </tr>\n",
       "    <tr>\n",
       "      <th>3</th>\n",
       "      <td>2021-08-22</td>\n",
       "      <td>PB</td>\n",
       "      <td>Alagoa Nova</td>\n",
       "      <td>city</td>\n",
       "      <td>1511</td>\n",
       "      <td>25</td>\n",
       "      <td>True</td>\n",
       "      <td>20921</td>\n",
       "      <td>2500403</td>\n",
       "      <td>7222.40811</td>\n",
       "      <td>0.0165</td>\n",
       "    </tr>\n",
       "    <tr>\n",
       "      <th>4</th>\n",
       "      <td>2021-08-22</td>\n",
       "      <td>PB</td>\n",
       "      <td>Alagoinha</td>\n",
       "      <td>city</td>\n",
       "      <td>2072</td>\n",
       "      <td>25</td>\n",
       "      <td>True</td>\n",
       "      <td>14560</td>\n",
       "      <td>2500502</td>\n",
       "      <td>14230.76923</td>\n",
       "      <td>0.0121</td>\n",
       "    </tr>\n",
       "  </tbody>\n",
       "</table>\n",
       "</div>"
      ],
      "text/plain": [
       "         date state           city place_type  confirmed  deaths  is_last  \\\n",
       "0  2021-08-22    PB    Água Branca       city       1128      14     True   \n",
       "1  2021-08-22    PB         Aguiar       city        528       5     True   \n",
       "2  2021-08-22    PB  Alagoa Grande       city       4117      72     True   \n",
       "3  2021-08-22    PB    Alagoa Nova       city       1511      25     True   \n",
       "4  2021-08-22    PB      Alagoinha       city       2072      25     True   \n",
       "\n",
       "   estimated_population  city_ibge_code  confirmed_per_100k_inhabitants  \\\n",
       "0                 10306         2500106                     10945.08054   \n",
       "1                  5630         2500205                      9378.33037   \n",
       "2                 28439         2500304                     14476.59904   \n",
       "3                 20921         2500403                      7222.40811   \n",
       "4                 14560         2500502                     14230.76923   \n",
       "\n",
       "   death_rate  \n",
       "0      0.0124  \n",
       "1      0.0095  \n",
       "2      0.0175  \n",
       "3      0.0165  \n",
       "4      0.0121  "
      ]
     },
     "execution_count": 42,
     "metadata": {},
     "output_type": "execute_result"
    }
   ],
   "source": [
    "casos_df.head(5)"
   ]
  },
  {
   "cell_type": "markdown",
   "metadata": {},
   "source": [
    "### Casos confirmados por município\n",
    "\n",
    "Armazenados na coluna titulada 'confirmed'"
   ]
  },
  {
   "cell_type": "code",
   "execution_count": 4,
   "metadata": {},
   "outputs": [
    {
     "data": {
      "text/plain": [
       "count       223.000000\n",
       "mean       1930.986547\n",
       "std        7639.848374\n",
       "min          60.000000\n",
       "25%         362.500000\n",
       "50%         655.000000\n",
       "75%        1295.000000\n",
       "max      103940.000000\n",
       "Name: confirmed, dtype: float64"
      ]
     },
     "execution_count": 4,
     "metadata": {},
     "output_type": "execute_result"
    }
   ],
   "source": [
    "casos_df['confirmed'].describe()"
   ]
  },
  {
   "cell_type": "markdown",
   "metadata": {},
   "source": [
    "Usando a função describe, calculamos rapidamente algumas medidas de centralidade e dispersão para a quantidade de casos de cada município.\n",
    "\n",
    "Vemos que a média de casos por município é 1930,98, porém o desvio padrão é 7639,84.\n",
    "\n",
    "Podemos também observar que a diferença entre o valor mínimo, o primeiro quartil e o segundo quartil são próximas, em torno de 300 casos. A diferença entre o segundo quartil e o terceiro quartil é o dobro disso, quase 600. Já a diferença entre o terceiro quartil e o valor máximo é mais de 10.000 casos. Com isso, podemos especular que o valor máximo representa um outlier, ou que poucos municípios (menos de 25%) concentram a maior quantidade de casos de covid-19 no Estado."
   ]
  },
  {
   "cell_type": "code",
   "execution_count": 8,
   "metadata": {},
   "outputs": [
    {
     "data": {
      "text/plain": [
       "<AxesSubplot:>"
      ]
     },
     "execution_count": 8,
     "metadata": {},
     "output_type": "execute_result"
    },
    {
     "data": {
      "image/png": "[encoded data removed]",
      "text/plain": [
       "<Figure size 640x480 with 1 Axes>"
      ]
     },
     "metadata": {},
     "output_type": "display_data"
    }
   ],
   "source": [
    "casos_df.boxplot(column = 'confirmed')"
   ]
  },
  {
   "cell_type": "code",
   "execution_count": 9,
   "metadata": {},
   "outputs": [
    {
     "data": {
      "text/html": [
       "<div>\n",
       "<style scoped>\n",
       "    .dataframe tbody tr th:only-of-type {\n",
       "        vertical-align: middle;\n",
       "    }\n",
       "\n",
       "    .dataframe tbody tr th {\n",
       "        vertical-align: top;\n",
       "    }\n",
       "\n",
       "    .dataframe thead th {\n",
       "        text-align: right;\n",
       "    }\n",
       "</style>\n",
       "<table border=\"1\" class=\"dataframe\">\n",
       "  <thead>\n",
       "    <tr style=\"text-align: right;\">\n",
       "      <th></th>\n",
       "      <th>date</th>\n",
       "      <th>state</th>\n",
       "      <th>city</th>\n",
       "      <th>place_type</th>\n",
       "      <th>confirmed</th>\n",
       "      <th>deaths</th>\n",
       "      <th>is_last</th>\n",
       "      <th>estimated_population</th>\n",
       "      <th>city_ibge_code</th>\n",
       "      <th>confirmed_per_100k_inhabitants</th>\n",
       "      <th>death_rate</th>\n",
       "    </tr>\n",
       "  </thead>\n",
       "  <tbody>\n",
       "    <tr>\n",
       "      <th>49</th>\n",
       "      <td>2021-08-22</td>\n",
       "      <td>PB</td>\n",
       "      <td>Campina Grande</td>\n",
       "      <td>city</td>\n",
       "      <td>42778</td>\n",
       "      <td>1084</td>\n",
       "      <td>True</td>\n",
       "      <td>411807</td>\n",
       "      <td>2504009</td>\n",
       "      <td>10387.87587</td>\n",
       "      <td>0.0253</td>\n",
       "    </tr>\n",
       "    <tr>\n",
       "      <th>93</th>\n",
       "      <td>2021-08-22</td>\n",
       "      <td>PB</td>\n",
       "      <td>João Pessoa</td>\n",
       "      <td>city</td>\n",
       "      <td>103940</td>\n",
       "      <td>2890</td>\n",
       "      <td>True</td>\n",
       "      <td>817511</td>\n",
       "      <td>2507507</td>\n",
       "      <td>12714.20201</td>\n",
       "      <td>0.0278</td>\n",
       "    </tr>\n",
       "  </tbody>\n",
       "</table>\n",
       "</div>"
      ],
      "text/plain": [
       "          date state            city place_type  confirmed  deaths  is_last  \\\n",
       "49  2021-08-22    PB  Campina Grande       city      42778    1084     True   \n",
       "93  2021-08-22    PB     João Pessoa       city     103940    2890     True   \n",
       "\n",
       "    estimated_population  city_ibge_code  confirmed_per_100k_inhabitants  \\\n",
       "49                411807         2504009                     10387.87587   \n",
       "93                817511         2507507                     12714.20201   \n",
       "\n",
       "    death_rate  \n",
       "49      0.0253  \n",
       "93      0.0278  "
      ]
     },
     "execution_count": 9,
     "metadata": {},
     "output_type": "execute_result"
    }
   ],
   "source": [
    "casos_df[casos_df['confirmed']>40000]"
   ]
  },
  {
   "cell_type": "markdown",
   "metadata": {},
   "source": [
    "O boxplot que representa a distribuição dos casos por município é extremamente achatado, de tal forma que se torna ilegível. Isso ocorre pois os dois maiores municípios do Estado, João Pessoa e Campina Grande, concentram muitos mais casos que os demais municípios. Além disso, mesmo não os levando em conta, ainda temos muitos casos outliers além deles. Isso nos mostra que os casos de covid no Estado da Paraíba não estão distribuídos uniformemente entre os municípios, e sim concentrados em focos. "
   ]
  },
  {
   "cell_type": "markdown",
   "metadata": {},
   "source": [
    "### Mortes por covid-19 confirmadas por município\n",
    "\n",
    "Armazenados na coluna titulada 'deaths'"
   ]
  },
  {
   "cell_type": "code",
   "execution_count": 10,
   "metadata": {},
   "outputs": [
    {
     "data": {
      "text/plain": [
       "count     223.000000\n",
       "mean       40.973094\n",
       "std       208.290704\n",
       "min         0.000000\n",
       "25%         6.000000\n",
       "50%        11.000000\n",
       "75%        25.000000\n",
       "max      2890.000000\n",
       "Name: deaths, dtype: float64"
      ]
     },
     "execution_count": 10,
     "metadata": {},
     "output_type": "execute_result"
    }
   ],
   "source": [
    "casos_df['deaths'].describe()"
   ]
  },
  {
   "cell_type": "markdown",
   "metadata": {},
   "source": [
    "Similarmente à quantidade de casos, a média de mortes por municípios tem média baixa, 40,97, porém desvio padrão alto, 208,29. \n",
    "\n",
    "Observamos que os valores mínino, e de primeiro, segundo e terceiro quartil são próximos (0, 6, 11 e 25 respectivamente), porém o valor máximo apresenta um salto enorme (2890). Vimos que poucos municípios concentram mais casos e consequentemente devem concentrar mais mortes, mas talvez outro fator para esse fenômeno possa ser o fato que municípios menores têm menos estrutura hospitalar para lidar com casos mais graves da doença, e é comum vermos esses pacientes serem transportados para municípios maiores para melhor tratamento. Dessa forma, caso o paciente venha a óbito, talvez ele seja registrado na capital, por exemplo, ao invés do seu município de origem, inflando mais esses números."
   ]
  },
  {
   "cell_type": "code",
   "execution_count": 11,
   "metadata": {},
   "outputs": [
    {
     "data": {
      "text/plain": [
       "<AxesSubplot:>"
      ]
     },
     "execution_count": 11,
     "metadata": {},
     "output_type": "execute_result"
    },
    {
     "data": {
      "image/png": "[encoded data removed]",
      "text/plain": [
       "<Figure size 640x480 with 1 Axes>"
      ]
     },
     "metadata": {},
     "output_type": "display_data"
    }
   ],
   "source": [
    "casos_df.boxplot(column = 'deaths')"
   ]
  },
  {
   "cell_type": "code",
   "execution_count": 12,
   "metadata": {},
   "outputs": [
    {
     "data": {
      "text/html": [
       "<div>\n",
       "<style scoped>\n",
       "    .dataframe tbody tr th:only-of-type {\n",
       "        vertical-align: middle;\n",
       "    }\n",
       "\n",
       "    .dataframe tbody tr th {\n",
       "        vertical-align: top;\n",
       "    }\n",
       "\n",
       "    .dataframe thead th {\n",
       "        text-align: right;\n",
       "    }\n",
       "</style>\n",
       "<table border=\"1\" class=\"dataframe\">\n",
       "  <thead>\n",
       "    <tr style=\"text-align: right;\">\n",
       "      <th></th>\n",
       "      <th>date</th>\n",
       "      <th>state</th>\n",
       "      <th>city</th>\n",
       "      <th>place_type</th>\n",
       "      <th>confirmed</th>\n",
       "      <th>deaths</th>\n",
       "      <th>is_last</th>\n",
       "      <th>estimated_population</th>\n",
       "      <th>city_ibge_code</th>\n",
       "      <th>confirmed_per_100k_inhabitants</th>\n",
       "      <th>death_rate</th>\n",
       "    </tr>\n",
       "  </thead>\n",
       "  <tbody>\n",
       "    <tr>\n",
       "      <th>49</th>\n",
       "      <td>2021-08-22</td>\n",
       "      <td>PB</td>\n",
       "      <td>Campina Grande</td>\n",
       "      <td>city</td>\n",
       "      <td>42778</td>\n",
       "      <td>1084</td>\n",
       "      <td>True</td>\n",
       "      <td>411807</td>\n",
       "      <td>2504009</td>\n",
       "      <td>10387.87587</td>\n",
       "      <td>0.0253</td>\n",
       "    </tr>\n",
       "    <tr>\n",
       "      <th>93</th>\n",
       "      <td>2021-08-22</td>\n",
       "      <td>PB</td>\n",
       "      <td>João Pessoa</td>\n",
       "      <td>city</td>\n",
       "      <td>103940</td>\n",
       "      <td>2890</td>\n",
       "      <td>True</td>\n",
       "      <td>817511</td>\n",
       "      <td>2507507</td>\n",
       "      <td>12714.20201</td>\n",
       "      <td>0.0278</td>\n",
       "    </tr>\n",
       "  </tbody>\n",
       "</table>\n",
       "</div>"
      ],
      "text/plain": [
       "          date state            city place_type  confirmed  deaths  is_last  \\\n",
       "49  2021-08-22    PB  Campina Grande       city      42778    1084     True   \n",
       "93  2021-08-22    PB     João Pessoa       city     103940    2890     True   \n",
       "\n",
       "    estimated_population  city_ibge_code  confirmed_per_100k_inhabitants  \\\n",
       "49                411807         2504009                     10387.87587   \n",
       "93                817511         2507507                     12714.20201   \n",
       "\n",
       "    death_rate  \n",
       "49      0.0253  \n",
       "93      0.0278  "
      ]
     },
     "execution_count": 12,
     "metadata": {},
     "output_type": "execute_result"
    }
   ],
   "source": [
    "casos_df[casos_df['deaths']>1000]"
   ]
  },
  {
   "cell_type": "markdown",
   "metadata": {},
   "source": [
    "Novamente vemos um gráfico boxplot achatado, mostrando que, tal qual os casos de covid-19, as mortes da doença também se concentram em poucos municípios outliers."
   ]
  },
  {
   "cell_type": "markdown",
   "metadata": {},
   "source": [
    "### População estimada\n",
    "\n",
    "Armazenados na coluna titulada 'estimated_population'"
   ]
  },
  {
   "cell_type": "code",
   "execution_count": 13,
   "metadata": {},
   "outputs": [
    {
     "data": {
      "text/plain": [
       "count       223.000000\n",
       "mean      18113.349776\n",
       "std       62236.235680\n",
       "min        1758.000000\n",
       "25%        4551.500000\n",
       "50%        7286.000000\n",
       "75%       15363.000000\n",
       "max      817511.000000\n",
       "Name: estimated_population, dtype: float64"
      ]
     },
     "execution_count": 13,
     "metadata": {},
     "output_type": "execute_result"
    }
   ],
   "source": [
    "casos_df['estimated_population'].describe()"
   ]
  },
  {
   "cell_type": "markdown",
   "metadata": {},
   "source": [
    "Observando as medidas de centralidade dos dados de população dos municípios paraibanos, vemos novamente o comportamento apresentado nas variáveis anteriores: média baixa, desvio padrão alto, valores de primeiro, segundo e terceiro quartil próximos com um salto muito grande entre o último e o valor máximo. Isso nos mostra que grande parte da população do Estado encontra-se concentrada em poucos municípios.\n",
    "\n",
    "Isso nos mostra que ocorre uma grande concentração de casos e mortes em poucos municípios pois existe essa concentração populacional.\n",
    "\n",
    "Podemos observar isso melhor no gráfico boxplot da variável."
   ]
  },
  {
   "cell_type": "code",
   "execution_count": 23,
   "metadata": {},
   "outputs": [
    {
     "data": {
      "text/plain": [
       "<AxesSubplot:>"
      ]
     },
     "execution_count": 23,
     "metadata": {},
     "output_type": "execute_result"
    },
    {
     "data": {
      "image/png": "[encoded data removed]",
      "text/plain": [
       "<Figure size 640x480 with 1 Axes>"
      ]
     },
     "metadata": {},
     "output_type": "display_data"
    }
   ],
   "source": [
    "casos_df.boxplot(column = 'estimated_population')"
   ]
  },
  {
   "cell_type": "markdown",
   "metadata": {},
   "source": [
    "### Casos confirmados por 100 mil habitantes por município\n",
    "\n",
    "Armazenados na coluna titulada 'confirmed_per_100k_inhabitants'"
   ]
  },
  {
   "cell_type": "code",
   "execution_count": 16,
   "metadata": {},
   "outputs": [
    {
     "data": {
      "text/plain": [
       "count      223.000000\n",
       "mean      9242.325208\n",
       "std       3524.619628\n",
       "min       1623.815970\n",
       "25%       6626.868160\n",
       "50%       8836.278760\n",
       "75%      11430.389445\n",
       "max      18192.675160\n",
       "Name: confirmed_per_100k_inhabitants, dtype: float64"
      ]
     },
     "execution_count": 16,
     "metadata": {},
     "output_type": "execute_result"
    }
   ],
   "source": [
    "casos_df['confirmed_per_100k_inhabitants'].describe()"
   ]
  },
  {
   "cell_type": "markdown",
   "metadata": {},
   "source": [
    "Quando calculamos as medidas de centralidade da quantidade de casos relativas à população de cada município, podemos fazer análises mais pontuais, que não são distorcidas pela diferença populacional. Vemos que esses dados são bem menos dispersos que os dados em quantidades absolutas.\n",
    "\n",
    "A média de mortes a cada 100 mil habitantes é 9242.32, o desvio padrão é 3524.61, os quartis são 6626.86, 8836.27 e 11430.38. Os valores mínimo e máximo são 1623.81 e 18192.67. "
   ]
  },
  {
   "cell_type": "code",
   "execution_count": 15,
   "metadata": {},
   "outputs": [
    {
     "data": {
      "text/plain": [
       "<AxesSubplot:>"
      ]
     },
     "execution_count": 15,
     "metadata": {},
     "output_type": "execute_result"
    },
    {
     "data": {
      "image/png": "[encoded data removed]",
      "text/plain": [
       "<Figure size 640x480 with 1 Axes>"
      ]
     },
     "metadata": {},
     "output_type": "display_data"
    }
   ],
   "source": [
    "casos_df.boxplot(column = 'confirmed_per_100k_inhabitants')"
   ]
  },
  {
   "cell_type": "markdown",
   "metadata": {},
   "source": [
    "O boxplot dessa váriavel é muito mais legível do que o das variáveis anteriores."
   ]
  },
  {
   "cell_type": "markdown",
   "metadata": {},
   "source": [
    "### Mortalidade da Covid-19 por município\n",
    "\n",
    "Razão entre a quantidade absoluta de mortes e a quantidade absoluta de casos. Armazenados na coluna titulada 'death_rate'"
   ]
  },
  {
   "cell_type": "code",
   "execution_count": 18,
   "metadata": {},
   "outputs": [
    {
     "data": {
      "text/plain": [
       "count    223.000000\n",
       "mean       0.018596\n",
       "std        0.009877\n",
       "min        0.000000\n",
       "25%        0.012100\n",
       "50%        0.017200\n",
       "75%        0.022750\n",
       "max        0.066700\n",
       "Name: death_rate, dtype: float64"
      ]
     },
     "execution_count": 18,
     "metadata": {},
     "output_type": "execute_result"
    }
   ],
   "source": [
    "casos_df['death_rate'].describe()"
   ]
  },
  {
   "cell_type": "markdown",
   "metadata": {},
   "source": [
    "A mortalidade média é de 0.018, o desvio padrão é 0.0098. Os quartis são 0.012, 0.017 e 0.022. O valor máximo é 0.066. \n",
    "\n",
    "Vemos um salto muito grande do terceiro quartil para o valor máximo. Os valores quartis ficam todos próximos à média, porém o valor máximo é 3.6 vezes maior que ela. "
   ]
  },
  {
   "cell_type": "code",
   "execution_count": 30,
   "metadata": {},
   "outputs": [
    {
     "data": {
      "text/plain": [
       "<AxesSubplot:>"
      ]
     },
     "execution_count": 30,
     "metadata": {},
     "output_type": "execute_result"
    },
    {
     "data": {
      "image/png": "[encoded data removed]",
      "text/plain": [
       "<Figure size 640x480 with 1 Axes>"
      ]
     },
     "metadata": {},
     "output_type": "display_data"
    }
   ],
   "source": [
    "casos_df.boxplot(column='death_rate')"
   ]
  },
  {
   "cell_type": "code",
   "execution_count": 37,
   "metadata": {},
   "outputs": [
    {
     "data": {
      "text/plain": [
       "8"
      ]
     },
     "execution_count": 37,
     "metadata": {},
     "output_type": "execute_result"
    }
   ],
   "source": [
    "casos_df[casos_df['death_rate']>0.04]['death_rate'].count()"
   ]
  },
  {
   "cell_type": "markdown",
   "metadata": {},
   "source": [
    "Observando o boxplot da mortalidade, vemos que há 8 municípios onde a Covid-19 foi anormalmente mais mortal do que no resto da Paraíba."
   ]
  },
  {
   "cell_type": "markdown",
   "metadata": {},
   "source": [
    "## Comparando com o resto do Brasil\n",
    "\n",
    "Agora, iremos analisar como esses dados da covid-19 na Paraíba se comparam com o resto do Brasil.\n",
    "\n",
    "Utilizaremos o mesmo modelo de dataset, desta vez que inclui todos os municípios do país, atualizados por último no mesmo dia que o dataset de dados paraibanos."
   ]
  },
  {
   "cell_type": "code",
   "execution_count": 43,
   "metadata": {},
   "outputs": [],
   "source": [
    "casos_br_df = pd.read_csv('datasets/dados_br.csv')"
   ]
  },
  {
   "cell_type": "code",
   "execution_count": 44,
   "metadata": {},
   "outputs": [
    {
     "data": {
      "text/html": [
       "<div>\n",
       "<style scoped>\n",
       "    .dataframe tbody tr th:only-of-type {\n",
       "        vertical-align: middle;\n",
       "    }\n",
       "\n",
       "    .dataframe tbody tr th {\n",
       "        vertical-align: top;\n",
       "    }\n",
       "\n",
       "    .dataframe thead th {\n",
       "        text-align: right;\n",
       "    }\n",
       "</style>\n",
       "<table border=\"1\" class=\"dataframe\">\n",
       "  <thead>\n",
       "    <tr style=\"text-align: right;\">\n",
       "      <th></th>\n",
       "      <th>date</th>\n",
       "      <th>state</th>\n",
       "      <th>city</th>\n",
       "      <th>place_type</th>\n",
       "      <th>confirmed</th>\n",
       "      <th>deaths</th>\n",
       "      <th>is_last</th>\n",
       "      <th>estimated_population</th>\n",
       "      <th>city_ibge_code</th>\n",
       "      <th>confirmed_per_100k_inhabitants</th>\n",
       "      <th>death_rate</th>\n",
       "    </tr>\n",
       "  </thead>\n",
       "  <tbody>\n",
       "    <tr>\n",
       "      <th>0</th>\n",
       "      <td>2022-03-26</td>\n",
       "      <td>PI</td>\n",
       "      <td>Acauã</td>\n",
       "      <td>city</td>\n",
       "      <td>228</td>\n",
       "      <td>2</td>\n",
       "      <td>True</td>\n",
       "      <td>7102.0</td>\n",
       "      <td>2200053.0</td>\n",
       "      <td>3210.36328</td>\n",
       "      <td>0.0088</td>\n",
       "    </tr>\n",
       "    <tr>\n",
       "      <th>1</th>\n",
       "      <td>2022-03-26</td>\n",
       "      <td>PI</td>\n",
       "      <td>Agricolândia</td>\n",
       "      <td>city</td>\n",
       "      <td>829</td>\n",
       "      <td>10</td>\n",
       "      <td>True</td>\n",
       "      <td>5131.0</td>\n",
       "      <td>2200103.0</td>\n",
       "      <td>16156.69460</td>\n",
       "      <td>0.0121</td>\n",
       "    </tr>\n",
       "    <tr>\n",
       "      <th>2</th>\n",
       "      <td>2022-03-26</td>\n",
       "      <td>PI</td>\n",
       "      <td>Água Branca</td>\n",
       "      <td>city</td>\n",
       "      <td>1702</td>\n",
       "      <td>77</td>\n",
       "      <td>True</td>\n",
       "      <td>17470.0</td>\n",
       "      <td>2200202.0</td>\n",
       "      <td>9742.41557</td>\n",
       "      <td>0.0452</td>\n",
       "    </tr>\n",
       "    <tr>\n",
       "      <th>3</th>\n",
       "      <td>2022-03-26</td>\n",
       "      <td>PI</td>\n",
       "      <td>Alagoinha do Piauí</td>\n",
       "      <td>city</td>\n",
       "      <td>402</td>\n",
       "      <td>13</td>\n",
       "      <td>True</td>\n",
       "      <td>7665.0</td>\n",
       "      <td>2200251.0</td>\n",
       "      <td>5244.61840</td>\n",
       "      <td>0.0323</td>\n",
       "    </tr>\n",
       "    <tr>\n",
       "      <th>4</th>\n",
       "      <td>2022-03-26</td>\n",
       "      <td>PI</td>\n",
       "      <td>Alegrete do Piauí</td>\n",
       "      <td>city</td>\n",
       "      <td>553</td>\n",
       "      <td>9</td>\n",
       "      <td>True</td>\n",
       "      <td>4918.0</td>\n",
       "      <td>2200277.0</td>\n",
       "      <td>11244.40830</td>\n",
       "      <td>0.0163</td>\n",
       "    </tr>\n",
       "  </tbody>\n",
       "</table>\n",
       "</div>"
      ],
      "text/plain": [
       "         date state                city place_type  confirmed  deaths  \\\n",
       "0  2022-03-26    PI               Acauã       city        228       2   \n",
       "1  2022-03-26    PI        Agricolândia       city        829      10   \n",
       "2  2022-03-26    PI         Água Branca       city       1702      77   \n",
       "3  2022-03-26    PI  Alagoinha do Piauí       city        402      13   \n",
       "4  2022-03-26    PI   Alegrete do Piauí       city        553       9   \n",
       "\n",
       "   is_last  estimated_population  city_ibge_code  \\\n",
       "0     True                7102.0       2200053.0   \n",
       "1     True                5131.0       2200103.0   \n",
       "2     True               17470.0       2200202.0   \n",
       "3     True                7665.0       2200251.0   \n",
       "4     True                4918.0       2200277.0   \n",
       "\n",
       "   confirmed_per_100k_inhabitants  death_rate  \n",
       "0                      3210.36328      0.0088  \n",
       "1                     16156.69460      0.0121  \n",
       "2                      9742.41557      0.0452  \n",
       "3                      5244.61840      0.0323  \n",
       "4                     11244.40830      0.0163  "
      ]
     },
     "execution_count": 44,
     "metadata": {},
     "output_type": "execute_result"
    }
   ],
   "source": [
    "casos_br_df.head(5)"
   ]
  },
  {
   "cell_type": "code",
   "execution_count": 49,
   "metadata": {},
   "outputs": [
    {
     "data": {
      "text/html": [
       "<div>\n",
       "<style scoped>\n",
       "    .dataframe tbody tr th:only-of-type {\n",
       "        vertical-align: middle;\n",
       "    }\n",
       "\n",
       "    .dataframe tbody tr th {\n",
       "        vertical-align: top;\n",
       "    }\n",
       "\n",
       "    .dataframe thead th {\n",
       "        text-align: right;\n",
       "    }\n",
       "</style>\n",
       "<table border=\"1\" class=\"dataframe\">\n",
       "  <thead>\n",
       "    <tr style=\"text-align: right;\">\n",
       "      <th></th>\n",
       "      <th>confirmed</th>\n",
       "      <th>deaths</th>\n",
       "      <th>estimated_population</th>\n",
       "      <th>city_ibge_code</th>\n",
       "      <th>confirmed_per_100k_inhabitants</th>\n",
       "      <th>death_rate</th>\n",
       "    </tr>\n",
       "  </thead>\n",
       "  <tbody>\n",
       "    <tr>\n",
       "      <th>count</th>\n",
       "      <td>5589.000000</td>\n",
       "      <td>5589.000000</td>\n",
       "      <td>5.570000e+03</td>\n",
       "      <td>5.570000e+03</td>\n",
       "      <td>5570.000000</td>\n",
       "      <td>5589.000000</td>\n",
       "    </tr>\n",
       "    <tr>\n",
       "      <th>mean</th>\n",
       "      <td>4213.793165</td>\n",
       "      <td>110.104312</td>\n",
       "      <td>3.801718e+04</td>\n",
       "      <td>3.253591e+06</td>\n",
       "      <td>11403.035463</td>\n",
       "      <td>0.022913</td>\n",
       "    </tr>\n",
       "    <tr>\n",
       "      <th>std</th>\n",
       "      <td>20947.540060</td>\n",
       "      <td>810.330564</td>\n",
       "      <td>2.228930e+05</td>\n",
       "      <td>9.849103e+05</td>\n",
       "      <td>6275.323937</td>\n",
       "      <td>0.014855</td>\n",
       "    </tr>\n",
       "    <tr>\n",
       "      <th>min</th>\n",
       "      <td>0.000000</td>\n",
       "      <td>0.000000</td>\n",
       "      <td>7.760000e+02</td>\n",
       "      <td>1.100015e+06</td>\n",
       "      <td>178.954900</td>\n",
       "      <td>0.000000</td>\n",
       "    </tr>\n",
       "    <tr>\n",
       "      <th>25%</th>\n",
       "      <td>518.000000</td>\n",
       "      <td>9.000000</td>\n",
       "      <td>5.442250e+03</td>\n",
       "      <td>2.512126e+06</td>\n",
       "      <td>6962.299600</td>\n",
       "      <td>0.013900</td>\n",
       "    </tr>\n",
       "    <tr>\n",
       "      <th>50%</th>\n",
       "      <td>1085.000000</td>\n",
       "      <td>22.000000</td>\n",
       "      <td>1.166550e+04</td>\n",
       "      <td>3.146280e+06</td>\n",
       "      <td>10347.400315</td>\n",
       "      <td>0.020300</td>\n",
       "    </tr>\n",
       "    <tr>\n",
       "      <th>75%</th>\n",
       "      <td>2635.000000</td>\n",
       "      <td>54.000000</td>\n",
       "      <td>2.566375e+04</td>\n",
       "      <td>4.119190e+06</td>\n",
       "      <td>14449.463822</td>\n",
       "      <td>0.028500</td>\n",
       "    </tr>\n",
       "    <tr>\n",
       "      <th>max</th>\n",
       "      <td>976214.000000</td>\n",
       "      <td>39352.000000</td>\n",
       "      <td>1.232523e+07</td>\n",
       "      <td>5.300108e+06</td>\n",
       "      <td>51915.708810</td>\n",
       "      <td>0.266700</td>\n",
       "    </tr>\n",
       "  </tbody>\n",
       "</table>\n",
       "</div>"
      ],
      "text/plain": [
       "           confirmed        deaths  estimated_population  city_ibge_code  \\\n",
       "count    5589.000000   5589.000000          5.570000e+03    5.570000e+03   \n",
       "mean     4213.793165    110.104312          3.801718e+04    3.253591e+06   \n",
       "std     20947.540060    810.330564          2.228930e+05    9.849103e+05   \n",
       "min         0.000000      0.000000          7.760000e+02    1.100015e+06   \n",
       "25%       518.000000      9.000000          5.442250e+03    2.512126e+06   \n",
       "50%      1085.000000     22.000000          1.166550e+04    3.146280e+06   \n",
       "75%      2635.000000     54.000000          2.566375e+04    4.119190e+06   \n",
       "max    976214.000000  39352.000000          1.232523e+07    5.300108e+06   \n",
       "\n",
       "       confirmed_per_100k_inhabitants   death_rate  \n",
       "count                     5570.000000  5589.000000  \n",
       "mean                     11403.035463     0.022913  \n",
       "std                       6275.323937     0.014855  \n",
       "min                        178.954900     0.000000  \n",
       "25%                       6962.299600     0.013900  \n",
       "50%                      10347.400315     0.020300  \n",
       "75%                      14449.463822     0.028500  \n",
       "max                      51915.708810     0.266700  "
      ]
     },
     "execution_count": 49,
     "metadata": {},
     "output_type": "execute_result"
    }
   ],
   "source": [
    "casos_br_df.describe()"
   ]
  },
  {
   "cell_type": "markdown",
   "metadata": {},
   "source": [
    "Quanto à média de casos, a brasileira é 4213.79 e a paraibana é 1930.98 (Paraíba bem abaixo da média nacional).\n",
    "Quanto à média de mortes, a brasileira é 110.10 e a paraibana é 40.97 (Paraíba bem abaixo da média nacional).\n",
    "Quanto à média de casos a cada 100 mil habitantes, a brasileira é 11403.03 e a paraibana é 9242.32 (Paraíba um tanto abaixo da média nacional).\n",
    "Quanto à mortalidade média, a brasileira é 0.0229 e a paraibana é 0.0185 (Paraíba um tanto abaixo da média nacional)."
   ]
  },
  {
   "cell_type": "code",
   "execution_count": 52,
   "metadata": {},
   "outputs": [],
   "source": [
    "sns.set(rc={'figure.figsize':(10,8)})\n",
    "custom_params = {\"axes.spines.right\": False, \"axes.spines.top\": False}\n",
    "sns.set_theme(style=\"ticks\", rc=custom_params)"
   ]
  },
  {
   "cell_type": "code",
   "execution_count": 54,
   "metadata": {},
   "outputs": [
    {
     "data": {
      "text/plain": [
       "Text(0.5, 0, 'Casos a cada 100 mil habitantes')"
      ]
     },
     "execution_count": 54,
     "metadata": {},
     "output_type": "execute_result"
    },
    {
     "data": {
      "image/png": "[encoded data removed]",
      "text/plain": [
       "<Figure size 1000x800 with 1 Axes>"
      ]
     },
     "metadata": {},
     "output_type": "display_data"
    }
   ],
   "source": [
    "data_cp100k = [casos_df['confirmed_per_100k_inhabitants'], casos_br_df['confirmed_per_100k_inhabitants']]\n",
    "headers_cp100k = [\"Paraíba\", \"Brasil\"]\n",
    "\n",
    "compare_cp100k = pd.concat(data_cp100k, axis=1, keys=headers_cp100k)\n",
    "\n",
    "bp_cp100k = sns.boxplot(data = compare_cp100k, orient='h', palette=\"Set2\", order=['Paraíba', 'Brasil'])\n",
    "bp_cp100k.set_xlabel(\"Casos a cada 100 mil habitantes\", fontsize = 14)"
   ]
  },
  {
   "cell_type": "markdown",
   "metadata": {},
   "source": [
    "Vemos que, quanto aos casos a cada 100 mil habitantes, a Paraíba ficou bem, comparada ao cenário nacional. Os valores de primeiro quartil são aproximadamente iguais e os de mediana são muito próximos. O terceiro quartil do boxplot paraibano já fica um pouco mais atrás do nacional, e não há presença de outliers, ao contrário do outro."
   ]
  },
  {
   "cell_type": "code",
   "execution_count": 55,
   "metadata": {},
   "outputs": [
    {
     "data": {
      "text/plain": [
       "Text(0.5, 0, 'Mortalidade')"
      ]
     },
     "execution_count": 55,
     "metadata": {},
     "output_type": "execute_result"
    },
    {
     "data": {
      "image/png": "[encoded data removed]",
      "text/plain": [
       "<Figure size 1000x800 with 1 Axes>"
      ]
     },
     "metadata": {},
     "output_type": "display_data"
    }
   ],
   "source": [
    "data_dr = [casos_df['death_rate'], casos_br_df['death_rate']]\n",
    "headers_dr = [\"Paraíba\", \"Brasil\"]\n",
    "\n",
    "compare_dr = pd.concat(data_dr, axis=1, keys=headers_dr)\n",
    "\n",
    "bp_dr = sns.boxplot(data = compare_dr, orient='h', palette=\"Set2\", order=['Paraíba', 'Brasil'])\n",
    "bp_dr.set_xlabel(\"Mortalidade\", fontsize = 14)"
   ]
  },
  {
   "cell_type": "markdown",
   "metadata": {},
   "source": [
    "Já para o boxplot da variável mortalidade, o gráfico paraibano se assemelha bem mais ao brasileiro. Nele, podemos observar a presença de municípios paraibanos que são outliers não só a nível estadual, mas também a nível nacional.\n",
    "\n",
    "Como temos valores outliers para a mortalidade, mas não para a quantidade de casos a cada 100 mil habitantes, podemos concluir que existem na Paraíba municípios onde a mortalidade pela Covid-19 foi desproporcional à quantidade de casos. Ou seja, morreram mais pessoas do que deveriam."
   ]
  }
 ],
 "metadata": {
  "interpreter": {
   "hash": "916dbcbb3f70747c44a77c7bcd40155683ae19c65e1c03b4aa3499c5328201f1"
  },
  "kernelspec": {
   "display_name": "Python 3.8.10 64-bit",
   "language": "python",
   "name": "python3"
  },
  "language_info": {
   "codemirror_mode": {
    "name": "ipython",
    "version": 3
   },
   "file_extension": ".py",
   "mimetype": "text/x-python",
   "name": "python",
   "nbconvert_exporter": "python",
   "pygments_lexer": "ipython3",
   "version": "3.8.10"
  },
  "orig_nbformat": 4
 },
 "nbformat": 4,
 "nbformat_minor": 2
}
