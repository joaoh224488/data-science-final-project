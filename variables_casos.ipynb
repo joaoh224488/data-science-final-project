{
 "cells": [
  {
   "cell_type": "markdown",
   "metadata": {},
   "source": [
    "## Explorando as variáveis do dataset de casos\n",
    "* Verificando medidas de centralidade e dispersão das variáveis\n",
    "disponíveis"
   ]
  },
  {
   "cell_type": "code",
   "execution_count": 2,
   "metadata": {},
   "outputs": [],
   "source": [
    "import pandas as pd"
   ]
  },
  {
   "cell_type": "markdown",
   "metadata": {},
   "source": [
    "O dataset que usaremos tem informações sobre a covid-19 em todos os municípios da Paraíba, atualizado por ultimo dia 22/08/21"
   ]
  },
  {
   "cell_type": "code",
   "execution_count": 3,
   "metadata": {},
   "outputs": [
    {
     "data": {
      "text/html": [
       "<div>\n",
       "<style scoped>\n",
       "    .dataframe tbody tr th:only-of-type {\n",
       "        vertical-align: middle;\n",
       "    }\n",
       "\n",
       "    .dataframe tbody tr th {\n",
       "        vertical-align: top;\n",
       "    }\n",
       "\n",
       "    .dataframe thead th {\n",
       "        text-align: right;\n",
       "    }\n",
       "</style>\n",
       "<table border=\"1\" class=\"dataframe\">\n",
       "  <thead>\n",
       "    <tr style=\"text-align: right;\">\n",
       "      <th></th>\n",
       "      <th>date</th>\n",
       "      <th>state</th>\n",
       "      <th>city</th>\n",
       "      <th>place_type</th>\n",
       "      <th>confirmed</th>\n",
       "      <th>deaths</th>\n",
       "      <th>is_last</th>\n",
       "      <th>estimated_population</th>\n",
       "      <th>city_ibge_code</th>\n",
       "      <th>confirmed_per_100k_inhabitants</th>\n",
       "      <th>death_rate</th>\n",
       "    </tr>\n",
       "  </thead>\n",
       "  <tbody>\n",
       "    <tr>\n",
       "      <th>0</th>\n",
       "      <td>2021-08-22</td>\n",
       "      <td>PB</td>\n",
       "      <td>Água Branca</td>\n",
       "      <td>city</td>\n",
       "      <td>1128</td>\n",
       "      <td>14</td>\n",
       "      <td>True</td>\n",
       "      <td>10306</td>\n",
       "      <td>2500106</td>\n",
       "      <td>10945.08054</td>\n",
       "      <td>0.0124</td>\n",
       "    </tr>\n",
       "    <tr>\n",
       "      <th>1</th>\n",
       "      <td>2021-08-22</td>\n",
       "      <td>PB</td>\n",
       "      <td>Aguiar</td>\n",
       "      <td>city</td>\n",
       "      <td>528</td>\n",
       "      <td>5</td>\n",
       "      <td>True</td>\n",
       "      <td>5630</td>\n",
       "      <td>2500205</td>\n",
       "      <td>9378.33037</td>\n",
       "      <td>0.0095</td>\n",
       "    </tr>\n",
       "    <tr>\n",
       "      <th>2</th>\n",
       "      <td>2021-08-22</td>\n",
       "      <td>PB</td>\n",
       "      <td>Alagoa Grande</td>\n",
       "      <td>city</td>\n",
       "      <td>4117</td>\n",
       "      <td>72</td>\n",
       "      <td>True</td>\n",
       "      <td>28439</td>\n",
       "      <td>2500304</td>\n",
       "      <td>14476.59904</td>\n",
       "      <td>0.0175</td>\n",
       "    </tr>\n",
       "    <tr>\n",
       "      <th>3</th>\n",
       "      <td>2021-08-22</td>\n",
       "      <td>PB</td>\n",
       "      <td>Alagoa Nova</td>\n",
       "      <td>city</td>\n",
       "      <td>1511</td>\n",
       "      <td>25</td>\n",
       "      <td>True</td>\n",
       "      <td>20921</td>\n",
       "      <td>2500403</td>\n",
       "      <td>7222.40811</td>\n",
       "      <td>0.0165</td>\n",
       "    </tr>\n",
       "    <tr>\n",
       "      <th>4</th>\n",
       "      <td>2021-08-22</td>\n",
       "      <td>PB</td>\n",
       "      <td>Alagoinha</td>\n",
       "      <td>city</td>\n",
       "      <td>2072</td>\n",
       "      <td>25</td>\n",
       "      <td>True</td>\n",
       "      <td>14560</td>\n",
       "      <td>2500502</td>\n",
       "      <td>14230.76923</td>\n",
       "      <td>0.0121</td>\n",
       "    </tr>\n",
       "  </tbody>\n",
       "</table>\n",
       "</div>"
      ],
      "text/plain": [
       "         date state           city place_type  confirmed  deaths  is_last  \\\n",
       "0  2021-08-22    PB    Água Branca       city       1128      14     True   \n",
       "1  2021-08-22    PB         Aguiar       city        528       5     True   \n",
       "2  2021-08-22    PB  Alagoa Grande       city       4117      72     True   \n",
       "3  2021-08-22    PB    Alagoa Nova       city       1511      25     True   \n",
       "4  2021-08-22    PB      Alagoinha       city       2072      25     True   \n",
       "\n",
       "   estimated_population  city_ibge_code  confirmed_per_100k_inhabitants  \\\n",
       "0                 10306         2500106                     10945.08054   \n",
       "1                  5630         2500205                      9378.33037   \n",
       "2                 28439         2500304                     14476.59904   \n",
       "3                 20921         2500403                      7222.40811   \n",
       "4                 14560         2500502                     14230.76923   \n",
       "\n",
       "   death_rate  \n",
       "0      0.0124  \n",
       "1      0.0095  \n",
       "2      0.0175  \n",
       "3      0.0165  \n",
       "4      0.0121  "
      ]
     },
     "execution_count": 3,
     "metadata": {},
     "output_type": "execute_result"
    }
   ],
   "source": [
    "casos_df = pd.read_csv(\"datasets/dados_casos.csv\")\n",
    "casos_df.head(5)"
   ]
  },
  {
   "cell_type": "markdown",
   "metadata": {},
   "source": [
    "### Casos confirmados por município\n",
    "\n",
    "Armazenados na coluna titulada 'confirmed'"
   ]
  },
  {
   "cell_type": "code",
   "execution_count": 4,
   "metadata": {},
   "outputs": [
    {
     "data": {
      "text/plain": [
       "count       223.000000\n",
       "mean       1930.986547\n",
       "std        7639.848374\n",
       "min          60.000000\n",
       "25%         362.500000\n",
       "50%         655.000000\n",
       "75%        1295.000000\n",
       "max      103940.000000\n",
       "Name: confirmed, dtype: float64"
      ]
     },
     "execution_count": 4,
     "metadata": {},
     "output_type": "execute_result"
    }
   ],
   "source": [
    "casos_df['confirmed'].describe()"
   ]
  },
  {
   "cell_type": "markdown",
   "metadata": {},
   "source": [
    "Usando a função describe, calculamos rapidamente algumas medidas de centralidade e dispersão para a quantidade de casos de cada município.\n",
    "\n",
    "Vemos que a média de casos por município é 1930,98, porém o desvio padrão é 7639,84.\n",
    "\n",
    "Podemos também observar que a diferença entre o valor mínimo, o primeiro quartil e o segundo quartil são próximas, em torno de 300 casos. A diferença entre o segundo quartil e o terceiro quartil é o dobro disso, quase 600. Já a diferença entre o terceiro quartil e o valor máximo é mais de 10.000 casos. Com isso, podemos especular que o valor máximo representa um outlier, ou que poucos municípios (menos de 25%) concentram a maior quantidade de casos de covid-19 no Estado."
   ]
  },
  {
   "cell_type": "code",
   "execution_count": 5,
   "metadata": {},
   "outputs": [
    {
     "data": {
      "text/plain": [
       "0      109\n",
       "1      147\n",
       "2      212\n",
       "3      328\n",
       "4      392\n",
       "5      454\n",
       "6      455\n",
       "7      480\n",
       "8      530\n",
       "9      545\n",
       "10     555\n",
       "11     559\n",
       "12     876\n",
       "13     992\n",
       "14    1948\n",
       "Name: confirmed, dtype: int64"
      ]
     },
     "execution_count": 5,
     "metadata": {},
     "output_type": "execute_result"
    }
   ],
   "source": [
    "casos_df['confirmed'].mode()"
   ]
  },
  {
   "cell_type": "markdown",
   "metadata": {},
   "source": [
    "Temos muitos valores de moda \"empatados\", pois temos vários valores diferentes possíveis para a quantidade de casos de um município e eles raramente se repetem. Podemos verificar que cada valor possível para a moda ocorrem apenas duas vezes no dataset:"
   ]
  },
  {
   "cell_type": "code",
   "execution_count": 6,
   "metadata": {},
   "outputs": [
    {
     "data": {
      "text/html": [
       "<div>\n",
       "<style scoped>\n",
       "    .dataframe tbody tr th:only-of-type {\n",
       "        vertical-align: middle;\n",
       "    }\n",
       "\n",
       "    .dataframe tbody tr th {\n",
       "        vertical-align: top;\n",
       "    }\n",
       "\n",
       "    .dataframe thead th {\n",
       "        text-align: right;\n",
       "    }\n",
       "</style>\n",
       "<table border=\"1\" class=\"dataframe\">\n",
       "  <thead>\n",
       "    <tr style=\"text-align: right;\">\n",
       "      <th></th>\n",
       "      <th>date</th>\n",
       "      <th>state</th>\n",
       "      <th>city</th>\n",
       "      <th>place_type</th>\n",
       "      <th>confirmed</th>\n",
       "      <th>deaths</th>\n",
       "      <th>is_last</th>\n",
       "      <th>estimated_population</th>\n",
       "      <th>city_ibge_code</th>\n",
       "      <th>confirmed_per_100k_inhabitants</th>\n",
       "      <th>death_rate</th>\n",
       "    </tr>\n",
       "  </thead>\n",
       "  <tbody>\n",
       "    <tr>\n",
       "      <th>62</th>\n",
       "      <td>2021-08-22</td>\n",
       "      <td>PB</td>\n",
       "      <td>Coxixola</td>\n",
       "      <td>city</td>\n",
       "      <td>109</td>\n",
       "      <td>4</td>\n",
       "      <td>True</td>\n",
       "      <td>1935</td>\n",
       "      <td>2504850</td>\n",
       "      <td>5633.07494</td>\n",
       "      <td>0.0367</td>\n",
       "    </tr>\n",
       "    <tr>\n",
       "      <th>155</th>\n",
       "      <td>2021-08-22</td>\n",
       "      <td>PB</td>\n",
       "      <td>Quixaba</td>\n",
       "      <td>city</td>\n",
       "      <td>109</td>\n",
       "      <td>2</td>\n",
       "      <td>True</td>\n",
       "      <td>1983</td>\n",
       "      <td>2512606</td>\n",
       "      <td>5496.72214</td>\n",
       "      <td>0.0183</td>\n",
       "    </tr>\n",
       "  </tbody>\n",
       "</table>\n",
       "</div>"
      ],
      "text/plain": [
       "           date state      city place_type  confirmed  deaths  is_last  \\\n",
       "62   2021-08-22    PB  Coxixola       city        109       4     True   \n",
       "155  2021-08-22    PB   Quixaba       city        109       2     True   \n",
       "\n",
       "     estimated_population  city_ibge_code  confirmed_per_100k_inhabitants  \\\n",
       "62                   1935         2504850                      5633.07494   \n",
       "155                  1983         2512606                      5496.72214   \n",
       "\n",
       "     death_rate  \n",
       "62       0.0367  \n",
       "155      0.0183  "
      ]
     },
     "execution_count": 6,
     "metadata": {},
     "output_type": "execute_result"
    }
   ],
   "source": [
    "casos_df[casos_df['confirmed']==109]"
   ]
  },
  {
   "cell_type": "code",
   "execution_count": 7,
   "metadata": {},
   "outputs": [
    {
     "data": {
      "text/html": [
       "<div>\n",
       "<style scoped>\n",
       "    .dataframe tbody tr th:only-of-type {\n",
       "        vertical-align: middle;\n",
       "    }\n",
       "\n",
       "    .dataframe tbody tr th {\n",
       "        vertical-align: top;\n",
       "    }\n",
       "\n",
       "    .dataframe thead th {\n",
       "        text-align: right;\n",
       "    }\n",
       "</style>\n",
       "<table border=\"1\" class=\"dataframe\">\n",
       "  <thead>\n",
       "    <tr style=\"text-align: right;\">\n",
       "      <th></th>\n",
       "      <th>date</th>\n",
       "      <th>state</th>\n",
       "      <th>city</th>\n",
       "      <th>place_type</th>\n",
       "      <th>confirmed</th>\n",
       "      <th>deaths</th>\n",
       "      <th>is_last</th>\n",
       "      <th>estimated_population</th>\n",
       "      <th>city_ibge_code</th>\n",
       "      <th>confirmed_per_100k_inhabitants</th>\n",
       "      <th>death_rate</th>\n",
       "    </tr>\n",
       "  </thead>\n",
       "  <tbody>\n",
       "    <tr>\n",
       "      <th>133</th>\n",
       "      <td>2021-08-22</td>\n",
       "      <td>PB</td>\n",
       "      <td>Passagem</td>\n",
       "      <td>city</td>\n",
       "      <td>147</td>\n",
       "      <td>2</td>\n",
       "      <td>True</td>\n",
       "      <td>2436</td>\n",
       "      <td>2510709</td>\n",
       "      <td>6034.48276</td>\n",
       "      <td>0.0136</td>\n",
       "    </tr>\n",
       "    <tr>\n",
       "      <th>222</th>\n",
       "      <td>2021-08-22</td>\n",
       "      <td>PB</td>\n",
       "      <td>Zabelê</td>\n",
       "      <td>city</td>\n",
       "      <td>147</td>\n",
       "      <td>1</td>\n",
       "      <td>True</td>\n",
       "      <td>2255</td>\n",
       "      <td>2517407</td>\n",
       "      <td>6518.84701</td>\n",
       "      <td>0.0068</td>\n",
       "    </tr>\n",
       "  </tbody>\n",
       "</table>\n",
       "</div>"
      ],
      "text/plain": [
       "           date state      city place_type  confirmed  deaths  is_last  \\\n",
       "133  2021-08-22    PB  Passagem       city        147       2     True   \n",
       "222  2021-08-22    PB    Zabelê       city        147       1     True   \n",
       "\n",
       "     estimated_population  city_ibge_code  confirmed_per_100k_inhabitants  \\\n",
       "133                  2436         2510709                      6034.48276   \n",
       "222                  2255         2517407                      6518.84701   \n",
       "\n",
       "     death_rate  \n",
       "133      0.0136  \n",
       "222      0.0068  "
      ]
     },
     "execution_count": 7,
     "metadata": {},
     "output_type": "execute_result"
    }
   ],
   "source": [
    "casos_df[casos_df['confirmed']==147]"
   ]
  },
  {
   "cell_type": "code",
   "execution_count": 8,
   "metadata": {},
   "outputs": [
    {
     "data": {
      "text/html": [
       "<div>\n",
       "<style scoped>\n",
       "    .dataframe tbody tr th:only-of-type {\n",
       "        vertical-align: middle;\n",
       "    }\n",
       "\n",
       "    .dataframe tbody tr th {\n",
       "        vertical-align: top;\n",
       "    }\n",
       "\n",
       "    .dataframe thead th {\n",
       "        text-align: right;\n",
       "    }\n",
       "</style>\n",
       "<table border=\"1\" class=\"dataframe\">\n",
       "  <thead>\n",
       "    <tr style=\"text-align: right;\">\n",
       "      <th></th>\n",
       "      <th>date</th>\n",
       "      <th>state</th>\n",
       "      <th>city</th>\n",
       "      <th>place_type</th>\n",
       "      <th>confirmed</th>\n",
       "      <th>deaths</th>\n",
       "      <th>is_last</th>\n",
       "      <th>estimated_population</th>\n",
       "      <th>city_ibge_code</th>\n",
       "      <th>confirmed_per_100k_inhabitants</th>\n",
       "      <th>death_rate</th>\n",
       "    </tr>\n",
       "  </thead>\n",
       "  <tbody>\n",
       "    <tr>\n",
       "      <th>46</th>\n",
       "      <td>2021-08-22</td>\n",
       "      <td>PB</td>\n",
       "      <td>Cajazeirinhas</td>\n",
       "      <td>city</td>\n",
       "      <td>212</td>\n",
       "      <td>1</td>\n",
       "      <td>True</td>\n",
       "      <td>3205</td>\n",
       "      <td>2503753</td>\n",
       "      <td>6614.66459</td>\n",
       "      <td>0.0047</td>\n",
       "    </tr>\n",
       "    <tr>\n",
       "      <th>82</th>\n",
       "      <td>2021-08-22</td>\n",
       "      <td>PB</td>\n",
       "      <td>Gurjão</td>\n",
       "      <td>city</td>\n",
       "      <td>212</td>\n",
       "      <td>7</td>\n",
       "      <td>True</td>\n",
       "      <td>3453</td>\n",
       "      <td>2506509</td>\n",
       "      <td>6139.58876</td>\n",
       "      <td>0.0330</td>\n",
       "    </tr>\n",
       "  </tbody>\n",
       "</table>\n",
       "</div>"
      ],
      "text/plain": [
       "          date state           city place_type  confirmed  deaths  is_last  \\\n",
       "46  2021-08-22    PB  Cajazeirinhas       city        212       1     True   \n",
       "82  2021-08-22    PB         Gurjão       city        212       7     True   \n",
       "\n",
       "    estimated_population  city_ibge_code  confirmed_per_100k_inhabitants  \\\n",
       "46                  3205         2503753                      6614.66459   \n",
       "82                  3453         2506509                      6139.58876   \n",
       "\n",
       "    death_rate  \n",
       "46      0.0047  \n",
       "82      0.0330  "
      ]
     },
     "execution_count": 8,
     "metadata": {},
     "output_type": "execute_result"
    }
   ],
   "source": [
    "casos_df[casos_df['confirmed']==212]"
   ]
  },
  {
   "cell_type": "code",
   "execution_count": 9,
   "metadata": {},
   "outputs": [
    {
     "data": {
      "text/plain": [
       "<AxesSubplot:>"
      ]
     },
     "execution_count": 9,
     "metadata": {},
     "output_type": "execute_result"
    },
    {
     "data": {
      "image/png": "[encoded data removed]",
      "text/plain": [
       "<Figure size 432x288 with 1 Axes>"
      ]
     },
     "metadata": {
      "needs_background": "light"
     },
     "output_type": "display_data"
    }
   ],
   "source": [
    "casos_df.boxplot(column = 'confirmed')"
   ]
  },
  {
   "cell_type": "code",
   "execution_count": 10,
   "metadata": {},
   "outputs": [
    {
     "data": {
      "text/html": [
       "<div>\n",
       "<style scoped>\n",
       "    .dataframe tbody tr th:only-of-type {\n",
       "        vertical-align: middle;\n",
       "    }\n",
       "\n",
       "    .dataframe tbody tr th {\n",
       "        vertical-align: top;\n",
       "    }\n",
       "\n",
       "    .dataframe thead th {\n",
       "        text-align: right;\n",
       "    }\n",
       "</style>\n",
       "<table border=\"1\" class=\"dataframe\">\n",
       "  <thead>\n",
       "    <tr style=\"text-align: right;\">\n",
       "      <th></th>\n",
       "      <th>date</th>\n",
       "      <th>state</th>\n",
       "      <th>city</th>\n",
       "      <th>place_type</th>\n",
       "      <th>confirmed</th>\n",
       "      <th>deaths</th>\n",
       "      <th>is_last</th>\n",
       "      <th>estimated_population</th>\n",
       "      <th>city_ibge_code</th>\n",
       "      <th>confirmed_per_100k_inhabitants</th>\n",
       "      <th>death_rate</th>\n",
       "    </tr>\n",
       "  </thead>\n",
       "  <tbody>\n",
       "    <tr>\n",
       "      <th>49</th>\n",
       "      <td>2021-08-22</td>\n",
       "      <td>PB</td>\n",
       "      <td>Campina Grande</td>\n",
       "      <td>city</td>\n",
       "      <td>42778</td>\n",
       "      <td>1084</td>\n",
       "      <td>True</td>\n",
       "      <td>411807</td>\n",
       "      <td>2504009</td>\n",
       "      <td>10387.87587</td>\n",
       "      <td>0.0253</td>\n",
       "    </tr>\n",
       "    <tr>\n",
       "      <th>93</th>\n",
       "      <td>2021-08-22</td>\n",
       "      <td>PB</td>\n",
       "      <td>João Pessoa</td>\n",
       "      <td>city</td>\n",
       "      <td>103940</td>\n",
       "      <td>2890</td>\n",
       "      <td>True</td>\n",
       "      <td>817511</td>\n",
       "      <td>2507507</td>\n",
       "      <td>12714.20201</td>\n",
       "      <td>0.0278</td>\n",
       "    </tr>\n",
       "  </tbody>\n",
       "</table>\n",
       "</div>"
      ],
      "text/plain": [
       "          date state            city place_type  confirmed  deaths  is_last  \\\n",
       "49  2021-08-22    PB  Campina Grande       city      42778    1084     True   \n",
       "93  2021-08-22    PB     João Pessoa       city     103940    2890     True   \n",
       "\n",
       "    estimated_population  city_ibge_code  confirmed_per_100k_inhabitants  \\\n",
       "49                411807         2504009                     10387.87587   \n",
       "93                817511         2507507                     12714.20201   \n",
       "\n",
       "    death_rate  \n",
       "49      0.0253  \n",
       "93      0.0278  "
      ]
     },
     "execution_count": 10,
     "metadata": {},
     "output_type": "execute_result"
    }
   ],
   "source": [
    "casos_df[casos_df['confirmed']>40000]"
   ]
  },
  {
   "cell_type": "markdown",
   "metadata": {},
   "source": [
    "O boxplot que representa a distribuição dos casos por município é extremamente achatado, de tal forma que se torna ilegível. Isso ocorre pois os dois maiores municípios do Estado, João Pessoa e Campina Grande, concentram muitos mais casos que os demais municípios. Além disso, mesmo não os levando em conta, ainda temos muitos casos outliers além deles. Isso nos mostra que os casos de covid no Estado da Paraíba não estão distribuídos uniformemente entre os municípios, e sim concentrados em focos. "
   ]
  },
  {
   "cell_type": "markdown",
   "metadata": {},
   "source": [
    "### Mortes por covid-19 confirmadas por município\n",
    "\n",
    "Armazenados na coluna titulada 'deaths'"
   ]
  },
  {
   "cell_type": "code",
   "execution_count": 11,
   "metadata": {},
   "outputs": [
    {
     "data": {
      "text/plain": [
       "count     223.000000\n",
       "mean       40.973094\n",
       "std       208.290704\n",
       "min         0.000000\n",
       "25%         6.000000\n",
       "50%        11.000000\n",
       "75%        25.000000\n",
       "max      2890.000000\n",
       "Name: deaths, dtype: float64"
      ]
     },
     "execution_count": 11,
     "metadata": {},
     "output_type": "execute_result"
    }
   ],
   "source": [
    "casos_df['deaths'].describe()"
   ]
  },
  {
   "cell_type": "markdown",
   "metadata": {},
   "source": [
    " Similarmente à quantidade de casos, a média de mortes por municípios tem média baixa, 40,97, porém desvio padrão alto, 208,29. \n",
    "\n",
    " Vemos que os valores mínino, e de primeiro, segundo e terceiro quartil são próximos (0, 6, 11 e 25 respectivamente), porém o valor máximo apresenta um salto enorme (2890). Vimos que poucos municípios concentram mais casos e consequentemente devem concentrar mais mortes, mas talvez outro fator para esse fenômeno possa ser o fato que municípios menores tem menos estrutura hospitalar para lidar com casos mais graves da doença, e é comum vermos esses pacientes serem transportados para municípios maiores para melhor tratamento. Dessa forma, caso o paciente venha a óbito, talvez ele seja registrado na capital, por exemplo, ao invés do seu município de origem, inflando mais esses números."
   ]
  },
  {
   "cell_type": "code",
   "execution_count": 12,
   "metadata": {},
   "outputs": [
    {
     "data": {
      "text/plain": [
       "0    5\n",
       "Name: deaths, dtype: int64"
      ]
     },
     "execution_count": 12,
     "metadata": {},
     "output_type": "execute_result"
    }
   ],
   "source": [
    "casos_df['deaths'].mode()"
   ]
  },
  {
   "cell_type": "code",
   "execution_count": 13,
   "metadata": {},
   "outputs": [
    {
     "data": {
      "text/plain": [
       "16"
      ]
     },
     "execution_count": 13,
     "metadata": {},
     "output_type": "execute_result"
    }
   ],
   "source": [
    "casos_df['deaths'][casos_df['deaths']==5].count()"
   ]
  },
  {
   "cell_type": "markdown",
   "metadata": {},
   "source": [
    "Dessa vez, como a quantidade de mortes por município é bem menor que a de casos, há menos valores possível para a moda, e há maior incidência do valor entre os dados."
   ]
  },
  {
   "cell_type": "code",
   "execution_count": 14,
   "metadata": {},
   "outputs": [
    {
     "data": {
      "text/plain": [
       "<AxesSubplot:>"
      ]
     },
     "execution_count": 14,
     "metadata": {},
     "output_type": "execute_result"
    },
    {
     "data": {
      "image/png": "[encoded data removed]",
      "text/plain": [
       "<Figure size 432x288 with 1 Axes>"
      ]
     },
     "metadata": {
      "needs_background": "light"
     },
     "output_type": "display_data"
    }
   ],
   "source": [
    "casos_df.boxplot(column = 'deaths')"
   ]
  },
  {
   "cell_type": "code",
   "execution_count": 15,
   "metadata": {},
   "outputs": [
    {
     "data": {
      "text/html": [
       "<div>\n",
       "<style scoped>\n",
       "    .dataframe tbody tr th:only-of-type {\n",
       "        vertical-align: middle;\n",
       "    }\n",
       "\n",
       "    .dataframe tbody tr th {\n",
       "        vertical-align: top;\n",
       "    }\n",
       "\n",
       "    .dataframe thead th {\n",
       "        text-align: right;\n",
       "    }\n",
       "</style>\n",
       "<table border=\"1\" class=\"dataframe\">\n",
       "  <thead>\n",
       "    <tr style=\"text-align: right;\">\n",
       "      <th></th>\n",
       "      <th>date</th>\n",
       "      <th>state</th>\n",
       "      <th>city</th>\n",
       "      <th>place_type</th>\n",
       "      <th>confirmed</th>\n",
       "      <th>deaths</th>\n",
       "      <th>is_last</th>\n",
       "      <th>estimated_population</th>\n",
       "      <th>city_ibge_code</th>\n",
       "      <th>confirmed_per_100k_inhabitants</th>\n",
       "      <th>death_rate</th>\n",
       "    </tr>\n",
       "  </thead>\n",
       "  <tbody>\n",
       "    <tr>\n",
       "      <th>49</th>\n",
       "      <td>2021-08-22</td>\n",
       "      <td>PB</td>\n",
       "      <td>Campina Grande</td>\n",
       "      <td>city</td>\n",
       "      <td>42778</td>\n",
       "      <td>1084</td>\n",
       "      <td>True</td>\n",
       "      <td>411807</td>\n",
       "      <td>2504009</td>\n",
       "      <td>10387.87587</td>\n",
       "      <td>0.0253</td>\n",
       "    </tr>\n",
       "    <tr>\n",
       "      <th>93</th>\n",
       "      <td>2021-08-22</td>\n",
       "      <td>PB</td>\n",
       "      <td>João Pessoa</td>\n",
       "      <td>city</td>\n",
       "      <td>103940</td>\n",
       "      <td>2890</td>\n",
       "      <td>True</td>\n",
       "      <td>817511</td>\n",
       "      <td>2507507</td>\n",
       "      <td>12714.20201</td>\n",
       "      <td>0.0278</td>\n",
       "    </tr>\n",
       "  </tbody>\n",
       "</table>\n",
       "</div>"
      ],
      "text/plain": [
       "          date state            city place_type  confirmed  deaths  is_last  \\\n",
       "49  2021-08-22    PB  Campina Grande       city      42778    1084     True   \n",
       "93  2021-08-22    PB     João Pessoa       city     103940    2890     True   \n",
       "\n",
       "    estimated_population  city_ibge_code  confirmed_per_100k_inhabitants  \\\n",
       "49                411807         2504009                     10387.87587   \n",
       "93                817511         2507507                     12714.20201   \n",
       "\n",
       "    death_rate  \n",
       "49      0.0253  \n",
       "93      0.0278  "
      ]
     },
     "execution_count": 15,
     "metadata": {},
     "output_type": "execute_result"
    }
   ],
   "source": [
    "casos_df[casos_df['deaths']>1000]"
   ]
  },
  {
   "cell_type": "markdown",
   "metadata": {},
   "source": [
    "Novamente vemos um gráfico boxplot achatado, mostrando que, tal qual os casos de covid-19, as mortes da doença também se concentram em poucos municípios outliers."
   ]
  },
  {
   "cell_type": "markdown",
   "metadata": {},
   "source": [
    "### População estimada\n",
    "\n",
    "Armazenados na coluna titulada 'estimated_population'"
   ]
  },
  {
   "cell_type": "code",
   "execution_count": 16,
   "metadata": {},
   "outputs": [
    {
     "data": {
      "text/plain": [
       "count       223.000000\n",
       "mean      18113.349776\n",
       "std       62236.235680\n",
       "min        1758.000000\n",
       "25%        4551.500000\n",
       "50%        7286.000000\n",
       "75%       15363.000000\n",
       "max      817511.000000\n",
       "Name: estimated_population, dtype: float64"
      ]
     },
     "execution_count": 16,
     "metadata": {},
     "output_type": "execute_result"
    }
   ],
   "source": [
    "casos_df['estimated_population'].describe()"
   ]
  },
  {
   "cell_type": "markdown",
   "metadata": {},
   "source": [
    "Observando as medidas de centralidade dos dados de população dos municípios paraibanos, vemos novamente o comportamento apresentado nas variáveis anteriores: média baixa, desvio padrão alto, valores de primeiro, segundo e terceiro quartil próximos com um salto muito grande entre o último e o valor máximo. Isso nos mostra que grande parte da população do Estado encontra-se concentrada em poucos municípios.\n",
    "\n",
    "Podemos observar isso melhor no gráfico boxplot da variável."
   ]
  },
  {
   "cell_type": "code",
   "execution_count": 17,
   "metadata": {},
   "outputs": [
    {
     "data": {
      "text/plain": [
       "<AxesSubplot:>"
      ]
     },
     "execution_count": 17,
     "metadata": {},
     "output_type": "execute_result"
    },
    {
     "data": {
      "image/png": "[encoded data removed]",
      "text/plain": [
       "<Figure size 432x288 with 1 Axes>"
      ]
     },
     "metadata": {
      "needs_background": "light"
     },
     "output_type": "display_data"
    }
   ],
   "source": [
    "casos_df.boxplot(column = 'estimated_population')"
   ]
  },
  {
   "cell_type": "markdown",
   "metadata": {},
   "source": [
    "### Casos confirmados por 100 mil habitantes por município\n",
    "\n",
    "Armazenados na coluna titulada 'confirmed_per_100k_inhabitants'"
   ]
  },
  {
   "cell_type": "code",
   "execution_count": 19,
   "metadata": {},
   "outputs": [
    {
     "data": {
      "text/plain": [
       "<AxesSubplot:>"
      ]
     },
     "execution_count": 19,
     "metadata": {},
     "output_type": "execute_result"
    },
    {
     "data": {
      "image/png": "[encoded data removed]",
      "text/plain": [
       "<Figure size 432x288 with 1 Axes>"
      ]
     },
     "metadata": {
      "needs_background": "light"
     },
     "output_type": "display_data"
    }
   ],
   "source": [
    "casos_df.boxplot(column = 'confirmed_per_100k_inhabitants')"
   ]
  }
 ],
 "metadata": {
  "interpreter": {
   "hash": "916dbcbb3f70747c44a77c7bcd40155683ae19c65e1c03b4aa3499c5328201f1"
  },
  "kernelspec": {
   "display_name": "Python 3.8.10 64-bit",
   "language": "python",
   "name": "python3"
  },
  "language_info": {
   "codemirror_mode": {
    "name": "ipython",
    "version": 3
   },
   "file_extension": ".py",
   "mimetype": "text/x-python",
   "name": "python",
   "nbconvert_exporter": "python",
   "pygments_lexer": "ipython3",
   "version": "3.8.10"
  },
  "orig_nbformat": 4
 },
 "nbformat": 4,
 "nbformat_minor": 2
}
