{
 "cells": [
  {
   "cell_type": "markdown",
   "metadata": {},
   "source": [
    "## Explorando as variáveis do dataset\n",
    "* Verificando medidas de centralidade e dispersão das variáveis\n",
    "disponíveis"
   ]
  },
  {
   "cell_type": "code",
   "execution_count": 3,
   "metadata": {},
   "outputs": [
    {
     "data": {
      "text/html": [
       "<div>\n",
       "<style scoped>\n",
       "    .dataframe tbody tr th:only-of-type {\n",
       "        vertical-align: middle;\n",
       "    }\n",
       "\n",
       "    .dataframe tbody tr th {\n",
       "        vertical-align: top;\n",
       "    }\n",
       "\n",
       "    .dataframe thead th {\n",
       "        text-align: right;\n",
       "    }\n",
       "</style>\n",
       "<table border=\"1\" class=\"dataframe\">\n",
       "  <thead>\n",
       "    <tr style=\"text-align: right;\">\n",
       "      <th></th>\n",
       "      <th>paciente_idade</th>\n",
       "      <th>paciente_dataNascimento</th>\n",
       "      <th>paciente_enumSexoBiologico</th>\n",
       "      <th>paciente_racaCor_codigo</th>\n",
       "      <th>paciente_racaCor_valor</th>\n",
       "      <th>paciente_endereco_nmMunicipio</th>\n",
       "      <th>paciente_endereco_cep</th>\n",
       "      <th>estabelecimento_municipio_nome</th>\n",
       "      <th>vacina_categoria_codigo</th>\n",
       "      <th>vacina_categoria_nome</th>\n",
       "      <th>vacina_dataAplicacao</th>\n",
       "      <th>vacina_descricao_dose</th>\n",
       "      <th>vacina_codigo</th>\n",
       "    </tr>\n",
       "  </thead>\n",
       "  <tbody>\n",
       "    <tr>\n",
       "      <th>0</th>\n",
       "      <td>49</td>\n",
       "      <td>1972-04-06</td>\n",
       "      <td>M</td>\n",
       "      <td>99</td>\n",
       "      <td>SEM INFORMACAO</td>\n",
       "      <td>CABEDELO</td>\n",
       "      <td>58101</td>\n",
       "      <td>CABEDELO</td>\n",
       "      <td>1.0</td>\n",
       "      <td>Comorbidades</td>\n",
       "      <td>2021-12-21</td>\n",
       "      <td>Reforço</td>\n",
       "      <td>87</td>\n",
       "    </tr>\n",
       "    <tr>\n",
       "      <th>1</th>\n",
       "      <td>43</td>\n",
       "      <td>1978-01-16</td>\n",
       "      <td>F</td>\n",
       "      <td>99</td>\n",
       "      <td>SEM INFORMACAO</td>\n",
       "      <td>CABEDELO</td>\n",
       "      <td>58101</td>\n",
       "      <td>CABEDELO</td>\n",
       "      <td>1.0</td>\n",
       "      <td>Comorbidades</td>\n",
       "      <td>2021-05-10</td>\n",
       "      <td>1ª Dose</td>\n",
       "      <td>85</td>\n",
       "    </tr>\n",
       "    <tr>\n",
       "      <th>2</th>\n",
       "      <td>68</td>\n",
       "      <td>1953-03-13</td>\n",
       "      <td>F</td>\n",
       "      <td>2</td>\n",
       "      <td>PRETA</td>\n",
       "      <td>SOUSA</td>\n",
       "      <td>58805</td>\n",
       "      <td>SOUSA</td>\n",
       "      <td>2.0</td>\n",
       "      <td>Faixa Etária</td>\n",
       "      <td>2021-03-23</td>\n",
       "      <td>1ª Dose</td>\n",
       "      <td>86</td>\n",
       "    </tr>\n",
       "    <tr>\n",
       "      <th>3</th>\n",
       "      <td>23</td>\n",
       "      <td>1998-10-06</td>\n",
       "      <td>F</td>\n",
       "      <td>1</td>\n",
       "      <td>BRANCA</td>\n",
       "      <td>CAJAZEIRAS</td>\n",
       "      <td>58900</td>\n",
       "      <td>CACHOEIRA DOS INDIOS</td>\n",
       "      <td>2.0</td>\n",
       "      <td>Faixa Etária</td>\n",
       "      <td>2022-03-24</td>\n",
       "      <td>Reforço</td>\n",
       "      <td>88</td>\n",
       "    </tr>\n",
       "    <tr>\n",
       "      <th>4</th>\n",
       "      <td>72</td>\n",
       "      <td>1949-03-10</td>\n",
       "      <td>M</td>\n",
       "      <td>4</td>\n",
       "      <td>AMARELA</td>\n",
       "      <td>VIEIROPOLIS</td>\n",
       "      <td>58822</td>\n",
       "      <td>VIEIROPOLIS</td>\n",
       "      <td>2.0</td>\n",
       "      <td>Faixa Etária</td>\n",
       "      <td>2021-12-06</td>\n",
       "      <td>Reforço</td>\n",
       "      <td>87</td>\n",
       "    </tr>\n",
       "  </tbody>\n",
       "</table>\n",
       "</div>"
      ],
      "text/plain": [
       "   paciente_idade paciente_dataNascimento paciente_enumSexoBiologico  \\\n",
       "0              49              1972-04-06                          M   \n",
       "1              43              1978-01-16                          F   \n",
       "2              68              1953-03-13                          F   \n",
       "3              23              1998-10-06                          F   \n",
       "4              72              1949-03-10                          M   \n",
       "\n",
       "   paciente_racaCor_codigo paciente_racaCor_valor  \\\n",
       "0                       99         SEM INFORMACAO   \n",
       "1                       99         SEM INFORMACAO   \n",
       "2                        2                  PRETA   \n",
       "3                        1                 BRANCA   \n",
       "4                        4                AMARELA   \n",
       "\n",
       "  paciente_endereco_nmMunicipio paciente_endereco_cep  \\\n",
       "0                      CABEDELO                 58101   \n",
       "1                      CABEDELO                 58101   \n",
       "2                         SOUSA                 58805   \n",
       "3                    CAJAZEIRAS                 58900   \n",
       "4                   VIEIROPOLIS                 58822   \n",
       "\n",
       "  estabelecimento_municipio_nome  vacina_categoria_codigo  \\\n",
       "0                       CABEDELO                      1.0   \n",
       "1                       CABEDELO                      1.0   \n",
       "2                          SOUSA                      2.0   \n",
       "3           CACHOEIRA DOS INDIOS                      2.0   \n",
       "4                    VIEIROPOLIS                      2.0   \n",
       "\n",
       "  vacina_categoria_nome vacina_dataAplicacao vacina_descricao_dose  \\\n",
       "0          Comorbidades           2021-12-21               Reforço   \n",
       "1          Comorbidades           2021-05-10               1ª Dose   \n",
       "2          Faixa Etária           2021-03-23               1ª Dose   \n",
       "3          Faixa Etária           2022-03-24               Reforço   \n",
       "4          Faixa Etária           2021-12-06               Reforço   \n",
       "\n",
       "   vacina_codigo  \n",
       "0             87  \n",
       "1             85  \n",
       "2             86  \n",
       "3             88  \n",
       "4             87  "
      ]
     },
     "execution_count": 3,
     "metadata": {},
     "output_type": "execute_result"
    }
   ],
   "source": [
    "import pandas as pd\n",
    "vax_df = pd.read_csv('datasets/dados_vacinacao.csv')\n",
    "vax_df.head()\n"
   ]
  },
  {
   "cell_type": "markdown",
   "metadata": {},
   "source": [
    "## Média"
   ]
  },
  {
   "cell_type": "code",
   "execution_count": null,
   "metadata": {},
   "outputs": [],
   "source": []
  },
  {
   "cell_type": "markdown",
   "metadata": {},
   "source": [
    "## Mediana"
   ]
  },
  {
   "cell_type": "code",
   "execution_count": null,
   "metadata": {},
   "outputs": [],
   "source": []
  },
  {
   "cell_type": "markdown",
   "metadata": {},
   "source": [
    "## Quantil "
   ]
  },
  {
   "cell_type": "code",
   "execution_count": null,
   "metadata": {},
   "outputs": [],
   "source": []
  },
  {
   "cell_type": "markdown",
   "metadata": {},
   "source": [
    "## Moda"
   ]
  },
  {
   "cell_type": "code",
   "execution_count": null,
   "metadata": {},
   "outputs": [],
   "source": []
  },
  {
   "cell_type": "markdown",
   "metadata": {},
   "source": [
    "## Variância"
   ]
  },
  {
   "cell_type": "code",
   "execution_count": null,
   "metadata": {},
   "outputs": [],
   "source": []
  },
  {
   "cell_type": "markdown",
   "metadata": {},
   "source": [
    "## Desvio padrão"
   ]
  },
  {
   "cell_type": "code",
   "execution_count": null,
   "metadata": {},
   "outputs": [],
   "source": []
  },
  {
   "cell_type": "markdown",
   "metadata": {},
   "source": [
    "## Boxplot"
   ]
  },
  {
   "cell_type": "code",
   "execution_count": null,
   "metadata": {},
   "outputs": [],
   "source": []
  }
 ],
 "metadata": {
  "interpreter": {
   "hash": "5b3ded1ccb95c1d9bd405e7b823d9e85424cde40fbb5985eb47e999ef50e15b4"
  },
  "kernelspec": {
   "display_name": "Python 3.8.10 64-bit",
   "language": "python",
   "name": "python3"
  },
  "language_info": {
   "codemirror_mode": {
    "name": "ipython",
    "version": 3
   },
   "file_extension": ".py",
   "mimetype": "text/x-python",
   "name": "python",
   "nbconvert_exporter": "python",
   "pygments_lexer": "ipython3",
   "version": "3.8.10"
  },
  "orig_nbformat": 4
 },
 "nbformat": 4,
 "nbformat_minor": 2
}
