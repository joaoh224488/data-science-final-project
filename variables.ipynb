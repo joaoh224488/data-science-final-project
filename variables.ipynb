{
 "cells": [
  {
   "cell_type": "markdown",
   "metadata": {},
   "source": [
    "## Explorando as variáveis do dataset\n",
    "* Verificando medidas de centralidade e dispersão das variáveis\n",
    "disponíveis"
   ]
  },
  {
   "cell_type": "code",
   "execution_count": 1,
   "metadata": {},
   "outputs": [],
   "source": [
    "import pandas as pd"
   ]
  },
  {
   "cell_type": "markdown",
   "metadata": {},
   "source": [
    "O dataset que usaremos tem informações sobre doses individuais da vacina contra covid-19 aplicada pelo SUS no estado da Paraíba. Cada entrada tem informações sobre o paciente que a recebe, como idade, sexo, etnia, município de aplicação da dose, entre outros."
   ]
  },
  {
   "cell_type": "code",
   "execution_count": 2,
   "metadata": {},
   "outputs": [
    {
     "data": {
      "text/html": [
       "<div>\n",
       "<style scoped>\n",
       "    .dataframe tbody tr th:only-of-type {\n",
       "        vertical-align: middle;\n",
       "    }\n",
       "\n",
       "    .dataframe tbody tr th {\n",
       "        vertical-align: top;\n",
       "    }\n",
       "\n",
       "    .dataframe thead th {\n",
       "        text-align: right;\n",
       "    }\n",
       "</style>\n",
       "<table border=\"1\" class=\"dataframe\">\n",
       "  <thead>\n",
       "    <tr style=\"text-align: right;\">\n",
       "      <th></th>\n",
       "      <th>paciente_idade</th>\n",
       "      <th>paciente_dataNascimento</th>\n",
       "      <th>paciente_enumSexoBiologico</th>\n",
       "      <th>paciente_racaCor_codigo</th>\n",
       "      <th>paciente_racaCor_valor</th>\n",
       "      <th>paciente_endereco_nmMunicipio</th>\n",
       "      <th>paciente_endereco_cep</th>\n",
       "      <th>estabelecimento_municipio_nome</th>\n",
       "      <th>vacina_categoria_codigo</th>\n",
       "      <th>vacina_categoria_nome</th>\n",
       "      <th>vacina_dataAplicacao</th>\n",
       "      <th>vacina_descricao_dose</th>\n",
       "      <th>vacina_codigo</th>\n",
       "      <th>paciente_id</th>\n",
       "    </tr>\n",
       "  </thead>\n",
       "  <tbody>\n",
       "    <tr>\n",
       "      <th>0</th>\n",
       "      <td>75.0</td>\n",
       "      <td>1945-08-21</td>\n",
       "      <td>F</td>\n",
       "      <td>99.0</td>\n",
       "      <td>SEM INFORMACAO</td>\n",
       "      <td>CAMPINA GRANDE</td>\n",
       "      <td>58400</td>\n",
       "      <td>CAMPINA GRANDE</td>\n",
       "      <td>2.0</td>\n",
       "      <td>Faixa Etária</td>\n",
       "      <td>2021-03-23</td>\n",
       "      <td>1ª Dose</td>\n",
       "      <td>86</td>\n",
       "      <td>ab6e7a0a8a6d54873f827405061d6762b8a838f5aef5d2...</td>\n",
       "    </tr>\n",
       "    <tr>\n",
       "      <th>1</th>\n",
       "      <td>54.0</td>\n",
       "      <td>1967-04-29</td>\n",
       "      <td>M</td>\n",
       "      <td>99.0</td>\n",
       "      <td>SEM INFORMACAO</td>\n",
       "      <td>CAMPINA GRANDE</td>\n",
       "      <td>58441</td>\n",
       "      <td>CAMPINA GRANDE</td>\n",
       "      <td>2.0</td>\n",
       "      <td>Faixa Etária</td>\n",
       "      <td>2021-07-23</td>\n",
       "      <td>2ª Dose</td>\n",
       "      <td>86</td>\n",
       "      <td>2df15799ec1d98adf957644142cf1b33da5eed86b29192...</td>\n",
       "    </tr>\n",
       "    <tr>\n",
       "      <th>2</th>\n",
       "      <td>38.0</td>\n",
       "      <td>1983-07-18</td>\n",
       "      <td>F</td>\n",
       "      <td>3.0</td>\n",
       "      <td>PARDA</td>\n",
       "      <td>JOAO PESSOA</td>\n",
       "      <td>58058</td>\n",
       "      <td>JOAO PESSOA</td>\n",
       "      <td>2.0</td>\n",
       "      <td>Faixa Etária</td>\n",
       "      <td>2022-03-07</td>\n",
       "      <td>Reforço</td>\n",
       "      <td>88</td>\n",
       "      <td>39c6a9cd8006a46fa554ca4253d4286a8f338582ac0c47...</td>\n",
       "    </tr>\n",
       "    <tr>\n",
       "      <th>3</th>\n",
       "      <td>27.0</td>\n",
       "      <td>1994-05-20</td>\n",
       "      <td>M</td>\n",
       "      <td>1.0</td>\n",
       "      <td>BRANCA</td>\n",
       "      <td>SANTA RITA</td>\n",
       "      <td>58300</td>\n",
       "      <td>SANTA RITA</td>\n",
       "      <td>2.0</td>\n",
       "      <td>Faixa Etária</td>\n",
       "      <td>2021-08-12</td>\n",
       "      <td>1ª Dose</td>\n",
       "      <td>87</td>\n",
       "      <td>f69f0b6a6b8d69512e8d3075a298301a16a86b7bb116ee...</td>\n",
       "    </tr>\n",
       "    <tr>\n",
       "      <th>4</th>\n",
       "      <td>102.0</td>\n",
       "      <td>1919-02-03</td>\n",
       "      <td>F</td>\n",
       "      <td>4.0</td>\n",
       "      <td>AMARELA</td>\n",
       "      <td>PRINCESA ISABEL</td>\n",
       "      <td>58755</td>\n",
       "      <td>PRINCESA ISABEL</td>\n",
       "      <td>2.0</td>\n",
       "      <td>Faixa Etária</td>\n",
       "      <td>2021-09-20</td>\n",
       "      <td>Reforço</td>\n",
       "      <td>87</td>\n",
       "      <td>35594e7cf93a021341142184af01b806ef1f36e4ddca71...</td>\n",
       "    </tr>\n",
       "  </tbody>\n",
       "</table>\n",
       "</div>"
      ],
      "text/plain": [
       "   paciente_idade paciente_dataNascimento paciente_enumSexoBiologico  \\\n",
       "0            75.0              1945-08-21                          F   \n",
       "1            54.0              1967-04-29                          M   \n",
       "2            38.0              1983-07-18                          F   \n",
       "3            27.0              1994-05-20                          M   \n",
       "4           102.0              1919-02-03                          F   \n",
       "\n",
       "   paciente_racaCor_codigo paciente_racaCor_valor  \\\n",
       "0                     99.0         SEM INFORMACAO   \n",
       "1                     99.0         SEM INFORMACAO   \n",
       "2                      3.0                  PARDA   \n",
       "3                      1.0                 BRANCA   \n",
       "4                      4.0                AMARELA   \n",
       "\n",
       "  paciente_endereco_nmMunicipio paciente_endereco_cep  \\\n",
       "0                CAMPINA GRANDE                 58400   \n",
       "1                CAMPINA GRANDE                 58441   \n",
       "2                   JOAO PESSOA                 58058   \n",
       "3                    SANTA RITA                 58300   \n",
       "4               PRINCESA ISABEL                 58755   \n",
       "\n",
       "  estabelecimento_municipio_nome  vacina_categoria_codigo  \\\n",
       "0                 CAMPINA GRANDE                      2.0   \n",
       "1                 CAMPINA GRANDE                      2.0   \n",
       "2                    JOAO PESSOA                      2.0   \n",
       "3                     SANTA RITA                      2.0   \n",
       "4                PRINCESA ISABEL                      2.0   \n",
       "\n",
       "  vacina_categoria_nome vacina_dataAplicacao vacina_descricao_dose  \\\n",
       "0          Faixa Etária           2021-03-23               1ª Dose   \n",
       "1          Faixa Etária           2021-07-23               2ª Dose   \n",
       "2          Faixa Etária           2022-03-07               Reforço   \n",
       "3          Faixa Etária           2021-08-12               1ª Dose   \n",
       "4          Faixa Etária           2021-09-20               Reforço   \n",
       "\n",
       "   vacina_codigo                                        paciente_id  \n",
       "0             86  ab6e7a0a8a6d54873f827405061d6762b8a838f5aef5d2...  \n",
       "1             86  2df15799ec1d98adf957644142cf1b33da5eed86b29192...  \n",
       "2             88  39c6a9cd8006a46fa554ca4253d4286a8f338582ac0c47...  \n",
       "3             87  f69f0b6a6b8d69512e8d3075a298301a16a86b7bb116ee...  \n",
       "4             87  35594e7cf93a021341142184af01b806ef1f36e4ddca71...  "
      ]
     },
     "execution_count": 2,
     "metadata": {},
     "output_type": "execute_result"
    }
   ],
   "source": [
    "vax_df = pd.read_csv(\"datasets/dados_vacinacao.csv\")\n",
    "vax_df.head(5)"
   ]
  },
  {
   "cell_type": "code",
   "execution_count": 3,
   "metadata": {},
   "outputs": [
    {
     "data": {
      "text/plain": [
       "count    2.768972e+06\n",
       "mean     4.125582e+01\n",
       "std      2.016669e+01\n",
       "min     -6.800000e+01\n",
       "25%      2.500000e+01\n",
       "50%      4.000000e+01\n",
       "75%      5.600000e+01\n",
       "max      1.210000e+02\n",
       "Name: paciente_idade, dtype: float64"
      ]
     },
     "execution_count": 3,
     "metadata": {},
     "output_type": "execute_result"
    }
   ],
   "source": [
    "vax_df[\"paciente_idade\"].describe()"
   ]
  },
  {
   "cell_type": "markdown",
   "metadata": {},
   "source": [
    "Usando a função describe, calculamos rapidamente algumas medidas de centralidade e dispersão para a variável idade.\n",
    "\n",
    "* Temos 2.768.9972 entradas.\n",
    "* A média de idades é 41,25 anos, com desvio padrão de 20,16 anos.\n",
    "* O valor mínimo entre as idades é -68 anos.\n",
    "* O primeiro quartil é 25 anos, a mediana é 40, o terceiro quartil é 56 anos.\n",
    "* O valor máximo é 121 anos."
   ]
  },
  {
   "cell_type": "code",
   "execution_count": 11,
   "metadata": {},
   "outputs": [
    {
     "data": {
      "text/plain": [
       "0    39.0\n",
       "Name: paciente_idade, dtype: float64"
      ]
     },
     "execution_count": 11,
     "metadata": {},
     "output_type": "execute_result"
    }
   ],
   "source": [
    "vax_df[\"paciente_idade\"].mode()"
   ]
  },
  {
   "cell_type": "markdown",
   "metadata": {},
   "source": [
    "A moda de idades é 39 anos."
   ]
  },
  {
   "cell_type": "markdown",
   "metadata": {},
   "source": [
    "Observamos que temos valores bem próximos de média, mediana e moda para essa variável (41.25, 40 e 39, respectivamente).\n",
    "\n",
    "Observamos também um problema que é a presença de uma idade negativa no valor mínimo, e uma idade máxima que é um tanto alta demais (já que a pessoa mais velha do mundo, certificada pelo Guiness, morreu esse ano aos 119 anos [https://bit.ly/3sDDW2z])."
   ]
  },
  {
   "cell_type": "code",
   "execution_count": 15,
   "metadata": {},
   "outputs": [
    {
     "data": {
      "text/plain": [
       "10"
      ]
     },
     "execution_count": 15,
     "metadata": {},
     "output_type": "execute_result"
    }
   ],
   "source": [
    "vax_df['paciente_idade'][vax_df['paciente_idade']<0].count()"
   ]
  },
  {
   "cell_type": "code",
   "execution_count": 14,
   "metadata": {},
   "outputs": [
    {
     "data": {
      "text/plain": [
       "68"
      ]
     },
     "execution_count": 14,
     "metadata": {},
     "output_type": "execute_result"
    }
   ],
   "source": [
    "vax_df['paciente_idade'][vax_df['paciente_idade']>110].count()"
   ]
  },
  {
   "cell_type": "code",
   "execution_count": 16,
   "metadata": {},
   "outputs": [
    {
     "data": {
      "text/plain": [
       "40"
      ]
     },
     "execution_count": 16,
     "metadata": {},
     "output_type": "execute_result"
    }
   ],
   "source": [
    "vax_df['paciente_idade'][vax_df['paciente_idade']==0].count()"
   ]
  },
  {
   "cell_type": "markdown",
   "metadata": {},
   "source": [
    "Temos 10 valores de idade negativos, 68 pacientes com mais de 110 anos, e 40 idades nulas.\n",
    "\n",
    "Trataremos esses problemas na próxima etapa do projeto."
   ]
  },
  {
   "cell_type": "code",
   "execution_count": 19,
   "metadata": {},
   "outputs": [
    {
     "data": {
      "text/plain": [
       "<AxesSubplot:>"
      ]
     },
     "execution_count": 19,
     "metadata": {},
     "output_type": "execute_result"
    },
    {
     "data": {
      "image/png": "[encoded data removed]",
      "text/plain": [
       "<Figure size 640x480 with 1 Axes>"
      ]
     },
     "metadata": {},
     "output_type": "display_data"
    }
   ],
   "source": [
    "vax_df.boxplot(column = \"paciente_idade\")"
   ]
  },
  {
   "cell_type": "markdown",
   "metadata": {},
   "source": [
    "Por fim, esse gráfico representa o boxplot para a variável idade."
   ]
  }
 ],
 "metadata": {
  "interpreter": {
   "hash": "916dbcbb3f70747c44a77c7bcd40155683ae19c65e1c03b4aa3499c5328201f1"
  },
  "kernelspec": {
   "display_name": "Python 3.8.10 64-bit",
   "language": "python",
   "name": "python3"
  },
  "language_info": {
   "codemirror_mode": {
    "name": "ipython",
    "version": 3
   },
   "file_extension": ".py",
   "mimetype": "text/x-python",
   "name": "python",
   "nbconvert_exporter": "python",
   "pygments_lexer": "ipython3",
   "version": "3.8.10"
  },
  "orig_nbformat": 4
 },
 "nbformat": 4,
 "nbformat_minor": 2
}
