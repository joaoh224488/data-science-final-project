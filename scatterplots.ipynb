{
 "cells": [
  {
   "cell_type": "code",
   "execution_count": 1,
   "metadata": {},
   "outputs": [],
   "source": [
    "import pandas as pd\n",
    "import seaborn as sns\n",
    "import numpy as np\n",
    "import plotly.express as px\n",
    "import json\n",
    "import fix_vaxs\n",
    "import unidecode\n",
    "from matplotlib import pyplot as plt\n",
    "from scipy.stats import norm\n",
    "from sklearn.cluster import KMeans\n",
    "custom_params = {\"axes.spines.right\": False, \"axes.spines.top\": False}\n",
    "sns.set_theme(style = \"ticks\", rc = custom_params)"
   ]
  },
  {
   "cell_type": "code",
   "execution_count": 2,
   "metadata": {},
   "outputs": [],
   "source": [
    "vax_df      =  pd.read_csv(\"datasets/dados_vacinacao.csv\")\n",
    "casos_br_df =  pd.read_csv(\"datasets/dados_br.csv\")\n",
    "casos_pb_df =  pd.read_csv(\"datasets/dados_pb.csv\")"
   ]
  },
  {
   "cell_type": "code",
   "execution_count": 4,
   "metadata": {},
   "outputs": [],
   "source": [
    "mean_confirmed = np.mean(casos_pb_df['confirmed'])\n",
    "std_confirmed = np.std(casos_pb_df['confirmed'])\n",
    "\n",
    "mean_deaths = np.mean(casos_pb_df['deaths'])\n",
    "std_deaths = np.std(casos_pb_df['deaths'])\n",
    "\n",
    "mean_pop = np.mean(casos_pb_df['estimated_population'])\n",
    "std_pop = np.std(casos_pb_df['estimated_population'])\n",
    "\n",
    "mean_100k = np.mean(casos_pb_df['confirmed_per_100k_inhabitants'])\n",
    "std_100k = np.std(casos_pb_df['confirmed_per_100k_inhabitants'])\n",
    "\n",
    "mean_dth_rt = np.mean(casos_pb_df['death_rate'])\n",
    "std_dth_rt = np.std(casos_pb_df['death_rate'])\n",
    "\n",
    "mean_pib = np.mean(casos_pb_df['pib_per_capita'])\n",
    "std_pib = np.std(casos_pb_df['pib_per_capita'])\n",
    "\n",
    "mean_density = np.mean(casos_pb_df['demographic_density'])\n",
    "std_density = np.std(casos_pb_df['demographic_density'])\n",
    "\n",
    "confirmed_norm = pd.Series(norm.cdf(casos_pb_df['confirmed'], loc = mean_confirmed , scale = std_confirmed))\n",
    "deaths_norm = pd.Series(norm.cdf(casos_pb_df['deaths'], loc = mean_deaths, scale = std_deaths))\n",
    "population_norm = pd.Series(norm.cdf(casos_pb_df['estimated_population'], loc = mean_pop, scale = std_pop))\n",
    "cp100k_norm = pd.Series(norm.cdf(casos_pb_df['confirmed_per_100k_inhabitants'], loc = mean_100k, scale = std_100k))\n",
    "dth_rt_norm = pd.Series(norm.cdf(casos_pb_df['death_rate'], loc = mean_dth_rt, scale = std_dth_rt))\n",
    "pib_norm = pd.Series(norm.cdf(casos_pb_df['pib_per_capita'], loc = mean_pib, scale = std_pib))\n",
    "density_norm = pd.Series(norm.cdf(casos_pb_df['demographic_density'], loc = mean_density, scale = std_density))"
   ]
  },
  {
   "cell_type": "code",
   "execution_count": 19,
   "metadata": {},
   "outputs": [],
   "source": [
    "# g1 = sns.scatterplot(x = confirmed_norm, y = deaths_norm, color = 'purple',  s = 100)\n",
    "# g1.set_title('Mortes por casos confirmados',  fontsize = 28)\n",
    "# g1.set_xlabel('Casos confirmados', fontsize = 20)\n",
    "# g1.set_ylabel('Mortes', fontsize = 20)\n",
    "# g1.figure.set_size_inches(16, 9)\n",
    "# g1.tick_params(labelsize = 16)"
   ]
  },
  {
   "cell_type": "code",
   "execution_count": 20,
   "metadata": {},
   "outputs": [],
   "source": [
    "# g2 = sns.scatterplot(x = population_norm, y = confirmed_norm, color = 'purple',  s = 100)\n",
    "# g2.set_title('Casos confirmados por população',  fontsize = 28)\n",
    "# g2.set_xlabel('População', fontsize = 20)\n",
    "# g2.set_ylabel('Casos confirmados', fontsize = 20)\n",
    "# g2.figure.set_size_inches(16, 9)\n",
    "# g2.tick_params(labelsize = 16)"
   ]
  },
  {
   "cell_type": "code",
   "execution_count": 22,
   "metadata": {},
   "outputs": [],
   "source": [
    "# g3 = sns.scatterplot(x = population_norm, y = deaths_norm, color = 'purple',  s = 100)\n",
    "# g3.set_title('Mortes por população',  fontsize = 28)\n",
    "# g3.set_xlabel('População', fontsize = 20)\n",
    "# g3.set_ylabel('Mortes', fontsize = 20)\n",
    "# g3.figure.set_size_inches(16, 9)\n",
    "# g3.tick_params(labelsize = 16)"
   ]
  },
  {
   "cell_type": "code",
   "execution_count": 24,
   "metadata": {},
   "outputs": [],
   "source": [
    "# g4 = sns.scatterplot(x = pib_norm, y = confirmed_norm, color = 'purple',  s = 100)\n",
    "# g4.set_title('Casos confirmados por PIB per capita',  fontsize = 28)\n",
    "# g4.set_xlabel('PIB per capita', fontsize = 20)\n",
    "# g4.set_ylabel('Casos confirmados', fontsize = 20)\n",
    "# g4.figure.set_size_inches(16, 9)\n",
    "# g4.tick_params(labelsize = 16)"
   ]
  },
  {
   "cell_type": "code",
   "execution_count": 26,
   "metadata": {},
   "outputs": [],
   "source": [
    "# g5 = sns.scatterplot(x = pib_norm, y = deaths_norm, color = 'purple',  s = 100)\n",
    "# g5.set_title('Mortes por PIB per capita',  fontsize = 28)\n",
    "# g5.set_xlabel('PIB per capita', fontsize = 20)\n",
    "# g5.set_ylabel('Mortes', fontsize = 20)\n",
    "# g5.figure.set_size_inches(16, 9)\n",
    "# g5.tick_params(labelsize = 16)"
   ]
  },
  {
   "cell_type": "code",
   "execution_count": 28,
   "metadata": {},
   "outputs": [],
   "source": [
    "# g6 = sns.scatterplot(x = pib_norm, y = population_norm, color = 'purple',  s = 100)\n",
    "# g6.set_title('População por PIB per capita',  fontsize = 28)\n",
    "# g6.set_xlabel('PIB per capita', fontsize = 20)\n",
    "# g6.set_ylabel('População', fontsize = 20)\n",
    "# g6.figure.set_size_inches(16, 9)\n",
    "# g6.tick_params(labelsize = 16)"
   ]
  },
  {
   "cell_type": "code",
   "execution_count": 30,
   "metadata": {},
   "outputs": [],
   "source": [
    "# g7 = sns.scatterplot(x = density_norm, y = population_norm, color = 'purple',  s = 100)\n",
    "# g7.set_title('População por densidade demográfica',  fontsize = 28)\n",
    "# g7.set_xlabel('Densidade demográfica', fontsize = 20)\n",
    "# g7.set_ylabel('População', fontsize = 20)\n",
    "# g7.figure.set_size_inches(16, 9)\n",
    "# g7.tick_params(labelsize = 16)"
   ]
  },
  {
   "cell_type": "code",
   "execution_count": 33,
   "metadata": {},
   "outputs": [],
   "source": [
    "# g8 = sns.scatterplot(x = density_norm, y = confirmed_norm, color = 'purple',  s = 100)\n",
    "# g8.set_title('Casos confirmados por densidade demográfica',  fontsize = 28)\n",
    "# g8.set_xlabel('Densidade demográfica', fontsize = 20)\n",
    "# g8.set_ylabel('Casos confirmados', fontsize = 20)\n",
    "# g8.figure.set_size_inches(16, 9)\n",
    "# g8.tick_params(labelsize = 16)"
   ]
  },
  {
   "cell_type": "code",
   "execution_count": 35,
   "metadata": {},
   "outputs": [],
   "source": [
    "# g9 = sns.scatterplot(x = density_norm, y = deaths_norm, color = 'purple',  s = 100)\n",
    "# g9.set_title('Mortes por densidade demográfica',  fontsize = 28)\n",
    "# g9.set_xlabel('Densidade demográfica', fontsize = 20)\n",
    "# g9.set_ylabel('Mortes', fontsize = 20)\n",
    "# g9.figure.set_size_inches(16, 9)\n",
    "# g9.tick_params(labelsize = 16)"
   ]
  },
  {
   "cell_type": "code",
   "execution_count": 38,
   "metadata": {},
   "outputs": [],
   "source": [
    "# g10 = sns.scatterplot(x = pib_norm, y = cp100k_norm, color = 'purple',  s = 100)\n",
    "# g10.set_title('Casos a cada 100 habitantes por PIB per capita',  fontsize = 28)\n",
    "# g10.set_xlabel('PIB per capita', fontsize = 20)\n",
    "# g10.set_ylabel('Casos a cada 100 habitantes', fontsize = 20)\n",
    "# g10.figure.set_size_inches(16, 9)\n",
    "# g10.tick_params(labelsize = 16)"
   ]
  },
  {
   "cell_type": "code",
   "execution_count": 40,
   "metadata": {},
   "outputs": [],
   "source": [
    "# g11 = sns.scatterplot(x = pib_norm, y = dth_rt_norm, color = 'purple',  s = 100)\n",
    "# g11.set_title('Mortalidade por PIB per capita',  fontsize = 28)\n",
    "# g11.set_xlabel('PIB per capita', fontsize = 20)\n",
    "# g11.set_ylabel('Mortalidade', fontsize = 20)\n",
    "# g11.figure.set_size_inches(16, 9)\n",
    "# g11.tick_params(labelsize = 16)"
   ]
  },
  {
   "cell_type": "code",
   "execution_count": 46,
   "metadata": {},
   "outputs": [],
   "source": [
    "# g12 = sns.scatterplot(x = density_norm, y = cp100k_norm, color = 'purple',  s = 100)\n",
    "# g12.set_title('Casos a cada 100 mil habitantes por densidade demográfica',  fontsize = 28)\n",
    "# g12.set_xlabel('Densidade demográfica', fontsize = 20)\n",
    "# g12.set_ylabel('Casos confirmados a cada 100 mil habitantes', fontsize = 20)\n",
    "# g12.figure.set_size_inches(16, 9)\n",
    "# g12.tick_params(labelsize = 16)"
   ]
  },
  {
   "cell_type": "code",
   "execution_count": 48,
   "metadata": {},
   "outputs": [],
   "source": [
    "# g13 = sns.scatterplot(x = density_norm, y = dth_rt_norm, color = 'purple',  s = 100)\n",
    "# g13.set_title('Mortalidade por densidade demográfica',  fontsize = 28)\n",
    "# g13.set_xlabel('Densidade demográfica', fontsize = 20)\n",
    "# g13.set_ylabel('Mortalidade', fontsize = 20)\n",
    "# g13.figure.set_size_inches(16, 9)\n",
    "# g13.tick_params(labelsize = 16)"
   ]
  },
  {
   "cell_type": "code",
   "execution_count": 50,
   "metadata": {},
   "outputs": [],
   "source": [
    "# g14 = sns.scatterplot(x = cp100k_norm, y = dth_rt_norm, color = 'purple',  s = 100)\n",
    "# g14.set_title('Mortalidade por casos a cada 100 mil habitantes',  fontsize = 28)\n",
    "# g14.set_xlabel('Casos a cada 100 mil habitantes', fontsize = 20)\n",
    "# g14.set_ylabel('Mortalidade', fontsize = 20)\n",
    "# g14.figure.set_size_inches(16, 9)\n",
    "# g14.tick_params(labelsize = 16)"
   ]
  },
  {
   "cell_type": "code",
   "execution_count": 53,
   "metadata": {},
   "outputs": [],
   "source": [
    "# g15 = sns.scatterplot(x = population_norm, y = cp100k_norm, color = 'purple',  s = 100)\n",
    "# g15.set_title('Casos a cada 100 mil habitantes por população',  fontsize = 28)\n",
    "# g15.set_xlabel('População', fontsize = 20)\n",
    "# g15.set_ylabel('Casos a cada 100 mil habitantes', fontsize = 20)\n",
    "# g15.figure.set_size_inches(16, 9)\n",
    "# g15.tick_params(labelsize = 16)"
   ]
  },
  {
   "cell_type": "code",
   "execution_count": 55,
   "metadata": {},
   "outputs": [],
   "source": [
    "# g16 = sns.scatterplot(x = population_norm, y = dth_rt_norm, color = 'purple',  s = 100)\n",
    "# g16.set_title('Mortalidade por população',  fontsize = 28)\n",
    "# g16.set_xlabel('População', fontsize = 20)\n",
    "# g16.set_ylabel('Mortalidade', fontsize = 20)\n",
    "# g16.figure.set_size_inches(16, 9)\n",
    "# g16.tick_params(labelsize = 16)"
   ]
  },
  {
   "cell_type": "code",
   "execution_count": null,
   "metadata": {},
   "outputs": [],
   "source": [
    "# g17 = sns.scatterplot(x = confirmed_norm, y = dth_rt_norm, color = 'purple',  s = 100)\n",
    "# g17.set_title('Mortalidade por casos confirmados',  fontsize = 28)\n",
    "# g17.set_xlabel('Casos confirmados', fontsize = 20)\n",
    "# g17.set_ylabel('Mortalidade', fontsize = 20)\n",
    "# g17.figure.set_size_inches(16, 9)\n",
    "# g17.tick_params(labelsize = 16)"
   ]
  }
 ],
 "metadata": {
  "kernelspec": {
   "display_name": "Python 3.8.10 64-bit",
   "language": "python",
   "name": "python3"
  },
  "language_info": {
   "codemirror_mode": {
    "name": "ipython",
    "version": 3
   },
   "file_extension": ".py",
   "mimetype": "text/x-python",
   "name": "python",
   "nbconvert_exporter": "python",
   "pygments_lexer": "ipython3",
   "version": "3.8.10"
  },
  "orig_nbformat": 4,
  "vscode": {
   "interpreter": {
    "hash": "916dbcbb3f70747c44a77c7bcd40155683ae19c65e1c03b4aa3499c5328201f1"
   }
  }
 },
 "nbformat": 4,
 "nbformat_minor": 2
}
