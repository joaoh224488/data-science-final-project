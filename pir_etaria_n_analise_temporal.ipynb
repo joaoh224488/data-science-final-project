{
 "cells": [
  {
   "cell_type": "code",
   "execution_count": 1,
   "metadata": {},
   "outputs": [],
   "source": [
    "import numpy as np\n",
    "import pandas as pd\n",
    "import seaborn as sns\n",
    "import matplotlib.pyplot as plt\n",
    "from scipy.stats import norm\n",
    "import plotly.graph_objs as gp"
   ]
  },
  {
   "cell_type": "code",
   "execution_count": 2,
   "metadata": {},
   "outputs": [],
   "source": [
    "vax_df = pd.read_csv('datasets/dados_vacinacao.csv')"
   ]
  },
  {
   "cell_type": "code",
   "execution_count": 3,
   "metadata": {},
   "outputs": [
    {
     "data": {
      "text/html": [
       "<div>\n",
       "<style scoped>\n",
       "    .dataframe tbody tr th:only-of-type {\n",
       "        vertical-align: middle;\n",
       "    }\n",
       "\n",
       "    .dataframe tbody tr th {\n",
       "        vertical-align: top;\n",
       "    }\n",
       "\n",
       "    .dataframe thead th {\n",
       "        text-align: right;\n",
       "    }\n",
       "</style>\n",
       "<table border=\"1\" class=\"dataframe\">\n",
       "  <thead>\n",
       "    <tr style=\"text-align: right;\">\n",
       "      <th></th>\n",
       "      <th>paciente_idade</th>\n",
       "      <th>paciente_dataNascimento</th>\n",
       "      <th>paciente_enumSexoBiologico</th>\n",
       "      <th>paciente_racaCor_codigo</th>\n",
       "      <th>paciente_racaCor_valor</th>\n",
       "      <th>paciente_endereco_nmMunicipio</th>\n",
       "      <th>paciente_endereco_cep</th>\n",
       "      <th>estabelecimento_municipio_nome</th>\n",
       "      <th>vacina_grupoAtendimento_codigo</th>\n",
       "      <th>vacina_grupoAtendimento_nome</th>\n",
       "      <th>vacina_categoria_codigo</th>\n",
       "      <th>vacina_categoria_nome</th>\n",
       "      <th>vacina_dataAplicacao</th>\n",
       "      <th>vacina_descricao_dose</th>\n",
       "      <th>vacina_codigo</th>\n",
       "      <th>vacina_nome</th>\n",
       "      <th>paciente_id</th>\n",
       "    </tr>\n",
       "  </thead>\n",
       "  <tbody>\n",
       "    <tr>\n",
       "      <th>0</th>\n",
       "      <td>44</td>\n",
       "      <td>1977-04-18</td>\n",
       "      <td>M</td>\n",
       "      <td>1</td>\n",
       "      <td>BRANCA</td>\n",
       "      <td>ARAPIRACA</td>\n",
       "      <td>57510</td>\n",
       "      <td>PATOS</td>\n",
       "      <td>912</td>\n",
       "      <td>Médico</td>\n",
       "      <td>9</td>\n",
       "      <td>Trabalhadores de Saúde</td>\n",
       "      <td>2021-11-11</td>\n",
       "      <td>Reforço</td>\n",
       "      <td>87</td>\n",
       "      <td>COVID-19 PFIZER - COMIRNATY</td>\n",
       "      <td>f9495cb04daf5adb495d22c9c88b31883f191fb762ab27...</td>\n",
       "    </tr>\n",
       "  </tbody>\n",
       "</table>\n",
       "</div>"
      ],
      "text/plain": [
       "   paciente_idade paciente_dataNascimento paciente_enumSexoBiologico  \\\n",
       "0              44              1977-04-18                          M   \n",
       "\n",
       "   paciente_racaCor_codigo paciente_racaCor_valor  \\\n",
       "0                        1                 BRANCA   \n",
       "\n",
       "  paciente_endereco_nmMunicipio paciente_endereco_cep  \\\n",
       "0                     ARAPIRACA                 57510   \n",
       "\n",
       "  estabelecimento_municipio_nome  vacina_grupoAtendimento_codigo  \\\n",
       "0                          PATOS                             912   \n",
       "\n",
       "  vacina_grupoAtendimento_nome  vacina_categoria_codigo  \\\n",
       "0                       Médico                        9   \n",
       "\n",
       "    vacina_categoria_nome vacina_dataAplicacao vacina_descricao_dose  \\\n",
       "0  Trabalhadores de Saúde           2021-11-11               Reforço   \n",
       "\n",
       "   vacina_codigo                  vacina_nome  \\\n",
       "0             87  COVID-19 PFIZER - COMIRNATY   \n",
       "\n",
       "                                         paciente_id  \n",
       "0  f9495cb04daf5adb495d22c9c88b31883f191fb762ab27...  "
      ]
     },
     "execution_count": 3,
     "metadata": {},
     "output_type": "execute_result"
    }
   ],
   "source": [
    "vax_df.head(1)"
   ]
  },
  {
   "cell_type": "markdown",
   "metadata": {},
   "source": [
    "<p>De início, será feita uma limpeza nos dados excluindo os dados que podem ser provenientes de erros no Dataset original. Tais como: Idades negativas, muitas idades maiores do que 105 anos (corte arbitrário) e pessoas que aparecem como tendo sido vacinadas antes de 2021.<p>\n",
    "Para isso, começaremos convertendol as datas que estão em string para datetime"
   ]
  },
  {
   "cell_type": "code",
   "execution_count": 4,
   "metadata": {},
   "outputs": [],
   "source": [
    "vax_df.vacina_dataAplicacao = pd.to_datetime(vax_df.vacina_dataAplicacao)"
   ]
  },
  {
   "cell_type": "code",
   "execution_count": 5,
   "metadata": {},
   "outputs": [
    {
     "data": {
      "text/html": [
       "<div>\n",
       "<style scoped>\n",
       "    .dataframe tbody tr th:only-of-type {\n",
       "        vertical-align: middle;\n",
       "    }\n",
       "\n",
       "    .dataframe tbody tr th {\n",
       "        vertical-align: top;\n",
       "    }\n",
       "\n",
       "    .dataframe thead th {\n",
       "        text-align: right;\n",
       "    }\n",
       "</style>\n",
       "<table border=\"1\" class=\"dataframe\">\n",
       "  <thead>\n",
       "    <tr style=\"text-align: right;\">\n",
       "      <th></th>\n",
       "      <th>paciente_idade</th>\n",
       "      <th>paciente_dataNascimento</th>\n",
       "      <th>paciente_enumSexoBiologico</th>\n",
       "      <th>paciente_racaCor_codigo</th>\n",
       "      <th>paciente_racaCor_valor</th>\n",
       "      <th>paciente_endereco_nmMunicipio</th>\n",
       "      <th>paciente_endereco_cep</th>\n",
       "      <th>estabelecimento_municipio_nome</th>\n",
       "      <th>vacina_grupoAtendimento_codigo</th>\n",
       "      <th>vacina_grupoAtendimento_nome</th>\n",
       "      <th>vacina_categoria_codigo</th>\n",
       "      <th>vacina_categoria_nome</th>\n",
       "      <th>vacina_dataAplicacao</th>\n",
       "      <th>vacina_descricao_dose</th>\n",
       "      <th>vacina_codigo</th>\n",
       "      <th>vacina_nome</th>\n",
       "      <th>paciente_id</th>\n",
       "    </tr>\n",
       "  </thead>\n",
       "  <tbody>\n",
       "    <tr>\n",
       "      <th>15030</th>\n",
       "      <td>121</td>\n",
       "      <td>1899-12-30</td>\n",
       "      <td>F</td>\n",
       "      <td>99</td>\n",
       "      <td>SEM INFORMACAO</td>\n",
       "      <td>PICUI</td>\n",
       "      <td>NaN</td>\n",
       "      <td>PICUI</td>\n",
       "      <td>917</td>\n",
       "      <td>Profissionais e Auxiliares de limpeza</td>\n",
       "      <td>9</td>\n",
       "      <td>Trabalhadores de Saúde</td>\n",
       "      <td>2021-01-28</td>\n",
       "      <td>1ª Dose</td>\n",
       "      <td>85</td>\n",
       "      <td>COVID-19 ASTRAZENECA/FIOCRUZ - COVISHIELD</td>\n",
       "      <td>f1c3b1a19f65bc23f26fd66ad23411e8ce0583295b8471...</td>\n",
       "    </tr>\n",
       "    <tr>\n",
       "      <th>38305</th>\n",
       "      <td>2</td>\n",
       "      <td>2019-09-16</td>\n",
       "      <td>F</td>\n",
       "      <td>99</td>\n",
       "      <td>SEM INFORMACAO</td>\n",
       "      <td>GUARULHOS</td>\n",
       "      <td>7142</td>\n",
       "      <td>SOUSA</td>\n",
       "      <td>207</td>\n",
       "      <td>Pessoas de 5 a 11 anos</td>\n",
       "      <td>0</td>\n",
       "      <td>NaN</td>\n",
       "      <td>2022-03-28</td>\n",
       "      <td>2ª Dose</td>\n",
       "      <td>86</td>\n",
       "      <td>COVID-19 SINOVAC/BUTANTAN - CORONAVAC</td>\n",
       "      <td>2148017dbfa2015a4ed271aac5dcadeca60557c279e51c...</td>\n",
       "    </tr>\n",
       "    <tr>\n",
       "      <th>39339</th>\n",
       "      <td>0</td>\n",
       "      <td>1974-11-16</td>\n",
       "      <td>F</td>\n",
       "      <td>99</td>\n",
       "      <td>SEM INFORMACAO</td>\n",
       "      <td>CAMPINA GRANDE</td>\n",
       "      <td>58401</td>\n",
       "      <td>CAMPINA GRANDE</td>\n",
       "      <td>201</td>\n",
       "      <td>Pessoas de 18 a 64 anos</td>\n",
       "      <td>2</td>\n",
       "      <td>Faixa Etária</td>\n",
       "      <td>1975-02-20</td>\n",
       "      <td>1ª Dose</td>\n",
       "      <td>88</td>\n",
       "      <td>COVID-19 JANSSEN - Ad26.COV2.S</td>\n",
       "      <td>046d325facf10e1f13f78e4e9195cb2dc27953e5075484...</td>\n",
       "    </tr>\n",
       "    <tr>\n",
       "      <th>41754</th>\n",
       "      <td>0</td>\n",
       "      <td>1986-04-20</td>\n",
       "      <td>F</td>\n",
       "      <td>99</td>\n",
       "      <td>SEM INFORMACAO</td>\n",
       "      <td>CAMPINA GRANDE</td>\n",
       "      <td>58401</td>\n",
       "      <td>CAMPINA GRANDE</td>\n",
       "      <td>201</td>\n",
       "      <td>Pessoas de 18 a 64 anos</td>\n",
       "      <td>2</td>\n",
       "      <td>Faixa Etária</td>\n",
       "      <td>1986-04-20</td>\n",
       "      <td>Reforço</td>\n",
       "      <td>87</td>\n",
       "      <td>COVID-19 PFIZER - COMIRNATY</td>\n",
       "      <td>0469ebe1ad08f5040adca17ec248430e5fbf112b749c47...</td>\n",
       "    </tr>\n",
       "    <tr>\n",
       "      <th>46665</th>\n",
       "      <td>-8</td>\n",
       "      <td>1983-02-28</td>\n",
       "      <td>M</td>\n",
       "      <td>99</td>\n",
       "      <td>SEM INFORMACAO</td>\n",
       "      <td>MACEIO</td>\n",
       "      <td>None</td>\n",
       "      <td>CAMPINA GRANDE</td>\n",
       "      <td>201</td>\n",
       "      <td>Pessoas de 18 a 64 anos</td>\n",
       "      <td>2</td>\n",
       "      <td>Faixa Etária</td>\n",
       "      <td>1974-12-05</td>\n",
       "      <td>2ª Dose</td>\n",
       "      <td>86</td>\n",
       "      <td>COVID-19 SINOVAC/BUTANTAN - CORONAVAC</td>\n",
       "      <td>22618b1bff1b85fa4c238413d60891763eb37fcacf7cdf...</td>\n",
       "    </tr>\n",
       "    <tr>\n",
       "      <th>...</th>\n",
       "      <td>...</td>\n",
       "      <td>...</td>\n",
       "      <td>...</td>\n",
       "      <td>...</td>\n",
       "      <td>...</td>\n",
       "      <td>...</td>\n",
       "      <td>...</td>\n",
       "      <td>...</td>\n",
       "      <td>...</td>\n",
       "      <td>...</td>\n",
       "      <td>...</td>\n",
       "      <td>...</td>\n",
       "      <td>...</td>\n",
       "      <td>...</td>\n",
       "      <td>...</td>\n",
       "      <td>...</td>\n",
       "      <td>...</td>\n",
       "    </tr>\n",
       "    <tr>\n",
       "      <th>2727528</th>\n",
       "      <td>0</td>\n",
       "      <td>1962-07-08</td>\n",
       "      <td>M</td>\n",
       "      <td>99</td>\n",
       "      <td>SEM INFORMACAO</td>\n",
       "      <td>BAYEUX</td>\n",
       "      <td>58305</td>\n",
       "      <td>JOAO PESSOA</td>\n",
       "      <td>201</td>\n",
       "      <td>Pessoas de 18 a 64 anos</td>\n",
       "      <td>2</td>\n",
       "      <td>Faixa Etária</td>\n",
       "      <td>1962-06-20</td>\n",
       "      <td>1ª Dose</td>\n",
       "      <td>87</td>\n",
       "      <td>COVID-19 PFIZER - COMIRNATY</td>\n",
       "      <td>e41bf7e6e369aa29e6d26ec77d1d8daa0f60a924a4cbcc...</td>\n",
       "    </tr>\n",
       "    <tr>\n",
       "      <th>2733405</th>\n",
       "      <td>111</td>\n",
       "      <td>1910-01-12</td>\n",
       "      <td>F</td>\n",
       "      <td>3</td>\n",
       "      <td>PARDA</td>\n",
       "      <td>JOAO PESSOA</td>\n",
       "      <td>58078</td>\n",
       "      <td>JOAO PESSOA</td>\n",
       "      <td>205</td>\n",
       "      <td>Pessoas de 80 anos ou mais</td>\n",
       "      <td>2</td>\n",
       "      <td>Faixa Etária</td>\n",
       "      <td>2021-02-07</td>\n",
       "      <td>1ª Dose</td>\n",
       "      <td>86</td>\n",
       "      <td>COVID-19 SINOVAC/BUTANTAN - CORONAVAC</td>\n",
       "      <td>dbe3f058be16f383a8392fbb4f89681caf441363366bfa...</td>\n",
       "    </tr>\n",
       "    <tr>\n",
       "      <th>2791852</th>\n",
       "      <td>0</td>\n",
       "      <td>1999-02-17</td>\n",
       "      <td>M</td>\n",
       "      <td>3</td>\n",
       "      <td>PARDA</td>\n",
       "      <td>JOAO PESSOA</td>\n",
       "      <td>58034</td>\n",
       "      <td>JOAO PESSOA</td>\n",
       "      <td>507</td>\n",
       "      <td>Policial Militar</td>\n",
       "      <td>5</td>\n",
       "      <td>Forças de Segurança e Salvamento</td>\n",
       "      <td>1999-02-17</td>\n",
       "      <td>2ª Dose</td>\n",
       "      <td>85</td>\n",
       "      <td>COVID-19 ASTRAZENECA/FIOCRUZ - COVISHIELD</td>\n",
       "      <td>7f5626eb38d0699cd1c44aef7dfc61bc02ab1589d35433...</td>\n",
       "    </tr>\n",
       "    <tr>\n",
       "      <th>2798130</th>\n",
       "      <td>0</td>\n",
       "      <td>1980-04-24</td>\n",
       "      <td>M</td>\n",
       "      <td>99</td>\n",
       "      <td>SEM INFORMACAO</td>\n",
       "      <td>CAMPINA GRANDE</td>\n",
       "      <td>58107</td>\n",
       "      <td>CAMPINA GRANDE</td>\n",
       "      <td>201</td>\n",
       "      <td>Pessoas de 18 a 64 anos</td>\n",
       "      <td>2</td>\n",
       "      <td>Faixa Etária</td>\n",
       "      <td>1980-04-24</td>\n",
       "      <td>2ª Dose</td>\n",
       "      <td>85</td>\n",
       "      <td>COVID-19 ASTRAZENECA/FIOCRUZ - COVISHIELD</td>\n",
       "      <td>dc02c8fb8b211283163a6d8680bbb81216e0831436bf94...</td>\n",
       "    </tr>\n",
       "    <tr>\n",
       "      <th>2804414</th>\n",
       "      <td>0</td>\n",
       "      <td>1971-09-19</td>\n",
       "      <td>M</td>\n",
       "      <td>4</td>\n",
       "      <td>AMARELA</td>\n",
       "      <td>CAMPINA GRANDE</td>\n",
       "      <td>58400</td>\n",
       "      <td>CAMPINA GRANDE</td>\n",
       "      <td>201</td>\n",
       "      <td>Pessoas de 18 a 64 anos</td>\n",
       "      <td>2</td>\n",
       "      <td>Faixa Etária</td>\n",
       "      <td>1971-09-19</td>\n",
       "      <td>1ª Dose</td>\n",
       "      <td>88</td>\n",
       "      <td>COVID-19 JANSSEN - Ad26.COV2.S</td>\n",
       "      <td>8bc871997214001428bba2bce2b02516b697aa1ae50cae...</td>\n",
       "    </tr>\n",
       "  </tbody>\n",
       "</table>\n",
       "<p>185 rows × 17 columns</p>\n",
       "</div>"
      ],
      "text/plain": [
       "         paciente_idade paciente_dataNascimento paciente_enumSexoBiologico  \\\n",
       "15030               121              1899-12-30                          F   \n",
       "38305                 2              2019-09-16                          F   \n",
       "39339                 0              1974-11-16                          F   \n",
       "41754                 0              1986-04-20                          F   \n",
       "46665                -8              1983-02-28                          M   \n",
       "...                 ...                     ...                        ...   \n",
       "2727528               0              1962-07-08                          M   \n",
       "2733405             111              1910-01-12                          F   \n",
       "2791852               0              1999-02-17                          M   \n",
       "2798130               0              1980-04-24                          M   \n",
       "2804414               0              1971-09-19                          M   \n",
       "\n",
       "         paciente_racaCor_codigo paciente_racaCor_valor  \\\n",
       "15030                         99         SEM INFORMACAO   \n",
       "38305                         99         SEM INFORMACAO   \n",
       "39339                         99         SEM INFORMACAO   \n",
       "41754                         99         SEM INFORMACAO   \n",
       "46665                         99         SEM INFORMACAO   \n",
       "...                          ...                    ...   \n",
       "2727528                       99         SEM INFORMACAO   \n",
       "2733405                        3                  PARDA   \n",
       "2791852                        3                  PARDA   \n",
       "2798130                       99         SEM INFORMACAO   \n",
       "2804414                        4                AMARELA   \n",
       "\n",
       "        paciente_endereco_nmMunicipio paciente_endereco_cep  \\\n",
       "15030                           PICUI                   NaN   \n",
       "38305                       GUARULHOS                  7142   \n",
       "39339                  CAMPINA GRANDE                 58401   \n",
       "41754                  CAMPINA GRANDE                 58401   \n",
       "46665                          MACEIO                  None   \n",
       "...                               ...                   ...   \n",
       "2727528                        BAYEUX                 58305   \n",
       "2733405                   JOAO PESSOA                 58078   \n",
       "2791852                   JOAO PESSOA                 58034   \n",
       "2798130                CAMPINA GRANDE                 58107   \n",
       "2804414                CAMPINA GRANDE                 58400   \n",
       "\n",
       "        estabelecimento_municipio_nome  vacina_grupoAtendimento_codigo  \\\n",
       "15030                            PICUI                             917   \n",
       "38305                            SOUSA                             207   \n",
       "39339                   CAMPINA GRANDE                             201   \n",
       "41754                   CAMPINA GRANDE                             201   \n",
       "46665                   CAMPINA GRANDE                             201   \n",
       "...                                ...                             ...   \n",
       "2727528                    JOAO PESSOA                             201   \n",
       "2733405                    JOAO PESSOA                             205   \n",
       "2791852                    JOAO PESSOA                             507   \n",
       "2798130                 CAMPINA GRANDE                             201   \n",
       "2804414                 CAMPINA GRANDE                             201   \n",
       "\n",
       "                  vacina_grupoAtendimento_nome  vacina_categoria_codigo  \\\n",
       "15030    Profissionais e Auxiliares de limpeza                        9   \n",
       "38305                   Pessoas de 5 a 11 anos                        0   \n",
       "39339                  Pessoas de 18 a 64 anos                        2   \n",
       "41754                  Pessoas de 18 a 64 anos                        2   \n",
       "46665                  Pessoas de 18 a 64 anos                        2   \n",
       "...                                        ...                      ...   \n",
       "2727528                Pessoas de 18 a 64 anos                        2   \n",
       "2733405             Pessoas de 80 anos ou mais                        2   \n",
       "2791852                       Policial Militar                        5   \n",
       "2798130                Pessoas de 18 a 64 anos                        2   \n",
       "2804414                Pessoas de 18 a 64 anos                        2   \n",
       "\n",
       "                    vacina_categoria_nome vacina_dataAplicacao  \\\n",
       "15030              Trabalhadores de Saúde           2021-01-28   \n",
       "38305                                 NaN           2022-03-28   \n",
       "39339                        Faixa Etária           1975-02-20   \n",
       "41754                        Faixa Etária           1986-04-20   \n",
       "46665                        Faixa Etária           1974-12-05   \n",
       "...                                   ...                  ...   \n",
       "2727528                      Faixa Etária           1962-06-20   \n",
       "2733405                      Faixa Etária           2021-02-07   \n",
       "2791852  Forças de Segurança e Salvamento           1999-02-17   \n",
       "2798130                      Faixa Etária           1980-04-24   \n",
       "2804414                      Faixa Etária           1971-09-19   \n",
       "\n",
       "        vacina_descricao_dose  vacina_codigo  \\\n",
       "15030                 1ª Dose             85   \n",
       "38305                 2ª Dose             86   \n",
       "39339                 1ª Dose             88   \n",
       "41754                 Reforço             87   \n",
       "46665                 2ª Dose             86   \n",
       "...                       ...            ...   \n",
       "2727528               1ª Dose             87   \n",
       "2733405               1ª Dose             86   \n",
       "2791852               2ª Dose             85   \n",
       "2798130               2ª Dose             85   \n",
       "2804414               1ª Dose             88   \n",
       "\n",
       "                                       vacina_nome  \\\n",
       "15030    COVID-19 ASTRAZENECA/FIOCRUZ - COVISHIELD   \n",
       "38305        COVID-19 SINOVAC/BUTANTAN - CORONAVAC   \n",
       "39339               COVID-19 JANSSEN - Ad26.COV2.S   \n",
       "41754                  COVID-19 PFIZER - COMIRNATY   \n",
       "46665        COVID-19 SINOVAC/BUTANTAN - CORONAVAC   \n",
       "...                                            ...   \n",
       "2727528                COVID-19 PFIZER - COMIRNATY   \n",
       "2733405      COVID-19 SINOVAC/BUTANTAN - CORONAVAC   \n",
       "2791852  COVID-19 ASTRAZENECA/FIOCRUZ - COVISHIELD   \n",
       "2798130  COVID-19 ASTRAZENECA/FIOCRUZ - COVISHIELD   \n",
       "2804414             COVID-19 JANSSEN - Ad26.COV2.S   \n",
       "\n",
       "                                               paciente_id  \n",
       "15030    f1c3b1a19f65bc23f26fd66ad23411e8ce0583295b8471...  \n",
       "38305    2148017dbfa2015a4ed271aac5dcadeca60557c279e51c...  \n",
       "39339    046d325facf10e1f13f78e4e9195cb2dc27953e5075484...  \n",
       "41754    0469ebe1ad08f5040adca17ec248430e5fbf112b749c47...  \n",
       "46665    22618b1bff1b85fa4c238413d60891763eb37fcacf7cdf...  \n",
       "...                                                    ...  \n",
       "2727528  e41bf7e6e369aa29e6d26ec77d1d8daa0f60a924a4cbcc...  \n",
       "2733405  dbe3f058be16f383a8392fbb4f89681caf441363366bfa...  \n",
       "2791852  7f5626eb38d0699cd1c44aef7dfc61bc02ab1589d35433...  \n",
       "2798130  dc02c8fb8b211283163a6d8680bbb81216e0831436bf94...  \n",
       "2804414  8bc871997214001428bba2bce2b02516b697aa1ae50cae...  \n",
       "\n",
       "[185 rows x 17 columns]"
      ]
     },
     "execution_count": 5,
     "metadata": {},
     "output_type": "execute_result"
    }
   ],
   "source": [
    "drop_this = vax_df.loc[(vax_df.paciente_idade > 110) | (vax_df.paciente_idade < 5) | (vax_df.vacina_dataAplicacao < pd.Timestamp(2021, 1, 17))]\n",
    "\n",
    "drop_this"
   ]
  },
  {
   "cell_type": "markdown",
   "metadata": {},
   "source": [
    "A data escolhida para ser o ponto de corte foi 17 de janeiro de 2021, o dia em que a primeira brasileira a ser vacinada recebeu a primeira vacina aplicada em território nacional.\n",
    "Essas 153 ocorrências marcadas acima não serão interessantes para as análises a seguir que envolvem esse DataSet. "
   ]
  },
  {
   "cell_type": "code",
   "execution_count": 6,
   "metadata": {},
   "outputs": [],
   "source": [
    "vax_df.drop(drop_this.index, inplace = True)"
   ]
  },
  {
   "cell_type": "code",
   "execution_count": 7,
   "metadata": {},
   "outputs": [
    {
     "data": {
      "text/plain": [
       "2806607"
      ]
     },
     "execution_count": 7,
     "metadata": {},
     "output_type": "execute_result"
    }
   ],
   "source": [
    "len(vax_df.paciente_id)"
   ]
  },
  {
   "cell_type": "markdown",
   "metadata": {},
   "source": [
    "### PIRÂMIDE ETÁRIA"
   ]
  },
  {
   "cell_type": "markdown",
   "metadata": {},
   "source": [
    "Com o objetivo de medir a adesão da vacina até a data mais recente do DataFrame, as linhas que correspondem aos vacinados com menos de 25 anos serão excluídas, para que a comparação com a pirâmide etária do estado faça sentido.<br><br>\n",
    "Fontes:                       AJEITAR DEPOIS E DEIXAR BONITO\n",
    "<br>\n",
    "https://g1.globo.com/pb/paraiba/noticia/2021/08/15/joao-pessoa-vacina-pessoas-com-21-anos-ou-mais-contra-a-covid-19-nesta-segunda-feira-16.ghtml\n",
    "<br>\n",
    "https://g1.globo.com/pb/paraiba/noticia/2021/08/09/campina-grande-vacina-contra-covid-19-pessoas-a-partir-dos-26-anos-nesta-terca-feira-10.ghtml"
   ]
  },
  {
   "cell_type": "markdown",
   "metadata": {},
   "source": [
    "Além disso, para contar de forma correta a quantidade de vacinados por faixa etária, os pacientes que aparecem mais de uma vez serão retirados. AJEITAR DEPOIS\n"
   ]
  },
  {
   "cell_type": "code",
   "execution_count": 8,
   "metadata": {},
   "outputs": [],
   "source": [
    "etaria_df = vax_df.loc[vax_df.paciente_idade >= 25].drop_duplicates(subset= 'paciente_id')"
   ]
  },
  {
   "cell_type": "code",
   "execution_count": 9,
   "metadata": {},
   "outputs": [
    {
     "data": {
      "text/html": [
       "<div>\n",
       "<style scoped>\n",
       "    .dataframe tbody tr th:only-of-type {\n",
       "        vertical-align: middle;\n",
       "    }\n",
       "\n",
       "    .dataframe tbody tr th {\n",
       "        vertical-align: top;\n",
       "    }\n",
       "\n",
       "    .dataframe thead th {\n",
       "        text-align: right;\n",
       "    }\n",
       "</style>\n",
       "<table border=\"1\" class=\"dataframe\">\n",
       "  <thead>\n",
       "    <tr style=\"text-align: right;\">\n",
       "      <th></th>\n",
       "      <th>paciente_idade</th>\n",
       "      <th>paciente_dataNascimento</th>\n",
       "      <th>paciente_enumSexoBiologico</th>\n",
       "      <th>paciente_racaCor_codigo</th>\n",
       "      <th>paciente_racaCor_valor</th>\n",
       "      <th>paciente_endereco_nmMunicipio</th>\n",
       "      <th>paciente_endereco_cep</th>\n",
       "      <th>estabelecimento_municipio_nome</th>\n",
       "      <th>vacina_grupoAtendimento_codigo</th>\n",
       "      <th>vacina_grupoAtendimento_nome</th>\n",
       "      <th>vacina_categoria_codigo</th>\n",
       "      <th>vacina_categoria_nome</th>\n",
       "      <th>vacina_dataAplicacao</th>\n",
       "      <th>vacina_descricao_dose</th>\n",
       "      <th>vacina_codigo</th>\n",
       "      <th>vacina_nome</th>\n",
       "      <th>paciente_id</th>\n",
       "    </tr>\n",
       "  </thead>\n",
       "  <tbody>\n",
       "    <tr>\n",
       "      <th>0</th>\n",
       "      <td>44</td>\n",
       "      <td>1977-04-18</td>\n",
       "      <td>M</td>\n",
       "      <td>1</td>\n",
       "      <td>BRANCA</td>\n",
       "      <td>ARAPIRACA</td>\n",
       "      <td>57510</td>\n",
       "      <td>PATOS</td>\n",
       "      <td>912</td>\n",
       "      <td>Médico</td>\n",
       "      <td>9</td>\n",
       "      <td>Trabalhadores de Saúde</td>\n",
       "      <td>2021-11-11</td>\n",
       "      <td>Reforço</td>\n",
       "      <td>87</td>\n",
       "      <td>COVID-19 PFIZER - COMIRNATY</td>\n",
       "      <td>f9495cb04daf5adb495d22c9c88b31883f191fb762ab27...</td>\n",
       "    </tr>\n",
       "    <tr>\n",
       "      <th>2</th>\n",
       "      <td>39</td>\n",
       "      <td>1982-01-23</td>\n",
       "      <td>F</td>\n",
       "      <td>99</td>\n",
       "      <td>SEM INFORMACAO</td>\n",
       "      <td>CAMPINA GRANDE</td>\n",
       "      <td>58410</td>\n",
       "      <td>CAMPINA GRANDE</td>\n",
       "      <td>201</td>\n",
       "      <td>Pessoas de 18 a 64 anos</td>\n",
       "      <td>2</td>\n",
       "      <td>Faixa Etária</td>\n",
       "      <td>2021-07-16</td>\n",
       "      <td>1ª Dose</td>\n",
       "      <td>85</td>\n",
       "      <td>COVID-19 ASTRAZENECA/FIOCRUZ - COVISHIELD</td>\n",
       "      <td>0ffaed327aac7fe8abf0b35471b0b1fa60f9fc48ff7d9c...</td>\n",
       "    </tr>\n",
       "    <tr>\n",
       "      <th>3</th>\n",
       "      <td>33</td>\n",
       "      <td>1988-07-20</td>\n",
       "      <td>M</td>\n",
       "      <td>2</td>\n",
       "      <td>PRETA</td>\n",
       "      <td>BAYEUX</td>\n",
       "      <td>58110</td>\n",
       "      <td>BAYEUX</td>\n",
       "      <td>201</td>\n",
       "      <td>Pessoas de 18 a 64 anos</td>\n",
       "      <td>2</td>\n",
       "      <td>Faixa Etária</td>\n",
       "      <td>2021-07-23</td>\n",
       "      <td>1ª Dose</td>\n",
       "      <td>85</td>\n",
       "      <td>COVID-19 ASTRAZENECA/FIOCRUZ - COVISHIELD</td>\n",
       "      <td>fe78cee14dce3436024728b1d760439861021207a32712...</td>\n",
       "    </tr>\n",
       "    <tr>\n",
       "      <th>4</th>\n",
       "      <td>27</td>\n",
       "      <td>1994-03-22</td>\n",
       "      <td>M</td>\n",
       "      <td>3</td>\n",
       "      <td>PARDA</td>\n",
       "      <td>JOAO PESSOA</td>\n",
       "      <td>58058</td>\n",
       "      <td>JOAO PESSOA</td>\n",
       "      <td>201</td>\n",
       "      <td>Pessoas de 18 a 64 anos</td>\n",
       "      <td>2</td>\n",
       "      <td>Faixa Etária</td>\n",
       "      <td>2021-12-07</td>\n",
       "      <td>2ª Dose</td>\n",
       "      <td>87</td>\n",
       "      <td>COVID-19 PFIZER - COMIRNATY</td>\n",
       "      <td>470944c18359d6a1fea2a53194d29bfdb7ce1d21b47979...</td>\n",
       "    </tr>\n",
       "    <tr>\n",
       "      <th>6</th>\n",
       "      <td>64</td>\n",
       "      <td>1957-03-24</td>\n",
       "      <td>F</td>\n",
       "      <td>2</td>\n",
       "      <td>PRETA</td>\n",
       "      <td>CAMPINA GRANDE</td>\n",
       "      <td>NaN</td>\n",
       "      <td>CAMPINA GRANDE</td>\n",
       "      <td>201</td>\n",
       "      <td>Pessoas de 18 a 64 anos</td>\n",
       "      <td>2</td>\n",
       "      <td>Faixa Etária</td>\n",
       "      <td>2021-05-19</td>\n",
       "      <td>2ª Dose</td>\n",
       "      <td>86</td>\n",
       "      <td>COVID-19 SINOVAC/BUTANTAN - CORONAVAC</td>\n",
       "      <td>0f4979537aa2e0a219d6cc6444f63dd9822320d9de4035...</td>\n",
       "    </tr>\n",
       "    <tr>\n",
       "      <th>...</th>\n",
       "      <td>...</td>\n",
       "      <td>...</td>\n",
       "      <td>...</td>\n",
       "      <td>...</td>\n",
       "      <td>...</td>\n",
       "      <td>...</td>\n",
       "      <td>...</td>\n",
       "      <td>...</td>\n",
       "      <td>...</td>\n",
       "      <td>...</td>\n",
       "      <td>...</td>\n",
       "      <td>...</td>\n",
       "      <td>...</td>\n",
       "      <td>...</td>\n",
       "      <td>...</td>\n",
       "      <td>...</td>\n",
       "      <td>...</td>\n",
       "    </tr>\n",
       "    <tr>\n",
       "      <th>2806772</th>\n",
       "      <td>60</td>\n",
       "      <td>1961-04-10</td>\n",
       "      <td>F</td>\n",
       "      <td>1</td>\n",
       "      <td>BRANCA</td>\n",
       "      <td>CAMPINA GRANDE</td>\n",
       "      <td>58407</td>\n",
       "      <td>CAMPINA GRANDE</td>\n",
       "      <td>201</td>\n",
       "      <td>Pessoas de 18 a 64 anos</td>\n",
       "      <td>2</td>\n",
       "      <td>Faixa Etária</td>\n",
       "      <td>2021-04-19</td>\n",
       "      <td>1ª Dose</td>\n",
       "      <td>85</td>\n",
       "      <td>COVID-19 ASTRAZENECA/FIOCRUZ - COVISHIELD</td>\n",
       "      <td>9488b77754e8cd63ae0e57a69e77072d6d9b552d824b9c...</td>\n",
       "    </tr>\n",
       "    <tr>\n",
       "      <th>2806775</th>\n",
       "      <td>50</td>\n",
       "      <td>1971-02-11</td>\n",
       "      <td>F</td>\n",
       "      <td>99</td>\n",
       "      <td>SEM INFORMACAO</td>\n",
       "      <td>JOAO PESSOA</td>\n",
       "      <td>58085</td>\n",
       "      <td>JOAO PESSOA</td>\n",
       "      <td>201</td>\n",
       "      <td>Pessoas de 18 a 64 anos</td>\n",
       "      <td>2</td>\n",
       "      <td>Faixa Etária</td>\n",
       "      <td>2021-06-25</td>\n",
       "      <td>1ª Dose</td>\n",
       "      <td>88</td>\n",
       "      <td>COVID-19 JANSSEN - Ad26.COV2.S</td>\n",
       "      <td>7d9c473fc1707d8c640893186609811a91cf0c2abfab99...</td>\n",
       "    </tr>\n",
       "    <tr>\n",
       "      <th>2806776</th>\n",
       "      <td>39</td>\n",
       "      <td>1981-08-29</td>\n",
       "      <td>M</td>\n",
       "      <td>2</td>\n",
       "      <td>PRETA</td>\n",
       "      <td>SERRA BRANCA</td>\n",
       "      <td>58580</td>\n",
       "      <td>SERRA BRANCA</td>\n",
       "      <td>201</td>\n",
       "      <td>Pessoas de 18 a 64 anos</td>\n",
       "      <td>2</td>\n",
       "      <td>Faixa Etária</td>\n",
       "      <td>2021-07-09</td>\n",
       "      <td>1ª Dose</td>\n",
       "      <td>87</td>\n",
       "      <td>COVID-19 PFIZER - COMIRNATY</td>\n",
       "      <td>0f2de66558d8c8a12ec5347bbb25a89d78bc6141be5e94...</td>\n",
       "    </tr>\n",
       "    <tr>\n",
       "      <th>2806787</th>\n",
       "      <td>66</td>\n",
       "      <td>1954-09-06</td>\n",
       "      <td>F</td>\n",
       "      <td>3</td>\n",
       "      <td>PARDA</td>\n",
       "      <td>REMIGIO</td>\n",
       "      <td>58398</td>\n",
       "      <td>REMIGIO</td>\n",
       "      <td>202</td>\n",
       "      <td>Pessoas de 65 a 69 anos</td>\n",
       "      <td>2</td>\n",
       "      <td>Faixa Etária</td>\n",
       "      <td>2021-03-24</td>\n",
       "      <td>1ª Dose</td>\n",
       "      <td>86</td>\n",
       "      <td>COVID-19 SINOVAC/BUTANTAN - CORONAVAC</td>\n",
       "      <td>a96a8f1ca4d357e0faa72dc7f83ab56556a94064ad6e91...</td>\n",
       "    </tr>\n",
       "    <tr>\n",
       "      <th>2806788</th>\n",
       "      <td>40</td>\n",
       "      <td>1981-03-17</td>\n",
       "      <td>F</td>\n",
       "      <td>1</td>\n",
       "      <td>BRANCA</td>\n",
       "      <td>ALAGOA NOVA</td>\n",
       "      <td>58125</td>\n",
       "      <td>ALAGOA NOVA</td>\n",
       "      <td>201</td>\n",
       "      <td>Pessoas de 18 a 64 anos</td>\n",
       "      <td>2</td>\n",
       "      <td>Faixa Etária</td>\n",
       "      <td>2021-07-20</td>\n",
       "      <td>1ª Dose</td>\n",
       "      <td>85</td>\n",
       "      <td>COVID-19 ASTRAZENECA/FIOCRUZ - COVISHIELD</td>\n",
       "      <td>82c7c509eb2947967f421774cf7755f27a9e50723f646d...</td>\n",
       "    </tr>\n",
       "  </tbody>\n",
       "</table>\n",
       "<p>1557979 rows × 17 columns</p>\n",
       "</div>"
      ],
      "text/plain": [
       "         paciente_idade paciente_dataNascimento paciente_enumSexoBiologico  \\\n",
       "0                    44              1977-04-18                          M   \n",
       "2                    39              1982-01-23                          F   \n",
       "3                    33              1988-07-20                          M   \n",
       "4                    27              1994-03-22                          M   \n",
       "6                    64              1957-03-24                          F   \n",
       "...                 ...                     ...                        ...   \n",
       "2806772              60              1961-04-10                          F   \n",
       "2806775              50              1971-02-11                          F   \n",
       "2806776              39              1981-08-29                          M   \n",
       "2806787              66              1954-09-06                          F   \n",
       "2806788              40              1981-03-17                          F   \n",
       "\n",
       "         paciente_racaCor_codigo paciente_racaCor_valor  \\\n",
       "0                              1                 BRANCA   \n",
       "2                             99         SEM INFORMACAO   \n",
       "3                              2                  PRETA   \n",
       "4                              3                  PARDA   \n",
       "6                              2                  PRETA   \n",
       "...                          ...                    ...   \n",
       "2806772                        1                 BRANCA   \n",
       "2806775                       99         SEM INFORMACAO   \n",
       "2806776                        2                  PRETA   \n",
       "2806787                        3                  PARDA   \n",
       "2806788                        1                 BRANCA   \n",
       "\n",
       "        paciente_endereco_nmMunicipio paciente_endereco_cep  \\\n",
       "0                           ARAPIRACA                 57510   \n",
       "2                      CAMPINA GRANDE                 58410   \n",
       "3                              BAYEUX                 58110   \n",
       "4                         JOAO PESSOA                 58058   \n",
       "6                      CAMPINA GRANDE                   NaN   \n",
       "...                               ...                   ...   \n",
       "2806772                CAMPINA GRANDE                 58407   \n",
       "2806775                   JOAO PESSOA                 58085   \n",
       "2806776                  SERRA BRANCA                 58580   \n",
       "2806787                       REMIGIO                 58398   \n",
       "2806788                   ALAGOA NOVA                 58125   \n",
       "\n",
       "        estabelecimento_municipio_nome  vacina_grupoAtendimento_codigo  \\\n",
       "0                                PATOS                             912   \n",
       "2                       CAMPINA GRANDE                             201   \n",
       "3                               BAYEUX                             201   \n",
       "4                          JOAO PESSOA                             201   \n",
       "6                       CAMPINA GRANDE                             201   \n",
       "...                                ...                             ...   \n",
       "2806772                 CAMPINA GRANDE                             201   \n",
       "2806775                    JOAO PESSOA                             201   \n",
       "2806776                   SERRA BRANCA                             201   \n",
       "2806787                        REMIGIO                             202   \n",
       "2806788                    ALAGOA NOVA                             201   \n",
       "\n",
       "        vacina_grupoAtendimento_nome  vacina_categoria_codigo  \\\n",
       "0                             Médico                        9   \n",
       "2            Pessoas de 18 a 64 anos                        2   \n",
       "3            Pessoas de 18 a 64 anos                        2   \n",
       "4            Pessoas de 18 a 64 anos                        2   \n",
       "6            Pessoas de 18 a 64 anos                        2   \n",
       "...                              ...                      ...   \n",
       "2806772      Pessoas de 18 a 64 anos                        2   \n",
       "2806775      Pessoas de 18 a 64 anos                        2   \n",
       "2806776      Pessoas de 18 a 64 anos                        2   \n",
       "2806787      Pessoas de 65 a 69 anos                        2   \n",
       "2806788      Pessoas de 18 a 64 anos                        2   \n",
       "\n",
       "          vacina_categoria_nome vacina_dataAplicacao vacina_descricao_dose  \\\n",
       "0        Trabalhadores de Saúde           2021-11-11               Reforço   \n",
       "2                  Faixa Etária           2021-07-16               1ª Dose   \n",
       "3                  Faixa Etária           2021-07-23               1ª Dose   \n",
       "4                  Faixa Etária           2021-12-07               2ª Dose   \n",
       "6                  Faixa Etária           2021-05-19               2ª Dose   \n",
       "...                         ...                  ...                   ...   \n",
       "2806772            Faixa Etária           2021-04-19               1ª Dose   \n",
       "2806775            Faixa Etária           2021-06-25               1ª Dose   \n",
       "2806776            Faixa Etária           2021-07-09               1ª Dose   \n",
       "2806787            Faixa Etária           2021-03-24               1ª Dose   \n",
       "2806788            Faixa Etária           2021-07-20               1ª Dose   \n",
       "\n",
       "         vacina_codigo                                vacina_nome  \\\n",
       "0                   87                COVID-19 PFIZER - COMIRNATY   \n",
       "2                   85  COVID-19 ASTRAZENECA/FIOCRUZ - COVISHIELD   \n",
       "3                   85  COVID-19 ASTRAZENECA/FIOCRUZ - COVISHIELD   \n",
       "4                   87                COVID-19 PFIZER - COMIRNATY   \n",
       "6                   86      COVID-19 SINOVAC/BUTANTAN - CORONAVAC   \n",
       "...                ...                                        ...   \n",
       "2806772             85  COVID-19 ASTRAZENECA/FIOCRUZ - COVISHIELD   \n",
       "2806775             88             COVID-19 JANSSEN - Ad26.COV2.S   \n",
       "2806776             87                COVID-19 PFIZER - COMIRNATY   \n",
       "2806787             86      COVID-19 SINOVAC/BUTANTAN - CORONAVAC   \n",
       "2806788             85  COVID-19 ASTRAZENECA/FIOCRUZ - COVISHIELD   \n",
       "\n",
       "                                               paciente_id  \n",
       "0        f9495cb04daf5adb495d22c9c88b31883f191fb762ab27...  \n",
       "2        0ffaed327aac7fe8abf0b35471b0b1fa60f9fc48ff7d9c...  \n",
       "3        fe78cee14dce3436024728b1d760439861021207a32712...  \n",
       "4        470944c18359d6a1fea2a53194d29bfdb7ce1d21b47979...  \n",
       "6        0f4979537aa2e0a219d6cc6444f63dd9822320d9de4035...  \n",
       "...                                                    ...  \n",
       "2806772  9488b77754e8cd63ae0e57a69e77072d6d9b552d824b9c...  \n",
       "2806775  7d9c473fc1707d8c640893186609811a91cf0c2abfab99...  \n",
       "2806776  0f2de66558d8c8a12ec5347bbb25a89d78bc6141be5e94...  \n",
       "2806787  a96a8f1ca4d357e0faa72dc7f83ab56556a94064ad6e91...  \n",
       "2806788  82c7c509eb2947967f421774cf7755f27a9e50723f646d...  \n",
       "\n",
       "[1557979 rows x 17 columns]"
      ]
     },
     "execution_count": 9,
     "metadata": {},
     "output_type": "execute_result"
    }
   ],
   "source": [
    "etaria_df.loc[etaria_df.paciente_idade > 25]"
   ]
  },
  {
   "cell_type": "code",
   "execution_count": 10,
   "metadata": {},
   "outputs": [],
   "source": [
    "pir_list = []"
   ]
  },
  {
   "cell_type": "code",
   "execution_count": 11,
   "metadata": {},
   "outputs": [],
   "source": [
    "for i in range(25, 101, 5):\n",
    "    pir_dict = {}\n",
    "\n",
    "    if i == 100:\n",
    "        pir_dict['Age'] = '100+'\n",
    "        gender_count = etaria_df.loc[etaria_df.paciente_idade >= 100].value_counts('paciente_enumSexoBiologico')\n",
    "\n",
    "    else:\n",
    "        ind = f'{i}-{i + 4}'\n",
    "        pir_dict['Age'] = ind\n",
    "        gender_count = etaria_df.loc[etaria_df.paciente_idade.isin(range(i, i + 5))].value_counts('paciente_enumSexoBiologico')\n",
    "\n",
    "    pir_dict['M'] = gender_count['M']\n",
    "    pir_dict['F'] = gender_count['F']\n",
    "\n",
    "    pir_list.append(pir_dict)"
   ]
  },
  {
   "cell_type": "code",
   "execution_count": 12,
   "metadata": {},
   "outputs": [],
   "source": [
    "pir_df = pd.DataFrame(pir_list)"
   ]
  },
  {
   "cell_type": "code",
   "execution_count": 13,
   "metadata": {},
   "outputs": [],
   "source": [
    "pir_df.columns = ['idade', 'masculino', 'feminino']"
   ]
  },
  {
   "cell_type": "code",
   "execution_count": 14,
   "metadata": {},
   "outputs": [
    {
     "data": {
      "text/html": [
       "<div>\n",
       "<style scoped>\n",
       "    .dataframe tbody tr th:only-of-type {\n",
       "        vertical-align: middle;\n",
       "    }\n",
       "\n",
       "    .dataframe tbody tr th {\n",
       "        vertical-align: top;\n",
       "    }\n",
       "\n",
       "    .dataframe thead th {\n",
       "        text-align: right;\n",
       "    }\n",
       "</style>\n",
       "<table border=\"1\" class=\"dataframe\">\n",
       "  <thead>\n",
       "    <tr style=\"text-align: right;\">\n",
       "      <th></th>\n",
       "      <th>idade</th>\n",
       "      <th>masculino</th>\n",
       "      <th>feminino</th>\n",
       "    </tr>\n",
       "  </thead>\n",
       "  <tbody>\n",
       "    <tr>\n",
       "      <th>0</th>\n",
       "      <td>25-29</td>\n",
       "      <td>86264</td>\n",
       "      <td>96341</td>\n",
       "    </tr>\n",
       "    <tr>\n",
       "      <th>1</th>\n",
       "      <td>30-34</td>\n",
       "      <td>85871</td>\n",
       "      <td>98088</td>\n",
       "    </tr>\n",
       "    <tr>\n",
       "      <th>2</th>\n",
       "      <td>35-39</td>\n",
       "      <td>90602</td>\n",
       "      <td>101534</td>\n",
       "    </tr>\n",
       "    <tr>\n",
       "      <th>3</th>\n",
       "      <td>40-44</td>\n",
       "      <td>85142</td>\n",
       "      <td>96105</td>\n",
       "    </tr>\n",
       "    <tr>\n",
       "      <th>4</th>\n",
       "      <td>45-49</td>\n",
       "      <td>75484</td>\n",
       "      <td>86358</td>\n",
       "    </tr>\n",
       "    <tr>\n",
       "      <th>5</th>\n",
       "      <td>50-54</td>\n",
       "      <td>67661</td>\n",
       "      <td>79767</td>\n",
       "    </tr>\n",
       "    <tr>\n",
       "      <th>6</th>\n",
       "      <td>55-59</td>\n",
       "      <td>63381</td>\n",
       "      <td>74753</td>\n",
       "    </tr>\n",
       "    <tr>\n",
       "      <th>7</th>\n",
       "      <td>60-64</td>\n",
       "      <td>52513</td>\n",
       "      <td>62617</td>\n",
       "    </tr>\n",
       "    <tr>\n",
       "      <th>8</th>\n",
       "      <td>65-69</td>\n",
       "      <td>41653</td>\n",
       "      <td>51728</td>\n",
       "    </tr>\n",
       "    <tr>\n",
       "      <th>9</th>\n",
       "      <td>70-74</td>\n",
       "      <td>33147</td>\n",
       "      <td>43038</td>\n",
       "    </tr>\n",
       "    <tr>\n",
       "      <th>10</th>\n",
       "      <td>75-79</td>\n",
       "      <td>21750</td>\n",
       "      <td>29850</td>\n",
       "    </tr>\n",
       "    <tr>\n",
       "      <th>11</th>\n",
       "      <td>80-84</td>\n",
       "      <td>15503</td>\n",
       "      <td>23336</td>\n",
       "    </tr>\n",
       "    <tr>\n",
       "      <th>12</th>\n",
       "      <td>85-89</td>\n",
       "      <td>7484</td>\n",
       "      <td>12598</td>\n",
       "    </tr>\n",
       "    <tr>\n",
       "      <th>13</th>\n",
       "      <td>90-94</td>\n",
       "      <td>3344</td>\n",
       "      <td>6273</td>\n",
       "    </tr>\n",
       "    <tr>\n",
       "      <th>14</th>\n",
       "      <td>95-99</td>\n",
       "      <td>1144</td>\n",
       "      <td>2066</td>\n",
       "    </tr>\n",
       "    <tr>\n",
       "      <th>15</th>\n",
       "      <td>100+</td>\n",
       "      <td>355</td>\n",
       "      <td>751</td>\n",
       "    </tr>\n",
       "  </tbody>\n",
       "</table>\n",
       "</div>"
      ],
      "text/plain": [
       "    idade  masculino  feminino\n",
       "0   25-29      86264     96341\n",
       "1   30-34      85871     98088\n",
       "2   35-39      90602    101534\n",
       "3   40-44      85142     96105\n",
       "4   45-49      75484     86358\n",
       "5   50-54      67661     79767\n",
       "6   55-59      63381     74753\n",
       "7   60-64      52513     62617\n",
       "8   65-69      41653     51728\n",
       "9   70-74      33147     43038\n",
       "10  75-79      21750     29850\n",
       "11  80-84      15503     23336\n",
       "12  85-89       7484     12598\n",
       "13  90-94       3344      6273\n",
       "14  95-99       1144      2066\n",
       "15   100+        355       751"
      ]
     },
     "execution_count": 14,
     "metadata": {},
     "output_type": "execute_result"
    }
   ],
   "source": [
    "pir_df"
   ]
  },
  {
   "cell_type": "code",
   "execution_count": 15,
   "metadata": {},
   "outputs": [],
   "source": [
    "y_age = pir_df.idade\n",
    "x_M = pir_df.masculino\n",
    "x_F = pir_df.feminino * -1"
   ]
  },
  {
   "cell_type": "code",
   "execution_count": 16,
   "metadata": {},
   "outputs": [
    {
     "data": {
      "application/vnd.plotly.v1+json": {
       "config": {
        "plotlyServerURL": "https://plot.ly"
       },
       "data": [
        {
         "name": "Masculino",
         "orientation": "h",
         "type": "bar",
         "x": [
          86264,
          85871,
          90602,
          85142,
          75484,
          67661,
          63381,
          52513,
          41653,
          33147,
          21750,
          15503,
          7484,
          3344,
          1144,
          355
         ],
         "y": [
          "25-29",
          "30-34",
          "35-39",
          "40-44",
          "45-49",
          "50-54",
          "55-59",
          "60-64",
          "65-69",
          "70-74",
          "75-79",
          "80-84",
          "85-89",
          "90-94",
          "95-99",
          "100+"
         ]
        },
        {
         "name": "Feminino",
         "orientation": "h",
         "type": "bar",
         "x": [
          -96341,
          -98088,
          -101534,
          -96105,
          -86358,
          -79767,
          -74753,
          -62617,
          -51728,
          -43038,
          -29850,
          -23336,
          -12598,
          -6273,
          -2066,
          -751
         ],
         "y": [
          "25-29",
          "30-34",
          "35-39",
          "40-44",
          "45-49",
          "50-54",
          "55-59",
          "60-64",
          "65-69",
          "70-74",
          "75-79",
          "80-84",
          "85-89",
          "90-94",
          "95-99",
          "100+"
         ]
        }
       ],
       "layout": {
        "bargap": 0,
        "bargroupgap": 0,
        "barmode": "relative",
        "template": {
         "data": {
          "bar": [
           {
            "error_x": {
             "color": "#2a3f5f"
            },
            "error_y": {
             "color": "#2a3f5f"
            },
            "marker": {
             "line": {
              "color": "#E5ECF6",
              "width": 0.5
             },
             "pattern": {
              "fillmode": "overlay",
              "size": 10,
              "solidity": 0.2
             }
            },
            "type": "bar"
           }
          ],
          "barpolar": [
           {
            "marker": {
             "line": {
              "color": "#E5ECF6",
              "width": 0.5
             },
             "pattern": {
              "fillmode": "overlay",
              "size": 10,
              "solidity": 0.2
             }
            },
            "type": "barpolar"
           }
          ],
          "carpet": [
           {
            "aaxis": {
             "endlinecolor": "#2a3f5f",
             "gridcolor": "white",
             "linecolor": "white",
             "minorgridcolor": "white",
             "startlinecolor": "#2a3f5f"
            },
            "baxis": {
             "endlinecolor": "#2a3f5f",
             "gridcolor": "white",
             "linecolor": "white",
             "minorgridcolor": "white",
             "startlinecolor": "#2a3f5f"
            },
            "type": "carpet"
           }
          ],
          "choropleth": [
           {
            "colorbar": {
             "outlinewidth": 0,
             "ticks": ""
            },
            "type": "choropleth"
           }
          ],
          "contour": [
           {
            "colorbar": {
             "outlinewidth": 0,
             "ticks": ""
            },
            "colorscale": [
             [
              0,
              "#0d0887"
             ],
             [
              0.1111111111111111,
              "#46039f"
             ],
             [
              0.2222222222222222,
              "#7201a8"
             ],
             [
              0.3333333333333333,
              "#9c179e"
             ],
             [
              0.4444444444444444,
              "#bd3786"
             ],
             [
              0.5555555555555556,
              "#d8576b"
             ],
             [
              0.6666666666666666,
              "#ed7953"
             ],
             [
              0.7777777777777778,
              "#fb9f3a"
             ],
             [
              0.8888888888888888,
              "#fdca26"
             ],
             [
              1,
              "#f0f921"
             ]
            ],
            "type": "contour"
           }
          ],
          "contourcarpet": [
           {
            "colorbar": {
             "outlinewidth": 0,
             "ticks": ""
            },
            "type": "contourcarpet"
           }
          ],
          "heatmap": [
           {
            "colorbar": {
             "outlinewidth": 0,
             "ticks": ""
            },
            "colorscale": [
             [
              0,
              "#0d0887"
             ],
             [
              0.1111111111111111,
              "#46039f"
             ],
             [
              0.2222222222222222,
              "#7201a8"
             ],
             [
              0.3333333333333333,
              "#9c179e"
             ],
             [
              0.4444444444444444,
              "#bd3786"
             ],
             [
              0.5555555555555556,
              "#d8576b"
             ],
             [
              0.6666666666666666,
              "#ed7953"
             ],
             [
              0.7777777777777778,
              "#fb9f3a"
             ],
             [
              0.8888888888888888,
              "#fdca26"
             ],
             [
              1,
              "#f0f921"
             ]
            ],
            "type": "heatmap"
           }
          ],
          "heatmapgl": [
           {
            "colorbar": {
             "outlinewidth": 0,
             "ticks": ""
            },
            "colorscale": [
             [
              0,
              "#0d0887"
             ],
             [
              0.1111111111111111,
              "#46039f"
             ],
             [
              0.2222222222222222,
              "#7201a8"
             ],
             [
              0.3333333333333333,
              "#9c179e"
             ],
             [
              0.4444444444444444,
              "#bd3786"
             ],
             [
              0.5555555555555556,
              "#d8576b"
             ],
             [
              0.6666666666666666,
              "#ed7953"
             ],
             [
              0.7777777777777778,
              "#fb9f3a"
             ],
             [
              0.8888888888888888,
              "#fdca26"
             ],
             [
              1,
              "#f0f921"
             ]
            ],
            "type": "heatmapgl"
           }
          ],
          "histogram": [
           {
            "marker": {
             "pattern": {
              "fillmode": "overlay",
              "size": 10,
              "solidity": 0.2
             }
            },
            "type": "histogram"
           }
          ],
          "histogram2d": [
           {
            "colorbar": {
             "outlinewidth": 0,
             "ticks": ""
            },
            "colorscale": [
             [
              0,
              "#0d0887"
             ],
             [
              0.1111111111111111,
              "#46039f"
             ],
             [
              0.2222222222222222,
              "#7201a8"
             ],
             [
              0.3333333333333333,
              "#9c179e"
             ],
             [
              0.4444444444444444,
              "#bd3786"
             ],
             [
              0.5555555555555556,
              "#d8576b"
             ],
             [
              0.6666666666666666,
              "#ed7953"
             ],
             [
              0.7777777777777778,
              "#fb9f3a"
             ],
             [
              0.8888888888888888,
              "#fdca26"
             ],
             [
              1,
              "#f0f921"
             ]
            ],
            "type": "histogram2d"
           }
          ],
          "histogram2dcontour": [
           {
            "colorbar": {
             "outlinewidth": 0,
             "ticks": ""
            },
            "colorscale": [
             [
              0,
              "#0d0887"
             ],
             [
              0.1111111111111111,
              "#46039f"
             ],
             [
              0.2222222222222222,
              "#7201a8"
             ],
             [
              0.3333333333333333,
              "#9c179e"
             ],
             [
              0.4444444444444444,
              "#bd3786"
             ],
             [
              0.5555555555555556,
              "#d8576b"
             ],
             [
              0.6666666666666666,
              "#ed7953"
             ],
             [
              0.7777777777777778,
              "#fb9f3a"
             ],
             [
              0.8888888888888888,
              "#fdca26"
             ],
             [
              1,
              "#f0f921"
             ]
            ],
            "type": "histogram2dcontour"
           }
          ],
          "mesh3d": [
           {
            "colorbar": {
             "outlinewidth": 0,
             "ticks": ""
            },
            "type": "mesh3d"
           }
          ],
          "parcoords": [
           {
            "line": {
             "colorbar": {
              "outlinewidth": 0,
              "ticks": ""
             }
            },
            "type": "parcoords"
           }
          ],
          "pie": [
           {
            "automargin": true,
            "type": "pie"
           }
          ],
          "scatter": [
           {
            "fillpattern": {
             "fillmode": "overlay",
             "size": 10,
             "solidity": 0.2
            },
            "type": "scatter"
           }
          ],
          "scatter3d": [
           {
            "line": {
             "colorbar": {
              "outlinewidth": 0,
              "ticks": ""
             }
            },
            "marker": {
             "colorbar": {
              "outlinewidth": 0,
              "ticks": ""
             }
            },
            "type": "scatter3d"
           }
          ],
          "scattercarpet": [
           {
            "marker": {
             "colorbar": {
              "outlinewidth": 0,
              "ticks": ""
             }
            },
            "type": "scattercarpet"
           }
          ],
          "scattergeo": [
           {
            "marker": {
             "colorbar": {
              "outlinewidth": 0,
              "ticks": ""
             }
            },
            "type": "scattergeo"
           }
          ],
          "scattergl": [
           {
            "marker": {
             "colorbar": {
              "outlinewidth": 0,
              "ticks": ""
             }
            },
            "type": "scattergl"
           }
          ],
          "scattermapbox": [
           {
            "marker": {
             "colorbar": {
              "outlinewidth": 0,
              "ticks": ""
             }
            },
            "type": "scattermapbox"
           }
          ],
          "scatterpolar": [
           {
            "marker": {
             "colorbar": {
              "outlinewidth": 0,
              "ticks": ""
             }
            },
            "type": "scatterpolar"
           }
          ],
          "scatterpolargl": [
           {
            "marker": {
             "colorbar": {
              "outlinewidth": 0,
              "ticks": ""
             }
            },
            "type": "scatterpolargl"
           }
          ],
          "scatterternary": [
           {
            "marker": {
             "colorbar": {
              "outlinewidth": 0,
              "ticks": ""
             }
            },
            "type": "scatterternary"
           }
          ],
          "surface": [
           {
            "colorbar": {
             "outlinewidth": 0,
             "ticks": ""
            },
            "colorscale": [
             [
              0,
              "#0d0887"
             ],
             [
              0.1111111111111111,
              "#46039f"
             ],
             [
              0.2222222222222222,
              "#7201a8"
             ],
             [
              0.3333333333333333,
              "#9c179e"
             ],
             [
              0.4444444444444444,
              "#bd3786"
             ],
             [
              0.5555555555555556,
              "#d8576b"
             ],
             [
              0.6666666666666666,
              "#ed7953"
             ],
             [
              0.7777777777777778,
              "#fb9f3a"
             ],
             [
              0.8888888888888888,
              "#fdca26"
             ],
             [
              1,
              "#f0f921"
             ]
            ],
            "type": "surface"
           }
          ],
          "table": [
           {
            "cells": {
             "fill": {
              "color": "#EBF0F8"
             },
             "line": {
              "color": "white"
             }
            },
            "header": {
             "fill": {
              "color": "#C8D4E3"
             },
             "line": {
              "color": "white"
             }
            },
            "type": "table"
           }
          ]
         },
         "layout": {
          "annotationdefaults": {
           "arrowcolor": "#2a3f5f",
           "arrowhead": 0,
           "arrowwidth": 1
          },
          "autotypenumbers": "strict",
          "coloraxis": {
           "colorbar": {
            "outlinewidth": 0,
            "ticks": ""
           }
          },
          "colorscale": {
           "diverging": [
            [
             0,
             "#8e0152"
            ],
            [
             0.1,
             "#c51b7d"
            ],
            [
             0.2,
             "#de77ae"
            ],
            [
             0.3,
             "#f1b6da"
            ],
            [
             0.4,
             "#fde0ef"
            ],
            [
             0.5,
             "#f7f7f7"
            ],
            [
             0.6,
             "#e6f5d0"
            ],
            [
             0.7,
             "#b8e186"
            ],
            [
             0.8,
             "#7fbc41"
            ],
            [
             0.9,
             "#4d9221"
            ],
            [
             1,
             "#276419"
            ]
           ],
           "sequential": [
            [
             0,
             "#0d0887"
            ],
            [
             0.1111111111111111,
             "#46039f"
            ],
            [
             0.2222222222222222,
             "#7201a8"
            ],
            [
             0.3333333333333333,
             "#9c179e"
            ],
            [
             0.4444444444444444,
             "#bd3786"
            ],
            [
             0.5555555555555556,
             "#d8576b"
            ],
            [
             0.6666666666666666,
             "#ed7953"
            ],
            [
             0.7777777777777778,
             "#fb9f3a"
            ],
            [
             0.8888888888888888,
             "#fdca26"
            ],
            [
             1,
             "#f0f921"
            ]
           ],
           "sequentialminus": [
            [
             0,
             "#0d0887"
            ],
            [
             0.1111111111111111,
             "#46039f"
            ],
            [
             0.2222222222222222,
             "#7201a8"
            ],
            [
             0.3333333333333333,
             "#9c179e"
            ],
            [
             0.4444444444444444,
             "#bd3786"
            ],
            [
             0.5555555555555556,
             "#d8576b"
            ],
            [
             0.6666666666666666,
             "#ed7953"
            ],
            [
             0.7777777777777778,
             "#fb9f3a"
            ],
            [
             0.8888888888888888,
             "#fdca26"
            ],
            [
             1,
             "#f0f921"
            ]
           ]
          },
          "colorway": [
           "#636efa",
           "#EF553B",
           "#00cc96",
           "#ab63fa",
           "#FFA15A",
           "#19d3f3",
           "#FF6692",
           "#B6E880",
           "#FF97FF",
           "#FECB52"
          ],
          "font": {
           "color": "#2a3f5f"
          },
          "geo": {
           "bgcolor": "white",
           "lakecolor": "white",
           "landcolor": "#E5ECF6",
           "showlakes": true,
           "showland": true,
           "subunitcolor": "white"
          },
          "hoverlabel": {
           "align": "left"
          },
          "hovermode": "closest",
          "mapbox": {
           "style": "light"
          },
          "paper_bgcolor": "white",
          "plot_bgcolor": "#E5ECF6",
          "polar": {
           "angularaxis": {
            "gridcolor": "white",
            "linecolor": "white",
            "ticks": ""
           },
           "bgcolor": "#E5ECF6",
           "radialaxis": {
            "gridcolor": "white",
            "linecolor": "white",
            "ticks": ""
           }
          },
          "scene": {
           "xaxis": {
            "backgroundcolor": "#E5ECF6",
            "gridcolor": "white",
            "gridwidth": 2,
            "linecolor": "white",
            "showbackground": true,
            "ticks": "",
            "zerolinecolor": "white"
           },
           "yaxis": {
            "backgroundcolor": "#E5ECF6",
            "gridcolor": "white",
            "gridwidth": 2,
            "linecolor": "white",
            "showbackground": true,
            "ticks": "",
            "zerolinecolor": "white"
           },
           "zaxis": {
            "backgroundcolor": "#E5ECF6",
            "gridcolor": "white",
            "gridwidth": 2,
            "linecolor": "white",
            "showbackground": true,
            "ticks": "",
            "zerolinecolor": "white"
           }
          },
          "shapedefaults": {
           "line": {
            "color": "#2a3f5f"
           }
          },
          "ternary": {
           "aaxis": {
            "gridcolor": "white",
            "linecolor": "white",
            "ticks": ""
           },
           "baxis": {
            "gridcolor": "white",
            "linecolor": "white",
            "ticks": ""
           },
           "bgcolor": "#E5ECF6",
           "caxis": {
            "gridcolor": "white",
            "linecolor": "white",
            "ticks": ""
           }
          },
          "title": {
           "x": 0.05
          },
          "xaxis": {
           "automargin": true,
           "gridcolor": "white",
           "linecolor": "white",
           "ticks": "",
           "title": {
            "standoff": 15
           },
           "zerolinecolor": "white",
           "zerolinewidth": 2
          },
          "yaxis": {
           "automargin": true,
           "gridcolor": "white",
           "linecolor": "white",
           "ticks": "",
           "title": {
            "standoff": 15
           },
           "zerolinecolor": "white",
           "zerolinewidth": 2
          }
         }
        },
        "title": {
         "font": {
          "size": 22
         },
         "text": "Vacinados por gênero"
        },
        "xaxis": {
         "title": {
          "font": {
           "size": 14
          },
          "text": "Vacinados em milhares de habitantes"
         }
        }
       }
      }
     },
     "metadata": {},
     "output_type": "display_data"
    }
   ],
   "source": [
    "fig = gp.Figure()\n",
    "  \n",
    "\n",
    "fig.add_trace(gp.Bar(y= y_age, x = x_M, \n",
    "                     name = 'Masculino', \n",
    "                     orientation = 'h'))\n",
    "  \n",
    "fig.add_trace(gp.Bar(y = y_age, x = x_F,\n",
    "                     name = 'Feminino', orientation = 'h'))\n",
    "  \n",
    "\n",
    "fig.update_layout(title = 'Vacinados por gênero',\n",
    "                 title_font_size = 22, barmode = 'relative',\n",
    "                 bargap = 0.0, bargroupgap = 0,\n",
    "                xaxis = dict(\n",
    "                              title = 'Vacinados em milhares de habitantes',\n",
    "                              title_font_size = 14)\n",
    "                 )\n",
    "  \n",
    "fig.show()"
   ]
  },
  {
   "cell_type": "code",
   "execution_count": 17,
   "metadata": {},
   "outputs": [],
   "source": [
    "md_masc = np.mean(pir_df.masculino)\n",
    "std_masc = np.std(pir_df.masculino)\n",
    "\n",
    "pir_df['norm_masc'] = norm.cdf(pir_df.masculino, loc = md_masc, scale = std_masc)"
   ]
  },
  {
   "cell_type": "code",
   "execution_count": 18,
   "metadata": {},
   "outputs": [],
   "source": [
    "md_fem = np.mean(pir_df.feminino)\n",
    "std_fem = np.std(pir_df.feminino)\n",
    "\n",
    "pir_df['norm_fem'] = norm.cdf(pir_df.feminino, loc = md_fem, scale = std_fem)"
   ]
  },
  {
   "cell_type": "code",
   "execution_count": 22,
   "metadata": {},
   "outputs": [],
   "source": [
    "pir_df['total'] = pir_df.masculino + pir_df.feminino"
   ]
  },
  {
   "cell_type": "code",
   "execution_count": 24,
   "metadata": {},
   "outputs": [],
   "source": [
    "med_total = np.mean(pir_df.total)\n",
    "std_total = np.std(pir_df.total)"
   ]
  },
  {
   "cell_type": "code",
   "execution_count": 27,
   "metadata": {},
   "outputs": [],
   "source": [
    "pir_df.norm_masc = norm.cdf(pir_df.masculino, loc = med_total, scale = std_total)\n",
    "pir_df.norm_fem = norm.cdf(pir_df.feminino, loc = med_total, scale = std_total)"
   ]
  },
  {
   "cell_type": "code",
   "execution_count": 31,
   "metadata": {},
   "outputs": [
    {
     "data": {
      "text/html": [
       "<div>\n",
       "<style scoped>\n",
       "    .dataframe tbody tr th:only-of-type {\n",
       "        vertical-align: middle;\n",
       "    }\n",
       "\n",
       "    .dataframe tbody tr th {\n",
       "        vertical-align: top;\n",
       "    }\n",
       "\n",
       "    .dataframe thead th {\n",
       "        text-align: right;\n",
       "    }\n",
       "</style>\n",
       "<table border=\"1\" class=\"dataframe\">\n",
       "  <thead>\n",
       "    <tr style=\"text-align: right;\">\n",
       "      <th></th>\n",
       "      <th>idade</th>\n",
       "      <th>masculino</th>\n",
       "      <th>feminino</th>\n",
       "      <th>norm_masc</th>\n",
       "      <th>norm_fem</th>\n",
       "      <th>total</th>\n",
       "    </tr>\n",
       "  </thead>\n",
       "  <tbody>\n",
       "    <tr>\n",
       "      <th>0</th>\n",
       "      <td>25-29</td>\n",
       "      <td>86264</td>\n",
       "      <td>96341</td>\n",
       "      <td>0.422813</td>\n",
       "      <td>0.480239</td>\n",
       "      <td>182605</td>\n",
       "    </tr>\n",
       "    <tr>\n",
       "      <th>1</th>\n",
       "      <td>30-34</td>\n",
       "      <td>85871</td>\n",
       "      <td>98088</td>\n",
       "      <td>0.420598</td>\n",
       "      <td>0.490271</td>\n",
       "      <td>183959</td>\n",
       "    </tr>\n",
       "    <tr>\n",
       "      <th>2</th>\n",
       "      <td>35-39</td>\n",
       "      <td>90602</td>\n",
       "      <td>101534</td>\n",
       "      <td>0.447406</td>\n",
       "      <td>0.510071</td>\n",
       "      <td>192136</td>\n",
       "    </tr>\n",
       "    <tr>\n",
       "      <th>3</th>\n",
       "      <td>40-44</td>\n",
       "      <td>85142</td>\n",
       "      <td>96105</td>\n",
       "      <td>0.416496</td>\n",
       "      <td>0.478884</td>\n",
       "      <td>181247</td>\n",
       "    </tr>\n",
       "    <tr>\n",
       "      <th>4</th>\n",
       "      <td>45-49</td>\n",
       "      <td>75484</td>\n",
       "      <td>86358</td>\n",
       "      <td>0.363177</td>\n",
       "      <td>0.423343</td>\n",
       "      <td>161842</td>\n",
       "    </tr>\n",
       "    <tr>\n",
       "      <th>5</th>\n",
       "      <td>50-54</td>\n",
       "      <td>67661</td>\n",
       "      <td>79767</td>\n",
       "      <td>0.321804</td>\n",
       "      <td>0.386564</td>\n",
       "      <td>147428</td>\n",
       "    </tr>\n",
       "    <tr>\n",
       "      <th>6</th>\n",
       "      <td>55-59</td>\n",
       "      <td>63381</td>\n",
       "      <td>74753</td>\n",
       "      <td>0.300031</td>\n",
       "      <td>0.359234</td>\n",
       "      <td>138134</td>\n",
       "    </tr>\n",
       "    <tr>\n",
       "      <th>7</th>\n",
       "      <td>60-64</td>\n",
       "      <td>52513</td>\n",
       "      <td>62617</td>\n",
       "      <td>0.247982</td>\n",
       "      <td>0.296216</td>\n",
       "      <td>115130</td>\n",
       "    </tr>\n",
       "    <tr>\n",
       "      <th>8</th>\n",
       "      <td>65-69</td>\n",
       "      <td>41653</td>\n",
       "      <td>51728</td>\n",
       "      <td>0.201217</td>\n",
       "      <td>0.244418</td>\n",
       "      <td>93381</td>\n",
       "    </tr>\n",
       "    <tr>\n",
       "      <th>9</th>\n",
       "      <td>70-74</td>\n",
       "      <td>33147</td>\n",
       "      <td>43038</td>\n",
       "      <td>0.168578</td>\n",
       "      <td>0.206870</td>\n",
       "      <td>76185</td>\n",
       "    </tr>\n",
       "    <tr>\n",
       "      <th>10</th>\n",
       "      <td>75-79</td>\n",
       "      <td>21750</td>\n",
       "      <td>29850</td>\n",
       "      <td>0.130514</td>\n",
       "      <td>0.156897</td>\n",
       "      <td>51600</td>\n",
       "    </tr>\n",
       "    <tr>\n",
       "      <th>11</th>\n",
       "      <td>80-84</td>\n",
       "      <td>15503</td>\n",
       "      <td>23336</td>\n",
       "      <td>0.112384</td>\n",
       "      <td>0.135422</td>\n",
       "      <td>38839</td>\n",
       "    </tr>\n",
       "    <tr>\n",
       "      <th>12</th>\n",
       "      <td>85-89</td>\n",
       "      <td>7484</td>\n",
       "      <td>12598</td>\n",
       "      <td>0.091850</td>\n",
       "      <td>0.104596</td>\n",
       "      <td>20082</td>\n",
       "    </tr>\n",
       "    <tr>\n",
       "      <th>13</th>\n",
       "      <td>90-94</td>\n",
       "      <td>3344</td>\n",
       "      <td>6273</td>\n",
       "      <td>0.082404</td>\n",
       "      <td>0.089007</td>\n",
       "      <td>9617</td>\n",
       "    </tr>\n",
       "    <tr>\n",
       "      <th>14</th>\n",
       "      <td>95-99</td>\n",
       "      <td>1144</td>\n",
       "      <td>2066</td>\n",
       "      <td>0.077691</td>\n",
       "      <td>0.079641</td>\n",
       "      <td>3210</td>\n",
       "    </tr>\n",
       "    <tr>\n",
       "      <th>15</th>\n",
       "      <td>100+</td>\n",
       "      <td>355</td>\n",
       "      <td>751</td>\n",
       "      <td>0.076052</td>\n",
       "      <td>0.076872</td>\n",
       "      <td>1106</td>\n",
       "    </tr>\n",
       "  </tbody>\n",
       "</table>\n",
       "</div>"
      ],
      "text/plain": [
       "    idade  masculino  feminino  norm_masc  norm_fem   total\n",
       "0   25-29      86264     96341   0.422813  0.480239  182605\n",
       "1   30-34      85871     98088   0.420598  0.490271  183959\n",
       "2   35-39      90602    101534   0.447406  0.510071  192136\n",
       "3   40-44      85142     96105   0.416496  0.478884  181247\n",
       "4   45-49      75484     86358   0.363177  0.423343  161842\n",
       "5   50-54      67661     79767   0.321804  0.386564  147428\n",
       "6   55-59      63381     74753   0.300031  0.359234  138134\n",
       "7   60-64      52513     62617   0.247982  0.296216  115130\n",
       "8   65-69      41653     51728   0.201217  0.244418   93381\n",
       "9   70-74      33147     43038   0.168578  0.206870   76185\n",
       "10  75-79      21750     29850   0.130514  0.156897   51600\n",
       "11  80-84      15503     23336   0.112384  0.135422   38839\n",
       "12  85-89       7484     12598   0.091850  0.104596   20082\n",
       "13  90-94       3344      6273   0.082404  0.089007    9617\n",
       "14  95-99       1144      2066   0.077691  0.079641    3210\n",
       "15   100+        355       751   0.076052  0.076872    1106"
      ]
     },
     "execution_count": 31,
     "metadata": {},
     "output_type": "execute_result"
    }
   ],
   "source": [
    "pir_df"
   ]
  },
  {
   "cell_type": "code",
   "execution_count": 32,
   "metadata": {},
   "outputs": [],
   "source": [
    "y_age = pir_df.idade\n",
    "x_M = pir_df.norm_masc\n",
    "x_F = pir_df.norm_fem * -1"
   ]
  },
  {
   "cell_type": "code",
   "execution_count": 33,
   "metadata": {},
   "outputs": [
    {
     "data": {
      "application/vnd.plotly.v1+json": {
       "config": {
        "plotlyServerURL": "https://plot.ly"
       },
       "data": [
        {
         "name": "Masculino",
         "orientation": "h",
         "type": "bar",
         "x": [
          0.4228125219967026,
          0.4205978340970899,
          0.4474055642525934,
          0.4164963714939313,
          0.36317730845339136,
          0.3218035537232965,
          0.3000312805211469,
          0.24798214289512482,
          0.20121733852493273,
          0.16857757456397038,
          0.1305141525177964,
          0.11238420149716633,
          0.0918495078894006,
          0.08240356852380853,
          0.07769137217646326,
          0.07605219022288891
         ],
         "y": [
          "25-29",
          "30-34",
          "35-39",
          "40-44",
          "45-49",
          "50-54",
          "55-59",
          "60-64",
          "65-69",
          "70-74",
          "75-79",
          "80-84",
          "85-89",
          "90-94",
          "95-99",
          "100+"
         ]
        },
        {
         "name": "Feminino",
         "orientation": "h",
         "type": "bar",
         "x": [
          -0.4802387811724292,
          -0.4902705653524195,
          -0.5100705202668682,
          -0.47888441872250387,
          -0.423342608297249,
          -0.38656375706673496,
          -0.3592335923411147,
          -0.2962159538004596,
          -0.24441826942586936,
          -0.20686954186254375,
          -0.15689736022309658,
          -0.13542238625650665,
          -0.10459614880966028,
          -0.08900704489835076,
          -0.07964069053606704,
          -0.07687157590763051
         ],
         "y": [
          "25-29",
          "30-34",
          "35-39",
          "40-44",
          "45-49",
          "50-54",
          "55-59",
          "60-64",
          "65-69",
          "70-74",
          "75-79",
          "80-84",
          "85-89",
          "90-94",
          "95-99",
          "100+"
         ]
        }
       ],
       "layout": {
        "bargap": 0,
        "bargroupgap": 0,
        "barmode": "relative",
        "template": {
         "data": {
          "bar": [
           {
            "error_x": {
             "color": "#2a3f5f"
            },
            "error_y": {
             "color": "#2a3f5f"
            },
            "marker": {
             "line": {
              "color": "#E5ECF6",
              "width": 0.5
             },
             "pattern": {
              "fillmode": "overlay",
              "size": 10,
              "solidity": 0.2
             }
            },
            "type": "bar"
           }
          ],
          "barpolar": [
           {
            "marker": {
             "line": {
              "color": "#E5ECF6",
              "width": 0.5
             },
             "pattern": {
              "fillmode": "overlay",
              "size": 10,
              "solidity": 0.2
             }
            },
            "type": "barpolar"
           }
          ],
          "carpet": [
           {
            "aaxis": {
             "endlinecolor": "#2a3f5f",
             "gridcolor": "white",
             "linecolor": "white",
             "minorgridcolor": "white",
             "startlinecolor": "#2a3f5f"
            },
            "baxis": {
             "endlinecolor": "#2a3f5f",
             "gridcolor": "white",
             "linecolor": "white",
             "minorgridcolor": "white",
             "startlinecolor": "#2a3f5f"
            },
            "type": "carpet"
           }
          ],
          "choropleth": [
           {
            "colorbar": {
             "outlinewidth": 0,
             "ticks": ""
            },
            "type": "choropleth"
           }
          ],
          "contour": [
           {
            "colorbar": {
             "outlinewidth": 0,
             "ticks": ""
            },
            "colorscale": [
             [
              0,
              "#0d0887"
             ],
             [
              0.1111111111111111,
              "#46039f"
             ],
             [
              0.2222222222222222,
              "#7201a8"
             ],
             [
              0.3333333333333333,
              "#9c179e"
             ],
             [
              0.4444444444444444,
              "#bd3786"
             ],
             [
              0.5555555555555556,
              "#d8576b"
             ],
             [
              0.6666666666666666,
              "#ed7953"
             ],
             [
              0.7777777777777778,
              "#fb9f3a"
             ],
             [
              0.8888888888888888,
              "#fdca26"
             ],
             [
              1,
              "#f0f921"
             ]
            ],
            "type": "contour"
           }
          ],
          "contourcarpet": [
           {
            "colorbar": {
             "outlinewidth": 0,
             "ticks": ""
            },
            "type": "contourcarpet"
           }
          ],
          "heatmap": [
           {
            "colorbar": {
             "outlinewidth": 0,
             "ticks": ""
            },
            "colorscale": [
             [
              0,
              "#0d0887"
             ],
             [
              0.1111111111111111,
              "#46039f"
             ],
             [
              0.2222222222222222,
              "#7201a8"
             ],
             [
              0.3333333333333333,
              "#9c179e"
             ],
             [
              0.4444444444444444,
              "#bd3786"
             ],
             [
              0.5555555555555556,
              "#d8576b"
             ],
             [
              0.6666666666666666,
              "#ed7953"
             ],
             [
              0.7777777777777778,
              "#fb9f3a"
             ],
             [
              0.8888888888888888,
              "#fdca26"
             ],
             [
              1,
              "#f0f921"
             ]
            ],
            "type": "heatmap"
           }
          ],
          "heatmapgl": [
           {
            "colorbar": {
             "outlinewidth": 0,
             "ticks": ""
            },
            "colorscale": [
             [
              0,
              "#0d0887"
             ],
             [
              0.1111111111111111,
              "#46039f"
             ],
             [
              0.2222222222222222,
              "#7201a8"
             ],
             [
              0.3333333333333333,
              "#9c179e"
             ],
             [
              0.4444444444444444,
              "#bd3786"
             ],
             [
              0.5555555555555556,
              "#d8576b"
             ],
             [
              0.6666666666666666,
              "#ed7953"
             ],
             [
              0.7777777777777778,
              "#fb9f3a"
             ],
             [
              0.8888888888888888,
              "#fdca26"
             ],
             [
              1,
              "#f0f921"
             ]
            ],
            "type": "heatmapgl"
           }
          ],
          "histogram": [
           {
            "marker": {
             "pattern": {
              "fillmode": "overlay",
              "size": 10,
              "solidity": 0.2
             }
            },
            "type": "histogram"
           }
          ],
          "histogram2d": [
           {
            "colorbar": {
             "outlinewidth": 0,
             "ticks": ""
            },
            "colorscale": [
             [
              0,
              "#0d0887"
             ],
             [
              0.1111111111111111,
              "#46039f"
             ],
             [
              0.2222222222222222,
              "#7201a8"
             ],
             [
              0.3333333333333333,
              "#9c179e"
             ],
             [
              0.4444444444444444,
              "#bd3786"
             ],
             [
              0.5555555555555556,
              "#d8576b"
             ],
             [
              0.6666666666666666,
              "#ed7953"
             ],
             [
              0.7777777777777778,
              "#fb9f3a"
             ],
             [
              0.8888888888888888,
              "#fdca26"
             ],
             [
              1,
              "#f0f921"
             ]
            ],
            "type": "histogram2d"
           }
          ],
          "histogram2dcontour": [
           {
            "colorbar": {
             "outlinewidth": 0,
             "ticks": ""
            },
            "colorscale": [
             [
              0,
              "#0d0887"
             ],
             [
              0.1111111111111111,
              "#46039f"
             ],
             [
              0.2222222222222222,
              "#7201a8"
             ],
             [
              0.3333333333333333,
              "#9c179e"
             ],
             [
              0.4444444444444444,
              "#bd3786"
             ],
             [
              0.5555555555555556,
              "#d8576b"
             ],
             [
              0.6666666666666666,
              "#ed7953"
             ],
             [
              0.7777777777777778,
              "#fb9f3a"
             ],
             [
              0.8888888888888888,
              "#fdca26"
             ],
             [
              1,
              "#f0f921"
             ]
            ],
            "type": "histogram2dcontour"
           }
          ],
          "mesh3d": [
           {
            "colorbar": {
             "outlinewidth": 0,
             "ticks": ""
            },
            "type": "mesh3d"
           }
          ],
          "parcoords": [
           {
            "line": {
             "colorbar": {
              "outlinewidth": 0,
              "ticks": ""
             }
            },
            "type": "parcoords"
           }
          ],
          "pie": [
           {
            "automargin": true,
            "type": "pie"
           }
          ],
          "scatter": [
           {
            "fillpattern": {
             "fillmode": "overlay",
             "size": 10,
             "solidity": 0.2
            },
            "type": "scatter"
           }
          ],
          "scatter3d": [
           {
            "line": {
             "colorbar": {
              "outlinewidth": 0,
              "ticks": ""
             }
            },
            "marker": {
             "colorbar": {
              "outlinewidth": 0,
              "ticks": ""
             }
            },
            "type": "scatter3d"
           }
          ],
          "scattercarpet": [
           {
            "marker": {
             "colorbar": {
              "outlinewidth": 0,
              "ticks": ""
             }
            },
            "type": "scattercarpet"
           }
          ],
          "scattergeo": [
           {
            "marker": {
             "colorbar": {
              "outlinewidth": 0,
              "ticks": ""
             }
            },
            "type": "scattergeo"
           }
          ],
          "scattergl": [
           {
            "marker": {
             "colorbar": {
              "outlinewidth": 0,
              "ticks": ""
             }
            },
            "type": "scattergl"
           }
          ],
          "scattermapbox": [
           {
            "marker": {
             "colorbar": {
              "outlinewidth": 0,
              "ticks": ""
             }
            },
            "type": "scattermapbox"
           }
          ],
          "scatterpolar": [
           {
            "marker": {
             "colorbar": {
              "outlinewidth": 0,
              "ticks": ""
             }
            },
            "type": "scatterpolar"
           }
          ],
          "scatterpolargl": [
           {
            "marker": {
             "colorbar": {
              "outlinewidth": 0,
              "ticks": ""
             }
            },
            "type": "scatterpolargl"
           }
          ],
          "scatterternary": [
           {
            "marker": {
             "colorbar": {
              "outlinewidth": 0,
              "ticks": ""
             }
            },
            "type": "scatterternary"
           }
          ],
          "surface": [
           {
            "colorbar": {
             "outlinewidth": 0,
             "ticks": ""
            },
            "colorscale": [
             [
              0,
              "#0d0887"
             ],
             [
              0.1111111111111111,
              "#46039f"
             ],
             [
              0.2222222222222222,
              "#7201a8"
             ],
             [
              0.3333333333333333,
              "#9c179e"
             ],
             [
              0.4444444444444444,
              "#bd3786"
             ],
             [
              0.5555555555555556,
              "#d8576b"
             ],
             [
              0.6666666666666666,
              "#ed7953"
             ],
             [
              0.7777777777777778,
              "#fb9f3a"
             ],
             [
              0.8888888888888888,
              "#fdca26"
             ],
             [
              1,
              "#f0f921"
             ]
            ],
            "type": "surface"
           }
          ],
          "table": [
           {
            "cells": {
             "fill": {
              "color": "#EBF0F8"
             },
             "line": {
              "color": "white"
             }
            },
            "header": {
             "fill": {
              "color": "#C8D4E3"
             },
             "line": {
              "color": "white"
             }
            },
            "type": "table"
           }
          ]
         },
         "layout": {
          "annotationdefaults": {
           "arrowcolor": "#2a3f5f",
           "arrowhead": 0,
           "arrowwidth": 1
          },
          "autotypenumbers": "strict",
          "coloraxis": {
           "colorbar": {
            "outlinewidth": 0,
            "ticks": ""
           }
          },
          "colorscale": {
           "diverging": [
            [
             0,
             "#8e0152"
            ],
            [
             0.1,
             "#c51b7d"
            ],
            [
             0.2,
             "#de77ae"
            ],
            [
             0.3,
             "#f1b6da"
            ],
            [
             0.4,
             "#fde0ef"
            ],
            [
             0.5,
             "#f7f7f7"
            ],
            [
             0.6,
             "#e6f5d0"
            ],
            [
             0.7,
             "#b8e186"
            ],
            [
             0.8,
             "#7fbc41"
            ],
            [
             0.9,
             "#4d9221"
            ],
            [
             1,
             "#276419"
            ]
           ],
           "sequential": [
            [
             0,
             "#0d0887"
            ],
            [
             0.1111111111111111,
             "#46039f"
            ],
            [
             0.2222222222222222,
             "#7201a8"
            ],
            [
             0.3333333333333333,
             "#9c179e"
            ],
            [
             0.4444444444444444,
             "#bd3786"
            ],
            [
             0.5555555555555556,
             "#d8576b"
            ],
            [
             0.6666666666666666,
             "#ed7953"
            ],
            [
             0.7777777777777778,
             "#fb9f3a"
            ],
            [
             0.8888888888888888,
             "#fdca26"
            ],
            [
             1,
             "#f0f921"
            ]
           ],
           "sequentialminus": [
            [
             0,
             "#0d0887"
            ],
            [
             0.1111111111111111,
             "#46039f"
            ],
            [
             0.2222222222222222,
             "#7201a8"
            ],
            [
             0.3333333333333333,
             "#9c179e"
            ],
            [
             0.4444444444444444,
             "#bd3786"
            ],
            [
             0.5555555555555556,
             "#d8576b"
            ],
            [
             0.6666666666666666,
             "#ed7953"
            ],
            [
             0.7777777777777778,
             "#fb9f3a"
            ],
            [
             0.8888888888888888,
             "#fdca26"
            ],
            [
             1,
             "#f0f921"
            ]
           ]
          },
          "colorway": [
           "#636efa",
           "#EF553B",
           "#00cc96",
           "#ab63fa",
           "#FFA15A",
           "#19d3f3",
           "#FF6692",
           "#B6E880",
           "#FF97FF",
           "#FECB52"
          ],
          "font": {
           "color": "#2a3f5f"
          },
          "geo": {
           "bgcolor": "white",
           "lakecolor": "white",
           "landcolor": "#E5ECF6",
           "showlakes": true,
           "showland": true,
           "subunitcolor": "white"
          },
          "hoverlabel": {
           "align": "left"
          },
          "hovermode": "closest",
          "mapbox": {
           "style": "light"
          },
          "paper_bgcolor": "white",
          "plot_bgcolor": "#E5ECF6",
          "polar": {
           "angularaxis": {
            "gridcolor": "white",
            "linecolor": "white",
            "ticks": ""
           },
           "bgcolor": "#E5ECF6",
           "radialaxis": {
            "gridcolor": "white",
            "linecolor": "white",
            "ticks": ""
           }
          },
          "scene": {
           "xaxis": {
            "backgroundcolor": "#E5ECF6",
            "gridcolor": "white",
            "gridwidth": 2,
            "linecolor": "white",
            "showbackground": true,
            "ticks": "",
            "zerolinecolor": "white"
           },
           "yaxis": {
            "backgroundcolor": "#E5ECF6",
            "gridcolor": "white",
            "gridwidth": 2,
            "linecolor": "white",
            "showbackground": true,
            "ticks": "",
            "zerolinecolor": "white"
           },
           "zaxis": {
            "backgroundcolor": "#E5ECF6",
            "gridcolor": "white",
            "gridwidth": 2,
            "linecolor": "white",
            "showbackground": true,
            "ticks": "",
            "zerolinecolor": "white"
           }
          },
          "shapedefaults": {
           "line": {
            "color": "#2a3f5f"
           }
          },
          "ternary": {
           "aaxis": {
            "gridcolor": "white",
            "linecolor": "white",
            "ticks": ""
           },
           "baxis": {
            "gridcolor": "white",
            "linecolor": "white",
            "ticks": ""
           },
           "bgcolor": "#E5ECF6",
           "caxis": {
            "gridcolor": "white",
            "linecolor": "white",
            "ticks": ""
           }
          },
          "title": {
           "x": 0.05
          },
          "xaxis": {
           "automargin": true,
           "gridcolor": "white",
           "linecolor": "white",
           "ticks": "",
           "title": {
            "standoff": 15
           },
           "zerolinecolor": "white",
           "zerolinewidth": 2
          },
          "yaxis": {
           "automargin": true,
           "gridcolor": "white",
           "linecolor": "white",
           "ticks": "",
           "title": {
            "standoff": 15
           },
           "zerolinecolor": "white",
           "zerolinewidth": 2
          }
         }
        },
        "title": {
         "font": {
          "size": 22
         },
         "text": "Vacinados por gênero normalizado"
        },
        "xaxis": {
         "title": {
          "font": {
           "size": 14
          },
          "text": "Vacinados em milhares de habitantes"
         }
        }
       }
      }
     },
     "metadata": {},
     "output_type": "display_data"
    }
   ],
   "source": [
    "fig = gp.Figure()\n",
    "  \n",
    "\n",
    "fig.add_trace(gp.Bar(y= y_age, x = x_M, \n",
    "                     name = 'Masculino', \n",
    "                     orientation = 'h'))\n",
    "  \n",
    "\n",
    "fig.add_trace(gp.Bar(y = y_age, x = x_F,\n",
    "                     name = 'Feminino', orientation = 'h'))\n",
    "  \n",
    "\n",
    "fig.update_layout(title = 'Vacinados por gênero normalizado',\n",
    "                 title_font_size = 22, barmode = 'relative',\n",
    "                 bargap = 0.0, bargroupgap = 0,\n",
    "                xaxis = dict(\n",
    "                              title = 'Vacinados em milhares de habitantes',\n",
    "                              title_font_size = 14)\n",
    "                 )\n",
    "  \n",
    "fig.show()"
   ]
  }
 ],
 "metadata": {
  "interpreter": {
   "hash": "4e7e4edc79d43486975e43ffb9f70caa5d73df88ab12157b795d6266fbee6759"
  },
  "kernelspec": {
   "display_name": "Python 3.9.7 ('base')",
   "language": "python",
   "name": "python3"
  },
  "language_info": {
   "codemirror_mode": {
    "name": "ipython",
    "version": 3
   },
   "file_extension": ".py",
   "mimetype": "text/x-python",
   "name": "python",
   "nbconvert_exporter": "python",
   "pygments_lexer": "ipython3",
   "version": "3.9.7"
  },
  "orig_nbformat": 4
 },
 "nbformat": 4,
 "nbformat_minor": 2
}
