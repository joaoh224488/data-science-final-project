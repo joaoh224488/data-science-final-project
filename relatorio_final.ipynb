{
 "cells": [
  {
   "cell_type": "markdown",
   "metadata": {},
   "source": [
    "## COVID-19: Paraíba 2020-2022"
   ]
  },
  {
   "cell_type": "markdown",
   "metadata": {},
   "source": [
    "### Integrantes:\n",
    "\n",
    "* [João Henrique de Araújo Pereira](https://github.com/joaoh224488)&nbsp;&nbsp;&nbsp;&nbsp;|&nbsp;&nbsp;&nbsp;Matrícula: 20210026705 \n",
    "* [Maria Raquel Souza Martinez](https://github.com/maria-raquel)&nbsp;&nbsp;&nbsp;&nbsp;&nbsp;&nbsp;&nbsp;&nbsp;&nbsp;&nbsp;&nbsp;|&nbsp;&nbsp; Matrícula: 20200025900\n",
    "* [Maxwel de Andrade Barbosa](https://github.com/maxbarbosa)&nbsp;&nbsp;&nbsp;&nbsp;&nbsp;&nbsp;&nbsp;&nbsp;&nbsp;&nbsp;&nbsp;&nbsp;|&nbsp;&nbsp; Matrícula: 20210067083\n",
    "\n",
    "\n",
    "\n",
    "<p align=\"center\"><img src=\"https://www.camara.leg.br/midias/image/2020/10/img20201022140139807-768x512.jpg\" width=\"70%\" height=\"70%\"/></p>\n",
    "\n",
    "Fonte: https://www.camara.leg.br/midias/image/2020/10/img20201022140139807-768x512.jpg"
   ]
  },
  {
   "cell_type": "markdown",
   "metadata": {},
   "source": [
    "## Introdução e objetivos"
   ]
  },
  {
   "cell_type": "markdown",
   "metadata": {},
   "source": [
    "### Objetivo geral:\n",
    "\n"
   ]
  },
  {
   "cell_type": "markdown",
   "metadata": {},
   "source": [
    "### Objetivos específicos:"
   ]
  },
  {
   "cell_type": "markdown",
   "metadata": {},
   "source": [
    "### Bibliotecas utilizadas:\n",
    "\n",
    "As bibliotecas usadas no projeto estão contidas no arquivo `requirements.txt` presente no diretório raiz [deste trabalho](https://github.com/maxbarbosa/data-science-final-project).\n",
    "\n",
    "Elas podem ser instaladas através da execução da instrução abaixo dentro do programa de linha de comando do seu sistema operacional:\n",
    "\n",
    "    pip install -r requirements.txt\n"
   ]
  },
  {
   "cell_type": "markdown",
   "metadata": {},
   "source": [
    "### Importação das bibliotecas e carregamento dos dados:"
   ]
  },
  {
   "cell_type": "code",
   "execution_count": 1,
   "metadata": {},
   "outputs": [],
   "source": [
    "import pandas as pd\n",
    "import seaborn as sns\n",
    "import numpy as np\n",
    "import plotly.express as px\n",
    "import fix_vaxs\n",
    "from matplotlib import pyplot as plt\n",
    "from scipy.stats import norm\n",
    "from sklearn.cluster import KMeans\n",
    "custom_params = {\"axes.spines.right\": False, \"axes.spines.top\": False}\n",
    "sns.set_theme(style = \"ticks\", rc = custom_params)\n",
    "\n",
    "vax_df      =  pd.read_csv(\"datasets/dados_vacinacao.csv\")\n",
    "casos_br_df =  pd.read_csv(\"datasets/dados_br.csv\")\n",
    "casos_pb_df =  pd.read_csv(\"datasets/dados_pb.csv\")"
   ]
  },
  {
   "cell_type": "markdown",
   "metadata": {},
   "source": [
    "### Dados:\n",
    "\n",
    "Para nossas análises, usaremos três datasets.\n",
    "\n",
    "O primeiro tem informações sobre todas as doses individuais de vacinas contra a covid-19 aplicadas pelo SUS no Estado da Paraíba, disponibilizado pelo Ministério da Saúde no site do [openDataSUS](https://opendatasus.saude.gov.br/dataset/covid-19-vacinacao). Cada entrada desse dataset tem informações sobre o paciente (como idade, sexo e etnia) e sobre a dose (como a fabricante e o município de aplicação). Para mais informações, temos um [dicionário](https://github.com/maxbarbosa/data-science-final-project/blob/main/datasets/dicionario-de-dados-vacinacao.pdf) neste repositório explicando todas as colunas."
   ]
  },
  {
   "cell_type": "code",
   "execution_count": 2,
   "metadata": {},
   "outputs": [
    {
     "data": {
      "text/html": [
       "<div>\n",
       "<style scoped>\n",
       "    .dataframe tbody tr th:only-of-type {\n",
       "        vertical-align: middle;\n",
       "    }\n",
       "\n",
       "    .dataframe tbody tr th {\n",
       "        vertical-align: top;\n",
       "    }\n",
       "\n",
       "    .dataframe thead th {\n",
       "        text-align: right;\n",
       "    }\n",
       "</style>\n",
       "<table border=\"1\" class=\"dataframe\">\n",
       "  <thead>\n",
       "    <tr style=\"text-align: right;\">\n",
       "      <th></th>\n",
       "      <th>paciente_idade</th>\n",
       "      <th>paciente_dataNascimento</th>\n",
       "      <th>paciente_enumSexoBiologico</th>\n",
       "      <th>paciente_racaCor_codigo</th>\n",
       "      <th>paciente_racaCor_valor</th>\n",
       "      <th>paciente_endereco_nmMunicipio</th>\n",
       "      <th>paciente_endereco_cep</th>\n",
       "      <th>estabelecimento_municipio_nome</th>\n",
       "      <th>vacina_grupoAtendimento_codigo</th>\n",
       "      <th>vacina_grupoAtendimento_nome</th>\n",
       "      <th>vacina_categoria_codigo</th>\n",
       "      <th>vacina_categoria_nome</th>\n",
       "      <th>vacina_dataAplicacao</th>\n",
       "      <th>vacina_descricao_dose</th>\n",
       "      <th>vacina_codigo</th>\n",
       "      <th>vacina_nome</th>\n",
       "      <th>paciente_id</th>\n",
       "    </tr>\n",
       "  </thead>\n",
       "  <tbody>\n",
       "    <tr>\n",
       "      <th>0</th>\n",
       "      <td>44</td>\n",
       "      <td>1977-04-18</td>\n",
       "      <td>M</td>\n",
       "      <td>1</td>\n",
       "      <td>BRANCA</td>\n",
       "      <td>ARAPIRACA</td>\n",
       "      <td>57510</td>\n",
       "      <td>PATOS</td>\n",
       "      <td>912</td>\n",
       "      <td>Médico</td>\n",
       "      <td>9</td>\n",
       "      <td>Trabalhadores de Saúde</td>\n",
       "      <td>2021-11-11</td>\n",
       "      <td>Reforço</td>\n",
       "      <td>87</td>\n",
       "      <td>COVID-19 PFIZER - COMIRNATY</td>\n",
       "      <td>f9495cb04daf5adb495d22c9c88b31883f191fb762ab27...</td>\n",
       "    </tr>\n",
       "    <tr>\n",
       "      <th>1</th>\n",
       "      <td>5</td>\n",
       "      <td>2016-11-18</td>\n",
       "      <td>M</td>\n",
       "      <td>1</td>\n",
       "      <td>BRANCA</td>\n",
       "      <td>PARELHAS</td>\n",
       "      <td>None</td>\n",
       "      <td>CAMPINA GRANDE</td>\n",
       "      <td>207</td>\n",
       "      <td>Pessoas de 5 a 11 anos</td>\n",
       "      <td>0</td>\n",
       "      <td>NaN</td>\n",
       "      <td>2022-02-07</td>\n",
       "      <td>1ª Dose</td>\n",
       "      <td>99</td>\n",
       "      <td>COVID-19 PEDIÁTRICA - PFIZER COMIRNATY</td>\n",
       "      <td>52288faace8c986872faca7101868ae8a23fefd435cd51...</td>\n",
       "    </tr>\n",
       "    <tr>\n",
       "      <th>2</th>\n",
       "      <td>39</td>\n",
       "      <td>1982-01-23</td>\n",
       "      <td>F</td>\n",
       "      <td>99</td>\n",
       "      <td>SEM INFORMACAO</td>\n",
       "      <td>CAMPINA GRANDE</td>\n",
       "      <td>58410</td>\n",
       "      <td>CAMPINA GRANDE</td>\n",
       "      <td>201</td>\n",
       "      <td>Pessoas de 18 a 64 anos</td>\n",
       "      <td>2</td>\n",
       "      <td>Faixa Etária</td>\n",
       "      <td>2021-07-16</td>\n",
       "      <td>1ª Dose</td>\n",
       "      <td>85</td>\n",
       "      <td>COVID-19 ASTRAZENECA/FIOCRUZ - COVISHIELD</td>\n",
       "      <td>0ffaed327aac7fe8abf0b35471b0b1fa60f9fc48ff7d9c...</td>\n",
       "    </tr>\n",
       "  </tbody>\n",
       "</table>\n",
       "</div>"
      ],
      "text/plain": [
       "   paciente_idade paciente_dataNascimento paciente_enumSexoBiologico  \\\n",
       "0              44              1977-04-18                          M   \n",
       "1               5              2016-11-18                          M   \n",
       "2              39              1982-01-23                          F   \n",
       "\n",
       "   paciente_racaCor_codigo paciente_racaCor_valor  \\\n",
       "0                        1                 BRANCA   \n",
       "1                        1                 BRANCA   \n",
       "2                       99         SEM INFORMACAO   \n",
       "\n",
       "  paciente_endereco_nmMunicipio paciente_endereco_cep  \\\n",
       "0                     ARAPIRACA                 57510   \n",
       "1                      PARELHAS                  None   \n",
       "2                CAMPINA GRANDE                 58410   \n",
       "\n",
       "  estabelecimento_municipio_nome  vacina_grupoAtendimento_codigo  \\\n",
       "0                          PATOS                             912   \n",
       "1                 CAMPINA GRANDE                             207   \n",
       "2                 CAMPINA GRANDE                             201   \n",
       "\n",
       "  vacina_grupoAtendimento_nome  vacina_categoria_codigo  \\\n",
       "0                       Médico                        9   \n",
       "1       Pessoas de 5 a 11 anos                        0   \n",
       "2      Pessoas de 18 a 64 anos                        2   \n",
       "\n",
       "    vacina_categoria_nome vacina_dataAplicacao vacina_descricao_dose  \\\n",
       "0  Trabalhadores de Saúde           2021-11-11               Reforço   \n",
       "1                     NaN           2022-02-07               1ª Dose   \n",
       "2            Faixa Etária           2021-07-16               1ª Dose   \n",
       "\n",
       "   vacina_codigo                                vacina_nome  \\\n",
       "0             87                COVID-19 PFIZER - COMIRNATY   \n",
       "1             99     COVID-19 PEDIÁTRICA - PFIZER COMIRNATY   \n",
       "2             85  COVID-19 ASTRAZENECA/FIOCRUZ - COVISHIELD   \n",
       "\n",
       "                                         paciente_id  \n",
       "0  f9495cb04daf5adb495d22c9c88b31883f191fb762ab27...  \n",
       "1  52288faace8c986872faca7101868ae8a23fefd435cd51...  \n",
       "2  0ffaed327aac7fe8abf0b35471b0b1fa60f9fc48ff7d9c...  "
      ]
     },
     "execution_count": 2,
     "metadata": {},
     "output_type": "execute_result"
    }
   ],
   "source": [
    "vax_df.head(3)"
   ]
  },
  {
   "cell_type": "markdown",
   "metadata": {},
   "source": [
    "\n",
    "O segundo dataset que usaremos tem informações sobre a pandemia da COVID-19 em todos os municípios da Paraíba. Cada linha representa um município paraibano e cada coluna tem informações sobre a pandemia neste município. Elas são:\n",
    "\n",
    "* city (nome do município)\n",
    "* confirmed (quantidade bruta de casos confirmados)\n",
    "* deaths (quantidade bruta de mortes pela COVID-19)\n",
    "* estimated_population (população estimada do município)\n",
    "* confirmed_per_100k_inhabitants (casos confirmados a cada 100 mil habitantes)\n",
    "* death_rate (taxa de mortalidade, razão entre as quantidades brutas de casos e de mortes)\n",
    "\n",
    "Esse dataset foi encontrado no site [Brasil IO](https://brasil.io/covid19/PB/), um blog de programadores voluntários que coletavam e organizavam os dados da COVID-19 de cada Secretária Estadual de Saúde e compilavam em uma base de dados única e de fácil acesso. No entanto, esse dataset parou de ser atualizado, e os dados mais recentes da pandemia na Paraíba são do dia 22/08/21."
   ]
  },
  {
   "cell_type": "code",
   "execution_count": 3,
   "metadata": {},
   "outputs": [
    {
     "data": {
      "text/html": [
       "<div>\n",
       "<style scoped>\n",
       "    .dataframe tbody tr th:only-of-type {\n",
       "        vertical-align: middle;\n",
       "    }\n",
       "\n",
       "    .dataframe tbody tr th {\n",
       "        vertical-align: top;\n",
       "    }\n",
       "\n",
       "    .dataframe thead th {\n",
       "        text-align: right;\n",
       "    }\n",
       "</style>\n",
       "<table border=\"1\" class=\"dataframe\">\n",
       "  <thead>\n",
       "    <tr style=\"text-align: right;\">\n",
       "      <th></th>\n",
       "      <th>date</th>\n",
       "      <th>city</th>\n",
       "      <th>confirmed</th>\n",
       "      <th>deaths</th>\n",
       "      <th>estimated_population</th>\n",
       "      <th>confirmed_per_100k_inhabitants</th>\n",
       "      <th>death_rate</th>\n",
       "      <th>pib_per_capita</th>\n",
       "      <th>n_vaccinations</th>\n",
       "      <th>demographic_density</th>\n",
       "      <th>vaccinated</th>\n",
       "      <th>vaccinated_per_100k_inhabitants</th>\n",
       "      <th>city_area</th>\n",
       "    </tr>\n",
       "  </thead>\n",
       "  <tbody>\n",
       "    <tr>\n",
       "      <th>0</th>\n",
       "      <td>2021-08-22</td>\n",
       "      <td>AGUA BRANCA</td>\n",
       "      <td>1129</td>\n",
       "      <td>14</td>\n",
       "      <td>10306</td>\n",
       "      <td>10954.7836</td>\n",
       "      <td>0.0124</td>\n",
       "      <td>8074.16</td>\n",
       "      <td>6754</td>\n",
       "      <td>42.65</td>\n",
       "      <td>5173</td>\n",
       "      <td>50194.061712</td>\n",
       "      <td>241.66</td>\n",
       "    </tr>\n",
       "    <tr>\n",
       "      <th>1</th>\n",
       "      <td>2021-08-22</td>\n",
       "      <td>AGUIAR</td>\n",
       "      <td>528</td>\n",
       "      <td>5</td>\n",
       "      <td>5630</td>\n",
       "      <td>9378.3304</td>\n",
       "      <td>0.0095</td>\n",
       "      <td>8897.54</td>\n",
       "      <td>3790</td>\n",
       "      <td>16.01</td>\n",
       "      <td>2903</td>\n",
       "      <td>51563.055062</td>\n",
       "      <td>351.61</td>\n",
       "    </tr>\n",
       "    <tr>\n",
       "      <th>2</th>\n",
       "      <td>2021-08-22</td>\n",
       "      <td>ALAGOA GRANDE</td>\n",
       "      <td>4119</td>\n",
       "      <td>72</td>\n",
       "      <td>28439</td>\n",
       "      <td>14483.6316</td>\n",
       "      <td>0.0175</td>\n",
       "      <td>9699.38</td>\n",
       "      <td>21931</td>\n",
       "      <td>88.30</td>\n",
       "      <td>16318</td>\n",
       "      <td>57378.951440</td>\n",
       "      <td>322.07</td>\n",
       "    </tr>\n",
       "  </tbody>\n",
       "</table>\n",
       "</div>"
      ],
      "text/plain": [
       "         date           city  confirmed  deaths  estimated_population  \\\n",
       "0  2021-08-22    AGUA BRANCA       1129      14                 10306   \n",
       "1  2021-08-22         AGUIAR        528       5                  5630   \n",
       "2  2021-08-22  ALAGOA GRANDE       4119      72                 28439   \n",
       "\n",
       "   confirmed_per_100k_inhabitants  death_rate  pib_per_capita  n_vaccinations  \\\n",
       "0                      10954.7836      0.0124         8074.16            6754   \n",
       "1                       9378.3304      0.0095         8897.54            3790   \n",
       "2                      14483.6316      0.0175         9699.38           21931   \n",
       "\n",
       "   demographic_density  vaccinated  vaccinated_per_100k_inhabitants  city_area  \n",
       "0                42.65        5173                     50194.061712     241.66  \n",
       "1                16.01        2903                     51563.055062     351.61  \n",
       "2                88.30       16318                     57378.951440     322.07  "
      ]
     },
     "execution_count": 3,
     "metadata": {},
     "output_type": "execute_result"
    }
   ],
   "source": [
    "casos_pb_df.head(3)"
   ]
  },
  {
   "cell_type": "markdown",
   "metadata": {},
   "source": [
    "Por fim, o terceiro dataset que usaremos é semelhante ao segundo, encontrado também no Brasil IO, porém ele inclui todos os municípios brasileiros, ao contrário de só os paraibanos. Ele será usado para fins de comparação entre o cenário da pandemia na Paraíba e o cenário nacional."
   ]
  },
  {
   "cell_type": "code",
   "execution_count": 4,
   "metadata": {},
   "outputs": [
    {
     "data": {
      "text/html": [
       "<div>\n",
       "<style scoped>\n",
       "    .dataframe tbody tr th:only-of-type {\n",
       "        vertical-align: middle;\n",
       "    }\n",
       "\n",
       "    .dataframe tbody tr th {\n",
       "        vertical-align: top;\n",
       "    }\n",
       "\n",
       "    .dataframe thead th {\n",
       "        text-align: right;\n",
       "    }\n",
       "</style>\n",
       "<table border=\"1\" class=\"dataframe\">\n",
       "  <thead>\n",
       "    <tr style=\"text-align: right;\">\n",
       "      <th></th>\n",
       "      <th>date</th>\n",
       "      <th>state</th>\n",
       "      <th>city</th>\n",
       "      <th>place_type</th>\n",
       "      <th>confirmed</th>\n",
       "      <th>confirmed_per_100k_inhabitants</th>\n",
       "      <th>deaths</th>\n",
       "      <th>death_rate</th>\n",
       "      <th>estimated_population</th>\n",
       "    </tr>\n",
       "  </thead>\n",
       "  <tbody>\n",
       "    <tr>\n",
       "      <th>0</th>\n",
       "      <td>2021-08-22</td>\n",
       "      <td>AC</td>\n",
       "      <td>Acrelândia</td>\n",
       "      <td>city</td>\n",
       "      <td>1792</td>\n",
       "      <td>11568.7540</td>\n",
       "      <td>37</td>\n",
       "      <td>0.0206</td>\n",
       "      <td>15490</td>\n",
       "    </tr>\n",
       "    <tr>\n",
       "      <th>1</th>\n",
       "      <td>2021-08-22</td>\n",
       "      <td>AC</td>\n",
       "      <td>Assis Brasil</td>\n",
       "      <td>city</td>\n",
       "      <td>1815</td>\n",
       "      <td>24090.7884</td>\n",
       "      <td>24</td>\n",
       "      <td>0.0132</td>\n",
       "      <td>7534</td>\n",
       "    </tr>\n",
       "    <tr>\n",
       "      <th>2</th>\n",
       "      <td>2021-08-22</td>\n",
       "      <td>AC</td>\n",
       "      <td>Brasiléia</td>\n",
       "      <td>city</td>\n",
       "      <td>2980</td>\n",
       "      <td>11160.2127</td>\n",
       "      <td>43</td>\n",
       "      <td>0.0144</td>\n",
       "      <td>26702</td>\n",
       "    </tr>\n",
       "  </tbody>\n",
       "</table>\n",
       "</div>"
      ],
      "text/plain": [
       "         date state          city place_type  confirmed  \\\n",
       "0  2021-08-22    AC    Acrelândia       city       1792   \n",
       "1  2021-08-22    AC  Assis Brasil       city       1815   \n",
       "2  2021-08-22    AC     Brasiléia       city       2980   \n",
       "\n",
       "   confirmed_per_100k_inhabitants  deaths  death_rate  estimated_population  \n",
       "0                      11568.7540      37      0.0206                 15490  \n",
       "1                      24090.7884      24      0.0132                  7534  \n",
       "2                      11160.2127      43      0.0144                 26702  "
      ]
     },
     "execution_count": 4,
     "metadata": {},
     "output_type": "execute_result"
    }
   ],
   "source": [
    "casos_br_df.head(3)"
   ]
  },
  {
   "cell_type": "markdown",
   "metadata": {},
   "source": [
    "## Pré-processamento"
   ]
  },
  {
   "cell_type": "markdown",
   "metadata": {},
   "source": [
    "O dataset disponibilizado pelo Open Data SUS possui algumas células com vírgulas a mais, que ocasionam um erro de leitura do arquivo csv no Python. Fizemos uma correção através de um processo pseudo-manual, cujo passo a passo está detalhado [nesse arquivo](https://github.com/maxbarbosa/data-science-final-project/tree/main/datasets#readme) do repositório.\n"
   ]
  },
  {
   "cell_type": "markdown",
   "metadata": {},
   "source": [
    "O dataset original possui 2.806.755 linhas e 32 colunas. Dessas colunas, removemos 15 que não serão utilizadas nessa análise, através do código explicitado abaixo:\n",
    "\n",
    "```python\n",
    "import pandas as pd\n",
    "df = pd.read_csv('dados_vacinacao.csv')\n",
    "\n",
    "df = df.drop(\n",
    "        ['document_id',  \n",
    "        'paciente_endereco_coIbgeMunicipio', \n",
    "        'paciente_endereco_coPais',\n",
    "        'paciente_endereco_nmPais',\n",
    "        'paciente_endereco_uf', \n",
    "        'paciente_nacionalidade_enumNacionalidade', \n",
    "        'estabelecimento_valor',\n",
    "        'estabelecimento_razaoSocial', \n",
    "        'estalecimento_noFantasia',\n",
    "        'estabelecimento_municipio_codigo', \n",
    "        'estabelecimento_uf', \n",
    "        'vacina_fabricante_nome',\n",
    "        'vacina_fabricante_referencia', \n",
    "        'sistema_origem'], \n",
    "\taxis= 1\n",
    ")\n",
    "\n",
    "df = df.iloc[: , [1,2,3,4,5,6,7,8,9,10,11,12,13,14,15,16, 0]]\n",
    "\n",
    "df.to_csv(\"dados_vacinacao.csv\", index = False)\n",
    "```\n"
   ]
  },
  {
   "cell_type": "markdown",
   "metadata": {},
   "source": [
    "Feito isso, algumas colunas do novo dataset gerado foram criadas com o tipo _float_, porém elas seriam melhor representadas pelo tipo _int_. Para realizar a conversão de tipo, o seguinte trecho de código foi executado:\n",
    "\n",
    "```python\n",
    "df.paciente_idade = df.paciente_idade.fillna(0)\n",
    "df.paciente_racaCor_codigo = df.paciente_racaCor_codigo.fillna(0)\n",
    "df.vacina_grupoAtendimento_codigo = df.vacina_grupoAtendimento_codigo.fillna(0)\n",
    "df.vacina_categoria_codigo = df.vacina_categoria_codigo.fillna(0)\n",
    "df.vacina_codigo = df.vacina_codigo.fillna(0)\n",
    "\n",
    "df = df.astype({\n",
    "    \"paciente_idade\":int,\n",
    "    \"paciente_racaCor_codigo\":int,\n",
    "    \"vacina_grupoAtendimento_codigo\":int,\n",
    "    \"vacina_categoria_codigo\": int,\n",
    "    \"vacina_codigo\": int\n",
    "    })\n",
    "\n",
    "df.to_csv(\"dados_vacinacao.csv\", index = False)\n",
    "```"
   ]
  },
  {
   "cell_type": "markdown",
   "metadata": {},
   "source": [
    "## Limpeza dos dados"
   ]
  },
  {
   "cell_type": "markdown",
   "metadata": {},
   "source": [
    "Durante a exploração inicial do dataset vax_df, encontramos vários dados irregulares nas colunas de idades, fabricantes das doses, descrição das doses e data de aplicação. Descreveremos agora o processo para limpá-los."
   ]
  },
  {
   "cell_type": "markdown",
   "metadata": {},
   "source": [
    "### Quanto às idades\n",
    "\n",
    "Encontramos valores negativos na coluna que armazena a idade dos pacientes. Também encontramos valores de idade que ultrapassam 110, alguns chegam a 121 anos.\n",
    "\n",
    "Considerando que o Ministério da Saúde inclui apenas crianças com 5 anos ou mais no [Plano Nacional de Operacionalização da Vacinação contra a Covid-19](https://www.gov.br/saude/pt-br/coronavirus/publicacoes-tecnicas/guias-e-planos/13a-edicao-pno-23-05-2022-1.pdf/), e considerando também que o detentor atual do [recorde Guinness de homem vivo mais velho do mundo tem 112 anos ](https://www.guinnessworldrecords.com/news/2022/5/worlds-oldest-man-living-confirmed-as-juan-vicente-perez-aged-112-697844), consideraremos idades abaixo de 5 e acima de 110 como erros de entrada e as deletaremos."
   ]
  },
  {
   "cell_type": "code",
   "execution_count": 5,
   "metadata": {},
   "outputs": [
    {
     "data": {
      "text/plain": [
       "81"
      ]
     },
     "execution_count": 5,
     "metadata": {},
     "output_type": "execute_result"
    }
   ],
   "source": [
    "vax_df[vax_df.paciente_idade < 5]['paciente_idade'].count()"
   ]
  },
  {
   "cell_type": "code",
   "execution_count": 6,
   "metadata": {},
   "outputs": [
    {
     "data": {
      "text/plain": [
       "69"
      ]
     },
     "execution_count": 6,
     "metadata": {},
     "output_type": "execute_result"
    }
   ],
   "source": [
    "vax_df[vax_df.paciente_idade > 110]['paciente_idade'].count()"
   ]
  },
  {
   "cell_type": "code",
   "execution_count": 7,
   "metadata": {},
   "outputs": [],
   "source": [
    "vax_df = vax_df[vax_df.paciente_idade >= 5]\n",
    "vax_df = vax_df[vax_df.paciente_idade <= 110]"
   ]
  },
  {
   "cell_type": "markdown",
   "metadata": {},
   "source": [
    "### Quanto aos fabricantes das vacinas\n",
    "\n",
    "Verificamos a presença de duplicidade para o nome do fabricante das vacinas, a exemplo de \"_COVID-19 SINOVAC/BUTANTAN - CORONAVAC_\" e \"_COVID-19 SINOVAC - CORONAVAC_\", que implicam o mesmo produto, porém estão tipadas com nomes diferentes. "
   ]
  },
  {
   "cell_type": "code",
   "execution_count": 8,
   "metadata": {},
   "outputs": [
    {
     "data": {
      "text/html": [
       "<div>\n",
       "<style scoped>\n",
       "    .dataframe tbody tr th:only-of-type {\n",
       "        vertical-align: middle;\n",
       "    }\n",
       "\n",
       "    .dataframe tbody tr th {\n",
       "        vertical-align: top;\n",
       "    }\n",
       "\n",
       "    .dataframe thead th {\n",
       "        text-align: right;\n",
       "    }\n",
       "</style>\n",
       "<table border=\"1\" class=\"dataframe\">\n",
       "  <thead>\n",
       "    <tr style=\"text-align: right;\">\n",
       "      <th></th>\n",
       "      <th>vacina_nome</th>\n",
       "    </tr>\n",
       "  </thead>\n",
       "  <tbody>\n",
       "    <tr>\n",
       "      <th>0</th>\n",
       "      <td>COVID-19 ASTRAZENECA - ChAdOx1-S</td>\n",
       "    </tr>\n",
       "    <tr>\n",
       "      <th>1</th>\n",
       "      <td>COVID-19 ASTRAZENECA/FIOCRUZ - COVISHIELD</td>\n",
       "    </tr>\n",
       "    <tr>\n",
       "      <th>2</th>\n",
       "      <td>COVID-19 JANSSEN - Ad26.COV2.S</td>\n",
       "    </tr>\n",
       "    <tr>\n",
       "      <th>3</th>\n",
       "      <td>COVID-19 PEDIÁTRICA - PFIZER COMIRNATY</td>\n",
       "    </tr>\n",
       "    <tr>\n",
       "      <th>4</th>\n",
       "      <td>COVID-19 PFIZER - COMIRNATY</td>\n",
       "    </tr>\n",
       "    <tr>\n",
       "      <th>5</th>\n",
       "      <td>COVID-19 SINOVAC - CORONAVAC</td>\n",
       "    </tr>\n",
       "    <tr>\n",
       "      <th>6</th>\n",
       "      <td>COVID-19 SINOVAC/BUTANTAN - CORONAVAC</td>\n",
       "    </tr>\n",
       "  </tbody>\n",
       "</table>\n",
       "</div>"
      ],
      "text/plain": [
       "                                 vacina_nome\n",
       "0           COVID-19 ASTRAZENECA - ChAdOx1-S\n",
       "1  COVID-19 ASTRAZENECA/FIOCRUZ - COVISHIELD\n",
       "2             COVID-19 JANSSEN - Ad26.COV2.S\n",
       "3     COVID-19 PEDIÁTRICA - PFIZER COMIRNATY\n",
       "4                COVID-19 PFIZER - COMIRNATY\n",
       "5               COVID-19 SINOVAC - CORONAVAC\n",
       "6      COVID-19 SINOVAC/BUTANTAN - CORONAVAC"
      ]
     },
     "execution_count": 8,
     "metadata": {},
     "output_type": "execute_result"
    }
   ],
   "source": [
    "vax_names = pd.DataFrame({\"vacina_nome\": vax_df.vacina_nome.sort_values().unique()})\n",
    "vax_names"
   ]
  },
  {
   "cell_type": "markdown",
   "metadata": {},
   "source": [
    "Removeremos a duplicação do nome das vacinas, através da uma função rename_vax, escrita no arquivo fix_vax.py"
   ]
  },
  {
   "cell_type": "code",
   "execution_count": 9,
   "metadata": {},
   "outputs": [],
   "source": [
    "fix_vaxs.rename_vax(vax_df)\n",
    "fix_vaxs.update_vax_code(vax_df)"
   ]
  },
  {
   "cell_type": "code",
   "execution_count": 10,
   "metadata": {},
   "outputs": [
    {
     "data": {
      "text/html": [
       "<div>\n",
       "<style scoped>\n",
       "    .dataframe tbody tr th:only-of-type {\n",
       "        vertical-align: middle;\n",
       "    }\n",
       "\n",
       "    .dataframe tbody tr th {\n",
       "        vertical-align: top;\n",
       "    }\n",
       "\n",
       "    .dataframe thead th {\n",
       "        text-align: right;\n",
       "    }\n",
       "</style>\n",
       "<table border=\"1\" class=\"dataframe\">\n",
       "  <thead>\n",
       "    <tr style=\"text-align: right;\">\n",
       "      <th></th>\n",
       "      <th>vacina_nome</th>\n",
       "    </tr>\n",
       "  </thead>\n",
       "  <tbody>\n",
       "    <tr>\n",
       "      <th>0</th>\n",
       "      <td>ASTRAZENECA</td>\n",
       "    </tr>\n",
       "    <tr>\n",
       "      <th>1</th>\n",
       "      <td>CORONAVAC</td>\n",
       "    </tr>\n",
       "    <tr>\n",
       "      <th>2</th>\n",
       "      <td>JANSEN</td>\n",
       "    </tr>\n",
       "    <tr>\n",
       "      <th>3</th>\n",
       "      <td>PFIZER</td>\n",
       "    </tr>\n",
       "    <tr>\n",
       "      <th>4</th>\n",
       "      <td>PFIZER PEDIÁTRICA</td>\n",
       "    </tr>\n",
       "  </tbody>\n",
       "</table>\n",
       "</div>"
      ],
      "text/plain": [
       "         vacina_nome\n",
       "0        ASTRAZENECA\n",
       "1          CORONAVAC\n",
       "2             JANSEN\n",
       "3             PFIZER\n",
       "4  PFIZER PEDIÁTRICA"
      ]
     },
     "execution_count": 10,
     "metadata": {},
     "output_type": "execute_result"
    }
   ],
   "source": [
    "vax_names = pd.DataFrame({\"vacina_nome\": vax_df.vacina_nome.sort_values().unique()})\n",
    "vax_names"
   ]
  },
  {
   "cell_type": "markdown",
   "metadata": {},
   "source": [
    "### Quanto às descrições das doses\n",
    "\n",
    "Ainda na exploração inicial, notamos a presença de redundâncias para a descrição das doses aplicadas, a exemplo de 'Dose Inicial' e '1ª Dose' que implicam o mesmo sentido, porém estão tipadas com nomes diferentes."
   ]
  },
  {
   "cell_type": "code",
   "execution_count": 11,
   "metadata": {},
   "outputs": [
    {
     "data": {
      "text/html": [
       "<div>\n",
       "<style scoped>\n",
       "    .dataframe tbody tr th:only-of-type {\n",
       "        vertical-align: middle;\n",
       "    }\n",
       "\n",
       "    .dataframe tbody tr th {\n",
       "        vertical-align: top;\n",
       "    }\n",
       "\n",
       "    .dataframe thead th {\n",
       "        text-align: right;\n",
       "    }\n",
       "</style>\n",
       "<table border=\"1\" class=\"dataframe\">\n",
       "  <thead>\n",
       "    <tr style=\"text-align: right;\">\n",
       "      <th></th>\n",
       "      <th>vacina_descricao_dose</th>\n",
       "    </tr>\n",
       "  </thead>\n",
       "  <tbody>\n",
       "    <tr>\n",
       "      <th>0</th>\n",
       "      <td>1ª Dose</td>\n",
       "    </tr>\n",
       "    <tr>\n",
       "      <th>1</th>\n",
       "      <td>2ª Dose</td>\n",
       "    </tr>\n",
       "    <tr>\n",
       "      <th>2</th>\n",
       "      <td>2ª Dose Revacinação</td>\n",
       "    </tr>\n",
       "    <tr>\n",
       "      <th>3</th>\n",
       "      <td>2º Reforço</td>\n",
       "    </tr>\n",
       "    <tr>\n",
       "      <th>4</th>\n",
       "      <td>3ª Dose</td>\n",
       "    </tr>\n",
       "    <tr>\n",
       "      <th>5</th>\n",
       "      <td>4ª Dose</td>\n",
       "    </tr>\n",
       "    <tr>\n",
       "      <th>6</th>\n",
       "      <td>Dose</td>\n",
       "    </tr>\n",
       "    <tr>\n",
       "      <th>7</th>\n",
       "      <td>Dose Adicional</td>\n",
       "    </tr>\n",
       "    <tr>\n",
       "      <th>8</th>\n",
       "      <td>Dose Inicial</td>\n",
       "    </tr>\n",
       "    <tr>\n",
       "      <th>9</th>\n",
       "      <td>Reforço</td>\n",
       "    </tr>\n",
       "    <tr>\n",
       "      <th>10</th>\n",
       "      <td>Única</td>\n",
       "    </tr>\n",
       "  </tbody>\n",
       "</table>\n",
       "</div>"
      ],
      "text/plain": [
       "   vacina_descricao_dose\n",
       "0                1ª Dose\n",
       "1                2ª Dose\n",
       "2    2ª Dose Revacinação\n",
       "3             2º Reforço\n",
       "4                3ª Dose\n",
       "5                4ª Dose\n",
       "6                   Dose\n",
       "7         Dose Adicional\n",
       "8           Dose Inicial\n",
       "9                Reforço\n",
       "10                 Única"
      ]
     },
     "execution_count": 11,
     "metadata": {},
     "output_type": "execute_result"
    }
   ],
   "source": [
    "vax_dose = pd.DataFrame({\"vacina_descricao_dose\": vax_df.vacina_descricao_dose.sort_values().unique()})\n",
    "vax_dose"
   ]
  },
  {
   "cell_type": "markdown",
   "metadata": {},
   "source": [
    "Removendo a duplicação da descrição das doses aplicadas, através da função rename_doses."
   ]
  },
  {
   "cell_type": "code",
   "execution_count": 12,
   "metadata": {},
   "outputs": [],
   "source": [
    "fix_vaxs.rename_doses(vax_df)"
   ]
  },
  {
   "cell_type": "code",
   "execution_count": 13,
   "metadata": {},
   "outputs": [
    {
     "data": {
      "text/html": [
       "<div>\n",
       "<style scoped>\n",
       "    .dataframe tbody tr th:only-of-type {\n",
       "        vertical-align: middle;\n",
       "    }\n",
       "\n",
       "    .dataframe tbody tr th {\n",
       "        vertical-align: top;\n",
       "    }\n",
       "\n",
       "    .dataframe thead th {\n",
       "        text-align: right;\n",
       "    }\n",
       "</style>\n",
       "<table border=\"1\" class=\"dataframe\">\n",
       "  <thead>\n",
       "    <tr style=\"text-align: right;\">\n",
       "      <th></th>\n",
       "      <th>vacina_descricao_dose</th>\n",
       "    </tr>\n",
       "  </thead>\n",
       "  <tbody>\n",
       "    <tr>\n",
       "      <th>0</th>\n",
       "      <td>1ª Dose</td>\n",
       "    </tr>\n",
       "    <tr>\n",
       "      <th>1</th>\n",
       "      <td>2ª Dose</td>\n",
       "    </tr>\n",
       "    <tr>\n",
       "      <th>2</th>\n",
       "      <td>2º Reforço</td>\n",
       "    </tr>\n",
       "    <tr>\n",
       "      <th>3</th>\n",
       "      <td>Dose única</td>\n",
       "    </tr>\n",
       "    <tr>\n",
       "      <th>4</th>\n",
       "      <td>Reforço</td>\n",
       "    </tr>\n",
       "  </tbody>\n",
       "</table>\n",
       "</div>"
      ],
      "text/plain": [
       "  vacina_descricao_dose\n",
       "0               1ª Dose\n",
       "1               2ª Dose\n",
       "2            2º Reforço\n",
       "3            Dose única\n",
       "4               Reforço"
      ]
     },
     "execution_count": 13,
     "metadata": {},
     "output_type": "execute_result"
    }
   ],
   "source": [
    "vax_dose = pd.DataFrame({\"vacina_descricao_dose\": vax_df.vacina_descricao_dose.sort_values().unique()})\n",
    "vax_dose"
   ]
  },
  {
   "cell_type": "markdown",
   "metadata": {},
   "source": [
    "### Quanto à data de aplicação\n",
    "\n",
    "Por fim, uma última irregularidade que encontramos foi na coluna que armazena a data na qual o paciente foi vacinado, onde consta alguns pacientes vacinados antes da primeira dose de vacina ser aplicada no Brasil, [no dia 17 de janeiro de 2021.](https://g1.globo.com/sp/sao-paulo/noticia/2022/01/17/ha-um-ano-sp-vacinava-1a-pessoa-contra-covid-no-brasil-veja-o-que-mudou-e-projecoes-para-o-futuro.ghtml)"
   ]
  },
  {
   "cell_type": "code",
   "execution_count": 14,
   "metadata": {},
   "outputs": [],
   "source": [
    "vax_df.vacina_dataAplicacao = pd.to_datetime(vax_df.vacina_dataAplicacao)"
   ]
  },
  {
   "cell_type": "code",
   "execution_count": 15,
   "metadata": {},
   "outputs": [
    {
     "data": {
      "text/plain": [
       "35"
      ]
     },
     "execution_count": 15,
     "metadata": {},
     "output_type": "execute_result"
    }
   ],
   "source": [
    "vax_df.loc[vax_df.vacina_dataAplicacao < pd.Timestamp(2021, 1, 17)]['vacina_dataAplicacao'].count()"
   ]
  },
  {
   "cell_type": "code",
   "execution_count": 16,
   "metadata": {},
   "outputs": [],
   "source": [
    "dates_to_drop = vax_df.loc[(vax_df.vacina_dataAplicacao < pd.Timestamp(2021, 1, 17))]\n",
    "vax_df.drop(dates_to_drop.index, inplace = True)"
   ]
  },
  {
   "cell_type": "markdown",
   "metadata": {},
   "source": [
    "## Adição de dados\n",
    "\n",
    "Neste estudo, queremos analisar os dados da COVID-19 em cada município da Paraíba, relacionando-os a dados geoeconômicos de população, densidade demográfica e PIB.\n",
    "\n",
    "Para isso, encontramos no IGBE [dados do PIB per capita](https://www.ibge.gov.br/estatisticas/economicas/contas-nacionais/9088-produto-interno-bruto-dos-municipios.html?=&t=resultados) de cada município e os adicionamos em uma coluna do dataset casos_pb_df, em um processo detalhado no notebook [creating_general_df](https://github.com/maxbarbosa/data-science-final-project/blob/main/creating_general_df.ipynb).\n",
    "\n",
    "O dataset que usamos já possui dados da população estimada de cada munícipio para 2020, já que os dados populacionais mais atuais que temos são do último censo, de 2010. Para calcular a densidade demográfica estimada, dividimos a população estimada pela [área territorial total de cada município](https://censo2010.ibge.gov.br/sinopse/index.php?dados=21&uf=25), e também a adicionamos em uma coluna do dataset."
   ]
  },
  {
   "cell_type": "code",
   "execution_count": 34,
   "metadata": {},
   "outputs": [
    {
     "data": {
      "text/html": [
       "<div>\n",
       "<style scoped>\n",
       "    .dataframe tbody tr th:only-of-type {\n",
       "        vertical-align: middle;\n",
       "    }\n",
       "\n",
       "    .dataframe tbody tr th {\n",
       "        vertical-align: top;\n",
       "    }\n",
       "\n",
       "    .dataframe thead th {\n",
       "        text-align: right;\n",
       "    }\n",
       "</style>\n",
       "<table border=\"1\" class=\"dataframe\">\n",
       "  <thead>\n",
       "    <tr style=\"text-align: right;\">\n",
       "      <th></th>\n",
       "      <th>date</th>\n",
       "      <th>city</th>\n",
       "      <th>confirmed</th>\n",
       "      <th>deaths</th>\n",
       "      <th>estimated_population</th>\n",
       "      <th>confirmed_per_100k_inhabitants</th>\n",
       "      <th>death_rate</th>\n",
       "      <th>pib_per_capita</th>\n",
       "      <th>n_vaccinations</th>\n",
       "      <th>demographic_density</th>\n",
       "      <th>vaccinated</th>\n",
       "      <th>vaccinated_per_100k_inhabitants</th>\n",
       "      <th>city_area</th>\n",
       "    </tr>\n",
       "  </thead>\n",
       "  <tbody>\n",
       "    <tr>\n",
       "      <th>0</th>\n",
       "      <td>2021-08-22</td>\n",
       "      <td>AGUA BRANCA</td>\n",
       "      <td>1129</td>\n",
       "      <td>14</td>\n",
       "      <td>10306</td>\n",
       "      <td>10954.7836</td>\n",
       "      <td>0.0124</td>\n",
       "      <td>8074.16</td>\n",
       "      <td>6754</td>\n",
       "      <td>42.65</td>\n",
       "      <td>5173</td>\n",
       "      <td>50194.061712</td>\n",
       "      <td>241.66</td>\n",
       "    </tr>\n",
       "    <tr>\n",
       "      <th>1</th>\n",
       "      <td>2021-08-22</td>\n",
       "      <td>AGUIAR</td>\n",
       "      <td>528</td>\n",
       "      <td>5</td>\n",
       "      <td>5630</td>\n",
       "      <td>9378.3304</td>\n",
       "      <td>0.0095</td>\n",
       "      <td>8897.54</td>\n",
       "      <td>3790</td>\n",
       "      <td>16.01</td>\n",
       "      <td>2903</td>\n",
       "      <td>51563.055062</td>\n",
       "      <td>351.61</td>\n",
       "    </tr>\n",
       "    <tr>\n",
       "      <th>2</th>\n",
       "      <td>2021-08-22</td>\n",
       "      <td>ALAGOA GRANDE</td>\n",
       "      <td>4119</td>\n",
       "      <td>72</td>\n",
       "      <td>28439</td>\n",
       "      <td>14483.6316</td>\n",
       "      <td>0.0175</td>\n",
       "      <td>9699.38</td>\n",
       "      <td>21931</td>\n",
       "      <td>88.30</td>\n",
       "      <td>16318</td>\n",
       "      <td>57378.951440</td>\n",
       "      <td>322.07</td>\n",
       "    </tr>\n",
       "  </tbody>\n",
       "</table>\n",
       "</div>"
      ],
      "text/plain": [
       "         date           city  confirmed  deaths  estimated_population  \\\n",
       "0  2021-08-22    AGUA BRANCA       1129      14                 10306   \n",
       "1  2021-08-22         AGUIAR        528       5                  5630   \n",
       "2  2021-08-22  ALAGOA GRANDE       4119      72                 28439   \n",
       "\n",
       "   confirmed_per_100k_inhabitants  death_rate  pib_per_capita  n_vaccinations  \\\n",
       "0                      10954.7836      0.0124         8074.16            6754   \n",
       "1                       9378.3304      0.0095         8897.54            3790   \n",
       "2                      14483.6316      0.0175         9699.38           21931   \n",
       "\n",
       "   demographic_density  vaccinated  vaccinated_per_100k_inhabitants  city_area  \n",
       "0                42.65        5173                     50194.061712     241.66  \n",
       "1                16.01        2903                     51563.055062     351.61  \n",
       "2                88.30       16318                     57378.951440     322.07  "
      ]
     },
     "execution_count": 34,
     "metadata": {},
     "output_type": "execute_result"
    }
   ],
   "source": [
    "casos_pb_df.head(3)"
   ]
  },
  {
   "cell_type": "markdown",
   "metadata": {},
   "source": [
    "## Primeira pergunta\n",
    "\n",
    "Como foi o quadro da COVID-19 no Estado da Paraíba? Alguns municípios tiveram uma pandemia mais leve do que outros, em questão de quantidade de casos e mortes? Como eles se comparam entre si e com o restante do Brasil?\n",
    "\n",
    "Primeiramente, analisaremos as medidas de centralidade e dispersão das variáveis casos confirmados, mortes, casos a cada 100 mil habitantes e mortalidade. "
   ]
  },
  {
   "cell_type": "markdown",
   "metadata": {},
   "source": [
    "#### Casos confirmados por município."
   ]
  },
  {
   "cell_type": "code",
   "execution_count": 17,
   "metadata": {},
   "outputs": [
    {
     "data": {
      "text/plain": [
       "count       223.000000\n",
       "mean       1932.327354\n",
       "std        7646.522342\n",
       "min          60.000000\n",
       "25%         362.500000\n",
       "50%         655.000000\n",
       "75%        1295.000000\n",
       "max      104016.000000\n",
       "Name: confirmed, dtype: float64"
      ]
     },
     "execution_count": 17,
     "metadata": {},
     "output_type": "execute_result"
    }
   ],
   "source": [
    "casos_pb_df['confirmed'].describe()"
   ]
  },
  {
   "cell_type": "markdown",
   "metadata": {},
   "source": [
    "Vemos que a média de casos por município é 1930.98, porém o desvio padrão é bem alto, 7639.84.\n",
    "\n",
    "Podemos também observar que a diferença entre o valor mínimo, o primeiro quartil e o segundo quartil são próximas, em torno de 300 casos. A diferença entre o segundo quartil e o terceiro quartil é o dobro disso, quase 600. Já a diferença entre o terceiro quartil e o valor máximo é mais de 10.000 casos. Com isso, podemos especular que o valor máximo representa um outlier, ou que poucos municípios (menos de 25%) concentram a maior quantidade de casos de COVID-19 no Estado."
   ]
  },
  {
   "cell_type": "code",
   "execution_count": 18,
   "metadata": {},
   "outputs": [
    {
     "data": {
      "image/png": "[encoded data removed]",
      "text/plain": [
       "<Figure size 1440x432 with 1 Axes>"
      ]
     },
     "metadata": {
      "needs_background": "light"
     },
     "output_type": "display_data"
    }
   ],
   "source": [
    "ax = sns.boxplot(data = casos_pb_df , x = 'confirmed', color='cyan')\n",
    "ax.set_title('Boxplot do número de casos confirmados por muncípio', fontsize=28)\n",
    "ax.figure.set_size_inches(20,6)\n",
    "ax.set_xlabel('Casos confirmados', fontsize=20)\n",
    "ax.tick_params(labelsize=16)"
   ]
  },
  {
   "cell_type": "code",
   "execution_count": 19,
   "metadata": {},
   "outputs": [
    {
     "data": {
      "text/html": [
       "<div>\n",
       "<style scoped>\n",
       "    .dataframe tbody tr th:only-of-type {\n",
       "        vertical-align: middle;\n",
       "    }\n",
       "\n",
       "    .dataframe tbody tr th {\n",
       "        vertical-align: top;\n",
       "    }\n",
       "\n",
       "    .dataframe thead th {\n",
       "        text-align: right;\n",
       "    }\n",
       "</style>\n",
       "<table border=\"1\" class=\"dataframe\">\n",
       "  <thead>\n",
       "    <tr style=\"text-align: right;\">\n",
       "      <th></th>\n",
       "      <th>date</th>\n",
       "      <th>city</th>\n",
       "      <th>confirmed</th>\n",
       "      <th>deaths</th>\n",
       "      <th>estimated_population</th>\n",
       "      <th>confirmed_per_100k_inhabitants</th>\n",
       "      <th>death_rate</th>\n",
       "      <th>pib_per_capita</th>\n",
       "      <th>n_vaccinations</th>\n",
       "      <th>demographic_density</th>\n",
       "      <th>vaccinated</th>\n",
       "      <th>vaccinated_per_100k_inhabitants</th>\n",
       "      <th>city_area</th>\n",
       "    </tr>\n",
       "  </thead>\n",
       "  <tbody>\n",
       "    <tr>\n",
       "      <th>49</th>\n",
       "      <td>2021-08-22</td>\n",
       "      <td>CAMPINA GRANDE</td>\n",
       "      <td>42863</td>\n",
       "      <td>1084</td>\n",
       "      <td>411807</td>\n",
       "      <td>10408.5166</td>\n",
       "      <td>0.0253</td>\n",
       "      <td>23210.44</td>\n",
       "      <td>266264</td>\n",
       "      <td>696.02</td>\n",
       "      <td>209091</td>\n",
       "      <td>50774.027639</td>\n",
       "      <td>591.66</td>\n",
       "    </tr>\n",
       "    <tr>\n",
       "      <th>93</th>\n",
       "      <td>2021-08-22</td>\n",
       "      <td>JOAO PESSOA</td>\n",
       "      <td>104016</td>\n",
       "      <td>2890</td>\n",
       "      <td>817511</td>\n",
       "      <td>12723.4985</td>\n",
       "      <td>0.0278</td>\n",
       "      <td>25768.09</td>\n",
       "      <td>593097</td>\n",
       "      <td>3892.17</td>\n",
       "      <td>456643</td>\n",
       "      <td>55857.719346</td>\n",
       "      <td>210.04</td>\n",
       "    </tr>\n",
       "  </tbody>\n",
       "</table>\n",
       "</div>"
      ],
      "text/plain": [
       "          date            city  confirmed  deaths  estimated_population  \\\n",
       "49  2021-08-22  CAMPINA GRANDE      42863    1084                411807   \n",
       "93  2021-08-22     JOAO PESSOA     104016    2890                817511   \n",
       "\n",
       "    confirmed_per_100k_inhabitants  death_rate  pib_per_capita  \\\n",
       "49                      10408.5166      0.0253        23210.44   \n",
       "93                      12723.4985      0.0278        25768.09   \n",
       "\n",
       "    n_vaccinations  demographic_density  vaccinated  \\\n",
       "49          266264               696.02      209091   \n",
       "93          593097              3892.17      456643   \n",
       "\n",
       "    vaccinated_per_100k_inhabitants  city_area  \n",
       "49                     50774.027639     591.66  \n",
       "93                     55857.719346     210.04  "
      ]
     },
     "execution_count": 19,
     "metadata": {},
     "output_type": "execute_result"
    }
   ],
   "source": [
    "casos_pb_df[casos_pb_df['confirmed'] > 40000]"
   ]
  },
  {
   "cell_type": "markdown",
   "metadata": {},
   "source": [
    "O boxplot que representa a distribuição dos casos por município é extremamente achatado. Isso ocorre pois os dois maiores municípios do Estado, João Pessoa e Campina Grande, concentram muitos mais casos que os demais municípios. Além disso, mesmo não os levando em conta, ainda temos muitos casos outliers além deles. Isso nos mostra que os casos de covid no Estado da Paraíba não estão distribuídos uniformemente entre os municípios, e sim concentrados em focos. "
   ]
  },
  {
   "cell_type": "markdown",
   "metadata": {},
   "source": [
    "#### Mortes por COVID-19 confirmadas por município"
   ]
  },
  {
   "cell_type": "code",
   "execution_count": 20,
   "metadata": {},
   "outputs": [
    {
     "data": {
      "text/plain": [
       "count     223.000000\n",
       "mean       40.982063\n",
       "std       208.289602\n",
       "min         0.000000\n",
       "25%         6.000000\n",
       "50%        11.000000\n",
       "75%        25.000000\n",
       "max      2890.000000\n",
       "Name: deaths, dtype: float64"
      ]
     },
     "execution_count": 20,
     "metadata": {},
     "output_type": "execute_result"
    }
   ],
   "source": [
    "casos_pb_df['deaths'].describe()"
   ]
  },
  {
   "cell_type": "markdown",
   "metadata": {},
   "source": [
    "Similarmente à quantidade de casos, a média de mortes por municípios tem média baixa, 40,97, porém desvio padrão alto, 208,29. \n",
    "\n",
    "Observamos que os valores mínino, e de primeiro, segundo e terceiro quartil são próximos (0, 6, 11 e 25 respectivamente), porém o valor máximo apresenta um salto enorme (2890). Vimos que poucos municípios concentram mais casos e consequentemente devem concentrar mais mortes, mas talvez outro fator para esse fenômeno possa ser o fato que municípios menores têm menos estrutura hospitalar para lidar com casos mais graves da doença, e é comum vermos esses pacientes serem transportados para municípios maiores para melhor tratamento. Dessa forma, caso o paciente venha a óbito, talvez ele seja registrado na capital, por exemplo, ao invés do seu município de origem, inflando mais esses números."
   ]
  },
  {
   "cell_type": "code",
   "execution_count": 21,
   "metadata": {},
   "outputs": [
    {
     "data": {
      "image/png": "[encoded data removed]",
      "text/plain": [
       "<Figure size 1440x432 with 1 Axes>"
      ]
     },
     "metadata": {
      "needs_background": "light"
     },
     "output_type": "display_data"
    }
   ],
   "source": [
    "ax = sns.boxplot(data = casos_pb_df , x = 'deaths', color = 'cyan')\n",
    "ax.set_title('Boxplot do nº de mortes confirmadas por COVID-19 na PB (22/08/2021)', fontsize = 28)\n",
    "ax.figure.set_size_inches(20, 6)\n",
    "ax.set_xlabel('Mortes confirmadas', fontsize = 20)\n",
    "ax.tick_params(labelsize = 16)"
   ]
  },
  {
   "cell_type": "markdown",
   "metadata": {},
   "source": [
    "Novamente vemos um gráfico boxplot achatado, mostrando que, tal qual os casos de COVID-19, as mortes da doença também se concentram em poucos municípios outliers."
   ]
  },
  {
   "cell_type": "markdown",
   "metadata": {},
   "source": [
    "#### Casos confirmados a cada 100 mil habitantes"
   ]
  },
  {
   "cell_type": "code",
   "execution_count": 25,
   "metadata": {},
   "outputs": [
    {
     "data": {
      "text/plain": [
       "count      223.000000\n",
       "mean      9249.020478\n",
       "std       3525.142735\n",
       "min       1623.816000\n",
       "25%       6626.868150\n",
       "50%       8778.568200\n",
       "75%      11430.389450\n",
       "max      18192.675200\n",
       "Name: confirmed_per_100k_inhabitants, dtype: float64"
      ]
     },
     "execution_count": 25,
     "metadata": {},
     "output_type": "execute_result"
    }
   ],
   "source": [
    "casos_pb_df.confirmed_per_100k_inhabitants.describe()"
   ]
  },
  {
   "cell_type": "markdown",
   "metadata": {},
   "source": [
    "Quando calculamos as medidas de centralidade da quantidade de casos relativas à população de cada município, podemos fazer análises mais pontuais, que não são distorcidas pela diferença populacional. Vemos que esses dados são bem menos dispersos que os dados em quantidades absolutas.\n",
    "\n",
    "A média de mortes a cada 100 mil habitantes é 9242.32, o desvio padrão é 3524.61, os quartis são 6626.86, 8836.27 e 11430.38. Os valores mínimo e máximo são 1623.81 e 18192.67. "
   ]
  },
  {
   "cell_type": "code",
   "execution_count": 26,
   "metadata": {},
   "outputs": [
    {
     "data": {
      "image/png": "[encoded data removed]",
      "text/plain": [
       "<Figure size 1440x432 with 1 Axes>"
      ]
     },
     "metadata": {
      "needs_background": "light"
     },
     "output_type": "display_data"
    }
   ],
   "source": [
    "ax = sns.boxplot(data = casos_pb_df , x = 'confirmed_per_100k_inhabitants', color = 'cyan')\n",
    "ax.set_title('Boxplot de casos confirmados de COVID-19 a cada 100 mil habitantes na Paraíba', fontsize = 28)\n",
    "ax.figure.set_size_inches(20, 6)\n",
    "ax.set_xlabel('Nº de casos confirmados por 100 mil habitantes', fontsize = 20)\n",
    "ax.tick_params(labelsize = 16)"
   ]
  },
  {
   "cell_type": "markdown",
   "metadata": {},
   "source": [
    "O boxplot dessa váriavel é muito mais legível do que o das variáveis anteriores."
   ]
  },
  {
   "cell_type": "markdown",
   "metadata": {},
   "source": [
    "#### Mortalidade da COVID-19 por município\n",
    "\n",
    "Razão entre a quantidade absoluta de mortes e a quantidade absoluta de casos. Armazenados na coluna  `death_rate`"
   ]
  },
  {
   "cell_type": "code",
   "execution_count": 27,
   "metadata": {},
   "outputs": [
    {
     "data": {
      "text/plain": [
       "count    223.000000\n",
       "mean       0.018597\n",
       "std        0.009873\n",
       "min        0.000000\n",
       "25%        0.012100\n",
       "50%        0.017200\n",
       "75%        0.022650\n",
       "max        0.066700\n",
       "Name: death_rate, dtype: float64"
      ]
     },
     "execution_count": 27,
     "metadata": {},
     "output_type": "execute_result"
    }
   ],
   "source": [
    "casos_pb_df.death_rate.describe()"
   ]
  },
  {
   "cell_type": "markdown",
   "metadata": {},
   "source": [
    "A mortalidade média é de 0.018, o desvio padrão é 0.0098. Os quartis são 0.012, 0.017 e 0.022. O valor máximo é 0.066. \n",
    "\n",
    "Vemos um salto muito grande do terceiro quartil para o valor máximo. Os valores quartis ficam todos próximos à média, porém o valor máximo é 3.6 vezes maior que ela. "
   ]
  },
  {
   "cell_type": "code",
   "execution_count": 28,
   "metadata": {},
   "outputs": [
    {
     "data": {
      "image/png": "[encoded data removed]",
      "text/plain": [
       "<Figure size 1440x432 with 1 Axes>"
      ]
     },
     "metadata": {
      "needs_background": "light"
     },
     "output_type": "display_data"
    }
   ],
   "source": [
    "ax = sns.boxplot(data = casos_pb_df , x = 'death_rate', color = 'cyan')\n",
    "ax.set_title('Boxplot da taxa de mortalidade por COVID-19 na Paraíba', fontsize = 28)\n",
    "ax.figure.set_size_inches(20, 6)\n",
    "ax.set_xlabel('Taxa de mortalidade', fontsize = 20)\n",
    "ax.tick_params(labelsize = 16)"
   ]
  },
  {
   "cell_type": "code",
   "execution_count": 29,
   "metadata": {},
   "outputs": [
    {
     "data": {
      "text/plain": [
       "8"
      ]
     },
     "execution_count": 29,
     "metadata": {},
     "output_type": "execute_result"
    }
   ],
   "source": [
    "casos_pb_df[casos_pb_df.death_rate > 0.04]['death_rate'].count()"
   ]
  },
  {
   "cell_type": "markdown",
   "metadata": {},
   "source": [
    "Observando o boxplot da mortalidade, vemos que há 8 municípios onde a COVID-19 foi anormalmente mais mortal do que no resto da Paraíba."
   ]
  },
  {
   "cell_type": "markdown",
   "metadata": {},
   "source": [
    "### Comparação com o cenário brasileiro\n",
    "\n",
    "Agora, iremos analisar como esses dados da COVID-19 na Paraíba se comparam com o resto do Brasil."
   ]
  },
  {
   "cell_type": "code",
   "execution_count": 36,
   "metadata": {},
   "outputs": [
    {
     "data": {
      "text/html": [
       "<div>\n",
       "<style scoped>\n",
       "    .dataframe tbody tr th:only-of-type {\n",
       "        vertical-align: middle;\n",
       "    }\n",
       "\n",
       "    .dataframe tbody tr th {\n",
       "        vertical-align: top;\n",
       "    }\n",
       "\n",
       "    .dataframe thead th {\n",
       "        text-align: right;\n",
       "    }\n",
       "</style>\n",
       "<table border=\"1\" class=\"dataframe\">\n",
       "  <thead>\n",
       "    <tr style=\"text-align: right;\">\n",
       "      <th></th>\n",
       "      <th>confirmed</th>\n",
       "      <th>confirmed_per_100k_inhabitants</th>\n",
       "      <th>deaths</th>\n",
       "      <th>death_rate</th>\n",
       "      <th>estimated_population</th>\n",
       "    </tr>\n",
       "  </thead>\n",
       "  <tbody>\n",
       "    <tr>\n",
       "      <th>count</th>\n",
       "      <td>5570.000000</td>\n",
       "      <td>5570.000000</td>\n",
       "      <td>5570.000000</td>\n",
       "      <td>5570.000000</td>\n",
       "      <td>5.570000e+03</td>\n",
       "    </tr>\n",
       "    <tr>\n",
       "      <th>mean</th>\n",
       "      <td>3619.971634</td>\n",
       "      <td>9457.720051</td>\n",
       "      <td>101.330162</td>\n",
       "      <td>0.024052</td>\n",
       "      <td>3.801718e+04</td>\n",
       "    </tr>\n",
       "    <tr>\n",
       "      <th>std</th>\n",
       "      <td>18542.229168</td>\n",
       "      <td>4605.463381</td>\n",
       "      <td>753.763631</td>\n",
       "      <td>0.015608</td>\n",
       "      <td>2.228930e+05</td>\n",
       "    </tr>\n",
       "    <tr>\n",
       "      <th>min</th>\n",
       "      <td>10.000000</td>\n",
       "      <td>178.954900</td>\n",
       "      <td>0.000000</td>\n",
       "      <td>0.000000</td>\n",
       "      <td>7.760000e+02</td>\n",
       "    </tr>\n",
       "    <tr>\n",
       "      <th>25%</th>\n",
       "      <td>429.000000</td>\n",
       "      <td>6077.439950</td>\n",
       "      <td>8.000000</td>\n",
       "      <td>0.014900</td>\n",
       "      <td>5.442250e+03</td>\n",
       "    </tr>\n",
       "    <tr>\n",
       "      <th>50%</th>\n",
       "      <td>932.500000</td>\n",
       "      <td>9011.100950</td>\n",
       "      <td>20.000000</td>\n",
       "      <td>0.021200</td>\n",
       "      <td>1.166550e+04</td>\n",
       "    </tr>\n",
       "    <tr>\n",
       "      <th>75%</th>\n",
       "      <td>2298.750000</td>\n",
       "      <td>12278.478300</td>\n",
       "      <td>50.000000</td>\n",
       "      <td>0.029600</td>\n",
       "      <td>2.566375e+04</td>\n",
       "    </tr>\n",
       "    <tr>\n",
       "      <th>max</th>\n",
       "      <td>929136.000000</td>\n",
       "      <td>46807.428100</td>\n",
       "      <td>36714.000000</td>\n",
       "      <td>0.321000</td>\n",
       "      <td>1.232523e+07</td>\n",
       "    </tr>\n",
       "  </tbody>\n",
       "</table>\n",
       "</div>"
      ],
      "text/plain": [
       "           confirmed  confirmed_per_100k_inhabitants        deaths  \\\n",
       "count    5570.000000                     5570.000000   5570.000000   \n",
       "mean     3619.971634                     9457.720051    101.330162   \n",
       "std     18542.229168                     4605.463381    753.763631   \n",
       "min        10.000000                      178.954900      0.000000   \n",
       "25%       429.000000                     6077.439950      8.000000   \n",
       "50%       932.500000                     9011.100950     20.000000   \n",
       "75%      2298.750000                    12278.478300     50.000000   \n",
       "max    929136.000000                    46807.428100  36714.000000   \n",
       "\n",
       "        death_rate  estimated_population  \n",
       "count  5570.000000          5.570000e+03  \n",
       "mean      0.024052          3.801718e+04  \n",
       "std       0.015608          2.228930e+05  \n",
       "min       0.000000          7.760000e+02  \n",
       "25%       0.014900          5.442250e+03  \n",
       "50%       0.021200          1.166550e+04  \n",
       "75%       0.029600          2.566375e+04  \n",
       "max       0.321000          1.232523e+07  "
      ]
     },
     "execution_count": 36,
     "metadata": {},
     "output_type": "execute_result"
    }
   ],
   "source": [
    "casos_br_df.describe()"
   ]
  },
  {
   "cell_type": "markdown",
   "metadata": {},
   "source": [
    "Quanto à média de casos por município, a brasileira é 3619.79 e a paraibana é 1932.32 (Paraíba bem abaixo da média nacional).\n",
    "\n",
    "Quanto à média de mortes por município, a brasileira é 110.33 e a paraibana é 40.98 (Paraíba bem abaixo da média nacional).\n",
    "\n",
    "Quanto à média de casos a cada 100 mil habitantes, a brasileira é 9457.72 e a paraibana é 9249.02 (Paraíba um tanto abaixo da média nacional).\n",
    "\n",
    "Quanto à mortalidade média, a brasileira é 0.0240 e a paraibana é 0.0185 (Paraíba um tanto abaixo da média nacional)."
   ]
  },
  {
   "cell_type": "code",
   "execution_count": 32,
   "metadata": {},
   "outputs": [
    {
     "data": {
      "image/png": "[encoded data removed]",
      "text/plain": [
       "<Figure size 1440x576 with 1 Axes>"
      ]
     },
     "metadata": {
      "needs_background": "light"
     },
     "output_type": "display_data"
    }
   ],
   "source": [
    "data_cp100k = [casos_pb_df.confirmed_per_100k_inhabitants, casos_br_df.confirmed_per_100k_inhabitants]\n",
    "headers_cp100k = ['Paraíba', 'Brasil']\n",
    "\n",
    "compare_cp100k = pd.concat(data_cp100k, axis = 1, keys = headers_cp100k)\n",
    "\n",
    "bp_cp100k = sns.boxplot(data = compare_cp100k, orient = 'h', palette = 'Set2', order = ['Paraíba', 'Brasil'])\n",
    "bp_cp100k.set_title('Boxplot Paraíba x Brasil - Casos a cada 100 mil habitantes', fontsize = 28)\n",
    "bp_cp100k.set_xlabel('Nº de casos confirmados por 100 mil habitantes', fontsize = 20)\n",
    "bp_cp100k.figure.set_size_inches(20, 8)\n",
    "bp_cp100k.tick_params(labelsize = 16)"
   ]
  },
  {
   "cell_type": "markdown",
   "metadata": {},
   "source": [
    "Vemos que, quanto aos casos a cada 100 mil habitantes, a Paraíba ficou bem, comparada ao cenário nacional. Os valores de primeiro quartil são aproximadamente iguais e os de mediana são muito próximos. O terceiro quartil do boxplot paraibano já fica um pouco mais atrás do nacional, e não há presença de outliers, ao contrário do outro."
   ]
  },
  {
   "cell_type": "code",
   "execution_count": 33,
   "metadata": {},
   "outputs": [
    {
     "data": {
      "image/png": "[encoded data removed]",
      "text/plain": [
       "<Figure size 1440x576 with 1 Axes>"
      ]
     },
     "metadata": {
      "needs_background": "light"
     },
     "output_type": "display_data"
    }
   ],
   "source": [
    "data_dr = [casos_pb_df.death_rate, casos_br_df.death_rate]\n",
    "headers_dr = ['Paraíba', 'Brasil']\n",
    "\n",
    "compare_dr = pd.concat(data_dr, axis = 1, keys = headers_dr)\n",
    "\n",
    "bp_dr = sns.boxplot(data = compare_dr, orient = 'h', palette = 'Set2', order = ['Paraíba', 'Brasil'])\n",
    "bp_dr.set_title('Boxplot Paraíba x Brasil - Taxa de mortalidade', fontsize = 28)\n",
    "bp_dr.set_xlabel('Taxa de mortalidade', fontsize = 20)\n",
    "bp_dr.figure.set_size_inches(20, 8)\n",
    "bp_dr.tick_params(labelsize = 16)"
   ]
  },
  {
   "cell_type": "markdown",
   "metadata": {},
   "source": [
    "Já para o boxplot da variável mortalidade, o gráfico paraibano se assemelha mais ao brasileiro. Nele, podemos observar a presença de municípios paraibanos que são outliers não só a nível estadual, mas também a nível nacional.\n",
    "\n",
    "Como temos valores outliers para a mortalidade, mas não para a quantidade de casos a cada 100 mil habitantes, podemos concluir que existem na Paraíba municípios onde a mortalidade pela COVID-19 foi desproporcional à quantidade de casos."
   ]
  }
 ],
 "metadata": {
  "interpreter": {
   "hash": "916dbcbb3f70747c44a77c7bcd40155683ae19c65e1c03b4aa3499c5328201f1"
  },
  "kernelspec": {
   "display_name": "Python 3.8.10 64-bit",
   "language": "python",
   "name": "python3"
  },
  "language_info": {
   "codemirror_mode": {
    "name": "ipython",
    "version": 3
   },
   "file_extension": ".py",
   "mimetype": "text/x-python",
   "name": "python",
   "nbconvert_exporter": "python",
   "pygments_lexer": "ipython3",
   "version": "3.8.10"
  },
  "orig_nbformat": 4
 },
 "nbformat": 4,
 "nbformat_minor": 2
}
