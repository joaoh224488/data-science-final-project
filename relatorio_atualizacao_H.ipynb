{
 "cells": [
  {
   "cell_type": "markdown",
   "metadata": {},
   "source": [
    "## COVID-19: Paraíba 2020-2022"
   ]
  },
  {
   "cell_type": "markdown",
   "metadata": {},
   "source": [
    "### Integrantes:\n",
    "\n",
    "* [João Henrique de Araújo Pereira](https://github.com/joaoh224488)&nbsp;&nbsp;&nbsp;&nbsp;|&nbsp;&nbsp;&nbsp;Matrícula: 20210026705 \n",
    "* [Maria Raquel Souza Martinez](https://github.com/maria-raquel)&nbsp;&nbsp;&nbsp;&nbsp;&nbsp;&nbsp;&nbsp;&nbsp;&nbsp;&nbsp;&nbsp;|&nbsp;&nbsp; Matrícula: 20200025900\n",
    "* [Maxwel de Andrade Barbosa](https://github.com/maxbarbosa)&nbsp;&nbsp;&nbsp;&nbsp;&nbsp;&nbsp;&nbsp;&nbsp;&nbsp;&nbsp;&nbsp;&nbsp;|&nbsp;&nbsp; Matrícula: 20210067083\n",
    "\n",
    "\n",
    "\n",
    "<p align=\"center\"><img src=\"https://www.camara.leg.br/midias/image/2020/10/img20201022140139807-768x512.jpg\" width=\"70%\" height=\"70%\"/></p>\n",
    "\n",
    "Fonte: https://www.camara.leg.br/midias/image/2020/10/img20201022140139807-768x512.jpg"
   ]
  },
  {
   "cell_type": "markdown",
   "metadata": {},
   "source": [
    "## Introdução e objetivos"
   ]
  },
  {
   "cell_type": "markdown",
   "metadata": {},
   "source": [
    "### Objetivo geral:\n",
    "\n"
   ]
  },
  {
   "cell_type": "markdown",
   "metadata": {},
   "source": [
    "### Objetivos específicos:"
   ]
  },
  {
   "cell_type": "markdown",
   "metadata": {},
   "source": [
    "### Bibliotecas utilizadas:\n",
    "\n",
    "As bibliotecas usadas no projeto estão contidas no arquivo `requirements.txt` presente no diretório raiz [deste trabalho](https://github.com/maxbarbosa/data-science-final-project).\n",
    "\n",
    "Elas podem ser instaladas através da execução da instrução abaixo dentro do programa de linha de comando do seu sistema operacional:\n",
    "\n",
    "    pip install -r requirements.txt\n"
   ]
  },
  {
   "cell_type": "markdown",
   "metadata": {},
   "source": [
    "### Importação das bibliotecas e carregamento dos dados:"
   ]
  },
  {
   "cell_type": "code",
   "execution_count": 1,
   "metadata": {},
   "outputs": [],
   "source": [
    "import pandas as pd\n",
    "import seaborn as sns\n",
    "import numpy as np\n",
    "import plotly.express as px\n",
    "import fix_vaxs\n",
    "from matplotlib import pyplot as plt\n",
    "from scipy.stats import norm\n",
    "from sklearn.cluster import KMeans\n",
    "custom_params = {\"axes.spines.right\": False, \"axes.spines.top\": False}\n",
    "sns.set_theme(style=\"ticks\", rc=custom_params)\n",
    "\n",
    "vax_df      =  pd.read_csv(\"datasets/dados_vacinacao.csv\")\n",
    "casos_br_df =  pd.read_csv(\"datasets/dados_br.csv\")\n",
    "casos_pb_df =  pd.read_csv(\"datasets/dados_pb.csv\")"
   ]
  },
  {
   "cell_type": "markdown",
   "metadata": {},
   "source": [
    "### Dados - Principais váriaveis utilizadas:\n",
    "\n",
    "[Open Data SUS](https://opendatasus.saude.gov.br/dataset/covid-19-vacinacao) (dados_vacinacao.csv):\n",
    "\n",
    "* paciente_idade (idade do vacinado)\n",
    "* paciente_endereco_nmMunicipio (nome do município de endereço do vacinado)\n",
    "* paciente_racaCor_valor (descrição da raça/cor do vacinado)\n",
    "* vacina_descricao_dose (descrição da dose. Exemplo: \"2ª dose\")\n",
    "* vacina_nome (nome da vacina/produto)\n",
    "\n",
    "[Brasil IO](https://brasil.io/covid19/PB/) - BR, PB (dados_br e dados_pb.csv):\n",
    "\n",
    "* city (município brasileiro o qual detém tais dados)\n",
    "* confirmed (quantidade de casos confirmados)\n",
    "* confirmed_per_100k_inhabitants (casos confirmados a cada 100 mil habitantes)\n",
    "* deaths (número de mortes)\n",
    "* death_rate (taxa de mortalidade)\n",
    "* demographic_density (densidade demográfica das cidades paraibanas conforme o censo 2010 - IBGE)\n",
    "\n",
    "\n"
   ]
  },
  {
   "cell_type": "markdown",
   "metadata": {},
   "source": [
    "## Pré-processamento"
   ]
  },
  {
   "cell_type": "markdown",
   "metadata": {},
   "source": [
    "O dataset disponibilizado pela plataforma Open Data SUS possui algumas células com mais de um valor. Tais células ocasionam um erro de leitura para o Python. Só é possível corrigir tal erro através de um processo pseudo-manual, processo este que foi resolvido por nossa equipe e que o passo a passo está detalhado [nesse arquivo](https://github.com/maxbarbosa/data-science-final-project/tree/main/datasets#readme) do repositório."
   ]
  },
  {
   "cell_type": "markdown",
   "metadata": {},
   "source": [
    "O dataset original possui 2.806.755 linhas e 32 colunas, das quais 15 foram removidas por apresentar dados repetidos e/ou nada relevantes para este trabalho. Restando 17 colunas a serem utilizadas."
   ]
  },
  {
   "cell_type": "markdown",
   "metadata": {},
   "source": [
    "O código abaixo explicita o processo de remoção das 15 colunas do dataset original:\n",
    "\n",
    "\n",
    "```python\n",
    "import pandas as pd\n",
    "df = pd.read_csv('dados_vacinacao.csv')\n",
    "\n",
    "df = df.drop(\n",
    "        ['document_id',  \n",
    "        'paciente_endereco_coIbgeMunicipio', \n",
    "        'paciente_endereco_coPais',\n",
    "        'paciente_endereco_nmPais',\n",
    "        'paciente_endereco_uf', \n",
    "        'paciente_nacionalidade_enumNacionalidade', \n",
    "        'estabelecimento_valor',\n",
    "        'estabelecimento_razaoSocial', \n",
    "        'estalecimento_noFantasia',\n",
    "        'estabelecimento_municipio_codigo', \n",
    "        'estabelecimento_uf', \n",
    "        'vacina_fabricante_nome',\n",
    "        'vacina_fabricante_referencia', \n",
    "        'sistema_origem'], \n",
    "\taxis= 1\n",
    ")\n",
    "\n",
    "df = df.iloc[: , [1,2,3,4,5,6,7,8,9,10,11,12,13,14,15,16, 0]]\n",
    "\n",
    "df.to_csv(\"dados_vacinacao.csv\", index = False)\n",
    "```\n"
   ]
  },
  {
   "cell_type": "markdown",
   "metadata": {},
   "source": [
    "Após a realização da etapa descrita acima, algumas colunas do novo dataset gerado foram criadas com o tipo _float_, sendo inicialmente _int_ seu tipo de dado, para realizar a correção em tais colunas, o seguinte trecho de código foi executado:\n",
    "\n",
    "```python\n",
    "df.paciente_idade = df.paciente_idade.fillna(0)\n",
    "df.paciente_racaCor_codigo = df.paciente_racaCor_codigo.fillna(0)\n",
    "df.vacina_grupoAtendimento_codigo = df.vacina_grupoAtendimento_codigo.fillna(0)\n",
    "df.vacina_categoria_codigo = df.vacina_categoria_codigo.fillna(0)\n",
    "df.vacina_codigo = df.vacina_codigo.fillna(0)\n",
    "\n",
    "df = df.astype({\n",
    "    \"paciente_idade\":int,\n",
    "    \"paciente_racaCor_codigo\":int,\n",
    "    \"vacina_grupoAtendimento_codigo\":int,\n",
    "    \"vacina_categoria_codigo\": int,\n",
    "    \"vacina_codigo\": int\n",
    "    })\n",
    "\n",
    "df.to_csv(\"dados_vacinacao.csv\", index = False)\n",
    "```"
   ]
  },
  {
   "cell_type": "markdown",
   "metadata": {},
   "source": [
    "## Limpeza dos dados\n",
    "\n",
    "Durante o decorrer da exploração inicial do dataset, foi constatado que valores negativos e valores acima de 110 anos estavam presentes na coluna que armazena a idade dos pacientes. Como a quantidade desses valores anômalos é baixa (185 casos), convém deletá-los. Além disso, na coluna que armazena a data na qual o paciente foi vacinado, há alguns pacientes que foram vacinados antes da primeira dose de vacina ser aplicada no Brasil no dia 17 de janeiro de 2021. <br>\n",
    "A remoção desses dados não afetará relevantemente este estudo, pois esse número é insignificante se comparado a quase 3 milhões de entradas totais do dataset.\n"
   ]
  },
  {
   "cell_type": "code",
   "execution_count": 2,
   "metadata": {},
   "outputs": [],
   "source": [
    "vax_df.vacina_dataAplicacao = pd.to_datetime(vax_df.vacina_dataAplicacao)"
   ]
  },
  {
   "cell_type": "code",
   "execution_count": 3,
   "metadata": {},
   "outputs": [
    {
     "data": {
      "text/html": [
       "<div>\n",
       "<style scoped>\n",
       "    .dataframe tbody tr th:only-of-type {\n",
       "        vertical-align: middle;\n",
       "    }\n",
       "\n",
       "    .dataframe tbody tr th {\n",
       "        vertical-align: top;\n",
       "    }\n",
       "\n",
       "    .dataframe thead th {\n",
       "        text-align: right;\n",
       "    }\n",
       "</style>\n",
       "<table border=\"1\" class=\"dataframe\">\n",
       "  <thead>\n",
       "    <tr style=\"text-align: right;\">\n",
       "      <th></th>\n",
       "      <th>paciente_idade</th>\n",
       "      <th>paciente_dataNascimento</th>\n",
       "      <th>paciente_enumSexoBiologico</th>\n",
       "      <th>paciente_racaCor_codigo</th>\n",
       "      <th>paciente_racaCor_valor</th>\n",
       "      <th>paciente_endereco_nmMunicipio</th>\n",
       "      <th>paciente_endereco_cep</th>\n",
       "      <th>estabelecimento_municipio_nome</th>\n",
       "      <th>vacina_grupoAtendimento_codigo</th>\n",
       "      <th>vacina_grupoAtendimento_nome</th>\n",
       "      <th>vacina_categoria_codigo</th>\n",
       "      <th>vacina_categoria_nome</th>\n",
       "      <th>vacina_dataAplicacao</th>\n",
       "      <th>vacina_descricao_dose</th>\n",
       "      <th>vacina_codigo</th>\n",
       "      <th>vacina_nome</th>\n",
       "      <th>paciente_id</th>\n",
       "    </tr>\n",
       "  </thead>\n",
       "  <tbody>\n",
       "    <tr>\n",
       "      <th>15030</th>\n",
       "      <td>121</td>\n",
       "      <td>1899-12-30</td>\n",
       "      <td>F</td>\n",
       "      <td>99</td>\n",
       "      <td>SEM INFORMACAO</td>\n",
       "      <td>PICUI</td>\n",
       "      <td>NaN</td>\n",
       "      <td>PICUI</td>\n",
       "      <td>917</td>\n",
       "      <td>Profissionais e Auxiliares de limpeza</td>\n",
       "      <td>9</td>\n",
       "      <td>Trabalhadores de Saúde</td>\n",
       "      <td>2021-01-28</td>\n",
       "      <td>1ª Dose</td>\n",
       "      <td>85</td>\n",
       "      <td>COVID-19 ASTRAZENECA/FIOCRUZ - COVISHIELD</td>\n",
       "      <td>f1c3b1a19f65bc23f26fd66ad23411e8ce0583295b8471...</td>\n",
       "    </tr>\n",
       "    <tr>\n",
       "      <th>38305</th>\n",
       "      <td>2</td>\n",
       "      <td>2019-09-16</td>\n",
       "      <td>F</td>\n",
       "      <td>99</td>\n",
       "      <td>SEM INFORMACAO</td>\n",
       "      <td>GUARULHOS</td>\n",
       "      <td>7142</td>\n",
       "      <td>SOUSA</td>\n",
       "      <td>207</td>\n",
       "      <td>Pessoas de 5 a 11 anos</td>\n",
       "      <td>0</td>\n",
       "      <td>NaN</td>\n",
       "      <td>2022-03-28</td>\n",
       "      <td>2ª Dose</td>\n",
       "      <td>86</td>\n",
       "      <td>COVID-19 SINOVAC/BUTANTAN - CORONAVAC</td>\n",
       "      <td>2148017dbfa2015a4ed271aac5dcadeca60557c279e51c...</td>\n",
       "    </tr>\n",
       "    <tr>\n",
       "      <th>39339</th>\n",
       "      <td>0</td>\n",
       "      <td>1974-11-16</td>\n",
       "      <td>F</td>\n",
       "      <td>99</td>\n",
       "      <td>SEM INFORMACAO</td>\n",
       "      <td>CAMPINA GRANDE</td>\n",
       "      <td>58401</td>\n",
       "      <td>CAMPINA GRANDE</td>\n",
       "      <td>201</td>\n",
       "      <td>Pessoas de 18 a 64 anos</td>\n",
       "      <td>2</td>\n",
       "      <td>Faixa Etária</td>\n",
       "      <td>1975-02-20</td>\n",
       "      <td>1ª Dose</td>\n",
       "      <td>88</td>\n",
       "      <td>COVID-19 JANSSEN - Ad26.COV2.S</td>\n",
       "      <td>046d325facf10e1f13f78e4e9195cb2dc27953e5075484...</td>\n",
       "    </tr>\n",
       "    <tr>\n",
       "      <th>41754</th>\n",
       "      <td>0</td>\n",
       "      <td>1986-04-20</td>\n",
       "      <td>F</td>\n",
       "      <td>99</td>\n",
       "      <td>SEM INFORMACAO</td>\n",
       "      <td>CAMPINA GRANDE</td>\n",
       "      <td>58401</td>\n",
       "      <td>CAMPINA GRANDE</td>\n",
       "      <td>201</td>\n",
       "      <td>Pessoas de 18 a 64 anos</td>\n",
       "      <td>2</td>\n",
       "      <td>Faixa Etária</td>\n",
       "      <td>1986-04-20</td>\n",
       "      <td>Reforço</td>\n",
       "      <td>87</td>\n",
       "      <td>COVID-19 PFIZER - COMIRNATY</td>\n",
       "      <td>0469ebe1ad08f5040adca17ec248430e5fbf112b749c47...</td>\n",
       "    </tr>\n",
       "    <tr>\n",
       "      <th>46665</th>\n",
       "      <td>-8</td>\n",
       "      <td>1983-02-28</td>\n",
       "      <td>M</td>\n",
       "      <td>99</td>\n",
       "      <td>SEM INFORMACAO</td>\n",
       "      <td>MACEIO</td>\n",
       "      <td>None</td>\n",
       "      <td>CAMPINA GRANDE</td>\n",
       "      <td>201</td>\n",
       "      <td>Pessoas de 18 a 64 anos</td>\n",
       "      <td>2</td>\n",
       "      <td>Faixa Etária</td>\n",
       "      <td>1974-12-05</td>\n",
       "      <td>2ª Dose</td>\n",
       "      <td>86</td>\n",
       "      <td>COVID-19 SINOVAC/BUTANTAN - CORONAVAC</td>\n",
       "      <td>22618b1bff1b85fa4c238413d60891763eb37fcacf7cdf...</td>\n",
       "    </tr>\n",
       "    <tr>\n",
       "      <th>...</th>\n",
       "      <td>...</td>\n",
       "      <td>...</td>\n",
       "      <td>...</td>\n",
       "      <td>...</td>\n",
       "      <td>...</td>\n",
       "      <td>...</td>\n",
       "      <td>...</td>\n",
       "      <td>...</td>\n",
       "      <td>...</td>\n",
       "      <td>...</td>\n",
       "      <td>...</td>\n",
       "      <td>...</td>\n",
       "      <td>...</td>\n",
       "      <td>...</td>\n",
       "      <td>...</td>\n",
       "      <td>...</td>\n",
       "      <td>...</td>\n",
       "    </tr>\n",
       "    <tr>\n",
       "      <th>2727528</th>\n",
       "      <td>0</td>\n",
       "      <td>1962-07-08</td>\n",
       "      <td>M</td>\n",
       "      <td>99</td>\n",
       "      <td>SEM INFORMACAO</td>\n",
       "      <td>BAYEUX</td>\n",
       "      <td>58305</td>\n",
       "      <td>JOAO PESSOA</td>\n",
       "      <td>201</td>\n",
       "      <td>Pessoas de 18 a 64 anos</td>\n",
       "      <td>2</td>\n",
       "      <td>Faixa Etária</td>\n",
       "      <td>1962-06-20</td>\n",
       "      <td>1ª Dose</td>\n",
       "      <td>87</td>\n",
       "      <td>COVID-19 PFIZER - COMIRNATY</td>\n",
       "      <td>e41bf7e6e369aa29e6d26ec77d1d8daa0f60a924a4cbcc...</td>\n",
       "    </tr>\n",
       "    <tr>\n",
       "      <th>2733405</th>\n",
       "      <td>111</td>\n",
       "      <td>1910-01-12</td>\n",
       "      <td>F</td>\n",
       "      <td>3</td>\n",
       "      <td>PARDA</td>\n",
       "      <td>JOAO PESSOA</td>\n",
       "      <td>58078</td>\n",
       "      <td>JOAO PESSOA</td>\n",
       "      <td>205</td>\n",
       "      <td>Pessoas de 80 anos ou mais</td>\n",
       "      <td>2</td>\n",
       "      <td>Faixa Etária</td>\n",
       "      <td>2021-02-07</td>\n",
       "      <td>1ª Dose</td>\n",
       "      <td>86</td>\n",
       "      <td>COVID-19 SINOVAC/BUTANTAN - CORONAVAC</td>\n",
       "      <td>dbe3f058be16f383a8392fbb4f89681caf441363366bfa...</td>\n",
       "    </tr>\n",
       "    <tr>\n",
       "      <th>2791852</th>\n",
       "      <td>0</td>\n",
       "      <td>1999-02-17</td>\n",
       "      <td>M</td>\n",
       "      <td>3</td>\n",
       "      <td>PARDA</td>\n",
       "      <td>JOAO PESSOA</td>\n",
       "      <td>58034</td>\n",
       "      <td>JOAO PESSOA</td>\n",
       "      <td>507</td>\n",
       "      <td>Policial Militar</td>\n",
       "      <td>5</td>\n",
       "      <td>Forças de Segurança e Salvamento</td>\n",
       "      <td>1999-02-17</td>\n",
       "      <td>2ª Dose</td>\n",
       "      <td>85</td>\n",
       "      <td>COVID-19 ASTRAZENECA/FIOCRUZ - COVISHIELD</td>\n",
       "      <td>7f5626eb38d0699cd1c44aef7dfc61bc02ab1589d35433...</td>\n",
       "    </tr>\n",
       "    <tr>\n",
       "      <th>2798130</th>\n",
       "      <td>0</td>\n",
       "      <td>1980-04-24</td>\n",
       "      <td>M</td>\n",
       "      <td>99</td>\n",
       "      <td>SEM INFORMACAO</td>\n",
       "      <td>CAMPINA GRANDE</td>\n",
       "      <td>58107</td>\n",
       "      <td>CAMPINA GRANDE</td>\n",
       "      <td>201</td>\n",
       "      <td>Pessoas de 18 a 64 anos</td>\n",
       "      <td>2</td>\n",
       "      <td>Faixa Etária</td>\n",
       "      <td>1980-04-24</td>\n",
       "      <td>2ª Dose</td>\n",
       "      <td>85</td>\n",
       "      <td>COVID-19 ASTRAZENECA/FIOCRUZ - COVISHIELD</td>\n",
       "      <td>dc02c8fb8b211283163a6d8680bbb81216e0831436bf94...</td>\n",
       "    </tr>\n",
       "    <tr>\n",
       "      <th>2804414</th>\n",
       "      <td>0</td>\n",
       "      <td>1971-09-19</td>\n",
       "      <td>M</td>\n",
       "      <td>4</td>\n",
       "      <td>AMARELA</td>\n",
       "      <td>CAMPINA GRANDE</td>\n",
       "      <td>58400</td>\n",
       "      <td>CAMPINA GRANDE</td>\n",
       "      <td>201</td>\n",
       "      <td>Pessoas de 18 a 64 anos</td>\n",
       "      <td>2</td>\n",
       "      <td>Faixa Etária</td>\n",
       "      <td>1971-09-19</td>\n",
       "      <td>1ª Dose</td>\n",
       "      <td>88</td>\n",
       "      <td>COVID-19 JANSSEN - Ad26.COV2.S</td>\n",
       "      <td>8bc871997214001428bba2bce2b02516b697aa1ae50cae...</td>\n",
       "    </tr>\n",
       "  </tbody>\n",
       "</table>\n",
       "<p>185 rows × 17 columns</p>\n",
       "</div>"
      ],
      "text/plain": [
       "         paciente_idade paciente_dataNascimento paciente_enumSexoBiologico  \\\n",
       "15030               121              1899-12-30                          F   \n",
       "38305                 2              2019-09-16                          F   \n",
       "39339                 0              1974-11-16                          F   \n",
       "41754                 0              1986-04-20                          F   \n",
       "46665                -8              1983-02-28                          M   \n",
       "...                 ...                     ...                        ...   \n",
       "2727528               0              1962-07-08                          M   \n",
       "2733405             111              1910-01-12                          F   \n",
       "2791852               0              1999-02-17                          M   \n",
       "2798130               0              1980-04-24                          M   \n",
       "2804414               0              1971-09-19                          M   \n",
       "\n",
       "         paciente_racaCor_codigo paciente_racaCor_valor  \\\n",
       "15030                         99         SEM INFORMACAO   \n",
       "38305                         99         SEM INFORMACAO   \n",
       "39339                         99         SEM INFORMACAO   \n",
       "41754                         99         SEM INFORMACAO   \n",
       "46665                         99         SEM INFORMACAO   \n",
       "...                          ...                    ...   \n",
       "2727528                       99         SEM INFORMACAO   \n",
       "2733405                        3                  PARDA   \n",
       "2791852                        3                  PARDA   \n",
       "2798130                       99         SEM INFORMACAO   \n",
       "2804414                        4                AMARELA   \n",
       "\n",
       "        paciente_endereco_nmMunicipio paciente_endereco_cep  \\\n",
       "15030                           PICUI                   NaN   \n",
       "38305                       GUARULHOS                  7142   \n",
       "39339                  CAMPINA GRANDE                 58401   \n",
       "41754                  CAMPINA GRANDE                 58401   \n",
       "46665                          MACEIO                  None   \n",
       "...                               ...                   ...   \n",
       "2727528                        BAYEUX                 58305   \n",
       "2733405                   JOAO PESSOA                 58078   \n",
       "2791852                   JOAO PESSOA                 58034   \n",
       "2798130                CAMPINA GRANDE                 58107   \n",
       "2804414                CAMPINA GRANDE                 58400   \n",
       "\n",
       "        estabelecimento_municipio_nome  vacina_grupoAtendimento_codigo  \\\n",
       "15030                            PICUI                             917   \n",
       "38305                            SOUSA                             207   \n",
       "39339                   CAMPINA GRANDE                             201   \n",
       "41754                   CAMPINA GRANDE                             201   \n",
       "46665                   CAMPINA GRANDE                             201   \n",
       "...                                ...                             ...   \n",
       "2727528                    JOAO PESSOA                             201   \n",
       "2733405                    JOAO PESSOA                             205   \n",
       "2791852                    JOAO PESSOA                             507   \n",
       "2798130                 CAMPINA GRANDE                             201   \n",
       "2804414                 CAMPINA GRANDE                             201   \n",
       "\n",
       "                  vacina_grupoAtendimento_nome  vacina_categoria_codigo  \\\n",
       "15030    Profissionais e Auxiliares de limpeza                        9   \n",
       "38305                   Pessoas de 5 a 11 anos                        0   \n",
       "39339                  Pessoas de 18 a 64 anos                        2   \n",
       "41754                  Pessoas de 18 a 64 anos                        2   \n",
       "46665                  Pessoas de 18 a 64 anos                        2   \n",
       "...                                        ...                      ...   \n",
       "2727528                Pessoas de 18 a 64 anos                        2   \n",
       "2733405             Pessoas de 80 anos ou mais                        2   \n",
       "2791852                       Policial Militar                        5   \n",
       "2798130                Pessoas de 18 a 64 anos                        2   \n",
       "2804414                Pessoas de 18 a 64 anos                        2   \n",
       "\n",
       "                    vacina_categoria_nome vacina_dataAplicacao  \\\n",
       "15030              Trabalhadores de Saúde           2021-01-28   \n",
       "38305                                 NaN           2022-03-28   \n",
       "39339                        Faixa Etária           1975-02-20   \n",
       "41754                        Faixa Etária           1986-04-20   \n",
       "46665                        Faixa Etária           1974-12-05   \n",
       "...                                   ...                  ...   \n",
       "2727528                      Faixa Etária           1962-06-20   \n",
       "2733405                      Faixa Etária           2021-02-07   \n",
       "2791852  Forças de Segurança e Salvamento           1999-02-17   \n",
       "2798130                      Faixa Etária           1980-04-24   \n",
       "2804414                      Faixa Etária           1971-09-19   \n",
       "\n",
       "        vacina_descricao_dose  vacina_codigo  \\\n",
       "15030                 1ª Dose             85   \n",
       "38305                 2ª Dose             86   \n",
       "39339                 1ª Dose             88   \n",
       "41754                 Reforço             87   \n",
       "46665                 2ª Dose             86   \n",
       "...                       ...            ...   \n",
       "2727528               1ª Dose             87   \n",
       "2733405               1ª Dose             86   \n",
       "2791852               2ª Dose             85   \n",
       "2798130               2ª Dose             85   \n",
       "2804414               1ª Dose             88   \n",
       "\n",
       "                                       vacina_nome  \\\n",
       "15030    COVID-19 ASTRAZENECA/FIOCRUZ - COVISHIELD   \n",
       "38305        COVID-19 SINOVAC/BUTANTAN - CORONAVAC   \n",
       "39339               COVID-19 JANSSEN - Ad26.COV2.S   \n",
       "41754                  COVID-19 PFIZER - COMIRNATY   \n",
       "46665        COVID-19 SINOVAC/BUTANTAN - CORONAVAC   \n",
       "...                                            ...   \n",
       "2727528                COVID-19 PFIZER - COMIRNATY   \n",
       "2733405      COVID-19 SINOVAC/BUTANTAN - CORONAVAC   \n",
       "2791852  COVID-19 ASTRAZENECA/FIOCRUZ - COVISHIELD   \n",
       "2798130  COVID-19 ASTRAZENECA/FIOCRUZ - COVISHIELD   \n",
       "2804414             COVID-19 JANSSEN - Ad26.COV2.S   \n",
       "\n",
       "                                               paciente_id  \n",
       "15030    f1c3b1a19f65bc23f26fd66ad23411e8ce0583295b8471...  \n",
       "38305    2148017dbfa2015a4ed271aac5dcadeca60557c279e51c...  \n",
       "39339    046d325facf10e1f13f78e4e9195cb2dc27953e5075484...  \n",
       "41754    0469ebe1ad08f5040adca17ec248430e5fbf112b749c47...  \n",
       "46665    22618b1bff1b85fa4c238413d60891763eb37fcacf7cdf...  \n",
       "...                                                    ...  \n",
       "2727528  e41bf7e6e369aa29e6d26ec77d1d8daa0f60a924a4cbcc...  \n",
       "2733405  dbe3f058be16f383a8392fbb4f89681caf441363366bfa...  \n",
       "2791852  7f5626eb38d0699cd1c44aef7dfc61bc02ab1589d35433...  \n",
       "2798130  dc02c8fb8b211283163a6d8680bbb81216e0831436bf94...  \n",
       "2804414  8bc871997214001428bba2bce2b02516b697aa1ae50cae...  \n",
       "\n",
       "[185 rows x 17 columns]"
      ]
     },
     "execution_count": 3,
     "metadata": {},
     "output_type": "execute_result"
    }
   ],
   "source": [
    "drop_this = vax_df.loc[(vax_df.paciente_idade > 110) | (vax_df.paciente_idade < 5) | (vax_df.vacina_dataAplicacao < pd.Timestamp(2021, 1, 17))]\n",
    "\n",
    "drop_this"
   ]
  },
  {
   "cell_type": "code",
   "execution_count": 4,
   "metadata": {},
   "outputs": [
    {
     "data": {
      "text/plain": [
       "185"
      ]
     },
     "execution_count": 4,
     "metadata": {},
     "output_type": "execute_result"
    }
   ],
   "source": [
    "len(drop_this)"
   ]
  },
  {
   "cell_type": "code",
   "execution_count": 5,
   "metadata": {},
   "outputs": [],
   "source": [
    "vax_df.drop(drop_this.index, inplace = True)"
   ]
  },
  {
   "cell_type": "markdown",
   "metadata": {},
   "source": [
    "### Deletando as linhas incoerentes\n"
   ]
  },
  {
   "cell_type": "code",
   "execution_count": 6,
   "metadata": {},
   "outputs": [],
   "source": [
    "vax_df.vacina_dataAplicacao = pd.to_datetime(vax_df.vacina_dataAplicacao)"
   ]
  },
  {
   "cell_type": "code",
   "execution_count": 7,
   "metadata": {},
   "outputs": [
    {
     "data": {
      "text/html": [
       "<div>\n",
       "<style scoped>\n",
       "    .dataframe tbody tr th:only-of-type {\n",
       "        vertical-align: middle;\n",
       "    }\n",
       "\n",
       "    .dataframe tbody tr th {\n",
       "        vertical-align: top;\n",
       "    }\n",
       "\n",
       "    .dataframe thead th {\n",
       "        text-align: right;\n",
       "    }\n",
       "</style>\n",
       "<table border=\"1\" class=\"dataframe\">\n",
       "  <thead>\n",
       "    <tr style=\"text-align: right;\">\n",
       "      <th></th>\n",
       "      <th>paciente_idade</th>\n",
       "      <th>paciente_dataNascimento</th>\n",
       "      <th>paciente_enumSexoBiologico</th>\n",
       "      <th>paciente_racaCor_codigo</th>\n",
       "      <th>paciente_racaCor_valor</th>\n",
       "      <th>paciente_endereco_nmMunicipio</th>\n",
       "      <th>paciente_endereco_cep</th>\n",
       "      <th>estabelecimento_municipio_nome</th>\n",
       "      <th>vacina_grupoAtendimento_codigo</th>\n",
       "      <th>vacina_grupoAtendimento_nome</th>\n",
       "      <th>vacina_categoria_codigo</th>\n",
       "      <th>vacina_categoria_nome</th>\n",
       "      <th>vacina_dataAplicacao</th>\n",
       "      <th>vacina_descricao_dose</th>\n",
       "      <th>vacina_codigo</th>\n",
       "      <th>vacina_nome</th>\n",
       "      <th>paciente_id</th>\n",
       "    </tr>\n",
       "  </thead>\n",
       "  <tbody>\n",
       "  </tbody>\n",
       "</table>\n",
       "</div>"
      ],
      "text/plain": [
       "Empty DataFrame\n",
       "Columns: [paciente_idade, paciente_dataNascimento, paciente_enumSexoBiologico, paciente_racaCor_codigo, paciente_racaCor_valor, paciente_endereco_nmMunicipio, paciente_endereco_cep, estabelecimento_municipio_nome, vacina_grupoAtendimento_codigo, vacina_grupoAtendimento_nome, vacina_categoria_codigo, vacina_categoria_nome, vacina_dataAplicacao, vacina_descricao_dose, vacina_codigo, vacina_nome, paciente_id]\n",
       "Index: []"
      ]
     },
     "execution_count": 7,
     "metadata": {},
     "output_type": "execute_result"
    }
   ],
   "source": [
    "drop_this = vax_df.loc[(vax_df.paciente_idade > 110) | (vax_df.paciente_idade < 5) | (vax_df.vacina_dataAplicacao < pd.Timestamp(2021, 1, 17))]\n",
    "\n",
    "drop_this"
   ]
  },
  {
   "cell_type": "code",
   "execution_count": 8,
   "metadata": {},
   "outputs": [],
   "source": [
    "vax_df.drop(drop_this.index, inplace = True)"
   ]
  },
  {
   "cell_type": "markdown",
   "metadata": {},
   "source": [
    "Inicialmente, foi verificado a presença de duplicação para o nome do fabricante das vacinas. A exemplo de _COVID-19 SINOVAC/BUTANTAN - CORONAVAC_ e _COVID-19 SINOVAC - CORONAVAC_ que implicam o mesmo produto, porém estão tipadas com nomes diferentes."
   ]
  },
  {
   "cell_type": "code",
   "execution_count": 9,
   "metadata": {},
   "outputs": [
    {
     "data": {
      "text/html": [
       "<div>\n",
       "<style scoped>\n",
       "    .dataframe tbody tr th:only-of-type {\n",
       "        vertical-align: middle;\n",
       "    }\n",
       "\n",
       "    .dataframe tbody tr th {\n",
       "        vertical-align: top;\n",
       "    }\n",
       "\n",
       "    .dataframe thead th {\n",
       "        text-align: right;\n",
       "    }\n",
       "</style>\n",
       "<table border=\"1\" class=\"dataframe\">\n",
       "  <thead>\n",
       "    <tr style=\"text-align: right;\">\n",
       "      <th></th>\n",
       "      <th>vacina_nome</th>\n",
       "    </tr>\n",
       "  </thead>\n",
       "  <tbody>\n",
       "    <tr>\n",
       "      <th>0</th>\n",
       "      <td>COVID-19 ASTRAZENECA - ChAdOx1-S</td>\n",
       "    </tr>\n",
       "    <tr>\n",
       "      <th>1</th>\n",
       "      <td>COVID-19 ASTRAZENECA/FIOCRUZ - COVISHIELD</td>\n",
       "    </tr>\n",
       "    <tr>\n",
       "      <th>2</th>\n",
       "      <td>COVID-19 JANSSEN - Ad26.COV2.S</td>\n",
       "    </tr>\n",
       "    <tr>\n",
       "      <th>3</th>\n",
       "      <td>COVID-19 PEDIÁTRICA - PFIZER COMIRNATY</td>\n",
       "    </tr>\n",
       "    <tr>\n",
       "      <th>4</th>\n",
       "      <td>COVID-19 PFIZER - COMIRNATY</td>\n",
       "    </tr>\n",
       "    <tr>\n",
       "      <th>5</th>\n",
       "      <td>COVID-19 SINOVAC - CORONAVAC</td>\n",
       "    </tr>\n",
       "    <tr>\n",
       "      <th>6</th>\n",
       "      <td>COVID-19 SINOVAC/BUTANTAN - CORONAVAC</td>\n",
       "    </tr>\n",
       "  </tbody>\n",
       "</table>\n",
       "</div>"
      ],
      "text/plain": [
       "                                 vacina_nome\n",
       "0           COVID-19 ASTRAZENECA - ChAdOx1-S\n",
       "1  COVID-19 ASTRAZENECA/FIOCRUZ - COVISHIELD\n",
       "2             COVID-19 JANSSEN - Ad26.COV2.S\n",
       "3     COVID-19 PEDIÁTRICA - PFIZER COMIRNATY\n",
       "4                COVID-19 PFIZER - COMIRNATY\n",
       "5               COVID-19 SINOVAC - CORONAVAC\n",
       "6      COVID-19 SINOVAC/BUTANTAN - CORONAVAC"
      ]
     },
     "execution_count": 9,
     "metadata": {},
     "output_type": "execute_result"
    }
   ],
   "source": [
    "vax_names = pd.DataFrame({\"vacina_nome\": vax_df.vacina_nome.sort_values().unique()})\n",
    "vax_names"
   ]
  },
  {
   "cell_type": "markdown",
   "metadata": {},
   "source": [
    "### Removendo a duplicação do nome das vacinas"
   ]
  },
  {
   "cell_type": "code",
   "execution_count": 10,
   "metadata": {},
   "outputs": [],
   "source": [
    "fix_vaxs.rename_vax(vax_df)\n",
    "#Unificando o código das vacinas duplicadas\n",
    "fix_vaxs.update_vax_code(vax_df)"
   ]
  },
  {
   "cell_type": "code",
   "execution_count": 11,
   "metadata": {},
   "outputs": [
    {
     "data": {
      "text/html": [
       "<div>\n",
       "<style scoped>\n",
       "    .dataframe tbody tr th:only-of-type {\n",
       "        vertical-align: middle;\n",
       "    }\n",
       "\n",
       "    .dataframe tbody tr th {\n",
       "        vertical-align: top;\n",
       "    }\n",
       "\n",
       "    .dataframe thead th {\n",
       "        text-align: right;\n",
       "    }\n",
       "</style>\n",
       "<table border=\"1\" class=\"dataframe\">\n",
       "  <thead>\n",
       "    <tr style=\"text-align: right;\">\n",
       "      <th></th>\n",
       "      <th>vacina_nome</th>\n",
       "    </tr>\n",
       "  </thead>\n",
       "  <tbody>\n",
       "    <tr>\n",
       "      <th>0</th>\n",
       "      <td>ASTRAZENECA</td>\n",
       "    </tr>\n",
       "    <tr>\n",
       "      <th>1</th>\n",
       "      <td>CORONAVAC</td>\n",
       "    </tr>\n",
       "    <tr>\n",
       "      <th>2</th>\n",
       "      <td>JANSEN</td>\n",
       "    </tr>\n",
       "    <tr>\n",
       "      <th>3</th>\n",
       "      <td>PFIZER</td>\n",
       "    </tr>\n",
       "    <tr>\n",
       "      <th>4</th>\n",
       "      <td>PFIZER PEDIÁTRICA</td>\n",
       "    </tr>\n",
       "  </tbody>\n",
       "</table>\n",
       "</div>"
      ],
      "text/plain": [
       "         vacina_nome\n",
       "0        ASTRAZENECA\n",
       "1          CORONAVAC\n",
       "2             JANSEN\n",
       "3             PFIZER\n",
       "4  PFIZER PEDIÁTRICA"
      ]
     },
     "execution_count": 11,
     "metadata": {},
     "output_type": "execute_result"
    }
   ],
   "source": [
    "vax_names = pd.DataFrame({\"vacina_nome\": vax_df.vacina_nome.sort_values().unique()})\n",
    "vax_names"
   ]
  },
  {
   "cell_type": "markdown",
   "metadata": {},
   "source": [
    "Ainda na exploração inicial, foi verificado a presença de duplicação para a descrição das doses aplicadas. A exemplo de 'Dose Inicial' e '1ª Dose' que implicam o mesmo sentido, porém estão tipadas com nomes diferentes."
   ]
  },
  {
   "cell_type": "code",
   "execution_count": 12,
   "metadata": {},
   "outputs": [
    {
     "data": {
      "text/html": [
       "<div>\n",
       "<style scoped>\n",
       "    .dataframe tbody tr th:only-of-type {\n",
       "        vertical-align: middle;\n",
       "    }\n",
       "\n",
       "    .dataframe tbody tr th {\n",
       "        vertical-align: top;\n",
       "    }\n",
       "\n",
       "    .dataframe thead th {\n",
       "        text-align: right;\n",
       "    }\n",
       "</style>\n",
       "<table border=\"1\" class=\"dataframe\">\n",
       "  <thead>\n",
       "    <tr style=\"text-align: right;\">\n",
       "      <th></th>\n",
       "      <th>vacina_descricao_dose</th>\n",
       "    </tr>\n",
       "  </thead>\n",
       "  <tbody>\n",
       "    <tr>\n",
       "      <th>0</th>\n",
       "      <td>1ª Dose</td>\n",
       "    </tr>\n",
       "    <tr>\n",
       "      <th>1</th>\n",
       "      <td>2ª Dose</td>\n",
       "    </tr>\n",
       "    <tr>\n",
       "      <th>2</th>\n",
       "      <td>2ª Dose Revacinação</td>\n",
       "    </tr>\n",
       "    <tr>\n",
       "      <th>3</th>\n",
       "      <td>2º Reforço</td>\n",
       "    </tr>\n",
       "    <tr>\n",
       "      <th>4</th>\n",
       "      <td>3ª Dose</td>\n",
       "    </tr>\n",
       "    <tr>\n",
       "      <th>5</th>\n",
       "      <td>4ª Dose</td>\n",
       "    </tr>\n",
       "    <tr>\n",
       "      <th>6</th>\n",
       "      <td>Dose</td>\n",
       "    </tr>\n",
       "    <tr>\n",
       "      <th>7</th>\n",
       "      <td>Dose Adicional</td>\n",
       "    </tr>\n",
       "    <tr>\n",
       "      <th>8</th>\n",
       "      <td>Dose Inicial</td>\n",
       "    </tr>\n",
       "    <tr>\n",
       "      <th>9</th>\n",
       "      <td>Reforço</td>\n",
       "    </tr>\n",
       "    <tr>\n",
       "      <th>10</th>\n",
       "      <td>Única</td>\n",
       "    </tr>\n",
       "  </tbody>\n",
       "</table>\n",
       "</div>"
      ],
      "text/plain": [
       "   vacina_descricao_dose\n",
       "0                1ª Dose\n",
       "1                2ª Dose\n",
       "2    2ª Dose Revacinação\n",
       "3             2º Reforço\n",
       "4                3ª Dose\n",
       "5                4ª Dose\n",
       "6                   Dose\n",
       "7         Dose Adicional\n",
       "8           Dose Inicial\n",
       "9                Reforço\n",
       "10                 Única"
      ]
     },
     "execution_count": 12,
     "metadata": {},
     "output_type": "execute_result"
    }
   ],
   "source": [
    "vax_dose = pd.DataFrame({\"vacina_descricao_dose\": vax_df.vacina_descricao_dose.sort_values().unique()})\n",
    "vax_dose\n"
   ]
  },
  {
   "cell_type": "markdown",
   "metadata": {},
   "source": [
    "### Removendo a duplicação da descrição das doses aplicadas"
   ]
  },
  {
   "cell_type": "code",
   "execution_count": 13,
   "metadata": {},
   "outputs": [],
   "source": [
    "fix_vaxs.rename_doses(vax_df)"
   ]
  },
  {
   "cell_type": "code",
   "execution_count": 14,
   "metadata": {},
   "outputs": [
    {
     "data": {
      "text/html": [
       "<div>\n",
       "<style scoped>\n",
       "    .dataframe tbody tr th:only-of-type {\n",
       "        vertical-align: middle;\n",
       "    }\n",
       "\n",
       "    .dataframe tbody tr th {\n",
       "        vertical-align: top;\n",
       "    }\n",
       "\n",
       "    .dataframe thead th {\n",
       "        text-align: right;\n",
       "    }\n",
       "</style>\n",
       "<table border=\"1\" class=\"dataframe\">\n",
       "  <thead>\n",
       "    <tr style=\"text-align: right;\">\n",
       "      <th></th>\n",
       "      <th>vacina_descricao_dose</th>\n",
       "    </tr>\n",
       "  </thead>\n",
       "  <tbody>\n",
       "    <tr>\n",
       "      <th>0</th>\n",
       "      <td>1ª Dose</td>\n",
       "    </tr>\n",
       "    <tr>\n",
       "      <th>1</th>\n",
       "      <td>2ª Dose</td>\n",
       "    </tr>\n",
       "    <tr>\n",
       "      <th>2</th>\n",
       "      <td>2º Reforço</td>\n",
       "    </tr>\n",
       "    <tr>\n",
       "      <th>3</th>\n",
       "      <td>Dose única</td>\n",
       "    </tr>\n",
       "    <tr>\n",
       "      <th>4</th>\n",
       "      <td>Reforço</td>\n",
       "    </tr>\n",
       "  </tbody>\n",
       "</table>\n",
       "</div>"
      ],
      "text/plain": [
       "  vacina_descricao_dose\n",
       "0               1ª Dose\n",
       "1               2ª Dose\n",
       "2            2º Reforço\n",
       "3            Dose única\n",
       "4               Reforço"
      ]
     },
     "execution_count": 14,
     "metadata": {},
     "output_type": "execute_result"
    }
   ],
   "source": [
    "vax_dose = pd.DataFrame({\"vacina_descricao_dose\": vax_df.vacina_descricao_dose.sort_values().unique()})\n",
    "vax_dose\n"
   ]
  },
  {
   "cell_type": "markdown",
   "metadata": {},
   "source": [
    "## Exploração inicial"
   ]
  },
  {
   "cell_type": "markdown",
   "metadata": {},
   "source": [
    "O dataset `dados_vacinacao.csv` tem informações sobre doses individuais da vacina contra COVID-19 aplicada pelo SUS no estado da Paraíba."
   ]
  },
  {
   "cell_type": "code",
   "execution_count": 15,
   "metadata": {},
   "outputs": [
    {
     "data": {
      "text/html": [
       "<div>\n",
       "<style scoped>\n",
       "    .dataframe tbody tr th:only-of-type {\n",
       "        vertical-align: middle;\n",
       "    }\n",
       "\n",
       "    .dataframe tbody tr th {\n",
       "        vertical-align: top;\n",
       "    }\n",
       "\n",
       "    .dataframe thead th {\n",
       "        text-align: right;\n",
       "    }\n",
       "</style>\n",
       "<table border=\"1\" class=\"dataframe\">\n",
       "  <thead>\n",
       "    <tr style=\"text-align: right;\">\n",
       "      <th></th>\n",
       "      <th>paciente_idade</th>\n",
       "      <th>paciente_dataNascimento</th>\n",
       "      <th>paciente_enumSexoBiologico</th>\n",
       "      <th>paciente_racaCor_codigo</th>\n",
       "      <th>paciente_racaCor_valor</th>\n",
       "      <th>paciente_endereco_nmMunicipio</th>\n",
       "      <th>paciente_endereco_cep</th>\n",
       "      <th>estabelecimento_municipio_nome</th>\n",
       "      <th>vacina_grupoAtendimento_codigo</th>\n",
       "      <th>vacina_grupoAtendimento_nome</th>\n",
       "      <th>vacina_categoria_codigo</th>\n",
       "      <th>vacina_categoria_nome</th>\n",
       "      <th>vacina_dataAplicacao</th>\n",
       "      <th>vacina_descricao_dose</th>\n",
       "      <th>vacina_codigo</th>\n",
       "      <th>vacina_nome</th>\n",
       "      <th>paciente_id</th>\n",
       "    </tr>\n",
       "  </thead>\n",
       "  <tbody>\n",
       "    <tr>\n",
       "      <th>0</th>\n",
       "      <td>44</td>\n",
       "      <td>1977-04-18</td>\n",
       "      <td>M</td>\n",
       "      <td>1</td>\n",
       "      <td>BRANCA</td>\n",
       "      <td>ARAPIRACA</td>\n",
       "      <td>57510</td>\n",
       "      <td>PATOS</td>\n",
       "      <td>912</td>\n",
       "      <td>Médico</td>\n",
       "      <td>9</td>\n",
       "      <td>Trabalhadores de Saúde</td>\n",
       "      <td>2021-11-11</td>\n",
       "      <td>Reforço</td>\n",
       "      <td>87</td>\n",
       "      <td>PFIZER</td>\n",
       "      <td>f9495cb04daf5adb495d22c9c88b31883f191fb762ab27...</td>\n",
       "    </tr>\n",
       "    <tr>\n",
       "      <th>1</th>\n",
       "      <td>5</td>\n",
       "      <td>2016-11-18</td>\n",
       "      <td>M</td>\n",
       "      <td>1</td>\n",
       "      <td>BRANCA</td>\n",
       "      <td>PARELHAS</td>\n",
       "      <td>None</td>\n",
       "      <td>CAMPINA GRANDE</td>\n",
       "      <td>207</td>\n",
       "      <td>Pessoas de 5 a 11 anos</td>\n",
       "      <td>0</td>\n",
       "      <td>NaN</td>\n",
       "      <td>2022-02-07</td>\n",
       "      <td>1ª Dose</td>\n",
       "      <td>99</td>\n",
       "      <td>PFIZER PEDIÁTRICA</td>\n",
       "      <td>52288faace8c986872faca7101868ae8a23fefd435cd51...</td>\n",
       "    </tr>\n",
       "    <tr>\n",
       "      <th>2</th>\n",
       "      <td>39</td>\n",
       "      <td>1982-01-23</td>\n",
       "      <td>F</td>\n",
       "      <td>99</td>\n",
       "      <td>SEM INFORMACAO</td>\n",
       "      <td>CAMPINA GRANDE</td>\n",
       "      <td>58410</td>\n",
       "      <td>CAMPINA GRANDE</td>\n",
       "      <td>201</td>\n",
       "      <td>Pessoas de 18 a 64 anos</td>\n",
       "      <td>2</td>\n",
       "      <td>Faixa Etária</td>\n",
       "      <td>2021-07-16</td>\n",
       "      <td>1ª Dose</td>\n",
       "      <td>85</td>\n",
       "      <td>ASTRAZENECA</td>\n",
       "      <td>0ffaed327aac7fe8abf0b35471b0b1fa60f9fc48ff7d9c...</td>\n",
       "    </tr>\n",
       "    <tr>\n",
       "      <th>3</th>\n",
       "      <td>33</td>\n",
       "      <td>1988-07-20</td>\n",
       "      <td>M</td>\n",
       "      <td>2</td>\n",
       "      <td>PRETA</td>\n",
       "      <td>BAYEUX</td>\n",
       "      <td>58110</td>\n",
       "      <td>BAYEUX</td>\n",
       "      <td>201</td>\n",
       "      <td>Pessoas de 18 a 64 anos</td>\n",
       "      <td>2</td>\n",
       "      <td>Faixa Etária</td>\n",
       "      <td>2021-07-23</td>\n",
       "      <td>1ª Dose</td>\n",
       "      <td>85</td>\n",
       "      <td>ASTRAZENECA</td>\n",
       "      <td>fe78cee14dce3436024728b1d760439861021207a32712...</td>\n",
       "    </tr>\n",
       "    <tr>\n",
       "      <th>4</th>\n",
       "      <td>27</td>\n",
       "      <td>1994-03-22</td>\n",
       "      <td>M</td>\n",
       "      <td>3</td>\n",
       "      <td>PARDA</td>\n",
       "      <td>JOAO PESSOA</td>\n",
       "      <td>58058</td>\n",
       "      <td>JOAO PESSOA</td>\n",
       "      <td>201</td>\n",
       "      <td>Pessoas de 18 a 64 anos</td>\n",
       "      <td>2</td>\n",
       "      <td>Faixa Etária</td>\n",
       "      <td>2021-12-07</td>\n",
       "      <td>2ª Dose</td>\n",
       "      <td>87</td>\n",
       "      <td>PFIZER</td>\n",
       "      <td>470944c18359d6a1fea2a53194d29bfdb7ce1d21b47979...</td>\n",
       "    </tr>\n",
       "  </tbody>\n",
       "</table>\n",
       "</div>"
      ],
      "text/plain": [
       "   paciente_idade paciente_dataNascimento paciente_enumSexoBiologico  \\\n",
       "0              44              1977-04-18                          M   \n",
       "1               5              2016-11-18                          M   \n",
       "2              39              1982-01-23                          F   \n",
       "3              33              1988-07-20                          M   \n",
       "4              27              1994-03-22                          M   \n",
       "\n",
       "   paciente_racaCor_codigo paciente_racaCor_valor  \\\n",
       "0                        1                 BRANCA   \n",
       "1                        1                 BRANCA   \n",
       "2                       99         SEM INFORMACAO   \n",
       "3                        2                  PRETA   \n",
       "4                        3                  PARDA   \n",
       "\n",
       "  paciente_endereco_nmMunicipio paciente_endereco_cep  \\\n",
       "0                     ARAPIRACA                 57510   \n",
       "1                      PARELHAS                  None   \n",
       "2                CAMPINA GRANDE                 58410   \n",
       "3                        BAYEUX                 58110   \n",
       "4                   JOAO PESSOA                 58058   \n",
       "\n",
       "  estabelecimento_municipio_nome  vacina_grupoAtendimento_codigo  \\\n",
       "0                          PATOS                             912   \n",
       "1                 CAMPINA GRANDE                             207   \n",
       "2                 CAMPINA GRANDE                             201   \n",
       "3                         BAYEUX                             201   \n",
       "4                    JOAO PESSOA                             201   \n",
       "\n",
       "  vacina_grupoAtendimento_nome  vacina_categoria_codigo  \\\n",
       "0                       Médico                        9   \n",
       "1       Pessoas de 5 a 11 anos                        0   \n",
       "2      Pessoas de 18 a 64 anos                        2   \n",
       "3      Pessoas de 18 a 64 anos                        2   \n",
       "4      Pessoas de 18 a 64 anos                        2   \n",
       "\n",
       "    vacina_categoria_nome vacina_dataAplicacao vacina_descricao_dose  \\\n",
       "0  Trabalhadores de Saúde           2021-11-11               Reforço   \n",
       "1                     NaN           2022-02-07               1ª Dose   \n",
       "2            Faixa Etária           2021-07-16               1ª Dose   \n",
       "3            Faixa Etária           2021-07-23               1ª Dose   \n",
       "4            Faixa Etária           2021-12-07               2ª Dose   \n",
       "\n",
       "   vacina_codigo        vacina_nome  \\\n",
       "0             87             PFIZER   \n",
       "1             99  PFIZER PEDIÁTRICA   \n",
       "2             85        ASTRAZENECA   \n",
       "3             85        ASTRAZENECA   \n",
       "4             87             PFIZER   \n",
       "\n",
       "                                         paciente_id  \n",
       "0  f9495cb04daf5adb495d22c9c88b31883f191fb762ab27...  \n",
       "1  52288faace8c986872faca7101868ae8a23fefd435cd51...  \n",
       "2  0ffaed327aac7fe8abf0b35471b0b1fa60f9fc48ff7d9c...  \n",
       "3  fe78cee14dce3436024728b1d760439861021207a32712...  \n",
       "4  470944c18359d6a1fea2a53194d29bfdb7ce1d21b47979...  "
      ]
     },
     "execution_count": 15,
     "metadata": {},
     "output_type": "execute_result"
    }
   ],
   "source": [
    "vax_df.head()"
   ]
  },
  {
   "cell_type": "markdown",
   "metadata": {},
   "source": [
    "Usando a função describe, calculamos rapidamente algumas medidas de centralidade e dispersão para a variável idade:\n",
    "\n",
    "* Temos 2.806.755 entradas;\n",
    "* A média de idades é 41,16 anos, com desvio padrão de 20,21 anos;\n",
    "* O valor mínimo entre as idades é 0 anos;\n",
    "* O valor máximo entre as idades é 115 anos;\n",
    "* O primeiro quartil é 25 anos, a mediana é 39, o terceiro quartil é 56 anos."
   ]
  },
  {
   "cell_type": "code",
   "execution_count": 16,
   "metadata": {},
   "outputs": [
    {
     "data": {
      "text/plain": [
       "count    2.806607e+06\n",
       "mean     4.116460e+01\n",
       "std      2.021475e+01\n",
       "min      5.000000e+00\n",
       "25%      2.500000e+01\n",
       "50%      3.900000e+01\n",
       "75%      5.600000e+01\n",
       "max      1.100000e+02\n",
       "Name: paciente_idade, dtype: float64"
      ]
     },
     "execution_count": 16,
     "metadata": {},
     "output_type": "execute_result"
    }
   ],
   "source": [
    "vax_df[\"paciente_idade\"].describe()"
   ]
  },
  {
   "cell_type": "markdown",
   "metadata": {},
   "source": [
    "Observamos que temos valores bem próximos de média, mediana e moda para essa variável (41.16, 39 e 39, respectivamente)."
   ]
  },
  {
   "cell_type": "code",
   "execution_count": 17,
   "metadata": {},
   "outputs": [
    {
     "data": {
      "text/plain": [
       "0    39\n",
       "dtype: int64"
      ]
     },
     "execution_count": 17,
     "metadata": {},
     "output_type": "execute_result"
    }
   ],
   "source": [
    "vax_df[\"paciente_idade\"].mode()"
   ]
  },
  {
   "cell_type": "markdown",
   "metadata": {},
   "source": [
    "O dataset `dados_pb.csv` tem informações sobre o COVID-19 em todos os municípios da Paraíba, atualizado por último no dia 22/08/21. Dentre outras informações conforme o último censo realizado pelo IBGE."
   ]
  },
  {
   "cell_type": "code",
   "execution_count": 18,
   "metadata": {},
   "outputs": [
    {
     "data": {
      "text/html": [
       "<div>\n",
       "<style scoped>\n",
       "    .dataframe tbody tr th:only-of-type {\n",
       "        vertical-align: middle;\n",
       "    }\n",
       "\n",
       "    .dataframe tbody tr th {\n",
       "        vertical-align: top;\n",
       "    }\n",
       "\n",
       "    .dataframe thead th {\n",
       "        text-align: right;\n",
       "    }\n",
       "</style>\n",
       "<table border=\"1\" class=\"dataframe\">\n",
       "  <thead>\n",
       "    <tr style=\"text-align: right;\">\n",
       "      <th></th>\n",
       "      <th>date</th>\n",
       "      <th>city</th>\n",
       "      <th>confirmed</th>\n",
       "      <th>deaths</th>\n",
       "      <th>estimated_population</th>\n",
       "      <th>confirmed_per_100k_inhabitants</th>\n",
       "      <th>death_rate</th>\n",
       "      <th>pib_per_capita</th>\n",
       "      <th>n_vaccinations</th>\n",
       "      <th>demographic_density</th>\n",
       "    </tr>\n",
       "  </thead>\n",
       "  <tbody>\n",
       "    <tr>\n",
       "      <th>0</th>\n",
       "      <td>2021-08-22</td>\n",
       "      <td>AGUA BRANCA</td>\n",
       "      <td>1128</td>\n",
       "      <td>14</td>\n",
       "      <td>10306</td>\n",
       "      <td>10945.08054</td>\n",
       "      <td>0.0124</td>\n",
       "      <td>8074.16</td>\n",
       "      <td>6754</td>\n",
       "      <td>39.94</td>\n",
       "    </tr>\n",
       "    <tr>\n",
       "      <th>1</th>\n",
       "      <td>2021-08-22</td>\n",
       "      <td>AGUIAR</td>\n",
       "      <td>528</td>\n",
       "      <td>5</td>\n",
       "      <td>5630</td>\n",
       "      <td>9378.33037</td>\n",
       "      <td>0.0095</td>\n",
       "      <td>8897.54</td>\n",
       "      <td>3790</td>\n",
       "      <td>16.04</td>\n",
       "    </tr>\n",
       "    <tr>\n",
       "      <th>2</th>\n",
       "      <td>2021-08-22</td>\n",
       "      <td>ALAGOA GRANDE</td>\n",
       "      <td>4117</td>\n",
       "      <td>72</td>\n",
       "      <td>28439</td>\n",
       "      <td>14476.59904</td>\n",
       "      <td>0.0175</td>\n",
       "      <td>9699.38</td>\n",
       "      <td>21931</td>\n",
       "      <td>88.84</td>\n",
       "    </tr>\n",
       "    <tr>\n",
       "      <th>3</th>\n",
       "      <td>2021-08-22</td>\n",
       "      <td>ALAGOA NOVA</td>\n",
       "      <td>1511</td>\n",
       "      <td>25</td>\n",
       "      <td>20921</td>\n",
       "      <td>7222.40811</td>\n",
       "      <td>0.0165</td>\n",
       "      <td>15631.55</td>\n",
       "      <td>14518</td>\n",
       "      <td>160.98</td>\n",
       "    </tr>\n",
       "    <tr>\n",
       "      <th>4</th>\n",
       "      <td>2021-08-22</td>\n",
       "      <td>ALAGOINHA</td>\n",
       "      <td>2072</td>\n",
       "      <td>25</td>\n",
       "      <td>14560</td>\n",
       "      <td>14230.76923</td>\n",
       "      <td>0.0121</td>\n",
       "      <td>7934.57</td>\n",
       "      <td>9389</td>\n",
       "      <td>139.99</td>\n",
       "    </tr>\n",
       "  </tbody>\n",
       "</table>\n",
       "</div>"
      ],
      "text/plain": [
       "         date           city  confirmed  deaths  estimated_population  \\\n",
       "0  2021-08-22    AGUA BRANCA       1128      14                 10306   \n",
       "1  2021-08-22         AGUIAR        528       5                  5630   \n",
       "2  2021-08-22  ALAGOA GRANDE       4117      72                 28439   \n",
       "3  2021-08-22    ALAGOA NOVA       1511      25                 20921   \n",
       "4  2021-08-22      ALAGOINHA       2072      25                 14560   \n",
       "\n",
       "   confirmed_per_100k_inhabitants  death_rate  pib_per_capita  n_vaccinations  \\\n",
       "0                     10945.08054      0.0124         8074.16            6754   \n",
       "1                      9378.33037      0.0095         8897.54            3790   \n",
       "2                     14476.59904      0.0175         9699.38           21931   \n",
       "3                      7222.40811      0.0165        15631.55           14518   \n",
       "4                     14230.76923      0.0121         7934.57            9389   \n",
       "\n",
       "   demographic_density  \n",
       "0                39.94  \n",
       "1                16.04  \n",
       "2                88.84  \n",
       "3               160.98  \n",
       "4               139.99  "
      ]
     },
     "execution_count": 18,
     "metadata": {},
     "output_type": "execute_result"
    }
   ],
   "source": [
    "casos_pb_df.head()"
   ]
  },
  {
   "cell_type": "markdown",
   "metadata": {},
   "source": [
    "### Casos confirmados por município\n",
    "\n",
    "Armazenados na coluna `confirmed`"
   ]
  },
  {
   "cell_type": "code",
   "execution_count": 19,
   "metadata": {},
   "outputs": [
    {
     "data": {
      "text/plain": [
       "count       223.000000\n",
       "mean       1930.986547\n",
       "std        7639.848374\n",
       "min          60.000000\n",
       "25%         362.500000\n",
       "50%         655.000000\n",
       "75%        1295.000000\n",
       "max      103940.000000\n",
       "Name: confirmed, dtype: float64"
      ]
     },
     "execution_count": 19,
     "metadata": {},
     "output_type": "execute_result"
    }
   ],
   "source": [
    "casos_pb_df['confirmed'].describe()"
   ]
  },
  {
   "cell_type": "markdown",
   "metadata": {},
   "source": [
    "Usando a função describe, calculamos rapidamente algumas medidas de centralidade e dispersão para a quantidade de casos de cada município.\n",
    "\n",
    "Vemos que a média de casos por município é 1930,98, porém o desvio padrão é 7639,84.\n",
    "\n",
    "Podemos também observar que a diferença entre o valor mínimo, o primeiro quartil e o segundo quartil são próximas, em torno de 300 casos. A diferença entre o segundo quartil e o terceiro quartil é o dobro disso, quase 600. Já a diferença entre o terceiro quartil e o valor máximo é mais de 10.000 casos. Com isso, podemos especular que o valor máximo representa um outlier, ou que poucos municípios (menos de 25%) concentram a maior quantidade de casos de COVID-19 no estado."
   ]
  },
  {
   "cell_type": "code",
   "execution_count": 20,
   "metadata": {},
   "outputs": [
    {
     "data": {
      "text/plain": [
       "count       223.000000\n",
       "mean       1930.986547\n",
       "std        7639.848374\n",
       "min          60.000000\n",
       "25%         362.500000\n",
       "50%         655.000000\n",
       "75%        1295.000000\n",
       "max      103940.000000\n",
       "Name: confirmed, dtype: float64"
      ]
     },
     "execution_count": 20,
     "metadata": {},
     "output_type": "execute_result"
    }
   ],
   "source": [
    "casos_pb_df.confirmed.describe()"
   ]
  },
  {
   "cell_type": "code",
   "execution_count": 21,
   "metadata": {},
   "outputs": [
    {
     "data": {
      "image/png": "[encoded data removed]",
      "text/plain": [
       "<Figure size 1440x432 with 1 Axes>"
      ]
     },
     "metadata": {},
     "output_type": "display_data"
    }
   ],
   "source": [
    "ax = sns.boxplot(data = casos_pb_df , x = 'confirmed', color='cyan')\n",
    "ax.set_title('Boxplot do número de casos confirmados por muncípio', fontsize=28)\n",
    "ax.figure.set_size_inches(20,6)\n",
    "ax.set_xlabel('Casos confirmados', fontsize=20)\n",
    "ax.tick_params(labelsize=16)\n"
   ]
  },
  {
   "cell_type": "code",
   "execution_count": 22,
   "metadata": {},
   "outputs": [
    {
     "data": {
      "text/html": [
       "<div>\n",
       "<style scoped>\n",
       "    .dataframe tbody tr th:only-of-type {\n",
       "        vertical-align: middle;\n",
       "    }\n",
       "\n",
       "    .dataframe tbody tr th {\n",
       "        vertical-align: top;\n",
       "    }\n",
       "\n",
       "    .dataframe thead th {\n",
       "        text-align: right;\n",
       "    }\n",
       "</style>\n",
       "<table border=\"1\" class=\"dataframe\">\n",
       "  <thead>\n",
       "    <tr style=\"text-align: right;\">\n",
       "      <th></th>\n",
       "      <th>date</th>\n",
       "      <th>city</th>\n",
       "      <th>confirmed</th>\n",
       "      <th>deaths</th>\n",
       "      <th>estimated_population</th>\n",
       "      <th>confirmed_per_100k_inhabitants</th>\n",
       "      <th>death_rate</th>\n",
       "      <th>pib_per_capita</th>\n",
       "      <th>n_vaccinations</th>\n",
       "      <th>demographic_density</th>\n",
       "    </tr>\n",
       "  </thead>\n",
       "  <tbody>\n",
       "    <tr>\n",
       "      <th>49</th>\n",
       "      <td>2021-08-22</td>\n",
       "      <td>CAMPINA GRANDE</td>\n",
       "      <td>42778</td>\n",
       "      <td>1084</td>\n",
       "      <td>411807</td>\n",
       "      <td>10387.87587</td>\n",
       "      <td>0.0253</td>\n",
       "      <td>23210.44</td>\n",
       "      <td>266264</td>\n",
       "      <td>648.31</td>\n",
       "    </tr>\n",
       "    <tr>\n",
       "      <th>93</th>\n",
       "      <td>2021-08-22</td>\n",
       "      <td>JOAO PESSOA</td>\n",
       "      <td>103940</td>\n",
       "      <td>2890</td>\n",
       "      <td>817511</td>\n",
       "      <td>12714.20201</td>\n",
       "      <td>0.0278</td>\n",
       "      <td>25768.09</td>\n",
       "      <td>593097</td>\n",
       "      <td>3421.28</td>\n",
       "    </tr>\n",
       "  </tbody>\n",
       "</table>\n",
       "</div>"
      ],
      "text/plain": [
       "          date            city  confirmed  deaths  estimated_population  \\\n",
       "49  2021-08-22  CAMPINA GRANDE      42778    1084                411807   \n",
       "93  2021-08-22     JOAO PESSOA     103940    2890                817511   \n",
       "\n",
       "    confirmed_per_100k_inhabitants  death_rate  pib_per_capita  \\\n",
       "49                     10387.87587      0.0253        23210.44   \n",
       "93                     12714.20201      0.0278        25768.09   \n",
       "\n",
       "    n_vaccinations  demographic_density  \n",
       "49          266264               648.31  \n",
       "93          593097              3421.28  "
      ]
     },
     "execution_count": 22,
     "metadata": {},
     "output_type": "execute_result"
    }
   ],
   "source": [
    "casos_pb_df[casos_pb_df['confirmed'] > 40000]"
   ]
  },
  {
   "cell_type": "markdown",
   "metadata": {},
   "source": [
    "O boxplot que representa a distribuição dos casos por município é extremamente achatado, de tal forma que se torna ilegível. Isso ocorre pois os dois maiores municípios do Estado, João Pessoa e Campina Grande, concentram muitos mais casos que os demais municípios. Além disso, mesmo não os levando em conta, ainda temos muitos casos outliers além deles. Isso nos mostra que os casos de covid no Estado da Paraíba não estão distribuídos uniformemente entre os municípios, e sim concentrados em focos. "
   ]
  },
  {
   "cell_type": "markdown",
   "metadata": {},
   "source": [
    "### Mortes por COVID-19 confirmadas por município\n",
    "\n",
    "Armazenados na coluna `deaths`"
   ]
  },
  {
   "cell_type": "code",
   "execution_count": 23,
   "metadata": {},
   "outputs": [
    {
     "data": {
      "text/plain": [
       "count     223.000000\n",
       "mean       40.973094\n",
       "std       208.290704\n",
       "min         0.000000\n",
       "25%         6.000000\n",
       "50%        11.000000\n",
       "75%        25.000000\n",
       "max      2890.000000\n",
       "Name: deaths, dtype: float64"
      ]
     },
     "execution_count": 23,
     "metadata": {},
     "output_type": "execute_result"
    }
   ],
   "source": [
    "casos_pb_df.deaths.describe()"
   ]
  },
  {
   "cell_type": "markdown",
   "metadata": {},
   "source": [
    "Similarmente à quantidade de casos, a média de mortes por municípios tem média baixa, 40,97, porém desvio padrão alto, 208,29. \n",
    "\n",
    "Observamos que os valores mínino, e de primeiro, segundo e terceiro quartil são próximos (0, 6, 11 e 25 respectivamente), porém o valor máximo apresenta um salto enorme (2890). Vimos que poucos municípios concentram mais casos e consequentemente devem concentrar mais mortes, mas talvez outro fator para esse fenômeno possa ser o fato que municípios menores têm menos estrutura hospitalar para lidar com casos mais graves da doença, e é comum vermos esses pacientes serem transportados para municípios maiores para melhor tratamento. Dessa forma, caso o paciente venha a óbito, talvez ele seja registrado na capital, por exemplo, ao invés do seu município de origem, inflando mais esses números."
   ]
  },
  {
   "cell_type": "code",
   "execution_count": 24,
   "metadata": {},
   "outputs": [
    {
     "data": {
      "image/png": "[encoded data removed]",
      "text/plain": [
       "<Figure size 1440x432 with 1 Axes>"
      ]
     },
     "metadata": {},
     "output_type": "display_data"
    }
   ],
   "source": [
    "ax = sns.boxplot(data = casos_pb_df , x = 'deaths', color = 'cyan')\n",
    "ax.set_title('Boxplot do nº de mortes confirmadas por COVID-19 na PB (22/08/2021)', fontsize = 28)\n",
    "ax.figure.set_size_inches(20, 6)\n",
    "ax.set_xlabel('Mortes confirmadas', fontsize = 20)\n",
    "ax.tick_params(labelsize = 16)"
   ]
  },
  {
   "cell_type": "code",
   "execution_count": 25,
   "metadata": {},
   "outputs": [
    {
     "data": {
      "text/html": [
       "<div>\n",
       "<style scoped>\n",
       "    .dataframe tbody tr th:only-of-type {\n",
       "        vertical-align: middle;\n",
       "    }\n",
       "\n",
       "    .dataframe tbody tr th {\n",
       "        vertical-align: top;\n",
       "    }\n",
       "\n",
       "    .dataframe thead th {\n",
       "        text-align: right;\n",
       "    }\n",
       "</style>\n",
       "<table border=\"1\" class=\"dataframe\">\n",
       "  <thead>\n",
       "    <tr style=\"text-align: right;\">\n",
       "      <th></th>\n",
       "      <th>date</th>\n",
       "      <th>city</th>\n",
       "      <th>confirmed</th>\n",
       "      <th>deaths</th>\n",
       "      <th>estimated_population</th>\n",
       "      <th>confirmed_per_100k_inhabitants</th>\n",
       "      <th>death_rate</th>\n",
       "      <th>pib_per_capita</th>\n",
       "      <th>n_vaccinations</th>\n",
       "      <th>demographic_density</th>\n",
       "    </tr>\n",
       "  </thead>\n",
       "  <tbody>\n",
       "    <tr>\n",
       "      <th>49</th>\n",
       "      <td>2021-08-22</td>\n",
       "      <td>CAMPINA GRANDE</td>\n",
       "      <td>42778</td>\n",
       "      <td>1084</td>\n",
       "      <td>411807</td>\n",
       "      <td>10387.87587</td>\n",
       "      <td>0.0253</td>\n",
       "      <td>23210.44</td>\n",
       "      <td>266264</td>\n",
       "      <td>648.31</td>\n",
       "    </tr>\n",
       "    <tr>\n",
       "      <th>93</th>\n",
       "      <td>2021-08-22</td>\n",
       "      <td>JOAO PESSOA</td>\n",
       "      <td>103940</td>\n",
       "      <td>2890</td>\n",
       "      <td>817511</td>\n",
       "      <td>12714.20201</td>\n",
       "      <td>0.0278</td>\n",
       "      <td>25768.09</td>\n",
       "      <td>593097</td>\n",
       "      <td>3421.28</td>\n",
       "    </tr>\n",
       "  </tbody>\n",
       "</table>\n",
       "</div>"
      ],
      "text/plain": [
       "          date            city  confirmed  deaths  estimated_population  \\\n",
       "49  2021-08-22  CAMPINA GRANDE      42778    1084                411807   \n",
       "93  2021-08-22     JOAO PESSOA     103940    2890                817511   \n",
       "\n",
       "    confirmed_per_100k_inhabitants  death_rate  pib_per_capita  \\\n",
       "49                     10387.87587      0.0253        23210.44   \n",
       "93                     12714.20201      0.0278        25768.09   \n",
       "\n",
       "    n_vaccinations  demographic_density  \n",
       "49          266264               648.31  \n",
       "93          593097              3421.28  "
      ]
     },
     "execution_count": 25,
     "metadata": {},
     "output_type": "execute_result"
    }
   ],
   "source": [
    "casos_pb_df[casos_pb_df['deaths'] > 1000]"
   ]
  },
  {
   "cell_type": "markdown",
   "metadata": {},
   "source": [
    "Novamente vemos um gráfico boxplot achatado, mostrando que, tal qual os casos de COVID-19, as mortes da doença também se concentram em poucos municípios outliers."
   ]
  },
  {
   "cell_type": "markdown",
   "metadata": {},
   "source": [
    "### População estimada\n",
    "\n",
    "Armazenados na coluna `estimated_population`"
   ]
  },
  {
   "cell_type": "code",
   "execution_count": 26,
   "metadata": {},
   "outputs": [
    {
     "data": {
      "text/plain": [
       "count       223.000000\n",
       "mean      18113.349776\n",
       "std       62236.235680\n",
       "min        1758.000000\n",
       "25%        4551.500000\n",
       "50%        7286.000000\n",
       "75%       15363.000000\n",
       "max      817511.000000\n",
       "Name: estimated_population, dtype: float64"
      ]
     },
     "execution_count": 26,
     "metadata": {},
     "output_type": "execute_result"
    }
   ],
   "source": [
    "casos_pb_df.estimated_population.describe()"
   ]
  },
  {
   "cell_type": "markdown",
   "metadata": {},
   "source": [
    "Observando as medidas de centralidade dos dados de população dos municípios paraibanos, vemos novamente o comportamento apresentado nas variáveis anteriores: média baixa, desvio padrão alto, valores de primeiro, segundo e terceiro quartil próximos com um salto muito grande entre o último e o valor máximo. Isso nos mostra que grande parte da população do estado encontra-se concentrada em poucos municípios.\n",
    "\n",
    "Isso nos mostra que ocorre uma grande concentração de casos e mortes em poucos municípios pois existe essa concentração populacional.\n",
    "\n",
    "Podemos observar isso melhor no gráfico boxplot da variável."
   ]
  },
  {
   "cell_type": "code",
   "execution_count": 27,
   "metadata": {},
   "outputs": [
    {
     "data": {
      "image/png": "[encoded data removed]",
      "text/plain": [
       "<Figure size 1440x432 with 1 Axes>"
      ]
     },
     "metadata": {},
     "output_type": "display_data"
    }
   ],
   "source": [
    "ax = sns.boxplot(data = casos_pb_df , x = 'estimated_population', color = 'cyan')\n",
    "ax.set_title('Boxplot da população estimada nos municípios paraibanos', fontsize = 28)\n",
    "ax.figure.set_size_inches(20, 6)\n",
    "ax.set_xlabel('População estimada', fontsize = 20)\n",
    "ax.tick_params(labelsize = 16)"
   ]
  },
  {
   "cell_type": "markdown",
   "metadata": {},
   "source": [
    "### Casos confirmados a cada 100 mil habitantes por município\n",
    "\n",
    "Armazenados na coluna `confirmed_per_100k_inhabitants`"
   ]
  },
  {
   "cell_type": "code",
   "execution_count": 28,
   "metadata": {},
   "outputs": [
    {
     "data": {
      "text/plain": [
       "count      223.000000\n",
       "mean      9242.325208\n",
       "std       3524.619628\n",
       "min       1623.815970\n",
       "25%       6626.868160\n",
       "50%       8836.278760\n",
       "75%      11430.389445\n",
       "max      18192.675160\n",
       "Name: confirmed_per_100k_inhabitants, dtype: float64"
      ]
     },
     "execution_count": 28,
     "metadata": {},
     "output_type": "execute_result"
    }
   ],
   "source": [
    "casos_pb_df.confirmed_per_100k_inhabitants.describe()"
   ]
  },
  {
   "cell_type": "markdown",
   "metadata": {},
   "source": [
    "Quando calculamos as medidas de centralidade da quantidade de casos relativas à população de cada município, podemos fazer análises mais pontuais, que não são distorcidas pela diferença populacional. Vemos que esses dados são bem menos dispersos que os dados em quantidades absolutas.\n",
    "\n",
    "A média de mortes a cada 100 mil habitantes é 9242.32, o desvio padrão é 3524.61, os quartis são 6626.86, 8836.27 e 11430.38. Os valores mínimo e máximo são 1623.81 e 18192.67. "
   ]
  },
  {
   "cell_type": "code",
   "execution_count": 29,
   "metadata": {},
   "outputs": [
    {
     "data": {
      "image/png": "[encoded data removed]",
      "text/plain": [
       "<Figure size 1440x432 with 1 Axes>"
      ]
     },
     "metadata": {},
     "output_type": "display_data"
    }
   ],
   "source": [
    "ax = sns.boxplot(data = casos_pb_df , x = 'confirmed_per_100k_inhabitants', color = 'cyan')\n",
    "ax.set_title('Boxplot de casos confirmados de COVID-19 a cada 100 mil habitantes na Paraíba', fontsize = 28)\n",
    "ax.figure.set_size_inches(20, 6)\n",
    "ax.set_xlabel('Nº de casos confirmados por 100 mil habitantes', fontsize = 20)\n",
    "ax.tick_params(labelsize = 16)"
   ]
  },
  {
   "cell_type": "markdown",
   "metadata": {},
   "source": [
    "O boxplot dessa váriavel é muito mais legível do que o das variáveis anteriores."
   ]
  },
  {
   "cell_type": "markdown",
   "metadata": {},
   "source": [
    "### Mortalidade da COVID-19 por município\n",
    "\n",
    "Razão entre a quantidade absoluta de mortes e a quantidade absoluta de casos. Armazenados na coluna  `death_rate`"
   ]
  },
  {
   "cell_type": "code",
   "execution_count": 30,
   "metadata": {},
   "outputs": [
    {
     "data": {
      "text/plain": [
       "count    223.000000\n",
       "mean       0.018596\n",
       "std        0.009877\n",
       "min        0.000000\n",
       "25%        0.012100\n",
       "50%        0.017200\n",
       "75%        0.022750\n",
       "max        0.066700\n",
       "Name: death_rate, dtype: float64"
      ]
     },
     "execution_count": 30,
     "metadata": {},
     "output_type": "execute_result"
    }
   ],
   "source": [
    "casos_pb_df.death_rate.describe()"
   ]
  },
  {
   "cell_type": "markdown",
   "metadata": {},
   "source": [
    "A mortalidade média é de 0.018, o desvio padrão é 0.0098. Os quartis são 0.012, 0.017 e 0.022. O valor máximo é 0.066. \n",
    "\n",
    "Vemos um salto muito grande do terceiro quartil para o valor máximo. Os valores quartis ficam todos próximos à média, porém o valor máximo é 3.6 vezes maior que ela. "
   ]
  },
  {
   "cell_type": "code",
   "execution_count": 31,
   "metadata": {},
   "outputs": [
    {
     "data": {
      "image/png": "[encoded data removed]",
      "text/plain": [
       "<Figure size 1440x432 with 1 Axes>"
      ]
     },
     "metadata": {},
     "output_type": "display_data"
    }
   ],
   "source": [
    "ax = sns.boxplot(data = casos_pb_df , x = 'death_rate', color = 'cyan')\n",
    "ax.set_title('Boxplot da taxa de mortalidade por COVID-19 na Paraíba', fontsize = 28)\n",
    "ax.figure.set_size_inches(20, 6)\n",
    "ax.set_xlabel('Taxa de mortalidade', fontsize = 20)\n",
    "ax.tick_params(labelsize = 16)"
   ]
  },
  {
   "cell_type": "code",
   "execution_count": 32,
   "metadata": {},
   "outputs": [
    {
     "data": {
      "text/plain": [
       "8"
      ]
     },
     "execution_count": 32,
     "metadata": {},
     "output_type": "execute_result"
    }
   ],
   "source": [
    "casos_pb_df[casos_pb_df.death_rate > 0.04]['death_rate'].count()"
   ]
  },
  {
   "cell_type": "markdown",
   "metadata": {},
   "source": [
    "Observando o boxplot da mortalidade, vemos que há 8 municípios onde a COVID-19 foi anormalmente mais mortal do que no resto da Paraíba."
   ]
  },
  {
   "cell_type": "markdown",
   "metadata": {},
   "source": [
    "## Comparação com o cenário brasileiro\n",
    "\n",
    "Agora, iremos analisar como esses dados da COVID-19 na Paraíba se comparam com o resto do Brasil.\n",
    "\n",
    "Utilizaremos o mesmo modelo de dataset, desta vez que inclui todos os municípios do país"
   ]
  },
  {
   "cell_type": "code",
   "execution_count": 33,
   "metadata": {},
   "outputs": [
    {
     "data": {
      "text/html": [
       "<div>\n",
       "<style scoped>\n",
       "    .dataframe tbody tr th:only-of-type {\n",
       "        vertical-align: middle;\n",
       "    }\n",
       "\n",
       "    .dataframe tbody tr th {\n",
       "        vertical-align: top;\n",
       "    }\n",
       "\n",
       "    .dataframe thead th {\n",
       "        text-align: right;\n",
       "    }\n",
       "</style>\n",
       "<table border=\"1\" class=\"dataframe\">\n",
       "  <thead>\n",
       "    <tr style=\"text-align: right;\">\n",
       "      <th></th>\n",
       "      <th>date</th>\n",
       "      <th>state</th>\n",
       "      <th>city</th>\n",
       "      <th>place_type</th>\n",
       "      <th>confirmed</th>\n",
       "      <th>deaths</th>\n",
       "      <th>is_last</th>\n",
       "      <th>estimated_population</th>\n",
       "      <th>city_ibge_code</th>\n",
       "      <th>confirmed_per_100k_inhabitants</th>\n",
       "      <th>death_rate</th>\n",
       "    </tr>\n",
       "  </thead>\n",
       "  <tbody>\n",
       "    <tr>\n",
       "      <th>0</th>\n",
       "      <td>2022-03-26</td>\n",
       "      <td>PI</td>\n",
       "      <td>Acauã</td>\n",
       "      <td>city</td>\n",
       "      <td>228</td>\n",
       "      <td>2</td>\n",
       "      <td>True</td>\n",
       "      <td>7102.0</td>\n",
       "      <td>2200053.0</td>\n",
       "      <td>3210.36328</td>\n",
       "      <td>0.0088</td>\n",
       "    </tr>\n",
       "    <tr>\n",
       "      <th>1</th>\n",
       "      <td>2022-03-26</td>\n",
       "      <td>PI</td>\n",
       "      <td>Agricolândia</td>\n",
       "      <td>city</td>\n",
       "      <td>829</td>\n",
       "      <td>10</td>\n",
       "      <td>True</td>\n",
       "      <td>5131.0</td>\n",
       "      <td>2200103.0</td>\n",
       "      <td>16156.69460</td>\n",
       "      <td>0.0121</td>\n",
       "    </tr>\n",
       "    <tr>\n",
       "      <th>2</th>\n",
       "      <td>2022-03-26</td>\n",
       "      <td>PI</td>\n",
       "      <td>Água Branca</td>\n",
       "      <td>city</td>\n",
       "      <td>1702</td>\n",
       "      <td>77</td>\n",
       "      <td>True</td>\n",
       "      <td>17470.0</td>\n",
       "      <td>2200202.0</td>\n",
       "      <td>9742.41557</td>\n",
       "      <td>0.0452</td>\n",
       "    </tr>\n",
       "    <tr>\n",
       "      <th>3</th>\n",
       "      <td>2022-03-26</td>\n",
       "      <td>PI</td>\n",
       "      <td>Alagoinha do Piauí</td>\n",
       "      <td>city</td>\n",
       "      <td>402</td>\n",
       "      <td>13</td>\n",
       "      <td>True</td>\n",
       "      <td>7665.0</td>\n",
       "      <td>2200251.0</td>\n",
       "      <td>5244.61840</td>\n",
       "      <td>0.0323</td>\n",
       "    </tr>\n",
       "    <tr>\n",
       "      <th>4</th>\n",
       "      <td>2022-03-26</td>\n",
       "      <td>PI</td>\n",
       "      <td>Alegrete do Piauí</td>\n",
       "      <td>city</td>\n",
       "      <td>553</td>\n",
       "      <td>9</td>\n",
       "      <td>True</td>\n",
       "      <td>4918.0</td>\n",
       "      <td>2200277.0</td>\n",
       "      <td>11244.40830</td>\n",
       "      <td>0.0163</td>\n",
       "    </tr>\n",
       "  </tbody>\n",
       "</table>\n",
       "</div>"
      ],
      "text/plain": [
       "         date state                city place_type  confirmed  deaths  \\\n",
       "0  2022-03-26    PI               Acauã       city        228       2   \n",
       "1  2022-03-26    PI        Agricolândia       city        829      10   \n",
       "2  2022-03-26    PI         Água Branca       city       1702      77   \n",
       "3  2022-03-26    PI  Alagoinha do Piauí       city        402      13   \n",
       "4  2022-03-26    PI   Alegrete do Piauí       city        553       9   \n",
       "\n",
       "   is_last  estimated_population  city_ibge_code  \\\n",
       "0     True                7102.0       2200053.0   \n",
       "1     True                5131.0       2200103.0   \n",
       "2     True               17470.0       2200202.0   \n",
       "3     True                7665.0       2200251.0   \n",
       "4     True                4918.0       2200277.0   \n",
       "\n",
       "   confirmed_per_100k_inhabitants  death_rate  \n",
       "0                      3210.36328      0.0088  \n",
       "1                     16156.69460      0.0121  \n",
       "2                      9742.41557      0.0452  \n",
       "3                      5244.61840      0.0323  \n",
       "4                     11244.40830      0.0163  "
      ]
     },
     "execution_count": 33,
     "metadata": {},
     "output_type": "execute_result"
    }
   ],
   "source": [
    "casos_br_df.head()"
   ]
  },
  {
   "cell_type": "code",
   "execution_count": 34,
   "metadata": {},
   "outputs": [
    {
     "data": {
      "text/html": [
       "<div>\n",
       "<style scoped>\n",
       "    .dataframe tbody tr th:only-of-type {\n",
       "        vertical-align: middle;\n",
       "    }\n",
       "\n",
       "    .dataframe tbody tr th {\n",
       "        vertical-align: top;\n",
       "    }\n",
       "\n",
       "    .dataframe thead th {\n",
       "        text-align: right;\n",
       "    }\n",
       "</style>\n",
       "<table border=\"1\" class=\"dataframe\">\n",
       "  <thead>\n",
       "    <tr style=\"text-align: right;\">\n",
       "      <th></th>\n",
       "      <th>confirmed</th>\n",
       "      <th>deaths</th>\n",
       "      <th>estimated_population</th>\n",
       "      <th>city_ibge_code</th>\n",
       "      <th>confirmed_per_100k_inhabitants</th>\n",
       "      <th>death_rate</th>\n",
       "    </tr>\n",
       "  </thead>\n",
       "  <tbody>\n",
       "    <tr>\n",
       "      <th>count</th>\n",
       "      <td>5589.000000</td>\n",
       "      <td>5589.000000</td>\n",
       "      <td>5.570000e+03</td>\n",
       "      <td>5.570000e+03</td>\n",
       "      <td>5570.000000</td>\n",
       "      <td>5589.000000</td>\n",
       "    </tr>\n",
       "    <tr>\n",
       "      <th>mean</th>\n",
       "      <td>4213.793165</td>\n",
       "      <td>110.104312</td>\n",
       "      <td>3.801718e+04</td>\n",
       "      <td>3.253591e+06</td>\n",
       "      <td>11403.035463</td>\n",
       "      <td>0.022913</td>\n",
       "    </tr>\n",
       "    <tr>\n",
       "      <th>std</th>\n",
       "      <td>20947.540060</td>\n",
       "      <td>810.330564</td>\n",
       "      <td>2.228930e+05</td>\n",
       "      <td>9.849103e+05</td>\n",
       "      <td>6275.323937</td>\n",
       "      <td>0.014855</td>\n",
       "    </tr>\n",
       "    <tr>\n",
       "      <th>min</th>\n",
       "      <td>0.000000</td>\n",
       "      <td>0.000000</td>\n",
       "      <td>7.760000e+02</td>\n",
       "      <td>1.100015e+06</td>\n",
       "      <td>178.954900</td>\n",
       "      <td>0.000000</td>\n",
       "    </tr>\n",
       "    <tr>\n",
       "      <th>25%</th>\n",
       "      <td>518.000000</td>\n",
       "      <td>9.000000</td>\n",
       "      <td>5.442250e+03</td>\n",
       "      <td>2.512126e+06</td>\n",
       "      <td>6962.299600</td>\n",
       "      <td>0.013900</td>\n",
       "    </tr>\n",
       "    <tr>\n",
       "      <th>50%</th>\n",
       "      <td>1085.000000</td>\n",
       "      <td>22.000000</td>\n",
       "      <td>1.166550e+04</td>\n",
       "      <td>3.146280e+06</td>\n",
       "      <td>10347.400315</td>\n",
       "      <td>0.020300</td>\n",
       "    </tr>\n",
       "    <tr>\n",
       "      <th>75%</th>\n",
       "      <td>2635.000000</td>\n",
       "      <td>54.000000</td>\n",
       "      <td>2.566375e+04</td>\n",
       "      <td>4.119190e+06</td>\n",
       "      <td>14449.463822</td>\n",
       "      <td>0.028500</td>\n",
       "    </tr>\n",
       "    <tr>\n",
       "      <th>max</th>\n",
       "      <td>976214.000000</td>\n",
       "      <td>39352.000000</td>\n",
       "      <td>1.232523e+07</td>\n",
       "      <td>5.300108e+06</td>\n",
       "      <td>51915.708810</td>\n",
       "      <td>0.266700</td>\n",
       "    </tr>\n",
       "  </tbody>\n",
       "</table>\n",
       "</div>"
      ],
      "text/plain": [
       "           confirmed        deaths  estimated_population  city_ibge_code  \\\n",
       "count    5589.000000   5589.000000          5.570000e+03    5.570000e+03   \n",
       "mean     4213.793165    110.104312          3.801718e+04    3.253591e+06   \n",
       "std     20947.540060    810.330564          2.228930e+05    9.849103e+05   \n",
       "min         0.000000      0.000000          7.760000e+02    1.100015e+06   \n",
       "25%       518.000000      9.000000          5.442250e+03    2.512126e+06   \n",
       "50%      1085.000000     22.000000          1.166550e+04    3.146280e+06   \n",
       "75%      2635.000000     54.000000          2.566375e+04    4.119190e+06   \n",
       "max    976214.000000  39352.000000          1.232523e+07    5.300108e+06   \n",
       "\n",
       "       confirmed_per_100k_inhabitants   death_rate  \n",
       "count                     5570.000000  5589.000000  \n",
       "mean                     11403.035463     0.022913  \n",
       "std                       6275.323937     0.014855  \n",
       "min                        178.954900     0.000000  \n",
       "25%                       6962.299600     0.013900  \n",
       "50%                      10347.400315     0.020300  \n",
       "75%                      14449.463822     0.028500  \n",
       "max                      51915.708810     0.266700  "
      ]
     },
     "execution_count": 34,
     "metadata": {},
     "output_type": "execute_result"
    }
   ],
   "source": [
    "casos_br_df.describe()"
   ]
  },
  {
   "cell_type": "markdown",
   "metadata": {},
   "source": [
    "Quanto à média de casos, a brasileira é 4213.79 e a paraibana é 1930.98 (Paraíba bem abaixo da média nacional).\n",
    "Quanto à média de mortes, a brasileira é 110.10 e a paraibana é 40.97 (Paraíba bem abaixo da média nacional).\n",
    "Quanto à média de casos a cada 100 mil habitantes, a brasileira é 11403.03 e a paraibana é 9242.32 (Paraíba um tanto abaixo da média nacional).\n",
    "Quanto à mortalidade média, a brasileira é 0.0229 e a paraibana é 0.0185 (Paraíba um tanto abaixo da média nacional)."
   ]
  },
  {
   "cell_type": "code",
   "execution_count": 35,
   "metadata": {},
   "outputs": [
    {
     "data": {
      "image/png": "[encoded data removed]",
      "text/plain": [
       "<Figure size 1440x576 with 1 Axes>"
      ]
     },
     "metadata": {},
     "output_type": "display_data"
    }
   ],
   "source": [
    "data_cp100k = [casos_pb_df.confirmed_per_100k_inhabitants, casos_br_df.confirmed_per_100k_inhabitants]\n",
    "headers_cp100k = ['Paraíba', 'Brasil']\n",
    "\n",
    "compare_cp100k = pd.concat(data_cp100k, axis = 1, keys = headers_cp100k)\n",
    "\n",
    "bp_cp100k = sns.boxplot(data = compare_cp100k, orient = 'h', palette = 'Set2', order = ['Paraíba', 'Brasil'])\n",
    "bp_cp100k.set_title('Boxplot Paraíba x Brasil - Casos a cada 100 mil habitantes', fontsize = 28)\n",
    "bp_cp100k.set_xlabel('Nº de casos confirmados por 100 mil habitantes', fontsize = 20)\n",
    "bp_cp100k.figure.set_size_inches(20, 8)\n",
    "bp_cp100k.tick_params(labelsize = 16)"
   ]
  },
  {
   "cell_type": "markdown",
   "metadata": {},
   "source": [
    "Vemos que, quanto aos casos a cada 100 mil habitantes, a Paraíba ficou bem, comparada ao cenário nacional. Os valores de primeiro quartil são aproximadamente iguais e os de mediana são muito próximos. O terceiro quartil do boxplot paraibano já fica um pouco mais atrás do nacional, e não há presença de outliers, ao contrário do outro."
   ]
  },
  {
   "cell_type": "code",
   "execution_count": 36,
   "metadata": {},
   "outputs": [
    {
     "data": {
      "image/png": "[encoded data removed]",
      "text/plain": [
       "<Figure size 1440x576 with 1 Axes>"
      ]
     },
     "metadata": {},
     "output_type": "display_data"
    }
   ],
   "source": [
    "data_dr = [casos_pb_df.death_rate, casos_br_df.death_rate]\n",
    "headers_dr = ['Paraíba', 'Brasil']\n",
    "\n",
    "compare_dr = pd.concat(data_dr, axis = 1, keys = headers_dr)\n",
    "\n",
    "bp_dr = sns.boxplot(data = compare_dr, orient = 'h', palette = 'Set2', order = ['Paraíba', 'Brasil'])\n",
    "bp_dr.set_title('Boxplot Paraíba x Brasil - Taxa de mortalidade', fontsize = 28)\n",
    "bp_dr.set_xlabel('Taxa de mortalidade', fontsize = 20)\n",
    "bp_dr.figure.set_size_inches(20, 8)\n",
    "bp_dr.tick_params(labelsize = 16)"
   ]
  },
  {
   "cell_type": "markdown",
   "metadata": {},
   "source": [
    "Já para o boxplot da variável mortalidade, o gráfico paraibano se assemelha bem mais ao brasileiro. Nele, podemos observar a presença de municípios paraibanos que são outliers não só a nível estadual, mas também a nível nacional.\n",
    "\n",
    "Como temos valores outliers para a mortalidade, mas não para a quantidade de casos a cada 100 mil habitantes, podemos concluir que existem na Paraíba municípios onde a mortalidade pela COVID-19 foi desproporcional à quantidade de casos. Ou seja, morreram mais pessoas do que deveriam."
   ]
  }
 ],
 "metadata": {
  "kernelspec": {
   "display_name": "Python 3.9.7 ('base')",
   "language": "python",
   "name": "python3"
  },
  "language_info": {
   "codemirror_mode": {
    "name": "ipython",
    "version": 3
   },
   "file_extension": ".py",
   "mimetype": "text/x-python",
   "name": "python",
   "nbconvert_exporter": "python",
   "pygments_lexer": "ipython3",
   "version": "3.9.7"
  },
  "orig_nbformat": 4,
  "vscode": {
   "interpreter": {
    "hash": "4e7e4edc79d43486975e43ffb9f70caa5d73df88ab12157b795d6266fbee6759"
   }
  }
 },
 "nbformat": 4,
 "nbformat_minor": 2
}
